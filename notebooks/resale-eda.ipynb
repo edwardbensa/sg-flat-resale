{
 "cells": [
  {
   "cell_type": "markdown",
   "id": "26847fe8",
   "metadata": {},
   "source": [
    "# Singapore Flat Resale Prices 1990-Present"
   ]
  },
  {
   "cell_type": "markdown",
   "id": "8cb31996",
   "metadata": {},
   "source": [
    "- Month - Month of sale\n",
    "- Type - Designated residential area with its own amenities, infrastructure, and community facilities\n",
    "- Flat Type - Classification of units by room size. They range from 2 to 5 rooms, 3Gen units, and Executive units.\n",
    "- Block - A HDB building comprising multiple flats or apartments\n",
    "- Street Name - Name of the road the HDB flat is located along\n",
    "- Storey Range - Estimated range of floors the unit sold was located on\n",
    "- Floor Area - Total interior space within the unit, measured in square meters\n",
    "- Flat Model - Classification of units by generation of which the flat was made, ranging from New Generation, DBSS, Improved, Apartment\n",
    "- Lease Commence Date - Starting point of a lease agreement, marking the beginning of the lease term during which the tenant has the right to use and occupy the leased property\n",
    "- Resale Price - Cost of the flat sold"
   ]
  },
  {
   "cell_type": "code",
   "execution_count": 1,
   "id": "7fc5098a",
   "metadata": {},
   "outputs": [
    {
     "name": "stderr",
     "output_type": "stream",
     "text": [
      "\u001b[32m2025-07-24 19:52:33.398\u001b[0m | \u001b[1mINFO    \u001b[0m | \u001b[36msrc.config\u001b[0m:\u001b[36m<module>\u001b[0m:\u001b[36m11\u001b[0m - \u001b[1mPROJ_ROOT path is: /Users/Edward/Documents/GitHub/sg-flat-resale\u001b[0m\n"
     ]
    }
   ],
   "source": [
    "from src.config import PROCESSED_DATA_DIR, EXTERNAL_DATA_DIR, FIGURES_DIR\n",
    "import pandas as pd\n",
    "import geopandas as gpd\n",
    "import numpy as np"
   ]
  },
  {
   "cell_type": "code",
   "execution_count": 2,
   "id": "55161f76",
   "metadata": {},
   "outputs": [
    {
     "data": {
      "application/vnd.microsoft.datawrangler.viewer.v0+json": {
       "columns": [
        {
         "name": "index",
         "rawType": "int64",
         "type": "integer"
        },
        {
         "name": "date",
         "rawType": "datetime64[ns]",
         "type": "datetime"
        },
        {
         "name": "year",
         "rawType": "int64",
         "type": "integer"
        },
        {
         "name": "month",
         "rawType": "int64",
         "type": "integer"
        },
        {
         "name": "region",
         "rawType": "object",
         "type": "string"
        },
        {
         "name": "town",
         "rawType": "object",
         "type": "string"
        },
        {
         "name": "flat_type",
         "rawType": "object",
         "type": "string"
        },
        {
         "name": "flat_model",
         "rawType": "object",
         "type": "string"
        },
        {
         "name": "storey_count",
         "rawType": "int64",
         "type": "integer"
        },
        {
         "name": "start_floor",
         "rawType": "int64",
         "type": "integer"
        },
        {
         "name": "floor_area_sqm",
         "rawType": "float64",
         "type": "float"
        },
        {
         "name": "lease_year",
         "rawType": "int64",
         "type": "integer"
        },
        {
         "name": "years_leased",
         "rawType": "int64",
         "type": "integer"
        },
        {
         "name": "resale_price",
         "rawType": "float64",
         "type": "float"
        },
        {
         "name": "infl_adj_price",
         "rawType": "float64",
         "type": "float"
        }
       ],
       "ref": "6cd5e097-fb92-41e3-a0ff-107a820b0382",
       "rows": [
        [
         "0",
         "1990-01-01 00:00:00",
         "1990",
         "1",
         "North-East",
         "Ang Mo Kio",
         "1 Room",
         "Improved",
         "2",
         "10",
         "31.0",
         "1977",
         "13",
         "9000.0",
         "17252.5"
        ],
        [
         "1",
         "1990-01-01 00:00:00",
         "1990",
         "1",
         "North-East",
         "Ang Mo Kio",
         "1 Room",
         "Improved",
         "2",
         "4",
         "31.0",
         "1977",
         "13",
         "6000.0",
         "11501.7"
        ],
        [
         "2",
         "1990-01-01 00:00:00",
         "1990",
         "1",
         "North-East",
         "Ang Mo Kio",
         "1 Room",
         "Improved",
         "2",
         "10",
         "31.0",
         "1977",
         "13",
         "8000.0",
         "15335.6"
        ],
        [
         "3",
         "1990-01-01 00:00:00",
         "1990",
         "1",
         "North-East",
         "Ang Mo Kio",
         "1 Room",
         "Improved",
         "2",
         "7",
         "31.0",
         "1977",
         "13",
         "6000.0",
         "11501.7"
        ],
        [
         "4",
         "1990-01-01 00:00:00",
         "1990",
         "1",
         "North-East",
         "Ang Mo Kio",
         "3 Room",
         "New Generation",
         "2",
         "4",
         "73.0",
         "1976",
         "14",
         "47200.0",
         "90480.0"
        ]
       ],
       "shape": {
        "columns": 14,
        "rows": 5
       }
      },
      "text/html": [
       "<div>\n",
       "<style scoped>\n",
       "    .dataframe tbody tr th:only-of-type {\n",
       "        vertical-align: middle;\n",
       "    }\n",
       "\n",
       "    .dataframe tbody tr th {\n",
       "        vertical-align: top;\n",
       "    }\n",
       "\n",
       "    .dataframe thead th {\n",
       "        text-align: right;\n",
       "    }\n",
       "</style>\n",
       "<table border=\"1\" class=\"dataframe\">\n",
       "  <thead>\n",
       "    <tr style=\"text-align: right;\">\n",
       "      <th></th>\n",
       "      <th>date</th>\n",
       "      <th>year</th>\n",
       "      <th>month</th>\n",
       "      <th>region</th>\n",
       "      <th>town</th>\n",
       "      <th>flat_type</th>\n",
       "      <th>flat_model</th>\n",
       "      <th>storey_count</th>\n",
       "      <th>start_floor</th>\n",
       "      <th>floor_area_sqm</th>\n",
       "      <th>lease_year</th>\n",
       "      <th>years_leased</th>\n",
       "      <th>resale_price</th>\n",
       "      <th>infl_adj_price</th>\n",
       "    </tr>\n",
       "  </thead>\n",
       "  <tbody>\n",
       "    <tr>\n",
       "      <th>0</th>\n",
       "      <td>1990-01-01</td>\n",
       "      <td>1990</td>\n",
       "      <td>1</td>\n",
       "      <td>North-East</td>\n",
       "      <td>Ang Mo Kio</td>\n",
       "      <td>1 Room</td>\n",
       "      <td>Improved</td>\n",
       "      <td>2</td>\n",
       "      <td>10</td>\n",
       "      <td>31.0</td>\n",
       "      <td>1977</td>\n",
       "      <td>13</td>\n",
       "      <td>9000.0</td>\n",
       "      <td>17252.5</td>\n",
       "    </tr>\n",
       "    <tr>\n",
       "      <th>1</th>\n",
       "      <td>1990-01-01</td>\n",
       "      <td>1990</td>\n",
       "      <td>1</td>\n",
       "      <td>North-East</td>\n",
       "      <td>Ang Mo Kio</td>\n",
       "      <td>1 Room</td>\n",
       "      <td>Improved</td>\n",
       "      <td>2</td>\n",
       "      <td>4</td>\n",
       "      <td>31.0</td>\n",
       "      <td>1977</td>\n",
       "      <td>13</td>\n",
       "      <td>6000.0</td>\n",
       "      <td>11501.7</td>\n",
       "    </tr>\n",
       "    <tr>\n",
       "      <th>2</th>\n",
       "      <td>1990-01-01</td>\n",
       "      <td>1990</td>\n",
       "      <td>1</td>\n",
       "      <td>North-East</td>\n",
       "      <td>Ang Mo Kio</td>\n",
       "      <td>1 Room</td>\n",
       "      <td>Improved</td>\n",
       "      <td>2</td>\n",
       "      <td>10</td>\n",
       "      <td>31.0</td>\n",
       "      <td>1977</td>\n",
       "      <td>13</td>\n",
       "      <td>8000.0</td>\n",
       "      <td>15335.6</td>\n",
       "    </tr>\n",
       "    <tr>\n",
       "      <th>3</th>\n",
       "      <td>1990-01-01</td>\n",
       "      <td>1990</td>\n",
       "      <td>1</td>\n",
       "      <td>North-East</td>\n",
       "      <td>Ang Mo Kio</td>\n",
       "      <td>1 Room</td>\n",
       "      <td>Improved</td>\n",
       "      <td>2</td>\n",
       "      <td>7</td>\n",
       "      <td>31.0</td>\n",
       "      <td>1977</td>\n",
       "      <td>13</td>\n",
       "      <td>6000.0</td>\n",
       "      <td>11501.7</td>\n",
       "    </tr>\n",
       "    <tr>\n",
       "      <th>4</th>\n",
       "      <td>1990-01-01</td>\n",
       "      <td>1990</td>\n",
       "      <td>1</td>\n",
       "      <td>North-East</td>\n",
       "      <td>Ang Mo Kio</td>\n",
       "      <td>3 Room</td>\n",
       "      <td>New Generation</td>\n",
       "      <td>2</td>\n",
       "      <td>4</td>\n",
       "      <td>73.0</td>\n",
       "      <td>1976</td>\n",
       "      <td>14</td>\n",
       "      <td>47200.0</td>\n",
       "      <td>90480.0</td>\n",
       "    </tr>\n",
       "  </tbody>\n",
       "</table>\n",
       "</div>"
      ],
      "text/plain": [
       "        date  year  month      region        town flat_type      flat_model  \\\n",
       "0 1990-01-01  1990      1  North-East  Ang Mo Kio    1 Room        Improved   \n",
       "1 1990-01-01  1990      1  North-East  Ang Mo Kio    1 Room        Improved   \n",
       "2 1990-01-01  1990      1  North-East  Ang Mo Kio    1 Room        Improved   \n",
       "3 1990-01-01  1990      1  North-East  Ang Mo Kio    1 Room        Improved   \n",
       "4 1990-01-01  1990      1  North-East  Ang Mo Kio    3 Room  New Generation   \n",
       "\n",
       "   storey_count  start_floor  floor_area_sqm  lease_year  years_leased  \\\n",
       "0             2           10            31.0        1977            13   \n",
       "1             2            4            31.0        1977            13   \n",
       "2             2           10            31.0        1977            13   \n",
       "3             2            7            31.0        1977            13   \n",
       "4             2            4            73.0        1976            14   \n",
       "\n",
       "   resale_price  infl_adj_price  \n",
       "0        9000.0         17252.5  \n",
       "1        6000.0         11501.7  \n",
       "2        8000.0         15335.6  \n",
       "3        6000.0         11501.7  \n",
       "4       47200.0         90480.0  "
      ]
     },
     "execution_count": 2,
     "metadata": {},
     "output_type": "execute_result"
    }
   ],
   "source": [
    "# Import geojson file\n",
    "town_geo = gpd.read_file(EXTERNAL_DATA_DIR / 'district_and_planning_area.geojson')\n",
    "\n",
    "# Import and load cleaned data\n",
    "filename = PROCESSED_DATA_DIR / 'ResaleFlatPrices-Processed.csv'\n",
    "df = pd.read_csv(PROCESSED_DATA_DIR / filename)\n",
    "df['date'] = pd.to_datetime(df['date'])\n",
    "df.head()"
   ]
  },
  {
   "cell_type": "markdown",
   "id": "14d3e52a",
   "metadata": {},
   "source": [
    "## Exploratory Data Analysis"
   ]
  },
  {
   "cell_type": "code",
   "execution_count": 15,
   "id": "45909731",
   "metadata": {},
   "outputs": [],
   "source": [
    "import matplotlib.pyplot as plt\n",
    "import matplotlib.colors as mcolors\n",
    "import seaborn as sns\n",
    "import plotly.express as px\n",
    "import plotly.graph_objects as go\n",
    "from plotly.subplots import make_subplots"
   ]
  },
  {
   "cell_type": "markdown",
   "id": "beaf7600",
   "metadata": {},
   "source": [
    "#### Questions\n",
    "- By how much have resale prices increased over the years?\n",
    "- By how much do resale prices differ across towns, flat types, and flat models?\n",
    "- Does the number of years leased significantly affect resale prices? If so, by how much? Does the lease commence date have more of an impact than the number of years leased?\n",
    "- How much resale price volatility exists across towns, flat types, and flat models?\n",
    "- Do the storey ranges significantly affect resale prices? Presumably, higher floors could cost more; or less, depending on the flat type. It could be that it's undesirable for multigenerational flats to be on higher floors since elderly people would also be residents\n",
    "- What geospatial data analysis can be done here? Surely, the house prices must be correlated geographically.\n",
    "- Does the pricing of the flat types over time follow Weber's law?"
   ]
  },
  {
   "cell_type": "code",
   "execution_count": 16,
   "id": "5410d087",
   "metadata": {},
   "outputs": [],
   "source": [
    "# Create a custom colourmap\n",
    "colours = [\"#ff4500\", \"#faa272\", \"#ffdab9\", \"#0088ff\", \"#003376\"]\n",
    "cmap = mcolors.LinearSegmentedColormap.from_list(\"\", colours)\n",
    "\n",
    "from src.utils.plotting import multi_stop_gradient\n",
    "from src.utils.plotting import catplots\n",
    "from src.utils.misc import bin_numbers"
   ]
  },
  {
   "cell_type": "code",
   "execution_count": null,
   "id": "f5ba5f3a",
   "metadata": {
    "editable": true,
    "slideshow": {
     "slide_type": ""
    },
    "tags": []
   },
   "outputs": [],
   "source": [
    "# Create copy of main dataframe for plotting purposes\n",
    "df_p = df.copy()\n",
    "df_p['year_binned'] = df_p['year'].apply(lambda a: bin_numbers(a, 1990, 10))\n",
    "df_p['lease_year_binned'] = df_p['lease_year'].apply(lambda a: bin_numbers(a, 1960, 10))\n",
    "df_p['years_leased_binned'] = df_p['years_leased'].apply(lambda a: bin_numbers(a, 0, 10))\n",
    "df_p['start_floor_binned'] = df_p['start_floor'].apply(lambda a: bin_numbers(a, 1, 10))\n",
    "df_p['quarter'] = df_p['month'].apply(lambda a: bin_numbers(a, 1, 3))\n",
    "df_p['quarter'] = df_p['quarter'].replace({'1-3': 'Q1', '4-6': 'Q2', '7-9': 'Q3', '10-12': 'Q4',})\n",
    "\n",
    "x_vars = ['year', 'lease_year', 'years_leased', 'month']"
   ]
  },
  {
   "cell_type": "code",
   "execution_count": null,
   "id": "1bf554a4",
   "metadata": {},
   "outputs": [
    {
     "data": {
      "application/vnd.plotly.v1+json": {
       "config": {
        "plotlyServerURL": "https://plot.ly"
       },
       "data": [
        {
         "colorscale": [
          [
           0,
           "rgb(103,0,31)"
          ],
          [
           0.1,
           "rgb(178,24,43)"
          ],
          [
           0.2,
           "rgb(214,96,77)"
          ],
          [
           0.3,
           "rgb(244,165,130)"
          ],
          [
           0.4,
           "rgb(253,219,199)"
          ],
          [
           0.5,
           "rgb(247,247,247)"
          ],
          [
           0.6,
           "rgb(209,229,240)"
          ],
          [
           0.7,
           "rgb(146,197,222)"
          ],
          [
           0.8,
           "rgb(67,147,195)"
          ],
          [
           0.9,
           "rgb(33,102,172)"
          ],
          [
           1,
           "rgb(5,48,97)"
          ]
         ],
         "type": "heatmap",
         "x": [
          "year",
          "floor_area_sqm",
          "storey_count",
          "start_floor",
          "lease_year",
          "years_leased",
          "resale_price",
          "infl_adj_price"
         ],
         "y": [
          "year",
          "floor_area_sqm",
          "storey_count",
          "start_floor",
          "lease_year",
          "years_leased",
          "resale_price",
          "infl_adj_price"
         ],
         "z": [
          [
           1,
           0.06080944075430003,
           0.05013847718952775,
           0.10973313102329747,
           0.4365868451780316,
           0.44110565476624847,
           0.684115180729629,
           0.4800711807350657
          ],
          [
           0.06080944075430003,
           1,
           0.004869464260739372,
           0.041328614876393464,
           0.37587076790176144,
           -0.32164186485925084,
           0.5510272719912176,
           0.6854761828318012
          ],
          [
           0.05013847718952775,
           0.004869464260739372,
           1,
           -0.01784155934765078,
           0.009667694234258242,
           0.034308489430307704,
           0.06346197760849744,
           0.057811663139627344
          ],
          [
           0.10973313102329747,
           0.041328614876393464,
           -0.01784155934765078,
           1,
           0.17602060234409142,
           -0.07939438671484761,
           0.24933819624676434,
           0.24591277421884722
          ],
          [
           0.4365868451780316,
           0.37587076790176144,
           0.009667694234258242,
           0.17602060234409142,
           1,
           -0.6148255024845372,
           0.5421461459736292,
           0.5023026481277358
          ],
          [
           0.44110565476624847,
           -0.32164186485925084,
           0.034308489430307704,
           -0.07939438671484761,
           -0.6148255024845372,
           1,
           0.05889386819075874,
           -0.08022973447759064
          ],
          [
           0.684115180729629,
           0.5510272719912176,
           0.06346197760849744,
           0.24933819624676434,
           0.5421461459736292,
           0.05889386819075874,
           1,
           0.9517497184502828
          ],
          [
           0.4800711807350657,
           0.6854761828318012,
           0.057811663139627344,
           0.24591277421884722,
           0.5023026481277358,
           -0.08022973447759064,
           0.9517497184502828,
           1
          ]
         ],
         "zmax": 1,
         "zmin": -1
        }
       ],
       "layout": {
        "autosize": false,
        "height": 500,
        "margin": {
         "b": 20,
         "l": 20,
         "r": 20,
         "t": 50
        },
        "template": {
         "data": {
          "bar": [
           {
            "error_x": {
             "color": "#2a3f5f"
            },
            "error_y": {
             "color": "#2a3f5f"
            },
            "marker": {
             "line": {
              "color": "#E5ECF6",
              "width": 0.5
             },
             "pattern": {
              "fillmode": "overlay",
              "size": 10,
              "solidity": 0.2
             }
            },
            "type": "bar"
           }
          ],
          "barpolar": [
           {
            "marker": {
             "line": {
              "color": "#E5ECF6",
              "width": 0.5
             },
             "pattern": {
              "fillmode": "overlay",
              "size": 10,
              "solidity": 0.2
             }
            },
            "type": "barpolar"
           }
          ],
          "carpet": [
           {
            "aaxis": {
             "endlinecolor": "#2a3f5f",
             "gridcolor": "white",
             "linecolor": "white",
             "minorgridcolor": "white",
             "startlinecolor": "#2a3f5f"
            },
            "baxis": {
             "endlinecolor": "#2a3f5f",
             "gridcolor": "white",
             "linecolor": "white",
             "minorgridcolor": "white",
             "startlinecolor": "#2a3f5f"
            },
            "type": "carpet"
           }
          ],
          "choropleth": [
           {
            "colorbar": {
             "outlinewidth": 0,
             "ticks": ""
            },
            "type": "choropleth"
           }
          ],
          "contour": [
           {
            "colorbar": {
             "outlinewidth": 0,
             "ticks": ""
            },
            "colorscale": [
             [
              0,
              "#0d0887"
             ],
             [
              0.1111111111111111,
              "#46039f"
             ],
             [
              0.2222222222222222,
              "#7201a8"
             ],
             [
              0.3333333333333333,
              "#9c179e"
             ],
             [
              0.4444444444444444,
              "#bd3786"
             ],
             [
              0.5555555555555556,
              "#d8576b"
             ],
             [
              0.6666666666666666,
              "#ed7953"
             ],
             [
              0.7777777777777778,
              "#fb9f3a"
             ],
             [
              0.8888888888888888,
              "#fdca26"
             ],
             [
              1,
              "#f0f921"
             ]
            ],
            "type": "contour"
           }
          ],
          "contourcarpet": [
           {
            "colorbar": {
             "outlinewidth": 0,
             "ticks": ""
            },
            "type": "contourcarpet"
           }
          ],
          "heatmap": [
           {
            "colorbar": {
             "outlinewidth": 0,
             "ticks": ""
            },
            "colorscale": [
             [
              0,
              "#0d0887"
             ],
             [
              0.1111111111111111,
              "#46039f"
             ],
             [
              0.2222222222222222,
              "#7201a8"
             ],
             [
              0.3333333333333333,
              "#9c179e"
             ],
             [
              0.4444444444444444,
              "#bd3786"
             ],
             [
              0.5555555555555556,
              "#d8576b"
             ],
             [
              0.6666666666666666,
              "#ed7953"
             ],
             [
              0.7777777777777778,
              "#fb9f3a"
             ],
             [
              0.8888888888888888,
              "#fdca26"
             ],
             [
              1,
              "#f0f921"
             ]
            ],
            "type": "heatmap"
           }
          ],
          "histogram": [
           {
            "marker": {
             "pattern": {
              "fillmode": "overlay",
              "size": 10,
              "solidity": 0.2
             }
            },
            "type": "histogram"
           }
          ],
          "histogram2d": [
           {
            "colorbar": {
             "outlinewidth": 0,
             "ticks": ""
            },
            "colorscale": [
             [
              0,
              "#0d0887"
             ],
             [
              0.1111111111111111,
              "#46039f"
             ],
             [
              0.2222222222222222,
              "#7201a8"
             ],
             [
              0.3333333333333333,
              "#9c179e"
             ],
             [
              0.4444444444444444,
              "#bd3786"
             ],
             [
              0.5555555555555556,
              "#d8576b"
             ],
             [
              0.6666666666666666,
              "#ed7953"
             ],
             [
              0.7777777777777778,
              "#fb9f3a"
             ],
             [
              0.8888888888888888,
              "#fdca26"
             ],
             [
              1,
              "#f0f921"
             ]
            ],
            "type": "histogram2d"
           }
          ],
          "histogram2dcontour": [
           {
            "colorbar": {
             "outlinewidth": 0,
             "ticks": ""
            },
            "colorscale": [
             [
              0,
              "#0d0887"
             ],
             [
              0.1111111111111111,
              "#46039f"
             ],
             [
              0.2222222222222222,
              "#7201a8"
             ],
             [
              0.3333333333333333,
              "#9c179e"
             ],
             [
              0.4444444444444444,
              "#bd3786"
             ],
             [
              0.5555555555555556,
              "#d8576b"
             ],
             [
              0.6666666666666666,
              "#ed7953"
             ],
             [
              0.7777777777777778,
              "#fb9f3a"
             ],
             [
              0.8888888888888888,
              "#fdca26"
             ],
             [
              1,
              "#f0f921"
             ]
            ],
            "type": "histogram2dcontour"
           }
          ],
          "mesh3d": [
           {
            "colorbar": {
             "outlinewidth": 0,
             "ticks": ""
            },
            "type": "mesh3d"
           }
          ],
          "parcoords": [
           {
            "line": {
             "colorbar": {
              "outlinewidth": 0,
              "ticks": ""
             }
            },
            "type": "parcoords"
           }
          ],
          "pie": [
           {
            "automargin": true,
            "type": "pie"
           }
          ],
          "scatter": [
           {
            "fillpattern": {
             "fillmode": "overlay",
             "size": 10,
             "solidity": 0.2
            },
            "type": "scatter"
           }
          ],
          "scatter3d": [
           {
            "line": {
             "colorbar": {
              "outlinewidth": 0,
              "ticks": ""
             }
            },
            "marker": {
             "colorbar": {
              "outlinewidth": 0,
              "ticks": ""
             }
            },
            "type": "scatter3d"
           }
          ],
          "scattercarpet": [
           {
            "marker": {
             "colorbar": {
              "outlinewidth": 0,
              "ticks": ""
             }
            },
            "type": "scattercarpet"
           }
          ],
          "scattergeo": [
           {
            "marker": {
             "colorbar": {
              "outlinewidth": 0,
              "ticks": ""
             }
            },
            "type": "scattergeo"
           }
          ],
          "scattergl": [
           {
            "marker": {
             "colorbar": {
              "outlinewidth": 0,
              "ticks": ""
             }
            },
            "type": "scattergl"
           }
          ],
          "scattermap": [
           {
            "marker": {
             "colorbar": {
              "outlinewidth": 0,
              "ticks": ""
             }
            },
            "type": "scattermap"
           }
          ],
          "scattermapbox": [
           {
            "marker": {
             "colorbar": {
              "outlinewidth": 0,
              "ticks": ""
             }
            },
            "type": "scattermapbox"
           }
          ],
          "scatterpolar": [
           {
            "marker": {
             "colorbar": {
              "outlinewidth": 0,
              "ticks": ""
             }
            },
            "type": "scatterpolar"
           }
          ],
          "scatterpolargl": [
           {
            "marker": {
             "colorbar": {
              "outlinewidth": 0,
              "ticks": ""
             }
            },
            "type": "scatterpolargl"
           }
          ],
          "scatterternary": [
           {
            "marker": {
             "colorbar": {
              "outlinewidth": 0,
              "ticks": ""
             }
            },
            "type": "scatterternary"
           }
          ],
          "surface": [
           {
            "colorbar": {
             "outlinewidth": 0,
             "ticks": ""
            },
            "colorscale": [
             [
              0,
              "#0d0887"
             ],
             [
              0.1111111111111111,
              "#46039f"
             ],
             [
              0.2222222222222222,
              "#7201a8"
             ],
             [
              0.3333333333333333,
              "#9c179e"
             ],
             [
              0.4444444444444444,
              "#bd3786"
             ],
             [
              0.5555555555555556,
              "#d8576b"
             ],
             [
              0.6666666666666666,
              "#ed7953"
             ],
             [
              0.7777777777777778,
              "#fb9f3a"
             ],
             [
              0.8888888888888888,
              "#fdca26"
             ],
             [
              1,
              "#f0f921"
             ]
            ],
            "type": "surface"
           }
          ],
          "table": [
           {
            "cells": {
             "fill": {
              "color": "#EBF0F8"
             },
             "line": {
              "color": "white"
             }
            },
            "header": {
             "fill": {
              "color": "#C8D4E3"
             },
             "line": {
              "color": "white"
             }
            },
            "type": "table"
           }
          ]
         },
         "layout": {
          "annotationdefaults": {
           "arrowcolor": "#2a3f5f",
           "arrowhead": 0,
           "arrowwidth": 1
          },
          "autotypenumbers": "strict",
          "coloraxis": {
           "colorbar": {
            "outlinewidth": 0,
            "ticks": ""
           }
          },
          "colorscale": {
           "diverging": [
            [
             0,
             "#8e0152"
            ],
            [
             0.1,
             "#c51b7d"
            ],
            [
             0.2,
             "#de77ae"
            ],
            [
             0.3,
             "#f1b6da"
            ],
            [
             0.4,
             "#fde0ef"
            ],
            [
             0.5,
             "#f7f7f7"
            ],
            [
             0.6,
             "#e6f5d0"
            ],
            [
             0.7,
             "#b8e186"
            ],
            [
             0.8,
             "#7fbc41"
            ],
            [
             0.9,
             "#4d9221"
            ],
            [
             1,
             "#276419"
            ]
           ],
           "sequential": [
            [
             0,
             "#0d0887"
            ],
            [
             0.1111111111111111,
             "#46039f"
            ],
            [
             0.2222222222222222,
             "#7201a8"
            ],
            [
             0.3333333333333333,
             "#9c179e"
            ],
            [
             0.4444444444444444,
             "#bd3786"
            ],
            [
             0.5555555555555556,
             "#d8576b"
            ],
            [
             0.6666666666666666,
             "#ed7953"
            ],
            [
             0.7777777777777778,
             "#fb9f3a"
            ],
            [
             0.8888888888888888,
             "#fdca26"
            ],
            [
             1,
             "#f0f921"
            ]
           ],
           "sequentialminus": [
            [
             0,
             "#0d0887"
            ],
            [
             0.1111111111111111,
             "#46039f"
            ],
            [
             0.2222222222222222,
             "#7201a8"
            ],
            [
             0.3333333333333333,
             "#9c179e"
            ],
            [
             0.4444444444444444,
             "#bd3786"
            ],
            [
             0.5555555555555556,
             "#d8576b"
            ],
            [
             0.6666666666666666,
             "#ed7953"
            ],
            [
             0.7777777777777778,
             "#fb9f3a"
            ],
            [
             0.8888888888888888,
             "#fdca26"
            ],
            [
             1,
             "#f0f921"
            ]
           ]
          },
          "colorway": [
           "#636efa",
           "#EF553B",
           "#00cc96",
           "#ab63fa",
           "#FFA15A",
           "#19d3f3",
           "#FF6692",
           "#B6E880",
           "#FF97FF",
           "#FECB52"
          ],
          "font": {
           "color": "#2a3f5f"
          },
          "geo": {
           "bgcolor": "white",
           "lakecolor": "white",
           "landcolor": "#E5ECF6",
           "showlakes": true,
           "showland": true,
           "subunitcolor": "white"
          },
          "hoverlabel": {
           "align": "left"
          },
          "hovermode": "closest",
          "mapbox": {
           "style": "light"
          },
          "paper_bgcolor": "white",
          "plot_bgcolor": "#E5ECF6",
          "polar": {
           "angularaxis": {
            "gridcolor": "white",
            "linecolor": "white",
            "ticks": ""
           },
           "bgcolor": "#E5ECF6",
           "radialaxis": {
            "gridcolor": "white",
            "linecolor": "white",
            "ticks": ""
           }
          },
          "scene": {
           "xaxis": {
            "backgroundcolor": "#E5ECF6",
            "gridcolor": "white",
            "gridwidth": 2,
            "linecolor": "white",
            "showbackground": true,
            "ticks": "",
            "zerolinecolor": "white"
           },
           "yaxis": {
            "backgroundcolor": "#E5ECF6",
            "gridcolor": "white",
            "gridwidth": 2,
            "linecolor": "white",
            "showbackground": true,
            "ticks": "",
            "zerolinecolor": "white"
           },
           "zaxis": {
            "backgroundcolor": "#E5ECF6",
            "gridcolor": "white",
            "gridwidth": 2,
            "linecolor": "white",
            "showbackground": true,
            "ticks": "",
            "zerolinecolor": "white"
           }
          },
          "shapedefaults": {
           "line": {
            "color": "#2a3f5f"
           }
          },
          "ternary": {
           "aaxis": {
            "gridcolor": "white",
            "linecolor": "white",
            "ticks": ""
           },
           "baxis": {
            "gridcolor": "white",
            "linecolor": "white",
            "ticks": ""
           },
           "bgcolor": "#E5ECF6",
           "caxis": {
            "gridcolor": "white",
            "linecolor": "white",
            "ticks": ""
           }
          },
          "title": {
           "x": 0.05
          },
          "xaxis": {
           "automargin": true,
           "gridcolor": "white",
           "linecolor": "white",
           "ticks": "",
           "title": {
            "standoff": 15
           },
           "zerolinecolor": "white",
           "zerolinewidth": 2
          },
          "yaxis": {
           "automargin": true,
           "gridcolor": "white",
           "linecolor": "white",
           "ticks": "",
           "title": {
            "standoff": 15
           },
           "zerolinecolor": "white",
           "zerolinewidth": 2
          }
         }
        },
        "title": {
         "text": "Correlations Between Numerical Variables",
         "x": 0.03
        },
        "width": 1000
       }
      }
     },
     "metadata": {},
     "output_type": "display_data"
    }
   ],
   "source": [
    "cr = df[['year', 'floor_area_sqm', 'storey_count', 'start_floor',\n",
    "         'lease_year', 'years_leased', 'resale_price', 'infl_adj_price']].corr(method='pearson')\n",
    "\n",
    "fig = go.Figure(go.Heatmap(\n",
    "    x=cr.columns,\n",
    "    y=cr.columns,\n",
    "    z=cr.values.tolist(),\n",
    "    colorscale='RdBu', zmin=-1, zmax=1\n",
    "))\n",
    "\n",
    "# Set plot size and add title\n",
    "fig.update_layout(\n",
    "    autosize=False,\n",
    "    title=dict(text='Correlations Between Numerical Variables', x=0.03),\n",
    "    width=1000,\n",
    "    height=500,\n",
    "    margin=dict(l=20, r=20, t=50, b=20),\n",
    ")\n",
    "\n",
    "fig.show()"
   ]
  },
  {
   "cell_type": "markdown",
   "id": "e9aa5899-7e86-4c78-b2f0-047375071dfa",
   "metadata": {},
   "source": [
    "### Units Resold\n",
    "Explorations of the number of units resold"
   ]
  },
  {
   "cell_type": "code",
   "execution_count": 17,
   "id": "39eca686",
   "metadata": {},
   "outputs": [
    {
     "data": {
      "application/vnd.plotly.v1+json": {
       "config": {
        "plotlyServerURL": "https://plot.ly"
       },
       "data": [
        {
         "legendgroup": "1 Room",
         "line": {
          "color": "#ff4500"
         },
         "mode": "lines",
         "name": "1 Room",
         "showlegend": true,
         "type": "scatter",
         "visible": true,
         "x": {
          "bdata": "xgfHB8gHyQfKB8sHzAfNB84HzwfQB9EH0gfTB9QH1QfWB9cH2AfZB9oH2wfcB90H3gffB+AH4QfiB+MH5AflB+YH5wfoBw==",
          "dtype": "i2"
         },
         "xaxis": "x",
         "y": {
          "bdata": "SgAzADEANABRAE8AbgBwAFAAiwAvADQANwArABUAFwAYAA4AEwASABUAEAAQAAYAFAAJAAUACQAJAAsACgAJAAoABgAKAA==",
          "dtype": "i2"
         },
         "yaxis": "y"
        },
        {
         "legendgroup": "2 Room",
         "line": {
          "color": "#fc834c"
         },
         "mode": "lines",
         "name": "2 Room",
         "showlegend": true,
         "type": "scatter",
         "visible": true,
         "x": {
          "bdata": "xgfHB8gHyQfKB8sHzAfNB84HzwfQB9EH0gfTB9QH1QfWB9cH2AfZB9oH2wfcB90H3gffB+AH4QfiB+MH5AflB+YH5wfoBw==",
          "dtype": "i2"
         },
         "xaxis": "x",
         "y": {
          "bdata": "SAHpACABYQGiAbcBXAL/AdoB7AEWAUQBRQEZAWkBOgEqAe0A9AAPAVUB/QDlANAAqwCSAMoA2wAeAZ4BogGBAcgBsALlAg==",
          "dtype": "i2"
         },
         "yaxis": "y"
        },
        {
         "legendgroup": "3 Room",
         "line": {
          "color": "#fcb58a"
         },
         "mode": "lines",
         "name": "3 Room",
         "showlegend": true,
         "type": "scatter",
         "visible": true,
         "x": {
          "bdata": "xgfHB8gHyQfKB8sHzAfNB84HzwfQB9EH0gfTB9QH1QfWB9cH2AfZB9oH2wfcB90H3gffB+AH4QfiB+MH5AflB+YH5wfoBw==",
          "dtype": "i2"
         },
         "xaxis": "x",
         "y": {
          "bdata": "UBumGucbuB7YKhEq1TjMKd9G0EqHMHEt6ynPJn4ohyYnItod9h0FIbom5hgiGc0SrxN3E64TtxP/Ey8VCBV6GL8Y0xiUGA==",
          "dtype": "i2"
         },
         "yaxis": "y"
        },
        {
         "legendgroup": "4 Room",
         "line": {
          "color": "#ffdab9"
         },
         "mode": "lines",
         "name": "4 Room",
         "showlegend": true,
         "type": "scatter",
         "visible": true,
         "x": {
          "bdata": "xgfHB8gHyQfKB8sHzAfNB84HzwfQB9EH0gfTB9QH1QfWB9cH2AfZB9oH2wfcB90H3gffB+AH4QfiB+MH5AflB+YH5wfoBw==",
          "dtype": "i2"
         },
         "xaxis": "x",
         "y": {
          "bdata": "4gtMDTAQNhV7IHwlTDCiMNxJflE0M7E7KzkvLnotLC5ZKCAnNidyK4oyGCCRIhUYuxjkG3IfnCFBIgwkryU6MC0sXSwqKw==",
          "dtype": "i2"
         },
         "yaxis": "y"
        },
        {
         "legendgroup": "5 Room",
         "line": {
          "color": "#55a3e8"
         },
         "mode": "lines",
         "name": "5 Room",
         "showlegend": true,
         "type": "scatter",
         "visible": true,
         "x": {
          "bdata": "xgfHB8gHyQfKB8sHzAfNB84HzwfQB9EH0gfTB9QH1QfWB9cH2AfZB9oH2wfcB90H3gffB+AH4QfiB+MH5AflB+YH5wfoBw==",
          "dtype": "i2"
         },
         "xaxis": "x",
         "y": {
          "bdata": "ZAaVBucHnAvdEd8RzBOSFW8jOCs3GZgeDB6HFBMU2hdfF0Ia6xsuIAEi5hXVFfgNjA02EOkRihNvFTMVYBd8Hjka0xZ8Fw==",
          "dtype": "i2"
         },
         "yaxis": "y"
        },
        {
         "legendgroup": "Executive",
         "line": {
          "color": "#006cd1"
         },
         "mode": "lines",
         "name": "Executive",
         "showlegend": true,
         "type": "scatter",
         "visible": true,
         "x": {
          "bdata": "xgfHB8gHyQfKB8sHzAfNB84HzwfQB9EH0gfTB9QH1QfWB9cH2AfZB9oH2wfcB90H3gffB+AH4QfiB+MH5AflB+YH5wfoBw==",
          "dtype": "i2"
         },
         "xaxis": "x",
         "y": {
          "bdata": "sQGRAkEDcgWrBwAHfwh7CSURnRfjCV4LXQp2BiEGbgf1BxoJUQhDCWsLDQcVCCoFKARHBdEFWAZUB4UGWgfTCF0H3wVoBg==",
          "dtype": "i2"
         },
         "yaxis": "y"
        },
        {
         "legendgroup": "Multi-Generation",
         "line": {
          "color": "#003376"
         },
         "mode": "lines",
         "name": "Multi-Generation",
         "showlegend": true,
         "type": "scatter",
         "visible": true,
         "x": {
          "bdata": "xwfIB8kHygfLB8wHzQfOB88H0AfRB9IH0wfUB9UH1gfXB9gH2QfaB9sH3AfdB94H3wfgB+EH4gfjB+QH5QfmB+cH6Ac=",
          "dtype": "i2"
         },
         "xaxis": "x",
         "y": {
          "bdata": "AhYyJRsuJR4cFBcHDAwFDRUPCQwKDAcDAQQEDw4IEgwDBg==",
          "dtype": "i1"
         },
         "yaxis": "y"
        },
        {
         "legendgroup": "All",
         "line": {
          "color": "gray"
         },
         "mode": "lines",
         "name": "All",
         "showlegend": true,
         "type": "scatter",
         "visible": true,
         "x": {
          "bdata": "xgfHB8gHyQfKB8sHzAfNB84HzwfQB9EH0gfTB9QH1QfWB9cH2AfZB9oH2wfcB90H3gffB+AH4QfiB+MH5AflB+YH5wfoBw==",
          "dtype": "i2"
         },
         "xaxis": "x2",
         "y": {
          "bdata": "2TAAADYyAACmOAAAw0YAAPNmAACNagAAZIgAAA98AACXxwAAtuEAAC6IAACnlAAAAo0AAEtxAAC2cQAAUXUAACNrAABmaQAAfmoAABJ3AAAmiAAACFcAAJ5aAADhPgAA4D4AAHRFAACtSwAAHVAAADlUAACqVgAAJVsAAJ9xAABgaAAAm2QAAJdkAAA=",
          "dtype": "i4"
         },
         "yaxis": "y2"
        },
        {
         "legendgroup": "1 Room",
         "marker": {
          "color": "#ff4500"
         },
         "name": "1 Room",
         "showlegend": true,
         "type": "bar",
         "visible": false,
         "x": {
          "bdata": "xgfHB8gHyQfKB8sHzAfNB84HzwfQB9EH0gfTB9QH1QfWB9cH2AfZB9oH2wfcB90H3gffB+AH4QfiB+MH5AflB+YH5wfoBw==",
          "dtype": "i2"
         },
         "xaxis": "x",
         "y": {
          "bdata": "SgAzADEANABRAE8AbgBwAFAAiwAvADQANwArABUAFwAYAA4AEwASABUAEAAQAAYAFAAJAAUACQAJAAsACgAJAAoABgAKAA==",
          "dtype": "i2"
         },
         "yaxis": "y"
        },
        {
         "legendgroup": "2 Room",
         "marker": {
          "color": "#fc834c"
         },
         "name": "2 Room",
         "showlegend": true,
         "type": "bar",
         "visible": false,
         "x": {
          "bdata": "xgfHB8gHyQfKB8sHzAfNB84HzwfQB9EH0gfTB9QH1QfWB9cH2AfZB9oH2wfcB90H3gffB+AH4QfiB+MH5AflB+YH5wfoBw==",
          "dtype": "i2"
         },
         "xaxis": "x",
         "y": {
          "bdata": "SAHpACABYQGiAbcBXAL/AdoB7AEWAUQBRQEZAWkBOgEqAe0A9AAPAVUB/QDlANAAqwCSAMoA2wAeAZ4BogGBAcgBsALlAg==",
          "dtype": "i2"
         },
         "yaxis": "y"
        },
        {
         "legendgroup": "3 Room",
         "marker": {
          "color": "#fcb58a"
         },
         "name": "3 Room",
         "showlegend": true,
         "type": "bar",
         "visible": false,
         "x": {
          "bdata": "xgfHB8gHyQfKB8sHzAfNB84HzwfQB9EH0gfTB9QH1QfWB9cH2AfZB9oH2wfcB90H3gffB+AH4QfiB+MH5AflB+YH5wfoBw==",
          "dtype": "i2"
         },
         "xaxis": "x",
         "y": {
          "bdata": "UBumGucbuB7YKhEq1TjMKd9G0EqHMHEt6ynPJn4ohyYnItod9h0FIbom5hgiGc0SrxN3E64TtxP/Ey8VCBV6GL8Y0xiUGA==",
          "dtype": "i2"
         },
         "yaxis": "y"
        },
        {
         "legendgroup": "4 Room",
         "marker": {
          "color": "#ffdab9"
         },
         "name": "4 Room",
         "showlegend": true,
         "type": "bar",
         "visible": false,
         "x": {
          "bdata": "xgfHB8gHyQfKB8sHzAfNB84HzwfQB9EH0gfTB9QH1QfWB9cH2AfZB9oH2wfcB90H3gffB+AH4QfiB+MH5AflB+YH5wfoBw==",
          "dtype": "i2"
         },
         "xaxis": "x",
         "y": {
          "bdata": "4gtMDTAQNhV7IHwlTDCiMNxJflE0M7E7KzkvLnotLC5ZKCAnNidyK4oyGCCRIhUYuxjkG3IfnCFBIgwkryU6MC0sXSwqKw==",
          "dtype": "i2"
         },
         "yaxis": "y"
        },
        {
         "legendgroup": "5 Room",
         "marker": {
          "color": "#55a3e8"
         },
         "name": "5 Room",
         "showlegend": true,
         "type": "bar",
         "visible": false,
         "x": {
          "bdata": "xgfHB8gHyQfKB8sHzAfNB84HzwfQB9EH0gfTB9QH1QfWB9cH2AfZB9oH2wfcB90H3gffB+AH4QfiB+MH5AflB+YH5wfoBw==",
          "dtype": "i2"
         },
         "xaxis": "x",
         "y": {
          "bdata": "ZAaVBucHnAvdEd8RzBOSFW8jOCs3GZgeDB6HFBMU2hdfF0Ia6xsuIAEi5hXVFfgNjA02EOkRihNvFTMVYBd8Hjka0xZ8Fw==",
          "dtype": "i2"
         },
         "yaxis": "y"
        },
        {
         "legendgroup": "Executive",
         "marker": {
          "color": "#006cd1"
         },
         "name": "Executive",
         "showlegend": true,
         "type": "bar",
         "visible": false,
         "x": {
          "bdata": "xgfHB8gHyQfKB8sHzAfNB84HzwfQB9EH0gfTB9QH1QfWB9cH2AfZB9oH2wfcB90H3gffB+AH4QfiB+MH5AflB+YH5wfoBw==",
          "dtype": "i2"
         },
         "xaxis": "x",
         "y": {
          "bdata": "sQGRAkEDcgWrBwAHfwh7CSURnRfjCV4LXQp2BiEGbgf1BxoJUQhDCWsLDQcVCCoFKARHBdEFWAZUB4UGWgfTCF0H3wVoBg==",
          "dtype": "i2"
         },
         "yaxis": "y"
        },
        {
         "legendgroup": "Multi-Generation",
         "marker": {
          "color": "#003376"
         },
         "name": "Multi-Generation",
         "showlegend": true,
         "type": "bar",
         "visible": false,
         "x": {
          "bdata": "xwfIB8kHygfLB8wHzQfOB88H0AfRB9IH0wfUB9UH1gfXB9gH2QfaB9sH3AfdB94H3wfgB+EH4gfjB+QH5QfmB+cH6Ac=",
          "dtype": "i2"
         },
         "xaxis": "x",
         "y": {
          "bdata": "AhYyJRsuJR4cFBcHDAwFDRUPCQwKDAcDAQQEDw4IEgwDBg==",
          "dtype": "i1"
         },
         "yaxis": "y"
        },
        {
         "legendgroup": "All",
         "marker": {
          "color": "gray"
         },
         "name": "All",
         "showlegend": true,
         "type": "bar",
         "visible": false,
         "x": {
          "bdata": "xgfHB8gHyQfKB8sHzAfNB84HzwfQB9EH0gfTB9QH1QfWB9cH2AfZB9oH2wfcB90H3gffB+AH4QfiB+MH5AflB+YH5wfoBw==",
          "dtype": "i2"
         },
         "xaxis": "x2",
         "y": {
          "bdata": "2TAAADYyAACmOAAAw0YAAPNmAACNagAAZIgAAA98AACXxwAAtuEAAC6IAACnlAAAAo0AAEtxAAC2cQAAUXUAACNrAABmaQAAfmoAABJ3AAAmiAAACFcAAJ5aAADhPgAA4D4AAHRFAACtSwAAHVAAADlUAACqVgAAJVsAAJ9xAABgaAAAm2QAAJdkAAA=",
          "dtype": "i4"
         },
         "yaxis": "y2"
        },
        {
         "legendgroup": "1 Room",
         "line": {
          "color": "#ff4500"
         },
         "mode": "lines",
         "name": "1 Room",
         "showlegend": true,
         "type": "scatter",
         "visible": false,
         "x": {
          "bdata": "sQe3B7kH",
          "dtype": "i2"
         },
         "xaxis": "x",
         "y": {
          "bdata": "xQFyAucA",
          "dtype": "i2"
         },
         "yaxis": "y"
        },
        {
         "legendgroup": "2 Room",
         "line": {
          "color": "#fc834c"
         },
         "mode": "lines",
         "name": "2 Room",
         "showlegend": true,
         "type": "scatter",
         "visible": false,
         "x": {
          "bdata": "rwewB7EHsgezB7QHtQe2B7cHuAe5B7oHuwe8B70Hvge/B8AHwQfCB8oH0AfXB9gH2wfcB90H3gffB+AH4QfiB+MH5AflBw==",
          "dtype": "i2"
         },
         "xaxis": "x",
         "y": {
          "bdata": "xwQzAo4DlwTvBlkASQIIAQ0A2ABZABICzgBXABIATgABAiMAGQDNBBkAIAApAEAAMgDSAPwAkgFEAkMAGQCLAW4BXgAEAA==",
          "dtype": "i2"
         },
         "yaxis": "y"
        },
        {
         "legendgroup": "3 Room",
         "line": {
          "color": "#fcb58a"
         },
         "mode": "lines",
         "name": "3 Room",
         "showlegend": true,
         "type": "scatter",
         "visible": false,
         "x": {
          "bdata": "rgevB7AHsQeyB7MHtAe1B7YHtwe4B7kHuge7B7wHvQe+B78HwAfBB8IHwwfEB8UHxgfIB8kHygfLB84HzwfQB9IH0wfUB9YH1wfYB9kH2gfbB9wH3QfeB98H4AfhB+IH4wfkB+UH",
          "dtype": "i2"
         },
         "xaxis": "x",
         "y": {
          "bdata": "IgCME+QEWhu4JaoXwBU2GxoqAys4NUIwG14ZTRlTETTBHCg5QHG5epIqvCpjLTANqwHKAPYDswDBAEgAFABvAEoAsACPACgAkwCYAGAApQDSAH4D1wMsBMAHRgS5A+sEEALcAAEA",
          "dtype": "i2"
         },
         "yaxis": "y"
        },
        {
         "legendgroup": "4 Room",
         "line": {
          "color": "#ffdab9"
         },
         "mode": "lines",
         "name": "4 Room",
         "showlegend": true,
         "type": "scatter",
         "visible": false,
         "x": {
          "bdata": "rwewB7EHsgezB7QHtQe2B7cHuAe5B7oHuwe8B70Hvge/B8AHwQfCB8MHxAfFB8YHxwfIB8kHygfLB8wHzQfOB88H0AfRB9IH0wfUB9UH1gfXB9gH2QfaB9sH3AfdB94H3wfgB+EH4gfjB+QH5Qc=",
          "dtype": "i2"
         },
         "xaxis": "x",
         "y": {
          "bdata": "GQAAAEUAAABBAAAAuQIAAF4AAADQAAAAVgQAADoLAAC9DQAAFRMAAIcTAADCLQAAKR0AAMocAABmFAAANA0AAJwTAACXXwAAGJYAANZAAADuTwAAuVkAAAlDAAC9GAAAUQMAAJ8oAAA4JAAAZwgAAFoYAAB8MAAAMkMAAJE3AAD2JgAAXyMAAPodAAAlFgAA4xYAADcPAAB4CAAAiQgAACsDAACfAwAArQYAAKwEAABYBgAA9g0AAKcOAADfBwAAJhcAAJQOAACyDAAA7wwAAPEFAABxAgAAAQAAAA==",
          "dtype": "i4"
         },
         "yaxis": "y"
        },
        {
         "legendgroup": "5 Room",
         "line": {
          "color": "#55a3e8"
         },
         "mode": "lines",
         "name": "5 Room",
         "showlegend": true,
         "type": "scatter",
         "visible": false,
         "x": {
          "bdata": "rwewB7EHsgezB7QHtQe2B7cHuAe5B7oHuwe8B70Hvge/B8AHwQfCB8MHxAfFB8YHxwfIB8kHygfLB8wHzQfOB88H0AfRB9IH0wfUB9UH1gfXB9gH2QfaB9sH3AfdB94H3wfgB+EH4gfjB+QH",
          "dtype": "i2"
         },
         "xaxis": "x",
         "y": {
          "bdata": "AQABAAEAGAABACEAGgAmA14J5wuSDKQUxQ6iDdUJPQosDIEb2y6FFSodQylMIFEHHgApEFArDQh6GOksBiyqI6Mheh6kJI8YYCMdEbUHIgQYAD8ENQA6AH8DDwI1A/oB1wgoBx4GdgWmAZYA",
          "dtype": "i2"
         },
         "yaxis": "y"
        },
        {
         "legendgroup": "Executive",
         "line": {
          "color": "#006cd1"
         },
         "mode": "lines",
         "name": "Executive",
         "showlegend": true,
         "type": "scatter",
         "visible": false,
         "x": {
          "bdata": "uAe5B7oHuwe8B70Hvge/B8AHwQfCB8MHxAfFB8YHxwfIB8kHygfLB8wHzQfOB88H0AfRB9IH0wfUBw==",
          "dtype": "i2"
         },
         "xaxis": "x",
         "y": {
          "bdata": "AQAWADcAOwBWAC4AEAANALQNuRiHEh4PjBehDuYCggFIFswbpghtGYURRgtgCnAKxwYfC0IDBATcAA==",
          "dtype": "i2"
         },
         "yaxis": "y"
        },
        {
         "legendgroup": "Multi-Generation",
         "line": {
          "color": "#003376"
         },
         "mode": "lines",
         "name": "Multi-Generation",
         "showlegend": true,
         "type": "scatter",
         "visible": false,
         "x": {
          "bdata": "wwfEBw==",
          "dtype": "i2"
         },
         "xaxis": "x",
         "y": {
          "bdata": "/gEjAA==",
          "dtype": "i2"
         },
         "yaxis": "y"
        },
        {
         "legendgroup": "All",
         "line": {
          "color": "gray"
         },
         "mode": "lines",
         "name": "All",
         "showlegend": true,
         "type": "scatter",
         "visible": false,
         "x": {
          "bdata": "rgevB7AHsQeyB7MHtAe1B7YHtwe4B7kHuge7B7wHvQe+B78HwAfBB8IHwwfEB8UHxgfHB8gHyQfKB8sHzAfNB84HzwfQB9EH0gfTB9QH1QfWB9cH2AfZB9oH2wfcB90H3gffB+AH4QfiB+MH5AflBw==",
          "dtype": "i2"
         },
         "xaxis": "x2",
         "y": {
          "bdata": "IgAAAG0YAABdBwAA7yAAACAtAAD4HgAAChcAAO8hAACCOQAAnUQAAA1VAACxUQAAyqIAABB6AAAyfgAAjFIAAJA0AAD+WgAAL/oAAH5YAQBBmAAA8KgAAA7IAAAmfwAAnyQAAPEEAADaTwAASm8AAOYZAAACSwAA6m4AAH56AADjZQAAHVMAAC9JAAC9TQAAQDIAAPc+AAC/IQAALRAAANMMAAD/AwAAtggAAEIHAACLBQAA2woAAFUUAACvFgAAlw8AAAEqAABFGgAAohYAANsYAAAVCwAAQQQAAAYAAAA=",
          "dtype": "i4"
         },
         "yaxis": "y2"
        },
        {
         "legendgroup": "1 Room",
         "marker": {
          "color": "#ff4500"
         },
         "name": "1 Room",
         "showlegend": true,
         "type": "bar",
         "visible": false,
         "x": {
          "bdata": "sQe3B7kH",
          "dtype": "i2"
         },
         "xaxis": "x",
         "y": {
          "bdata": "xQFyAucA",
          "dtype": "i2"
         },
         "yaxis": "y"
        },
        {
         "legendgroup": "2 Room",
         "marker": {
          "color": "#fc834c"
         },
         "name": "2 Room",
         "showlegend": true,
         "type": "bar",
         "visible": false,
         "x": {
          "bdata": "rwewB7EHsgezB7QHtQe2B7cHuAe5B7oHuwe8B70Hvge/B8AHwQfCB8oH0AfXB9gH2wfcB90H3gffB+AH4QfiB+MH5AflBw==",
          "dtype": "i2"
         },
         "xaxis": "x",
         "y": {
          "bdata": "xwQzAo4DlwTvBlkASQIIAQ0A2ABZABICzgBXABIATgABAiMAGQDNBBkAIAApAEAAMgDSAPwAkgFEAkMAGQCLAW4BXgAEAA==",
          "dtype": "i2"
         },
         "yaxis": "y"
        },
        {
         "legendgroup": "3 Room",
         "marker": {
          "color": "#fcb58a"
         },
         "name": "3 Room",
         "showlegend": true,
         "type": "bar",
         "visible": false,
         "x": {
          "bdata": "rgevB7AHsQeyB7MHtAe1B7YHtwe4B7kHuge7B7wHvQe+B78HwAfBB8IHwwfEB8UHxgfIB8kHygfLB84HzwfQB9IH0wfUB9YH1wfYB9kH2gfbB9wH3QfeB98H4AfhB+IH4wfkB+UH",
          "dtype": "i2"
         },
         "xaxis": "x",
         "y": {
          "bdata": "IgCME+QEWhu4JaoXwBU2GxoqAys4NUIwG14ZTRlTETTBHCg5QHG5epIqvCpjLTANqwHKAPYDswDBAEgAFABvAEoAsACPACgAkwCYAGAApQDSAH4D1wMsBMAHRgS5A+sEEALcAAEA",
          "dtype": "i2"
         },
         "yaxis": "y"
        },
        {
         "legendgroup": "4 Room",
         "marker": {
          "color": "#ffdab9"
         },
         "name": "4 Room",
         "showlegend": true,
         "type": "bar",
         "visible": false,
         "x": {
          "bdata": "rwewB7EHsgezB7QHtQe2B7cHuAe5B7oHuwe8B70Hvge/B8AHwQfCB8MHxAfFB8YHxwfIB8kHygfLB8wHzQfOB88H0AfRB9IH0wfUB9UH1gfXB9gH2QfaB9sH3AfdB94H3wfgB+EH4gfjB+QH5Qc=",
          "dtype": "i2"
         },
         "xaxis": "x",
         "y": {
          "bdata": "GQAAAEUAAABBAAAAuQIAAF4AAADQAAAAVgQAADoLAAC9DQAAFRMAAIcTAADCLQAAKR0AAMocAABmFAAANA0AAJwTAACXXwAAGJYAANZAAADuTwAAuVkAAAlDAAC9GAAAUQMAAJ8oAAA4JAAAZwgAAFoYAAB8MAAAMkMAAJE3AAD2JgAAXyMAAPodAAAlFgAA4xYAADcPAAB4CAAAiQgAACsDAACfAwAArQYAAKwEAABYBgAA9g0AAKcOAADfBwAAJhcAAJQOAACyDAAA7wwAAPEFAABxAgAAAQAAAA==",
          "dtype": "i4"
         },
         "yaxis": "y"
        },
        {
         "legendgroup": "5 Room",
         "marker": {
          "color": "#55a3e8"
         },
         "name": "5 Room",
         "showlegend": true,
         "type": "bar",
         "visible": false,
         "x": {
          "bdata": "rwewB7EHsgezB7QHtQe2B7cHuAe5B7oHuwe8B70Hvge/B8AHwQfCB8MHxAfFB8YHxwfIB8kHygfLB8wHzQfOB88H0AfRB9IH0wfUB9UH1gfXB9gH2QfaB9sH3AfdB94H3wfgB+EH4gfjB+QH",
          "dtype": "i2"
         },
         "xaxis": "x",
         "y": {
          "bdata": "AQABAAEAGAABACEAGgAmA14J5wuSDKQUxQ6iDdUJPQosDIEb2y6FFSodQylMIFEHHgApEFArDQh6GOksBiyqI6Mheh6kJI8YYCMdEbUHIgQYAD8ENQA6AH8DDwI1A/oB1wgoBx4GdgWmAZYA",
          "dtype": "i2"
         },
         "yaxis": "y"
        },
        {
         "legendgroup": "Executive",
         "marker": {
          "color": "#006cd1"
         },
         "name": "Executive",
         "showlegend": true,
         "type": "bar",
         "visible": false,
         "x": {
          "bdata": "uAe5B7oHuwe8B70Hvge/B8AHwQfCB8MHxAfFB8YHxwfIB8kHygfLB8wHzQfOB88H0AfRB9IH0wfUBw==",
          "dtype": "i2"
         },
         "xaxis": "x",
         "y": {
          "bdata": "AQAWADcAOwBWAC4AEAANALQNuRiHEh4PjBehDuYCggFIFswbpghtGYURRgtgCnAKxwYfC0IDBATcAA==",
          "dtype": "i2"
         },
         "yaxis": "y"
        },
        {
         "legendgroup": "Multi-Generation",
         "marker": {
          "color": "#003376"
         },
         "name": "Multi-Generation",
         "showlegend": true,
         "type": "bar",
         "visible": false,
         "x": {
          "bdata": "wwfEBw==",
          "dtype": "i2"
         },
         "xaxis": "x",
         "y": {
          "bdata": "/gEjAA==",
          "dtype": "i2"
         },
         "yaxis": "y"
        },
        {
         "legendgroup": "All",
         "marker": {
          "color": "gray"
         },
         "name": "All",
         "showlegend": true,
         "type": "bar",
         "visible": false,
         "x": {
          "bdata": "rgevB7AHsQeyB7MHtAe1B7YHtwe4B7kHuge7B7wHvQe+B78HwAfBB8IHwwfEB8UHxgfHB8gHyQfKB8sHzAfNB84HzwfQB9EH0gfTB9QH1QfWB9cH2AfZB9oH2wfcB90H3gffB+AH4QfiB+MH5AflBw==",
          "dtype": "i2"
         },
         "xaxis": "x2",
         "y": {
          "bdata": "IgAAAG0YAABdBwAA7yAAACAtAAD4HgAAChcAAO8hAACCOQAAnUQAAA1VAACxUQAAyqIAABB6AAAyfgAAjFIAAJA0AAD+WgAAL/oAAH5YAQBBmAAA8KgAAA7IAAAmfwAAnyQAAPEEAADaTwAASm8AAOYZAAACSwAA6m4AAH56AADjZQAAHVMAAC9JAAC9TQAAQDIAAPc+AAC/IQAALRAAANMMAAD/AwAAtggAAEIHAACLBQAA2woAAFUUAACvFgAAlw8AAAEqAABFGgAAohYAANsYAAAVCwAAQQQAAAYAAAA=",
          "dtype": "i4"
         },
         "yaxis": "y2"
        },
        {
         "legendgroup": "1 Room",
         "line": {
          "color": "#ff4500"
         },
         "mode": "lines",
         "name": "1 Room",
         "showlegend": true,
         "type": "scatter",
         "visible": false,
         "x": {
          "bdata": "DQ4PEBESExQVFhcYGRobHB0eHyAhIiMkJSYnKCkqKywtLi8wMQ==",
          "dtype": "i1"
         },
         "xaxis": "x",
         "y": {
          "bdata": "GAAPABgAEwAmADAALgAnAE0AgAA8ADoAPAAyAE4AWAA8AEQAMAAuAC0AGAAVABAAEAAGABQACQAFAAkACQALAAoACQAKAAYACgA=",
          "dtype": "i2"
         },
         "yaxis": "y"
        },
        {
         "legendgroup": "2 Room",
         "line": {
          "color": "#fc834c"
         },
         "mode": "lines",
         "name": "2 Room",
         "showlegend": true,
         "type": "scatter",
         "visible": false,
         "x": {
          "bdata": "AgMEBQYHCAkKCwwNDg8QERITFBUWFxgZGhscHR4fICEiIyQlJicoKSorLC0uLzAxMjM0NTY3ODk=",
          "dtype": "i1"
         },
         "xaxis": "x",
         "y": {
          "bdata": "AgAvAHQCywKvATABEAEVAe4AvACQAIAAXQBWAHcAWwBuAMUAvADFABIBfAFxAaQBuwGxAbUBjQF5AUkBNwEwARMBBgH9AAgBAAHuANgAvgCrAJ0AfwCDAGQATgBLAEwAWgBaADMARQAxACQAHAATAA==",
          "dtype": "i2"
         },
         "yaxis": "y"
        },
        {
         "legendgroup": "3 Room",
         "line": {
          "color": "#fcb58a"
         },
         "mode": "lines",
         "name": "3 Room",
         "showlegend": true,
         "type": "scatter",
         "visible": false,
         "x": {
          "bdata": "AQIDBAUGBwgJCgsMDQ4PEBESExQVFhcYGRobHB0eHyAhIiMkJSYnKCkqKywtLi8wMTIzNDU2Nzg5Og==",
          "dtype": "i1"
         },
         "xaxis": "x",
         "y": {
          "bdata": "BwAyAOoBYgsYD3cPaQ+MEYYUMRmqHTEgXiR2KDcoGCjnJ6opvylDK9gqhSe8JmElUyQ6IrshQyCtHu0cYhvBGckYaRdBFn0VRhQpE18RTQ/9DM4LNAu2CR0I4QbCBQsFEARmA6ACoQL3AY4B0QBkAGAAAgA=",
          "dtype": "i2"
         },
         "yaxis": "y"
        },
        {
         "legendgroup": "4 Room",
         "line": {
          "color": "#ffdab9"
         },
         "mode": "lines",
         "name": "4 Room",
         "showlegend": true,
         "type": "scatter",
         "visible": false,
         "x": {
          "bdata": "AAECAwQFBgcICQoLDA0ODxAREhMUFRYXGBkaGxwdHh8gISIjJCUmJygpKissLS4vMDEyMzQ1Njg5",
          "dtype": "i1"
         },
         "xaxis": "x",
         "y": {
          "bdata": "FwBRAAUBxhMnafBfkUVsOjY4kDtuPXY7HDo+OVQ2JTBoLEgqIiiEJh0mHySmIUgfyRxdGykY4RRDErAQShA7ENgOkQ0IDtkMKgz4Cf0IwQd5BQUEkgNXA/ICkgIZAkgB+gCQAGkAJgAZABMADwABAAEA",
          "dtype": "i2"
         },
         "yaxis": "y"
        },
        {
         "legendgroup": "5 Room",
         "line": {
          "color": "#55a3e8"
         },
         "mode": "lines",
         "name": "5 Room",
         "showlegend": true,
         "type": "scatter",
         "visible": false,
         "x": {
          "bdata": "AAECAwQFBgcICQoLDA0ODxAREhMUFRYXGBkaGxwdHh8gISIjJCUmJygpKissLS4vMDEyMzU=",
          "dtype": "i1"
         },
         "xaxis": "x",
         "y": {
          "bdata": "HwBCAJ0AZQrCPCFAzy4dJ2ojQSO5IdEfMx2fHcsciRmeGJUXkBZIFtYVxBSTErEQpw4hDYEL4QmzCKMH6QYJB0IGKAYSBuMFCwUrBHUDJgOCAg8C7AHoAcIBRQE1AbgAcQA2ABsAAQABAA==",
          "dtype": "i2"
         },
         "yaxis": "y"
        },
        {
         "legendgroup": "Executive",
         "line": {
          "color": "#006cd1"
         },
         "mode": "lines",
         "name": "Executive",
         "showlegend": true,
         "type": "scatter",
         "visible": false,
         "x": {
          "bdata": "AAECAwQFBgcICQoLDA0ODxAREhMUFRYXGBkaGxwdHh8gISIjJCUmJygpKissLS8=",
          "dtype": "i1"
         },
         "xaxis": "x",
         "y": {
          "bdata": "LgA5AD8AmQO+EUMYOxJMDbAMRg1rDQ0MIwuSCv8JgAhVB7cHGwdaBqwG4wYRBskGjgWvBQkFaARBBMQDNwP6Ar8CvQKZAjUCIAKJATEBwABNAAkACwAQAAgABgABAA==",
          "dtype": "i2"
         },
         "yaxis": "y"
        },
        {
         "legendgroup": "Multi-Generation",
         "line": {
          "color": "#003376"
         },
         "mode": "lines",
         "name": "Multi-Generation",
         "showlegend": true,
         "type": "scatter",
         "visible": false,
         "x": {
          "bdata": "BAUGBwgJCgsMDQ4PEBESExQVFhcYGRobHB0eHyAhIiMkJQ==",
          "dtype": "i1"
         },
         "xaxis": "x",
         "y": {
          "bdata": "BRcxIxswIh8bGhEHDA0EDhYOCQsLDAcCAgMFDw0IEwsDBg==",
          "dtype": "i1"
         },
         "yaxis": "y"
        },
        {
         "legendgroup": "All",
         "line": {
          "color": "gray"
         },
         "mode": "lines",
         "name": "All",
         "showlegend": true,
         "type": "scatter",
         "visible": false,
         "x": {
          "bdata": "AAECAwQFBgcICQoLDA0ODxAREhMUFRYXGBkaGxwdHh8gISIjJCUmJygpKissLS4vMDEyMzQ1Njc4OTo=",
          "dtype": "i1"
         },
         "xaxis": "x2",
         "y": {
          "bdata": "ZAAAANMAAAAVAgAA3SMAAILFAABOygAA8pcAAJF/AAAHewAA4oEAANOGAADZhQAAToMAAH+GAAARhgAA2noAAAl1AAAJcgAAGXAAAOZtAADbbgAAvmsAAGpjAABBXwAAFVgAAGxUAADhTAAA5kYAAIlBAACQPAAAGTkAACg3AAAMMwAApDAAAFovAABYLAAA4ikAABAlAADSIQAACB4AAHYYAADdEwAACxIAACkRAAD8DgAAhwwAAJwKAAAbCAAAxwYAACwFAABEBAAAIQMAAO0CAABQAgAAzgEAAPUAAACBAAAAdAAAAAIAAAA=",
          "dtype": "i4"
         },
         "yaxis": "y2"
        },
        {
         "legendgroup": "1 Room",
         "marker": {
          "color": "#ff4500"
         },
         "name": "1 Room",
         "showlegend": true,
         "type": "bar",
         "visible": false,
         "x": {
          "bdata": "DQ4PEBESExQVFhcYGRobHB0eHyAhIiMkJSYnKCkqKywtLi8wMQ==",
          "dtype": "i1"
         },
         "xaxis": "x",
         "y": {
          "bdata": "GAAPABgAEwAmADAALgAnAE0AgAA8ADoAPAAyAE4AWAA8AEQAMAAuAC0AGAAVABAAEAAGABQACQAFAAkACQALAAoACQAKAAYACgA=",
          "dtype": "i2"
         },
         "yaxis": "y"
        },
        {
         "legendgroup": "2 Room",
         "marker": {
          "color": "#fc834c"
         },
         "name": "2 Room",
         "showlegend": true,
         "type": "bar",
         "visible": false,
         "x": {
          "bdata": "AgMEBQYHCAkKCwwNDg8QERITFBUWFxgZGhscHR4fICEiIyQlJicoKSorLC0uLzAxMjM0NTY3ODk=",
          "dtype": "i1"
         },
         "xaxis": "x",
         "y": {
          "bdata": "AgAvAHQCywKvATABEAEVAe4AvACQAIAAXQBWAHcAWwBuAMUAvADFABIBfAFxAaQBuwGxAbUBjQF5AUkBNwEwARMBBgH9AAgBAAHuANgAvgCrAJ0AfwCDAGQATgBLAEwAWgBaADMARQAxACQAHAATAA==",
          "dtype": "i2"
         },
         "yaxis": "y"
        },
        {
         "legendgroup": "3 Room",
         "marker": {
          "color": "#fcb58a"
         },
         "name": "3 Room",
         "showlegend": true,
         "type": "bar",
         "visible": false,
         "x": {
          "bdata": "AQIDBAUGBwgJCgsMDQ4PEBESExQVFhcYGRobHB0eHyAhIiMkJSYnKCkqKywtLi8wMTIzNDU2Nzg5Og==",
          "dtype": "i1"
         },
         "xaxis": "x",
         "y": {
          "bdata": "BwAyAOoBYgsYD3cPaQ+MEYYUMRmqHTEgXiR2KDcoGCjnJ6opvylDK9gqhSe8JmElUyQ6IrshQyCtHu0cYhvBGckYaRdBFn0VRhQpE18RTQ/9DM4LNAu2CR0I4QbCBQsFEARmA6ACoQL3AY4B0QBkAGAAAgA=",
          "dtype": "i2"
         },
         "yaxis": "y"
        },
        {
         "legendgroup": "4 Room",
         "marker": {
          "color": "#ffdab9"
         },
         "name": "4 Room",
         "showlegend": true,
         "type": "bar",
         "visible": false,
         "x": {
          "bdata": "AAECAwQFBgcICQoLDA0ODxAREhMUFRYXGBkaGxwdHh8gISIjJCUmJygpKissLS4vMDEyMzQ1Njg5",
          "dtype": "i1"
         },
         "xaxis": "x",
         "y": {
          "bdata": "FwBRAAUBxhMnafBfkUVsOjY4kDtuPXY7HDo+OVQ2JTBoLEgqIiiEJh0mHySmIUgfyRxdGykY4RRDErAQShA7ENgOkQ0IDtkMKgz4Cf0IwQd5BQUEkgNXA/ICkgIZAkgB+gCQAGkAJgAZABMADwABAAEA",
          "dtype": "i2"
         },
         "yaxis": "y"
        },
        {
         "legendgroup": "5 Room",
         "marker": {
          "color": "#55a3e8"
         },
         "name": "5 Room",
         "showlegend": true,
         "type": "bar",
         "visible": false,
         "x": {
          "bdata": "AAECAwQFBgcICQoLDA0ODxAREhMUFRYXGBkaGxwdHh8gISIjJCUmJygpKissLS4vMDEyMzU=",
          "dtype": "i1"
         },
         "xaxis": "x",
         "y": {
          "bdata": "HwBCAJ0AZQrCPCFAzy4dJ2ojQSO5IdEfMx2fHcsciRmeGJUXkBZIFtYVxBSTErEQpw4hDYEL4QmzCKMH6QYJB0IGKAYSBuMFCwUrBHUDJgOCAg8C7AHoAcIBRQE1AbgAcQA2ABsAAQABAA==",
          "dtype": "i2"
         },
         "yaxis": "y"
        },
        {
         "legendgroup": "Executive",
         "marker": {
          "color": "#006cd1"
         },
         "name": "Executive",
         "showlegend": true,
         "type": "bar",
         "visible": false,
         "x": {
          "bdata": "AAECAwQFBgcICQoLDA0ODxAREhMUFRYXGBkaGxwdHh8gISIjJCUmJygpKissLS8=",
          "dtype": "i1"
         },
         "xaxis": "x",
         "y": {
          "bdata": "LgA5AD8AmQO+EUMYOxJMDbAMRg1rDQ0MIwuSCv8JgAhVB7cHGwdaBqwG4wYRBskGjgWvBQkFaARBBMQDNwP6Ar8CvQKZAjUCIAKJATEBwABNAAkACwAQAAgABgABAA==",
          "dtype": "i2"
         },
         "yaxis": "y"
        },
        {
         "legendgroup": "Multi-Generation",
         "marker": {
          "color": "#003376"
         },
         "name": "Multi-Generation",
         "showlegend": true,
         "type": "bar",
         "visible": false,
         "x": {
          "bdata": "BAUGBwgJCgsMDQ4PEBESExQVFhcYGRobHB0eHyAhIiMkJQ==",
          "dtype": "i1"
         },
         "xaxis": "x",
         "y": {
          "bdata": "BRcxIxswIh8bGhEHDA0EDhYOCQsLDAcCAgMFDw0IEwsDBg==",
          "dtype": "i1"
         },
         "yaxis": "y"
        },
        {
         "legendgroup": "All",
         "marker": {
          "color": "gray"
         },
         "name": "All",
         "showlegend": true,
         "type": "bar",
         "visible": false,
         "x": {
          "bdata": "AAECAwQFBgcICQoLDA0ODxAREhMUFRYXGBkaGxwdHh8gISIjJCUmJygpKissLS4vMDEyMzQ1Njc4OTo=",
          "dtype": "i1"
         },
         "xaxis": "x2",
         "y": {
          "bdata": "ZAAAANMAAAAVAgAA3SMAAILFAABOygAA8pcAAJF/AAAHewAA4oEAANOGAADZhQAAToMAAH+GAAARhgAA2noAAAl1AAAJcgAAGXAAAOZtAADbbgAAvmsAAGpjAABBXwAAFVgAAGxUAADhTAAA5kYAAIlBAACQPAAAGTkAACg3AAAMMwAApDAAAFovAABYLAAA4ikAABAlAADSIQAACB4AAHYYAADdEwAACxIAACkRAAD8DgAAhwwAAJwKAAAbCAAAxwYAACwFAABEBAAAIQMAAO0CAABQAgAAzgEAAPUAAACBAAAAdAAAAAIAAAA=",
          "dtype": "i4"
         },
         "yaxis": "y2"
        },
        {
         "legendgroup": "1 Room",
         "line": {
          "color": "#ff4500"
         },
         "mode": "lines",
         "name": "1 Room",
         "showlegend": true,
         "type": "scatter",
         "visible": false,
         "x": {
          "bdata": "AQIDBAUGBwgJCgsM",
          "dtype": "i1"
         },
         "xaxis": "x",
         "y": {
          "bdata": "dABzAGkAVwBmAFgAfQBgAFkAggCKAHcA",
          "dtype": "i2"
         },
         "yaxis": "y"
        },
        {
         "legendgroup": "2 Room",
         "line": {
          "color": "#fc834c"
         },
         "mode": "lines",
         "name": "2 Room",
         "showlegend": true,
         "type": "scatter",
         "visible": false,
         "x": {
          "bdata": "AQIDBAUGBwgJCgsM",
          "dtype": "i1"
         },
         "xaxis": "x",
         "y": {
          "bdata": "LwR6A+0D6wNtAxUEXgRXBCQEDgQfBL0D",
          "dtype": "i2"
         },
         "yaxis": "y"
        },
        {
         "legendgroup": "3 Room",
         "line": {
          "color": "#fcb58a"
         },
         "mode": "lines",
         "name": "3 Room",
         "showlegend": true,
         "type": "scatter",
         "visible": false,
         "x": {
          "bdata": "AQIDBAUGBwgJCgsM",
          "dtype": "i1"
         },
         "xaxis": "x",
         "y": {
          "bdata": "mWKNVKVk/V50XsFh8WfSZNVgtmYGZCBe",
          "dtype": "i2"
         },
         "yaxis": "y"
        },
        {
         "legendgroup": "4 Room",
         "line": {
          "color": "#ffdab9"
         },
         "mode": "lines",
         "name": "4 Room",
         "showlegend": true,
         "type": "scatter",
         "visible": false,
         "x": {
          "bdata": "AQIDBAUGBwgJCgsM",
          "dtype": "i1"
         },
         "xaxis": "x",
         "y": {
          "bdata": "pnDRY/d4cHLRcmp1p32ieVZ20nyQd55t",
          "dtype": "i2"
         },
         "yaxis": "y"
        },
        {
         "legendgroup": "5 Room",
         "line": {
          "color": "#55a3e8"
         },
         "mode": "lines",
         "name": "5 Room",
         "showlegend": true,
         "type": "scatter",
         "visible": false,
         "x": {
          "bdata": "AQIDBAUGBwgJCgsM",
          "dtype": "i1"
         },
         "xaxis": "x",
         "y": {
          "bdata": "IT0QNaNBhz+oP+dCyEd8RQ5DJUYCQdI6",
          "dtype": "i2"
         },
         "yaxis": "y"
        },
        {
         "legendgroup": "Executive",
         "line": {
          "color": "#006cd1"
         },
         "mode": "lines",
         "name": "Executive",
         "showlegend": true,
         "type": "scatter",
         "visible": false,
         "x": {
          "bdata": "AQIDBAUGBwgJCgsM",
          "dtype": "i1"
         },
         "xaxis": "x",
         "y": {
          "bdata": "BxXhEgYXfBZ7F1MY6xm/GPYXsBiTFoAU",
          "dtype": "i2"
         },
         "yaxis": "y"
        },
        {
         "legendgroup": "Multi-Generation",
         "line": {
          "color": "#003376"
         },
         "mode": "lines",
         "name": "Multi-Generation",
         "showlegend": true,
         "type": "scatter",
         "visible": false,
         "x": {
          "bdata": "AQIDBAUGBwgJCgsM",
          "dtype": "i1"
         },
         "xaxis": "x",
         "y": {
          "bdata": "MC0qJis7Ni8tLi0h",
          "dtype": "i1"
         },
         "yaxis": "y"
        },
        {
         "legendgroup": "All",
         "line": {
          "color": "gray"
         },
         "mode": "lines",
         "name": "All",
         "showlegend": true,
         "type": "scatter",
         "visible": false,
         "x": {
          "bdata": "AQIDBAUGBwgJCgsM",
          "dtype": "i1"
         },
         "xaxis": "x2",
         "y": {
          "bdata": "OioBAGkEAQDFOgEA2CsBAGYsAQANNwEAXEwBAJVBAQDZNgEAG0cBAAE4AQBlHwEA",
          "dtype": "i4"
         },
         "yaxis": "y2"
        },
        {
         "legendgroup": "1 Room",
         "marker": {
          "color": "#ff4500"
         },
         "name": "1 Room",
         "showlegend": true,
         "type": "bar",
         "visible": false,
         "x": {
          "bdata": "AQIDBAUGBwgJCgsM",
          "dtype": "i1"
         },
         "xaxis": "x",
         "y": {
          "bdata": "dABzAGkAVwBmAFgAfQBgAFkAggCKAHcA",
          "dtype": "i2"
         },
         "yaxis": "y"
        },
        {
         "legendgroup": "2 Room",
         "marker": {
          "color": "#fc834c"
         },
         "name": "2 Room",
         "showlegend": true,
         "type": "bar",
         "visible": false,
         "x": {
          "bdata": "AQIDBAUGBwgJCgsM",
          "dtype": "i1"
         },
         "xaxis": "x",
         "y": {
          "bdata": "LwR6A+0D6wNtAxUEXgRXBCQEDgQfBL0D",
          "dtype": "i2"
         },
         "yaxis": "y"
        },
        {
         "legendgroup": "3 Room",
         "marker": {
          "color": "#fcb58a"
         },
         "name": "3 Room",
         "showlegend": true,
         "type": "bar",
         "visible": false,
         "x": {
          "bdata": "AQIDBAUGBwgJCgsM",
          "dtype": "i1"
         },
         "xaxis": "x",
         "y": {
          "bdata": "mWKNVKVk/V50XsFh8WfSZNVgtmYGZCBe",
          "dtype": "i2"
         },
         "yaxis": "y"
        },
        {
         "legendgroup": "4 Room",
         "marker": {
          "color": "#ffdab9"
         },
         "name": "4 Room",
         "showlegend": true,
         "type": "bar",
         "visible": false,
         "x": {
          "bdata": "AQIDBAUGBwgJCgsM",
          "dtype": "i1"
         },
         "xaxis": "x",
         "y": {
          "bdata": "pnDRY/d4cHLRcmp1p32ieVZ20nyQd55t",
          "dtype": "i2"
         },
         "yaxis": "y"
        },
        {
         "legendgroup": "5 Room",
         "marker": {
          "color": "#55a3e8"
         },
         "name": "5 Room",
         "showlegend": true,
         "type": "bar",
         "visible": false,
         "x": {
          "bdata": "AQIDBAUGBwgJCgsM",
          "dtype": "i1"
         },
         "xaxis": "x",
         "y": {
          "bdata": "IT0QNaNBhz+oP+dCyEd8RQ5DJUYCQdI6",
          "dtype": "i2"
         },
         "yaxis": "y"
        },
        {
         "legendgroup": "Executive",
         "marker": {
          "color": "#006cd1"
         },
         "name": "Executive",
         "showlegend": true,
         "type": "bar",
         "visible": false,
         "x": {
          "bdata": "AQIDBAUGBwgJCgsM",
          "dtype": "i1"
         },
         "xaxis": "x",
         "y": {
          "bdata": "BxXhEgYXfBZ7F1MY6xm/GPYXsBiTFoAU",
          "dtype": "i2"
         },
         "yaxis": "y"
        },
        {
         "legendgroup": "Multi-Generation",
         "marker": {
          "color": "#003376"
         },
         "name": "Multi-Generation",
         "showlegend": true,
         "type": "bar",
         "visible": false,
         "x": {
          "bdata": "AQIDBAUGBwgJCgsM",
          "dtype": "i1"
         },
         "xaxis": "x",
         "y": {
          "bdata": "MC0qJis7Ni8tLi0h",
          "dtype": "i1"
         },
         "yaxis": "y"
        },
        {
         "legendgroup": "All",
         "marker": {
          "color": "gray"
         },
         "name": "All",
         "showlegend": true,
         "type": "bar",
         "visible": false,
         "x": {
          "bdata": "AQIDBAUGBwgJCgsM",
          "dtype": "i1"
         },
         "xaxis": "x2",
         "y": {
          "bdata": "OioBAGkEAQDFOgEA2CsBAGYsAQANNwEAXEwBAJVBAQDZNgEAG0cBAAE4AQBlHwEA",
          "dtype": "i4"
         },
         "yaxis": "y2"
        }
       ],
       "layout": {
        "annotations": [
         {
          "showarrow": false,
          "text": "Select X-axis Variable:",
          "x": 0.86,
          "xref": "paper",
          "y": 1.1,
          "yref": "paper"
         },
         {
          "showarrow": false,
          "text": "Plot Type:",
          "x": 0,
          "xref": "paper",
          "y": 1.1,
          "yref": "paper"
         }
        ],
        "autosize": false,
        "bargap": 0.15,
        "height": 500,
        "margin": {
         "b": 20,
         "l": 20,
         "r": 20,
         "t": 100
        },
        "template": {
         "data": {
          "bar": [
           {
            "error_x": {
             "color": "#2a3f5f"
            },
            "error_y": {
             "color": "#2a3f5f"
            },
            "marker": {
             "line": {
              "color": "#E5ECF6",
              "width": 0.5
             },
             "pattern": {
              "fillmode": "overlay",
              "size": 10,
              "solidity": 0.2
             }
            },
            "type": "bar"
           }
          ],
          "barpolar": [
           {
            "marker": {
             "line": {
              "color": "#E5ECF6",
              "width": 0.5
             },
             "pattern": {
              "fillmode": "overlay",
              "size": 10,
              "solidity": 0.2
             }
            },
            "type": "barpolar"
           }
          ],
          "carpet": [
           {
            "aaxis": {
             "endlinecolor": "#2a3f5f",
             "gridcolor": "white",
             "linecolor": "white",
             "minorgridcolor": "white",
             "startlinecolor": "#2a3f5f"
            },
            "baxis": {
             "endlinecolor": "#2a3f5f",
             "gridcolor": "white",
             "linecolor": "white",
             "minorgridcolor": "white",
             "startlinecolor": "#2a3f5f"
            },
            "type": "carpet"
           }
          ],
          "choropleth": [
           {
            "colorbar": {
             "outlinewidth": 0,
             "ticks": ""
            },
            "type": "choropleth"
           }
          ],
          "contour": [
           {
            "colorbar": {
             "outlinewidth": 0,
             "ticks": ""
            },
            "colorscale": [
             [
              0,
              "#0d0887"
             ],
             [
              0.1111111111111111,
              "#46039f"
             ],
             [
              0.2222222222222222,
              "#7201a8"
             ],
             [
              0.3333333333333333,
              "#9c179e"
             ],
             [
              0.4444444444444444,
              "#bd3786"
             ],
             [
              0.5555555555555556,
              "#d8576b"
             ],
             [
              0.6666666666666666,
              "#ed7953"
             ],
             [
              0.7777777777777778,
              "#fb9f3a"
             ],
             [
              0.8888888888888888,
              "#fdca26"
             ],
             [
              1,
              "#f0f921"
             ]
            ],
            "type": "contour"
           }
          ],
          "contourcarpet": [
           {
            "colorbar": {
             "outlinewidth": 0,
             "ticks": ""
            },
            "type": "contourcarpet"
           }
          ],
          "heatmap": [
           {
            "colorbar": {
             "outlinewidth": 0,
             "ticks": ""
            },
            "colorscale": [
             [
              0,
              "#0d0887"
             ],
             [
              0.1111111111111111,
              "#46039f"
             ],
             [
              0.2222222222222222,
              "#7201a8"
             ],
             [
              0.3333333333333333,
              "#9c179e"
             ],
             [
              0.4444444444444444,
              "#bd3786"
             ],
             [
              0.5555555555555556,
              "#d8576b"
             ],
             [
              0.6666666666666666,
              "#ed7953"
             ],
             [
              0.7777777777777778,
              "#fb9f3a"
             ],
             [
              0.8888888888888888,
              "#fdca26"
             ],
             [
              1,
              "#f0f921"
             ]
            ],
            "type": "heatmap"
           }
          ],
          "histogram": [
           {
            "marker": {
             "pattern": {
              "fillmode": "overlay",
              "size": 10,
              "solidity": 0.2
             }
            },
            "type": "histogram"
           }
          ],
          "histogram2d": [
           {
            "colorbar": {
             "outlinewidth": 0,
             "ticks": ""
            },
            "colorscale": [
             [
              0,
              "#0d0887"
             ],
             [
              0.1111111111111111,
              "#46039f"
             ],
             [
              0.2222222222222222,
              "#7201a8"
             ],
             [
              0.3333333333333333,
              "#9c179e"
             ],
             [
              0.4444444444444444,
              "#bd3786"
             ],
             [
              0.5555555555555556,
              "#d8576b"
             ],
             [
              0.6666666666666666,
              "#ed7953"
             ],
             [
              0.7777777777777778,
              "#fb9f3a"
             ],
             [
              0.8888888888888888,
              "#fdca26"
             ],
             [
              1,
              "#f0f921"
             ]
            ],
            "type": "histogram2d"
           }
          ],
          "histogram2dcontour": [
           {
            "colorbar": {
             "outlinewidth": 0,
             "ticks": ""
            },
            "colorscale": [
             [
              0,
              "#0d0887"
             ],
             [
              0.1111111111111111,
              "#46039f"
             ],
             [
              0.2222222222222222,
              "#7201a8"
             ],
             [
              0.3333333333333333,
              "#9c179e"
             ],
             [
              0.4444444444444444,
              "#bd3786"
             ],
             [
              0.5555555555555556,
              "#d8576b"
             ],
             [
              0.6666666666666666,
              "#ed7953"
             ],
             [
              0.7777777777777778,
              "#fb9f3a"
             ],
             [
              0.8888888888888888,
              "#fdca26"
             ],
             [
              1,
              "#f0f921"
             ]
            ],
            "type": "histogram2dcontour"
           }
          ],
          "mesh3d": [
           {
            "colorbar": {
             "outlinewidth": 0,
             "ticks": ""
            },
            "type": "mesh3d"
           }
          ],
          "parcoords": [
           {
            "line": {
             "colorbar": {
              "outlinewidth": 0,
              "ticks": ""
             }
            },
            "type": "parcoords"
           }
          ],
          "pie": [
           {
            "automargin": true,
            "type": "pie"
           }
          ],
          "scatter": [
           {
            "fillpattern": {
             "fillmode": "overlay",
             "size": 10,
             "solidity": 0.2
            },
            "type": "scatter"
           }
          ],
          "scatter3d": [
           {
            "line": {
             "colorbar": {
              "outlinewidth": 0,
              "ticks": ""
             }
            },
            "marker": {
             "colorbar": {
              "outlinewidth": 0,
              "ticks": ""
             }
            },
            "type": "scatter3d"
           }
          ],
          "scattercarpet": [
           {
            "marker": {
             "colorbar": {
              "outlinewidth": 0,
              "ticks": ""
             }
            },
            "type": "scattercarpet"
           }
          ],
          "scattergeo": [
           {
            "marker": {
             "colorbar": {
              "outlinewidth": 0,
              "ticks": ""
             }
            },
            "type": "scattergeo"
           }
          ],
          "scattergl": [
           {
            "marker": {
             "colorbar": {
              "outlinewidth": 0,
              "ticks": ""
             }
            },
            "type": "scattergl"
           }
          ],
          "scattermap": [
           {
            "marker": {
             "colorbar": {
              "outlinewidth": 0,
              "ticks": ""
             }
            },
            "type": "scattermap"
           }
          ],
          "scattermapbox": [
           {
            "marker": {
             "colorbar": {
              "outlinewidth": 0,
              "ticks": ""
             }
            },
            "type": "scattermapbox"
           }
          ],
          "scatterpolar": [
           {
            "marker": {
             "colorbar": {
              "outlinewidth": 0,
              "ticks": ""
             }
            },
            "type": "scatterpolar"
           }
          ],
          "scatterpolargl": [
           {
            "marker": {
             "colorbar": {
              "outlinewidth": 0,
              "ticks": ""
             }
            },
            "type": "scatterpolargl"
           }
          ],
          "scatterternary": [
           {
            "marker": {
             "colorbar": {
              "outlinewidth": 0,
              "ticks": ""
             }
            },
            "type": "scatterternary"
           }
          ],
          "surface": [
           {
            "colorbar": {
             "outlinewidth": 0,
             "ticks": ""
            },
            "colorscale": [
             [
              0,
              "#0d0887"
             ],
             [
              0.1111111111111111,
              "#46039f"
             ],
             [
              0.2222222222222222,
              "#7201a8"
             ],
             [
              0.3333333333333333,
              "#9c179e"
             ],
             [
              0.4444444444444444,
              "#bd3786"
             ],
             [
              0.5555555555555556,
              "#d8576b"
             ],
             [
              0.6666666666666666,
              "#ed7953"
             ],
             [
              0.7777777777777778,
              "#fb9f3a"
             ],
             [
              0.8888888888888888,
              "#fdca26"
             ],
             [
              1,
              "#f0f921"
             ]
            ],
            "type": "surface"
           }
          ],
          "table": [
           {
            "cells": {
             "fill": {
              "color": "#EBF0F8"
             },
             "line": {
              "color": "white"
             }
            },
            "header": {
             "fill": {
              "color": "#C8D4E3"
             },
             "line": {
              "color": "white"
             }
            },
            "type": "table"
           }
          ]
         },
         "layout": {
          "annotationdefaults": {
           "arrowcolor": "#2a3f5f",
           "arrowhead": 0,
           "arrowwidth": 1
          },
          "autotypenumbers": "strict",
          "coloraxis": {
           "colorbar": {
            "outlinewidth": 0,
            "ticks": ""
           }
          },
          "colorscale": {
           "diverging": [
            [
             0,
             "#8e0152"
            ],
            [
             0.1,
             "#c51b7d"
            ],
            [
             0.2,
             "#de77ae"
            ],
            [
             0.3,
             "#f1b6da"
            ],
            [
             0.4,
             "#fde0ef"
            ],
            [
             0.5,
             "#f7f7f7"
            ],
            [
             0.6,
             "#e6f5d0"
            ],
            [
             0.7,
             "#b8e186"
            ],
            [
             0.8,
             "#7fbc41"
            ],
            [
             0.9,
             "#4d9221"
            ],
            [
             1,
             "#276419"
            ]
           ],
           "sequential": [
            [
             0,
             "#0d0887"
            ],
            [
             0.1111111111111111,
             "#46039f"
            ],
            [
             0.2222222222222222,
             "#7201a8"
            ],
            [
             0.3333333333333333,
             "#9c179e"
            ],
            [
             0.4444444444444444,
             "#bd3786"
            ],
            [
             0.5555555555555556,
             "#d8576b"
            ],
            [
             0.6666666666666666,
             "#ed7953"
            ],
            [
             0.7777777777777778,
             "#fb9f3a"
            ],
            [
             0.8888888888888888,
             "#fdca26"
            ],
            [
             1,
             "#f0f921"
            ]
           ],
           "sequentialminus": [
            [
             0,
             "#0d0887"
            ],
            [
             0.1111111111111111,
             "#46039f"
            ],
            [
             0.2222222222222222,
             "#7201a8"
            ],
            [
             0.3333333333333333,
             "#9c179e"
            ],
            [
             0.4444444444444444,
             "#bd3786"
            ],
            [
             0.5555555555555556,
             "#d8576b"
            ],
            [
             0.6666666666666666,
             "#ed7953"
            ],
            [
             0.7777777777777778,
             "#fb9f3a"
            ],
            [
             0.8888888888888888,
             "#fdca26"
            ],
            [
             1,
             "#f0f921"
            ]
           ]
          },
          "colorway": [
           "#636efa",
           "#EF553B",
           "#00cc96",
           "#ab63fa",
           "#FFA15A",
           "#19d3f3",
           "#FF6692",
           "#B6E880",
           "#FF97FF",
           "#FECB52"
          ],
          "font": {
           "color": "#2a3f5f"
          },
          "geo": {
           "bgcolor": "white",
           "lakecolor": "white",
           "landcolor": "#E5ECF6",
           "showlakes": true,
           "showland": true,
           "subunitcolor": "white"
          },
          "hoverlabel": {
           "align": "left"
          },
          "hovermode": "closest",
          "mapbox": {
           "style": "light"
          },
          "paper_bgcolor": "white",
          "plot_bgcolor": "#E5ECF6",
          "polar": {
           "angularaxis": {
            "gridcolor": "white",
            "linecolor": "white",
            "ticks": ""
           },
           "bgcolor": "#E5ECF6",
           "radialaxis": {
            "gridcolor": "white",
            "linecolor": "white",
            "ticks": ""
           }
          },
          "scene": {
           "xaxis": {
            "backgroundcolor": "#E5ECF6",
            "gridcolor": "white",
            "gridwidth": 2,
            "linecolor": "white",
            "showbackground": true,
            "ticks": "",
            "zerolinecolor": "white"
           },
           "yaxis": {
            "backgroundcolor": "#E5ECF6",
            "gridcolor": "white",
            "gridwidth": 2,
            "linecolor": "white",
            "showbackground": true,
            "ticks": "",
            "zerolinecolor": "white"
           },
           "zaxis": {
            "backgroundcolor": "#E5ECF6",
            "gridcolor": "white",
            "gridwidth": 2,
            "linecolor": "white",
            "showbackground": true,
            "ticks": "",
            "zerolinecolor": "white"
           }
          },
          "shapedefaults": {
           "line": {
            "color": "#2a3f5f"
           }
          },
          "ternary": {
           "aaxis": {
            "gridcolor": "white",
            "linecolor": "white",
            "ticks": ""
           },
           "baxis": {
            "gridcolor": "white",
            "linecolor": "white",
            "ticks": ""
           },
           "bgcolor": "#E5ECF6",
           "caxis": {
            "gridcolor": "white",
            "linecolor": "white",
            "ticks": ""
           }
          },
          "title": {
           "x": 0.05
          },
          "xaxis": {
           "automargin": true,
           "gridcolor": "white",
           "linecolor": "white",
           "ticks": "",
           "title": {
            "standoff": 15
           },
           "zerolinecolor": "white",
           "zerolinewidth": 2
          },
          "yaxis": {
           "automargin": true,
           "gridcolor": "white",
           "linecolor": "white",
           "ticks": "",
           "title": {
            "standoff": 15
           },
           "zerolinecolor": "white",
           "zerolinewidth": 2
          }
         }
        },
        "title": {
         "text": "Units Resold By Flat Type",
         "y": 0.95
        },
        "updatemenus": [
         {
          "buttons": [
           {
            "args": [
             {
              "visible": [
               true,
               true,
               true,
               true,
               true,
               true,
               true,
               true,
               false,
               false,
               false,
               false,
               false,
               false,
               false,
               false,
               false,
               false,
               false,
               false,
               false,
               false,
               false,
               false,
               false,
               false,
               false,
               false,
               false,
               false,
               false,
               false,
               false,
               false,
               false,
               false,
               false,
               false,
               false,
               false,
               false,
               false,
               false,
               false,
               false,
               false,
               false,
               false,
               false,
               false,
               false,
               false,
               false,
               false,
               false,
               false,
               false,
               false,
               false,
               false,
               false,
               false,
               false,
               false
              ]
             },
             {
              "xaxis.title": "Year",
              "xaxis2.title": "Year"
             }
            ],
            "label": "Year",
            "method": "update"
           },
           {
            "args": [
             {
              "visible": [
               false,
               false,
               false,
               false,
               false,
               false,
               false,
               false,
               false,
               false,
               false,
               false,
               false,
               false,
               false,
               false,
               true,
               true,
               true,
               true,
               true,
               true,
               true,
               true,
               false,
               false,
               false,
               false,
               false,
               false,
               false,
               false,
               false,
               false,
               false,
               false,
               false,
               false,
               false,
               false,
               false,
               false,
               false,
               false,
               false,
               false,
               false,
               false,
               false,
               false,
               false,
               false,
               false,
               false,
               false,
               false,
               false,
               false,
               false,
               false,
               false,
               false,
               false,
               false
              ]
             },
             {
              "xaxis.title": "Lease Year",
              "xaxis2.title": "Lease Year"
             }
            ],
            "label": "Lease Year",
            "method": "update"
           },
           {
            "args": [
             {
              "visible": [
               false,
               false,
               false,
               false,
               false,
               false,
               false,
               false,
               false,
               false,
               false,
               false,
               false,
               false,
               false,
               false,
               false,
               false,
               false,
               false,
               false,
               false,
               false,
               false,
               false,
               false,
               false,
               false,
               false,
               false,
               false,
               false,
               true,
               true,
               true,
               true,
               true,
               true,
               true,
               true,
               false,
               false,
               false,
               false,
               false,
               false,
               false,
               false,
               false,
               false,
               false,
               false,
               false,
               false,
               false,
               false,
               false,
               false,
               false,
               false,
               false,
               false,
               false,
               false
              ]
             },
             {
              "xaxis.title": "Years Leased",
              "xaxis2.title": "Years Leased"
             }
            ],
            "label": "Years Leased",
            "method": "update"
           },
           {
            "args": [
             {
              "visible": [
               false,
               false,
               false,
               false,
               false,
               false,
               false,
               false,
               false,
               false,
               false,
               false,
               false,
               false,
               false,
               false,
               false,
               false,
               false,
               false,
               false,
               false,
               false,
               false,
               false,
               false,
               false,
               false,
               false,
               false,
               false,
               false,
               false,
               false,
               false,
               false,
               false,
               false,
               false,
               false,
               false,
               false,
               false,
               false,
               false,
               false,
               false,
               false,
               true,
               true,
               true,
               true,
               true,
               true,
               true,
               true,
               false,
               false,
               false,
               false,
               false,
               false,
               false,
               false
              ]
             },
             {
              "xaxis.title": "Month",
              "xaxis2.title": "Month"
             }
            ],
            "label": "Month",
            "method": "update"
           }
          ],
          "direction": "down",
          "pad": {
           "r": 10,
           "t": 10
          },
          "showactive": true,
          "x": 1.01,
          "xanchor": "right",
          "y": 1.15,
          "yanchor": "top"
         },
         {
          "buttons": [
           {
            "args": [
             {
              "visible": [
               true,
               true,
               true,
               true,
               true,
               true,
               true,
               true,
               false,
               false,
               false,
               false,
               false,
               false,
               false,
               false,
               false,
               false,
               false,
               false,
               false,
               false,
               false,
               false,
               false,
               false,
               false,
               false,
               false,
               false,
               false,
               false,
               false,
               false,
               false,
               false,
               false,
               false,
               false,
               false,
               false,
               false,
               false,
               false,
               false,
               false,
               false,
               false,
               false,
               false,
               false,
               false,
               false,
               false,
               false,
               false,
               false,
               false,
               false,
               false,
               false,
               false,
               false,
               false
              ]
             },
             {
              "barmode": "group"
             }
            ],
            "label": "Line Plot",
            "method": "update"
           },
           {
            "args": [
             {
              "visible": [
               false,
               false,
               false,
               false,
               false,
               false,
               false,
               false,
               true,
               true,
               true,
               true,
               true,
               true,
               true,
               true,
               false,
               false,
               false,
               false,
               false,
               false,
               false,
               false,
               false,
               false,
               false,
               false,
               false,
               false,
               false,
               false,
               false,
               false,
               false,
               false,
               false,
               false,
               false,
               false,
               false,
               false,
               false,
               false,
               false,
               false,
               false,
               false,
               false,
               false,
               false,
               false,
               false,
               false,
               false,
               false,
               false,
               false,
               false,
               false,
               false,
               false,
               false,
               false
              ]
             },
             {
              "barmode": "stack"
             }
            ],
            "label": "Bar Plot",
            "method": "update"
           }
          ],
          "direction": "right",
          "pad": {
           "r": 10,
           "t": 10
          },
          "showactive": true,
          "type": "buttons",
          "x": 0.26,
          "xanchor": "right",
          "y": 1.15,
          "yanchor": "top"
         }
        ],
        "width": 1100,
        "xaxis": {
         "anchor": "y",
         "domain": [
          0,
          1
         ],
         "title": {
          "text": "Year"
         }
        },
        "xaxis2": {
         "anchor": "y2",
         "domain": [
          0,
          1
         ],
         "title": {
          "text": "Year"
         }
        },
        "yaxis": {
         "anchor": "x",
         "domain": [
          0.32,
          1
         ],
         "title": {
          "text": "Units Resold"
         }
        },
        "yaxis2": {
         "anchor": "x2",
         "domain": [
          0,
          0.17
         ]
        }
       }
      }
     },
     "metadata": {},
     "output_type": "display_data"
    }
   ],
   "source": [
    "catplots(df_p, x_vars, 'flat_type', 'Units Resold By Flat Type', 'count')"
   ]
  },
  {
   "cell_type": "markdown",
   "id": "cbc746b5-3427-4441-8185-7c061757a069",
   "metadata": {},
   "source": [
    "It appears that peak selling times were between 1998 and 2002. What market conditions could have been responsible for the many sales? And what caused the spike in 2010?"
   ]
  },
  {
   "cell_type": "markdown",
   "id": "09357b74-3aba-4543-999e-c8957ad74d19",
   "metadata": {},
   "source": [
    "Property hold times suggest people cannot flip HDB properties before the 5 year mark. This is confirmed from the HDB website where the HDB stipulates a 5-year minimum occupancy period (MOP) for Unclassified/ Standard flats or flats bought from private property developers under the Design, Build and Sell Scheme (DBSS), and 10-year MOP for Plus and Prime flats.  \n",
    "Number of units sold tapers off after the 15 year mark. This could either be due to people not wanting to sell homes they have lived for a long time in or due to a housing development boom about 7 to 15 years ago, meaning that the number of units from this period is far greater than earlier periods (i.e. there simply weren't that many HDB apartments 50 years ago).  \n",
    "If there was a boom in new HDB developments, what could have precipitated it? Perhaps indicatively, an article from Singapore's National Library Board shows that the DBSS was launched in 2005 but was initally met with a slow uptake by property developers who expressed concerns about the unpredictability of the market, the numerous HDB regulations, and the apartment surplus the HDB always seemed to have. While the pilot development was launched in 2006 and opened in 2009, most of the subsequent developments were launched between 2008 and 2011, and opened between 2011 and 2015, adding a total of 8,533 new units. The unpopularity and eventual scrapping of the program suggests that the DBSS is not responsible for the spike."
   ]
  },
  {
   "cell_type": "code",
   "execution_count": 18,
   "id": "27830d59-2e4d-4ac7-953f-5ab4ece418e8",
   "metadata": {},
   "outputs": [
    {
     "data": {
      "application/vnd.plotly.v1+json": {
       "config": {
        "plotlyServerURL": "https://plot.ly"
       },
       "data": [
        {
         "legendgroup": "0-9",
         "line": {
          "color": "#ff4500"
         },
         "mode": "lines",
         "name": "0-9",
         "showlegend": true,
         "type": "scatter",
         "visible": true,
         "x": {
          "bdata": "xgfHB8gHyQfKB8sHzAfNB84HzwfQB9EH0gfTB9QH1QfWB9cH2AfZB9oH2wfcB90H3gffB+AH4QfiB+MH5AflB+YH5wfoBw==",
          "dtype": "i2"
         },
         "xaxis": "x",
         "y": {
          "bdata": "1xViF+MbvCRxL5gkPCkWIzAtGDiiI6A0uDOOInMioSOgHe8c/Bl9GusUgQsHCRUF/QO1BEoHAwshDeARNBmsIBUcnRssGg==",
          "dtype": "i2"
         },
         "yaxis": "y"
        },
        {
         "legendgroup": "10-19",
         "line": {
          "color": "#fb8f5b"
         },
         "mode": "lines",
         "name": "10-19",
         "showlegend": true,
         "type": "scatter",
         "visible": true,
         "x": {
          "bdata": "xgfHB8gHyQfKB8sHzAfNB84HzwfQB9EH0gfTB9QH1QfWB9cH2AfZB9oH2wfcB90H3gffB+AH4QfiB+MH5AflB+YH5wfoBw==",
          "dtype": "i2"
         },
         "xaxis": "x",
         "y": {
          "bdata": "3xdYF0MY+RvMLSc67UtGRtF0eHTDP2U5bzQJK+IizxzWGe0Z8hg0HDUlYhoPHagSohJXFcwVAhSAEtYN7AqEDPsJrgjVCA==",
          "dtype": "i2"
         },
         "yaxis": "y"
        },
        {
         "legendgroup": "20-29",
         "line": {
          "color": "#fdc49d"
         },
         "mode": "lines",
         "name": "20-29",
         "showlegend": true,
         "type": "scatter",
         "visible": true,
         "x": {
          "bdata": "xgfHB8gHyQfKB8sHzAfNB84HzwfQB9EH0gfTB9QH1QfWB9cH2AfZB9oH2wfcB90H3gffB+AH4QfiB+MH5AflB+YH5wfoBw==",
          "dtype": "i2"
         },
         "xaxis": "x",
         "y": {
          "bdata": "IwN8A4AEDga2Cc4LOxMBEjskDDF7ID8hGR8PHc0inylCJ/kkIiZlKh4w0BwoH9AV0RKfEIQQMhEGESMQmhAAGLgWZRV1Fg==",
          "dtype": "i2"
         },
         "yaxis": "y"
        },
        {
         "legendgroup": "30-39",
         "line": {
          "color": "#99b9d5"
         },
         "mode": "lines",
         "name": "30-39",
         "showlegend": true,
         "type": "scatter",
         "visible": true,
         "x": {
          "bdata": "zQfOB88H0AfRB9IH0wfUB9UH1gfXB9gH2QfaB9sH3AfdB94H3wfgB+EH4gfjB+QH5QfmB+cH6Ac=",
          "dtype": "i2"
         },
         "xaxis": "x",
         "y": {
          "bdata": "sgBbARoETgRjBcIFpQaUCUILaQy/DHsQDhSxGeYQsxHmDWQRAhYTGDsYrBl2GnkY0hnbGV0YIBU=",
          "dtype": "i2"
         },
         "yaxis": "y"
        },
        {
         "legendgroup": "40-49",
         "line": {
          "color": "#0077e4"
         },
         "mode": "lines",
         "name": "40-49",
         "showlegend": true,
         "type": "scatter",
         "visible": true,
         "x": {
          "bdata": "1gfXB9gH2QfaB9sH3AfdB94H3wfgB+EH4gfjB+QH5QfmB+cH6Ac=",
          "dtype": "i2"
         },
         "xaxis": "x",
         "y": {
          "bdata": "AgDSAPMA7gE3BG8DrQNuAwwExwT/BSsHXwlXCz0MFhDWDnIP8BE=",
          "dtype": "i2"
         },
         "yaxis": "y"
        },
        {
         "legendgroup": "50-59",
         "line": {
          "color": "#003376"
         },
         "mode": "lines",
         "name": "50-59",
         "showlegend": true,
         "type": "scatter",
         "visible": true,
         "x": {
          "bdata": "4AfhB+IH4wfkB+UH5gfnB+gH",
          "dtype": "i2"
         },
         "xaxis": "x",
         "y": {
          "bdata": "AQCAAIcABAG1AYcC5wIcAxEE",
          "dtype": "i2"
         },
         "yaxis": "y"
        },
        {
         "legendgroup": "All",
         "line": {
          "color": "gray"
         },
         "mode": "lines",
         "name": "All",
         "showlegend": true,
         "type": "scatter",
         "visible": true,
         "x": {
          "bdata": "xgfHB8gHyQfKB8sHzAfNB84HzwfQB9EH0gfTB9QH1QfWB9cH2AfZB9oH2wfcB90H3gffB+AH4QfiB+MH5AflB+YH5wfoBw==",
          "dtype": "i2"
         },
         "xaxis": "x2",
         "y": {
          "bdata": "2TAAADYyAACmOAAAw0YAAPNmAACNagAAZIgAAA98AACXxwAAtuEAAC6IAACnlAAAAo0AAEtxAAC2cQAAUXUAACNrAABmaQAAfmoAABJ3AAAmiAAACFcAAJ5aAADhPgAA4D4AAHRFAACtSwAAHVAAADlUAACqVgAAJVsAAJ9xAABgaAAAm2QAAJdkAAA=",
          "dtype": "i4"
         },
         "yaxis": "y2"
        },
        {
         "legendgroup": "0-9",
         "marker": {
          "color": "#ff4500"
         },
         "name": "0-9",
         "showlegend": true,
         "type": "bar",
         "visible": false,
         "x": {
          "bdata": "xgfHB8gHyQfKB8sHzAfNB84HzwfQB9EH0gfTB9QH1QfWB9cH2AfZB9oH2wfcB90H3gffB+AH4QfiB+MH5AflB+YH5wfoBw==",
          "dtype": "i2"
         },
         "xaxis": "x",
         "y": {
          "bdata": "1xViF+MbvCRxL5gkPCkWIzAtGDiiI6A0uDOOInMioSOgHe8c/Bl9GusUgQsHCRUF/QO1BEoHAwshDeARNBmsIBUcnRssGg==",
          "dtype": "i2"
         },
         "yaxis": "y"
        },
        {
         "legendgroup": "10-19",
         "marker": {
          "color": "#fb8f5b"
         },
         "name": "10-19",
         "showlegend": true,
         "type": "bar",
         "visible": false,
         "x": {
          "bdata": "xgfHB8gHyQfKB8sHzAfNB84HzwfQB9EH0gfTB9QH1QfWB9cH2AfZB9oH2wfcB90H3gffB+AH4QfiB+MH5AflB+YH5wfoBw==",
          "dtype": "i2"
         },
         "xaxis": "x",
         "y": {
          "bdata": "3xdYF0MY+RvMLSc67UtGRtF0eHTDP2U5bzQJK+IizxzWGe0Z8hg0HDUlYhoPHagSohJXFcwVAhSAEtYN7AqEDPsJrgjVCA==",
          "dtype": "i2"
         },
         "yaxis": "y"
        },
        {
         "legendgroup": "20-29",
         "marker": {
          "color": "#fdc49d"
         },
         "name": "20-29",
         "showlegend": true,
         "type": "bar",
         "visible": false,
         "x": {
          "bdata": "xgfHB8gHyQfKB8sHzAfNB84HzwfQB9EH0gfTB9QH1QfWB9cH2AfZB9oH2wfcB90H3gffB+AH4QfiB+MH5AflB+YH5wfoBw==",
          "dtype": "i2"
         },
         "xaxis": "x",
         "y": {
          "bdata": "IwN8A4AEDga2Cc4LOxMBEjskDDF7ID8hGR8PHc0inylCJ/kkIiZlKh4w0BwoH9AV0RKfEIQQMhEGESMQmhAAGLgWZRV1Fg==",
          "dtype": "i2"
         },
         "yaxis": "y"
        },
        {
         "legendgroup": "30-39",
         "marker": {
          "color": "#99b9d5"
         },
         "name": "30-39",
         "showlegend": true,
         "type": "bar",
         "visible": false,
         "x": {
          "bdata": "zQfOB88H0AfRB9IH0wfUB9UH1gfXB9gH2QfaB9sH3AfdB94H3wfgB+EH4gfjB+QH5QfmB+cH6Ac=",
          "dtype": "i2"
         },
         "xaxis": "x",
         "y": {
          "bdata": "sgBbARoETgRjBcIFpQaUCUILaQy/DHsQDhSxGeYQsxHmDWQRAhYTGDsYrBl2GnkY0hnbGV0YIBU=",
          "dtype": "i2"
         },
         "yaxis": "y"
        },
        {
         "legendgroup": "40-49",
         "marker": {
          "color": "#0077e4"
         },
         "name": "40-49",
         "showlegend": true,
         "type": "bar",
         "visible": false,
         "x": {
          "bdata": "1gfXB9gH2QfaB9sH3AfdB94H3wfgB+EH4gfjB+QH5QfmB+cH6Ac=",
          "dtype": "i2"
         },
         "xaxis": "x",
         "y": {
          "bdata": "AgDSAPMA7gE3BG8DrQNuAwwExwT/BSsHXwlXCz0MFhDWDnIP8BE=",
          "dtype": "i2"
         },
         "yaxis": "y"
        },
        {
         "legendgroup": "50-59",
         "marker": {
          "color": "#003376"
         },
         "name": "50-59",
         "showlegend": true,
         "type": "bar",
         "visible": false,
         "x": {
          "bdata": "4AfhB+IH4wfkB+UH5gfnB+gH",
          "dtype": "i2"
         },
         "xaxis": "x",
         "y": {
          "bdata": "AQCAAIcABAG1AYcC5wIcAxEE",
          "dtype": "i2"
         },
         "yaxis": "y"
        },
        {
         "legendgroup": "All",
         "marker": {
          "color": "gray"
         },
         "name": "All",
         "showlegend": true,
         "type": "bar",
         "visible": false,
         "x": {
          "bdata": "xgfHB8gHyQfKB8sHzAfNB84HzwfQB9EH0gfTB9QH1QfWB9cH2AfZB9oH2wfcB90H3gffB+AH4QfiB+MH5AflB+YH5wfoBw==",
          "dtype": "i2"
         },
         "xaxis": "x2",
         "y": {
          "bdata": "2TAAADYyAACmOAAAw0YAAPNmAACNagAAZIgAAA98AACXxwAAtuEAAC6IAACnlAAAAo0AAEtxAAC2cQAAUXUAACNrAABmaQAAfmoAABJ3AAAmiAAACFcAAJ5aAADhPgAA4D4AAHRFAACtSwAAHVAAADlUAACqVgAAJVsAAJ9xAABgaAAAm2QAAJdkAAA=",
          "dtype": "i4"
         },
         "yaxis": "y2"
        },
        {
         "legendgroup": "0-9",
         "line": {
          "color": "#ff4500"
         },
         "mode": "lines",
         "name": "0-9",
         "showlegend": true,
         "type": "scatter",
         "visible": false,
         "x": {
          "bdata": "vQe+B78HwAfBB8IHwwfEB8UHxgfHB8gHyQfKB8sHzAfNB84HzwfQB9EH0gfTB9QH1QfWB9cH2AfZB9oH2wfcB90H3gffB+AH4QfiB+MH5AflBw==",
          "dtype": "i2"
         },
         "xaxis": "x",
         "y": {
          "bdata": "KQJrArgGmBpCMasb+SWcM20pYw75AQUkwjgFDfAn6joCPxIy9SSwIO0hYRcGICARGwhOBgYCsgRnBLcDKgdZD5MS7w0BKkUaohbbGBULQQQGAA==",
          "dtype": "i2"
         },
         "yaxis": "y"
        },
        {
         "legendgroup": "10-19",
         "line": {
          "color": "#fb8f5b"
         },
         "mode": "lines",
         "name": "10-19",
         "showlegend": true,
         "type": "scatter",
         "visible": false,
         "x": {
          "bdata": "swe0B7UHtge3B7gHuQe6B7sHvAe9B74HvwfAB8EHwgfDB8QHxQfGB8cHyAfJB8oHywfMB80HzgfPB9AH0QfSB9MH1AfVB9YH1wfYB9kH2gfbB9wH3QfeBw==",
          "dtype": "i2"
         },
         "xaxis": "x",
         "y": {
          "bdata": "IwEAAE4BAAAtAwAA+QYAAJcKAABaEAAAVhUAAHYwAAC3KQAAfTQAAPkhAABmFwAA2SkAAB93AAB5ogAAx0QAABNJAADbUQAA2i0AAKcLAACfAQAA0hcAALQeAAB+BwAASRQAAHofAADzJAAASSEAAKIeAAB+HAAABSAAAPgUAAANGgAAZw8AABIIAACFBgAA+QEAAAQEAADbAgAA1AEAALEDAAD8BAAAHAQAAKgBAAA=",
          "dtype": "i4"
         },
         "yaxis": "y"
        },
        {
         "legendgroup": "20-29",
         "line": {
          "color": "#fdc49d"
         },
         "mode": "lines",
         "name": "20-29",
         "showlegend": true,
         "type": "scatter",
         "visible": false,
         "x": {
          "bdata": "rwewB7EHsgezB7QHtQe2B7cHuAe5B7oHuwe8B70Hvge/B8AHwQfCB8MHxAfFB8YHxwfIB8kHygfLB8wHzQfOB88H0AfRB9IH0wfUBw==",
          "dtype": "i2"
         },
         "xaxis": "x",
         "y": {
          "bdata": "vARFAl4L/xApDQoJQQ7iF9kdBCNiIRVB4CtVKDMa4Q4lGaw74U0WIUUjNir4GUoH8wBeD9cT8gTJDoYUiRaIEoYPAQzLC+cF5AQ4AQ==",
          "dtype": "i2"
         },
         "yaxis": "y"
        },
        {
         "legendgroup": "30-39",
         "line": {
          "color": "#99b9d5"
         },
         "mode": "lines",
         "name": "30-39",
         "showlegend": true,
         "type": "scatter",
         "visible": false,
         "x": {
          "bdata": "rgevB7AHsQeyB7MHtAe1B7YHtwe4B7kHuge7B7wHvQe+B78HwAfBB8IHwwfEB8UHxgfHB8gHyQfKBw==",
          "dtype": "i2"
         },
         "xaxis": "x",
         "y": {
          "bdata": "BQCgCb4CigxODy8KRwdACkcQvxBcFNkQHx8jGFwXTg4rCUoOnCjiNrkWnxZhGOcNSwNmAKUE/QNxAA==",
          "dtype": "i2"
         },
         "yaxis": "y"
        },
        {
         "legendgroup": "40-49",
         "line": {
          "color": "#0077e4"
         },
         "mode": "lines",
         "name": "40-49",
         "showlegend": true,
         "type": "scatter",
         "visible": false,
         "x": {
          "bdata": "rgevB7AHsQeyB7MHtAe1B7YHtwe4B7kHuge7B7wHvQe+B78HwAc=",
          "dtype": "i2"
         },
         "xaxis": "x",
         "y": {
          "bdata": "CwBvBqQBKwbXCMYEHgQ3BVQJbgtTDSAKIBJWDAQK6QWzAv4CMAQ=",
          "dtype": "i2"
         },
         "yaxis": "y"
        },
        {
         "legendgroup": "50-59",
         "line": {
          "color": "#003376"
         },
         "mode": "lines",
         "name": "50-59",
         "showlegend": true,
         "type": "scatter",
         "visible": false,
         "x": {
          "bdata": "rgevB7AHsQeyB7MHtAe1B7YH",
          "dtype": "i2"
         },
         "xaxis": "x",
         "y": {
          "bdata": "EgCiA7YA3AL8A7cBTQEKAQwB",
          "dtype": "i2"
         },
         "yaxis": "y"
        },
        {
         "legendgroup": "All",
         "line": {
          "color": "gray"
         },
         "mode": "lines",
         "name": "All",
         "showlegend": true,
         "type": "scatter",
         "visible": false,
         "x": {
          "bdata": "rgevB7AHsQeyB7MHtAe1B7YHtwe4B7kHuge7B7wHvQe+B78HwAfBB8IHwwfEB8UHxgfHB8gHyQfKB8sHzAfNB84HzwfQB9EH0gfTB9QH1QfWB9cH2AfZB9oH2wfcB90H3gffB+AH4QfiB+MH5AflBw==",
          "dtype": "i2"
         },
         "xaxis": "x2",
         "y": {
          "bdata": "IgAAAG0YAABdBwAA7yAAACAtAAD4HgAAChcAAO8hAACCOQAAnUQAAA1VAACxUQAAyqIAABB6AAAyfgAAjFIAAJA0AAD+WgAAL/oAAH5YAQBBmAAA8KgAAA7IAAAmfwAAnyQAAPEEAADaTwAASm8AAOYZAAACSwAA6m4AAH56AADjZQAAHVMAAC9JAAC9TQAAQDIAAPc+AAC/IQAALRAAANMMAAD/AwAAtggAAEIHAACLBQAA2woAAFUUAACvFgAAlw8AAAEqAABFGgAAohYAANsYAAAVCwAAQQQAAAYAAAA=",
          "dtype": "i4"
         },
         "yaxis": "y2"
        },
        {
         "legendgroup": "0-9",
         "marker": {
          "color": "#ff4500"
         },
         "name": "0-9",
         "showlegend": true,
         "type": "bar",
         "visible": false,
         "x": {
          "bdata": "vQe+B78HwAfBB8IHwwfEB8UHxgfHB8gHyQfKB8sHzAfNB84HzwfQB9EH0gfTB9QH1QfWB9cH2AfZB9oH2wfcB90H3gffB+AH4QfiB+MH5AflBw==",
          "dtype": "i2"
         },
         "xaxis": "x",
         "y": {
          "bdata": "KQJrArgGmBpCMasb+SWcM20pYw75AQUkwjgFDfAn6joCPxIy9SSwIO0hYRcGICARGwhOBgYCsgRnBLcDKgdZD5MS7w0BKkUaohbbGBULQQQGAA==",
          "dtype": "i2"
         },
         "yaxis": "y"
        },
        {
         "legendgroup": "10-19",
         "marker": {
          "color": "#fb8f5b"
         },
         "name": "10-19",
         "showlegend": true,
         "type": "bar",
         "visible": false,
         "x": {
          "bdata": "swe0B7UHtge3B7gHuQe6B7sHvAe9B74HvwfAB8EHwgfDB8QHxQfGB8cHyAfJB8oHywfMB80HzgfPB9AH0QfSB9MH1AfVB9YH1wfYB9kH2gfbB9wH3QfeBw==",
          "dtype": "i2"
         },
         "xaxis": "x",
         "y": {
          "bdata": "IwEAAE4BAAAtAwAA+QYAAJcKAABaEAAAVhUAAHYwAAC3KQAAfTQAAPkhAABmFwAA2SkAAB93AAB5ogAAx0QAABNJAADbUQAA2i0AAKcLAACfAQAA0hcAALQeAAB+BwAASRQAAHofAADzJAAASSEAAKIeAAB+HAAABSAAAPgUAAANGgAAZw8AABIIAACFBgAA+QEAAAQEAADbAgAA1AEAALEDAAD8BAAAHAQAAKgBAAA=",
          "dtype": "i4"
         },
         "yaxis": "y"
        },
        {
         "legendgroup": "20-29",
         "marker": {
          "color": "#fdc49d"
         },
         "name": "20-29",
         "showlegend": true,
         "type": "bar",
         "visible": false,
         "x": {
          "bdata": "rwewB7EHsgezB7QHtQe2B7cHuAe5B7oHuwe8B70Hvge/B8AHwQfCB8MHxAfFB8YHxwfIB8kHygfLB8wHzQfOB88H0AfRB9IH0wfUBw==",
          "dtype": "i2"
         },
         "xaxis": "x",
         "y": {
          "bdata": "vARFAl4L/xApDQoJQQ7iF9kdBCNiIRVB4CtVKDMa4Q4lGaw74U0WIUUjNir4GUoH8wBeD9cT8gTJDoYUiRaIEoYPAQzLC+cF5AQ4AQ==",
          "dtype": "i2"
         },
         "yaxis": "y"
        },
        {
         "legendgroup": "30-39",
         "marker": {
          "color": "#99b9d5"
         },
         "name": "30-39",
         "showlegend": true,
         "type": "bar",
         "visible": false,
         "x": {
          "bdata": "rgevB7AHsQeyB7MHtAe1B7YHtwe4B7kHuge7B7wHvQe+B78HwAfBB8IHwwfEB8UHxgfHB8gHyQfKBw==",
          "dtype": "i2"
         },
         "xaxis": "x",
         "y": {
          "bdata": "BQCgCb4CigxODy8KRwdACkcQvxBcFNkQHx8jGFwXTg4rCUoOnCjiNrkWnxZhGOcNSwNmAKUE/QNxAA==",
          "dtype": "i2"
         },
         "yaxis": "y"
        },
        {
         "legendgroup": "40-49",
         "marker": {
          "color": "#0077e4"
         },
         "name": "40-49",
         "showlegend": true,
         "type": "bar",
         "visible": false,
         "x": {
          "bdata": "rgevB7AHsQeyB7MHtAe1B7YHtwe4B7kHuge7B7wHvQe+B78HwAc=",
          "dtype": "i2"
         },
         "xaxis": "x",
         "y": {
          "bdata": "CwBvBqQBKwbXCMYEHgQ3BVQJbgtTDSAKIBJWDAQK6QWzAv4CMAQ=",
          "dtype": "i2"
         },
         "yaxis": "y"
        },
        {
         "legendgroup": "50-59",
         "marker": {
          "color": "#003376"
         },
         "name": "50-59",
         "showlegend": true,
         "type": "bar",
         "visible": false,
         "x": {
          "bdata": "rgevB7AHsQeyB7MHtAe1B7YH",
          "dtype": "i2"
         },
         "xaxis": "x",
         "y": {
          "bdata": "EgCiA7YA3AL8A7cBTQEKAQwB",
          "dtype": "i2"
         },
         "yaxis": "y"
        },
        {
         "legendgroup": "All",
         "marker": {
          "color": "gray"
         },
         "name": "All",
         "showlegend": true,
         "type": "bar",
         "visible": false,
         "x": {
          "bdata": "rgevB7AHsQeyB7MHtAe1B7YHtwe4B7kHuge7B7wHvQe+B78HwAfBB8IHwwfEB8UHxgfHB8gHyQfKB8sHzAfNB84HzwfQB9EH0gfTB9QH1QfWB9cH2AfZB9oH2wfcB90H3gffB+AH4QfiB+MH5AflBw==",
          "dtype": "i2"
         },
         "xaxis": "x2",
         "y": {
          "bdata": "IgAAAG0YAABdBwAA7yAAACAtAAD4HgAAChcAAO8hAACCOQAAnUQAAA1VAACxUQAAyqIAABB6AAAyfgAAjFIAAJA0AAD+WgAAL/oAAH5YAQBBmAAA8KgAAA7IAAAmfwAAnyQAAPEEAADaTwAASm8AAOYZAAACSwAA6m4AAH56AADjZQAAHVMAAC9JAAC9TQAAQDIAAPc+AAC/IQAALRAAANMMAAD/AwAAtggAAEIHAACLBQAA2woAAFUUAACvFgAAlw8AAAEqAABFGgAAohYAANsYAAAVCwAAQQQAAAYAAAA=",
          "dtype": "i4"
         },
         "yaxis": "y2"
        },
        {
         "legendgroup": "0-9",
         "line": {
          "color": "#ff4500"
         },
         "mode": "lines",
         "name": "0-9",
         "showlegend": true,
         "type": "scatter",
         "visible": false,
         "x": {
          "bdata": "AAECAwQFBgcICQ==",
          "dtype": "i1"
         },
         "xaxis": "x",
         "y": {
          "bdata": "ZAAAANMAAAAVAgAA3SMAAILFAABOygAA8pcAAJF/AAAHewAA4oEAAA==",
          "dtype": "i4"
         },
         "yaxis": "y"
        },
        {
         "legendgroup": "10-19",
         "line": {
          "color": "#fb8f5b"
         },
         "mode": "lines",
         "name": "10-19",
         "showlegend": true,
         "type": "scatter",
         "visible": false,
         "x": {
          "bdata": "CgsMDQ4PEBESEw==",
          "dtype": "i1"
         },
         "xaxis": "x",
         "y": {
          "bdata": "04YAANmFAABOgwAAf4YAABGGAADaegAACXUAAAlyAAAZcAAA5m0AAA==",
          "dtype": "i4"
         },
         "yaxis": "y"
        },
        {
         "legendgroup": "20-29",
         "line": {
          "color": "#fdc49d"
         },
         "mode": "lines",
         "name": "20-29",
         "showlegend": true,
         "type": "scatter",
         "visible": false,
         "x": {
          "bdata": "FBUWFxgZGhscHQ==",
          "dtype": "i1"
         },
         "xaxis": "x",
         "y": {
          "bdata": "226+a2pjQV8VWGxU4UzmRolBkDw=",
          "dtype": "i2"
         },
         "yaxis": "y"
        },
        {
         "legendgroup": "30-39",
         "line": {
          "color": "#99b9d5"
         },
         "mode": "lines",
         "name": "30-39",
         "showlegend": true,
         "type": "scatter",
         "visible": false,
         "x": {
          "bdata": "Hh8gISIjJCUmJw==",
          "dtype": "i1"
         },
         "xaxis": "x",
         "y": {
          "bdata": "GTkoNwwzpDBaL1gs4ikQJdIhCB4=",
          "dtype": "i2"
         },
         "yaxis": "y"
        },
        {
         "legendgroup": "40-49",
         "line": {
          "color": "#0077e4"
         },
         "mode": "lines",
         "name": "40-49",
         "showlegend": true,
         "type": "scatter",
         "visible": false,
         "x": {
          "bdata": "KCkqKywtLi8wMQ==",
          "dtype": "i1"
         },
         "xaxis": "x",
         "y": {
          "bdata": "dhjdEwsSKRH8DocMnAobCMcGLAU=",
          "dtype": "i2"
         },
         "yaxis": "y"
        },
        {
         "legendgroup": "50-59",
         "line": {
          "color": "#003376"
         },
         "mode": "lines",
         "name": "50-59",
         "showlegend": true,
         "type": "scatter",
         "visible": false,
         "x": {
          "bdata": "MjM0NTY3ODk6",
          "dtype": "i1"
         },
         "xaxis": "x",
         "y": {
          "bdata": "RAQhA+0CUALOAfUAgQB0AAIA",
          "dtype": "i2"
         },
         "yaxis": "y"
        },
        {
         "legendgroup": "All",
         "line": {
          "color": "gray"
         },
         "mode": "lines",
         "name": "All",
         "showlegend": true,
         "type": "scatter",
         "visible": false,
         "x": {
          "bdata": "AAECAwQFBgcICQoLDA0ODxAREhMUFRYXGBkaGxwdHh8gISIjJCUmJygpKissLS4vMDEyMzQ1Njc4OTo=",
          "dtype": "i1"
         },
         "xaxis": "x2",
         "y": {
          "bdata": "ZAAAANMAAAAVAgAA3SMAAILFAABOygAA8pcAAJF/AAAHewAA4oEAANOGAADZhQAAToMAAH+GAAARhgAA2noAAAl1AAAJcgAAGXAAAOZtAADbbgAAvmsAAGpjAABBXwAAFVgAAGxUAADhTAAA5kYAAIlBAACQPAAAGTkAACg3AAAMMwAApDAAAFovAABYLAAA4ikAABAlAADSIQAACB4AAHYYAADdEwAACxIAACkRAAD8DgAAhwwAAJwKAAAbCAAAxwYAACwFAABEBAAAIQMAAO0CAABQAgAAzgEAAPUAAACBAAAAdAAAAAIAAAA=",
          "dtype": "i4"
         },
         "yaxis": "y2"
        },
        {
         "legendgroup": "0-9",
         "marker": {
          "color": "#ff4500"
         },
         "name": "0-9",
         "showlegend": true,
         "type": "bar",
         "visible": false,
         "x": {
          "bdata": "AAECAwQFBgcICQ==",
          "dtype": "i1"
         },
         "xaxis": "x",
         "y": {
          "bdata": "ZAAAANMAAAAVAgAA3SMAAILFAABOygAA8pcAAJF/AAAHewAA4oEAAA==",
          "dtype": "i4"
         },
         "yaxis": "y"
        },
        {
         "legendgroup": "10-19",
         "marker": {
          "color": "#fb8f5b"
         },
         "name": "10-19",
         "showlegend": true,
         "type": "bar",
         "visible": false,
         "x": {
          "bdata": "CgsMDQ4PEBESEw==",
          "dtype": "i1"
         },
         "xaxis": "x",
         "y": {
          "bdata": "04YAANmFAABOgwAAf4YAABGGAADaegAACXUAAAlyAAAZcAAA5m0AAA==",
          "dtype": "i4"
         },
         "yaxis": "y"
        },
        {
         "legendgroup": "20-29",
         "marker": {
          "color": "#fdc49d"
         },
         "name": "20-29",
         "showlegend": true,
         "type": "bar",
         "visible": false,
         "x": {
          "bdata": "FBUWFxgZGhscHQ==",
          "dtype": "i1"
         },
         "xaxis": "x",
         "y": {
          "bdata": "226+a2pjQV8VWGxU4UzmRolBkDw=",
          "dtype": "i2"
         },
         "yaxis": "y"
        },
        {
         "legendgroup": "30-39",
         "marker": {
          "color": "#99b9d5"
         },
         "name": "30-39",
         "showlegend": true,
         "type": "bar",
         "visible": false,
         "x": {
          "bdata": "Hh8gISIjJCUmJw==",
          "dtype": "i1"
         },
         "xaxis": "x",
         "y": {
          "bdata": "GTkoNwwzpDBaL1gs4ikQJdIhCB4=",
          "dtype": "i2"
         },
         "yaxis": "y"
        },
        {
         "legendgroup": "40-49",
         "marker": {
          "color": "#0077e4"
         },
         "name": "40-49",
         "showlegend": true,
         "type": "bar",
         "visible": false,
         "x": {
          "bdata": "KCkqKywtLi8wMQ==",
          "dtype": "i1"
         },
         "xaxis": "x",
         "y": {
          "bdata": "dhjdEwsSKRH8DocMnAobCMcGLAU=",
          "dtype": "i2"
         },
         "yaxis": "y"
        },
        {
         "legendgroup": "50-59",
         "marker": {
          "color": "#003376"
         },
         "name": "50-59",
         "showlegend": true,
         "type": "bar",
         "visible": false,
         "x": {
          "bdata": "MjM0NTY3ODk6",
          "dtype": "i1"
         },
         "xaxis": "x",
         "y": {
          "bdata": "RAQhA+0CUALOAfUAgQB0AAIA",
          "dtype": "i2"
         },
         "yaxis": "y"
        },
        {
         "legendgroup": "All",
         "marker": {
          "color": "gray"
         },
         "name": "All",
         "showlegend": true,
         "type": "bar",
         "visible": false,
         "x": {
          "bdata": "AAECAwQFBgcICQoLDA0ODxAREhMUFRYXGBkaGxwdHh8gISIjJCUmJygpKissLS4vMDEyMzQ1Njc4OTo=",
          "dtype": "i1"
         },
         "xaxis": "x2",
         "y": {
          "bdata": "ZAAAANMAAAAVAgAA3SMAAILFAABOygAA8pcAAJF/AAAHewAA4oEAANOGAADZhQAAToMAAH+GAAARhgAA2noAAAl1AAAJcgAAGXAAAOZtAADbbgAAvmsAAGpjAABBXwAAFVgAAGxUAADhTAAA5kYAAIlBAACQPAAAGTkAACg3AAAMMwAApDAAAFovAABYLAAA4ikAABAlAADSIQAACB4AAHYYAADdEwAACxIAACkRAAD8DgAAhwwAAJwKAAAbCAAAxwYAACwFAABEBAAAIQMAAO0CAABQAgAAzgEAAPUAAACBAAAAdAAAAAIAAAA=",
          "dtype": "i4"
         },
         "yaxis": "y2"
        },
        {
         "legendgroup": "0-9",
         "line": {
          "color": "#ff4500"
         },
         "mode": "lines",
         "name": "0-9",
         "showlegend": true,
         "type": "scatter",
         "visible": false,
         "x": {
          "bdata": "AQIDBAUGBwgJCgsM",
          "dtype": "i1"
         },
         "xaxis": "x",
         "y": {
          "bdata": "hEtDQjRQakvwTH9PRlmqVXVW2lmLVsdP",
          "dtype": "i2"
         },
         "yaxis": "y"
        },
        {
         "legendgroup": "10-19",
         "line": {
          "color": "#fb8f5b"
         },
         "mode": "lines",
         "name": "10-19",
         "showlegend": true,
         "type": "scatter",
         "visible": false,
         "x": {
          "bdata": "AQIDBAUGBwgJCgsM",
          "dtype": "i1"
         },
         "xaxis": "x",
         "y": {
          "bdata": "X2eoWRtrJGdyZ/ho4m2catllv24faJBj",
          "dtype": "i2"
         },
         "yaxis": "y"
        },
        {
         "legendgroup": "20-29",
         "line": {
          "color": "#fdc49d"
         },
         "mode": "lines",
         "name": "20-29",
         "showlegend": true,
         "type": "scatter",
         "visible": false,
         "x": {
          "bdata": "AQIDBAUGBwgJCgsM",
          "dtype": "i1"
         },
         "xaxis": "x",
         "y": {
          "bdata": "90XpPtNLlkc7R4ZKJ02gSjhH+knVR81A",
          "dtype": "i2"
         },
         "yaxis": "y"
        },
        {
         "legendgroup": "30-39",
         "line": {
          "color": "#99b9d5"
         },
         "mode": "lines",
         "name": "30-39",
         "showlegend": true,
         "type": "scatter",
         "visible": false,
         "x": {
          "bdata": "AQIDBAUGBwgJCgsM",
          "dtype": "i1"
         },
         "xaxis": "x",
         "y": {
          "bdata": "gSS0HoEmeiWNJOEmUSn3JwomEifoJIUg",
          "dtype": "i2"
         },
         "yaxis": "y"
        },
        {
         "legendgroup": "40-49",
         "line": {
          "color": "#0077e4"
         },
         "mode": "lines",
         "name": "40-49",
         "showlegend": true,
         "type": "scatter",
         "visible": false,
         "x": {
          "bdata": "AQIDBAUGBwgJCgsM",
          "dtype": "i1"
         },
         "xaxis": "x",
         "y": {
          "bdata": "eQuvCasLCwv9CtoLHQ0gDdkLAww3C68J",
          "dtype": "i2"
         },
         "yaxis": "y"
        },
        {
         "legendgroup": "50-59",
         "line": {
          "color": "#003376"
         },
         "mode": "lines",
         "name": "50-59",
         "showlegend": true,
         "type": "scatter",
         "visible": false,
         "x": {
          "bdata": "AQIDBAUGBwgJCgsM",
          "dtype": "i1"
         },
         "xaxis": "x",
         "y": {
          "bdata": "ZgEyAXcBLwE/AVUBnwGYAXABcwFjAQ0B",
          "dtype": "i2"
         },
         "yaxis": "y"
        },
        {
         "legendgroup": "All",
         "line": {
          "color": "gray"
         },
         "mode": "lines",
         "name": "All",
         "showlegend": true,
         "type": "scatter",
         "visible": false,
         "x": {
          "bdata": "AQIDBAUGBwgJCgsM",
          "dtype": "i1"
         },
         "xaxis": "x2",
         "y": {
          "bdata": "OioBAGkEAQDFOgEA2CsBAGYsAQANNwEAXEwBAJVBAQDZNgEAG0cBAAE4AQBlHwEA",
          "dtype": "i4"
         },
         "yaxis": "y2"
        },
        {
         "legendgroup": "0-9",
         "marker": {
          "color": "#ff4500"
         },
         "name": "0-9",
         "showlegend": true,
         "type": "bar",
         "visible": false,
         "x": {
          "bdata": "AQIDBAUGBwgJCgsM",
          "dtype": "i1"
         },
         "xaxis": "x",
         "y": {
          "bdata": "hEtDQjRQakvwTH9PRlmqVXVW2lmLVsdP",
          "dtype": "i2"
         },
         "yaxis": "y"
        },
        {
         "legendgroup": "10-19",
         "marker": {
          "color": "#fb8f5b"
         },
         "name": "10-19",
         "showlegend": true,
         "type": "bar",
         "visible": false,
         "x": {
          "bdata": "AQIDBAUGBwgJCgsM",
          "dtype": "i1"
         },
         "xaxis": "x",
         "y": {
          "bdata": "X2eoWRtrJGdyZ/ho4m2catllv24faJBj",
          "dtype": "i2"
         },
         "yaxis": "y"
        },
        {
         "legendgroup": "20-29",
         "marker": {
          "color": "#fdc49d"
         },
         "name": "20-29",
         "showlegend": true,
         "type": "bar",
         "visible": false,
         "x": {
          "bdata": "AQIDBAUGBwgJCgsM",
          "dtype": "i1"
         },
         "xaxis": "x",
         "y": {
          "bdata": "90XpPtNLlkc7R4ZKJ02gSjhH+knVR81A",
          "dtype": "i2"
         },
         "yaxis": "y"
        },
        {
         "legendgroup": "30-39",
         "marker": {
          "color": "#99b9d5"
         },
         "name": "30-39",
         "showlegend": true,
         "type": "bar",
         "visible": false,
         "x": {
          "bdata": "AQIDBAUGBwgJCgsM",
          "dtype": "i1"
         },
         "xaxis": "x",
         "y": {
          "bdata": "gSS0HoEmeiWNJOEmUSn3JwomEifoJIUg",
          "dtype": "i2"
         },
         "yaxis": "y"
        },
        {
         "legendgroup": "40-49",
         "marker": {
          "color": "#0077e4"
         },
         "name": "40-49",
         "showlegend": true,
         "type": "bar",
         "visible": false,
         "x": {
          "bdata": "AQIDBAUGBwgJCgsM",
          "dtype": "i1"
         },
         "xaxis": "x",
         "y": {
          "bdata": "eQuvCasLCwv9CtoLHQ0gDdkLAww3C68J",
          "dtype": "i2"
         },
         "yaxis": "y"
        },
        {
         "legendgroup": "50-59",
         "marker": {
          "color": "#003376"
         },
         "name": "50-59",
         "showlegend": true,
         "type": "bar",
         "visible": false,
         "x": {
          "bdata": "AQIDBAUGBwgJCgsM",
          "dtype": "i1"
         },
         "xaxis": "x",
         "y": {
          "bdata": "ZgEyAXcBLwE/AVUBnwGYAXABcwFjAQ0B",
          "dtype": "i2"
         },
         "yaxis": "y"
        },
        {
         "legendgroup": "All",
         "marker": {
          "color": "gray"
         },
         "name": "All",
         "showlegend": true,
         "type": "bar",
         "visible": false,
         "x": {
          "bdata": "AQIDBAUGBwgJCgsM",
          "dtype": "i1"
         },
         "xaxis": "x2",
         "y": {
          "bdata": "OioBAGkEAQDFOgEA2CsBAGYsAQANNwEAXEwBAJVBAQDZNgEAG0cBAAE4AQBlHwEA",
          "dtype": "i4"
         },
         "yaxis": "y2"
        }
       ],
       "layout": {
        "annotations": [
         {
          "showarrow": false,
          "text": "Select X-axis Variable:",
          "x": 0.86,
          "xref": "paper",
          "y": 1.1,
          "yref": "paper"
         },
         {
          "showarrow": false,
          "text": "Plot Type:",
          "x": 0,
          "xref": "paper",
          "y": 1.1,
          "yref": "paper"
         }
        ],
        "autosize": false,
        "bargap": 0.15,
        "height": 500,
        "margin": {
         "b": 20,
         "l": 20,
         "r": 20,
         "t": 100
        },
        "template": {
         "data": {
          "bar": [
           {
            "error_x": {
             "color": "#2a3f5f"
            },
            "error_y": {
             "color": "#2a3f5f"
            },
            "marker": {
             "line": {
              "color": "#E5ECF6",
              "width": 0.5
             },
             "pattern": {
              "fillmode": "overlay",
              "size": 10,
              "solidity": 0.2
             }
            },
            "type": "bar"
           }
          ],
          "barpolar": [
           {
            "marker": {
             "line": {
              "color": "#E5ECF6",
              "width": 0.5
             },
             "pattern": {
              "fillmode": "overlay",
              "size": 10,
              "solidity": 0.2
             }
            },
            "type": "barpolar"
           }
          ],
          "carpet": [
           {
            "aaxis": {
             "endlinecolor": "#2a3f5f",
             "gridcolor": "white",
             "linecolor": "white",
             "minorgridcolor": "white",
             "startlinecolor": "#2a3f5f"
            },
            "baxis": {
             "endlinecolor": "#2a3f5f",
             "gridcolor": "white",
             "linecolor": "white",
             "minorgridcolor": "white",
             "startlinecolor": "#2a3f5f"
            },
            "type": "carpet"
           }
          ],
          "choropleth": [
           {
            "colorbar": {
             "outlinewidth": 0,
             "ticks": ""
            },
            "type": "choropleth"
           }
          ],
          "contour": [
           {
            "colorbar": {
             "outlinewidth": 0,
             "ticks": ""
            },
            "colorscale": [
             [
              0,
              "#0d0887"
             ],
             [
              0.1111111111111111,
              "#46039f"
             ],
             [
              0.2222222222222222,
              "#7201a8"
             ],
             [
              0.3333333333333333,
              "#9c179e"
             ],
             [
              0.4444444444444444,
              "#bd3786"
             ],
             [
              0.5555555555555556,
              "#d8576b"
             ],
             [
              0.6666666666666666,
              "#ed7953"
             ],
             [
              0.7777777777777778,
              "#fb9f3a"
             ],
             [
              0.8888888888888888,
              "#fdca26"
             ],
             [
              1,
              "#f0f921"
             ]
            ],
            "type": "contour"
           }
          ],
          "contourcarpet": [
           {
            "colorbar": {
             "outlinewidth": 0,
             "ticks": ""
            },
            "type": "contourcarpet"
           }
          ],
          "heatmap": [
           {
            "colorbar": {
             "outlinewidth": 0,
             "ticks": ""
            },
            "colorscale": [
             [
              0,
              "#0d0887"
             ],
             [
              0.1111111111111111,
              "#46039f"
             ],
             [
              0.2222222222222222,
              "#7201a8"
             ],
             [
              0.3333333333333333,
              "#9c179e"
             ],
             [
              0.4444444444444444,
              "#bd3786"
             ],
             [
              0.5555555555555556,
              "#d8576b"
             ],
             [
              0.6666666666666666,
              "#ed7953"
             ],
             [
              0.7777777777777778,
              "#fb9f3a"
             ],
             [
              0.8888888888888888,
              "#fdca26"
             ],
             [
              1,
              "#f0f921"
             ]
            ],
            "type": "heatmap"
           }
          ],
          "histogram": [
           {
            "marker": {
             "pattern": {
              "fillmode": "overlay",
              "size": 10,
              "solidity": 0.2
             }
            },
            "type": "histogram"
           }
          ],
          "histogram2d": [
           {
            "colorbar": {
             "outlinewidth": 0,
             "ticks": ""
            },
            "colorscale": [
             [
              0,
              "#0d0887"
             ],
             [
              0.1111111111111111,
              "#46039f"
             ],
             [
              0.2222222222222222,
              "#7201a8"
             ],
             [
              0.3333333333333333,
              "#9c179e"
             ],
             [
              0.4444444444444444,
              "#bd3786"
             ],
             [
              0.5555555555555556,
              "#d8576b"
             ],
             [
              0.6666666666666666,
              "#ed7953"
             ],
             [
              0.7777777777777778,
              "#fb9f3a"
             ],
             [
              0.8888888888888888,
              "#fdca26"
             ],
             [
              1,
              "#f0f921"
             ]
            ],
            "type": "histogram2d"
           }
          ],
          "histogram2dcontour": [
           {
            "colorbar": {
             "outlinewidth": 0,
             "ticks": ""
            },
            "colorscale": [
             [
              0,
              "#0d0887"
             ],
             [
              0.1111111111111111,
              "#46039f"
             ],
             [
              0.2222222222222222,
              "#7201a8"
             ],
             [
              0.3333333333333333,
              "#9c179e"
             ],
             [
              0.4444444444444444,
              "#bd3786"
             ],
             [
              0.5555555555555556,
              "#d8576b"
             ],
             [
              0.6666666666666666,
              "#ed7953"
             ],
             [
              0.7777777777777778,
              "#fb9f3a"
             ],
             [
              0.8888888888888888,
              "#fdca26"
             ],
             [
              1,
              "#f0f921"
             ]
            ],
            "type": "histogram2dcontour"
           }
          ],
          "mesh3d": [
           {
            "colorbar": {
             "outlinewidth": 0,
             "ticks": ""
            },
            "type": "mesh3d"
           }
          ],
          "parcoords": [
           {
            "line": {
             "colorbar": {
              "outlinewidth": 0,
              "ticks": ""
             }
            },
            "type": "parcoords"
           }
          ],
          "pie": [
           {
            "automargin": true,
            "type": "pie"
           }
          ],
          "scatter": [
           {
            "fillpattern": {
             "fillmode": "overlay",
             "size": 10,
             "solidity": 0.2
            },
            "type": "scatter"
           }
          ],
          "scatter3d": [
           {
            "line": {
             "colorbar": {
              "outlinewidth": 0,
              "ticks": ""
             }
            },
            "marker": {
             "colorbar": {
              "outlinewidth": 0,
              "ticks": ""
             }
            },
            "type": "scatter3d"
           }
          ],
          "scattercarpet": [
           {
            "marker": {
             "colorbar": {
              "outlinewidth": 0,
              "ticks": ""
             }
            },
            "type": "scattercarpet"
           }
          ],
          "scattergeo": [
           {
            "marker": {
             "colorbar": {
              "outlinewidth": 0,
              "ticks": ""
             }
            },
            "type": "scattergeo"
           }
          ],
          "scattergl": [
           {
            "marker": {
             "colorbar": {
              "outlinewidth": 0,
              "ticks": ""
             }
            },
            "type": "scattergl"
           }
          ],
          "scattermap": [
           {
            "marker": {
             "colorbar": {
              "outlinewidth": 0,
              "ticks": ""
             }
            },
            "type": "scattermap"
           }
          ],
          "scattermapbox": [
           {
            "marker": {
             "colorbar": {
              "outlinewidth": 0,
              "ticks": ""
             }
            },
            "type": "scattermapbox"
           }
          ],
          "scatterpolar": [
           {
            "marker": {
             "colorbar": {
              "outlinewidth": 0,
              "ticks": ""
             }
            },
            "type": "scatterpolar"
           }
          ],
          "scatterpolargl": [
           {
            "marker": {
             "colorbar": {
              "outlinewidth": 0,
              "ticks": ""
             }
            },
            "type": "scatterpolargl"
           }
          ],
          "scatterternary": [
           {
            "marker": {
             "colorbar": {
              "outlinewidth": 0,
              "ticks": ""
             }
            },
            "type": "scatterternary"
           }
          ],
          "surface": [
           {
            "colorbar": {
             "outlinewidth": 0,
             "ticks": ""
            },
            "colorscale": [
             [
              0,
              "#0d0887"
             ],
             [
              0.1111111111111111,
              "#46039f"
             ],
             [
              0.2222222222222222,
              "#7201a8"
             ],
             [
              0.3333333333333333,
              "#9c179e"
             ],
             [
              0.4444444444444444,
              "#bd3786"
             ],
             [
              0.5555555555555556,
              "#d8576b"
             ],
             [
              0.6666666666666666,
              "#ed7953"
             ],
             [
              0.7777777777777778,
              "#fb9f3a"
             ],
             [
              0.8888888888888888,
              "#fdca26"
             ],
             [
              1,
              "#f0f921"
             ]
            ],
            "type": "surface"
           }
          ],
          "table": [
           {
            "cells": {
             "fill": {
              "color": "#EBF0F8"
             },
             "line": {
              "color": "white"
             }
            },
            "header": {
             "fill": {
              "color": "#C8D4E3"
             },
             "line": {
              "color": "white"
             }
            },
            "type": "table"
           }
          ]
         },
         "layout": {
          "annotationdefaults": {
           "arrowcolor": "#2a3f5f",
           "arrowhead": 0,
           "arrowwidth": 1
          },
          "autotypenumbers": "strict",
          "coloraxis": {
           "colorbar": {
            "outlinewidth": 0,
            "ticks": ""
           }
          },
          "colorscale": {
           "diverging": [
            [
             0,
             "#8e0152"
            ],
            [
             0.1,
             "#c51b7d"
            ],
            [
             0.2,
             "#de77ae"
            ],
            [
             0.3,
             "#f1b6da"
            ],
            [
             0.4,
             "#fde0ef"
            ],
            [
             0.5,
             "#f7f7f7"
            ],
            [
             0.6,
             "#e6f5d0"
            ],
            [
             0.7,
             "#b8e186"
            ],
            [
             0.8,
             "#7fbc41"
            ],
            [
             0.9,
             "#4d9221"
            ],
            [
             1,
             "#276419"
            ]
           ],
           "sequential": [
            [
             0,
             "#0d0887"
            ],
            [
             0.1111111111111111,
             "#46039f"
            ],
            [
             0.2222222222222222,
             "#7201a8"
            ],
            [
             0.3333333333333333,
             "#9c179e"
            ],
            [
             0.4444444444444444,
             "#bd3786"
            ],
            [
             0.5555555555555556,
             "#d8576b"
            ],
            [
             0.6666666666666666,
             "#ed7953"
            ],
            [
             0.7777777777777778,
             "#fb9f3a"
            ],
            [
             0.8888888888888888,
             "#fdca26"
            ],
            [
             1,
             "#f0f921"
            ]
           ],
           "sequentialminus": [
            [
             0,
             "#0d0887"
            ],
            [
             0.1111111111111111,
             "#46039f"
            ],
            [
             0.2222222222222222,
             "#7201a8"
            ],
            [
             0.3333333333333333,
             "#9c179e"
            ],
            [
             0.4444444444444444,
             "#bd3786"
            ],
            [
             0.5555555555555556,
             "#d8576b"
            ],
            [
             0.6666666666666666,
             "#ed7953"
            ],
            [
             0.7777777777777778,
             "#fb9f3a"
            ],
            [
             0.8888888888888888,
             "#fdca26"
            ],
            [
             1,
             "#f0f921"
            ]
           ]
          },
          "colorway": [
           "#636efa",
           "#EF553B",
           "#00cc96",
           "#ab63fa",
           "#FFA15A",
           "#19d3f3",
           "#FF6692",
           "#B6E880",
           "#FF97FF",
           "#FECB52"
          ],
          "font": {
           "color": "#2a3f5f"
          },
          "geo": {
           "bgcolor": "white",
           "lakecolor": "white",
           "landcolor": "#E5ECF6",
           "showlakes": true,
           "showland": true,
           "subunitcolor": "white"
          },
          "hoverlabel": {
           "align": "left"
          },
          "hovermode": "closest",
          "mapbox": {
           "style": "light"
          },
          "paper_bgcolor": "white",
          "plot_bgcolor": "#E5ECF6",
          "polar": {
           "angularaxis": {
            "gridcolor": "white",
            "linecolor": "white",
            "ticks": ""
           },
           "bgcolor": "#E5ECF6",
           "radialaxis": {
            "gridcolor": "white",
            "linecolor": "white",
            "ticks": ""
           }
          },
          "scene": {
           "xaxis": {
            "backgroundcolor": "#E5ECF6",
            "gridcolor": "white",
            "gridwidth": 2,
            "linecolor": "white",
            "showbackground": true,
            "ticks": "",
            "zerolinecolor": "white"
           },
           "yaxis": {
            "backgroundcolor": "#E5ECF6",
            "gridcolor": "white",
            "gridwidth": 2,
            "linecolor": "white",
            "showbackground": true,
            "ticks": "",
            "zerolinecolor": "white"
           },
           "zaxis": {
            "backgroundcolor": "#E5ECF6",
            "gridcolor": "white",
            "gridwidth": 2,
            "linecolor": "white",
            "showbackground": true,
            "ticks": "",
            "zerolinecolor": "white"
           }
          },
          "shapedefaults": {
           "line": {
            "color": "#2a3f5f"
           }
          },
          "ternary": {
           "aaxis": {
            "gridcolor": "white",
            "linecolor": "white",
            "ticks": ""
           },
           "baxis": {
            "gridcolor": "white",
            "linecolor": "white",
            "ticks": ""
           },
           "bgcolor": "#E5ECF6",
           "caxis": {
            "gridcolor": "white",
            "linecolor": "white",
            "ticks": ""
           }
          },
          "title": {
           "x": 0.05
          },
          "xaxis": {
           "automargin": true,
           "gridcolor": "white",
           "linecolor": "white",
           "ticks": "",
           "title": {
            "standoff": 15
           },
           "zerolinecolor": "white",
           "zerolinewidth": 2
          },
          "yaxis": {
           "automargin": true,
           "gridcolor": "white",
           "linecolor": "white",
           "ticks": "",
           "title": {
            "standoff": 15
           },
           "zerolinecolor": "white",
           "zerolinewidth": 2
          }
         }
        },
        "title": {
         "text": "Units Resold By Years Leased",
         "y": 0.95
        },
        "updatemenus": [
         {
          "buttons": [
           {
            "args": [
             {
              "visible": [
               true,
               true,
               true,
               true,
               true,
               true,
               true,
               false,
               false,
               false,
               false,
               false,
               false,
               false,
               false,
               false,
               false,
               false,
               false,
               false,
               false,
               false,
               false,
               false,
               false,
               false,
               false,
               false,
               false,
               false,
               false,
               false,
               false,
               false,
               false,
               false,
               false,
               false,
               false,
               false,
               false,
               false,
               false,
               false,
               false,
               false,
               false,
               false,
               false,
               false,
               false,
               false,
               false,
               false,
               false,
               false
              ]
             },
             {
              "xaxis.title": "Year",
              "xaxis2.title": "Year"
             }
            ],
            "label": "Year",
            "method": "update"
           },
           {
            "args": [
             {
              "visible": [
               false,
               false,
               false,
               false,
               false,
               false,
               false,
               false,
               false,
               false,
               false,
               false,
               false,
               false,
               true,
               true,
               true,
               true,
               true,
               true,
               true,
               false,
               false,
               false,
               false,
               false,
               false,
               false,
               false,
               false,
               false,
               false,
               false,
               false,
               false,
               false,
               false,
               false,
               false,
               false,
               false,
               false,
               false,
               false,
               false,
               false,
               false,
               false,
               false,
               false,
               false,
               false,
               false,
               false,
               false,
               false
              ]
             },
             {
              "xaxis.title": "Lease Year",
              "xaxis2.title": "Lease Year"
             }
            ],
            "label": "Lease Year",
            "method": "update"
           },
           {
            "args": [
             {
              "visible": [
               false,
               false,
               false,
               false,
               false,
               false,
               false,
               false,
               false,
               false,
               false,
               false,
               false,
               false,
               false,
               false,
               false,
               false,
               false,
               false,
               false,
               false,
               false,
               false,
               false,
               false,
               false,
               false,
               true,
               true,
               true,
               true,
               true,
               true,
               true,
               false,
               false,
               false,
               false,
               false,
               false,
               false,
               false,
               false,
               false,
               false,
               false,
               false,
               false,
               false,
               false,
               false,
               false,
               false,
               false,
               false
              ]
             },
             {
              "xaxis.title": "Years Leased",
              "xaxis2.title": "Years Leased"
             }
            ],
            "label": "Years Leased",
            "method": "update"
           },
           {
            "args": [
             {
              "visible": [
               false,
               false,
               false,
               false,
               false,
               false,
               false,
               false,
               false,
               false,
               false,
               false,
               false,
               false,
               false,
               false,
               false,
               false,
               false,
               false,
               false,
               false,
               false,
               false,
               false,
               false,
               false,
               false,
               false,
               false,
               false,
               false,
               false,
               false,
               false,
               false,
               false,
               false,
               false,
               false,
               false,
               false,
               true,
               true,
               true,
               true,
               true,
               true,
               true,
               false,
               false,
               false,
               false,
               false,
               false,
               false
              ]
             },
             {
              "xaxis.title": "Month",
              "xaxis2.title": "Month"
             }
            ],
            "label": "Month",
            "method": "update"
           }
          ],
          "direction": "down",
          "pad": {
           "r": 10,
           "t": 10
          },
          "showactive": true,
          "x": 1.01,
          "xanchor": "right",
          "y": 1.15,
          "yanchor": "top"
         },
         {
          "buttons": [
           {
            "args": [
             {
              "visible": [
               true,
               true,
               true,
               true,
               true,
               true,
               true,
               false,
               false,
               false,
               false,
               false,
               false,
               false,
               false,
               false,
               false,
               false,
               false,
               false,
               false,
               false,
               false,
               false,
               false,
               false,
               false,
               false,
               false,
               false,
               false,
               false,
               false,
               false,
               false,
               false,
               false,
               false,
               false,
               false,
               false,
               false,
               false,
               false,
               false,
               false,
               false,
               false,
               false,
               false,
               false,
               false,
               false,
               false,
               false,
               false
              ]
             },
             {
              "barmode": "group"
             }
            ],
            "label": "Line Plot",
            "method": "update"
           },
           {
            "args": [
             {
              "visible": [
               false,
               false,
               false,
               false,
               false,
               false,
               false,
               true,
               true,
               true,
               true,
               true,
               true,
               true,
               false,
               false,
               false,
               false,
               false,
               false,
               false,
               false,
               false,
               false,
               false,
               false,
               false,
               false,
               false,
               false,
               false,
               false,
               false,
               false,
               false,
               false,
               false,
               false,
               false,
               false,
               false,
               false,
               false,
               false,
               false,
               false,
               false,
               false,
               false,
               false,
               false,
               false,
               false,
               false,
               false,
               false
              ]
             },
             {
              "barmode": "stack"
             }
            ],
            "label": "Bar Plot",
            "method": "update"
           }
          ],
          "direction": "right",
          "pad": {
           "r": 10,
           "t": 10
          },
          "showactive": true,
          "type": "buttons",
          "x": 0.26,
          "xanchor": "right",
          "y": 1.15,
          "yanchor": "top"
         }
        ],
        "width": 1100,
        "xaxis": {
         "anchor": "y",
         "domain": [
          0,
          1
         ],
         "title": {
          "text": "Year"
         }
        },
        "xaxis2": {
         "anchor": "y2",
         "domain": [
          0,
          1
         ],
         "title": {
          "text": "Year"
         }
        },
        "yaxis": {
         "anchor": "x",
         "domain": [
          0.32,
          1
         ],
         "title": {
          "text": "Units Resold"
         }
        },
        "yaxis2": {
         "anchor": "x2",
         "domain": [
          0,
          0.17
         ]
        }
       }
      }
     },
     "metadata": {},
     "output_type": "display_data"
    }
   ],
   "source": [
    "catplots(df_p, x_vars, 'years_leased_binned', 'Units Resold By Years Leased', 'count')"
   ]
  },
  {
   "cell_type": "code",
   "execution_count": 19,
   "id": "61c425a8",
   "metadata": {},
   "outputs": [
    {
     "data": {
      "application/vnd.plotly.v1+json": {
       "config": {
        "plotlyServerURL": "https://plot.ly"
       },
       "data": [
        {
         "legendgroup": "1960-1969",
         "line": {
          "color": "#ff4500"
         },
         "mode": "lines",
         "name": "1960-1969",
         "showlegend": true,
         "type": "scatter",
         "visible": true,
         "x": {
          "bdata": "xgfHB8gHyQfKB8sHzAfNB84HzwfQB9EH0gfTB9QH1QfWB9cH2AfZB9oH2wfcB90H3gffB+AH4QfiB+MH5AflB+YH5wfoBw==",
          "dtype": "i2"
         },
         "xaxis": "x",
         "y": {
          "bdata": "4AGfAdsBFQJpAkUC/gIjAi4DGgR5ApACVgIbApsCegI1AvMB1gHuAYICmAFsARMBDAEKAQgBCgHbAAQBBQEsARgB9gD7AA==",
          "dtype": "i2"
         },
         "yaxis": "y"
        },
        {
         "legendgroup": "1970-1979",
         "line": {
          "color": "#fc834c"
         },
         "mode": "lines",
         "name": "1970-1979",
         "showlegend": true,
         "type": "scatter",
         "visible": true,
         "x": {
          "bdata": "xgfHB8gHyQfKB8sHzAfNB84HzwfQB9EH0gfTB9QH1QfWB9cH2AfZB9oH2wfcB90H3gffB+AH4QfiB+MH5AflB+YH5wfoBw==",
          "dtype": "i2"
         },
         "xaxis": "x",
         "y": {
          "bdata": "xxX8EgwU1xVSHJ8biyOIHCoqDDHNHH4b/xi4FsMXqhZEFFASfBIOFGEXXA6RDsMK2wokCxYLIwvoClcL+wqHDW8MoAtCCw==",
          "dtype": "i2"
         },
         "yaxis": "y"
        },
        {
         "legendgroup": "1980-1989",
         "line": {
          "color": "#fcb58a"
         },
         "mode": "lines",
         "name": "1980-1989",
         "showlegend": true,
         "type": "scatter",
         "visible": true,
         "x": {
          "bdata": "xgfHB8gHyQfKB8sHzAfNB84HzwfQB9EH0gfTB9QH1QfWB9cH2AfZB9oH2wfcB90H3gffB+AH4QfiB+MH5AflB+YH5wfoBw==",
          "dtype": "i2"
         },
         "xaxis": "x",
         "y": {
          "bdata": "MhmaHbQioi4PRxxILlb/S7h3eHTLQ/0/EzlrL44t8i3lKeclaiZlKrkyPSDvId4XehhqGRUaTxklGnYawRnwHLcbBBpBGg==",
          "dtype": "i2"
         },
         "yaxis": "y"
        },
        {
         "legendgroup": "1990-1999",
         "line": {
          "color": "#ffdab9"
         },
         "mode": "lines",
         "name": "1990-1999",
         "showlegend": true,
         "type": "scatter",
         "visible": true,
         "x": {
          "bdata": "xwfIB8kHygfLB8wHzQfOB88H0AfRB9IH0wfUB9UH1gfXB9gH2QfaB9sH3AfdB94H3wfgB+EH4gfjB+QH5QfmB+cH6Ac=",
          "dtype": "i2"
         },
         "xaxis": "x",
         "y": {
          "bdata": "AQALADUAKQGNBK0LZRGHIhg4HSWcNpU4GChwII8fdxruGpoZNBw8ISsUFxX1DbsM4Q5cEOEQNBEjECgP5hJ+EWIQMxA=",
          "dtype": "i2"
         },
         "yaxis": "y"
        },
        {
         "legendgroup": "2000-2009",
         "line": {
          "color": "#55a3e8"
         },
         "mode": "lines",
         "name": "2000-2009",
         "showlegend": true,
         "type": "scatter",
         "visible": true,
         "x": {
          "bdata": "0gfTB9QH1QfWB9cH2AfZB9oH2wfcB90H3gffB+AH4QfiB+MH5AflB+YH5wfoBw==",
          "dtype": "i2"
         },
         "xaxis": "x",
         "y": {
          "bdata": "BQD1AFoJrA5OEE4UKBZ9Gk0apBKSE7cMtAyGDkEPDxCGENYNsAypEI0OJg1sDQ==",
          "dtype": "i2"
         },
         "yaxis": "y"
        },
        {
         "legendgroup": "2010-2019",
         "line": {
          "color": "#006cd1"
         },
         "mode": "lines",
         "name": "2010-2019",
         "showlegend": true,
         "type": "scatter",
         "visible": true,
         "x": {
          "bdata": "2gfbB9wH3QfeB98H4AfhB+IH4wfkB+UH5gfnB+gH",
          "dtype": "i2"
         },
         "xaxis": "x",
         "y": {
          "bdata": "AQAIAAkAgQAQAXUC3QWxCZcM4BGMGW0iFx9bIFEc",
          "dtype": "i2"
         },
         "yaxis": "y"
        },
        {
         "legendgroup": "2020-2029",
         "line": {
          "color": "#003376"
         },
         "mode": "lines",
         "name": "2020-2029",
         "showlegend": true,
         "type": "scatter",
         "visible": true,
         "x": {
          "bdata": "5wfoBw==",
          "dtype": "i2"
         },
         "xaxis": "x",
         "y": {
          "bdata": "HgApBA==",
          "dtype": "i2"
         },
         "yaxis": "y"
        },
        {
         "legendgroup": "All",
         "line": {
          "color": "gray"
         },
         "mode": "lines",
         "name": "All",
         "showlegend": true,
         "type": "scatter",
         "visible": true,
         "x": {
          "bdata": "xgfHB8gHyQfKB8sHzAfNB84HzwfQB9EH0gfTB9QH1QfWB9cH2AfZB9oH2wfcB90H3gffB+AH4QfiB+MH5AflB+YH5wfoBw==",
          "dtype": "i2"
         },
         "xaxis": "x2",
         "y": {
          "bdata": "2TAAADYyAACmOAAAw0YAAPNmAACNagAAZIgAAA98AACXxwAAtuEAAC6IAACnlAAAAo0AAEtxAAC2cQAAUXUAACNrAABmaQAAfmoAABJ3AAAmiAAACFcAAJ5aAADhPgAA4D4AAHRFAACtSwAAHVAAADlUAACqVgAAJVsAAJ9xAABgaAAAm2QAAJdkAAA=",
          "dtype": "i4"
         },
         "yaxis": "y2"
        },
        {
         "legendgroup": "1960-1969",
         "marker": {
          "color": "#ff4500"
         },
         "name": "1960-1969",
         "showlegend": true,
         "type": "bar",
         "visible": false,
         "x": {
          "bdata": "xgfHB8gHyQfKB8sHzAfNB84HzwfQB9EH0gfTB9QH1QfWB9cH2AfZB9oH2wfcB90H3gffB+AH4QfiB+MH5AflB+YH5wfoBw==",
          "dtype": "i2"
         },
         "xaxis": "x",
         "y": {
          "bdata": "4AGfAdsBFQJpAkUC/gIjAi4DGgR5ApACVgIbApsCegI1AvMB1gHuAYICmAFsARMBDAEKAQgBCgHbAAQBBQEsARgB9gD7AA==",
          "dtype": "i2"
         },
         "yaxis": "y"
        },
        {
         "legendgroup": "1970-1979",
         "marker": {
          "color": "#fc834c"
         },
         "name": "1970-1979",
         "showlegend": true,
         "type": "bar",
         "visible": false,
         "x": {
          "bdata": "xgfHB8gHyQfKB8sHzAfNB84HzwfQB9EH0gfTB9QH1QfWB9cH2AfZB9oH2wfcB90H3gffB+AH4QfiB+MH5AflB+YH5wfoBw==",
          "dtype": "i2"
         },
         "xaxis": "x",
         "y": {
          "bdata": "xxX8EgwU1xVSHJ8biyOIHCoqDDHNHH4b/xi4FsMXqhZEFFASfBIOFGEXXA6RDsMK2wokCxYLIwvoClcL+wqHDW8MoAtCCw==",
          "dtype": "i2"
         },
         "yaxis": "y"
        },
        {
         "legendgroup": "1980-1989",
         "marker": {
          "color": "#fcb58a"
         },
         "name": "1980-1989",
         "showlegend": true,
         "type": "bar",
         "visible": false,
         "x": {
          "bdata": "xgfHB8gHyQfKB8sHzAfNB84HzwfQB9EH0gfTB9QH1QfWB9cH2AfZB9oH2wfcB90H3gffB+AH4QfiB+MH5AflB+YH5wfoBw==",
          "dtype": "i2"
         },
         "xaxis": "x",
         "y": {
          "bdata": "MhmaHbQioi4PRxxILlb/S7h3eHTLQ/0/EzlrL44t8i3lKeclaiZlKrkyPSDvId4XehhqGRUaTxklGnYawRnwHLcbBBpBGg==",
          "dtype": "i2"
         },
         "yaxis": "y"
        },
        {
         "legendgroup": "1990-1999",
         "marker": {
          "color": "#ffdab9"
         },
         "name": "1990-1999",
         "showlegend": true,
         "type": "bar",
         "visible": false,
         "x": {
          "bdata": "xwfIB8kHygfLB8wHzQfOB88H0AfRB9IH0wfUB9UH1gfXB9gH2QfaB9sH3AfdB94H3wfgB+EH4gfjB+QH5QfmB+cH6Ac=",
          "dtype": "i2"
         },
         "xaxis": "x",
         "y": {
          "bdata": "AQALADUAKQGNBK0LZRGHIhg4HSWcNpU4GChwII8fdxruGpoZNBw8ISsUFxX1DbsM4Q5cEOEQNBEjECgP5hJ+EWIQMxA=",
          "dtype": "i2"
         },
         "yaxis": "y"
        },
        {
         "legendgroup": "2000-2009",
         "marker": {
          "color": "#55a3e8"
         },
         "name": "2000-2009",
         "showlegend": true,
         "type": "bar",
         "visible": false,
         "x": {
          "bdata": "0gfTB9QH1QfWB9cH2AfZB9oH2wfcB90H3gffB+AH4QfiB+MH5AflB+YH5wfoBw==",
          "dtype": "i2"
         },
         "xaxis": "x",
         "y": {
          "bdata": "BQD1AFoJrA5OEE4UKBZ9Gk0apBKSE7cMtAyGDkEPDxCGENYNsAypEI0OJg1sDQ==",
          "dtype": "i2"
         },
         "yaxis": "y"
        },
        {
         "legendgroup": "2010-2019",
         "marker": {
          "color": "#006cd1"
         },
         "name": "2010-2019",
         "showlegend": true,
         "type": "bar",
         "visible": false,
         "x": {
          "bdata": "2gfbB9wH3QfeB98H4AfhB+IH4wfkB+UH5gfnB+gH",
          "dtype": "i2"
         },
         "xaxis": "x",
         "y": {
          "bdata": "AQAIAAkAgQAQAXUC3QWxCZcM4BGMGW0iFx9bIFEc",
          "dtype": "i2"
         },
         "yaxis": "y"
        },
        {
         "legendgroup": "2020-2029",
         "marker": {
          "color": "#003376"
         },
         "name": "2020-2029",
         "showlegend": true,
         "type": "bar",
         "visible": false,
         "x": {
          "bdata": "5wfoBw==",
          "dtype": "i2"
         },
         "xaxis": "x",
         "y": {
          "bdata": "HgApBA==",
          "dtype": "i2"
         },
         "yaxis": "y"
        },
        {
         "legendgroup": "All",
         "marker": {
          "color": "gray"
         },
         "name": "All",
         "showlegend": true,
         "type": "bar",
         "visible": false,
         "x": {
          "bdata": "xgfHB8gHyQfKB8sHzAfNB84HzwfQB9EH0gfTB9QH1QfWB9cH2AfZB9oH2wfcB90H3gffB+AH4QfiB+MH5AflB+YH5wfoBw==",
          "dtype": "i2"
         },
         "xaxis": "x2",
         "y": {
          "bdata": "2TAAADYyAACmOAAAw0YAAPNmAACNagAAZIgAAA98AACXxwAAtuEAAC6IAACnlAAAAo0AAEtxAAC2cQAAUXUAACNrAABmaQAAfmoAABJ3AAAmiAAACFcAAJ5aAADhPgAA4D4AAHRFAACtSwAAHVAAADlUAACqVgAAJVsAAJ9xAABgaAAAm2QAAJdkAAA=",
          "dtype": "i4"
         },
         "yaxis": "y2"
        },
        {
         "legendgroup": "1960-1969",
         "line": {
          "color": "#ff4500"
         },
         "mode": "lines",
         "name": "1960-1969",
         "showlegend": true,
         "type": "scatter",
         "visible": false,
         "x": {
          "bdata": "rgevB7AHsQc=",
          "dtype": "i2"
         },
         "xaxis": "x",
         "y": {
          "bdata": "IgBtGF0H7yA=",
          "dtype": "i2"
         },
         "yaxis": "y"
        },
        {
         "legendgroup": "1970-1979",
         "line": {
          "color": "#fc834c"
         },
         "mode": "lines",
         "name": "1970-1979",
         "showlegend": true,
         "type": "scatter",
         "visible": false,
         "x": {
          "bdata": "sgezB7QHtQe2B7cHuAe5B7oHuwc=",
          "dtype": "i2"
         },
         "xaxis": "x",
         "y": {
          "bdata": "IC0AAPgeAAAKFwAA7yEAAII5AACdRAAADVUAALFRAADKogAAEHoAAA==",
          "dtype": "i4"
         },
         "yaxis": "y"
        },
        {
         "legendgroup": "1980-1989",
         "line": {
          "color": "#fcb58a"
         },
         "mode": "lines",
         "name": "1980-1989",
         "showlegend": true,
         "type": "scatter",
         "visible": false,
         "x": {
          "bdata": "vAe9B74HvwfAB8EHwgfDB8QHxQc=",
          "dtype": "i2"
         },
         "xaxis": "x",
         "y": {
          "bdata": "Mn4AAIxSAACQNAAA/loAAC/6AAB+WAEAQZgAAPCoAAAOyAAAJn8AAA==",
          "dtype": "i4"
         },
         "yaxis": "y"
        },
        {
         "legendgroup": "1990-1999",
         "line": {
          "color": "#ffdab9"
         },
         "mode": "lines",
         "name": "1990-1999",
         "showlegend": true,
         "type": "scatter",
         "visible": false,
         "x": {
          "bdata": "xgfHB8gHyQfKB8sHzAfNB84Hzwc=",
          "dtype": "i2"
         },
         "xaxis": "x",
         "y": {
          "bdata": "nyTxBNpPSm/mGQJL6m5+euNlHVM=",
          "dtype": "i2"
         },
         "yaxis": "y"
        },
        {
         "legendgroup": "2000-2009",
         "line": {
          "color": "#55a3e8"
         },
         "mode": "lines",
         "name": "2000-2009",
         "showlegend": true,
         "type": "scatter",
         "visible": false,
         "x": {
          "bdata": "0AfRB9IH0wfUB9UH1gfXB9gH2Qc=",
          "dtype": "i2"
         },
         "xaxis": "x",
         "y": {
          "bdata": "L0m9TUAy9z6/IS0Q0wz/A7YIQgc=",
          "dtype": "i2"
         },
         "yaxis": "y"
        },
        {
         "legendgroup": "2010-2019",
         "line": {
          "color": "#006cd1"
         },
         "mode": "lines",
         "name": "2010-2019",
         "showlegend": true,
         "type": "scatter",
         "visible": false,
         "x": {
          "bdata": "2gfbB9wH3QfeB98H4AfhB+IH4wc=",
          "dtype": "i2"
         },
         "xaxis": "x",
         "y": {
          "bdata": "iwXbClUUrxaXDwEqRRqiFtsYFQs=",
          "dtype": "i2"
         },
         "yaxis": "y"
        },
        {
         "legendgroup": "2020-2029",
         "line": {
          "color": "#003376"
         },
         "mode": "lines",
         "name": "2020-2029",
         "showlegend": true,
         "type": "scatter",
         "visible": false,
         "x": {
          "bdata": "5AflBw==",
          "dtype": "i2"
         },
         "xaxis": "x",
         "y": {
          "bdata": "QQQGAA==",
          "dtype": "i2"
         },
         "yaxis": "y"
        },
        {
         "legendgroup": "All",
         "line": {
          "color": "gray"
         },
         "mode": "lines",
         "name": "All",
         "showlegend": true,
         "type": "scatter",
         "visible": false,
         "x": {
          "bdata": "rgevB7AHsQeyB7MHtAe1B7YHtwe4B7kHuge7B7wHvQe+B78HwAfBB8IHwwfEB8UHxgfHB8gHyQfKB8sHzAfNB84HzwfQB9EH0gfTB9QH1QfWB9cH2AfZB9oH2wfcB90H3gffB+AH4QfiB+MH5AflBw==",
          "dtype": "i2"
         },
         "xaxis": "x2",
         "y": {
          "bdata": "IgAAAG0YAABdBwAA7yAAACAtAAD4HgAAChcAAO8hAACCOQAAnUQAAA1VAACxUQAAyqIAABB6AAAyfgAAjFIAAJA0AAD+WgAAL/oAAH5YAQBBmAAA8KgAAA7IAAAmfwAAnyQAAPEEAADaTwAASm8AAOYZAAACSwAA6m4AAH56AADjZQAAHVMAAC9JAAC9TQAAQDIAAPc+AAC/IQAALRAAANMMAAD/AwAAtggAAEIHAACLBQAA2woAAFUUAACvFgAAlw8AAAEqAABFGgAAohYAANsYAAAVCwAAQQQAAAYAAAA=",
          "dtype": "i4"
         },
         "yaxis": "y2"
        },
        {
         "legendgroup": "1960-1969",
         "marker": {
          "color": "#ff4500"
         },
         "name": "1960-1969",
         "showlegend": true,
         "type": "bar",
         "visible": false,
         "x": {
          "bdata": "rgevB7AHsQc=",
          "dtype": "i2"
         },
         "xaxis": "x",
         "y": {
          "bdata": "IgBtGF0H7yA=",
          "dtype": "i2"
         },
         "yaxis": "y"
        },
        {
         "legendgroup": "1970-1979",
         "marker": {
          "color": "#fc834c"
         },
         "name": "1970-1979",
         "showlegend": true,
         "type": "bar",
         "visible": false,
         "x": {
          "bdata": "sgezB7QHtQe2B7cHuAe5B7oHuwc=",
          "dtype": "i2"
         },
         "xaxis": "x",
         "y": {
          "bdata": "IC0AAPgeAAAKFwAA7yEAAII5AACdRAAADVUAALFRAADKogAAEHoAAA==",
          "dtype": "i4"
         },
         "yaxis": "y"
        },
        {
         "legendgroup": "1980-1989",
         "marker": {
          "color": "#fcb58a"
         },
         "name": "1980-1989",
         "showlegend": true,
         "type": "bar",
         "visible": false,
         "x": {
          "bdata": "vAe9B74HvwfAB8EHwgfDB8QHxQc=",
          "dtype": "i2"
         },
         "xaxis": "x",
         "y": {
          "bdata": "Mn4AAIxSAACQNAAA/loAAC/6AAB+WAEAQZgAAPCoAAAOyAAAJn8AAA==",
          "dtype": "i4"
         },
         "yaxis": "y"
        },
        {
         "legendgroup": "1990-1999",
         "marker": {
          "color": "#ffdab9"
         },
         "name": "1990-1999",
         "showlegend": true,
         "type": "bar",
         "visible": false,
         "x": {
          "bdata": "xgfHB8gHyQfKB8sHzAfNB84Hzwc=",
          "dtype": "i2"
         },
         "xaxis": "x",
         "y": {
          "bdata": "nyTxBNpPSm/mGQJL6m5+euNlHVM=",
          "dtype": "i2"
         },
         "yaxis": "y"
        },
        {
         "legendgroup": "2000-2009",
         "marker": {
          "color": "#55a3e8"
         },
         "name": "2000-2009",
         "showlegend": true,
         "type": "bar",
         "visible": false,
         "x": {
          "bdata": "0AfRB9IH0wfUB9UH1gfXB9gH2Qc=",
          "dtype": "i2"
         },
         "xaxis": "x",
         "y": {
          "bdata": "L0m9TUAy9z6/IS0Q0wz/A7YIQgc=",
          "dtype": "i2"
         },
         "yaxis": "y"
        },
        {
         "legendgroup": "2010-2019",
         "marker": {
          "color": "#006cd1"
         },
         "name": "2010-2019",
         "showlegend": true,
         "type": "bar",
         "visible": false,
         "x": {
          "bdata": "2gfbB9wH3QfeB98H4AfhB+IH4wc=",
          "dtype": "i2"
         },
         "xaxis": "x",
         "y": {
          "bdata": "iwXbClUUrxaXDwEqRRqiFtsYFQs=",
          "dtype": "i2"
         },
         "yaxis": "y"
        },
        {
         "legendgroup": "2020-2029",
         "marker": {
          "color": "#003376"
         },
         "name": "2020-2029",
         "showlegend": true,
         "type": "bar",
         "visible": false,
         "x": {
          "bdata": "5AflBw==",
          "dtype": "i2"
         },
         "xaxis": "x",
         "y": {
          "bdata": "QQQGAA==",
          "dtype": "i2"
         },
         "yaxis": "y"
        },
        {
         "legendgroup": "All",
         "marker": {
          "color": "gray"
         },
         "name": "All",
         "showlegend": true,
         "type": "bar",
         "visible": false,
         "x": {
          "bdata": "rgevB7AHsQeyB7MHtAe1B7YHtwe4B7kHuge7B7wHvQe+B78HwAfBB8IHwwfEB8UHxgfHB8gHyQfKB8sHzAfNB84HzwfQB9EH0gfTB9QH1QfWB9cH2AfZB9oH2wfcB90H3gffB+AH4QfiB+MH5AflBw==",
          "dtype": "i2"
         },
         "xaxis": "x2",
         "y": {
          "bdata": "IgAAAG0YAABdBwAA7yAAACAtAAD4HgAAChcAAO8hAACCOQAAnUQAAA1VAACxUQAAyqIAABB6AAAyfgAAjFIAAJA0AAD+WgAAL/oAAH5YAQBBmAAA8KgAAA7IAAAmfwAAnyQAAPEEAADaTwAASm8AAOYZAAACSwAA6m4AAH56AADjZQAAHVMAAC9JAAC9TQAAQDIAAPc+AAC/IQAALRAAANMMAAD/AwAAtggAAEIHAACLBQAA2woAAFUUAACvFgAAlw8AAAEqAABFGgAAohYAANsYAAAVCwAAQQQAAAYAAAA=",
          "dtype": "i4"
         },
         "yaxis": "y2"
        },
        {
         "legendgroup": "1960-1969",
         "line": {
          "color": "#ff4500"
         },
         "mode": "lines",
         "name": "1960-1969",
         "showlegend": true,
         "type": "scatter",
         "visible": false,
         "x": {
          "bdata": "FRYXGBkaGxwdHh8gISIjJCUmJygpKissLS4vMDEyMzQ1Njc4OTo=",
          "dtype": "i1"
         },
         "xaxis": "x",
         "y": {
          "bdata": "FAETAcgB9QE9AikC3gI+AvkCbwOZAusCewJgAkoCQwJfAigCCwLoASMC7QH0AUQBGQEBARgB/gDpAAUB9gApASEBFQH1AIEAdAACAA==",
          "dtype": "i2"
         },
         "yaxis": "y"
        },
        {
         "legendgroup": "1970-1979",
         "line": {
          "color": "#fc834c"
         },
         "mode": "lines",
         "name": "1970-1979",
         "showlegend": true,
         "type": "scatter",
         "visible": false,
         "x": {
          "bdata": "CwwNDg8QERITFBUWFxgZGhscHR4fICEiIyQlJicoKSorLC0uLzAxMjM0NTY=",
          "dtype": "i1"
         },
         "xaxis": "x",
         "y": {
          "bdata": "cwP/B4UKPg2BEEsUEhcEGvQdkiPsIs4fMR8THOsaUxmfGBQYCBaVFKcVoxO1EpoRiQ/DDsQNmQ2qDEMMxwvJC/ELwQtuC5sJAwfJBUMEPwMrAsQBLwG5AA==",
          "dtype": "i2"
         },
         "yaxis": "y"
        },
        {
         "legendgroup": "1980-1989",
         "line": {
          "color": "#fcb58a"
         },
         "mode": "lines",
         "name": "1980-1989",
         "showlegend": true,
         "type": "scatter",
         "visible": false,
         "x": {
          "bdata": "AQIDBAUGBwgJCgsMDQ4PEBESExQVFhcYGRobHB0eHyAhIiMkJSYnKCkqKyw=",
          "dtype": "i1"
         },
         "xaxis": "x",
         "y": {
          "bdata": "AQAaAO8A+wUhH6EpmC04NjxCQ1CVUOZNjVKxUpVHQj+FObU3zzIRL5IteSuRKO0nLSbdIh8gIR7AHEkcfRpYGrUauBqFGtwY7RQRElMPSwrzBVUERAP3AQ==",
          "dtype": "i2"
         },
         "yaxis": "y"
        },
        {
         "legendgroup": "1990-1999",
         "line": {
          "color": "#ffdab9"
         },
         "mode": "lines",
         "name": "1990-1999",
         "showlegend": true,
         "type": "scatter",
         "visible": false,
         "x": {
          "bdata": "AAECAwQFBgcICQoLDA0ODxAREhMUFRYXGBkaGxwdHh8gISI=",
          "dtype": "i1"
         },
         "xaxis": "x",
         "y": {
          "bdata": "UQCKAH4AeBMWaJZZBzVVJmwhxh84Hcgc9Bs3GgoXIxTIEpQTEhElESQRGRAbEGcQvQ8XEYgOSgsWCc8GzARrBCYCvwCoAA==",
          "dtype": "i2"
         },
         "yaxis": "y"
        },
        {
         "legendgroup": "2000-2009",
         "line": {
          "color": "#55a3e8"
         },
         "mode": "lines",
         "name": "2000-2009",
         "showlegend": true,
         "type": "scatter",
         "visible": false,
         "x": {
          "bdata": "AAECAwQFBgcICQoLDA0ODxAREhMUFRYXGA==",
          "dtype": "i1"
         },
         "xaxis": "x",
         "y": {
          "bdata": "EgAqAPsAFQnyIcIdExkdF8gVtBQyEgUQvw4mDsMOoQ60Dt4NTg3+CxQLEwr1BlAFYwI=",
          "dtype": "i2"
         },
         "yaxis": "y"
        },
        {
         "legendgroup": "2010-2019",
         "line": {
          "color": "#006cd1"
         },
         "mode": "lines",
         "name": "2010-2019",
         "showlegend": true,
         "type": "scatter",
         "visible": false,
         "x": {
          "bdata": "AAECAwQFBgcICQoLDA0O",
          "dtype": "i1"
         },
         "xaxis": "x",
         "y": {
          "bdata": "AQAeAIIAPQZcMdUzNyCHFJsNLAsmBwQFtgIQAVUA",
          "dtype": "i2"
         },
         "yaxis": "y"
        },
        {
         "legendgroup": "2020-2029",
         "line": {
          "color": "#003376"
         },
         "mode": "lines",
         "name": "2020-2029",
         "showlegend": true,
         "type": "scatter",
         "visible": false,
         "x": {
          "bdata": "AwQ=",
          "dtype": "i1"
         },
         "xaxis": "x",
         "y": {
          "bdata": "JAAjBA==",
          "dtype": "i2"
         },
         "yaxis": "y"
        },
        {
         "legendgroup": "All",
         "line": {
          "color": "gray"
         },
         "mode": "lines",
         "name": "All",
         "showlegend": true,
         "type": "scatter",
         "visible": false,
         "x": {
          "bdata": "AAECAwQFBgcICQoLDA0ODxAREhMUFRYXGBkaGxwdHh8gISIjJCUmJygpKissLS4vMDEyMzQ1Njc4OTo=",
          "dtype": "i1"
         },
         "xaxis": "x2",
         "y": {
          "bdata": "ZAAAANMAAAAVAgAA3SMAAILFAABOygAA8pcAAJF/AAAHewAA4oEAANOGAADZhQAAToMAAH+GAAARhgAA2noAAAl1AAAJcgAAGXAAAOZtAADbbgAAvmsAAGpjAABBXwAAFVgAAGxUAADhTAAA5kYAAIlBAACQPAAAGTkAACg3AAAMMwAApDAAAFovAABYLAAA4ikAABAlAADSIQAACB4AAHYYAADdEwAACxIAACkRAAD8DgAAhwwAAJwKAAAbCAAAxwYAACwFAABEBAAAIQMAAO0CAABQAgAAzgEAAPUAAACBAAAAdAAAAAIAAAA=",
          "dtype": "i4"
         },
         "yaxis": "y2"
        },
        {
         "legendgroup": "1960-1969",
         "marker": {
          "color": "#ff4500"
         },
         "name": "1960-1969",
         "showlegend": true,
         "type": "bar",
         "visible": false,
         "x": {
          "bdata": "FRYXGBkaGxwdHh8gISIjJCUmJygpKissLS4vMDEyMzQ1Njc4OTo=",
          "dtype": "i1"
         },
         "xaxis": "x",
         "y": {
          "bdata": "FAETAcgB9QE9AikC3gI+AvkCbwOZAusCewJgAkoCQwJfAigCCwLoASMC7QH0AUQBGQEBARgB/gDpAAUB9gApASEBFQH1AIEAdAACAA==",
          "dtype": "i2"
         },
         "yaxis": "y"
        },
        {
         "legendgroup": "1970-1979",
         "marker": {
          "color": "#fc834c"
         },
         "name": "1970-1979",
         "showlegend": true,
         "type": "bar",
         "visible": false,
         "x": {
          "bdata": "CwwNDg8QERITFBUWFxgZGhscHR4fICEiIyQlJicoKSorLC0uLzAxMjM0NTY=",
          "dtype": "i1"
         },
         "xaxis": "x",
         "y": {
          "bdata": "cwP/B4UKPg2BEEsUEhcEGvQdkiPsIs4fMR8THOsaUxmfGBQYCBaVFKcVoxO1EpoRiQ/DDsQNmQ2qDEMMxwvJC/ELwQtuC5sJAwfJBUMEPwMrAsQBLwG5AA==",
          "dtype": "i2"
         },
         "yaxis": "y"
        },
        {
         "legendgroup": "1980-1989",
         "marker": {
          "color": "#fcb58a"
         },
         "name": "1980-1989",
         "showlegend": true,
         "type": "bar",
         "visible": false,
         "x": {
          "bdata": "AQIDBAUGBwgJCgsMDQ4PEBESExQVFhcYGRobHB0eHyAhIiMkJSYnKCkqKyw=",
          "dtype": "i1"
         },
         "xaxis": "x",
         "y": {
          "bdata": "AQAaAO8A+wUhH6EpmC04NjxCQ1CVUOZNjVKxUpVHQj+FObU3zzIRL5IteSuRKO0nLSbdIh8gIR7AHEkcfRpYGrUauBqFGtwY7RQRElMPSwrzBVUERAP3AQ==",
          "dtype": "i2"
         },
         "yaxis": "y"
        },
        {
         "legendgroup": "1990-1999",
         "marker": {
          "color": "#ffdab9"
         },
         "name": "1990-1999",
         "showlegend": true,
         "type": "bar",
         "visible": false,
         "x": {
          "bdata": "AAECAwQFBgcICQoLDA0ODxAREhMUFRYXGBkaGxwdHh8gISI=",
          "dtype": "i1"
         },
         "xaxis": "x",
         "y": {
          "bdata": "UQCKAH4AeBMWaJZZBzVVJmwhxh84Hcgc9Bs3GgoXIxTIEpQTEhElESQRGRAbEGcQvQ8XEYgOSgsWCc8GzARrBCYCvwCoAA==",
          "dtype": "i2"
         },
         "yaxis": "y"
        },
        {
         "legendgroup": "2000-2009",
         "marker": {
          "color": "#55a3e8"
         },
         "name": "2000-2009",
         "showlegend": true,
         "type": "bar",
         "visible": false,
         "x": {
          "bdata": "AAECAwQFBgcICQoLDA0ODxAREhMUFRYXGA==",
          "dtype": "i1"
         },
         "xaxis": "x",
         "y": {
          "bdata": "EgAqAPsAFQnyIcIdExkdF8gVtBQyEgUQvw4mDsMOoQ60Dt4NTg3+CxQLEwr1BlAFYwI=",
          "dtype": "i2"
         },
         "yaxis": "y"
        },
        {
         "legendgroup": "2010-2019",
         "marker": {
          "color": "#006cd1"
         },
         "name": "2010-2019",
         "showlegend": true,
         "type": "bar",
         "visible": false,
         "x": {
          "bdata": "AAECAwQFBgcICQoLDA0O",
          "dtype": "i1"
         },
         "xaxis": "x",
         "y": {
          "bdata": "AQAeAIIAPQZcMdUzNyCHFJsNLAsmBwQFtgIQAVUA",
          "dtype": "i2"
         },
         "yaxis": "y"
        },
        {
         "legendgroup": "2020-2029",
         "marker": {
          "color": "#003376"
         },
         "name": "2020-2029",
         "showlegend": true,
         "type": "bar",
         "visible": false,
         "x": {
          "bdata": "AwQ=",
          "dtype": "i1"
         },
         "xaxis": "x",
         "y": {
          "bdata": "JAAjBA==",
          "dtype": "i2"
         },
         "yaxis": "y"
        },
        {
         "legendgroup": "All",
         "marker": {
          "color": "gray"
         },
         "name": "All",
         "showlegend": true,
         "type": "bar",
         "visible": false,
         "x": {
          "bdata": "AAECAwQFBgcICQoLDA0ODxAREhMUFRYXGBkaGxwdHh8gISIjJCUmJygpKissLS4vMDEyMzQ1Njc4OTo=",
          "dtype": "i1"
         },
         "xaxis": "x2",
         "y": {
          "bdata": "ZAAAANMAAAAVAgAA3SMAAILFAABOygAA8pcAAJF/AAAHewAA4oEAANOGAADZhQAAToMAAH+GAAARhgAA2noAAAl1AAAJcgAAGXAAAOZtAADbbgAAvmsAAGpjAABBXwAAFVgAAGxUAADhTAAA5kYAAIlBAACQPAAAGTkAACg3AAAMMwAApDAAAFovAABYLAAA4ikAABAlAADSIQAACB4AAHYYAADdEwAACxIAACkRAAD8DgAAhwwAAJwKAAAbCAAAxwYAACwFAABEBAAAIQMAAO0CAABQAgAAzgEAAPUAAACBAAAAdAAAAAIAAAA=",
          "dtype": "i4"
         },
         "yaxis": "y2"
        },
        {
         "legendgroup": "1960-1969",
         "line": {
          "color": "#ff4500"
         },
         "mode": "lines",
         "name": "1960-1969",
         "showlegend": true,
         "type": "scatter",
         "visible": false,
         "x": {
          "bdata": "AQIDBAUGBwgJCgsM",
          "dtype": "i1"
         },
         "xaxis": "x",
         "y": {
          "bdata": "zAXWBGgFEQVYBU8FuAXDBScFvQWQBSoF",
          "dtype": "i2"
         },
         "yaxis": "y"
        },
        {
         "legendgroup": "1970-1979",
         "line": {
          "color": "#fc834c"
         },
         "mode": "lines",
         "name": "1970-1979",
         "showlegend": true,
         "type": "scatter",
         "visible": false,
         "x": {
          "bdata": "AQIDBAUGBwgJCgsM",
          "dtype": "i1"
         },
         "xaxis": "x",
         "y": {
          "bdata": "hTv7MlE9pzp1OQ88qD8YPo06HD4aPEk4",
          "dtype": "i2"
         },
         "yaxis": "y"
        },
        {
         "legendgroup": "1980-1989",
         "line": {
          "color": "#fcb58a"
         },
         "mode": "lines",
         "name": "1980-1989",
         "showlegend": true,
         "type": "scatter",
         "visible": false,
         "x": {
          "bdata": "AQIDBAUGBwgJCgsM",
          "dtype": "i1"
         },
         "xaxis": "x",
         "y": {
          "bdata": "yYMAAA50AAAFigAAdoEAAKqCAAB9hgAA4o0AAJWIAADxgwAAuIwAALyHAAAJgAAA",
          "dtype": "i4"
         },
         "yaxis": "y"
        },
        {
         "legendgroup": "1990-1999",
         "line": {
          "color": "#ffdab9"
         },
         "mode": "lines",
         "name": "1990-1999",
         "showlegend": true,
         "type": "scatter",
         "visible": false,
         "x": {
          "bdata": "AQIDBAUGBwgJCgsM",
          "dtype": "i1"
         },
         "xaxis": "x",
         "y": {
          "bdata": "9jo1NA1ARz4hPhxAG0RyQkFBHkRaPwI5",
          "dtype": "i2"
         },
         "yaxis": "y"
        },
        {
         "legendgroup": "2000-2009",
         "line": {
          "color": "#55a3e8"
         },
         "mode": "lines",
         "name": "2000-2009",
         "showlegend": true,
         "type": "scatter",
         "visible": false,
         "x": {
          "bdata": "AQIDBAUGBwgJCgsM",
          "dtype": "i1"
         },
         "xaxis": "x",
         "y": {
          "bdata": "tRnXFvEckRz9HP4dCyE8H2gfqB8SHWcZ",
          "dtype": "i2"
         },
         "yaxis": "y"
        },
        {
         "legendgroup": "2010-2019",
         "line": {
          "color": "#006cd1"
         },
         "mode": "lines",
         "name": "2010-2019",
         "showlegend": true,
         "type": "scatter",
         "visible": false,
         "x": {
          "bdata": "AQIDBAUGBwgJCgsM",
          "dtype": "i1"
         },
         "xaxis": "x",
         "y": {
          "bdata": "SxA9DbwQag9nD6cQahMGEyMSXBLCEWwP",
          "dtype": "i2"
         },
         "yaxis": "y"
        },
        {
         "legendgroup": "2020-2029",
         "line": {
          "color": "#003376"
         },
         "mode": "lines",
         "name": "2020-2029",
         "showlegend": true,
         "type": "scatter",
         "visible": false,
         "x": {
          "bdata": "AQIDBAUGBwgJCgsM",
          "dtype": "i1"
         },
         "xaxis": "x",
         "y": {
          "bdata": "KgBBAE0AaABqAHEAigBxAGgAaABtABQA",
          "dtype": "i2"
         },
         "yaxis": "y"
        },
        {
         "legendgroup": "All",
         "line": {
          "color": "gray"
         },
         "mode": "lines",
         "name": "All",
         "showlegend": true,
         "type": "scatter",
         "visible": false,
         "x": {
          "bdata": "AQIDBAUGBwgJCgsM",
          "dtype": "i1"
         },
         "xaxis": "x2",
         "y": {
          "bdata": "OioBAGkEAQDFOgEA2CsBAGYsAQANNwEAXEwBAJVBAQDZNgEAG0cBAAE4AQBlHwEA",
          "dtype": "i4"
         },
         "yaxis": "y2"
        },
        {
         "legendgroup": "1960-1969",
         "marker": {
          "color": "#ff4500"
         },
         "name": "1960-1969",
         "showlegend": true,
         "type": "bar",
         "visible": false,
         "x": {
          "bdata": "AQIDBAUGBwgJCgsM",
          "dtype": "i1"
         },
         "xaxis": "x",
         "y": {
          "bdata": "zAXWBGgFEQVYBU8FuAXDBScFvQWQBSoF",
          "dtype": "i2"
         },
         "yaxis": "y"
        },
        {
         "legendgroup": "1970-1979",
         "marker": {
          "color": "#fc834c"
         },
         "name": "1970-1979",
         "showlegend": true,
         "type": "bar",
         "visible": false,
         "x": {
          "bdata": "AQIDBAUGBwgJCgsM",
          "dtype": "i1"
         },
         "xaxis": "x",
         "y": {
          "bdata": "hTv7MlE9pzp1OQ88qD8YPo06HD4aPEk4",
          "dtype": "i2"
         },
         "yaxis": "y"
        },
        {
         "legendgroup": "1980-1989",
         "marker": {
          "color": "#fcb58a"
         },
         "name": "1980-1989",
         "showlegend": true,
         "type": "bar",
         "visible": false,
         "x": {
          "bdata": "AQIDBAUGBwgJCgsM",
          "dtype": "i1"
         },
         "xaxis": "x",
         "y": {
          "bdata": "yYMAAA50AAAFigAAdoEAAKqCAAB9hgAA4o0AAJWIAADxgwAAuIwAALyHAAAJgAAA",
          "dtype": "i4"
         },
         "yaxis": "y"
        },
        {
         "legendgroup": "1990-1999",
         "marker": {
          "color": "#ffdab9"
         },
         "name": "1990-1999",
         "showlegend": true,
         "type": "bar",
         "visible": false,
         "x": {
          "bdata": "AQIDBAUGBwgJCgsM",
          "dtype": "i1"
         },
         "xaxis": "x",
         "y": {
          "bdata": "9jo1NA1ARz4hPhxAG0RyQkFBHkRaPwI5",
          "dtype": "i2"
         },
         "yaxis": "y"
        },
        {
         "legendgroup": "2000-2009",
         "marker": {
          "color": "#55a3e8"
         },
         "name": "2000-2009",
         "showlegend": true,
         "type": "bar",
         "visible": false,
         "x": {
          "bdata": "AQIDBAUGBwgJCgsM",
          "dtype": "i1"
         },
         "xaxis": "x",
         "y": {
          "bdata": "tRnXFvEckRz9HP4dCyE8H2gfqB8SHWcZ",
          "dtype": "i2"
         },
         "yaxis": "y"
        },
        {
         "legendgroup": "2010-2019",
         "marker": {
          "color": "#006cd1"
         },
         "name": "2010-2019",
         "showlegend": true,
         "type": "bar",
         "visible": false,
         "x": {
          "bdata": "AQIDBAUGBwgJCgsM",
          "dtype": "i1"
         },
         "xaxis": "x",
         "y": {
          "bdata": "SxA9DbwQag9nD6cQahMGEyMSXBLCEWwP",
          "dtype": "i2"
         },
         "yaxis": "y"
        },
        {
         "legendgroup": "2020-2029",
         "marker": {
          "color": "#003376"
         },
         "name": "2020-2029",
         "showlegend": true,
         "type": "bar",
         "visible": false,
         "x": {
          "bdata": "AQIDBAUGBwgJCgsM",
          "dtype": "i1"
         },
         "xaxis": "x",
         "y": {
          "bdata": "KgBBAE0AaABqAHEAigBxAGgAaABtABQA",
          "dtype": "i2"
         },
         "yaxis": "y"
        },
        {
         "legendgroup": "All",
         "marker": {
          "color": "gray"
         },
         "name": "All",
         "showlegend": true,
         "type": "bar",
         "visible": false,
         "x": {
          "bdata": "AQIDBAUGBwgJCgsM",
          "dtype": "i1"
         },
         "xaxis": "x2",
         "y": {
          "bdata": "OioBAGkEAQDFOgEA2CsBAGYsAQANNwEAXEwBAJVBAQDZNgEAG0cBAAE4AQBlHwEA",
          "dtype": "i4"
         },
         "yaxis": "y2"
        }
       ],
       "layout": {
        "annotations": [
         {
          "showarrow": false,
          "text": "Select X-axis Variable:",
          "x": 0.86,
          "xref": "paper",
          "y": 1.1,
          "yref": "paper"
         },
         {
          "showarrow": false,
          "text": "Plot Type:",
          "x": 0,
          "xref": "paper",
          "y": 1.1,
          "yref": "paper"
         }
        ],
        "autosize": false,
        "bargap": 0.15,
        "height": 500,
        "margin": {
         "b": 20,
         "l": 20,
         "r": 20,
         "t": 100
        },
        "template": {
         "data": {
          "bar": [
           {
            "error_x": {
             "color": "#2a3f5f"
            },
            "error_y": {
             "color": "#2a3f5f"
            },
            "marker": {
             "line": {
              "color": "#E5ECF6",
              "width": 0.5
             },
             "pattern": {
              "fillmode": "overlay",
              "size": 10,
              "solidity": 0.2
             }
            },
            "type": "bar"
           }
          ],
          "barpolar": [
           {
            "marker": {
             "line": {
              "color": "#E5ECF6",
              "width": 0.5
             },
             "pattern": {
              "fillmode": "overlay",
              "size": 10,
              "solidity": 0.2
             }
            },
            "type": "barpolar"
           }
          ],
          "carpet": [
           {
            "aaxis": {
             "endlinecolor": "#2a3f5f",
             "gridcolor": "white",
             "linecolor": "white",
             "minorgridcolor": "white",
             "startlinecolor": "#2a3f5f"
            },
            "baxis": {
             "endlinecolor": "#2a3f5f",
             "gridcolor": "white",
             "linecolor": "white",
             "minorgridcolor": "white",
             "startlinecolor": "#2a3f5f"
            },
            "type": "carpet"
           }
          ],
          "choropleth": [
           {
            "colorbar": {
             "outlinewidth": 0,
             "ticks": ""
            },
            "type": "choropleth"
           }
          ],
          "contour": [
           {
            "colorbar": {
             "outlinewidth": 0,
             "ticks": ""
            },
            "colorscale": [
             [
              0,
              "#0d0887"
             ],
             [
              0.1111111111111111,
              "#46039f"
             ],
             [
              0.2222222222222222,
              "#7201a8"
             ],
             [
              0.3333333333333333,
              "#9c179e"
             ],
             [
              0.4444444444444444,
              "#bd3786"
             ],
             [
              0.5555555555555556,
              "#d8576b"
             ],
             [
              0.6666666666666666,
              "#ed7953"
             ],
             [
              0.7777777777777778,
              "#fb9f3a"
             ],
             [
              0.8888888888888888,
              "#fdca26"
             ],
             [
              1,
              "#f0f921"
             ]
            ],
            "type": "contour"
           }
          ],
          "contourcarpet": [
           {
            "colorbar": {
             "outlinewidth": 0,
             "ticks": ""
            },
            "type": "contourcarpet"
           }
          ],
          "heatmap": [
           {
            "colorbar": {
             "outlinewidth": 0,
             "ticks": ""
            },
            "colorscale": [
             [
              0,
              "#0d0887"
             ],
             [
              0.1111111111111111,
              "#46039f"
             ],
             [
              0.2222222222222222,
              "#7201a8"
             ],
             [
              0.3333333333333333,
              "#9c179e"
             ],
             [
              0.4444444444444444,
              "#bd3786"
             ],
             [
              0.5555555555555556,
              "#d8576b"
             ],
             [
              0.6666666666666666,
              "#ed7953"
             ],
             [
              0.7777777777777778,
              "#fb9f3a"
             ],
             [
              0.8888888888888888,
              "#fdca26"
             ],
             [
              1,
              "#f0f921"
             ]
            ],
            "type": "heatmap"
           }
          ],
          "histogram": [
           {
            "marker": {
             "pattern": {
              "fillmode": "overlay",
              "size": 10,
              "solidity": 0.2
             }
            },
            "type": "histogram"
           }
          ],
          "histogram2d": [
           {
            "colorbar": {
             "outlinewidth": 0,
             "ticks": ""
            },
            "colorscale": [
             [
              0,
              "#0d0887"
             ],
             [
              0.1111111111111111,
              "#46039f"
             ],
             [
              0.2222222222222222,
              "#7201a8"
             ],
             [
              0.3333333333333333,
              "#9c179e"
             ],
             [
              0.4444444444444444,
              "#bd3786"
             ],
             [
              0.5555555555555556,
              "#d8576b"
             ],
             [
              0.6666666666666666,
              "#ed7953"
             ],
             [
              0.7777777777777778,
              "#fb9f3a"
             ],
             [
              0.8888888888888888,
              "#fdca26"
             ],
             [
              1,
              "#f0f921"
             ]
            ],
            "type": "histogram2d"
           }
          ],
          "histogram2dcontour": [
           {
            "colorbar": {
             "outlinewidth": 0,
             "ticks": ""
            },
            "colorscale": [
             [
              0,
              "#0d0887"
             ],
             [
              0.1111111111111111,
              "#46039f"
             ],
             [
              0.2222222222222222,
              "#7201a8"
             ],
             [
              0.3333333333333333,
              "#9c179e"
             ],
             [
              0.4444444444444444,
              "#bd3786"
             ],
             [
              0.5555555555555556,
              "#d8576b"
             ],
             [
              0.6666666666666666,
              "#ed7953"
             ],
             [
              0.7777777777777778,
              "#fb9f3a"
             ],
             [
              0.8888888888888888,
              "#fdca26"
             ],
             [
              1,
              "#f0f921"
             ]
            ],
            "type": "histogram2dcontour"
           }
          ],
          "mesh3d": [
           {
            "colorbar": {
             "outlinewidth": 0,
             "ticks": ""
            },
            "type": "mesh3d"
           }
          ],
          "parcoords": [
           {
            "line": {
             "colorbar": {
              "outlinewidth": 0,
              "ticks": ""
             }
            },
            "type": "parcoords"
           }
          ],
          "pie": [
           {
            "automargin": true,
            "type": "pie"
           }
          ],
          "scatter": [
           {
            "fillpattern": {
             "fillmode": "overlay",
             "size": 10,
             "solidity": 0.2
            },
            "type": "scatter"
           }
          ],
          "scatter3d": [
           {
            "line": {
             "colorbar": {
              "outlinewidth": 0,
              "ticks": ""
             }
            },
            "marker": {
             "colorbar": {
              "outlinewidth": 0,
              "ticks": ""
             }
            },
            "type": "scatter3d"
           }
          ],
          "scattercarpet": [
           {
            "marker": {
             "colorbar": {
              "outlinewidth": 0,
              "ticks": ""
             }
            },
            "type": "scattercarpet"
           }
          ],
          "scattergeo": [
           {
            "marker": {
             "colorbar": {
              "outlinewidth": 0,
              "ticks": ""
             }
            },
            "type": "scattergeo"
           }
          ],
          "scattergl": [
           {
            "marker": {
             "colorbar": {
              "outlinewidth": 0,
              "ticks": ""
             }
            },
            "type": "scattergl"
           }
          ],
          "scattermap": [
           {
            "marker": {
             "colorbar": {
              "outlinewidth": 0,
              "ticks": ""
             }
            },
            "type": "scattermap"
           }
          ],
          "scattermapbox": [
           {
            "marker": {
             "colorbar": {
              "outlinewidth": 0,
              "ticks": ""
             }
            },
            "type": "scattermapbox"
           }
          ],
          "scatterpolar": [
           {
            "marker": {
             "colorbar": {
              "outlinewidth": 0,
              "ticks": ""
             }
            },
            "type": "scatterpolar"
           }
          ],
          "scatterpolargl": [
           {
            "marker": {
             "colorbar": {
              "outlinewidth": 0,
              "ticks": ""
             }
            },
            "type": "scatterpolargl"
           }
          ],
          "scatterternary": [
           {
            "marker": {
             "colorbar": {
              "outlinewidth": 0,
              "ticks": ""
             }
            },
            "type": "scatterternary"
           }
          ],
          "surface": [
           {
            "colorbar": {
             "outlinewidth": 0,
             "ticks": ""
            },
            "colorscale": [
             [
              0,
              "#0d0887"
             ],
             [
              0.1111111111111111,
              "#46039f"
             ],
             [
              0.2222222222222222,
              "#7201a8"
             ],
             [
              0.3333333333333333,
              "#9c179e"
             ],
             [
              0.4444444444444444,
              "#bd3786"
             ],
             [
              0.5555555555555556,
              "#d8576b"
             ],
             [
              0.6666666666666666,
              "#ed7953"
             ],
             [
              0.7777777777777778,
              "#fb9f3a"
             ],
             [
              0.8888888888888888,
              "#fdca26"
             ],
             [
              1,
              "#f0f921"
             ]
            ],
            "type": "surface"
           }
          ],
          "table": [
           {
            "cells": {
             "fill": {
              "color": "#EBF0F8"
             },
             "line": {
              "color": "white"
             }
            },
            "header": {
             "fill": {
              "color": "#C8D4E3"
             },
             "line": {
              "color": "white"
             }
            },
            "type": "table"
           }
          ]
         },
         "layout": {
          "annotationdefaults": {
           "arrowcolor": "#2a3f5f",
           "arrowhead": 0,
           "arrowwidth": 1
          },
          "autotypenumbers": "strict",
          "coloraxis": {
           "colorbar": {
            "outlinewidth": 0,
            "ticks": ""
           }
          },
          "colorscale": {
           "diverging": [
            [
             0,
             "#8e0152"
            ],
            [
             0.1,
             "#c51b7d"
            ],
            [
             0.2,
             "#de77ae"
            ],
            [
             0.3,
             "#f1b6da"
            ],
            [
             0.4,
             "#fde0ef"
            ],
            [
             0.5,
             "#f7f7f7"
            ],
            [
             0.6,
             "#e6f5d0"
            ],
            [
             0.7,
             "#b8e186"
            ],
            [
             0.8,
             "#7fbc41"
            ],
            [
             0.9,
             "#4d9221"
            ],
            [
             1,
             "#276419"
            ]
           ],
           "sequential": [
            [
             0,
             "#0d0887"
            ],
            [
             0.1111111111111111,
             "#46039f"
            ],
            [
             0.2222222222222222,
             "#7201a8"
            ],
            [
             0.3333333333333333,
             "#9c179e"
            ],
            [
             0.4444444444444444,
             "#bd3786"
            ],
            [
             0.5555555555555556,
             "#d8576b"
            ],
            [
             0.6666666666666666,
             "#ed7953"
            ],
            [
             0.7777777777777778,
             "#fb9f3a"
            ],
            [
             0.8888888888888888,
             "#fdca26"
            ],
            [
             1,
             "#f0f921"
            ]
           ],
           "sequentialminus": [
            [
             0,
             "#0d0887"
            ],
            [
             0.1111111111111111,
             "#46039f"
            ],
            [
             0.2222222222222222,
             "#7201a8"
            ],
            [
             0.3333333333333333,
             "#9c179e"
            ],
            [
             0.4444444444444444,
             "#bd3786"
            ],
            [
             0.5555555555555556,
             "#d8576b"
            ],
            [
             0.6666666666666666,
             "#ed7953"
            ],
            [
             0.7777777777777778,
             "#fb9f3a"
            ],
            [
             0.8888888888888888,
             "#fdca26"
            ],
            [
             1,
             "#f0f921"
            ]
           ]
          },
          "colorway": [
           "#636efa",
           "#EF553B",
           "#00cc96",
           "#ab63fa",
           "#FFA15A",
           "#19d3f3",
           "#FF6692",
           "#B6E880",
           "#FF97FF",
           "#FECB52"
          ],
          "font": {
           "color": "#2a3f5f"
          },
          "geo": {
           "bgcolor": "white",
           "lakecolor": "white",
           "landcolor": "#E5ECF6",
           "showlakes": true,
           "showland": true,
           "subunitcolor": "white"
          },
          "hoverlabel": {
           "align": "left"
          },
          "hovermode": "closest",
          "mapbox": {
           "style": "light"
          },
          "paper_bgcolor": "white",
          "plot_bgcolor": "#E5ECF6",
          "polar": {
           "angularaxis": {
            "gridcolor": "white",
            "linecolor": "white",
            "ticks": ""
           },
           "bgcolor": "#E5ECF6",
           "radialaxis": {
            "gridcolor": "white",
            "linecolor": "white",
            "ticks": ""
           }
          },
          "scene": {
           "xaxis": {
            "backgroundcolor": "#E5ECF6",
            "gridcolor": "white",
            "gridwidth": 2,
            "linecolor": "white",
            "showbackground": true,
            "ticks": "",
            "zerolinecolor": "white"
           },
           "yaxis": {
            "backgroundcolor": "#E5ECF6",
            "gridcolor": "white",
            "gridwidth": 2,
            "linecolor": "white",
            "showbackground": true,
            "ticks": "",
            "zerolinecolor": "white"
           },
           "zaxis": {
            "backgroundcolor": "#E5ECF6",
            "gridcolor": "white",
            "gridwidth": 2,
            "linecolor": "white",
            "showbackground": true,
            "ticks": "",
            "zerolinecolor": "white"
           }
          },
          "shapedefaults": {
           "line": {
            "color": "#2a3f5f"
           }
          },
          "ternary": {
           "aaxis": {
            "gridcolor": "white",
            "linecolor": "white",
            "ticks": ""
           },
           "baxis": {
            "gridcolor": "white",
            "linecolor": "white",
            "ticks": ""
           },
           "bgcolor": "#E5ECF6",
           "caxis": {
            "gridcolor": "white",
            "linecolor": "white",
            "ticks": ""
           }
          },
          "title": {
           "x": 0.05
          },
          "xaxis": {
           "automargin": true,
           "gridcolor": "white",
           "linecolor": "white",
           "ticks": "",
           "title": {
            "standoff": 15
           },
           "zerolinecolor": "white",
           "zerolinewidth": 2
          },
          "yaxis": {
           "automargin": true,
           "gridcolor": "white",
           "linecolor": "white",
           "ticks": "",
           "title": {
            "standoff": 15
           },
           "zerolinecolor": "white",
           "zerolinewidth": 2
          }
         }
        },
        "title": {
         "text": "Units Resold By Lease Year",
         "y": 0.95
        },
        "updatemenus": [
         {
          "buttons": [
           {
            "args": [
             {
              "visible": [
               true,
               true,
               true,
               true,
               true,
               true,
               true,
               true,
               false,
               false,
               false,
               false,
               false,
               false,
               false,
               false,
               false,
               false,
               false,
               false,
               false,
               false,
               false,
               false,
               false,
               false,
               false,
               false,
               false,
               false,
               false,
               false,
               false,
               false,
               false,
               false,
               false,
               false,
               false,
               false,
               false,
               false,
               false,
               false,
               false,
               false,
               false,
               false,
               false,
               false,
               false,
               false,
               false,
               false,
               false,
               false,
               false,
               false,
               false,
               false,
               false,
               false,
               false,
               false
              ]
             },
             {
              "xaxis.title": "Year",
              "xaxis2.title": "Year"
             }
            ],
            "label": "Year",
            "method": "update"
           },
           {
            "args": [
             {
              "visible": [
               false,
               false,
               false,
               false,
               false,
               false,
               false,
               false,
               false,
               false,
               false,
               false,
               false,
               false,
               false,
               false,
               true,
               true,
               true,
               true,
               true,
               true,
               true,
               true,
               false,
               false,
               false,
               false,
               false,
               false,
               false,
               false,
               false,
               false,
               false,
               false,
               false,
               false,
               false,
               false,
               false,
               false,
               false,
               false,
               false,
               false,
               false,
               false,
               false,
               false,
               false,
               false,
               false,
               false,
               false,
               false,
               false,
               false,
               false,
               false,
               false,
               false,
               false,
               false
              ]
             },
             {
              "xaxis.title": "Lease Year",
              "xaxis2.title": "Lease Year"
             }
            ],
            "label": "Lease Year",
            "method": "update"
           },
           {
            "args": [
             {
              "visible": [
               false,
               false,
               false,
               false,
               false,
               false,
               false,
               false,
               false,
               false,
               false,
               false,
               false,
               false,
               false,
               false,
               false,
               false,
               false,
               false,
               false,
               false,
               false,
               false,
               false,
               false,
               false,
               false,
               false,
               false,
               false,
               false,
               true,
               true,
               true,
               true,
               true,
               true,
               true,
               true,
               false,
               false,
               false,
               false,
               false,
               false,
               false,
               false,
               false,
               false,
               false,
               false,
               false,
               false,
               false,
               false,
               false,
               false,
               false,
               false,
               false,
               false,
               false,
               false
              ]
             },
             {
              "xaxis.title": "Years Leased",
              "xaxis2.title": "Years Leased"
             }
            ],
            "label": "Years Leased",
            "method": "update"
           },
           {
            "args": [
             {
              "visible": [
               false,
               false,
               false,
               false,
               false,
               false,
               false,
               false,
               false,
               false,
               false,
               false,
               false,
               false,
               false,
               false,
               false,
               false,
               false,
               false,
               false,
               false,
               false,
               false,
               false,
               false,
               false,
               false,
               false,
               false,
               false,
               false,
               false,
               false,
               false,
               false,
               false,
               false,
               false,
               false,
               false,
               false,
               false,
               false,
               false,
               false,
               false,
               false,
               true,
               true,
               true,
               true,
               true,
               true,
               true,
               true,
               false,
               false,
               false,
               false,
               false,
               false,
               false,
               false
              ]
             },
             {
              "xaxis.title": "Month",
              "xaxis2.title": "Month"
             }
            ],
            "label": "Month",
            "method": "update"
           }
          ],
          "direction": "down",
          "pad": {
           "r": 10,
           "t": 10
          },
          "showactive": true,
          "x": 1.01,
          "xanchor": "right",
          "y": 1.15,
          "yanchor": "top"
         },
         {
          "buttons": [
           {
            "args": [
             {
              "visible": [
               true,
               true,
               true,
               true,
               true,
               true,
               true,
               true,
               false,
               false,
               false,
               false,
               false,
               false,
               false,
               false,
               false,
               false,
               false,
               false,
               false,
               false,
               false,
               false,
               false,
               false,
               false,
               false,
               false,
               false,
               false,
               false,
               false,
               false,
               false,
               false,
               false,
               false,
               false,
               false,
               false,
               false,
               false,
               false,
               false,
               false,
               false,
               false,
               false,
               false,
               false,
               false,
               false,
               false,
               false,
               false,
               false,
               false,
               false,
               false,
               false,
               false,
               false,
               false
              ]
             },
             {
              "barmode": "group"
             }
            ],
            "label": "Line Plot",
            "method": "update"
           },
           {
            "args": [
             {
              "visible": [
               false,
               false,
               false,
               false,
               false,
               false,
               false,
               false,
               true,
               true,
               true,
               true,
               true,
               true,
               true,
               true,
               false,
               false,
               false,
               false,
               false,
               false,
               false,
               false,
               false,
               false,
               false,
               false,
               false,
               false,
               false,
               false,
               false,
               false,
               false,
               false,
               false,
               false,
               false,
               false,
               false,
               false,
               false,
               false,
               false,
               false,
               false,
               false,
               false,
               false,
               false,
               false,
               false,
               false,
               false,
               false,
               false,
               false,
               false,
               false,
               false,
               false,
               false,
               false
              ]
             },
             {
              "barmode": "stack"
             }
            ],
            "label": "Bar Plot",
            "method": "update"
           }
          ],
          "direction": "right",
          "pad": {
           "r": 10,
           "t": 10
          },
          "showactive": true,
          "type": "buttons",
          "x": 0.26,
          "xanchor": "right",
          "y": 1.15,
          "yanchor": "top"
         }
        ],
        "width": 1100,
        "xaxis": {
         "anchor": "y",
         "domain": [
          0,
          1
         ],
         "title": {
          "text": "Year"
         }
        },
        "xaxis2": {
         "anchor": "y2",
         "domain": [
          0,
          1
         ],
         "title": {
          "text": "Year"
         }
        },
        "yaxis": {
         "anchor": "x",
         "domain": [
          0.32,
          1
         ],
         "title": {
          "text": "Units Resold"
         }
        },
        "yaxis2": {
         "anchor": "x2",
         "domain": [
          0,
          0.17
         ]
        }
       }
      }
     },
     "metadata": {},
     "output_type": "display_data"
    }
   ],
   "source": [
    "catplots(df_p, x_vars, 'lease_year_binned', 'Units Resold By Lease Year', 'count')"
   ]
  },
  {
   "cell_type": "code",
   "execution_count": 21,
   "id": "c0dfb604",
   "metadata": {},
   "outputs": [
    {
     "data": {
      "application/vnd.plotly.v1+json": {
       "config": {
        "plotlyServerURL": "https://plot.ly"
       },
       "data": [
        {
         "legendgroup": "2-Room",
         "line": {
          "color": "#ff4500"
         },
         "mode": "lines",
         "name": "2-Room",
         "showlegend": true,
         "type": "scatter",
         "visible": true,
         "x": {
          "bdata": "xgfHB8gHyQfLB8wHzQfOB88H0AfSB9MH1AfVB9cH2AfZB9oH2wfgB+QH5QfmB+cH6Ac=",
          "dtype": "i2"
         },
         "xaxis": "x",
         "y": {
          "bdata": "AwEBAQIDAgIGAQICAQEBAQMCAgEDChYjVg==",
          "dtype": "i1"
         },
         "yaxis": "y"
        },
        {
         "legendgroup": "3Gen",
         "line": {
          "color": "#fe5817"
         },
         "mode": "lines",
         "name": "3Gen",
         "showlegend": true,
         "type": "scatter",
         "visible": true,
         "x": {
          "bdata": "5gfnB+gH",
          "dtype": "i2"
         },
         "xaxis": "x",
         "y": {
          "bdata": "BRUV",
          "dtype": "i1"
         },
         "yaxis": "y"
        },
        {
         "legendgroup": "Adjoined Flat",
         "line": {
          "color": "#fd6a2e"
         },
         "mode": "lines",
         "name": "Adjoined Flat",
         "showlegend": true,
         "type": "scatter",
         "visible": true,
         "x": {
          "bdata": "0AfRB9IH0wfUB9UH1gfXB9gH2QfaB9sH3AfdB94H3wfgB+EH4gfjB+QH5QfmB+cH6Ac=",
          "dtype": "i2"
         },
         "xaxis": "x",
         "y": {
          "bdata": "Vz1GQzdFQkQ2SlEoKxoWFB4fKi4xMigrJg==",
          "dtype": "i1"
         },
         "yaxis": "y"
        },
        {
         "legendgroup": "Apartment",
         "line": {
          "color": "#fc7d44"
         },
         "mode": "lines",
         "name": "Apartment",
         "showlegend": true,
         "type": "scatter",
         "visible": true,
         "x": {
          "bdata": "xgfHB8gHyQfKB8sHzAfNB84HzwfQB9EH0gfTB9QH1QfWB9cH2AfZB9oH2wfcB90H3gffB+AH4QfiB+MH5AflB+YH5wfoBw==",
          "dtype": "i2"
         },
         "xaxis": "x",
         "y": {
          "bdata": "YgB7AK8AUgHHAb8BbQIFBDMKmA/3BQ0HDgahA40DVgRqBEcFfQTHBBgGhgMlBLsCBwKdAvECTwPEAzADrQNbBLUD5AI1Aw==",
          "dtype": "i2"
         },
         "yaxis": "y"
        },
        {
         "legendgroup": "Dbss",
         "line": {
          "color": "#fb8f5b"
         },
         "mode": "lines",
         "name": "Dbss",
         "showlegend": true,
         "type": "scatter",
         "visible": true,
         "x": {
          "bdata": "3gffB+AH4QfiB+MH5AflB+YH5wfoBw==",
          "dtype": "i2"
         },
         "xaxis": "x",
         "y": {
          "bdata": "SAAjAKoAMgFAATYBNwLLAooBKAEbAQ==",
          "dtype": "i2"
         },
         "yaxis": "y"
        },
        {
         "legendgroup": "Improved",
         "line": {
          "color": "#faa272"
         },
         "mode": "lines",
         "name": "Improved",
         "showlegend": true,
         "type": "scatter",
         "visible": true,
         "x": {
          "bdata": "xgfHB8gHyQfKB8sHzAfNB84HzwfQB9EH0gfTB9QH1QfWB9cH2AfZB9oH2wfcB90H3gffB+AH4QfiB+MH5AflB+YH5wfoBw==",
          "dtype": "i2"
         },
         "xaxis": "x",
         "y": {
          "bdata": "Dw9nDcsPkBO5GzIc7iADHrYvBjmbIWAnXiZMHagdcx8rHfYdoB7DIvolthhRGH0QQBApEv4SwhNlFbAV6RYuHN0ZRxfwFw==",
          "dtype": "i2"
         },
         "yaxis": "y"
        },
        {
         "legendgroup": "Improved-Maisonette",
         "line": {
          "color": "#fbad80"
         },
         "mode": "lines",
         "name": "Improved-Maisonette",
         "showlegend": true,
         "type": "scatter",
         "visible": true,
         "x": {
          "bdata": "xwfIB8kHygfLB8wHzQfOB88H0AfRB9IH0wfUB9UH1gfXB9gH2QfaB9sH3AfdB94H4AfhB+IH4wfkB+UH5gfnB+gH",
          "dtype": "i2"
         },
         "xaxis": "x",
         "y": {
          "bdata": "CAQDBAUDBQMJBAUFAQIDCAQGAQQDAgMBBAUGAgIDAgUD",
          "dtype": "i1"
         },
         "yaxis": "y"
        },
        {
         "legendgroup": "Maisonette",
         "line": {
          "color": "#fcb88e"
         },
         "mode": "lines",
         "name": "Maisonette",
         "showlegend": true,
         "type": "scatter",
         "visible": true,
         "x": {
          "bdata": "xgfHB8gHyQfKB8sHzAfNB84HzwfQB9EH0gfTB9QH1QfWB9cH2AfZB9oH2wfcB90H3gffB+AH4QfiB+MH5AflB+YH5wfoBw==",
          "dtype": "i2"
         },
         "xaxis": "x",
         "y": {
          "bdata": "TwEWApICIATkBUEFDQZ2BfIGBQipA/YD8QOPAlkCmgLxAhsDAwNZAwgEjgKzAr0BkgH5ARMCMgKtApYC1QJ3A9oCQgKQAg==",
          "dtype": "i2"
         },
         "yaxis": "y"
        },
        {
         "legendgroup": "Model A",
         "line": {
          "color": "#fdc49d"
         },
         "mode": "lines",
         "name": "Model A",
         "showlegend": true,
         "type": "scatter",
         "visible": true,
         "x": {
          "bdata": "xgfHB8gHyQfKB8sHzAfNB84HzwfQB9EH0gfTB9QH1QfWB9cH2AfZB9oH2wfcB90H3gffB+AH4QfiB+MH5AflB+YH5wfoBw==",
          "dtype": "i2"
         },
         "xaxis": "x",
         "y": {
          "bdata": "1QbdBvUJeQ2eFtIZVyPnIqg3bD8sKVwvuSwiIyggMSLdHRAc6BtCH3ck5xazGBYR/xFiFCUXbxiqGu4dmx45Jh8lwyifJw==",
          "dtype": "i2"
         },
         "yaxis": "y"
        },
        {
         "legendgroup": "Model A-Maisonette",
         "line": {
          "color": "#fecfab"
         },
         "mode": "lines",
         "name": "Model A-Maisonette",
         "showlegend": true,
         "type": "scatter",
         "visible": true,
         "x": {
          "bdata": "xgfHB8gHyQfKB8sHzAfNB84HzwfQB9EH0gfTB9QH1QfWB9cH2AfZB9oH2wfcB90H3gffB+AH4QfiB+MH5AflB+YH5wfoBw==",
          "dtype": "i2"
         },
         "xaxis": "x",
         "y": {
          "bdata": "QgAoAEMAYwBfAG4AYABkAJsAmgA5ADMAKAAwAB4ANAAuAD8ARAA1AEEALwAkABYAFwAhACUAHwAhAC4AJQA+ADcAJwAuAA==",
          "dtype": "i2"
         },
         "yaxis": "y"
        },
        {
         "legendgroup": "Model A2",
         "line": {
          "color": "#ffdab9"
         },
         "mode": "lines",
         "name": "Model A2",
         "showlegend": true,
         "type": "scatter",
         "visible": true,
         "x": {
          "bdata": "0AfRB9IH0wfUB9UH1gfXB9gH2QfaB9sH3AfdB94H3wfgB+EH4gfjB+QH5QfmB+cH6Ac=",
          "dtype": "i2"
         },
         "xaxis": "x",
         "y": {
          "bdata": "FQB0ATADXgLaAq8CeAJyAjcCNQJ1Ao4BUwEFAe8AFQErASoBTQH+ANYAHAEVARwBIAE=",
          "dtype": "i2"
         },
         "yaxis": "y"
        },
        {
         "legendgroup": "Multi Generation",
         "line": {
          "color": "#cccac7"
         },
         "mode": "lines",
         "name": "Multi Generation",
         "showlegend": true,
         "type": "scatter",
         "visible": true,
         "x": {
          "bdata": "xwfIB8kHygfLB8wHzQfOB88H0AfRB9IH0wfUB9UH1gfXB9gH2QfaB9sH3AfdB94H3wfgB+EH4gfjB+QH5QfmB+cH6Ac=",
          "dtype": "i2"
         },
         "xaxis": "x",
         "y": {
          "bdata": "AhYyJRsuJR4cFBcHDAwFDRUPCQwKDAcDAQQEDw4IEgwDBg==",
          "dtype": "i1"
         },
         "yaxis": "y"
        },
        {
         "legendgroup": "New Generation",
         "line": {
          "color": "#99b9d5"
         },
         "mode": "lines",
         "name": "New Generation",
         "showlegend": true,
         "type": "scatter",
         "visible": true,
         "x": {
          "bdata": "xgfHB8gHyQfKB8sHzAfNB84HzwfQB9EH0gfTB9QH1QfWB9cH2AfZB9oH2wfcB90H3gffB+AH4QfiB+MH5AflB+YH5wfoBw==",
          "dtype": "i2"
         },
         "xaxis": "x",
         "y": {
          "bdata": "aRKAE5AS8xPkHCod3iXqHmYzijWPIb4etxrgFxIYSRfKFBAS5xEKFNYX7A4JEMgL5gspDI8Mugu/C+wLIwtYDNwLuQucCw==",
          "dtype": "i2"
         },
         "yaxis": "y"
        },
        {
         "legendgroup": "Premium Apartment",
         "line": {
          "color": "#66a9e3"
         },
         "mode": "lines",
         "name": "Premium Apartment",
         "showlegend": true,
         "type": "scatter",
         "visible": true,
         "x": {
          "bdata": "zAfQB9EH0gfTB9QH1QfWB9cH2AfZB9oH2wfcB90H3gffB+AH4QfiB+MH5AflB+YH5wfoBw==",
          "dtype": "i2"
         },
         "xaxis": "x",
         "y": {
          "bdata": "BgDqAKABswJMA1QFogWkBcMHCAmxClEKegf9B0gFbwUyBpQHkglGCUkIOQrfDpsMYwpzCg==",
          "dtype": "i2"
         },
         "yaxis": "y"
        },
        {
         "legendgroup": "Premium Apartment Loft",
         "line": {
          "color": "#3398f1"
         },
         "mode": "lines",
         "name": "Premium Apartment Loft",
         "showlegend": true,
         "type": "scatter",
         "visible": true,
         "x": {
          "bdata": "3wfgB+EH4gfjB+QH5QfmB+cH6Ac=",
          "dtype": "i2"
         },
         "xaxis": "x",
         "y": {
          "bdata": "AQQBAgQaKw0KCg==",
          "dtype": "i1"
         },
         "yaxis": "y"
        },
        {
         "legendgroup": "Premium Maisonette",
         "line": {
          "color": "#0088ff"
         },
         "mode": "lines",
         "name": "Premium Maisonette",
         "showlegend": true,
         "type": "scatter",
         "visible": true,
         "x": {
          "bdata": "0AfRB9IH0wfUB9UH1gfXB9gH2QfaB9sH3AfeB98H4AfhB+IH4wfkB+UH5gfoBw==",
          "dtype": "i2"
         },
         "xaxis": "x",
         "y": {
          "bdata": "BQ8LBQQDBAIHBgICAwEBAQIBBAMBAwE=",
          "dtype": "i1"
         },
         "yaxis": "y"
        },
        {
         "legendgroup": "Simplified",
         "line": {
          "color": "#0077e4"
         },
         "mode": "lines",
         "name": "Simplified",
         "showlegend": true,
         "type": "scatter",
         "visible": true,
         "x": {
          "bdata": "xgfHB8gHyQfKB8sHzAfNB84HzwfQB9EH0gfTB9QH1QfWB9cH2AfZB9oH2wfcB90H3gffB+AH4QfiB+MH5AflB+YH5wfoBw==",
          "dtype": "i2"
         },
         "xaxis": "x",
         "y": {
          "bdata": "SQFBAxME/AWdCHYJwgyAC54RThBACiYKzAhxB2UHuAbgBSkFngVbBtIHEgVjBacDxgOzA50D0ANSA6ADYAPAAwAEsQOmAw==",
          "dtype": "i2"
         },
         "yaxis": "y"
        },
        {
         "legendgroup": "Standard",
         "line": {
          "color": "#0066c8"
         },
         "mode": "lines",
         "name": "Standard",
         "showlegend": true,
         "type": "scatter",
         "visible": true,
         "x": {
          "bdata": "xgfHB8gHyQfKB8sHzAfNB84HzwfQB9EH0gfTB9QH1QfWB9cH2AfZB9oH2wfcB90H3gffB+AH4QfiB+MH5AflB+YH5wfoBw==",
          "dtype": "i2"
         },
         "xaxis": "x",
         "y": {
          "bdata": "PwVaBJQEpgXOBkMGQgiVBjQJ8Ao2BkIG6QUaBdkF1gVaBdMECgXjBF4G1wOWA9YCeQJNAlACXQInAoYCnQJIA9kChwJPAg==",
          "dtype": "i2"
         },
         "yaxis": "y"
        },
        {
         "legendgroup": "Terrace",
         "line": {
          "color": "#0055ad"
         },
         "mode": "lines",
         "name": "Terrace",
         "showlegend": true,
         "type": "scatter",
         "visible": true,
         "x": {
          "bdata": "xgfHB8gHyQfKB8sHzAfNB84HzwfQB9EH0gfTB9QH1QfWB9cH2AfZB9oH2wfcB90H3gffB+AH4QfiB+MH5AflB+YH5wfoBw==",
          "dtype": "i2"
         },
         "xaxis": "x",
         "y": {
          "bdata": "DhMQGhoWKRseGhUTFhEaEBceES0jEhAKCgwMDAwODxMNBw0=",
          "dtype": "i1"
         },
         "yaxis": "y"
        },
        {
         "legendgroup": "Type S1",
         "line": {
          "color": "#004491"
         },
         "mode": "lines",
         "name": "Type S1",
         "showlegend": true,
         "type": "scatter",
         "visible": true,
         "x": {
          "bdata": "3gffB+AH4QfiB+MH5AflB+YH5wfoBw==",
          "dtype": "i2"
         },
         "xaxis": "x",
         "y": {
          "bdata": "AVovKSclGEgqJRU=",
          "dtype": "i1"
         },
         "yaxis": "y"
        },
        {
         "legendgroup": "Type S2",
         "line": {
          "color": "#003376"
         },
         "mode": "lines",
         "name": "Type S2",
         "showlegend": true,
         "type": "scatter",
         "visible": true,
         "x": {
          "bdata": "3wfgB+EH4gfjB+QH5QfmB+cH6Ac=",
          "dtype": "i2"
         },
         "xaxis": "x",
         "y": {
          "bdata": "IhUXGBASKhcLDw==",
          "dtype": "i1"
         },
         "yaxis": "y"
        },
        {
         "legendgroup": "All",
         "line": {
          "color": "gray"
         },
         "mode": "lines",
         "name": "All",
         "showlegend": true,
         "type": "scatter",
         "visible": true,
         "x": {
          "bdata": "xgfHB8gHyQfKB8sHzAfNB84HzwfQB9EH0gfTB9QH1QfWB9cH2AfZB9oH2wfcB90H3gffB+AH4QfiB+MH5AflB+YH5wfoBw==",
          "dtype": "i2"
         },
         "xaxis": "x2",
         "y": {
          "bdata": "2TAAADYyAACmOAAAw0YAAPNmAACNagAAZIgAAA98AACXxwAAtuEAAC6IAACnlAAAAo0AAEtxAAC2cQAAUXUAACNrAABmaQAAfmoAABJ3AAAmiAAACFcAAJ5aAADhPgAA4D4AAHRFAACtSwAAHVAAADlUAACqVgAAJVsAAJ9xAABgaAAAm2QAAJdkAAA=",
          "dtype": "i4"
         },
         "yaxis": "y2"
        },
        {
         "legendgroup": "2-Room",
         "marker": {
          "color": "#ff4500"
         },
         "name": "2-Room",
         "showlegend": true,
         "type": "bar",
         "visible": false,
         "x": {
          "bdata": "xgfHB8gHyQfLB8wHzQfOB88H0AfSB9MH1AfVB9cH2AfZB9oH2wfgB+QH5QfmB+cH6Ac=",
          "dtype": "i2"
         },
         "xaxis": "x",
         "y": {
          "bdata": "AwEBAQIDAgIGAQICAQEBAQMCAgEDChYjVg==",
          "dtype": "i1"
         },
         "yaxis": "y"
        },
        {
         "legendgroup": "3Gen",
         "marker": {
          "color": "#fe5817"
         },
         "name": "3Gen",
         "showlegend": true,
         "type": "bar",
         "visible": false,
         "x": {
          "bdata": "5gfnB+gH",
          "dtype": "i2"
         },
         "xaxis": "x",
         "y": {
          "bdata": "BRUV",
          "dtype": "i1"
         },
         "yaxis": "y"
        },
        {
         "legendgroup": "Adjoined Flat",
         "marker": {
          "color": "#fd6a2e"
         },
         "name": "Adjoined Flat",
         "showlegend": true,
         "type": "bar",
         "visible": false,
         "x": {
          "bdata": "0AfRB9IH0wfUB9UH1gfXB9gH2QfaB9sH3AfdB94H3wfgB+EH4gfjB+QH5QfmB+cH6Ac=",
          "dtype": "i2"
         },
         "xaxis": "x",
         "y": {
          "bdata": "Vz1GQzdFQkQ2SlEoKxoWFB4fKi4xMigrJg==",
          "dtype": "i1"
         },
         "yaxis": "y"
        },
        {
         "legendgroup": "Apartment",
         "marker": {
          "color": "#fc7d44"
         },
         "name": "Apartment",
         "showlegend": true,
         "type": "bar",
         "visible": false,
         "x": {
          "bdata": "xgfHB8gHyQfKB8sHzAfNB84HzwfQB9EH0gfTB9QH1QfWB9cH2AfZB9oH2wfcB90H3gffB+AH4QfiB+MH5AflB+YH5wfoBw==",
          "dtype": "i2"
         },
         "xaxis": "x",
         "y": {
          "bdata": "YgB7AK8AUgHHAb8BbQIFBDMKmA/3BQ0HDgahA40DVgRqBEcFfQTHBBgGhgMlBLsCBwKdAvECTwPEAzADrQNbBLUD5AI1Aw==",
          "dtype": "i2"
         },
         "yaxis": "y"
        },
        {
         "legendgroup": "Dbss",
         "marker": {
          "color": "#fb8f5b"
         },
         "name": "Dbss",
         "showlegend": true,
         "type": "bar",
         "visible": false,
         "x": {
          "bdata": "3gffB+AH4QfiB+MH5AflB+YH5wfoBw==",
          "dtype": "i2"
         },
         "xaxis": "x",
         "y": {
          "bdata": "SAAjAKoAMgFAATYBNwLLAooBKAEbAQ==",
          "dtype": "i2"
         },
         "yaxis": "y"
        },
        {
         "legendgroup": "Improved",
         "marker": {
          "color": "#faa272"
         },
         "name": "Improved",
         "showlegend": true,
         "type": "bar",
         "visible": false,
         "x": {
          "bdata": "xgfHB8gHyQfKB8sHzAfNB84HzwfQB9EH0gfTB9QH1QfWB9cH2AfZB9oH2wfcB90H3gffB+AH4QfiB+MH5AflB+YH5wfoBw==",
          "dtype": "i2"
         },
         "xaxis": "x",
         "y": {
          "bdata": "Dw9nDcsPkBO5GzIc7iADHrYvBjmbIWAnXiZMHagdcx8rHfYdoB7DIvolthhRGH0QQBApEv4SwhNlFbAV6RYuHN0ZRxfwFw==",
          "dtype": "i2"
         },
         "yaxis": "y"
        },
        {
         "legendgroup": "Improved-Maisonette",
         "marker": {
          "color": "#fbad80"
         },
         "name": "Improved-Maisonette",
         "showlegend": true,
         "type": "bar",
         "visible": false,
         "x": {
          "bdata": "xwfIB8kHygfLB8wHzQfOB88H0AfRB9IH0wfUB9UH1gfXB9gH2QfaB9sH3AfdB94H4AfhB+IH4wfkB+UH5gfnB+gH",
          "dtype": "i2"
         },
         "xaxis": "x",
         "y": {
          "bdata": "CAQDBAUDBQMJBAUFAQIDCAQGAQQDAgMBBAUGAgIDAgUD",
          "dtype": "i1"
         },
         "yaxis": "y"
        },
        {
         "legendgroup": "Maisonette",
         "marker": {
          "color": "#fcb88e"
         },
         "name": "Maisonette",
         "showlegend": true,
         "type": "bar",
         "visible": false,
         "x": {
          "bdata": "xgfHB8gHyQfKB8sHzAfNB84HzwfQB9EH0gfTB9QH1QfWB9cH2AfZB9oH2wfcB90H3gffB+AH4QfiB+MH5AflB+YH5wfoBw==",
          "dtype": "i2"
         },
         "xaxis": "x",
         "y": {
          "bdata": "TwEWApICIATkBUEFDQZ2BfIGBQipA/YD8QOPAlkCmgLxAhsDAwNZAwgEjgKzAr0BkgH5ARMCMgKtApYC1QJ3A9oCQgKQAg==",
          "dtype": "i2"
         },
         "yaxis": "y"
        },
        {
         "legendgroup": "Model A",
         "marker": {
          "color": "#fdc49d"
         },
         "name": "Model A",
         "showlegend": true,
         "type": "bar",
         "visible": false,
         "x": {
          "bdata": "xgfHB8gHyQfKB8sHzAfNB84HzwfQB9EH0gfTB9QH1QfWB9cH2AfZB9oH2wfcB90H3gffB+AH4QfiB+MH5AflB+YH5wfoBw==",
          "dtype": "i2"
         },
         "xaxis": "x",
         "y": {
          "bdata": "1QbdBvUJeQ2eFtIZVyPnIqg3bD8sKVwvuSwiIyggMSLdHRAc6BtCH3ck5xazGBYR/xFiFCUXbxiqGu4dmx45Jh8lwyifJw==",
          "dtype": "i2"
         },
         "yaxis": "y"
        },
        {
         "legendgroup": "Model A-Maisonette",
         "marker": {
          "color": "#fecfab"
         },
         "name": "Model A-Maisonette",
         "showlegend": true,
         "type": "bar",
         "visible": false,
         "x": {
          "bdata": "xgfHB8gHyQfKB8sHzAfNB84HzwfQB9EH0gfTB9QH1QfWB9cH2AfZB9oH2wfcB90H3gffB+AH4QfiB+MH5AflB+YH5wfoBw==",
          "dtype": "i2"
         },
         "xaxis": "x",
         "y": {
          "bdata": "QgAoAEMAYwBfAG4AYABkAJsAmgA5ADMAKAAwAB4ANAAuAD8ARAA1AEEALwAkABYAFwAhACUAHwAhAC4AJQA+ADcAJwAuAA==",
          "dtype": "i2"
         },
         "yaxis": "y"
        },
        {
         "legendgroup": "Model A2",
         "marker": {
          "color": "#ffdab9"
         },
         "name": "Model A2",
         "showlegend": true,
         "type": "bar",
         "visible": false,
         "x": {
          "bdata": "0AfRB9IH0wfUB9UH1gfXB9gH2QfaB9sH3AfdB94H3wfgB+EH4gfjB+QH5QfmB+cH6Ac=",
          "dtype": "i2"
         },
         "xaxis": "x",
         "y": {
          "bdata": "FQB0ATADXgLaAq8CeAJyAjcCNQJ1Ao4BUwEFAe8AFQErASoBTQH+ANYAHAEVARwBIAE=",
          "dtype": "i2"
         },
         "yaxis": "y"
        },
        {
         "legendgroup": "Multi Generation",
         "marker": {
          "color": "#cccac7"
         },
         "name": "Multi Generation",
         "showlegend": true,
         "type": "bar",
         "visible": false,
         "x": {
          "bdata": "xwfIB8kHygfLB8wHzQfOB88H0AfRB9IH0wfUB9UH1gfXB9gH2QfaB9sH3AfdB94H3wfgB+EH4gfjB+QH5QfmB+cH6Ac=",
          "dtype": "i2"
         },
         "xaxis": "x",
         "y": {
          "bdata": "AhYyJRsuJR4cFBcHDAwFDRUPCQwKDAcDAQQEDw4IEgwDBg==",
          "dtype": "i1"
         },
         "yaxis": "y"
        },
        {
         "legendgroup": "New Generation",
         "marker": {
          "color": "#99b9d5"
         },
         "name": "New Generation",
         "showlegend": true,
         "type": "bar",
         "visible": false,
         "x": {
          "bdata": "xgfHB8gHyQfKB8sHzAfNB84HzwfQB9EH0gfTB9QH1QfWB9cH2AfZB9oH2wfcB90H3gffB+AH4QfiB+MH5AflB+YH5wfoBw==",
          "dtype": "i2"
         },
         "xaxis": "x",
         "y": {
          "bdata": "aRKAE5AS8xPkHCod3iXqHmYzijWPIb4etxrgFxIYSRfKFBAS5xEKFNYX7A4JEMgL5gspDI8Mugu/C+wLIwtYDNwLuQucCw==",
          "dtype": "i2"
         },
         "yaxis": "y"
        },
        {
         "legendgroup": "Premium Apartment",
         "marker": {
          "color": "#66a9e3"
         },
         "name": "Premium Apartment",
         "showlegend": true,
         "type": "bar",
         "visible": false,
         "x": {
          "bdata": "zAfQB9EH0gfTB9QH1QfWB9cH2AfZB9oH2wfcB90H3gffB+AH4QfiB+MH5AflB+YH5wfoBw==",
          "dtype": "i2"
         },
         "xaxis": "x",
         "y": {
          "bdata": "BgDqAKABswJMA1QFogWkBcMHCAmxClEKegf9B0gFbwUyBpQHkglGCUkIOQrfDpsMYwpzCg==",
          "dtype": "i2"
         },
         "yaxis": "y"
        },
        {
         "legendgroup": "Premium Apartment Loft",
         "marker": {
          "color": "#3398f1"
         },
         "name": "Premium Apartment Loft",
         "showlegend": true,
         "type": "bar",
         "visible": false,
         "x": {
          "bdata": "3wfgB+EH4gfjB+QH5QfmB+cH6Ac=",
          "dtype": "i2"
         },
         "xaxis": "x",
         "y": {
          "bdata": "AQQBAgQaKw0KCg==",
          "dtype": "i1"
         },
         "yaxis": "y"
        },
        {
         "legendgroup": "Premium Maisonette",
         "marker": {
          "color": "#0088ff"
         },
         "name": "Premium Maisonette",
         "showlegend": true,
         "type": "bar",
         "visible": false,
         "x": {
          "bdata": "0AfRB9IH0wfUB9UH1gfXB9gH2QfaB9sH3AfeB98H4AfhB+IH4wfkB+UH5gfoBw==",
          "dtype": "i2"
         },
         "xaxis": "x",
         "y": {
          "bdata": "BQ8LBQQDBAIHBgICAwEBAQIBBAMBAwE=",
          "dtype": "i1"
         },
         "yaxis": "y"
        },
        {
         "legendgroup": "Simplified",
         "marker": {
          "color": "#0077e4"
         },
         "name": "Simplified",
         "showlegend": true,
         "type": "bar",
         "visible": false,
         "x": {
          "bdata": "xgfHB8gHyQfKB8sHzAfNB84HzwfQB9EH0gfTB9QH1QfWB9cH2AfZB9oH2wfcB90H3gffB+AH4QfiB+MH5AflB+YH5wfoBw==",
          "dtype": "i2"
         },
         "xaxis": "x",
         "y": {
          "bdata": "SQFBAxME/AWdCHYJwgyAC54RThBACiYKzAhxB2UHuAbgBSkFngVbBtIHEgVjBacDxgOzA50D0ANSA6ADYAPAAwAEsQOmAw==",
          "dtype": "i2"
         },
         "yaxis": "y"
        },
        {
         "legendgroup": "Standard",
         "marker": {
          "color": "#0066c8"
         },
         "name": "Standard",
         "showlegend": true,
         "type": "bar",
         "visible": false,
         "x": {
          "bdata": "xgfHB8gHyQfKB8sHzAfNB84HzwfQB9EH0gfTB9QH1QfWB9cH2AfZB9oH2wfcB90H3gffB+AH4QfiB+MH5AflB+YH5wfoBw==",
          "dtype": "i2"
         },
         "xaxis": "x",
         "y": {
          "bdata": "PwVaBJQEpgXOBkMGQgiVBjQJ8Ao2BkIG6QUaBdkF1gVaBdMECgXjBF4G1wOWA9YCeQJNAlACXQInAoYCnQJIA9kChwJPAg==",
          "dtype": "i2"
         },
         "yaxis": "y"
        },
        {
         "legendgroup": "Terrace",
         "marker": {
          "color": "#0055ad"
         },
         "name": "Terrace",
         "showlegend": true,
         "type": "bar",
         "visible": false,
         "x": {
          "bdata": "xgfHB8gHyQfKB8sHzAfNB84HzwfQB9EH0gfTB9QH1QfWB9cH2AfZB9oH2wfcB90H3gffB+AH4QfiB+MH5AflB+YH5wfoBw==",
          "dtype": "i2"
         },
         "xaxis": "x",
         "y": {
          "bdata": "DhMQGhoWKRseGhUTFhEaEBceES0jEhAKCgwMDAwODxMNBw0=",
          "dtype": "i1"
         },
         "yaxis": "y"
        },
        {
         "legendgroup": "Type S1",
         "marker": {
          "color": "#004491"
         },
         "name": "Type S1",
         "showlegend": true,
         "type": "bar",
         "visible": false,
         "x": {
          "bdata": "3gffB+AH4QfiB+MH5AflB+YH5wfoBw==",
          "dtype": "i2"
         },
         "xaxis": "x",
         "y": {
          "bdata": "AVovKSclGEgqJRU=",
          "dtype": "i1"
         },
         "yaxis": "y"
        },
        {
         "legendgroup": "Type S2",
         "marker": {
          "color": "#003376"
         },
         "name": "Type S2",
         "showlegend": true,
         "type": "bar",
         "visible": false,
         "x": {
          "bdata": "3wfgB+EH4gfjB+QH5QfmB+cH6Ac=",
          "dtype": "i2"
         },
         "xaxis": "x",
         "y": {
          "bdata": "IhUXGBASKhcLDw==",
          "dtype": "i1"
         },
         "yaxis": "y"
        },
        {
         "legendgroup": "All",
         "marker": {
          "color": "gray"
         },
         "name": "All",
         "showlegend": true,
         "type": "bar",
         "visible": false,
         "x": {
          "bdata": "xgfHB8gHyQfKB8sHzAfNB84HzwfQB9EH0gfTB9QH1QfWB9cH2AfZB9oH2wfcB90H3gffB+AH4QfiB+MH5AflB+YH5wfoBw==",
          "dtype": "i2"
         },
         "xaxis": "x2",
         "y": {
          "bdata": "2TAAADYyAACmOAAAw0YAAPNmAACNagAAZIgAAA98AACXxwAAtuEAAC6IAACnlAAAAo0AAEtxAAC2cQAAUXUAACNrAABmaQAAfmoAABJ3AAAmiAAACFcAAJ5aAADhPgAA4D4AAHRFAACtSwAAHVAAADlUAACqVgAAJVsAAJ9xAABgaAAAm2QAAJdkAAA=",
          "dtype": "i4"
         },
         "yaxis": "y2"
        },
        {
         "legendgroup": "2-Room",
         "line": {
          "color": "#ff4500"
         },
         "mode": "lines",
         "name": "2-Room",
         "showlegend": true,
         "type": "scatter",
         "visible": false,
         "x": {
          "bdata": "rwewB7EHsgezB7oHwgfKB9AH3QfeB98H4AfhB+IH4wfkB+UH",
          "dtype": "i2"
         },
         "xaxis": "x",
         "y": {
          "bdata": "AwEFAgMBAhkBBRAQBgQpHB8E",
          "dtype": "i1"
         },
         "yaxis": "y"
        },
        {
         "legendgroup": "3Gen",
         "line": {
          "color": "#fe5817"
         },
         "mode": "lines",
         "name": "3Gen",
         "showlegend": true,
         "type": "scatter",
         "visible": false,
         "x": {
          "bdata": "4gfjB+QH",
          "dtype": "i2"
         },
         "xaxis": "x",
         "y": {
          "bdata": "KAUC",
          "dtype": "i1"
         },
         "yaxis": "y"
        },
        {
         "legendgroup": "Adjoined Flat",
         "line": {
          "color": "#fd6a2e"
         },
         "mode": "lines",
         "name": "Adjoined Flat",
         "showlegend": true,
         "type": "scatter",
         "visible": false,
         "x": {
          "bdata": "rwewB7EHsgezB7QHtQe2B7cHuAe5B7oHuwe8B70Hvge/B8AHwQfCB8MHxAfFBw==",
          "dtype": "i2"
         },
         "xaxis": "x",
         "y": {
          "bdata": "GgACAEQALAAjACEAKwBFAFoAUwBQAHsAWwCDAF4AGwArAE0APgAdAA4ABgACAA==",
          "dtype": "i2"
         },
         "yaxis": "y"
        },
        {
         "legendgroup": "Apartment",
         "line": {
          "color": "#fc7d44"
         },
         "mode": "lines",
         "name": "Apartment",
         "showlegend": true,
         "type": "scatter",
         "visible": false,
         "x": {
          "bdata": "wAfBB8IHwwfEB8UHxgfIB8kHygfLB8wHzQfOB88H0AfRB9IH0wc=",
          "dtype": "i2"
         },
         "xaxis": "x",
         "y": {
          "bdata": "qwJcBJcDpwTUBcQBXAD2CpsbnghKF60MqQffBksGOQSLBjoCKAA=",
          "dtype": "i2"
         },
         "yaxis": "y"
        },
        {
         "legendgroup": "Dbss",
         "line": {
          "color": "#fb8f5b"
         },
         "mode": "lines",
         "name": "Dbss",
         "showlegend": true,
         "type": "scatter",
         "visible": false,
         "x": {
          "bdata": "2AfbB9wH3QfeB98H",
          "dtype": "i2"
         },
         "xaxis": "x",
         "y": {
          "bdata": "TQH8A/cBJQGeBIkA",
          "dtype": "i2"
         },
         "yaxis": "y"
        },
        {
         "legendgroup": "Improved",
         "line": {
          "color": "#faa272"
         },
         "mode": "lines",
         "name": "Improved",
         "showlegend": true,
         "type": "scatter",
         "visible": false,
         "x": {
          "bdata": "rgevB7AHsQeyB7MHtAe1B7YHtwe4B7kHuge7B7wHvQe+B78HwAfBB8IHwwfEB8UHxgfHB8gHyQfKB8sHzAfNB84HzwfQB9EH0gfTB9QH1QfWB9cH2AfZB9oH2wfcB90H3gffB+AH4QfiB+MH5Ac=",
          "dtype": "i2"
         },
         "xaxis": "x",
         "y": {
          "bdata": "IgAKAyYCQgWVHVwLmBREF8QzQDvPPEMi2xoKDgwS+BBzEpcMGQtELZcibCLPK0ogMgceAMQMTiNFBRURqCOpKkIfdRzTFXUdphQ4FXgH7QLCAhgAXgA1ADoAHQCgACwBgQCGB0AERgRvBHgBXgA=",
          "dtype": "i2"
         },
         "yaxis": "y"
        },
        {
         "legendgroup": "Improved-Maisonette",
         "line": {
          "color": "#fbad80"
         },
         "mode": "lines",
         "name": "Improved-Maisonette",
         "showlegend": true,
         "type": "scatter",
         "visible": false,
         "x": {
          "bdata": "vwfNBw==",
          "dtype": "i2"
         },
         "xaxis": "x",
         "y": {
          "bdata": "fwE=",
          "dtype": "i1"
         },
         "yaxis": "y"
        },
        {
         "legendgroup": "Maisonette",
         "line": {
          "color": "#fcb88e"
         },
         "mode": "lines",
         "name": "Maisonette",
         "showlegend": true,
         "type": "scatter",
         "visible": false,
         "x": {
          "bdata": "wAfBB8IHwwfEB8UHxgfHB8gHyQfKB8sHzAfNB84HzwfQBw==",
          "dtype": "i2"
         },
         "xaxis": "x",
         "y": {
          "bdata": "zgpIFOsOdQq4Ed0MigKCAVILMQAIACMCMAT/AoICmQIyAA==",
          "dtype": "i2"
         },
         "yaxis": "y"
        },
        {
         "legendgroup": "Model A",
         "line": {
          "color": "#fdc49d"
         },
         "mode": "lines",
         "name": "Model A",
         "showlegend": true,
         "type": "scatter",
         "visible": false,
         "x": {
          "bdata": "uge+B78HwAfBB8IHwwfEB8UHxgfHB8gHyQfKB8sHzAfNB84HzwfQB9EH0gfTB9QH1QfWB9cH2AfZB9oH2wfcB90H3gffB+AH4QfiB+MH5AflBw==",
          "dtype": "i2"
         },
         "xaxis": "x",
         "y": {
          "bdata": "IwAAAAsIAABKHwAA6pEAAEhdAAB3GAAALyoAAGpWAAAVSgAAlRkAAFEDAAAEKwAAqy0AACoJAAA2HwAA4TUAAPs4AABqJwAARBoAAL0PAAAzFAAAxQ8AALgOAACcBwAA/wUAAHUGAABFAQAAOQIAAOcCAACkAwAAawMAAKoNAADYCwAAHwkAAHEcAABsCwAA5wsAANIRAAASCQAANAMAAAIAAAA=",
          "dtype": "i4"
         },
         "yaxis": "y"
        },
        {
         "legendgroup": "Model A-Maisonette",
         "line": {
          "color": "#fecfab"
         },
         "mode": "lines",
         "name": "Model A-Maisonette",
         "showlegend": true,
         "type": "scatter",
         "visible": false,
         "x": {
          "bdata": "vwfAB8EH",
          "dtype": "i2"
         },
         "xaxis": "x",
         "y": {
          "bdata": "PAEsBs4A",
          "dtype": "i2"
         },
         "yaxis": "y"
        },
        {
         "legendgroup": "Model A2",
         "line": {
          "color": "#ffdab9"
         },
         "mode": "lines",
         "name": "Model A2",
         "showlegend": true,
         "type": "scatter",
         "visible": false,
         "x": {
          "bdata": "zQfOB88H0AfRB9IH0wfUBw==",
          "dtype": "i2"
         },
         "xaxis": "x",
         "y": {
          "bdata": "MQlECnIE6gbWAtUD/wG9AA==",
          "dtype": "i2"
         },
         "yaxis": "y"
        },
        {
         "legendgroup": "Multi Generation",
         "line": {
          "color": "#cccac7"
         },
         "mode": "lines",
         "name": "Multi Generation",
         "showlegend": true,
         "type": "scatter",
         "visible": false,
         "x": {
          "bdata": "wwfEBw==",
          "dtype": "i2"
         },
         "xaxis": "x",
         "y": {
          "bdata": "/gEjAA==",
          "dtype": "i2"
         },
         "yaxis": "y"
        },
        {
         "legendgroup": "New Generation",
         "line": {
          "color": "#99b9d5"
         },
         "mode": "lines",
         "name": "New Generation",
         "showlegend": true,
         "type": "scatter",
         "visible": false,
         "x": {
          "bdata": "uAe5B7oHuwe8B70Hvge/B8AHwQfCB8MHxAfFB8YHyAfJB8oHywfOB88H",
          "dtype": "i2"
         },
         "xaxis": "x",
         "y": {
          "bdata": "/wwAAP4jAAAmeQAAJmQAAKNrAACcPgAA9xkAAOolAABkSAAAZoEAAD0SAAD5CAAA/QUAAFIBAACGAAAA9gAAALoAAAAqAAAAKwEAADoAAAABAAAA",
          "dtype": "i4"
         },
         "yaxis": "y"
        },
        {
         "legendgroup": "Premium Apartment",
         "line": {
          "color": "#66a9e3"
         },
         "mode": "lines",
         "name": "Premium Apartment",
         "showlegend": true,
         "type": "scatter",
         "visible": false,
         "x": {
          "bdata": "zAfNB84HzwfQB9EH0gfTB9QH1QfWB9cH2AfZB9oH2wfcB90H3gffB+AH4QfiB+MH5Ac=",
          "dtype": "i2"
         },
         "xaxis": "x",
         "y": {
          "bdata": "pwLMAhcLDQ++F7QSxgfgGO4RQQecA6IC0gQmBK0BsQALBHQISQFxBTcKcQZJAmoAjgA=",
          "dtype": "i2"
         },
         "yaxis": "y"
        },
        {
         "legendgroup": "Premium Apartment Loft",
         "line": {
          "color": "#3398f1"
         },
         "mode": "lines",
         "name": "Premium Apartment Loft",
         "showlegend": true,
         "type": "scatter",
         "visible": false,
         "x": {
          "bdata": "3AfdB+AH",
          "dtype": "i2"
         },
         "xaxis": "x",
         "y": {
          "bdata": "CQ1c",
          "dtype": "i1"
         },
         "yaxis": "y"
        },
        {
         "legendgroup": "Premium Maisonette",
         "line": {
          "color": "#0088ff"
         },
         "mode": "lines",
         "name": "Premium Maisonette",
         "showlegend": true,
         "type": "scatter",
         "visible": false,
         "x": {
          "bdata": "zQfOBw==",
          "dtype": "i2"
         },
         "xaxis": "x",
         "y": {
          "bdata": "NCM=",
          "dtype": "i1"
         },
         "yaxis": "y"
        },
        {
         "legendgroup": "Simplified",
         "line": {
          "color": "#0077e4"
         },
         "mode": "lines",
         "name": "Simplified",
         "showlegend": true,
         "type": "scatter",
         "visible": false,
         "x": {
          "bdata": "wAfBB8IHwwfEB8UHxgfIB8kHygfLB8wHzgfQBw==",
          "dtype": "i2"
         },
         "xaxis": "x",
         "y": {
          "bdata": "eADcMh44NEIjKNIEbADUAMsBjgIfAN0BHgCLAA==",
          "dtype": "i2"
         },
         "yaxis": "y"
        },
        {
         "legendgroup": "Standard",
         "line": {
          "color": "#0066c8"
         },
         "mode": "lines",
         "name": "Standard",
         "showlegend": true,
         "type": "scatter",
         "visible": false,
         "x": {
          "bdata": "rwewB7EHsgezB7QHtQe2B7cHuAe5B7oHuwe9B78HwAfCBw==",
          "dtype": "i2"
         },
         "xaxis": "x",
         "y": {
          "bdata": "RhWYBGQbXQ92EzAAgAp5BQMJ7AogCyoOhQeaAk0HXgA3AA==",
          "dtype": "i2"
         },
         "yaxis": "y"
        },
        {
         "legendgroup": "Terrace",
         "line": {
          "color": "#0055ad"
         },
         "mode": "lines",
         "name": "Terrace",
         "showlegend": true,
         "type": "scatter",
         "visible": false,
         "x": {
          "bdata": "sAe0Bw==",
          "dtype": "i2"
         },
         "xaxis": "x",
         "y": {
          "bdata": "nAAhAg==",
          "dtype": "i2"
         },
         "yaxis": "y"
        },
        {
         "legendgroup": "Type S1",
         "line": {
          "color": "#004491"
         },
         "mode": "lines",
         "name": "Type S1",
         "showlegend": true,
         "type": "scatter",
         "visible": false,
         "x": {
          "bdata": "2wc=",
          "dtype": "i2"
         },
         "xaxis": "x",
         "y": {
          "bdata": "wwE=",
          "dtype": "i2"
         },
         "yaxis": "y"
        },
        {
         "legendgroup": "Type S2",
         "line": {
          "color": "#003376"
         },
         "mode": "lines",
         "name": "Type S2",
         "showlegend": true,
         "type": "scatter",
         "visible": false,
         "x": {
          "bdata": "2wc=",
          "dtype": "i2"
         },
         "xaxis": "x",
         "y": {
          "bdata": "4wA=",
          "dtype": "i2"
         },
         "yaxis": "y"
        },
        {
         "legendgroup": "All",
         "line": {
          "color": "gray"
         },
         "mode": "lines",
         "name": "All",
         "showlegend": true,
         "type": "scatter",
         "visible": false,
         "x": {
          "bdata": "rgevB7AHsQeyB7MHtAe1B7YHtwe4B7kHuge7B7wHvQe+B78HwAfBB8IHwwfEB8UHxgfHB8gHyQfKB8sHzAfNB84HzwfQB9EH0gfTB9QH1QfWB9cH2AfZB9oH2wfcB90H3gffB+AH4QfiB+MH5AflBw==",
          "dtype": "i2"
         },
         "xaxis": "x2",
         "y": {
          "bdata": "IgAAAG0YAABdBwAA7yAAACAtAAD4HgAAChcAAO8hAACCOQAAnUQAAA1VAACxUQAAyqIAABB6AAAyfgAAjFIAAJA0AAD+WgAAL/oAAH5YAQBBmAAA8KgAAA7IAAAmfwAAnyQAAPEEAADaTwAASm8AAOYZAAACSwAA6m4AAH56AADjZQAAHVMAAC9JAAC9TQAAQDIAAPc+AAC/IQAALRAAANMMAAD/AwAAtggAAEIHAACLBQAA2woAAFUUAACvFgAAlw8AAAEqAABFGgAAohYAANsYAAAVCwAAQQQAAAYAAAA=",
          "dtype": "i4"
         },
         "yaxis": "y2"
        },
        {
         "legendgroup": "2-Room",
         "marker": {
          "color": "#ff4500"
         },
         "name": "2-Room",
         "showlegend": true,
         "type": "bar",
         "visible": false,
         "x": {
          "bdata": "rwewB7EHsgezB7oHwgfKB9AH3QfeB98H4AfhB+IH4wfkB+UH",
          "dtype": "i2"
         },
         "xaxis": "x",
         "y": {
          "bdata": "AwEFAgMBAhkBBRAQBgQpHB8E",
          "dtype": "i1"
         },
         "yaxis": "y"
        },
        {
         "legendgroup": "3Gen",
         "marker": {
          "color": "#fe5817"
         },
         "name": "3Gen",
         "showlegend": true,
         "type": "bar",
         "visible": false,
         "x": {
          "bdata": "4gfjB+QH",
          "dtype": "i2"
         },
         "xaxis": "x",
         "y": {
          "bdata": "KAUC",
          "dtype": "i1"
         },
         "yaxis": "y"
        },
        {
         "legendgroup": "Adjoined Flat",
         "marker": {
          "color": "#fd6a2e"
         },
         "name": "Adjoined Flat",
         "showlegend": true,
         "type": "bar",
         "visible": false,
         "x": {
          "bdata": "rwewB7EHsgezB7QHtQe2B7cHuAe5B7oHuwe8B70Hvge/B8AHwQfCB8MHxAfFBw==",
          "dtype": "i2"
         },
         "xaxis": "x",
         "y": {
          "bdata": "GgACAEQALAAjACEAKwBFAFoAUwBQAHsAWwCDAF4AGwArAE0APgAdAA4ABgACAA==",
          "dtype": "i2"
         },
         "yaxis": "y"
        },
        {
         "legendgroup": "Apartment",
         "marker": {
          "color": "#fc7d44"
         },
         "name": "Apartment",
         "showlegend": true,
         "type": "bar",
         "visible": false,
         "x": {
          "bdata": "wAfBB8IHwwfEB8UHxgfIB8kHygfLB8wHzQfOB88H0AfRB9IH0wc=",
          "dtype": "i2"
         },
         "xaxis": "x",
         "y": {
          "bdata": "qwJcBJcDpwTUBcQBXAD2CpsbnghKF60MqQffBksGOQSLBjoCKAA=",
          "dtype": "i2"
         },
         "yaxis": "y"
        },
        {
         "legendgroup": "Dbss",
         "marker": {
          "color": "#fb8f5b"
         },
         "name": "Dbss",
         "showlegend": true,
         "type": "bar",
         "visible": false,
         "x": {
          "bdata": "2AfbB9wH3QfeB98H",
          "dtype": "i2"
         },
         "xaxis": "x",
         "y": {
          "bdata": "TQH8A/cBJQGeBIkA",
          "dtype": "i2"
         },
         "yaxis": "y"
        },
        {
         "legendgroup": "Improved",
         "marker": {
          "color": "#faa272"
         },
         "name": "Improved",
         "showlegend": true,
         "type": "bar",
         "visible": false,
         "x": {
          "bdata": "rgevB7AHsQeyB7MHtAe1B7YHtwe4B7kHuge7B7wHvQe+B78HwAfBB8IHwwfEB8UHxgfHB8gHyQfKB8sHzAfNB84HzwfQB9EH0gfTB9QH1QfWB9cH2AfZB9oH2wfcB90H3gffB+AH4QfiB+MH5Ac=",
          "dtype": "i2"
         },
         "xaxis": "x",
         "y": {
          "bdata": "IgAKAyYCQgWVHVwLmBREF8QzQDvPPEMi2xoKDgwS+BBzEpcMGQtELZcibCLPK0ogMgceAMQMTiNFBRURqCOpKkIfdRzTFXUdphQ4FXgH7QLCAhgAXgA1ADoAHQCgACwBgQCGB0AERgRvBHgBXgA=",
          "dtype": "i2"
         },
         "yaxis": "y"
        },
        {
         "legendgroup": "Improved-Maisonette",
         "marker": {
          "color": "#fbad80"
         },
         "name": "Improved-Maisonette",
         "showlegend": true,
         "type": "bar",
         "visible": false,
         "x": {
          "bdata": "vwfNBw==",
          "dtype": "i2"
         },
         "xaxis": "x",
         "y": {
          "bdata": "fwE=",
          "dtype": "i1"
         },
         "yaxis": "y"
        },
        {
         "legendgroup": "Maisonette",
         "marker": {
          "color": "#fcb88e"
         },
         "name": "Maisonette",
         "showlegend": true,
         "type": "bar",
         "visible": false,
         "x": {
          "bdata": "wAfBB8IHwwfEB8UHxgfHB8gHyQfKB8sHzAfNB84HzwfQBw==",
          "dtype": "i2"
         },
         "xaxis": "x",
         "y": {
          "bdata": "zgpIFOsOdQq4Ed0MigKCAVILMQAIACMCMAT/AoICmQIyAA==",
          "dtype": "i2"
         },
         "yaxis": "y"
        },
        {
         "legendgroup": "Model A",
         "marker": {
          "color": "#fdc49d"
         },
         "name": "Model A",
         "showlegend": true,
         "type": "bar",
         "visible": false,
         "x": {
          "bdata": "uge+B78HwAfBB8IHwwfEB8UHxgfHB8gHyQfKB8sHzAfNB84HzwfQB9EH0gfTB9QH1QfWB9cH2AfZB9oH2wfcB90H3gffB+AH4QfiB+MH5AflBw==",
          "dtype": "i2"
         },
         "xaxis": "x",
         "y": {
          "bdata": "IwAAAAsIAABKHwAA6pEAAEhdAAB3GAAALyoAAGpWAAAVSgAAlRkAAFEDAAAEKwAAqy0AACoJAAA2HwAA4TUAAPs4AABqJwAARBoAAL0PAAAzFAAAxQ8AALgOAACcBwAA/wUAAHUGAABFAQAAOQIAAOcCAACkAwAAawMAAKoNAADYCwAAHwkAAHEcAABsCwAA5wsAANIRAAASCQAANAMAAAIAAAA=",
          "dtype": "i4"
         },
         "yaxis": "y"
        },
        {
         "legendgroup": "Model A-Maisonette",
         "marker": {
          "color": "#fecfab"
         },
         "name": "Model A-Maisonette",
         "showlegend": true,
         "type": "bar",
         "visible": false,
         "x": {
          "bdata": "vwfAB8EH",
          "dtype": "i2"
         },
         "xaxis": "x",
         "y": {
          "bdata": "PAEsBs4A",
          "dtype": "i2"
         },
         "yaxis": "y"
        },
        {
         "legendgroup": "Model A2",
         "marker": {
          "color": "#ffdab9"
         },
         "name": "Model A2",
         "showlegend": true,
         "type": "bar",
         "visible": false,
         "x": {
          "bdata": "zQfOB88H0AfRB9IH0wfUBw==",
          "dtype": "i2"
         },
         "xaxis": "x",
         "y": {
          "bdata": "MQlECnIE6gbWAtUD/wG9AA==",
          "dtype": "i2"
         },
         "yaxis": "y"
        },
        {
         "legendgroup": "Multi Generation",
         "marker": {
          "color": "#cccac7"
         },
         "name": "Multi Generation",
         "showlegend": true,
         "type": "bar",
         "visible": false,
         "x": {
          "bdata": "wwfEBw==",
          "dtype": "i2"
         },
         "xaxis": "x",
         "y": {
          "bdata": "/gEjAA==",
          "dtype": "i2"
         },
         "yaxis": "y"
        },
        {
         "legendgroup": "New Generation",
         "marker": {
          "color": "#99b9d5"
         },
         "name": "New Generation",
         "showlegend": true,
         "type": "bar",
         "visible": false,
         "x": {
          "bdata": "uAe5B7oHuwe8B70Hvge/B8AHwQfCB8MHxAfFB8YHyAfJB8oHywfOB88H",
          "dtype": "i2"
         },
         "xaxis": "x",
         "y": {
          "bdata": "/wwAAP4jAAAmeQAAJmQAAKNrAACcPgAA9xkAAOolAABkSAAAZoEAAD0SAAD5CAAA/QUAAFIBAACGAAAA9gAAALoAAAAqAAAAKwEAADoAAAABAAAA",
          "dtype": "i4"
         },
         "yaxis": "y"
        },
        {
         "legendgroup": "Premium Apartment",
         "marker": {
          "color": "#66a9e3"
         },
         "name": "Premium Apartment",
         "showlegend": true,
         "type": "bar",
         "visible": false,
         "x": {
          "bdata": "zAfNB84HzwfQB9EH0gfTB9QH1QfWB9cH2AfZB9oH2wfcB90H3gffB+AH4QfiB+MH5Ac=",
          "dtype": "i2"
         },
         "xaxis": "x",
         "y": {
          "bdata": "pwLMAhcLDQ++F7QSxgfgGO4RQQecA6IC0gQmBK0BsQALBHQISQFxBTcKcQZJAmoAjgA=",
          "dtype": "i2"
         },
         "yaxis": "y"
        },
        {
         "legendgroup": "Premium Apartment Loft",
         "marker": {
          "color": "#3398f1"
         },
         "name": "Premium Apartment Loft",
         "showlegend": true,
         "type": "bar",
         "visible": false,
         "x": {
          "bdata": "3AfdB+AH",
          "dtype": "i2"
         },
         "xaxis": "x",
         "y": {
          "bdata": "CQ1c",
          "dtype": "i1"
         },
         "yaxis": "y"
        },
        {
         "legendgroup": "Premium Maisonette",
         "marker": {
          "color": "#0088ff"
         },
         "name": "Premium Maisonette",
         "showlegend": true,
         "type": "bar",
         "visible": false,
         "x": {
          "bdata": "zQfOBw==",
          "dtype": "i2"
         },
         "xaxis": "x",
         "y": {
          "bdata": "NCM=",
          "dtype": "i1"
         },
         "yaxis": "y"
        },
        {
         "legendgroup": "Simplified",
         "marker": {
          "color": "#0077e4"
         },
         "name": "Simplified",
         "showlegend": true,
         "type": "bar",
         "visible": false,
         "x": {
          "bdata": "wAfBB8IHwwfEB8UHxgfIB8kHygfLB8wHzgfQBw==",
          "dtype": "i2"
         },
         "xaxis": "x",
         "y": {
          "bdata": "eADcMh44NEIjKNIEbADUAMsBjgIfAN0BHgCLAA==",
          "dtype": "i2"
         },
         "yaxis": "y"
        },
        {
         "legendgroup": "Standard",
         "marker": {
          "color": "#0066c8"
         },
         "name": "Standard",
         "showlegend": true,
         "type": "bar",
         "visible": false,
         "x": {
          "bdata": "rwewB7EHsgezB7QHtQe2B7cHuAe5B7oHuwe9B78HwAfCBw==",
          "dtype": "i2"
         },
         "xaxis": "x",
         "y": {
          "bdata": "RhWYBGQbXQ92EzAAgAp5BQMJ7AogCyoOhQeaAk0HXgA3AA==",
          "dtype": "i2"
         },
         "yaxis": "y"
        },
        {
         "legendgroup": "Terrace",
         "marker": {
          "color": "#0055ad"
         },
         "name": "Terrace",
         "showlegend": true,
         "type": "bar",
         "visible": false,
         "x": {
          "bdata": "sAe0Bw==",
          "dtype": "i2"
         },
         "xaxis": "x",
         "y": {
          "bdata": "nAAhAg==",
          "dtype": "i2"
         },
         "yaxis": "y"
        },
        {
         "legendgroup": "Type S1",
         "marker": {
          "color": "#004491"
         },
         "name": "Type S1",
         "showlegend": true,
         "type": "bar",
         "visible": false,
         "x": {
          "bdata": "2wc=",
          "dtype": "i2"
         },
         "xaxis": "x",
         "y": {
          "bdata": "wwE=",
          "dtype": "i2"
         },
         "yaxis": "y"
        },
        {
         "legendgroup": "Type S2",
         "marker": {
          "color": "#003376"
         },
         "name": "Type S2",
         "showlegend": true,
         "type": "bar",
         "visible": false,
         "x": {
          "bdata": "2wc=",
          "dtype": "i2"
         },
         "xaxis": "x",
         "y": {
          "bdata": "4wA=",
          "dtype": "i2"
         },
         "yaxis": "y"
        },
        {
         "legendgroup": "All",
         "marker": {
          "color": "gray"
         },
         "name": "All",
         "showlegend": true,
         "type": "bar",
         "visible": false,
         "x": {
          "bdata": "rgevB7AHsQeyB7MHtAe1B7YHtwe4B7kHuge7B7wHvQe+B78HwAfBB8IHwwfEB8UHxgfHB8gHyQfKB8sHzAfNB84HzwfQB9EH0gfTB9QH1QfWB9cH2AfZB9oH2wfcB90H3gffB+AH4QfiB+MH5AflBw==",
          "dtype": "i2"
         },
         "xaxis": "x2",
         "y": {
          "bdata": "IgAAAG0YAABdBwAA7yAAACAtAAD4HgAAChcAAO8hAACCOQAAnUQAAA1VAACxUQAAyqIAABB6AAAyfgAAjFIAAJA0AAD+WgAAL/oAAH5YAQBBmAAA8KgAAA7IAAAmfwAAnyQAAPEEAADaTwAASm8AAOYZAAACSwAA6m4AAH56AADjZQAAHVMAAC9JAAC9TQAAQDIAAPc+AAC/IQAALRAAANMMAAD/AwAAtggAAEIHAACLBQAA2woAAFUUAACvFgAAlw8AAAEqAABFGgAAohYAANsYAAAVCwAAQQQAAAYAAAA=",
          "dtype": "i4"
         },
         "yaxis": "y2"
        },
        {
         "legendgroup": "2-Room",
         "line": {
          "color": "#ff4500"
         },
         "mode": "lines",
         "name": "2-Room",
         "showlegend": true,
         "type": "scatter",
         "visible": false,
         "x": {
          "bdata": "AwQFBgcICQoLDQ4PEBEUFRYXGBobHB0eICwz",
          "dtype": "i1"
         },
         "xaxis": "x",
         "y": {
          "bdata": "BDIkHwwOCgcCAQEDAgIBAQMBAwICAQEBAQEB",
          "dtype": "i1"
         },
         "yaxis": "y"
        },
        {
         "legendgroup": "3Gen",
         "line": {
          "color": "#fe5817"
         },
         "mode": "lines",
         "name": "3Gen",
         "showlegend": true,
         "type": "scatter",
         "visible": false,
         "x": {
          "bdata": "BAUG",
          "dtype": "i1"
         },
         "xaxis": "x",
         "y": {
          "bdata": "CRYQ",
          "dtype": "i1"
         },
         "yaxis": "y"
        },
        {
         "legendgroup": "Adjoined Flat",
         "line": {
          "color": "#fd6a2e"
         },
         "mode": "lines",
         "name": "Adjoined Flat",
         "showlegend": true,
         "type": "scatter",
         "visible": false,
         "x": {
          "bdata": "DQ4PEBESExQVFhcYGRobHB0eHyAhIiMkJSYnKCkqKywtLi8wMTIzNDU2ODk=",
          "dtype": "i1"
         },
         "xaxis": "x",
         "y": {
          "bdata": "AQYHBw0OGRkeKCE0LyYwOTkpKzw6KTM2JDMpLR4kLxMXEw8QDwgFBgUFAQE=",
          "dtype": "i1"
         },
         "yaxis": "y"
        },
        {
         "legendgroup": "Apartment",
         "line": {
          "color": "#fc7d44"
         },
         "mode": "lines",
         "name": "Apartment",
         "showlegend": true,
         "type": "scatter",
         "visible": false,
         "x": {
          "bdata": "AAECAwQFBgcICQoLDA0ODxAREhMUFRYXGBkaGxwdHh8gISIjJCUmJyg=",
          "dtype": "i1"
         },
         "xaxis": "x",
         "y": {
          "bdata": "JQA0AC0AnwJLDQwQYQqaBj8GHgbLBecFYgX6BLIEgATlAzAEmAMmAysDEgMPA3YDqgLYAogCQwI+AuABMAEdAZcAdQCAAGEAXwBUAC4AHAANAA==",
          "dtype": "i2"
         },
         "yaxis": "y"
        },
        {
         "legendgroup": "Dbss",
         "line": {
          "color": "#fb8f5b"
         },
         "mode": "lines",
         "name": "Dbss",
         "showlegend": true,
         "type": "scatter",
         "visible": false,
         "x": {
          "bdata": "BQYHCAkKCwwNDg8Q",
          "dtype": "i1"
         },
         "xaxis": "x",
         "y": {
          "bdata": "LgFYA8cCwQF4AT4BngCDAGQAGAARABoA",
          "dtype": "i2"
         },
         "yaxis": "y"
        },
        {
         "legendgroup": "Improved",
         "line": {
          "color": "#faa272"
         },
         "mode": "lines",
         "name": "Improved",
         "showlegend": true,
         "type": "scatter",
         "visible": false,
         "x": {
          "bdata": "AAECAwQFBgcICQoLDA0ODxAREhMUFRYXGBkaGxwdHh8gISIjJCUmJygpKissLS4vMDEyMzQ1Njc4OTo=",
          "dtype": "i1"
         },
         "xaxis": "x",
         "y": {
          "bdata": "GAAxAGkAJgcvL9Qy4CPKHlAdkh0HHdoblxnBGvwanxkKG50b6xvfHPYd6x1nHd8csxpkGBoXyRWpFNcSMxE3EB0PPQ+yDpcNVAxgCsEJtgi6BxYHugZIBiYGrQWOBScFpARwA5UCsAFzAd4AsgAjABsAGQACAA==",
          "dtype": "i2"
         },
         "yaxis": "y"
        },
        {
         "legendgroup": "Improved-Maisonette",
         "line": {
          "color": "#fbad80"
         },
         "mode": "lines",
         "name": "Improved-Maisonette",
         "showlegend": true,
         "type": "scatter",
         "visible": false,
         "x": {
          "bdata": "BAgJCgsMDQ4PEBESExQVFhcYGRobHB0eHyEiIyQlJicoKQ==",
          "dtype": "i1"
         },
         "xaxis": "x",
         "y": {
          "bdata": "AQgEAwQFAwUDCQQEBQECAwgEBgEEAwIDAQQFBgICAwIFAw==",
          "dtype": "i1"
         },
         "yaxis": "y"
        },
        {
         "legendgroup": "Maisonette",
         "line": {
          "color": "#fcb88e"
         },
         "mode": "lines",
         "name": "Maisonette",
         "showlegend": true,
         "type": "scatter",
         "visible": false,
         "x": {
          "bdata": "AAECAwQFBgcICQoLDA0ODxAREhMUFRYXGBkaGxwdHh8gISIjJCUmJyg=",
          "dtype": "i1"
         },
         "xaxis": "x",
         "y": {
          "bdata": "BAAFABAAyQCxA1oHzwa/BYIFKQadBioF8gTrBH8ENAPOAr0CqgJuAqwCEQOEAtECogKoAmkCCQLoAdcB+QHYARsCOAINAs4BswErAfIAlwAuAA==",
          "dtype": "i2"
         },
         "yaxis": "y"
        },
        {
         "legendgroup": "Model A",
         "line": {
          "color": "#fdc49d"
         },
         "mode": "lines",
         "name": "Model A",
         "showlegend": true,
         "type": "scatter",
         "visible": false,
         "x": {
          "bdata": "AAECAwQFBgcICQoLDA0ODxAREhMUFRYXGBkaGxwdHh8gISIjJCUmJygpKissLS4=",
          "dtype": "i1"
         },
         "xaxis": "x",
         "y": {
          "bdata": "GwBZABUBRRLBXl9XsD4SM5IwmzNmMuMv9yyyK9Qq+yV3ID0elBpTGOwXDhedFYQTBxIdEjoRZQ74DLQKIQoBCvgIcQhwCDMIHAejBecEUwT+ArAAGQACAAIABQAEAA==",
          "dtype": "i2"
         },
         "yaxis": "y"
        },
        {
         "legendgroup": "Model A-Maisonette",
         "line": {
          "color": "#fecfab"
         },
         "mode": "lines",
         "name": "Model A-Maisonette",
         "showlegend": true,
         "type": "scatter",
         "visible": false,
         "x": {
          "bdata": "BQYHCAkKCwwNDg8QERITFBUWFxgZGhscHR4fICEiIyQlJicoKQ==",
          "dtype": "i1"
         },
         "xaxis": "x",
         "y": {
          "bdata": "DgApAC8ASwBfAFcAcgBgAG0AlACMAEkALwAoAC8AJAAuADIAOQBEADkAPgAzACMAGgARACAAJgAjACQAKgAnADUAOQAsACwABAA=",
          "dtype": "i2"
         },
         "yaxis": "y"
        },
        {
         "legendgroup": "Model A2",
         "line": {
          "color": "#ffdab9"
         },
         "mode": "lines",
         "name": "Model A2",
         "showlegend": true,
         "type": "scatter",
         "visible": false,
         "x": {
          "bdata": "AgMEBQYHCAkKCwwNDg8QERITFBUWFxgZGhs=",
          "dtype": "i1"
         },
         "xaxis": "x",
         "y": {
          "bdata": "BgDTAMcFDwWnAkUCEgLpAfkB0gHbAYcBSAErAQkB/gAHAfcAKAEBAfIAyADYAJYAgAAsAA==",
          "dtype": "i2"
         },
         "yaxis": "y"
        },
        {
         "legendgroup": "Multi Generation",
         "line": {
          "color": "#cccac7"
         },
         "mode": "lines",
         "name": "Multi Generation",
         "showlegend": true,
         "type": "scatter",
         "visible": false,
         "x": {
          "bdata": "BAUGBwgJCgsMDQ4PEBESExQVFhcYGRobHB0eHyAhIiMkJQ==",
          "dtype": "i1"
         },
         "xaxis": "x",
         "y": {
          "bdata": "BRcxIxswIh8bGhEHDA0EDhYOCQsLDAcCAgMFDw0IEwsDBg==",
          "dtype": "i1"
         },
         "yaxis": "y"
        },
        {
         "legendgroup": "New Generation",
         "line": {
          "color": "#99b9d5"
         },
         "mode": "lines",
         "name": "New Generation",
         "showlegend": true,
         "type": "scatter",
         "visible": false,
         "x": {
          "bdata": "AAECAwQFBgcICQoLDA0ODxAREhMUFRYXGBkaGxwdHh8gISIjJCUmJygpKissLS4vMA==",
          "dtype": "i1"
         },
         "xaxis": "x",
         "y": {
          "bdata": "AQACAAEANgDjAIsDtgVyBtIHVwsqEMgU7RixHl8iryD/IOYfnyK5InoiXCA4G2sYIhd0FnQUWxPBEdcQlBA3EPUOcw1tDKUL+AuQC6YL2AoXCfoHYwf8BuAFPgSDAqYAMgA=",
          "dtype": "i2"
         },
         "yaxis": "y"
        },
        {
         "legendgroup": "Premium Apartment",
         "line": {
          "color": "#66a9e3"
         },
         "mode": "lines",
         "name": "Premium Apartment",
         "showlegend": true,
         "type": "scatter",
         "visible": false,
         "x": {
          "bdata": "AAECAwQFBgcICQoLDA0ODxAREhMUFRYXGBkaGxw=",
          "dtype": "i1"
         },
         "xaxis": "x",
         "y": {
          "bdata": "BwANAFAAmAUqHbEXDhFdDTEL6glRCVQI2AYFBhAGdQU+BVYFFgWTBE0EogNtAmwCoQH5AGUAHwANAA==",
          "dtype": "i2"
         },
         "yaxis": "y"
        },
        {
         "legendgroup": "Premium Apartment Loft",
         "line": {
          "color": "#3398f1"
         },
         "mode": "lines",
         "name": "Premium Apartment Loft",
         "showlegend": true,
         "type": "scatter",
         "visible": false,
         "x": {
          "bdata": "AwQFBgcICQoL",
          "dtype": "i1"
         },
         "xaxis": "x",
         "y": {
          "bdata": "AxspEQoIAwID",
          "dtype": "i1"
         },
         "yaxis": "y"
        },
        {
         "legendgroup": "Premium Maisonette",
         "line": {
          "color": "#0088ff"
         },
         "mode": "lines",
         "name": "Premium Maisonette",
         "showlegend": true,
         "type": "scatter",
         "visible": false,
         "x": {
          "bdata": "AwQFBgcICQoLDA4PERMUFRYXGRs=",
          "dtype": "i1"
         },
         "xaxis": "x",
         "y": {
          "bdata": "CxAHAwMHAQUFBgIDAgICAQMEAwE=",
          "dtype": "i1"
         },
         "yaxis": "y"
        },
        {
         "legendgroup": "Simplified",
         "line": {
          "color": "#0077e4"
         },
         "mode": "lines",
         "name": "Simplified",
         "showlegend": true,
         "type": "scatter",
         "visible": false,
         "x": {
          "bdata": "AQIDBAUGBwgJCgsMDQ4PEBESExQVFhcYGRobHB0eHyAhIiMkJSYnKA==",
          "dtype": "i1"
         },
         "xaxis": "x",
         "y": {
          "bdata": "AQADAFYA2gFpBo8GlweZCbwK5gziDYUOXw20Cv0IUgimB8oGIgb1BZ4FTwY3BvcFaAUxBPUDjwO4A6EDhwNBAzUDlQOBA40D3gKyAckAAQA=",
          "dtype": "i2"
         },
         "yaxis": "y"
        },
        {
         "legendgroup": "Standard",
         "line": {
          "color": "#0066c8"
         },
         "mode": "lines",
         "name": "Standard",
         "showlegend": true,
         "type": "scatter",
         "visible": false,
         "x": {
          "bdata": "BgcICQoLDA0ODxAREhMUFRYXGBkaGxwdHh8gISIjJCUmJygpKissLS4vMDEyMzQ1Njc4OQ==",
          "dtype": "i1"
         },
         "xaxis": "x",
         "y": {
          "bdata": "AwBAADUARQBqAL0ADgF3AdoBjAK8AhEDiANQBNgElgVpBTkG0AVoBooFSAbtBU0GCwbUBYQFKgUuBawEagSaBCAEQQT6A+UDowOoA9QCcwJoAi8C0QGcAZsBZQFkAWgBFAHQAGUAWgA=",
          "dtype": "i2"
         },
         "yaxis": "y"
        },
        {
         "legendgroup": "Terrace",
         "line": {
          "color": "#0055ad"
         },
         "mode": "lines",
         "name": "Terrace",
         "showlegend": true,
         "type": "scatter",
         "visible": false,
         "x": {
          "bdata": "EhMUFRYXGBkaGxwdHh8gISIjJCUmJygpKissLS4vMDEyMzQ1Njc=",
          "dtype": "i1"
         },
         "xaxis": "x",
         "y": {
          "bdata": "DA4PERgWIxsaHRYZGQ4bDhYfDyUjExMTDgwMDQwQEBEMBhAFAwI=",
          "dtype": "i1"
         },
         "yaxis": "y"
        },
        {
         "legendgroup": "Type S1",
         "line": {
          "color": "#004491"
         },
         "mode": "lines",
         "name": "Type S1",
         "showlegend": true,
         "type": "scatter",
         "visible": false,
         "x": {
          "bdata": "AwQFBgcICQoLDA0=",
          "dtype": "i1"
         },
         "xaxis": "x",
         "y": {
          "bdata": "AVovKSclGEgqJRU=",
          "dtype": "i1"
         },
         "yaxis": "y"
        },
        {
         "legendgroup": "Type S2",
         "line": {
          "color": "#003376"
         },
         "mode": "lines",
         "name": "Type S2",
         "showlegend": true,
         "type": "scatter",
         "visible": false,
         "x": {
          "bdata": "BAUGBwgJCgsMDQ==",
          "dtype": "i1"
         },
         "xaxis": "x",
         "y": {
          "bdata": "IhUXGBASKhcLDw==",
          "dtype": "i1"
         },
         "yaxis": "y"
        },
        {
         "legendgroup": "All",
         "line": {
          "color": "gray"
         },
         "mode": "lines",
         "name": "All",
         "showlegend": true,
         "type": "scatter",
         "visible": false,
         "x": {
          "bdata": "AAECAwQFBgcICQoLDA0ODxAREhMUFRYXGBkaGxwdHh8gISIjJCUmJygpKissLS4vMDEyMzQ1Njc4OTo=",
          "dtype": "i1"
         },
         "xaxis": "x2",
         "y": {
          "bdata": "ZAAAANMAAAAVAgAA3SMAAILFAABOygAA8pcAAJF/AAAHewAA4oEAANOGAADZhQAAToMAAH+GAAARhgAA2noAAAl1AAAJcgAAGXAAAOZtAADbbgAAvmsAAGpjAABBXwAAFVgAAGxUAADhTAAA5kYAAIlBAACQPAAAGTkAACg3AAAMMwAApDAAAFovAABYLAAA4ikAABAlAADSIQAACB4AAHYYAADdEwAACxIAACkRAAD8DgAAhwwAAJwKAAAbCAAAxwYAACwFAABEBAAAIQMAAO0CAABQAgAAzgEAAPUAAACBAAAAdAAAAAIAAAA=",
          "dtype": "i4"
         },
         "yaxis": "y2"
        },
        {
         "legendgroup": "2-Room",
         "marker": {
          "color": "#ff4500"
         },
         "name": "2-Room",
         "showlegend": true,
         "type": "bar",
         "visible": false,
         "x": {
          "bdata": "AwQFBgcICQoLDQ4PEBEUFRYXGBobHB0eICwz",
          "dtype": "i1"
         },
         "xaxis": "x",
         "y": {
          "bdata": "BDIkHwwOCgcCAQEDAgIBAQMBAwICAQEBAQEB",
          "dtype": "i1"
         },
         "yaxis": "y"
        },
        {
         "legendgroup": "3Gen",
         "marker": {
          "color": "#fe5817"
         },
         "name": "3Gen",
         "showlegend": true,
         "type": "bar",
         "visible": false,
         "x": {
          "bdata": "BAUG",
          "dtype": "i1"
         },
         "xaxis": "x",
         "y": {
          "bdata": "CRYQ",
          "dtype": "i1"
         },
         "yaxis": "y"
        },
        {
         "legendgroup": "Adjoined Flat",
         "marker": {
          "color": "#fd6a2e"
         },
         "name": "Adjoined Flat",
         "showlegend": true,
         "type": "bar",
         "visible": false,
         "x": {
          "bdata": "DQ4PEBESExQVFhcYGRobHB0eHyAhIiMkJSYnKCkqKywtLi8wMTIzNDU2ODk=",
          "dtype": "i1"
         },
         "xaxis": "x",
         "y": {
          "bdata": "AQYHBw0OGRkeKCE0LyYwOTkpKzw6KTM2JDMpLR4kLxMXEw8QDwgFBgUFAQE=",
          "dtype": "i1"
         },
         "yaxis": "y"
        },
        {
         "legendgroup": "Apartment",
         "marker": {
          "color": "#fc7d44"
         },
         "name": "Apartment",
         "showlegend": true,
         "type": "bar",
         "visible": false,
         "x": {
          "bdata": "AAECAwQFBgcICQoLDA0ODxAREhMUFRYXGBkaGxwdHh8gISIjJCUmJyg=",
          "dtype": "i1"
         },
         "xaxis": "x",
         "y": {
          "bdata": "JQA0AC0AnwJLDQwQYQqaBj8GHgbLBecFYgX6BLIEgATlAzAEmAMmAysDEgMPA3YDqgLYAogCQwI+AuABMAEdAZcAdQCAAGEAXwBUAC4AHAANAA==",
          "dtype": "i2"
         },
         "yaxis": "y"
        },
        {
         "legendgroup": "Dbss",
         "marker": {
          "color": "#fb8f5b"
         },
         "name": "Dbss",
         "showlegend": true,
         "type": "bar",
         "visible": false,
         "x": {
          "bdata": "BQYHCAkKCwwNDg8Q",
          "dtype": "i1"
         },
         "xaxis": "x",
         "y": {
          "bdata": "LgFYA8cCwQF4AT4BngCDAGQAGAARABoA",
          "dtype": "i2"
         },
         "yaxis": "y"
        },
        {
         "legendgroup": "Improved",
         "marker": {
          "color": "#faa272"
         },
         "name": "Improved",
         "showlegend": true,
         "type": "bar",
         "visible": false,
         "x": {
          "bdata": "AAECAwQFBgcICQoLDA0ODxAREhMUFRYXGBkaGxwdHh8gISIjJCUmJygpKissLS4vMDEyMzQ1Njc4OTo=",
          "dtype": "i1"
         },
         "xaxis": "x",
         "y": {
          "bdata": "GAAxAGkAJgcvL9Qy4CPKHlAdkh0HHdoblxnBGvwanxkKG50b6xvfHPYd6x1nHd8csxpkGBoXyRWpFNcSMxE3EB0PPQ+yDpcNVAxgCsEJtgi6BxYHugZIBiYGrQWOBScFpARwA5UCsAFzAd4AsgAjABsAGQACAA==",
          "dtype": "i2"
         },
         "yaxis": "y"
        },
        {
         "legendgroup": "Improved-Maisonette",
         "marker": {
          "color": "#fbad80"
         },
         "name": "Improved-Maisonette",
         "showlegend": true,
         "type": "bar",
         "visible": false,
         "x": {
          "bdata": "BAgJCgsMDQ4PEBESExQVFhcYGRobHB0eHyEiIyQlJicoKQ==",
          "dtype": "i1"
         },
         "xaxis": "x",
         "y": {
          "bdata": "AQgEAwQFAwUDCQQEBQECAwgEBgEEAwIDAQQFBgICAwIFAw==",
          "dtype": "i1"
         },
         "yaxis": "y"
        },
        {
         "legendgroup": "Maisonette",
         "marker": {
          "color": "#fcb88e"
         },
         "name": "Maisonette",
         "showlegend": true,
         "type": "bar",
         "visible": false,
         "x": {
          "bdata": "AAECAwQFBgcICQoLDA0ODxAREhMUFRYXGBkaGxwdHh8gISIjJCUmJyg=",
          "dtype": "i1"
         },
         "xaxis": "x",
         "y": {
          "bdata": "BAAFABAAyQCxA1oHzwa/BYIFKQadBioF8gTrBH8ENAPOAr0CqgJuAqwCEQOEAtECogKoAmkCCQLoAdcB+QHYARsCOAINAs4BswErAfIAlwAuAA==",
          "dtype": "i2"
         },
         "yaxis": "y"
        },
        {
         "legendgroup": "Model A",
         "marker": {
          "color": "#fdc49d"
         },
         "name": "Model A",
         "showlegend": true,
         "type": "bar",
         "visible": false,
         "x": {
          "bdata": "AAECAwQFBgcICQoLDA0ODxAREhMUFRYXGBkaGxwdHh8gISIjJCUmJygpKissLS4=",
          "dtype": "i1"
         },
         "xaxis": "x",
         "y": {
          "bdata": "GwBZABUBRRLBXl9XsD4SM5IwmzNmMuMv9yyyK9Qq+yV3ID0elBpTGOwXDhedFYQTBxIdEjoRZQ74DLQKIQoBCvgIcQhwCDMIHAejBecEUwT+ArAAGQACAAIABQAEAA==",
          "dtype": "i2"
         },
         "yaxis": "y"
        },
        {
         "legendgroup": "Model A-Maisonette",
         "marker": {
          "color": "#fecfab"
         },
         "name": "Model A-Maisonette",
         "showlegend": true,
         "type": "bar",
         "visible": false,
         "x": {
          "bdata": "BQYHCAkKCwwNDg8QERITFBUWFxgZGhscHR4fICEiIyQlJicoKQ==",
          "dtype": "i1"
         },
         "xaxis": "x",
         "y": {
          "bdata": "DgApAC8ASwBfAFcAcgBgAG0AlACMAEkALwAoAC8AJAAuADIAOQBEADkAPgAzACMAGgARACAAJgAjACQAKgAnADUAOQAsACwABAA=",
          "dtype": "i2"
         },
         "yaxis": "y"
        },
        {
         "legendgroup": "Model A2",
         "marker": {
          "color": "#ffdab9"
         },
         "name": "Model A2",
         "showlegend": true,
         "type": "bar",
         "visible": false,
         "x": {
          "bdata": "AgMEBQYHCAkKCwwNDg8QERITFBUWFxgZGhs=",
          "dtype": "i1"
         },
         "xaxis": "x",
         "y": {
          "bdata": "BgDTAMcFDwWnAkUCEgLpAfkB0gHbAYcBSAErAQkB/gAHAfcAKAEBAfIAyADYAJYAgAAsAA==",
          "dtype": "i2"
         },
         "yaxis": "y"
        },
        {
         "legendgroup": "Multi Generation",
         "marker": {
          "color": "#cccac7"
         },
         "name": "Multi Generation",
         "showlegend": true,
         "type": "bar",
         "visible": false,
         "x": {
          "bdata": "BAUGBwgJCgsMDQ4PEBESExQVFhcYGRobHB0eHyAhIiMkJQ==",
          "dtype": "i1"
         },
         "xaxis": "x",
         "y": {
          "bdata": "BRcxIxswIh8bGhEHDA0EDhYOCQsLDAcCAgMFDw0IEwsDBg==",
          "dtype": "i1"
         },
         "yaxis": "y"
        },
        {
         "legendgroup": "New Generation",
         "marker": {
          "color": "#99b9d5"
         },
         "name": "New Generation",
         "showlegend": true,
         "type": "bar",
         "visible": false,
         "x": {
          "bdata": "AAECAwQFBgcICQoLDA0ODxAREhMUFRYXGBkaGxwdHh8gISIjJCUmJygpKissLS4vMA==",
          "dtype": "i1"
         },
         "xaxis": "x",
         "y": {
          "bdata": "AQACAAEANgDjAIsDtgVyBtIHVwsqEMgU7RixHl8iryD/IOYfnyK5InoiXCA4G2sYIhd0FnQUWxPBEdcQlBA3EPUOcw1tDKUL+AuQC6YL2AoXCfoHYwf8BuAFPgSDAqYAMgA=",
          "dtype": "i2"
         },
         "yaxis": "y"
        },
        {
         "legendgroup": "Premium Apartment",
         "marker": {
          "color": "#66a9e3"
         },
         "name": "Premium Apartment",
         "showlegend": true,
         "type": "bar",
         "visible": false,
         "x": {
          "bdata": "AAECAwQFBgcICQoLDA0ODxAREhMUFRYXGBkaGxw=",
          "dtype": "i1"
         },
         "xaxis": "x",
         "y": {
          "bdata": "BwANAFAAmAUqHbEXDhFdDTEL6glRCVQI2AYFBhAGdQU+BVYFFgWTBE0EogNtAmwCoQH5AGUAHwANAA==",
          "dtype": "i2"
         },
         "yaxis": "y"
        },
        {
         "legendgroup": "Premium Apartment Loft",
         "marker": {
          "color": "#3398f1"
         },
         "name": "Premium Apartment Loft",
         "showlegend": true,
         "type": "bar",
         "visible": false,
         "x": {
          "bdata": "AwQFBgcICQoL",
          "dtype": "i1"
         },
         "xaxis": "x",
         "y": {
          "bdata": "AxspEQoIAwID",
          "dtype": "i1"
         },
         "yaxis": "y"
        },
        {
         "legendgroup": "Premium Maisonette",
         "marker": {
          "color": "#0088ff"
         },
         "name": "Premium Maisonette",
         "showlegend": true,
         "type": "bar",
         "visible": false,
         "x": {
          "bdata": "AwQFBgcICQoLDA4PERMUFRYXGRs=",
          "dtype": "i1"
         },
         "xaxis": "x",
         "y": {
          "bdata": "CxAHAwMHAQUFBgIDAgICAQMEAwE=",
          "dtype": "i1"
         },
         "yaxis": "y"
        },
        {
         "legendgroup": "Simplified",
         "marker": {
          "color": "#0077e4"
         },
         "name": "Simplified",
         "showlegend": true,
         "type": "bar",
         "visible": false,
         "x": {
          "bdata": "AQIDBAUGBwgJCgsMDQ4PEBESExQVFhcYGRobHB0eHyAhIiMkJSYnKA==",
          "dtype": "i1"
         },
         "xaxis": "x",
         "y": {
          "bdata": "AQADAFYA2gFpBo8GlweZCbwK5gziDYUOXw20Cv0IUgimB8oGIgb1BZ4FTwY3BvcFaAUxBPUDjwO4A6EDhwNBAzUDlQOBA40D3gKyAckAAQA=",
          "dtype": "i2"
         },
         "yaxis": "y"
        },
        {
         "legendgroup": "Standard",
         "marker": {
          "color": "#0066c8"
         },
         "name": "Standard",
         "showlegend": true,
         "type": "bar",
         "visible": false,
         "x": {
          "bdata": "BgcICQoLDA0ODxAREhMUFRYXGBkaGxwdHh8gISIjJCUmJygpKissLS4vMDEyMzQ1Njc4OQ==",
          "dtype": "i1"
         },
         "xaxis": "x",
         "y": {
          "bdata": "AwBAADUARQBqAL0ADgF3AdoBjAK8AhEDiANQBNgElgVpBTkG0AVoBooFSAbtBU0GCwbUBYQFKgUuBawEagSaBCAEQQT6A+UDowOoA9QCcwJoAi8C0QGcAZsBZQFkAWgBFAHQAGUAWgA=",
          "dtype": "i2"
         },
         "yaxis": "y"
        },
        {
         "legendgroup": "Terrace",
         "marker": {
          "color": "#0055ad"
         },
         "name": "Terrace",
         "showlegend": true,
         "type": "bar",
         "visible": false,
         "x": {
          "bdata": "EhMUFRYXGBkaGxwdHh8gISIjJCUmJygpKissLS4vMDEyMzQ1Njc=",
          "dtype": "i1"
         },
         "xaxis": "x",
         "y": {
          "bdata": "DA4PERgWIxsaHRYZGQ4bDhYfDyUjExMTDgwMDQwQEBEMBhAFAwI=",
          "dtype": "i1"
         },
         "yaxis": "y"
        },
        {
         "legendgroup": "Type S1",
         "marker": {
          "color": "#004491"
         },
         "name": "Type S1",
         "showlegend": true,
         "type": "bar",
         "visible": false,
         "x": {
          "bdata": "AwQFBgcICQoLDA0=",
          "dtype": "i1"
         },
         "xaxis": "x",
         "y": {
          "bdata": "AVovKSclGEgqJRU=",
          "dtype": "i1"
         },
         "yaxis": "y"
        },
        {
         "legendgroup": "Type S2",
         "marker": {
          "color": "#003376"
         },
         "name": "Type S2",
         "showlegend": true,
         "type": "bar",
         "visible": false,
         "x": {
          "bdata": "BAUGBwgJCgsMDQ==",
          "dtype": "i1"
         },
         "xaxis": "x",
         "y": {
          "bdata": "IhUXGBASKhcLDw==",
          "dtype": "i1"
         },
         "yaxis": "y"
        },
        {
         "legendgroup": "All",
         "marker": {
          "color": "gray"
         },
         "name": "All",
         "showlegend": true,
         "type": "bar",
         "visible": false,
         "x": {
          "bdata": "AAECAwQFBgcICQoLDA0ODxAREhMUFRYXGBkaGxwdHh8gISIjJCUmJygpKissLS4vMDEyMzQ1Njc4OTo=",
          "dtype": "i1"
         },
         "xaxis": "x2",
         "y": {
          "bdata": "ZAAAANMAAAAVAgAA3SMAAILFAABOygAA8pcAAJF/AAAHewAA4oEAANOGAADZhQAAToMAAH+GAAARhgAA2noAAAl1AAAJcgAAGXAAAOZtAADbbgAAvmsAAGpjAABBXwAAFVgAAGxUAADhTAAA5kYAAIlBAACQPAAAGTkAACg3AAAMMwAApDAAAFovAABYLAAA4ikAABAlAADSIQAACB4AAHYYAADdEwAACxIAACkRAAD8DgAAhwwAAJwKAAAbCAAAxwYAACwFAABEBAAAIQMAAO0CAABQAgAAzgEAAPUAAACBAAAAdAAAAAIAAAA=",
          "dtype": "i4"
         },
         "yaxis": "y2"
        },
        {
         "legendgroup": "2-Room",
         "line": {
          "color": "#ff4500"
         },
         "mode": "lines",
         "name": "2-Room",
         "showlegend": true,
         "type": "scatter",
         "visible": false,
         "x": {
          "bdata": "AQIDBAUGBwgJCgsM",
          "dtype": "i1"
         },
         "xaxis": "x",
         "y": {
          "bdata": "Cw0LDAkZExIWEhcN",
          "dtype": "i1"
         },
         "yaxis": "y"
        },
        {
         "legendgroup": "3Gen",
         "line": {
          "color": "#fe5817"
         },
         "mode": "lines",
         "name": "3Gen",
         "showlegend": true,
         "type": "scatter",
         "visible": false,
         "x": {
          "bdata": "AgMFBgcICQoLDA==",
          "dtype": "i1"
         },
         "xaxis": "x",
         "y": {
          "bdata": "AwEHBQcECQQCBQ==",
          "dtype": "i1"
         },
         "yaxis": "y"
        },
        {
         "legendgroup": "Adjoined Flat",
         "line": {
          "color": "#fd6a2e"
         },
         "mode": "lines",
         "name": "Adjoined Flat",
         "showlegend": true,
         "type": "scatter",
         "visible": false,
         "x": {
          "bdata": "AQIDBAUGBwgJCgsM",
          "dtype": "i1"
         },
         "xaxis": "x",
         "y": {
          "bdata": "ZABZAGQAVgBiAHQAeQCKAIIAYABmAGAA",
          "dtype": "i2"
         },
         "yaxis": "y"
        },
        {
         "legendgroup": "Apartment",
         "line": {
          "color": "#fc7d44"
         },
         "mode": "lines",
         "name": "Apartment",
         "showlegend": true,
         "type": "scatter",
         "visible": false,
         "x": {
          "bdata": "AQIDBAUGBwgJCgsM",
          "dtype": "i1"
         },
         "xaxis": "x",
         "y": {
          "bdata": "rwo0Cb8LpQvzC5kMVA27DCMMjAx1C1IK",
          "dtype": "i2"
         },
         "yaxis": "y"
        },
        {
         "legendgroup": "Dbss",
         "line": {
          "color": "#fb8f5b"
         },
         "mode": "lines",
         "name": "Dbss",
         "showlegend": true,
         "type": "scatter",
         "visible": false,
         "x": {
          "bdata": "AQIDBAUGBwgJCgsM",
          "dtype": "i1"
         },
         "xaxis": "x",
         "y": {
          "bdata": "AAHyADsBHAEJASIBNgEpAU0BVAElAfMA",
          "dtype": "i2"
         },
         "yaxis": "y"
        },
        {
         "legendgroup": "Improved",
         "line": {
          "color": "#faa272"
         },
         "mode": "lines",
         "name": "Improved",
         "showlegend": true,
         "type": "scatter",
         "visible": false,
         "x": {
          "bdata": "AQIDBAUGBwgJCgsM",
          "dtype": "i1"
         },
         "xaxis": "x",
         "y": {
          "bdata": "9EwJQzVRKU55Th9RoFd2VINRiVXwUI9K",
          "dtype": "i2"
         },
         "yaxis": "y"
        },
        {
         "legendgroup": "Improved-Maisonette",
         "line": {
          "color": "#fbad80"
         },
         "mode": "lines",
         "name": "Improved-Maisonette",
         "showlegend": true,
         "type": "scatter",
         "visible": false,
         "x": {
          "bdata": "AQIDBAUGBwgJCgsM",
          "dtype": "i1"
         },
         "xaxis": "x",
         "y": {
          "bdata": "BwcJCAwNEBAIDAsJ",
          "dtype": "i1"
         },
         "yaxis": "y"
        },
        {
         "legendgroup": "Maisonette",
         "line": {
          "color": "#fcb88e"
         },
         "mode": "lines",
         "name": "Maisonette",
         "showlegend": true,
         "type": "scatter",
         "visible": false,
         "x": {
          "bdata": "AQIDBAUGBwgJCgsM",
          "dtype": "i1"
         },
         "xaxis": "x",
         "y": {
          "bdata": "AQl1CPgJWwkQCiQK5QpuCi4KYgqTCc4I",
          "dtype": "i2"
         },
         "yaxis": "y"
        },
        {
         "legendgroup": "Model A",
         "line": {
          "color": "#fdc49d"
         },
         "mode": "lines",
         "name": "Model A",
         "showlegend": true,
         "type": "scatter",
         "visible": false,
         "x": {
          "bdata": "AQIDBAUGBwgJCgsM",
          "dtype": "i1"
         },
         "xaxis": "x",
         "y": {
          "bdata": "xFUpS2Za2FWbVrpYwV7cW5pZWl5yWjtT",
          "dtype": "i2"
         },
         "yaxis": "y"
        },
        {
         "legendgroup": "Model A-Maisonette",
         "line": {
          "color": "#fecfab"
         },
         "mode": "lines",
         "name": "Model A-Maisonette",
         "showlegend": true,
         "type": "scatter",
         "visible": false,
         "x": {
          "bdata": "AQIDBAUGBwgJCgsM",
          "dtype": "i1"
         },
         "xaxis": "x",
         "y": {
          "bdata": "qACVAL4AlQCtAMYAsQC/AKEAtgDVAJcA",
          "dtype": "i2"
         },
         "yaxis": "y"
        },
        {
         "legendgroup": "Model A2",
         "line": {
          "color": "#ffdab9"
         },
         "mode": "lines",
         "name": "Model A2",
         "showlegend": true,
         "type": "scatter",
         "visible": false,
         "x": {
          "bdata": "AQIDBAUGBwgJCgsM",
          "dtype": "i1"
         },
         "xaxis": "x",
         "y": {
          "bdata": "VAPdAlADOwMLAzIDrgNkA9ADwAONAxAD",
          "dtype": "i2"
         },
         "yaxis": "y"
        },
        {
         "legendgroup": "Multi Generation",
         "line": {
          "color": "#cccac7"
         },
         "mode": "lines",
         "name": "Multi Generation",
         "showlegend": true,
         "type": "scatter",
         "visible": false,
         "x": {
          "bdata": "AQIDBAUGBwgJCgsM",
          "dtype": "i1"
         },
         "xaxis": "x",
         "y": {
          "bdata": "MC0qJis7Ni8tLi0h",
          "dtype": "i1"
         },
         "yaxis": "y"
        },
        {
         "legendgroup": "New Generation",
         "line": {
          "color": "#99b9d5"
         },
         "mode": "lines",
         "name": "New Generation",
         "showlegend": true,
         "type": "scatter",
         "visible": false,
         "x": {
          "bdata": "AQIDBAUGBwgJCgsM",
          "dtype": "i1"
         },
         "xaxis": "x",
         "y": {
          "bdata": "ST47NhlBFj1rPNo+iEGoPwg9kUEPP647",
          "dtype": "i2"
         },
         "yaxis": "y"
        },
        {
         "legendgroup": "Premium Apartment",
         "line": {
          "color": "#66a9e3"
         },
         "mode": "lines",
         "name": "Premium Apartment",
         "showlegend": true,
         "type": "scatter",
         "visible": false,
         "x": {
          "bdata": "AQIDBAUGBwgJCgsM",
          "dtype": "i1"
         },
         "xaxis": "x",
         "y": {
          "bdata": "Tw5ODO0PeA84D+8PIxJ0EeEQQRExEIEN",
          "dtype": "i2"
         },
         "yaxis": "y"
        },
        {
         "legendgroup": "Premium Apartment Loft",
         "line": {
          "color": "#3398f1"
         },
         "mode": "lines",
         "name": "Premium Apartment Loft",
         "showlegend": true,
         "type": "scatter",
         "visible": false,
         "x": {
          "bdata": "AQIDBAUGBwgJCgsM",
          "dtype": "i1"
         },
         "xaxis": "x",
         "y": {
          "bdata": "CAoPBwgODQgKBQYK",
          "dtype": "i1"
         },
         "yaxis": "y"
        },
        {
         "legendgroup": "Premium Maisonette",
         "line": {
          "color": "#0088ff"
         },
         "mode": "lines",
         "name": "Premium Maisonette",
         "showlegend": true,
         "type": "scatter",
         "visible": false,
         "x": {
          "bdata": "AQIDBAUGBwgJCgsM",
          "dtype": "i1"
         },
         "xaxis": "x",
         "y": {
          "bdata": "BQgHBgUFBwkPCQgD",
          "dtype": "i1"
         },
         "yaxis": "y"
        },
        {
         "legendgroup": "Simplified",
         "line": {
          "color": "#0077e4"
         },
         "mode": "lines",
         "name": "Simplified",
         "showlegend": true,
         "type": "scatter",
         "visible": false,
         "x": {
          "bdata": "AQIDBAUGBwgJCgsM",
          "dtype": "i1"
         },
         "xaxis": "x",
         "y": {
          "bdata": "oxKREJMTgRJlEskS4xOWE68SLRSlE2kS",
          "dtype": "i2"
         },
         "yaxis": "y"
        },
        {
         "legendgroup": "Standard",
         "line": {
          "color": "#0066c8"
         },
         "mode": "lines",
         "name": "Standard",
         "showlegend": true,
         "type": "scatter",
         "visible": false,
         "x": {
          "bdata": "AQIDBAUGBwgJCgsM",
          "dtype": "i1"
         },
         "xaxis": "x",
         "y": {
          "bdata": "eQ72C1YO1g1jDVoOTA+0Dq8NSQ7mDUIN",
          "dtype": "i2"
         },
         "yaxis": "y"
        },
        {
         "legendgroup": "Terrace",
         "line": {
          "color": "#0055ad"
         },
         "mode": "lines",
         "name": "Terrace",
         "showlegend": true,
         "type": "scatter",
         "visible": false,
         "x": {
          "bdata": "AQIDBAUGBwgJCgsM",
          "dtype": "i1"
         },
         "xaxis": "x",
         "y": {
          "bdata": "PC89MzVGODI9SEM1",
          "dtype": "i1"
         },
         "yaxis": "y"
        },
        {
         "legendgroup": "Type S1",
         "line": {
          "color": "#004491"
         },
         "mode": "lines",
         "name": "Type S1",
         "showlegend": true,
         "type": "scatter",
         "visible": false,
         "x": {
          "bdata": "AQIDBAUGBwgJCgsM",
          "dtype": "i1"
         },
         "xaxis": "x",
         "y": {
          "bdata": "ICgsJCkxIiYjIyUe",
          "dtype": "i1"
         },
         "yaxis": "y"
        },
        {
         "legendgroup": "Type S2",
         "line": {
          "color": "#003376"
         },
         "mode": "lines",
         "name": "Type S2",
         "showlegend": true,
         "type": "scatter",
         "visible": false,
         "x": {
          "bdata": "AQIDBAUGBwgJCgsM",
          "dtype": "i1"
         },
         "xaxis": "x",
         "y": {
          "bdata": "ExQZEg8NDCAXDxgL",
          "dtype": "i1"
         },
         "yaxis": "y"
        },
        {
         "legendgroup": "All",
         "line": {
          "color": "gray"
         },
         "mode": "lines",
         "name": "All",
         "showlegend": true,
         "type": "scatter",
         "visible": false,
         "x": {
          "bdata": "AQIDBAUGBwgJCgsM",
          "dtype": "i1"
         },
         "xaxis": "x2",
         "y": {
          "bdata": "OioBAGkEAQDFOgEA2CsBAGYsAQANNwEAXEwBAJVBAQDZNgEAG0cBAAE4AQBlHwEA",
          "dtype": "i4"
         },
         "yaxis": "y2"
        },
        {
         "legendgroup": "2-Room",
         "marker": {
          "color": "#ff4500"
         },
         "name": "2-Room",
         "showlegend": true,
         "type": "bar",
         "visible": false,
         "x": {
          "bdata": "AQIDBAUGBwgJCgsM",
          "dtype": "i1"
         },
         "xaxis": "x",
         "y": {
          "bdata": "Cw0LDAkZExIWEhcN",
          "dtype": "i1"
         },
         "yaxis": "y"
        },
        {
         "legendgroup": "3Gen",
         "marker": {
          "color": "#fe5817"
         },
         "name": "3Gen",
         "showlegend": true,
         "type": "bar",
         "visible": false,
         "x": {
          "bdata": "AgMFBgcICQoLDA==",
          "dtype": "i1"
         },
         "xaxis": "x",
         "y": {
          "bdata": "AwEHBQcECQQCBQ==",
          "dtype": "i1"
         },
         "yaxis": "y"
        },
        {
         "legendgroup": "Adjoined Flat",
         "marker": {
          "color": "#fd6a2e"
         },
         "name": "Adjoined Flat",
         "showlegend": true,
         "type": "bar",
         "visible": false,
         "x": {
          "bdata": "AQIDBAUGBwgJCgsM",
          "dtype": "i1"
         },
         "xaxis": "x",
         "y": {
          "bdata": "ZABZAGQAVgBiAHQAeQCKAIIAYABmAGAA",
          "dtype": "i2"
         },
         "yaxis": "y"
        },
        {
         "legendgroup": "Apartment",
         "marker": {
          "color": "#fc7d44"
         },
         "name": "Apartment",
         "showlegend": true,
         "type": "bar",
         "visible": false,
         "x": {
          "bdata": "AQIDBAUGBwgJCgsM",
          "dtype": "i1"
         },
         "xaxis": "x",
         "y": {
          "bdata": "rwo0Cb8LpQvzC5kMVA27DCMMjAx1C1IK",
          "dtype": "i2"
         },
         "yaxis": "y"
        },
        {
         "legendgroup": "Dbss",
         "marker": {
          "color": "#fb8f5b"
         },
         "name": "Dbss",
         "showlegend": true,
         "type": "bar",
         "visible": false,
         "x": {
          "bdata": "AQIDBAUGBwgJCgsM",
          "dtype": "i1"
         },
         "xaxis": "x",
         "y": {
          "bdata": "AAHyADsBHAEJASIBNgEpAU0BVAElAfMA",
          "dtype": "i2"
         },
         "yaxis": "y"
        },
        {
         "legendgroup": "Improved",
         "marker": {
          "color": "#faa272"
         },
         "name": "Improved",
         "showlegend": true,
         "type": "bar",
         "visible": false,
         "x": {
          "bdata": "AQIDBAUGBwgJCgsM",
          "dtype": "i1"
         },
         "xaxis": "x",
         "y": {
          "bdata": "9EwJQzVRKU55Th9RoFd2VINRiVXwUI9K",
          "dtype": "i2"
         },
         "yaxis": "y"
        },
        {
         "legendgroup": "Improved-Maisonette",
         "marker": {
          "color": "#fbad80"
         },
         "name": "Improved-Maisonette",
         "showlegend": true,
         "type": "bar",
         "visible": false,
         "x": {
          "bdata": "AQIDBAUGBwgJCgsM",
          "dtype": "i1"
         },
         "xaxis": "x",
         "y": {
          "bdata": "BwcJCAwNEBAIDAsJ",
          "dtype": "i1"
         },
         "yaxis": "y"
        },
        {
         "legendgroup": "Maisonette",
         "marker": {
          "color": "#fcb88e"
         },
         "name": "Maisonette",
         "showlegend": true,
         "type": "bar",
         "visible": false,
         "x": {
          "bdata": "AQIDBAUGBwgJCgsM",
          "dtype": "i1"
         },
         "xaxis": "x",
         "y": {
          "bdata": "AQl1CPgJWwkQCiQK5QpuCi4KYgqTCc4I",
          "dtype": "i2"
         },
         "yaxis": "y"
        },
        {
         "legendgroup": "Model A",
         "marker": {
          "color": "#fdc49d"
         },
         "name": "Model A",
         "showlegend": true,
         "type": "bar",
         "visible": false,
         "x": {
          "bdata": "AQIDBAUGBwgJCgsM",
          "dtype": "i1"
         },
         "xaxis": "x",
         "y": {
          "bdata": "xFUpS2Za2FWbVrpYwV7cW5pZWl5yWjtT",
          "dtype": "i2"
         },
         "yaxis": "y"
        },
        {
         "legendgroup": "Model A-Maisonette",
         "marker": {
          "color": "#fecfab"
         },
         "name": "Model A-Maisonette",
         "showlegend": true,
         "type": "bar",
         "visible": false,
         "x": {
          "bdata": "AQIDBAUGBwgJCgsM",
          "dtype": "i1"
         },
         "xaxis": "x",
         "y": {
          "bdata": "qACVAL4AlQCtAMYAsQC/AKEAtgDVAJcA",
          "dtype": "i2"
         },
         "yaxis": "y"
        },
        {
         "legendgroup": "Model A2",
         "marker": {
          "color": "#ffdab9"
         },
         "name": "Model A2",
         "showlegend": true,
         "type": "bar",
         "visible": false,
         "x": {
          "bdata": "AQIDBAUGBwgJCgsM",
          "dtype": "i1"
         },
         "xaxis": "x",
         "y": {
          "bdata": "VAPdAlADOwMLAzIDrgNkA9ADwAONAxAD",
          "dtype": "i2"
         },
         "yaxis": "y"
        },
        {
         "legendgroup": "Multi Generation",
         "marker": {
          "color": "#cccac7"
         },
         "name": "Multi Generation",
         "showlegend": true,
         "type": "bar",
         "visible": false,
         "x": {
          "bdata": "AQIDBAUGBwgJCgsM",
          "dtype": "i1"
         },
         "xaxis": "x",
         "y": {
          "bdata": "MC0qJis7Ni8tLi0h",
          "dtype": "i1"
         },
         "yaxis": "y"
        },
        {
         "legendgroup": "New Generation",
         "marker": {
          "color": "#99b9d5"
         },
         "name": "New Generation",
         "showlegend": true,
         "type": "bar",
         "visible": false,
         "x": {
          "bdata": "AQIDBAUGBwgJCgsM",
          "dtype": "i1"
         },
         "xaxis": "x",
         "y": {
          "bdata": "ST47NhlBFj1rPNo+iEGoPwg9kUEPP647",
          "dtype": "i2"
         },
         "yaxis": "y"
        },
        {
         "legendgroup": "Premium Apartment",
         "marker": {
          "color": "#66a9e3"
         },
         "name": "Premium Apartment",
         "showlegend": true,
         "type": "bar",
         "visible": false,
         "x": {
          "bdata": "AQIDBAUGBwgJCgsM",
          "dtype": "i1"
         },
         "xaxis": "x",
         "y": {
          "bdata": "Tw5ODO0PeA84D+8PIxJ0EeEQQRExEIEN",
          "dtype": "i2"
         },
         "yaxis": "y"
        },
        {
         "legendgroup": "Premium Apartment Loft",
         "marker": {
          "color": "#3398f1"
         },
         "name": "Premium Apartment Loft",
         "showlegend": true,
         "type": "bar",
         "visible": false,
         "x": {
          "bdata": "AQIDBAUGBwgJCgsM",
          "dtype": "i1"
         },
         "xaxis": "x",
         "y": {
          "bdata": "CAoPBwgODQgKBQYK",
          "dtype": "i1"
         },
         "yaxis": "y"
        },
        {
         "legendgroup": "Premium Maisonette",
         "marker": {
          "color": "#0088ff"
         },
         "name": "Premium Maisonette",
         "showlegend": true,
         "type": "bar",
         "visible": false,
         "x": {
          "bdata": "AQIDBAUGBwgJCgsM",
          "dtype": "i1"
         },
         "xaxis": "x",
         "y": {
          "bdata": "BQgHBgUFBwkPCQgD",
          "dtype": "i1"
         },
         "yaxis": "y"
        },
        {
         "legendgroup": "Simplified",
         "marker": {
          "color": "#0077e4"
         },
         "name": "Simplified",
         "showlegend": true,
         "type": "bar",
         "visible": false,
         "x": {
          "bdata": "AQIDBAUGBwgJCgsM",
          "dtype": "i1"
         },
         "xaxis": "x",
         "y": {
          "bdata": "oxKREJMTgRJlEskS4xOWE68SLRSlE2kS",
          "dtype": "i2"
         },
         "yaxis": "y"
        },
        {
         "legendgroup": "Standard",
         "marker": {
          "color": "#0066c8"
         },
         "name": "Standard",
         "showlegend": true,
         "type": "bar",
         "visible": false,
         "x": {
          "bdata": "AQIDBAUGBwgJCgsM",
          "dtype": "i1"
         },
         "xaxis": "x",
         "y": {
          "bdata": "eQ72C1YO1g1jDVoOTA+0Dq8NSQ7mDUIN",
          "dtype": "i2"
         },
         "yaxis": "y"
        },
        {
         "legendgroup": "Terrace",
         "marker": {
          "color": "#0055ad"
         },
         "name": "Terrace",
         "showlegend": true,
         "type": "bar",
         "visible": false,
         "x": {
          "bdata": "AQIDBAUGBwgJCgsM",
          "dtype": "i1"
         },
         "xaxis": "x",
         "y": {
          "bdata": "PC89MzVGODI9SEM1",
          "dtype": "i1"
         },
         "yaxis": "y"
        },
        {
         "legendgroup": "Type S1",
         "marker": {
          "color": "#004491"
         },
         "name": "Type S1",
         "showlegend": true,
         "type": "bar",
         "visible": false,
         "x": {
          "bdata": "AQIDBAUGBwgJCgsM",
          "dtype": "i1"
         },
         "xaxis": "x",
         "y": {
          "bdata": "ICgsJCkxIiYjIyUe",
          "dtype": "i1"
         },
         "yaxis": "y"
        },
        {
         "legendgroup": "Type S2",
         "marker": {
          "color": "#003376"
         },
         "name": "Type S2",
         "showlegend": true,
         "type": "bar",
         "visible": false,
         "x": {
          "bdata": "AQIDBAUGBwgJCgsM",
          "dtype": "i1"
         },
         "xaxis": "x",
         "y": {
          "bdata": "ExQZEg8NDCAXDxgL",
          "dtype": "i1"
         },
         "yaxis": "y"
        },
        {
         "legendgroup": "All",
         "marker": {
          "color": "gray"
         },
         "name": "All",
         "showlegend": true,
         "type": "bar",
         "visible": false,
         "x": {
          "bdata": "AQIDBAUGBwgJCgsM",
          "dtype": "i1"
         },
         "xaxis": "x2",
         "y": {
          "bdata": "OioBAGkEAQDFOgEA2CsBAGYsAQANNwEAXEwBAJVBAQDZNgEAG0cBAAE4AQBlHwEA",
          "dtype": "i4"
         },
         "yaxis": "y2"
        }
       ],
       "layout": {
        "annotations": [
         {
          "showarrow": false,
          "text": "Select X-axis Variable:",
          "x": 0.86,
          "xref": "paper",
          "y": 1.1,
          "yref": "paper"
         },
         {
          "showarrow": false,
          "text": "Plot Type:",
          "x": 0,
          "xref": "paper",
          "y": 1.1,
          "yref": "paper"
         }
        ],
        "autosize": false,
        "bargap": 0.15,
        "height": 500,
        "margin": {
         "b": 20,
         "l": 20,
         "r": 20,
         "t": 100
        },
        "template": {
         "data": {
          "bar": [
           {
            "error_x": {
             "color": "#2a3f5f"
            },
            "error_y": {
             "color": "#2a3f5f"
            },
            "marker": {
             "line": {
              "color": "#E5ECF6",
              "width": 0.5
             },
             "pattern": {
              "fillmode": "overlay",
              "size": 10,
              "solidity": 0.2
             }
            },
            "type": "bar"
           }
          ],
          "barpolar": [
           {
            "marker": {
             "line": {
              "color": "#E5ECF6",
              "width": 0.5
             },
             "pattern": {
              "fillmode": "overlay",
              "size": 10,
              "solidity": 0.2
             }
            },
            "type": "barpolar"
           }
          ],
          "carpet": [
           {
            "aaxis": {
             "endlinecolor": "#2a3f5f",
             "gridcolor": "white",
             "linecolor": "white",
             "minorgridcolor": "white",
             "startlinecolor": "#2a3f5f"
            },
            "baxis": {
             "endlinecolor": "#2a3f5f",
             "gridcolor": "white",
             "linecolor": "white",
             "minorgridcolor": "white",
             "startlinecolor": "#2a3f5f"
            },
            "type": "carpet"
           }
          ],
          "choropleth": [
           {
            "colorbar": {
             "outlinewidth": 0,
             "ticks": ""
            },
            "type": "choropleth"
           }
          ],
          "contour": [
           {
            "colorbar": {
             "outlinewidth": 0,
             "ticks": ""
            },
            "colorscale": [
             [
              0,
              "#0d0887"
             ],
             [
              0.1111111111111111,
              "#46039f"
             ],
             [
              0.2222222222222222,
              "#7201a8"
             ],
             [
              0.3333333333333333,
              "#9c179e"
             ],
             [
              0.4444444444444444,
              "#bd3786"
             ],
             [
              0.5555555555555556,
              "#d8576b"
             ],
             [
              0.6666666666666666,
              "#ed7953"
             ],
             [
              0.7777777777777778,
              "#fb9f3a"
             ],
             [
              0.8888888888888888,
              "#fdca26"
             ],
             [
              1,
              "#f0f921"
             ]
            ],
            "type": "contour"
           }
          ],
          "contourcarpet": [
           {
            "colorbar": {
             "outlinewidth": 0,
             "ticks": ""
            },
            "type": "contourcarpet"
           }
          ],
          "heatmap": [
           {
            "colorbar": {
             "outlinewidth": 0,
             "ticks": ""
            },
            "colorscale": [
             [
              0,
              "#0d0887"
             ],
             [
              0.1111111111111111,
              "#46039f"
             ],
             [
              0.2222222222222222,
              "#7201a8"
             ],
             [
              0.3333333333333333,
              "#9c179e"
             ],
             [
              0.4444444444444444,
              "#bd3786"
             ],
             [
              0.5555555555555556,
              "#d8576b"
             ],
             [
              0.6666666666666666,
              "#ed7953"
             ],
             [
              0.7777777777777778,
              "#fb9f3a"
             ],
             [
              0.8888888888888888,
              "#fdca26"
             ],
             [
              1,
              "#f0f921"
             ]
            ],
            "type": "heatmap"
           }
          ],
          "histogram": [
           {
            "marker": {
             "pattern": {
              "fillmode": "overlay",
              "size": 10,
              "solidity": 0.2
             }
            },
            "type": "histogram"
           }
          ],
          "histogram2d": [
           {
            "colorbar": {
             "outlinewidth": 0,
             "ticks": ""
            },
            "colorscale": [
             [
              0,
              "#0d0887"
             ],
             [
              0.1111111111111111,
              "#46039f"
             ],
             [
              0.2222222222222222,
              "#7201a8"
             ],
             [
              0.3333333333333333,
              "#9c179e"
             ],
             [
              0.4444444444444444,
              "#bd3786"
             ],
             [
              0.5555555555555556,
              "#d8576b"
             ],
             [
              0.6666666666666666,
              "#ed7953"
             ],
             [
              0.7777777777777778,
              "#fb9f3a"
             ],
             [
              0.8888888888888888,
              "#fdca26"
             ],
             [
              1,
              "#f0f921"
             ]
            ],
            "type": "histogram2d"
           }
          ],
          "histogram2dcontour": [
           {
            "colorbar": {
             "outlinewidth": 0,
             "ticks": ""
            },
            "colorscale": [
             [
              0,
              "#0d0887"
             ],
             [
              0.1111111111111111,
              "#46039f"
             ],
             [
              0.2222222222222222,
              "#7201a8"
             ],
             [
              0.3333333333333333,
              "#9c179e"
             ],
             [
              0.4444444444444444,
              "#bd3786"
             ],
             [
              0.5555555555555556,
              "#d8576b"
             ],
             [
              0.6666666666666666,
              "#ed7953"
             ],
             [
              0.7777777777777778,
              "#fb9f3a"
             ],
             [
              0.8888888888888888,
              "#fdca26"
             ],
             [
              1,
              "#f0f921"
             ]
            ],
            "type": "histogram2dcontour"
           }
          ],
          "mesh3d": [
           {
            "colorbar": {
             "outlinewidth": 0,
             "ticks": ""
            },
            "type": "mesh3d"
           }
          ],
          "parcoords": [
           {
            "line": {
             "colorbar": {
              "outlinewidth": 0,
              "ticks": ""
             }
            },
            "type": "parcoords"
           }
          ],
          "pie": [
           {
            "automargin": true,
            "type": "pie"
           }
          ],
          "scatter": [
           {
            "fillpattern": {
             "fillmode": "overlay",
             "size": 10,
             "solidity": 0.2
            },
            "type": "scatter"
           }
          ],
          "scatter3d": [
           {
            "line": {
             "colorbar": {
              "outlinewidth": 0,
              "ticks": ""
             }
            },
            "marker": {
             "colorbar": {
              "outlinewidth": 0,
              "ticks": ""
             }
            },
            "type": "scatter3d"
           }
          ],
          "scattercarpet": [
           {
            "marker": {
             "colorbar": {
              "outlinewidth": 0,
              "ticks": ""
             }
            },
            "type": "scattercarpet"
           }
          ],
          "scattergeo": [
           {
            "marker": {
             "colorbar": {
              "outlinewidth": 0,
              "ticks": ""
             }
            },
            "type": "scattergeo"
           }
          ],
          "scattergl": [
           {
            "marker": {
             "colorbar": {
              "outlinewidth": 0,
              "ticks": ""
             }
            },
            "type": "scattergl"
           }
          ],
          "scattermap": [
           {
            "marker": {
             "colorbar": {
              "outlinewidth": 0,
              "ticks": ""
             }
            },
            "type": "scattermap"
           }
          ],
          "scattermapbox": [
           {
            "marker": {
             "colorbar": {
              "outlinewidth": 0,
              "ticks": ""
             }
            },
            "type": "scattermapbox"
           }
          ],
          "scatterpolar": [
           {
            "marker": {
             "colorbar": {
              "outlinewidth": 0,
              "ticks": ""
             }
            },
            "type": "scatterpolar"
           }
          ],
          "scatterpolargl": [
           {
            "marker": {
             "colorbar": {
              "outlinewidth": 0,
              "ticks": ""
             }
            },
            "type": "scatterpolargl"
           }
          ],
          "scatterternary": [
           {
            "marker": {
             "colorbar": {
              "outlinewidth": 0,
              "ticks": ""
             }
            },
            "type": "scatterternary"
           }
          ],
          "surface": [
           {
            "colorbar": {
             "outlinewidth": 0,
             "ticks": ""
            },
            "colorscale": [
             [
              0,
              "#0d0887"
             ],
             [
              0.1111111111111111,
              "#46039f"
             ],
             [
              0.2222222222222222,
              "#7201a8"
             ],
             [
              0.3333333333333333,
              "#9c179e"
             ],
             [
              0.4444444444444444,
              "#bd3786"
             ],
             [
              0.5555555555555556,
              "#d8576b"
             ],
             [
              0.6666666666666666,
              "#ed7953"
             ],
             [
              0.7777777777777778,
              "#fb9f3a"
             ],
             [
              0.8888888888888888,
              "#fdca26"
             ],
             [
              1,
              "#f0f921"
             ]
            ],
            "type": "surface"
           }
          ],
          "table": [
           {
            "cells": {
             "fill": {
              "color": "#EBF0F8"
             },
             "line": {
              "color": "white"
             }
            },
            "header": {
             "fill": {
              "color": "#C8D4E3"
             },
             "line": {
              "color": "white"
             }
            },
            "type": "table"
           }
          ]
         },
         "layout": {
          "annotationdefaults": {
           "arrowcolor": "#2a3f5f",
           "arrowhead": 0,
           "arrowwidth": 1
          },
          "autotypenumbers": "strict",
          "coloraxis": {
           "colorbar": {
            "outlinewidth": 0,
            "ticks": ""
           }
          },
          "colorscale": {
           "diverging": [
            [
             0,
             "#8e0152"
            ],
            [
             0.1,
             "#c51b7d"
            ],
            [
             0.2,
             "#de77ae"
            ],
            [
             0.3,
             "#f1b6da"
            ],
            [
             0.4,
             "#fde0ef"
            ],
            [
             0.5,
             "#f7f7f7"
            ],
            [
             0.6,
             "#e6f5d0"
            ],
            [
             0.7,
             "#b8e186"
            ],
            [
             0.8,
             "#7fbc41"
            ],
            [
             0.9,
             "#4d9221"
            ],
            [
             1,
             "#276419"
            ]
           ],
           "sequential": [
            [
             0,
             "#0d0887"
            ],
            [
             0.1111111111111111,
             "#46039f"
            ],
            [
             0.2222222222222222,
             "#7201a8"
            ],
            [
             0.3333333333333333,
             "#9c179e"
            ],
            [
             0.4444444444444444,
             "#bd3786"
            ],
            [
             0.5555555555555556,
             "#d8576b"
            ],
            [
             0.6666666666666666,
             "#ed7953"
            ],
            [
             0.7777777777777778,
             "#fb9f3a"
            ],
            [
             0.8888888888888888,
             "#fdca26"
            ],
            [
             1,
             "#f0f921"
            ]
           ],
           "sequentialminus": [
            [
             0,
             "#0d0887"
            ],
            [
             0.1111111111111111,
             "#46039f"
            ],
            [
             0.2222222222222222,
             "#7201a8"
            ],
            [
             0.3333333333333333,
             "#9c179e"
            ],
            [
             0.4444444444444444,
             "#bd3786"
            ],
            [
             0.5555555555555556,
             "#d8576b"
            ],
            [
             0.6666666666666666,
             "#ed7953"
            ],
            [
             0.7777777777777778,
             "#fb9f3a"
            ],
            [
             0.8888888888888888,
             "#fdca26"
            ],
            [
             1,
             "#f0f921"
            ]
           ]
          },
          "colorway": [
           "#636efa",
           "#EF553B",
           "#00cc96",
           "#ab63fa",
           "#FFA15A",
           "#19d3f3",
           "#FF6692",
           "#B6E880",
           "#FF97FF",
           "#FECB52"
          ],
          "font": {
           "color": "#2a3f5f"
          },
          "geo": {
           "bgcolor": "white",
           "lakecolor": "white",
           "landcolor": "#E5ECF6",
           "showlakes": true,
           "showland": true,
           "subunitcolor": "white"
          },
          "hoverlabel": {
           "align": "left"
          },
          "hovermode": "closest",
          "mapbox": {
           "style": "light"
          },
          "paper_bgcolor": "white",
          "plot_bgcolor": "#E5ECF6",
          "polar": {
           "angularaxis": {
            "gridcolor": "white",
            "linecolor": "white",
            "ticks": ""
           },
           "bgcolor": "#E5ECF6",
           "radialaxis": {
            "gridcolor": "white",
            "linecolor": "white",
            "ticks": ""
           }
          },
          "scene": {
           "xaxis": {
            "backgroundcolor": "#E5ECF6",
            "gridcolor": "white",
            "gridwidth": 2,
            "linecolor": "white",
            "showbackground": true,
            "ticks": "",
            "zerolinecolor": "white"
           },
           "yaxis": {
            "backgroundcolor": "#E5ECF6",
            "gridcolor": "white",
            "gridwidth": 2,
            "linecolor": "white",
            "showbackground": true,
            "ticks": "",
            "zerolinecolor": "white"
           },
           "zaxis": {
            "backgroundcolor": "#E5ECF6",
            "gridcolor": "white",
            "gridwidth": 2,
            "linecolor": "white",
            "showbackground": true,
            "ticks": "",
            "zerolinecolor": "white"
           }
          },
          "shapedefaults": {
           "line": {
            "color": "#2a3f5f"
           }
          },
          "ternary": {
           "aaxis": {
            "gridcolor": "white",
            "linecolor": "white",
            "ticks": ""
           },
           "baxis": {
            "gridcolor": "white",
            "linecolor": "white",
            "ticks": ""
           },
           "bgcolor": "#E5ECF6",
           "caxis": {
            "gridcolor": "white",
            "linecolor": "white",
            "ticks": ""
           }
          },
          "title": {
           "x": 0.05
          },
          "xaxis": {
           "automargin": true,
           "gridcolor": "white",
           "linecolor": "white",
           "ticks": "",
           "title": {
            "standoff": 15
           },
           "zerolinecolor": "white",
           "zerolinewidth": 2
          },
          "yaxis": {
           "automargin": true,
           "gridcolor": "white",
           "linecolor": "white",
           "ticks": "",
           "title": {
            "standoff": 15
           },
           "zerolinecolor": "white",
           "zerolinewidth": 2
          }
         }
        },
        "title": {
         "text": "Units Resold By Flat Model",
         "y": 0.95
        },
        "updatemenus": [
         {
          "buttons": [
           {
            "args": [
             {
              "visible": [
               true,
               true,
               true,
               true,
               true,
               true,
               true,
               true,
               true,
               true,
               true,
               true,
               true,
               true,
               true,
               true,
               true,
               true,
               true,
               true,
               true,
               true,
               false,
               false,
               false,
               false,
               false,
               false,
               false,
               false,
               false,
               false,
               false,
               false,
               false,
               false,
               false,
               false,
               false,
               false,
               false,
               false,
               false,
               false,
               false,
               false,
               false,
               false,
               false,
               false,
               false,
               false,
               false,
               false,
               false,
               false,
               false,
               false,
               false,
               false,
               false,
               false,
               false,
               false,
               false,
               false,
               false,
               false,
               false,
               false,
               false,
               false,
               false,
               false,
               false,
               false,
               false,
               false,
               false,
               false,
               false,
               false,
               false,
               false,
               false,
               false,
               false,
               false,
               false,
               false,
               false,
               false,
               false,
               false,
               false,
               false,
               false,
               false,
               false,
               false,
               false,
               false,
               false,
               false,
               false,
               false,
               false,
               false,
               false,
               false,
               false,
               false,
               false,
               false,
               false,
               false,
               false,
               false,
               false,
               false,
               false,
               false,
               false,
               false,
               false,
               false,
               false,
               false,
               false,
               false,
               false,
               false,
               false,
               false,
               false,
               false,
               false,
               false,
               false,
               false,
               false,
               false,
               false,
               false,
               false,
               false,
               false,
               false,
               false,
               false,
               false,
               false,
               false,
               false,
               false,
               false,
               false,
               false,
               false,
               false,
               false,
               false,
               false,
               false,
               false,
               false,
               false,
               false,
               false,
               false,
               false,
               false,
               false,
               false,
               false,
               false
              ]
             },
             {
              "xaxis.title": "Year",
              "xaxis2.title": "Year"
             }
            ],
            "label": "Year",
            "method": "update"
           },
           {
            "args": [
             {
              "visible": [
               false,
               false,
               false,
               false,
               false,
               false,
               false,
               false,
               false,
               false,
               false,
               false,
               false,
               false,
               false,
               false,
               false,
               false,
               false,
               false,
               false,
               false,
               false,
               false,
               false,
               false,
               false,
               false,
               false,
               false,
               false,
               false,
               false,
               false,
               false,
               false,
               false,
               false,
               false,
               false,
               false,
               false,
               false,
               false,
               true,
               true,
               true,
               true,
               true,
               true,
               true,
               true,
               true,
               true,
               true,
               true,
               true,
               true,
               true,
               true,
               true,
               true,
               true,
               true,
               true,
               true,
               false,
               false,
               false,
               false,
               false,
               false,
               false,
               false,
               false,
               false,
               false,
               false,
               false,
               false,
               false,
               false,
               false,
               false,
               false,
               false,
               false,
               false,
               false,
               false,
               false,
               false,
               false,
               false,
               false,
               false,
               false,
               false,
               false,
               false,
               false,
               false,
               false,
               false,
               false,
               false,
               false,
               false,
               false,
               false,
               false,
               false,
               false,
               false,
               false,
               false,
               false,
               false,
               false,
               false,
               false,
               false,
               false,
               false,
               false,
               false,
               false,
               false,
               false,
               false,
               false,
               false,
               false,
               false,
               false,
               false,
               false,
               false,
               false,
               false,
               false,
               false,
               false,
               false,
               false,
               false,
               false,
               false,
               false,
               false,
               false,
               false,
               false,
               false,
               false,
               false,
               false,
               false,
               false,
               false,
               false,
               false,
               false,
               false,
               false,
               false,
               false,
               false,
               false,
               false,
               false,
               false,
               false,
               false,
               false,
               false
              ]
             },
             {
              "xaxis.title": "Lease Year",
              "xaxis2.title": "Lease Year"
             }
            ],
            "label": "Lease Year",
            "method": "update"
           },
           {
            "args": [
             {
              "visible": [
               false,
               false,
               false,
               false,
               false,
               false,
               false,
               false,
               false,
               false,
               false,
               false,
               false,
               false,
               false,
               false,
               false,
               false,
               false,
               false,
               false,
               false,
               false,
               false,
               false,
               false,
               false,
               false,
               false,
               false,
               false,
               false,
               false,
               false,
               false,
               false,
               false,
               false,
               false,
               false,
               false,
               false,
               false,
               false,
               false,
               false,
               false,
               false,
               false,
               false,
               false,
               false,
               false,
               false,
               false,
               false,
               false,
               false,
               false,
               false,
               false,
               false,
               false,
               false,
               false,
               false,
               false,
               false,
               false,
               false,
               false,
               false,
               false,
               false,
               false,
               false,
               false,
               false,
               false,
               false,
               false,
               false,
               false,
               false,
               false,
               false,
               false,
               false,
               true,
               true,
               true,
               true,
               true,
               true,
               true,
               true,
               true,
               true,
               true,
               true,
               true,
               true,
               true,
               true,
               true,
               true,
               true,
               true,
               true,
               true,
               false,
               false,
               false,
               false,
               false,
               false,
               false,
               false,
               false,
               false,
               false,
               false,
               false,
               false,
               false,
               false,
               false,
               false,
               false,
               false,
               false,
               false,
               false,
               false,
               false,
               false,
               false,
               false,
               false,
               false,
               false,
               false,
               false,
               false,
               false,
               false,
               false,
               false,
               false,
               false,
               false,
               false,
               false,
               false,
               false,
               false,
               false,
               false,
               false,
               false,
               false,
               false,
               false,
               false,
               false,
               false,
               false,
               false,
               false,
               false,
               false,
               false,
               false,
               false,
               false,
               false
              ]
             },
             {
              "xaxis.title": "Years Leased",
              "xaxis2.title": "Years Leased"
             }
            ],
            "label": "Years Leased",
            "method": "update"
           },
           {
            "args": [
             {
              "visible": [
               false,
               false,
               false,
               false,
               false,
               false,
               false,
               false,
               false,
               false,
               false,
               false,
               false,
               false,
               false,
               false,
               false,
               false,
               false,
               false,
               false,
               false,
               false,
               false,
               false,
               false,
               false,
               false,
               false,
               false,
               false,
               false,
               false,
               false,
               false,
               false,
               false,
               false,
               false,
               false,
               false,
               false,
               false,
               false,
               false,
               false,
               false,
               false,
               false,
               false,
               false,
               false,
               false,
               false,
               false,
               false,
               false,
               false,
               false,
               false,
               false,
               false,
               false,
               false,
               false,
               false,
               false,
               false,
               false,
               false,
               false,
               false,
               false,
               false,
               false,
               false,
               false,
               false,
               false,
               false,
               false,
               false,
               false,
               false,
               false,
               false,
               false,
               false,
               false,
               false,
               false,
               false,
               false,
               false,
               false,
               false,
               false,
               false,
               false,
               false,
               false,
               false,
               false,
               false,
               false,
               false,
               false,
               false,
               false,
               false,
               false,
               false,
               false,
               false,
               false,
               false,
               false,
               false,
               false,
               false,
               false,
               false,
               false,
               false,
               false,
               false,
               false,
               false,
               false,
               false,
               false,
               false,
               true,
               true,
               true,
               true,
               true,
               true,
               true,
               true,
               true,
               true,
               true,
               true,
               true,
               true,
               true,
               true,
               true,
               true,
               true,
               true,
               true,
               true,
               false,
               false,
               false,
               false,
               false,
               false,
               false,
               false,
               false,
               false,
               false,
               false,
               false,
               false,
               false,
               false,
               false,
               false,
               false,
               false,
               false,
               false
              ]
             },
             {
              "xaxis.title": "Month",
              "xaxis2.title": "Month"
             }
            ],
            "label": "Month",
            "method": "update"
           }
          ],
          "direction": "down",
          "pad": {
           "r": 10,
           "t": 10
          },
          "showactive": true,
          "x": 1.01,
          "xanchor": "right",
          "y": 1.15,
          "yanchor": "top"
         },
         {
          "buttons": [
           {
            "args": [
             {
              "visible": [
               true,
               true,
               true,
               true,
               true,
               true,
               true,
               true,
               true,
               true,
               true,
               true,
               true,
               true,
               true,
               true,
               true,
               true,
               true,
               true,
               true,
               true,
               false,
               false,
               false,
               false,
               false,
               false,
               false,
               false,
               false,
               false,
               false,
               false,
               false,
               false,
               false,
               false,
               false,
               false,
               false,
               false,
               false,
               false,
               false,
               false,
               false,
               false,
               false,
               false,
               false,
               false,
               false,
               false,
               false,
               false,
               false,
               false,
               false,
               false,
               false,
               false,
               false,
               false,
               false,
               false,
               false,
               false,
               false,
               false,
               false,
               false,
               false,
               false,
               false,
               false,
               false,
               false,
               false,
               false,
               false,
               false,
               false,
               false,
               false,
               false,
               false,
               false,
               false,
               false,
               false,
               false,
               false,
               false,
               false,
               false,
               false,
               false,
               false,
               false,
               false,
               false,
               false,
               false,
               false,
               false,
               false,
               false,
               false,
               false,
               false,
               false,
               false,
               false,
               false,
               false,
               false,
               false,
               false,
               false,
               false,
               false,
               false,
               false,
               false,
               false,
               false,
               false,
               false,
               false,
               false,
               false,
               false,
               false,
               false,
               false,
               false,
               false,
               false,
               false,
               false,
               false,
               false,
               false,
               false,
               false,
               false,
               false,
               false,
               false,
               false,
               false,
               false,
               false,
               false,
               false,
               false,
               false,
               false,
               false,
               false,
               false,
               false,
               false,
               false,
               false,
               false,
               false,
               false,
               false,
               false,
               false,
               false,
               false,
               false,
               false
              ]
             },
             {
              "barmode": "group"
             }
            ],
            "label": "Line Plot",
            "method": "update"
           },
           {
            "args": [
             {
              "visible": [
               false,
               false,
               false,
               false,
               false,
               false,
               false,
               false,
               false,
               false,
               false,
               false,
               false,
               false,
               false,
               false,
               false,
               false,
               false,
               false,
               false,
               false,
               true,
               true,
               true,
               true,
               true,
               true,
               true,
               true,
               true,
               true,
               true,
               true,
               true,
               true,
               true,
               true,
               true,
               true,
               true,
               true,
               true,
               true,
               false,
               false,
               false,
               false,
               false,
               false,
               false,
               false,
               false,
               false,
               false,
               false,
               false,
               false,
               false,
               false,
               false,
               false,
               false,
               false,
               false,
               false,
               false,
               false,
               false,
               false,
               false,
               false,
               false,
               false,
               false,
               false,
               false,
               false,
               false,
               false,
               false,
               false,
               false,
               false,
               false,
               false,
               false,
               false,
               false,
               false,
               false,
               false,
               false,
               false,
               false,
               false,
               false,
               false,
               false,
               false,
               false,
               false,
               false,
               false,
               false,
               false,
               false,
               false,
               false,
               false,
               false,
               false,
               false,
               false,
               false,
               false,
               false,
               false,
               false,
               false,
               false,
               false,
               false,
               false,
               false,
               false,
               false,
               false,
               false,
               false,
               false,
               false,
               false,
               false,
               false,
               false,
               false,
               false,
               false,
               false,
               false,
               false,
               false,
               false,
               false,
               false,
               false,
               false,
               false,
               false,
               false,
               false,
               false,
               false,
               false,
               false,
               false,
               false,
               false,
               false,
               false,
               false,
               false,
               false,
               false,
               false,
               false,
               false,
               false,
               false,
               false,
               false,
               false,
               false,
               false,
               false
              ]
             },
             {
              "barmode": "stack"
             }
            ],
            "label": "Bar Plot",
            "method": "update"
           }
          ],
          "direction": "right",
          "pad": {
           "r": 10,
           "t": 10
          },
          "showactive": true,
          "type": "buttons",
          "x": 0.26,
          "xanchor": "right",
          "y": 1.15,
          "yanchor": "top"
         }
        ],
        "width": 1100,
        "xaxis": {
         "anchor": "y",
         "domain": [
          0,
          1
         ],
         "title": {
          "text": "Year"
         }
        },
        "xaxis2": {
         "anchor": "y2",
         "domain": [
          0,
          1
         ],
         "title": {
          "text": "Year"
         }
        },
        "yaxis": {
         "anchor": "x",
         "domain": [
          0.32,
          1
         ],
         "title": {
          "text": "Units Resold"
         }
        },
        "yaxis2": {
         "anchor": "x2",
         "domain": [
          0,
          0.17
         ]
        }
       }
      }
     },
     "metadata": {},
     "output_type": "display_data"
    }
   ],
   "source": [
    "catplots(df_p, x_vars, 'flat_model', 'Units Resold By Flat Model', 'count')"
   ]
  },
  {
   "cell_type": "code",
   "execution_count": 22,
   "id": "10592fb5",
   "metadata": {},
   "outputs": [
    {
     "data": {
      "application/vnd.plotly.v1+json": {
       "config": {
        "plotlyServerURL": "https://plot.ly"
       },
       "data": [
        {
         "legendgroup": "Q1",
         "line": {
          "color": "#ff4500"
         },
         "mode": "lines",
         "name": "Q1",
         "showlegend": true,
         "type": "scatter",
         "visible": true,
         "x": {
          "bdata": "xgfHB8gHyQfKB8sHzAfNB84HzwfQB9EH0gfTB9QH1QfWB9cH2AfZB9oH2wfcB90H3gffB+AH4QfiB+MH5AflB+YH5wfoBw==",
          "dtype": "i2"
         },
         "xaxis": "x",
         "y": {
          "bdata": "BA5rC8UMQQ1AHygVgiHUHIUn5T7+G3YirSOxGv8fbB8dGroZOhmfGDsh7BasFfEOrQ2lDicQTRAoEJsRhRW2G8cZCRqGGg==",
          "dtype": "i2"
         },
         "yaxis": "y"
        },
        {
         "legendgroup": "Q2",
         "line": {
          "color": "#fcb58a"
         },
         "mode": "lines",
         "name": "Q2",
         "showlegend": true,
         "type": "scatter",
         "visible": true,
         "x": {
          "bdata": "xgfHB8gHyQfKB8sHzAfNB84HzwfQB9EH0gfTB9QH1QfWB9cH2AfZB9oH2wfcB90H3gffB+AH4QfiB+MH5AflB+YH5wfoBw==",
          "dtype": "i2"
         },
         "xaxis": "x",
         "y": {
          "bdata": "WQqNCsIMYg1UGW0UPyDAIqctTkNlIzcl2iTCGZAZzByFGzYZhRoxG5UkTBdHGQYSgxAnE2gVvhWxFe0WmQzAGZcZgxh4Gw==",
          "dtype": "i2"
         },
         "yaxis": "y"
        },
        {
         "legendgroup": "Q3",
         "line": {
          "color": "#55a3e8"
         },
         "mode": "lines",
         "name": "Q3",
         "showlegend": true,
         "type": "scatter",
         "visible": true,
         "x": {
          "bdata": "xgfHB8gHyQfKB8sHzAfNB84HzwfQB9EH0gfTB9QH1QfWB9cH2AfZB9oH2wfcB90H3gffB+AH4QfiB+MH5AflB+YH5wfoBw==",
          "dtype": "i2"
         },
         "xaxis": "x",
         "y": {
          "bdata": "FA0gDmcPMxKSF78cGiO1HiE1ojgaJIYmnCLrGhwbEB1mHFAc6xvKH/smjBV+F9IPORCSEQIULBW/GdYWxBzqHlAcXRmbHg==",
          "dtype": "i2"
         },
         "yaxis": "y"
        },
        {
         "legendgroup": "Q4",
         "line": {
          "color": "#003376"
         },
         "mode": "lines",
         "name": "Q4",
         "showlegend": true,
         "type": "scatter",
         "visible": true,
         "x": {
          "bdata": "xgfHB8gHyQfKB8sHzAfNB84HzwfQB9EH0gfTB9QH1QfWB9cH2AfZB9oH2wfcB90H3gffB+AH4QfiB+MH5AflB+YH5wfoBw==",
          "dtype": "i2"
         },
         "xaxis": "x",
         "y": {
          "bdata": "aAseDrgP7RnNFjkkiSPGHUo94SaxJHQm3yHtIQsdCRwbGSYa1Bp4I1sbRBMtFBgOdxAWEhwS5hShFEwXQxw/HbIYshj+Dw==",
          "dtype": "i2"
         },
         "yaxis": "y"
        },
        {
         "legendgroup": "All",
         "line": {
          "color": "gray"
         },
         "mode": "lines",
         "name": "All",
         "showlegend": true,
         "type": "scatter",
         "visible": true,
         "x": {
          "bdata": "xgfHB8gHyQfKB8sHzAfNB84HzwfQB9EH0gfTB9QH1QfWB9cH2AfZB9oH2wfcB90H3gffB+AH4QfiB+MH5AflB+YH5wfoBw==",
          "dtype": "i2"
         },
         "xaxis": "x2",
         "y": {
          "bdata": "2TAAADYyAACmOAAAw0YAAPNmAACNagAAZIgAAA98AACXxwAAtuEAAC6IAACnlAAAAo0AAEtxAAC2cQAAUXUAACNrAABmaQAAfmoAABJ3AAAmiAAACFcAAJ5aAADhPgAA4D4AAHRFAACtSwAAHVAAADlUAACqVgAAJVsAAJ9xAABgaAAAm2QAAJdkAAA=",
          "dtype": "i4"
         },
         "yaxis": "y2"
        },
        {
         "legendgroup": "Q1",
         "marker": {
          "color": "#ff4500"
         },
         "name": "Q1",
         "showlegend": true,
         "type": "bar",
         "visible": false,
         "x": {
          "bdata": "xgfHB8gHyQfKB8sHzAfNB84HzwfQB9EH0gfTB9QH1QfWB9cH2AfZB9oH2wfcB90H3gffB+AH4QfiB+MH5AflB+YH5wfoBw==",
          "dtype": "i2"
         },
         "xaxis": "x",
         "y": {
          "bdata": "BA5rC8UMQQ1AHygVgiHUHIUn5T7+G3YirSOxGv8fbB8dGroZOhmfGDsh7BasFfEOrQ2lDicQTRAoEJsRhRW2G8cZCRqGGg==",
          "dtype": "i2"
         },
         "yaxis": "y"
        },
        {
         "legendgroup": "Q2",
         "marker": {
          "color": "#fcb58a"
         },
         "name": "Q2",
         "showlegend": true,
         "type": "bar",
         "visible": false,
         "x": {
          "bdata": "xgfHB8gHyQfKB8sHzAfNB84HzwfQB9EH0gfTB9QH1QfWB9cH2AfZB9oH2wfcB90H3gffB+AH4QfiB+MH5AflB+YH5wfoBw==",
          "dtype": "i2"
         },
         "xaxis": "x",
         "y": {
          "bdata": "WQqNCsIMYg1UGW0UPyDAIqctTkNlIzcl2iTCGZAZzByFGzYZhRoxG5UkTBdHGQYSgxAnE2gVvhWxFe0WmQzAGZcZgxh4Gw==",
          "dtype": "i2"
         },
         "yaxis": "y"
        },
        {
         "legendgroup": "Q3",
         "marker": {
          "color": "#55a3e8"
         },
         "name": "Q3",
         "showlegend": true,
         "type": "bar",
         "visible": false,
         "x": {
          "bdata": "xgfHB8gHyQfKB8sHzAfNB84HzwfQB9EH0gfTB9QH1QfWB9cH2AfZB9oH2wfcB90H3gffB+AH4QfiB+MH5AflB+YH5wfoBw==",
          "dtype": "i2"
         },
         "xaxis": "x",
         "y": {
          "bdata": "FA0gDmcPMxKSF78cGiO1HiE1ojgaJIYmnCLrGhwbEB1mHFAc6xvKH/smjBV+F9IPORCSEQIULBW/GdYWxBzqHlAcXRmbHg==",
          "dtype": "i2"
         },
         "yaxis": "y"
        },
        {
         "legendgroup": "Q4",
         "marker": {
          "color": "#003376"
         },
         "name": "Q4",
         "showlegend": true,
         "type": "bar",
         "visible": false,
         "x": {
          "bdata": "xgfHB8gHyQfKB8sHzAfNB84HzwfQB9EH0gfTB9QH1QfWB9cH2AfZB9oH2wfcB90H3gffB+AH4QfiB+MH5AflB+YH5wfoBw==",
          "dtype": "i2"
         },
         "xaxis": "x",
         "y": {
          "bdata": "aAseDrgP7RnNFjkkiSPGHUo94SaxJHQm3yHtIQsdCRwbGSYa1Bp4I1sbRBMtFBgOdxAWEhwS5hShFEwXQxw/HbIYshj+Dw==",
          "dtype": "i2"
         },
         "yaxis": "y"
        },
        {
         "legendgroup": "All",
         "marker": {
          "color": "gray"
         },
         "name": "All",
         "showlegend": true,
         "type": "bar",
         "visible": false,
         "x": {
          "bdata": "xgfHB8gHyQfKB8sHzAfNB84HzwfQB9EH0gfTB9QH1QfWB9cH2AfZB9oH2wfcB90H3gffB+AH4QfiB+MH5AflB+YH5wfoBw==",
          "dtype": "i2"
         },
         "xaxis": "x2",
         "y": {
          "bdata": "2TAAADYyAACmOAAAw0YAAPNmAACNagAAZIgAAA98AACXxwAAtuEAAC6IAACnlAAAAo0AAEtxAAC2cQAAUXUAACNrAABmaQAAfmoAABJ3AAAmiAAACFcAAJ5aAADhPgAA4D4AAHRFAACtSwAAHVAAADlUAACqVgAAJVsAAJ9xAABgaAAAm2QAAJdkAAA=",
          "dtype": "i4"
         },
         "yaxis": "y2"
        },
        {
         "legendgroup": "Q1",
         "line": {
          "color": "#ff4500"
         },
         "mode": "lines",
         "name": "Q1",
         "showlegend": true,
         "type": "scatter",
         "visible": false,
         "x": {
          "bdata": "rgevB7AHsQeyB7MHtAe1B7YHtwe4B7kHuge7B7wHvQe+B78HwAfBB8IHwwfEB8UHxgfHB8gHyQfKB8sHzAfNB84HzwfQB9EH0gfTB9QH1QfWB9cH2AfZB9oH2wfcB90H3gffB+AH4QfiB+MH5Ac=",
          "dtype": "i2"
         },
         "xaxis": "x",
         "y": {
          "bdata": "DADoBeABNgjBCmwHcgVPCAUOlhCzFIsThCeGHY8eXBSiDBwWQD3iUzQkJygsMIoe9gg2AcYSRRpDBskQXxiLHY8XfBPzEIgRTgt4DWcHegPtAgAB6wGDAS4BigJ6BDMFiwOkCUgG9gTqBYgCuAA=",
          "dtype": "i2"
         },
         "yaxis": "y"
        },
        {
         "legendgroup": "Q2",
         "line": {
          "color": "#fcb58a"
         },
         "mode": "lines",
         "name": "Q2",
         "showlegend": true,
         "type": "scatter",
         "visible": false,
         "x": {
          "bdata": "rgevB7AHsQeyB7MHtAe1B7YHtwe4B7kHuge7B7wHvQe+B78HwAfBB8IHwwfEB8UHxgfHB8gHyQfKB8sHzAfNB84HzwfQB9EH0gfTB9QH1QfWB9cH2AfZB9oH2wfcB90H3gffB+AH4QfiB+MH5Ac=",
          "dtype": "i2"
         },
         "xaxis": "x",
         "y": {
          "bdata": "BQDTBb8BIQg3C5UHngULCAUOLhEjFYQUQiiaHnQfHxTNDNoWCT/KVKwlpSknMRgfCgkeAYgULxwwBvkU2htKHm8Y6ROpEpMTYQwREIIIDAQ/A/4AJgLtAXEBvgJLBXUFbgM1CWEFegU4BtMCQwE=",
          "dtype": "i2"
         },
         "yaxis": "y"
        },
        {
         "legendgroup": "Q3",
         "line": {
          "color": "#55a3e8"
         },
         "mode": "lines",
         "name": "Q3",
         "showlegend": true,
         "type": "scatter",
         "visible": false,
         "x": {
          "bdata": "rgevB7AHsQeyB7MHtAe1B7YHtwe4B7kHuge7B7wHvQe+B78HwAfBB8IHwwfEB8UHxgfHB8gHyQfKB8sHzAfNB84HzwfQB9EH0gfTB9QH1QfWB9cH2AfZB9oH2wfcB90H3gffB+AH4QfiB+MH5Ac=",
          "dtype": "i2"
         },
         "xaxis": "x",
         "y": {
          "bdata": "CgCCBtcBPwjJCxUIEQbhCEIP3BFdFgIVsylNH0IgPxXMDQsXEj8jWX4nlCuGM0MhoglaAQgVhB28Bl8U0h0aIFsb5BVLEy0V0Q24EZkJnAS4AyIBlAILAoQB8AKHBUMGcgQpDJIHogaLBvsCYwE=",
          "dtype": "i2"
         },
         "yaxis": "y"
        },
        {
         "legendgroup": "Q4",
         "line": {
          "color": "#003376"
         },
         "mode": "lines",
         "name": "Q4",
         "showlegend": true,
         "type": "scatter",
         "visible": false,
         "x": {
          "bdata": "rgevB7AHsQeyB7MHtAe1B7YHtwe4B7kHuge7B7wHvQe+B78HwAfBB8IHwwfEB8UHxgfHB8gHyQfKB8sHzAfNB84HzwfQB9EH0gfTB9QH1QfWB9cH2AfZB9oH2wfcB90H3gffB+AH4QfiB+MH5AflBw==",
          "dtype": "i2"
         },
         "xaxis": "x",
         "y": {
          "bdata": "BwAwBucBWQhfC+IH6QW0CDYO/RDaFKAUUSmjHu0f0hRVDf0W1D6vVuMmkCs1M0Eg/QhDAYQTUhu3BuEQ3xyPHooa1BVIEnUTwAy2Dz0ICwTvAt8AEQLHAWgBowIJBcQFLAT/CgoHkAUuBr8C4wAGAA==",
          "dtype": "i2"
         },
         "yaxis": "y"
        },
        {
         "legendgroup": "All",
         "line": {
          "color": "gray"
         },
         "mode": "lines",
         "name": "All",
         "showlegend": true,
         "type": "scatter",
         "visible": false,
         "x": {
          "bdata": "rgevB7AHsQeyB7MHtAe1B7YHtwe4B7kHuge7B7wHvQe+B78HwAfBB8IHwwfEB8UHxgfHB8gHyQfKB8sHzAfNB84HzwfQB9EH0gfTB9QH1QfWB9cH2AfZB9oH2wfcB90H3gffB+AH4QfiB+MH5AflBw==",
          "dtype": "i2"
         },
         "xaxis": "x2",
         "y": {
          "bdata": "IgAAAG0YAABdBwAA7yAAACAtAAD4HgAAChcAAO8hAACCOQAAnUQAAA1VAACxUQAAyqIAABB6AAAyfgAAjFIAAJA0AAD+WgAAL/oAAH5YAQBBmAAA8KgAAA7IAAAmfwAAnyQAAPEEAADaTwAASm8AAOYZAAACSwAA6m4AAH56AADjZQAAHVMAAC9JAAC9TQAAQDIAAPc+AAC/IQAALRAAANMMAAD/AwAAtggAAEIHAACLBQAA2woAAFUUAACvFgAAlw8AAAEqAABFGgAAohYAANsYAAAVCwAAQQQAAAYAAAA=",
          "dtype": "i4"
         },
         "yaxis": "y2"
        },
        {
         "legendgroup": "Q1",
         "marker": {
          "color": "#ff4500"
         },
         "name": "Q1",
         "showlegend": true,
         "type": "bar",
         "visible": false,
         "x": {
          "bdata": "rgevB7AHsQeyB7MHtAe1B7YHtwe4B7kHuge7B7wHvQe+B78HwAfBB8IHwwfEB8UHxgfHB8gHyQfKB8sHzAfNB84HzwfQB9EH0gfTB9QH1QfWB9cH2AfZB9oH2wfcB90H3gffB+AH4QfiB+MH5Ac=",
          "dtype": "i2"
         },
         "xaxis": "x",
         "y": {
          "bdata": "DADoBeABNgjBCmwHcgVPCAUOlhCzFIsThCeGHY8eXBSiDBwWQD3iUzQkJygsMIoe9gg2AcYSRRpDBskQXxiLHY8XfBPzEIgRTgt4DWcHegPtAgAB6wGDAS4BigJ6BDMFiwOkCUgG9gTqBYgCuAA=",
          "dtype": "i2"
         },
         "yaxis": "y"
        },
        {
         "legendgroup": "Q2",
         "marker": {
          "color": "#fcb58a"
         },
         "name": "Q2",
         "showlegend": true,
         "type": "bar",
         "visible": false,
         "x": {
          "bdata": "rgevB7AHsQeyB7MHtAe1B7YHtwe4B7kHuge7B7wHvQe+B78HwAfBB8IHwwfEB8UHxgfHB8gHyQfKB8sHzAfNB84HzwfQB9EH0gfTB9QH1QfWB9cH2AfZB9oH2wfcB90H3gffB+AH4QfiB+MH5Ac=",
          "dtype": "i2"
         },
         "xaxis": "x",
         "y": {
          "bdata": "BQDTBb8BIQg3C5UHngULCAUOLhEjFYQUQiiaHnQfHxTNDNoWCT/KVKwlpSknMRgfCgkeAYgULxwwBvkU2htKHm8Y6ROpEpMTYQwREIIIDAQ/A/4AJgLtAXEBvgJLBXUFbgM1CWEFegU4BtMCQwE=",
          "dtype": "i2"
         },
         "yaxis": "y"
        },
        {
         "legendgroup": "Q3",
         "marker": {
          "color": "#55a3e8"
         },
         "name": "Q3",
         "showlegend": true,
         "type": "bar",
         "visible": false,
         "x": {
          "bdata": "rgevB7AHsQeyB7MHtAe1B7YHtwe4B7kHuge7B7wHvQe+B78HwAfBB8IHwwfEB8UHxgfHB8gHyQfKB8sHzAfNB84HzwfQB9EH0gfTB9QH1QfWB9cH2AfZB9oH2wfcB90H3gffB+AH4QfiB+MH5Ac=",
          "dtype": "i2"
         },
         "xaxis": "x",
         "y": {
          "bdata": "CgCCBtcBPwjJCxUIEQbhCEIP3BFdFgIVsylNH0IgPxXMDQsXEj8jWX4nlCuGM0MhoglaAQgVhB28Bl8U0h0aIFsb5BVLEy0V0Q24EZkJnAS4AyIBlAILAoQB8AKHBUMGcgQpDJIHogaLBvsCYwE=",
          "dtype": "i2"
         },
         "yaxis": "y"
        },
        {
         "legendgroup": "Q4",
         "marker": {
          "color": "#003376"
         },
         "name": "Q4",
         "showlegend": true,
         "type": "bar",
         "visible": false,
         "x": {
          "bdata": "rgevB7AHsQeyB7MHtAe1B7YHtwe4B7kHuge7B7wHvQe+B78HwAfBB8IHwwfEB8UHxgfHB8gHyQfKB8sHzAfNB84HzwfQB9EH0gfTB9QH1QfWB9cH2AfZB9oH2wfcB90H3gffB+AH4QfiB+MH5AflBw==",
          "dtype": "i2"
         },
         "xaxis": "x",
         "y": {
          "bdata": "BwAwBucBWQhfC+IH6QW0CDYO/RDaFKAUUSmjHu0f0hRVDf0W1D6vVuMmkCs1M0Eg/QhDAYQTUhu3BuEQ3xyPHooa1BVIEnUTwAy2Dz0ICwTvAt8AEQLHAWgBowIJBcQFLAT/CgoHkAUuBr8C4wAGAA==",
          "dtype": "i2"
         },
         "yaxis": "y"
        },
        {
         "legendgroup": "All",
         "marker": {
          "color": "gray"
         },
         "name": "All",
         "showlegend": true,
         "type": "bar",
         "visible": false,
         "x": {
          "bdata": "rgevB7AHsQeyB7MHtAe1B7YHtwe4B7kHuge7B7wHvQe+B78HwAfBB8IHwwfEB8UHxgfHB8gHyQfKB8sHzAfNB84HzwfQB9EH0gfTB9QH1QfWB9cH2AfZB9oH2wfcB90H3gffB+AH4QfiB+MH5AflBw==",
          "dtype": "i2"
         },
         "xaxis": "x2",
         "y": {
          "bdata": "IgAAAG0YAABdBwAA7yAAACAtAAD4HgAAChcAAO8hAACCOQAAnUQAAA1VAACxUQAAyqIAABB6AAAyfgAAjFIAAJA0AAD+WgAAL/oAAH5YAQBBmAAA8KgAAA7IAAAmfwAAnyQAAPEEAADaTwAASm8AAOYZAAACSwAA6m4AAH56AADjZQAAHVMAAC9JAAC9TQAAQDIAAPc+AAC/IQAALRAAANMMAAD/AwAAtggAAEIHAACLBQAA2woAAFUUAACvFgAAlw8AAAEqAABFGgAAohYAANsYAAAVCwAAQQQAAAYAAAA=",
          "dtype": "i4"
         },
         "yaxis": "y2"
        },
        {
         "legendgroup": "Q1",
         "line": {
          "color": "#ff4500"
         },
         "mode": "lines",
         "name": "Q1",
         "showlegend": true,
         "type": "scatter",
         "visible": false,
         "x": {
          "bdata": "AAECAwQFBgcICQoLDA0ODxAREhMUFRYXGBkaGxwdHh8gISIjJCUmJygpKissLS4vMDEyMzQ1Njc4OTo=",
          "dtype": "i1"
         },
         "xaxis": "x",
         "y": {
          "bdata": "GwArAE0AiQGcILY1fyhsH4wdFiBIIFYgxx97H9kg0x2NHA8bMxvHGqYaBxpiGFEXrRV1FIgSahH+D0EOiQ33DPQLYgswC6cKAgrKCBEILAehBdIEMQQlBL4DCgN/AukBnAE+AQkBwAC7AJ4AdgA/AB4AGQABAA==",
          "dtype": "i2"
         },
         "yaxis": "y"
        },
        {
         "legendgroup": "Q2",
         "line": {
          "color": "#fcb58a"
         },
         "mode": "lines",
         "name": "Q2",
         "showlegend": true,
         "type": "scatter",
         "visible": false,
         "x": {
          "bdata": "AAECAwQFBgcICQoLDA0ODxAREhMUFRYXGBkaGxwdHh8gISIjJCUmJygpKissLS4vMDEyMzQ1Njc4OTo=",
          "dtype": "i1"
         },
         "xaxis": "x",
         "y": {
          "bdata": "HwAsAGQA3QMMMrMxJCQPHyUdNh+4IGMh8CDuIdwiIB9FHSYcwxtrG/AblRumGBYY2BXvFNITaRJhELMPnA4wDkgNKAzfCw4LUgpZCVsIuQckBuwERQRNBJkDFgOdAgcCmgFTAecAugC2AH0AagA5ACUAJgABAA==",
          "dtype": "i2"
         },
         "yaxis": "y"
        },
        {
         "legendgroup": "Q3",
         "line": {
          "color": "#55a3e8"
         },
         "mode": "lines",
         "name": "Q3",
         "showlegend": true,
         "type": "scatter",
         "visible": false,
         "x": {
          "bdata": "AAECAwQFBgcICQoLDA0ODxAREhMUFRYXGBkaGxwdHh8gISIjJCUmJygpKissLS4vMDEyMzQ1Njc4OQ==",
          "dtype": "i1"
         },
         "xaxis": "x",
         "y": {
          "bdata": "DwA+AJkAmwqVOqA0xCdGISogeyEUI5ki1yHvIi4iGx9fHQAdfxy9G18clhvgGdUYpBZCFmcUIBLjEAUQHQ9nDoANCw1wDPELVgsHCiUJYAjqBikF+wSzBBAEfQMNA1wC5QF6AUcB2ADSALAAgwA9ACMAIwA=",
          "dtype": "i2"
         },
         "yaxis": "y"
        },
        {
         "legendgroup": "Q4",
         "line": {
          "color": "#003376"
         },
         "mode": "lines",
         "name": "Q4",
         "showlegend": true,
         "type": "scatter",
         "visible": false,
         "x": {
          "bdata": "AAECAwQFBgcICQoLDA0ODxAREhMUFRYXGBkaGxwdHh8gISIjJCUmJygpKissLS4vMDEyMzQ1Njc4OQ==",
          "dtype": "i1"
         },
         "xaxis": "x",
         "y": {
          "bdata": "GwA+AMsA3BNFOEUuiyPQHywgGyG/IochwCAnIi4gzB7YHdQdpBz3G+YbjBqCGAUX7BXGFCAS8xBHEJcO1w2aDVAMDwzbC7IKOArmCEEIwwbHBfYEmgQEBJUD6gJzAs8BrAEhAQ0BzwCqAIUAawBAABsAEgA=",
          "dtype": "i2"
         },
         "yaxis": "y"
        },
        {
         "legendgroup": "All",
         "line": {
          "color": "gray"
         },
         "mode": "lines",
         "name": "All",
         "showlegend": true,
         "type": "scatter",
         "visible": false,
         "x": {
          "bdata": "AAECAwQFBgcICQoLDA0ODxAREhMUFRYXGBkaGxwdHh8gISIjJCUmJygpKissLS4vMDEyMzQ1Njc4OTo=",
          "dtype": "i1"
         },
         "xaxis": "x2",
         "y": {
          "bdata": "ZAAAANMAAAAVAgAA3SMAAILFAABOygAA8pcAAJF/AAAHewAA4oEAANOGAADZhQAAToMAAH+GAAARhgAA2noAAAl1AAAJcgAAGXAAAOZtAADbbgAAvmsAAGpjAABBXwAAFVgAAGxUAADhTAAA5kYAAIlBAACQPAAAGTkAACg3AAAMMwAApDAAAFovAABYLAAA4ikAABAlAADSIQAACB4AAHYYAADdEwAACxIAACkRAAD8DgAAhwwAAJwKAAAbCAAAxwYAACwFAABEBAAAIQMAAO0CAABQAgAAzgEAAPUAAACBAAAAdAAAAAIAAAA=",
          "dtype": "i4"
         },
         "yaxis": "y2"
        },
        {
         "legendgroup": "Q1",
         "marker": {
          "color": "#ff4500"
         },
         "name": "Q1",
         "showlegend": true,
         "type": "bar",
         "visible": false,
         "x": {
          "bdata": "AAECAwQFBgcICQoLDA0ODxAREhMUFRYXGBkaGxwdHh8gISIjJCUmJygpKissLS4vMDEyMzQ1Njc4OTo=",
          "dtype": "i1"
         },
         "xaxis": "x",
         "y": {
          "bdata": "GwArAE0AiQGcILY1fyhsH4wdFiBIIFYgxx97H9kg0x2NHA8bMxvHGqYaBxpiGFEXrRV1FIgSahH+D0EOiQ33DPQLYgswC6cKAgrKCBEILAehBdIEMQQlBL4DCgN/AukBnAE+AQkBwAC7AJ4AdgA/AB4AGQABAA==",
          "dtype": "i2"
         },
         "yaxis": "y"
        },
        {
         "legendgroup": "Q2",
         "marker": {
          "color": "#fcb58a"
         },
         "name": "Q2",
         "showlegend": true,
         "type": "bar",
         "visible": false,
         "x": {
          "bdata": "AAECAwQFBgcICQoLDA0ODxAREhMUFRYXGBkaGxwdHh8gISIjJCUmJygpKissLS4vMDEyMzQ1Njc4OTo=",
          "dtype": "i1"
         },
         "xaxis": "x",
         "y": {
          "bdata": "HwAsAGQA3QMMMrMxJCQPHyUdNh+4IGMh8CDuIdwiIB9FHSYcwxtrG/AblRumGBYY2BXvFNITaRJhELMPnA4wDkgNKAzfCw4LUgpZCVsIuQckBuwERQRNBJkDFgOdAgcCmgFTAecAugC2AH0AagA5ACUAJgABAA==",
          "dtype": "i2"
         },
         "yaxis": "y"
        },
        {
         "legendgroup": "Q3",
         "marker": {
          "color": "#55a3e8"
         },
         "name": "Q3",
         "showlegend": true,
         "type": "bar",
         "visible": false,
         "x": {
          "bdata": "AAECAwQFBgcICQoLDA0ODxAREhMUFRYXGBkaGxwdHh8gISIjJCUmJygpKissLS4vMDEyMzQ1Njc4OQ==",
          "dtype": "i1"
         },
         "xaxis": "x",
         "y": {
          "bdata": "DwA+AJkAmwqVOqA0xCdGISogeyEUI5ki1yHvIi4iGx9fHQAdfxy9G18clhvgGdUYpBZCFmcUIBLjEAUQHQ9nDoANCw1wDPELVgsHCiUJYAjqBikF+wSzBBAEfQMNA1wC5QF6AUcB2ADSALAAgwA9ACMAIwA=",
          "dtype": "i2"
         },
         "yaxis": "y"
        },
        {
         "legendgroup": "Q4",
         "marker": {
          "color": "#003376"
         },
         "name": "Q4",
         "showlegend": true,
         "type": "bar",
         "visible": false,
         "x": {
          "bdata": "AAECAwQFBgcICQoLDA0ODxAREhMUFRYXGBkaGxwdHh8gISIjJCUmJygpKissLS4vMDEyMzQ1Njc4OQ==",
          "dtype": "i1"
         },
         "xaxis": "x",
         "y": {
          "bdata": "GwA+AMsA3BNFOEUuiyPQHywgGyG/IochwCAnIi4gzB7YHdQdpBz3G+YbjBqCGAUX7BXGFCAS8xBHEJcO1w2aDVAMDwzbC7IKOArmCEEIwwbHBfYEmgQEBJUD6gJzAs8BrAEhAQ0BzwCqAIUAawBAABsAEgA=",
          "dtype": "i2"
         },
         "yaxis": "y"
        },
        {
         "legendgroup": "All",
         "marker": {
          "color": "gray"
         },
         "name": "All",
         "showlegend": true,
         "type": "bar",
         "visible": false,
         "x": {
          "bdata": "AAECAwQFBgcICQoLDA0ODxAREhMUFRYXGBkaGxwdHh8gISIjJCUmJygpKissLS4vMDEyMzQ1Njc4OTo=",
          "dtype": "i1"
         },
         "xaxis": "x2",
         "y": {
          "bdata": "ZAAAANMAAAAVAgAA3SMAAILFAABOygAA8pcAAJF/AAAHewAA4oEAANOGAADZhQAAToMAAH+GAAARhgAA2noAAAl1AAAJcgAAGXAAAOZtAADbbgAAvmsAAGpjAABBXwAAFVgAAGxUAADhTAAA5kYAAIlBAACQPAAAGTkAACg3AAAMMwAApDAAAFovAABYLAAA4ikAABAlAADSIQAACB4AAHYYAADdEwAACxIAACkRAAD8DgAAhwwAAJwKAAAbCAAAxwYAACwFAABEBAAAIQMAAO0CAABQAgAAzgEAAPUAAACBAAAAdAAAAAIAAAA=",
          "dtype": "i4"
         },
         "yaxis": "y2"
        },
        {
         "legendgroup": "Q1",
         "line": {
          "color": "#ff4500"
         },
         "mode": "lines",
         "name": "Q1",
         "showlegend": true,
         "type": "scatter",
         "visible": false,
         "x": {
          "bdata": "AQID",
          "dtype": "i1"
         },
         "xaxis": "x",
         "y": {
          "bdata": "OioBAGkEAQDFOgEA",
          "dtype": "i4"
         },
         "yaxis": "y"
        },
        {
         "legendgroup": "Q2",
         "line": {
          "color": "#fcb58a"
         },
         "mode": "lines",
         "name": "Q2",
         "showlegend": true,
         "type": "scatter",
         "visible": false,
         "x": {
          "bdata": "BAUG",
          "dtype": "i1"
         },
         "xaxis": "x",
         "y": {
          "bdata": "2CsBAGYsAQANNwEA",
          "dtype": "i4"
         },
         "yaxis": "y"
        },
        {
         "legendgroup": "Q3",
         "line": {
          "color": "#55a3e8"
         },
         "mode": "lines",
         "name": "Q3",
         "showlegend": true,
         "type": "scatter",
         "visible": false,
         "x": {
          "bdata": "BwgJ",
          "dtype": "i1"
         },
         "xaxis": "x",
         "y": {
          "bdata": "XEwBAJVBAQDZNgEA",
          "dtype": "i4"
         },
         "yaxis": "y"
        },
        {
         "legendgroup": "Q4",
         "line": {
          "color": "#003376"
         },
         "mode": "lines",
         "name": "Q4",
         "showlegend": true,
         "type": "scatter",
         "visible": false,
         "x": {
          "bdata": "CgsM",
          "dtype": "i1"
         },
         "xaxis": "x",
         "y": {
          "bdata": "G0cBAAE4AQBlHwEA",
          "dtype": "i4"
         },
         "yaxis": "y"
        },
        {
         "legendgroup": "All",
         "line": {
          "color": "gray"
         },
         "mode": "lines",
         "name": "All",
         "showlegend": true,
         "type": "scatter",
         "visible": false,
         "x": {
          "bdata": "AQIDBAUGBwgJCgsM",
          "dtype": "i1"
         },
         "xaxis": "x2",
         "y": {
          "bdata": "OioBAGkEAQDFOgEA2CsBAGYsAQANNwEAXEwBAJVBAQDZNgEAG0cBAAE4AQBlHwEA",
          "dtype": "i4"
         },
         "yaxis": "y2"
        },
        {
         "legendgroup": "Q1",
         "marker": {
          "color": "#ff4500"
         },
         "name": "Q1",
         "showlegend": true,
         "type": "bar",
         "visible": false,
         "x": {
          "bdata": "AQID",
          "dtype": "i1"
         },
         "xaxis": "x",
         "y": {
          "bdata": "OioBAGkEAQDFOgEA",
          "dtype": "i4"
         },
         "yaxis": "y"
        },
        {
         "legendgroup": "Q2",
         "marker": {
          "color": "#fcb58a"
         },
         "name": "Q2",
         "showlegend": true,
         "type": "bar",
         "visible": false,
         "x": {
          "bdata": "BAUG",
          "dtype": "i1"
         },
         "xaxis": "x",
         "y": {
          "bdata": "2CsBAGYsAQANNwEA",
          "dtype": "i4"
         },
         "yaxis": "y"
        },
        {
         "legendgroup": "Q3",
         "marker": {
          "color": "#55a3e8"
         },
         "name": "Q3",
         "showlegend": true,
         "type": "bar",
         "visible": false,
         "x": {
          "bdata": "BwgJ",
          "dtype": "i1"
         },
         "xaxis": "x",
         "y": {
          "bdata": "XEwBAJVBAQDZNgEA",
          "dtype": "i4"
         },
         "yaxis": "y"
        },
        {
         "legendgroup": "Q4",
         "marker": {
          "color": "#003376"
         },
         "name": "Q4",
         "showlegend": true,
         "type": "bar",
         "visible": false,
         "x": {
          "bdata": "CgsM",
          "dtype": "i1"
         },
         "xaxis": "x",
         "y": {
          "bdata": "G0cBAAE4AQBlHwEA",
          "dtype": "i4"
         },
         "yaxis": "y"
        },
        {
         "legendgroup": "All",
         "marker": {
          "color": "gray"
         },
         "name": "All",
         "showlegend": true,
         "type": "bar",
         "visible": false,
         "x": {
          "bdata": "AQIDBAUGBwgJCgsM",
          "dtype": "i1"
         },
         "xaxis": "x2",
         "y": {
          "bdata": "OioBAGkEAQDFOgEA2CsBAGYsAQANNwEAXEwBAJVBAQDZNgEAG0cBAAE4AQBlHwEA",
          "dtype": "i4"
         },
         "yaxis": "y2"
        }
       ],
       "layout": {
        "annotations": [
         {
          "showarrow": false,
          "text": "Select X-axis Variable:",
          "x": 0.86,
          "xref": "paper",
          "y": 1.1,
          "yref": "paper"
         },
         {
          "showarrow": false,
          "text": "Plot Type:",
          "x": 0,
          "xref": "paper",
          "y": 1.1,
          "yref": "paper"
         }
        ],
        "autosize": false,
        "bargap": 0.15,
        "height": 500,
        "margin": {
         "b": 20,
         "l": 20,
         "r": 20,
         "t": 100
        },
        "template": {
         "data": {
          "bar": [
           {
            "error_x": {
             "color": "#2a3f5f"
            },
            "error_y": {
             "color": "#2a3f5f"
            },
            "marker": {
             "line": {
              "color": "#E5ECF6",
              "width": 0.5
             },
             "pattern": {
              "fillmode": "overlay",
              "size": 10,
              "solidity": 0.2
             }
            },
            "type": "bar"
           }
          ],
          "barpolar": [
           {
            "marker": {
             "line": {
              "color": "#E5ECF6",
              "width": 0.5
             },
             "pattern": {
              "fillmode": "overlay",
              "size": 10,
              "solidity": 0.2
             }
            },
            "type": "barpolar"
           }
          ],
          "carpet": [
           {
            "aaxis": {
             "endlinecolor": "#2a3f5f",
             "gridcolor": "white",
             "linecolor": "white",
             "minorgridcolor": "white",
             "startlinecolor": "#2a3f5f"
            },
            "baxis": {
             "endlinecolor": "#2a3f5f",
             "gridcolor": "white",
             "linecolor": "white",
             "minorgridcolor": "white",
             "startlinecolor": "#2a3f5f"
            },
            "type": "carpet"
           }
          ],
          "choropleth": [
           {
            "colorbar": {
             "outlinewidth": 0,
             "ticks": ""
            },
            "type": "choropleth"
           }
          ],
          "contour": [
           {
            "colorbar": {
             "outlinewidth": 0,
             "ticks": ""
            },
            "colorscale": [
             [
              0,
              "#0d0887"
             ],
             [
              0.1111111111111111,
              "#46039f"
             ],
             [
              0.2222222222222222,
              "#7201a8"
             ],
             [
              0.3333333333333333,
              "#9c179e"
             ],
             [
              0.4444444444444444,
              "#bd3786"
             ],
             [
              0.5555555555555556,
              "#d8576b"
             ],
             [
              0.6666666666666666,
              "#ed7953"
             ],
             [
              0.7777777777777778,
              "#fb9f3a"
             ],
             [
              0.8888888888888888,
              "#fdca26"
             ],
             [
              1,
              "#f0f921"
             ]
            ],
            "type": "contour"
           }
          ],
          "contourcarpet": [
           {
            "colorbar": {
             "outlinewidth": 0,
             "ticks": ""
            },
            "type": "contourcarpet"
           }
          ],
          "heatmap": [
           {
            "colorbar": {
             "outlinewidth": 0,
             "ticks": ""
            },
            "colorscale": [
             [
              0,
              "#0d0887"
             ],
             [
              0.1111111111111111,
              "#46039f"
             ],
             [
              0.2222222222222222,
              "#7201a8"
             ],
             [
              0.3333333333333333,
              "#9c179e"
             ],
             [
              0.4444444444444444,
              "#bd3786"
             ],
             [
              0.5555555555555556,
              "#d8576b"
             ],
             [
              0.6666666666666666,
              "#ed7953"
             ],
             [
              0.7777777777777778,
              "#fb9f3a"
             ],
             [
              0.8888888888888888,
              "#fdca26"
             ],
             [
              1,
              "#f0f921"
             ]
            ],
            "type": "heatmap"
           }
          ],
          "histogram": [
           {
            "marker": {
             "pattern": {
              "fillmode": "overlay",
              "size": 10,
              "solidity": 0.2
             }
            },
            "type": "histogram"
           }
          ],
          "histogram2d": [
           {
            "colorbar": {
             "outlinewidth": 0,
             "ticks": ""
            },
            "colorscale": [
             [
              0,
              "#0d0887"
             ],
             [
              0.1111111111111111,
              "#46039f"
             ],
             [
              0.2222222222222222,
              "#7201a8"
             ],
             [
              0.3333333333333333,
              "#9c179e"
             ],
             [
              0.4444444444444444,
              "#bd3786"
             ],
             [
              0.5555555555555556,
              "#d8576b"
             ],
             [
              0.6666666666666666,
              "#ed7953"
             ],
             [
              0.7777777777777778,
              "#fb9f3a"
             ],
             [
              0.8888888888888888,
              "#fdca26"
             ],
             [
              1,
              "#f0f921"
             ]
            ],
            "type": "histogram2d"
           }
          ],
          "histogram2dcontour": [
           {
            "colorbar": {
             "outlinewidth": 0,
             "ticks": ""
            },
            "colorscale": [
             [
              0,
              "#0d0887"
             ],
             [
              0.1111111111111111,
              "#46039f"
             ],
             [
              0.2222222222222222,
              "#7201a8"
             ],
             [
              0.3333333333333333,
              "#9c179e"
             ],
             [
              0.4444444444444444,
              "#bd3786"
             ],
             [
              0.5555555555555556,
              "#d8576b"
             ],
             [
              0.6666666666666666,
              "#ed7953"
             ],
             [
              0.7777777777777778,
              "#fb9f3a"
             ],
             [
              0.8888888888888888,
              "#fdca26"
             ],
             [
              1,
              "#f0f921"
             ]
            ],
            "type": "histogram2dcontour"
           }
          ],
          "mesh3d": [
           {
            "colorbar": {
             "outlinewidth": 0,
             "ticks": ""
            },
            "type": "mesh3d"
           }
          ],
          "parcoords": [
           {
            "line": {
             "colorbar": {
              "outlinewidth": 0,
              "ticks": ""
             }
            },
            "type": "parcoords"
           }
          ],
          "pie": [
           {
            "automargin": true,
            "type": "pie"
           }
          ],
          "scatter": [
           {
            "fillpattern": {
             "fillmode": "overlay",
             "size": 10,
             "solidity": 0.2
            },
            "type": "scatter"
           }
          ],
          "scatter3d": [
           {
            "line": {
             "colorbar": {
              "outlinewidth": 0,
              "ticks": ""
             }
            },
            "marker": {
             "colorbar": {
              "outlinewidth": 0,
              "ticks": ""
             }
            },
            "type": "scatter3d"
           }
          ],
          "scattercarpet": [
           {
            "marker": {
             "colorbar": {
              "outlinewidth": 0,
              "ticks": ""
             }
            },
            "type": "scattercarpet"
           }
          ],
          "scattergeo": [
           {
            "marker": {
             "colorbar": {
              "outlinewidth": 0,
              "ticks": ""
             }
            },
            "type": "scattergeo"
           }
          ],
          "scattergl": [
           {
            "marker": {
             "colorbar": {
              "outlinewidth": 0,
              "ticks": ""
             }
            },
            "type": "scattergl"
           }
          ],
          "scattermap": [
           {
            "marker": {
             "colorbar": {
              "outlinewidth": 0,
              "ticks": ""
             }
            },
            "type": "scattermap"
           }
          ],
          "scattermapbox": [
           {
            "marker": {
             "colorbar": {
              "outlinewidth": 0,
              "ticks": ""
             }
            },
            "type": "scattermapbox"
           }
          ],
          "scatterpolar": [
           {
            "marker": {
             "colorbar": {
              "outlinewidth": 0,
              "ticks": ""
             }
            },
            "type": "scatterpolar"
           }
          ],
          "scatterpolargl": [
           {
            "marker": {
             "colorbar": {
              "outlinewidth": 0,
              "ticks": ""
             }
            },
            "type": "scatterpolargl"
           }
          ],
          "scatterternary": [
           {
            "marker": {
             "colorbar": {
              "outlinewidth": 0,
              "ticks": ""
             }
            },
            "type": "scatterternary"
           }
          ],
          "surface": [
           {
            "colorbar": {
             "outlinewidth": 0,
             "ticks": ""
            },
            "colorscale": [
             [
              0,
              "#0d0887"
             ],
             [
              0.1111111111111111,
              "#46039f"
             ],
             [
              0.2222222222222222,
              "#7201a8"
             ],
             [
              0.3333333333333333,
              "#9c179e"
             ],
             [
              0.4444444444444444,
              "#bd3786"
             ],
             [
              0.5555555555555556,
              "#d8576b"
             ],
             [
              0.6666666666666666,
              "#ed7953"
             ],
             [
              0.7777777777777778,
              "#fb9f3a"
             ],
             [
              0.8888888888888888,
              "#fdca26"
             ],
             [
              1,
              "#f0f921"
             ]
            ],
            "type": "surface"
           }
          ],
          "table": [
           {
            "cells": {
             "fill": {
              "color": "#EBF0F8"
             },
             "line": {
              "color": "white"
             }
            },
            "header": {
             "fill": {
              "color": "#C8D4E3"
             },
             "line": {
              "color": "white"
             }
            },
            "type": "table"
           }
          ]
         },
         "layout": {
          "annotationdefaults": {
           "arrowcolor": "#2a3f5f",
           "arrowhead": 0,
           "arrowwidth": 1
          },
          "autotypenumbers": "strict",
          "coloraxis": {
           "colorbar": {
            "outlinewidth": 0,
            "ticks": ""
           }
          },
          "colorscale": {
           "diverging": [
            [
             0,
             "#8e0152"
            ],
            [
             0.1,
             "#c51b7d"
            ],
            [
             0.2,
             "#de77ae"
            ],
            [
             0.3,
             "#f1b6da"
            ],
            [
             0.4,
             "#fde0ef"
            ],
            [
             0.5,
             "#f7f7f7"
            ],
            [
             0.6,
             "#e6f5d0"
            ],
            [
             0.7,
             "#b8e186"
            ],
            [
             0.8,
             "#7fbc41"
            ],
            [
             0.9,
             "#4d9221"
            ],
            [
             1,
             "#276419"
            ]
           ],
           "sequential": [
            [
             0,
             "#0d0887"
            ],
            [
             0.1111111111111111,
             "#46039f"
            ],
            [
             0.2222222222222222,
             "#7201a8"
            ],
            [
             0.3333333333333333,
             "#9c179e"
            ],
            [
             0.4444444444444444,
             "#bd3786"
            ],
            [
             0.5555555555555556,
             "#d8576b"
            ],
            [
             0.6666666666666666,
             "#ed7953"
            ],
            [
             0.7777777777777778,
             "#fb9f3a"
            ],
            [
             0.8888888888888888,
             "#fdca26"
            ],
            [
             1,
             "#f0f921"
            ]
           ],
           "sequentialminus": [
            [
             0,
             "#0d0887"
            ],
            [
             0.1111111111111111,
             "#46039f"
            ],
            [
             0.2222222222222222,
             "#7201a8"
            ],
            [
             0.3333333333333333,
             "#9c179e"
            ],
            [
             0.4444444444444444,
             "#bd3786"
            ],
            [
             0.5555555555555556,
             "#d8576b"
            ],
            [
             0.6666666666666666,
             "#ed7953"
            ],
            [
             0.7777777777777778,
             "#fb9f3a"
            ],
            [
             0.8888888888888888,
             "#fdca26"
            ],
            [
             1,
             "#f0f921"
            ]
           ]
          },
          "colorway": [
           "#636efa",
           "#EF553B",
           "#00cc96",
           "#ab63fa",
           "#FFA15A",
           "#19d3f3",
           "#FF6692",
           "#B6E880",
           "#FF97FF",
           "#FECB52"
          ],
          "font": {
           "color": "#2a3f5f"
          },
          "geo": {
           "bgcolor": "white",
           "lakecolor": "white",
           "landcolor": "#E5ECF6",
           "showlakes": true,
           "showland": true,
           "subunitcolor": "white"
          },
          "hoverlabel": {
           "align": "left"
          },
          "hovermode": "closest",
          "mapbox": {
           "style": "light"
          },
          "paper_bgcolor": "white",
          "plot_bgcolor": "#E5ECF6",
          "polar": {
           "angularaxis": {
            "gridcolor": "white",
            "linecolor": "white",
            "ticks": ""
           },
           "bgcolor": "#E5ECF6",
           "radialaxis": {
            "gridcolor": "white",
            "linecolor": "white",
            "ticks": ""
           }
          },
          "scene": {
           "xaxis": {
            "backgroundcolor": "#E5ECF6",
            "gridcolor": "white",
            "gridwidth": 2,
            "linecolor": "white",
            "showbackground": true,
            "ticks": "",
            "zerolinecolor": "white"
           },
           "yaxis": {
            "backgroundcolor": "#E5ECF6",
            "gridcolor": "white",
            "gridwidth": 2,
            "linecolor": "white",
            "showbackground": true,
            "ticks": "",
            "zerolinecolor": "white"
           },
           "zaxis": {
            "backgroundcolor": "#E5ECF6",
            "gridcolor": "white",
            "gridwidth": 2,
            "linecolor": "white",
            "showbackground": true,
            "ticks": "",
            "zerolinecolor": "white"
           }
          },
          "shapedefaults": {
           "line": {
            "color": "#2a3f5f"
           }
          },
          "ternary": {
           "aaxis": {
            "gridcolor": "white",
            "linecolor": "white",
            "ticks": ""
           },
           "baxis": {
            "gridcolor": "white",
            "linecolor": "white",
            "ticks": ""
           },
           "bgcolor": "#E5ECF6",
           "caxis": {
            "gridcolor": "white",
            "linecolor": "white",
            "ticks": ""
           }
          },
          "title": {
           "x": 0.05
          },
          "xaxis": {
           "automargin": true,
           "gridcolor": "white",
           "linecolor": "white",
           "ticks": "",
           "title": {
            "standoff": 15
           },
           "zerolinecolor": "white",
           "zerolinewidth": 2
          },
          "yaxis": {
           "automargin": true,
           "gridcolor": "white",
           "linecolor": "white",
           "ticks": "",
           "title": {
            "standoff": 15
           },
           "zerolinecolor": "white",
           "zerolinewidth": 2
          }
         }
        },
        "title": {
         "text": "Units Resold By Quarter",
         "y": 0.95
        },
        "updatemenus": [
         {
          "buttons": [
           {
            "args": [
             {
              "visible": [
               true,
               true,
               true,
               true,
               true,
               false,
               false,
               false,
               false,
               false,
               false,
               false,
               false,
               false,
               false,
               false,
               false,
               false,
               false,
               false,
               false,
               false,
               false,
               false,
               false,
               false,
               false,
               false,
               false,
               false,
               false,
               false,
               false,
               false,
               false,
               false,
               false,
               false,
               false,
               false
              ]
             },
             {
              "xaxis.title": "Year",
              "xaxis2.title": "Year"
             }
            ],
            "label": "Year",
            "method": "update"
           },
           {
            "args": [
             {
              "visible": [
               false,
               false,
               false,
               false,
               false,
               false,
               false,
               false,
               false,
               false,
               true,
               true,
               true,
               true,
               true,
               false,
               false,
               false,
               false,
               false,
               false,
               false,
               false,
               false,
               false,
               false,
               false,
               false,
               false,
               false,
               false,
               false,
               false,
               false,
               false,
               false,
               false,
               false,
               false,
               false
              ]
             },
             {
              "xaxis.title": "Lease Year",
              "xaxis2.title": "Lease Year"
             }
            ],
            "label": "Lease Year",
            "method": "update"
           },
           {
            "args": [
             {
              "visible": [
               false,
               false,
               false,
               false,
               false,
               false,
               false,
               false,
               false,
               false,
               false,
               false,
               false,
               false,
               false,
               false,
               false,
               false,
               false,
               false,
               true,
               true,
               true,
               true,
               true,
               false,
               false,
               false,
               false,
               false,
               false,
               false,
               false,
               false,
               false,
               false,
               false,
               false,
               false,
               false
              ]
             },
             {
              "xaxis.title": "Years Leased",
              "xaxis2.title": "Years Leased"
             }
            ],
            "label": "Years Leased",
            "method": "update"
           },
           {
            "args": [
             {
              "visible": [
               false,
               false,
               false,
               false,
               false,
               false,
               false,
               false,
               false,
               false,
               false,
               false,
               false,
               false,
               false,
               false,
               false,
               false,
               false,
               false,
               false,
               false,
               false,
               false,
               false,
               false,
               false,
               false,
               false,
               false,
               true,
               true,
               true,
               true,
               true,
               false,
               false,
               false,
               false,
               false
              ]
             },
             {
              "xaxis.title": "Month",
              "xaxis2.title": "Month"
             }
            ],
            "label": "Month",
            "method": "update"
           }
          ],
          "direction": "down",
          "pad": {
           "r": 10,
           "t": 10
          },
          "showactive": true,
          "x": 1.01,
          "xanchor": "right",
          "y": 1.15,
          "yanchor": "top"
         },
         {
          "buttons": [
           {
            "args": [
             {
              "visible": [
               true,
               true,
               true,
               true,
               true,
               false,
               false,
               false,
               false,
               false,
               false,
               false,
               false,
               false,
               false,
               false,
               false,
               false,
               false,
               false,
               false,
               false,
               false,
               false,
               false,
               false,
               false,
               false,
               false,
               false,
               false,
               false,
               false,
               false,
               false,
               false,
               false,
               false,
               false,
               false
              ]
             },
             {
              "barmode": "group"
             }
            ],
            "label": "Line Plot",
            "method": "update"
           },
           {
            "args": [
             {
              "visible": [
               false,
               false,
               false,
               false,
               false,
               true,
               true,
               true,
               true,
               true,
               false,
               false,
               false,
               false,
               false,
               false,
               false,
               false,
               false,
               false,
               false,
               false,
               false,
               false,
               false,
               false,
               false,
               false,
               false,
               false,
               false,
               false,
               false,
               false,
               false,
               false,
               false,
               false,
               false,
               false
              ]
             },
             {
              "barmode": "stack"
             }
            ],
            "label": "Bar Plot",
            "method": "update"
           }
          ],
          "direction": "right",
          "pad": {
           "r": 10,
           "t": 10
          },
          "showactive": true,
          "type": "buttons",
          "x": 0.26,
          "xanchor": "right",
          "y": 1.15,
          "yanchor": "top"
         }
        ],
        "width": 1100,
        "xaxis": {
         "anchor": "y",
         "domain": [
          0,
          1
         ],
         "title": {
          "text": "Year"
         }
        },
        "xaxis2": {
         "anchor": "y2",
         "domain": [
          0,
          1
         ],
         "title": {
          "text": "Year"
         }
        },
        "yaxis": {
         "anchor": "x",
         "domain": [
          0.32,
          1
         ],
         "title": {
          "text": "Units Resold"
         }
        },
        "yaxis2": {
         "anchor": "x2",
         "domain": [
          0,
          0.17
         ]
        }
       }
      }
     },
     "metadata": {},
     "output_type": "display_data"
    }
   ],
   "source": [
    "catplots(df_p, x_vars, 'quarter', 'Units Resold By Quarter', 'count')"
   ]
  },
  {
   "cell_type": "code",
   "execution_count": 71,
   "id": "5423d453",
   "metadata": {},
   "outputs": [
    {
     "data": {
      "application/vnd.plotly.v1+json": {
       "config": {
        "plotlyServerURL": "https://plot.ly"
       },
       "data": [
        {
         "line": {
          "color": "gray"
         },
         "mode": "lines",
         "name": "month",
         "type": "scatter",
         "visible": true,
         "x": {
          "bdata": "AQIDBAUGBwgJCgsM",
          "dtype": "i1"
         },
         "y": {
          "bdata": "OioBAGkEAQDFOgEA2CsBAGYsAQANNwEAXEwBAJVBAQDZNgEAG0cBAAE4AQBlHwEA",
          "dtype": "i4"
         }
        },
        {
         "line": {
          "color": "gray"
         },
         "mode": "lines",
         "name": "date",
         "type": "scatter",
         "visible": false,
         "x": [
          "1990-01-01T00:00:00.000000000",
          "1990-02-01T00:00:00.000000000",
          "1990-03-01T00:00:00.000000000",
          "1990-04-01T00:00:00.000000000",
          "1990-05-01T00:00:00.000000000",
          "1990-06-01T00:00:00.000000000",
          "1990-07-01T00:00:00.000000000",
          "1990-08-01T00:00:00.000000000",
          "1990-09-01T00:00:00.000000000",
          "1990-10-01T00:00:00.000000000",
          "1990-11-01T00:00:00.000000000",
          "1990-12-01T00:00:00.000000000",
          "1991-01-01T00:00:00.000000000",
          "1991-02-01T00:00:00.000000000",
          "1991-03-01T00:00:00.000000000",
          "1991-04-01T00:00:00.000000000",
          "1991-05-01T00:00:00.000000000",
          "1991-06-01T00:00:00.000000000",
          "1991-07-01T00:00:00.000000000",
          "1991-08-01T00:00:00.000000000",
          "1991-09-01T00:00:00.000000000",
          "1991-10-01T00:00:00.000000000",
          "1991-11-01T00:00:00.000000000",
          "1991-12-01T00:00:00.000000000",
          "1992-01-01T00:00:00.000000000",
          "1992-02-01T00:00:00.000000000",
          "1992-03-01T00:00:00.000000000",
          "1992-04-01T00:00:00.000000000",
          "1992-05-01T00:00:00.000000000",
          "1992-06-01T00:00:00.000000000",
          "1992-07-01T00:00:00.000000000",
          "1992-08-01T00:00:00.000000000",
          "1992-09-01T00:00:00.000000000",
          "1992-10-01T00:00:00.000000000",
          "1992-11-01T00:00:00.000000000",
          "1992-12-01T00:00:00.000000000",
          "1993-01-01T00:00:00.000000000",
          "1993-02-01T00:00:00.000000000",
          "1993-03-01T00:00:00.000000000",
          "1993-04-01T00:00:00.000000000",
          "1993-05-01T00:00:00.000000000",
          "1993-06-01T00:00:00.000000000",
          "1993-07-01T00:00:00.000000000",
          "1993-08-01T00:00:00.000000000",
          "1993-09-01T00:00:00.000000000",
          "1993-10-01T00:00:00.000000000",
          "1993-11-01T00:00:00.000000000",
          "1993-12-01T00:00:00.000000000",
          "1994-01-01T00:00:00.000000000",
          "1994-02-01T00:00:00.000000000",
          "1994-03-01T00:00:00.000000000",
          "1994-04-01T00:00:00.000000000",
          "1994-05-01T00:00:00.000000000",
          "1994-06-01T00:00:00.000000000",
          "1994-07-01T00:00:00.000000000",
          "1994-08-01T00:00:00.000000000",
          "1994-09-01T00:00:00.000000000",
          "1994-10-01T00:00:00.000000000",
          "1994-11-01T00:00:00.000000000",
          "1994-12-01T00:00:00.000000000",
          "1995-01-01T00:00:00.000000000",
          "1995-02-01T00:00:00.000000000",
          "1995-03-01T00:00:00.000000000",
          "1995-04-01T00:00:00.000000000",
          "1995-05-01T00:00:00.000000000",
          "1995-06-01T00:00:00.000000000",
          "1995-07-01T00:00:00.000000000",
          "1995-08-01T00:00:00.000000000",
          "1995-09-01T00:00:00.000000000",
          "1995-10-01T00:00:00.000000000",
          "1995-11-01T00:00:00.000000000",
          "1995-12-01T00:00:00.000000000",
          "1996-01-01T00:00:00.000000000",
          "1996-02-01T00:00:00.000000000",
          "1996-03-01T00:00:00.000000000",
          "1996-04-01T00:00:00.000000000",
          "1996-05-01T00:00:00.000000000",
          "1996-06-01T00:00:00.000000000",
          "1996-07-01T00:00:00.000000000",
          "1996-08-01T00:00:00.000000000",
          "1996-09-01T00:00:00.000000000",
          "1996-10-01T00:00:00.000000000",
          "1996-11-01T00:00:00.000000000",
          "1996-12-01T00:00:00.000000000",
          "1997-01-01T00:00:00.000000000",
          "1997-02-01T00:00:00.000000000",
          "1997-03-01T00:00:00.000000000",
          "1997-04-01T00:00:00.000000000",
          "1997-05-01T00:00:00.000000000",
          "1997-06-01T00:00:00.000000000",
          "1997-07-01T00:00:00.000000000",
          "1997-08-01T00:00:00.000000000",
          "1997-09-01T00:00:00.000000000",
          "1997-10-01T00:00:00.000000000",
          "1997-11-01T00:00:00.000000000",
          "1997-12-01T00:00:00.000000000",
          "1998-01-01T00:00:00.000000000",
          "1998-02-01T00:00:00.000000000",
          "1998-03-01T00:00:00.000000000",
          "1998-04-01T00:00:00.000000000",
          "1998-05-01T00:00:00.000000000",
          "1998-06-01T00:00:00.000000000",
          "1998-07-01T00:00:00.000000000",
          "1998-08-01T00:00:00.000000000",
          "1998-09-01T00:00:00.000000000",
          "1998-10-01T00:00:00.000000000",
          "1998-11-01T00:00:00.000000000",
          "1998-12-01T00:00:00.000000000",
          "1999-01-01T00:00:00.000000000",
          "1999-02-01T00:00:00.000000000",
          "1999-03-01T00:00:00.000000000",
          "1999-04-01T00:00:00.000000000",
          "1999-05-01T00:00:00.000000000",
          "1999-06-01T00:00:00.000000000",
          "1999-07-01T00:00:00.000000000",
          "1999-08-01T00:00:00.000000000",
          "1999-09-01T00:00:00.000000000",
          "1999-10-01T00:00:00.000000000",
          "1999-11-01T00:00:00.000000000",
          "1999-12-01T00:00:00.000000000",
          "2000-01-01T00:00:00.000000000",
          "2000-02-01T00:00:00.000000000",
          "2000-03-01T00:00:00.000000000",
          "2000-04-01T00:00:00.000000000",
          "2000-05-01T00:00:00.000000000",
          "2000-06-01T00:00:00.000000000",
          "2000-07-01T00:00:00.000000000",
          "2000-08-01T00:00:00.000000000",
          "2000-09-01T00:00:00.000000000",
          "2000-10-01T00:00:00.000000000",
          "2000-11-01T00:00:00.000000000",
          "2000-12-01T00:00:00.000000000",
          "2001-01-01T00:00:00.000000000",
          "2001-02-01T00:00:00.000000000",
          "2001-03-01T00:00:00.000000000",
          "2001-04-01T00:00:00.000000000",
          "2001-05-01T00:00:00.000000000",
          "2001-06-01T00:00:00.000000000",
          "2001-07-01T00:00:00.000000000",
          "2001-08-01T00:00:00.000000000",
          "2001-09-01T00:00:00.000000000",
          "2001-10-01T00:00:00.000000000",
          "2001-11-01T00:00:00.000000000",
          "2001-12-01T00:00:00.000000000",
          "2002-01-01T00:00:00.000000000",
          "2002-02-01T00:00:00.000000000",
          "2002-03-01T00:00:00.000000000",
          "2002-04-01T00:00:00.000000000",
          "2002-05-01T00:00:00.000000000",
          "2002-06-01T00:00:00.000000000",
          "2002-07-01T00:00:00.000000000",
          "2002-08-01T00:00:00.000000000",
          "2002-09-01T00:00:00.000000000",
          "2002-10-01T00:00:00.000000000",
          "2002-11-01T00:00:00.000000000",
          "2002-12-01T00:00:00.000000000",
          "2003-01-01T00:00:00.000000000",
          "2003-02-01T00:00:00.000000000",
          "2003-03-01T00:00:00.000000000",
          "2003-04-01T00:00:00.000000000",
          "2003-05-01T00:00:00.000000000",
          "2003-06-01T00:00:00.000000000",
          "2003-07-01T00:00:00.000000000",
          "2003-08-01T00:00:00.000000000",
          "2003-09-01T00:00:00.000000000",
          "2003-10-01T00:00:00.000000000",
          "2003-11-01T00:00:00.000000000",
          "2003-12-01T00:00:00.000000000",
          "2004-01-01T00:00:00.000000000",
          "2004-02-01T00:00:00.000000000",
          "2004-03-01T00:00:00.000000000",
          "2004-04-01T00:00:00.000000000",
          "2004-05-01T00:00:00.000000000",
          "2004-06-01T00:00:00.000000000",
          "2004-07-01T00:00:00.000000000",
          "2004-08-01T00:00:00.000000000",
          "2004-09-01T00:00:00.000000000",
          "2004-10-01T00:00:00.000000000",
          "2004-11-01T00:00:00.000000000",
          "2004-12-01T00:00:00.000000000",
          "2005-01-01T00:00:00.000000000",
          "2005-02-01T00:00:00.000000000",
          "2005-03-01T00:00:00.000000000",
          "2005-04-01T00:00:00.000000000",
          "2005-05-01T00:00:00.000000000",
          "2005-06-01T00:00:00.000000000",
          "2005-07-01T00:00:00.000000000",
          "2005-08-01T00:00:00.000000000",
          "2005-09-01T00:00:00.000000000",
          "2005-10-01T00:00:00.000000000",
          "2005-11-01T00:00:00.000000000",
          "2005-12-01T00:00:00.000000000",
          "2006-01-01T00:00:00.000000000",
          "2006-02-01T00:00:00.000000000",
          "2006-03-01T00:00:00.000000000",
          "2006-04-01T00:00:00.000000000",
          "2006-05-01T00:00:00.000000000",
          "2006-06-01T00:00:00.000000000",
          "2006-07-01T00:00:00.000000000",
          "2006-08-01T00:00:00.000000000",
          "2006-09-01T00:00:00.000000000",
          "2006-10-01T00:00:00.000000000",
          "2006-11-01T00:00:00.000000000",
          "2006-12-01T00:00:00.000000000",
          "2007-01-01T00:00:00.000000000",
          "2007-02-01T00:00:00.000000000",
          "2007-03-01T00:00:00.000000000",
          "2007-04-01T00:00:00.000000000",
          "2007-05-01T00:00:00.000000000",
          "2007-06-01T00:00:00.000000000",
          "2007-07-01T00:00:00.000000000",
          "2007-08-01T00:00:00.000000000",
          "2007-09-01T00:00:00.000000000",
          "2007-10-01T00:00:00.000000000",
          "2007-11-01T00:00:00.000000000",
          "2007-12-01T00:00:00.000000000",
          "2008-01-01T00:00:00.000000000",
          "2008-02-01T00:00:00.000000000",
          "2008-03-01T00:00:00.000000000",
          "2008-04-01T00:00:00.000000000",
          "2008-05-01T00:00:00.000000000",
          "2008-06-01T00:00:00.000000000",
          "2008-07-01T00:00:00.000000000",
          "2008-08-01T00:00:00.000000000",
          "2008-09-01T00:00:00.000000000",
          "2008-10-01T00:00:00.000000000",
          "2008-11-01T00:00:00.000000000",
          "2008-12-01T00:00:00.000000000",
          "2009-01-01T00:00:00.000000000",
          "2009-02-01T00:00:00.000000000",
          "2009-03-01T00:00:00.000000000",
          "2009-04-01T00:00:00.000000000",
          "2009-05-01T00:00:00.000000000",
          "2009-06-01T00:00:00.000000000",
          "2009-07-01T00:00:00.000000000",
          "2009-08-01T00:00:00.000000000",
          "2009-09-01T00:00:00.000000000",
          "2009-10-01T00:00:00.000000000",
          "2009-11-01T00:00:00.000000000",
          "2009-12-01T00:00:00.000000000",
          "2010-01-01T00:00:00.000000000",
          "2010-02-01T00:00:00.000000000",
          "2010-03-01T00:00:00.000000000",
          "2010-04-01T00:00:00.000000000",
          "2010-05-01T00:00:00.000000000",
          "2010-06-01T00:00:00.000000000",
          "2010-07-01T00:00:00.000000000",
          "2010-08-01T00:00:00.000000000",
          "2010-09-01T00:00:00.000000000",
          "2010-10-01T00:00:00.000000000",
          "2010-11-01T00:00:00.000000000",
          "2010-12-01T00:00:00.000000000",
          "2011-01-01T00:00:00.000000000",
          "2011-02-01T00:00:00.000000000",
          "2011-03-01T00:00:00.000000000",
          "2011-04-01T00:00:00.000000000",
          "2011-05-01T00:00:00.000000000",
          "2011-06-01T00:00:00.000000000",
          "2011-07-01T00:00:00.000000000",
          "2011-08-01T00:00:00.000000000",
          "2011-09-01T00:00:00.000000000",
          "2011-10-01T00:00:00.000000000",
          "2011-11-01T00:00:00.000000000",
          "2011-12-01T00:00:00.000000000",
          "2012-01-01T00:00:00.000000000",
          "2012-02-01T00:00:00.000000000",
          "2012-03-01T00:00:00.000000000",
          "2012-04-01T00:00:00.000000000",
          "2012-05-01T00:00:00.000000000",
          "2012-06-01T00:00:00.000000000",
          "2012-07-01T00:00:00.000000000",
          "2012-08-01T00:00:00.000000000",
          "2012-09-01T00:00:00.000000000",
          "2012-10-01T00:00:00.000000000",
          "2012-11-01T00:00:00.000000000",
          "2012-12-01T00:00:00.000000000",
          "2013-01-01T00:00:00.000000000",
          "2013-02-01T00:00:00.000000000",
          "2013-03-01T00:00:00.000000000",
          "2013-04-01T00:00:00.000000000",
          "2013-05-01T00:00:00.000000000",
          "2013-06-01T00:00:00.000000000",
          "2013-07-01T00:00:00.000000000",
          "2013-08-01T00:00:00.000000000",
          "2013-09-01T00:00:00.000000000",
          "2013-10-01T00:00:00.000000000",
          "2013-11-01T00:00:00.000000000",
          "2013-12-01T00:00:00.000000000",
          "2014-01-01T00:00:00.000000000",
          "2014-02-01T00:00:00.000000000",
          "2014-03-01T00:00:00.000000000",
          "2014-04-01T00:00:00.000000000",
          "2014-05-01T00:00:00.000000000",
          "2014-06-01T00:00:00.000000000",
          "2014-07-01T00:00:00.000000000",
          "2014-08-01T00:00:00.000000000",
          "2014-09-01T00:00:00.000000000",
          "2014-10-01T00:00:00.000000000",
          "2014-11-01T00:00:00.000000000",
          "2014-12-01T00:00:00.000000000",
          "2015-01-01T00:00:00.000000000",
          "2015-02-01T00:00:00.000000000",
          "2015-03-01T00:00:00.000000000",
          "2015-04-01T00:00:00.000000000",
          "2015-05-01T00:00:00.000000000",
          "2015-06-01T00:00:00.000000000",
          "2015-07-01T00:00:00.000000000",
          "2015-08-01T00:00:00.000000000",
          "2015-09-01T00:00:00.000000000",
          "2015-10-01T00:00:00.000000000",
          "2015-11-01T00:00:00.000000000",
          "2015-12-01T00:00:00.000000000",
          "2016-01-01T00:00:00.000000000",
          "2016-02-01T00:00:00.000000000",
          "2016-03-01T00:00:00.000000000",
          "2016-04-01T00:00:00.000000000",
          "2016-05-01T00:00:00.000000000",
          "2016-06-01T00:00:00.000000000",
          "2016-07-01T00:00:00.000000000",
          "2016-08-01T00:00:00.000000000",
          "2016-09-01T00:00:00.000000000",
          "2016-10-01T00:00:00.000000000",
          "2016-11-01T00:00:00.000000000",
          "2016-12-01T00:00:00.000000000",
          "2017-01-01T00:00:00.000000000",
          "2017-02-01T00:00:00.000000000",
          "2017-03-01T00:00:00.000000000",
          "2017-04-01T00:00:00.000000000",
          "2017-05-01T00:00:00.000000000",
          "2017-06-01T00:00:00.000000000",
          "2017-07-01T00:00:00.000000000",
          "2017-08-01T00:00:00.000000000",
          "2017-09-01T00:00:00.000000000",
          "2017-10-01T00:00:00.000000000",
          "2017-11-01T00:00:00.000000000",
          "2017-12-01T00:00:00.000000000",
          "2018-01-01T00:00:00.000000000",
          "2018-02-01T00:00:00.000000000",
          "2018-03-01T00:00:00.000000000",
          "2018-04-01T00:00:00.000000000",
          "2018-05-01T00:00:00.000000000",
          "2018-06-01T00:00:00.000000000",
          "2018-07-01T00:00:00.000000000",
          "2018-08-01T00:00:00.000000000",
          "2018-09-01T00:00:00.000000000",
          "2018-10-01T00:00:00.000000000",
          "2018-11-01T00:00:00.000000000",
          "2018-12-01T00:00:00.000000000",
          "2019-01-01T00:00:00.000000000",
          "2019-02-01T00:00:00.000000000",
          "2019-03-01T00:00:00.000000000",
          "2019-04-01T00:00:00.000000000",
          "2019-05-01T00:00:00.000000000",
          "2019-06-01T00:00:00.000000000",
          "2019-07-01T00:00:00.000000000",
          "2019-08-01T00:00:00.000000000",
          "2019-09-01T00:00:00.000000000",
          "2019-10-01T00:00:00.000000000",
          "2019-11-01T00:00:00.000000000",
          "2019-12-01T00:00:00.000000000",
          "2020-01-01T00:00:00.000000000",
          "2020-02-01T00:00:00.000000000",
          "2020-03-01T00:00:00.000000000",
          "2020-04-01T00:00:00.000000000",
          "2020-05-01T00:00:00.000000000",
          "2020-06-01T00:00:00.000000000",
          "2020-07-01T00:00:00.000000000",
          "2020-08-01T00:00:00.000000000",
          "2020-09-01T00:00:00.000000000",
          "2020-10-01T00:00:00.000000000",
          "2020-11-01T00:00:00.000000000",
          "2020-12-01T00:00:00.000000000",
          "2021-01-01T00:00:00.000000000",
          "2021-02-01T00:00:00.000000000",
          "2021-03-01T00:00:00.000000000",
          "2021-04-01T00:00:00.000000000",
          "2021-05-01T00:00:00.000000000",
          "2021-06-01T00:00:00.000000000",
          "2021-07-01T00:00:00.000000000",
          "2021-08-01T00:00:00.000000000",
          "2021-09-01T00:00:00.000000000",
          "2021-10-01T00:00:00.000000000",
          "2021-11-01T00:00:00.000000000",
          "2021-12-01T00:00:00.000000000",
          "2022-01-01T00:00:00.000000000",
          "2022-02-01T00:00:00.000000000",
          "2022-03-01T00:00:00.000000000",
          "2022-04-01T00:00:00.000000000",
          "2022-05-01T00:00:00.000000000",
          "2022-06-01T00:00:00.000000000",
          "2022-07-01T00:00:00.000000000",
          "2022-08-01T00:00:00.000000000",
          "2022-09-01T00:00:00.000000000",
          "2022-10-01T00:00:00.000000000",
          "2022-11-01T00:00:00.000000000",
          "2022-12-01T00:00:00.000000000",
          "2023-01-01T00:00:00.000000000",
          "2023-02-01T00:00:00.000000000",
          "2023-03-01T00:00:00.000000000",
          "2023-04-01T00:00:00.000000000",
          "2023-05-01T00:00:00.000000000",
          "2023-06-01T00:00:00.000000000",
          "2023-07-01T00:00:00.000000000",
          "2023-08-01T00:00:00.000000000",
          "2023-09-01T00:00:00.000000000",
          "2023-10-01T00:00:00.000000000",
          "2023-11-01T00:00:00.000000000",
          "2023-12-01T00:00:00.000000000",
          "2024-01-01T00:00:00.000000000",
          "2024-02-01T00:00:00.000000000",
          "2024-03-01T00:00:00.000000000",
          "2024-04-01T00:00:00.000000000",
          "2024-05-01T00:00:00.000000000",
          "2024-06-01T00:00:00.000000000",
          "2024-07-01T00:00:00.000000000",
          "2024-08-01T00:00:00.000000000",
          "2024-09-01T00:00:00.000000000",
          "2024-10-01T00:00:00.000000000",
          "2024-11-01T00:00:00.000000000"
         ],
         "y": {
          "bdata": "4wWjA34EFwQKAzgDfQU2BGEDKgNCBPwD5QQwA1YDmAOxA0QD3wSLBLYEnwRlBRoEsgS6A1kEKwR0BCMEDgXlBHQFSQVgBQ8FdgRyBFkEHwR9BMYElwXQBcwGHwfeCfAIcgrnCecKeQluB20IaQgACCkH8AYiB7sILwjkBRUHZwaQBnYHFAmzCfgJ0AtbDA4M6AwJCZEL1Qn8Cm4LFwwBDAILrQ0BC9sK7AmKCF4KNwuRDPgKWgv8CV8JsgqACJQKdAuiDW8OQQ+RDtUPLRFcEZgSTRaBE3wTwhLiEkEZQhYnFuUWdRVZFNQOxw4eDfwKUgkJCaMJ9AmeDNMMrAteDBAMnwz8DBYL5gpFC0sMFAwiDAENRg2sDJQMog0VDb0LOQ1JCisM5AziDBQL0gwNC70KVAwPC3wKkQpCB94IcAjgCHII4QiTCHcJIQvxCtsLYwrFCtcKkwhfCJ4IEQm+CE0JiQl5CQkKwAoMCaALugkPCQMKRQn9Cc4JygloCdcI9weHCJ8JLQhmCfIJYAmUCXIJjgjsCKEH8QiNBzwJEgh0CLAIPAnbCTkJigkSCYoH7QjsB2EIJQmCCN4ImgmVCLwJWwl4CQEI1gcZB7AJ+wiuCIgJcAr2CWQLaA0lC+sKCQtyCcAM3Av8Cr0NXw7iDLoL1QqgCOYHUwjSBscHvAemB+oHzAfCBv4GTwbRBiQGFwZdBjgJawgTCckHgwgbCOAGkQfHBtUFYQZ2AxoFnAZFBiUFzAVKBbwEbwW5BPADSgS/A6QFFQanBccESAUxBcAFGAZHBRgF4gR/BEQFXgYfBqoGDwapBdoF1Aa+BYQFAAWwBHcGIAclByMHJAZaB4QGjgYsBmIFoQQ9BG8HLwe8B9MG9AaoB5AG+Qa8BzEGMASfBFkHLgfMBrcH6wkTCMEHyAdKB48FDgYYBXUGewcWCFwHQghuByYHngh2BzgHdwd9BpEHqAFrAYYJmAl6CbIJewkSCbYJuwlwCIsJHQmlB/4IYwqzCtQJwwkGCnYJiglnB9YI1ghqCFcIOQkFCRIKpgdSCLoI9wktB+UIgQjFCD0HBAijCbYHjQhRCNQHPQpLCP4HQgm7CXsI3AsgCp8IZQiZBw==",
          "dtype": "i2"
         }
        },
        {
         "line": {
          "color": "gray"
         },
         "mode": "lines",
         "name": "years_leased",
         "type": "scatter",
         "visible": false,
         "x": {
          "bdata": "AAECAwQFBgcICQoLDA0ODxAREhMUFRYXGBkaGxwdHh8gISIjJCUmJygpKissLS4vMDEyMzQ1Njc4OTo=",
          "dtype": "i1"
         },
         "y": {
          "bdata": "ZAAAANMAAAAVAgAA3SMAAILFAABOygAA8pcAAJF/AAAHewAA4oEAANOGAADZhQAAToMAAH+GAAARhgAA2noAAAl1AAAJcgAAGXAAAOZtAADbbgAAvmsAAGpjAABBXwAAFVgAAGxUAADhTAAA5kYAAIlBAACQPAAAGTkAACg3AAAMMwAApDAAAFovAABYLAAA4ikAABAlAADSIQAACB4AAHYYAADdEwAACxIAACkRAAD8DgAAhwwAAJwKAAAbCAAAxwYAACwFAABEBAAAIQMAAO0CAABQAgAAzgEAAPUAAACBAAAAdAAAAAIAAAA=",
          "dtype": "i4"
         }
        },
        {
         "line": {
          "color": "gray"
         },
         "mode": "lines",
         "name": "storey_count",
         "type": "scatter",
         "visible": false,
         "x": {
          "bdata": "AgQ=",
          "dtype": "i1"
         },
         "y": {
          "bdata": "SEEOALYaAAA=",
          "dtype": "i4"
         }
        },
        {
         "line": {
          "color": "gray"
         },
         "mode": "lines",
         "name": "start_floor",
         "type": "scatter",
         "visible": false,
         "x": {
          "bdata": "AQQGBwoLDRATFRYZGhwfIiQlKCsuMQ==",
          "dtype": "i1"
         },
         "y": {
          "bdata": "w+wCAAuZAwCqCQAAGUADAJHEAgDrBAAAtfcAAONhAADELQAAXAAAAKodAADrDQAAJwAAALkGAACqAgAAcAIAAAcAAAAYAgAAAAEAAEQAAAA1AAAAEgAAAA==",
          "dtype": "i4"
         }
        },
        {
         "line": {
          "color": "gray"
         },
         "mode": "lines",
         "name": "floor_area_sqm",
         "type": "scatter",
         "visible": false,
         "x": {
          "bdata": "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",
          "dtype": "f8"
         },
         "y": {
          "bdata": "IQAAAKQBAABZAwAAUAAAABYAAAA4AAAAMAEAAJIAAAAIAwAAcwEAAO0CAADWAQAAawMAAKgHAACvCAAAgAcAAJcCAAACAAAAHgEAACMDAADMAAAAGQYAACoDAADcAQAAqAEAACkTAAADAAAA1gMAANUFAAAzOAAAAgAAAAIAAAD4LwAASwIAANMFAAAXBAAANgkAAMcAAAAjOgAAAgAAAAIAAAADAAAAbWkAAHMZAAAmEgEAAgAAAMCfAAACAAAAAQAAAPwTAAABAAAAAwAAAAEAAABAEQAAAAYAAFsIAABHbwAAAQAAAJdeAAABAAAAAQAAAMURAAABAAAAxRAAAEQGAACbBAAA0wUAAMACAADzCQAABUEAAFcXAAA8AAAAAQAAAHGOAADbEgAAXQgAADwLAAAJAAAALRcAACQAAAABAAAALBEAABMAAAABAAAAUEUAAAEAAADLagAA+noAAEpnAABuGQAAYBYAAFEPAAAYCwAAtxQAABwRAAB2NAAAAQAAANMoAACGJAAAYWgAAAEAAAAXugAAa0MAAH0oAABdHgAABBwAAMoNAACVZQAAtBwAAOgYAAApHQAAxA0AANcUAAAdCQAAJBsAAHsYAAAdGwAAazMAALB0AADyXgAAdCsAACcVAADSFwAAKRYAAMkUAACpEgAASQcAAMUNAACxCwAAAQAAACgPAADREAAAnwoAAIIJAABoBQAALAkAAFIEAABIBgAAnQgAAAwLAAD7EQAApw4AAPAOAAB1EAAAoTIAAMgTAAAYFQAA8xAAABERAADKBwAASwQAAAEAAABsAgAAxAUAAAQDAADBAQAAbAEAAKYAAADOAAAAfQAAAPgAAADHAAAAGQIAAOsBAADEAAAAwgAAAAgAAAAYAAAAUQAAANoAAAA5AAAAXgAAAOAAAACYAAAADwAAAD0BAABdAgAAEAAAAB0BAAAGAAAAWwAAADAAAAAGAAAAQgAAAAMAAAARAAAAQgAAAAoAAAA2AQAAAQAAAAwAAAAjAQAAAgAAAAQAAAADAAAAEwAAAAEAAAAEAAAAAQAAAAgAAAAKAAAABAAAAAcAAAACAAAABAAAAAIAAAAHAAAAEAAAAAIAAAADAAAAAwAAAAIAAAAGAAAABAAAAAQAAAACAAAAAQAAAAEAAAA=",
          "dtype": "i4"
         }
        }
       ],
       "layout": {
        "autosize": false,
        "height": 500,
        "margin": {
         "b": 20,
         "l": 20,
         "r": 20,
         "t": 50
        },
        "template": {
         "data": {
          "bar": [
           {
            "error_x": {
             "color": "#2a3f5f"
            },
            "error_y": {
             "color": "#2a3f5f"
            },
            "marker": {
             "line": {
              "color": "#E5ECF6",
              "width": 0.5
             },
             "pattern": {
              "fillmode": "overlay",
              "size": 10,
              "solidity": 0.2
             }
            },
            "type": "bar"
           }
          ],
          "barpolar": [
           {
            "marker": {
             "line": {
              "color": "#E5ECF6",
              "width": 0.5
             },
             "pattern": {
              "fillmode": "overlay",
              "size": 10,
              "solidity": 0.2
             }
            },
            "type": "barpolar"
           }
          ],
          "carpet": [
           {
            "aaxis": {
             "endlinecolor": "#2a3f5f",
             "gridcolor": "white",
             "linecolor": "white",
             "minorgridcolor": "white",
             "startlinecolor": "#2a3f5f"
            },
            "baxis": {
             "endlinecolor": "#2a3f5f",
             "gridcolor": "white",
             "linecolor": "white",
             "minorgridcolor": "white",
             "startlinecolor": "#2a3f5f"
            },
            "type": "carpet"
           }
          ],
          "choropleth": [
           {
            "colorbar": {
             "outlinewidth": 0,
             "ticks": ""
            },
            "type": "choropleth"
           }
          ],
          "contour": [
           {
            "colorbar": {
             "outlinewidth": 0,
             "ticks": ""
            },
            "colorscale": [
             [
              0,
              "#0d0887"
             ],
             [
              0.1111111111111111,
              "#46039f"
             ],
             [
              0.2222222222222222,
              "#7201a8"
             ],
             [
              0.3333333333333333,
              "#9c179e"
             ],
             [
              0.4444444444444444,
              "#bd3786"
             ],
             [
              0.5555555555555556,
              "#d8576b"
             ],
             [
              0.6666666666666666,
              "#ed7953"
             ],
             [
              0.7777777777777778,
              "#fb9f3a"
             ],
             [
              0.8888888888888888,
              "#fdca26"
             ],
             [
              1,
              "#f0f921"
             ]
            ],
            "type": "contour"
           }
          ],
          "contourcarpet": [
           {
            "colorbar": {
             "outlinewidth": 0,
             "ticks": ""
            },
            "type": "contourcarpet"
           }
          ],
          "heatmap": [
           {
            "colorbar": {
             "outlinewidth": 0,
             "ticks": ""
            },
            "colorscale": [
             [
              0,
              "#0d0887"
             ],
             [
              0.1111111111111111,
              "#46039f"
             ],
             [
              0.2222222222222222,
              "#7201a8"
             ],
             [
              0.3333333333333333,
              "#9c179e"
             ],
             [
              0.4444444444444444,
              "#bd3786"
             ],
             [
              0.5555555555555556,
              "#d8576b"
             ],
             [
              0.6666666666666666,
              "#ed7953"
             ],
             [
              0.7777777777777778,
              "#fb9f3a"
             ],
             [
              0.8888888888888888,
              "#fdca26"
             ],
             [
              1,
              "#f0f921"
             ]
            ],
            "type": "heatmap"
           }
          ],
          "histogram": [
           {
            "marker": {
             "pattern": {
              "fillmode": "overlay",
              "size": 10,
              "solidity": 0.2
             }
            },
            "type": "histogram"
           }
          ],
          "histogram2d": [
           {
            "colorbar": {
             "outlinewidth": 0,
             "ticks": ""
            },
            "colorscale": [
             [
              0,
              "#0d0887"
             ],
             [
              0.1111111111111111,
              "#46039f"
             ],
             [
              0.2222222222222222,
              "#7201a8"
             ],
             [
              0.3333333333333333,
              "#9c179e"
             ],
             [
              0.4444444444444444,
              "#bd3786"
             ],
             [
              0.5555555555555556,
              "#d8576b"
             ],
             [
              0.6666666666666666,
              "#ed7953"
             ],
             [
              0.7777777777777778,
              "#fb9f3a"
             ],
             [
              0.8888888888888888,
              "#fdca26"
             ],
             [
              1,
              "#f0f921"
             ]
            ],
            "type": "histogram2d"
           }
          ],
          "histogram2dcontour": [
           {
            "colorbar": {
             "outlinewidth": 0,
             "ticks": ""
            },
            "colorscale": [
             [
              0,
              "#0d0887"
             ],
             [
              0.1111111111111111,
              "#46039f"
             ],
             [
              0.2222222222222222,
              "#7201a8"
             ],
             [
              0.3333333333333333,
              "#9c179e"
             ],
             [
              0.4444444444444444,
              "#bd3786"
             ],
             [
              0.5555555555555556,
              "#d8576b"
             ],
             [
              0.6666666666666666,
              "#ed7953"
             ],
             [
              0.7777777777777778,
              "#fb9f3a"
             ],
             [
              0.8888888888888888,
              "#fdca26"
             ],
             [
              1,
              "#f0f921"
             ]
            ],
            "type": "histogram2dcontour"
           }
          ],
          "mesh3d": [
           {
            "colorbar": {
             "outlinewidth": 0,
             "ticks": ""
            },
            "type": "mesh3d"
           }
          ],
          "parcoords": [
           {
            "line": {
             "colorbar": {
              "outlinewidth": 0,
              "ticks": ""
             }
            },
            "type": "parcoords"
           }
          ],
          "pie": [
           {
            "automargin": true,
            "type": "pie"
           }
          ],
          "scatter": [
           {
            "fillpattern": {
             "fillmode": "overlay",
             "size": 10,
             "solidity": 0.2
            },
            "type": "scatter"
           }
          ],
          "scatter3d": [
           {
            "line": {
             "colorbar": {
              "outlinewidth": 0,
              "ticks": ""
             }
            },
            "marker": {
             "colorbar": {
              "outlinewidth": 0,
              "ticks": ""
             }
            },
            "type": "scatter3d"
           }
          ],
          "scattercarpet": [
           {
            "marker": {
             "colorbar": {
              "outlinewidth": 0,
              "ticks": ""
             }
            },
            "type": "scattercarpet"
           }
          ],
          "scattergeo": [
           {
            "marker": {
             "colorbar": {
              "outlinewidth": 0,
              "ticks": ""
             }
            },
            "type": "scattergeo"
           }
          ],
          "scattergl": [
           {
            "marker": {
             "colorbar": {
              "outlinewidth": 0,
              "ticks": ""
             }
            },
            "type": "scattergl"
           }
          ],
          "scattermap": [
           {
            "marker": {
             "colorbar": {
              "outlinewidth": 0,
              "ticks": ""
             }
            },
            "type": "scattermap"
           }
          ],
          "scattermapbox": [
           {
            "marker": {
             "colorbar": {
              "outlinewidth": 0,
              "ticks": ""
             }
            },
            "type": "scattermapbox"
           }
          ],
          "scatterpolar": [
           {
            "marker": {
             "colorbar": {
              "outlinewidth": 0,
              "ticks": ""
             }
            },
            "type": "scatterpolar"
           }
          ],
          "scatterpolargl": [
           {
            "marker": {
             "colorbar": {
              "outlinewidth": 0,
              "ticks": ""
             }
            },
            "type": "scatterpolargl"
           }
          ],
          "scatterternary": [
           {
            "marker": {
             "colorbar": {
              "outlinewidth": 0,
              "ticks": ""
             }
            },
            "type": "scatterternary"
           }
          ],
          "surface": [
           {
            "colorbar": {
             "outlinewidth": 0,
             "ticks": ""
            },
            "colorscale": [
             [
              0,
              "#0d0887"
             ],
             [
              0.1111111111111111,
              "#46039f"
             ],
             [
              0.2222222222222222,
              "#7201a8"
             ],
             [
              0.3333333333333333,
              "#9c179e"
             ],
             [
              0.4444444444444444,
              "#bd3786"
             ],
             [
              0.5555555555555556,
              "#d8576b"
             ],
             [
              0.6666666666666666,
              "#ed7953"
             ],
             [
              0.7777777777777778,
              "#fb9f3a"
             ],
             [
              0.8888888888888888,
              "#fdca26"
             ],
             [
              1,
              "#f0f921"
             ]
            ],
            "type": "surface"
           }
          ],
          "table": [
           {
            "cells": {
             "fill": {
              "color": "#EBF0F8"
             },
             "line": {
              "color": "white"
             }
            },
            "header": {
             "fill": {
              "color": "#C8D4E3"
             },
             "line": {
              "color": "white"
             }
            },
            "type": "table"
           }
          ]
         },
         "layout": {
          "annotationdefaults": {
           "arrowcolor": "#2a3f5f",
           "arrowhead": 0,
           "arrowwidth": 1
          },
          "autotypenumbers": "strict",
          "coloraxis": {
           "colorbar": {
            "outlinewidth": 0,
            "ticks": ""
           }
          },
          "colorscale": {
           "diverging": [
            [
             0,
             "#8e0152"
            ],
            [
             0.1,
             "#c51b7d"
            ],
            [
             0.2,
             "#de77ae"
            ],
            [
             0.3,
             "#f1b6da"
            ],
            [
             0.4,
             "#fde0ef"
            ],
            [
             0.5,
             "#f7f7f7"
            ],
            [
             0.6,
             "#e6f5d0"
            ],
            [
             0.7,
             "#b8e186"
            ],
            [
             0.8,
             "#7fbc41"
            ],
            [
             0.9,
             "#4d9221"
            ],
            [
             1,
             "#276419"
            ]
           ],
           "sequential": [
            [
             0,
             "#0d0887"
            ],
            [
             0.1111111111111111,
             "#46039f"
            ],
            [
             0.2222222222222222,
             "#7201a8"
            ],
            [
             0.3333333333333333,
             "#9c179e"
            ],
            [
             0.4444444444444444,
             "#bd3786"
            ],
            [
             0.5555555555555556,
             "#d8576b"
            ],
            [
             0.6666666666666666,
             "#ed7953"
            ],
            [
             0.7777777777777778,
             "#fb9f3a"
            ],
            [
             0.8888888888888888,
             "#fdca26"
            ],
            [
             1,
             "#f0f921"
            ]
           ],
           "sequentialminus": [
            [
             0,
             "#0d0887"
            ],
            [
             0.1111111111111111,
             "#46039f"
            ],
            [
             0.2222222222222222,
             "#7201a8"
            ],
            [
             0.3333333333333333,
             "#9c179e"
            ],
            [
             0.4444444444444444,
             "#bd3786"
            ],
            [
             0.5555555555555556,
             "#d8576b"
            ],
            [
             0.6666666666666666,
             "#ed7953"
            ],
            [
             0.7777777777777778,
             "#fb9f3a"
            ],
            [
             0.8888888888888888,
             "#fdca26"
            ],
            [
             1,
             "#f0f921"
            ]
           ]
          },
          "colorway": [
           "#636efa",
           "#EF553B",
           "#00cc96",
           "#ab63fa",
           "#FFA15A",
           "#19d3f3",
           "#FF6692",
           "#B6E880",
           "#FF97FF",
           "#FECB52"
          ],
          "font": {
           "color": "#2a3f5f"
          },
          "geo": {
           "bgcolor": "white",
           "lakecolor": "white",
           "landcolor": "#E5ECF6",
           "showlakes": true,
           "showland": true,
           "subunitcolor": "white"
          },
          "hoverlabel": {
           "align": "left"
          },
          "hovermode": "closest",
          "mapbox": {
           "style": "light"
          },
          "paper_bgcolor": "white",
          "plot_bgcolor": "#E5ECF6",
          "polar": {
           "angularaxis": {
            "gridcolor": "white",
            "linecolor": "white",
            "ticks": ""
           },
           "bgcolor": "#E5ECF6",
           "radialaxis": {
            "gridcolor": "white",
            "linecolor": "white",
            "ticks": ""
           }
          },
          "scene": {
           "xaxis": {
            "backgroundcolor": "#E5ECF6",
            "gridcolor": "white",
            "gridwidth": 2,
            "linecolor": "white",
            "showbackground": true,
            "ticks": "",
            "zerolinecolor": "white"
           },
           "yaxis": {
            "backgroundcolor": "#E5ECF6",
            "gridcolor": "white",
            "gridwidth": 2,
            "linecolor": "white",
            "showbackground": true,
            "ticks": "",
            "zerolinecolor": "white"
           },
           "zaxis": {
            "backgroundcolor": "#E5ECF6",
            "gridcolor": "white",
            "gridwidth": 2,
            "linecolor": "white",
            "showbackground": true,
            "ticks": "",
            "zerolinecolor": "white"
           }
          },
          "shapedefaults": {
           "line": {
            "color": "#2a3f5f"
           }
          },
          "ternary": {
           "aaxis": {
            "gridcolor": "white",
            "linecolor": "white",
            "ticks": ""
           },
           "baxis": {
            "gridcolor": "white",
            "linecolor": "white",
            "ticks": ""
           },
           "bgcolor": "#E5ECF6",
           "caxis": {
            "gridcolor": "white",
            "linecolor": "white",
            "ticks": ""
           }
          },
          "title": {
           "x": 0.05
          },
          "xaxis": {
           "automargin": true,
           "gridcolor": "white",
           "linecolor": "white",
           "ticks": "",
           "title": {
            "standoff": 15
           },
           "zerolinecolor": "white",
           "zerolinewidth": 2
          },
          "yaxis": {
           "automargin": true,
           "gridcolor": "white",
           "linecolor": "white",
           "ticks": "",
           "title": {
            "standoff": 15
           },
           "zerolinecolor": "white",
           "zerolinewidth": 2
          }
         }
        },
        "title": {
         "text": "Units Resold by Feature"
        },
        "updatemenus": [
         {
          "active": 0,
          "buttons": [
           {
            "args": [
             {
              "visible": [
               true,
               false,
               false,
               false,
               false,
               false
              ]
             },
             {
              "xaxis": {
               "tickformat": null
              }
             }
            ],
            "label": "Month",
            "method": "update"
           },
           {
            "args": [
             {
              "visible": [
               false,
               true,
               false,
               false,
               false,
               false
              ]
             },
             {
              "xaxis": {
               "tickformat": "%Y"
              }
             }
            ],
            "label": "Date",
            "method": "update"
           },
           {
            "args": [
             {
              "visible": [
               false,
               false,
               true,
               false,
               false,
               false
              ]
             },
             {
              "xaxis": {
               "tickformat": null
              }
             }
            ],
            "label": "Years Leased",
            "method": "update"
           },
           {
            "args": [
             {
              "visible": [
               false,
               false,
               false,
               true,
               false,
               false
              ]
             },
             {
              "xaxis": {
               "tickformat": null
              }
             }
            ],
            "label": "Storey Count",
            "method": "update"
           },
           {
            "args": [
             {
              "visible": [
               false,
               false,
               false,
               false,
               true,
               false
              ]
             },
             {
              "xaxis": {
               "tickformat": null
              }
             }
            ],
            "label": "Start Floor",
            "method": "update"
           },
           {
            "args": [
             {
              "visible": [
               false,
               false,
               false,
               false,
               false,
               true
              ]
             },
             {
              "xaxis": {
               "tickformat": null
              }
             }
            ],
            "label": "Floor Area Sqm",
            "method": "update"
           }
          ],
          "direction": "down",
          "type": "buttons",
          "x": 1.01,
          "xanchor": "left",
          "y": 1,
          "yanchor": "top"
         }
        ],
        "width": 1100
       }
      }
     },
     "metadata": {},
     "output_type": "display_data"
    }
   ],
   "source": [
    "num_vars = ['month', 'date', 'years_leased', 'storey_count', 'start_floor', 'floor_area_sqm']\n",
    "\n",
    "# Plot units resold per num_var\n",
    "fig = go.Figure()\n",
    "buttons = []\n",
    "\n",
    "for i, num_var in enumerate(num_vars):\n",
    "    df_g = df.groupby([num_var]).size().reset_index(name='count')\n",
    "\n",
    "    # If the num_var is datetime, sort set tick format\n",
    "    if pd.api.types.is_datetime64_any_dtype(df[num_var]):\n",
    "        df_g.sort_values(by=num_var, inplace=True)\n",
    "        tick_format = \"%Y\"\n",
    "    else:\n",
    "        tick_format = None\n",
    "\n",
    "    fig.add_trace(go.Scatter(\n",
    "        x=df_g[num_var],\n",
    "        y=df_g['count'],\n",
    "        mode='lines',\n",
    "        name=num_var,\n",
    "        visible=(i==0),\n",
    "        line=dict(color='gray'),\n",
    "        ))\n",
    "\n",
    "    # Dropdown button per trace\n",
    "    button = dict(\n",
    "        label=num_var.replace('_', ' ').title(),\n",
    "        method='update',\n",
    "        args=[{'visible': [j == i for j in range(len(num_vars))]},\n",
    "              {'xaxis': {'tickformat': tick_format}}]\n",
    "    )\n",
    "    buttons.append(button)\n",
    "\n",
    "# Add dropdown menu\n",
    "fig.update_layout(\n",
    "    updatemenus=[\n",
    "        dict(\n",
    "            active=0,\n",
    "            buttons=buttons,\n",
    "            x=1.01,\n",
    "            y=1,\n",
    "            xanchor='left',\n",
    "            yanchor='top',\n",
    "            direction='down',\n",
    "            type='buttons'\n",
    "        )\n",
    "    ],\n",
    "    autosize=False,\n",
    "    width=1100,\n",
    "    height=500,\n",
    "    margin=dict(l=20, r=20, t=50, b=20),\n",
    "    title='Units Resold by Feature'\n",
    ")\n",
    "\n",
    "fig.show()"
   ]
  },
  {
   "cell_type": "code",
   "execution_count": 80,
   "id": "99b3b8b4",
   "metadata": {},
   "outputs": [
    {
     "data": {
      "application/vnd.plotly.v1+json": {
       "config": {
        "plotlyServerURL": "https://plot.ly"
       },
       "data": [
        {
         "branchvalues": "total",
         "domain": {
          "x": [
           0,
           1
          ],
          "y": [
           0,
           1
          ]
         },
         "hovertemplate": "labels=%{label}<br>count=%{value}<br>parent=%{parent}<br>id=%{id}<extra></extra>",
         "ids": [
          "Central/1 Room/1990-1999",
          "Central/1 Room/2000-2009",
          "Central/1 Room/2010-2019",
          "Central/1 Room/2020-2029",
          "Central/2 Room/1990-1999",
          "Central/2 Room/2000-2009",
          "Central/2 Room/2010-2019",
          "Central/2 Room/2020-2029",
          "Central/3 Room/1990-1999",
          "Central/3 Room/2000-2009",
          "Central/3 Room/2010-2019",
          "Central/3 Room/2020-2029",
          "Central/4 Room/1990-1999",
          "Central/4 Room/2000-2009",
          "Central/4 Room/2010-2019",
          "Central/4 Room/2020-2029",
          "Central/5 Room/1990-1999",
          "Central/5 Room/2000-2009",
          "Central/5 Room/2010-2019",
          "Central/5 Room/2020-2029",
          "Central/Executive/1990-1999",
          "Central/Executive/2000-2009",
          "Central/Executive/2010-2019",
          "Central/Executive/2020-2029",
          "Central/Multi-Generation/1990-1999",
          "Central/Multi-Generation/2000-2009",
          "Central/Multi-Generation/2010-2019",
          "Central/Multi-Generation/2020-2029",
          "East/2 Room/1990-1999",
          "East/2 Room/2000-2009",
          "East/2 Room/2010-2019",
          "East/2 Room/2020-2029",
          "East/3 Room/1990-1999",
          "East/3 Room/2000-2009",
          "East/3 Room/2010-2019",
          "East/3 Room/2020-2029",
          "East/4 Room/1990-1999",
          "East/4 Room/2000-2009",
          "East/4 Room/2010-2019",
          "East/4 Room/2020-2029",
          "East/5 Room/1990-1999",
          "East/5 Room/2000-2009",
          "East/5 Room/2010-2019",
          "East/5 Room/2020-2029",
          "East/Executive/1990-1999",
          "East/Executive/2000-2009",
          "East/Executive/2010-2019",
          "East/Executive/2020-2029",
          "East/Multi-Generation/1990-1999",
          "East/Multi-Generation/2000-2009",
          "East/Multi-Generation/2010-2019",
          "East/Multi-Generation/2020-2029",
          "North/2 Room/1990-1999",
          "North/2 Room/2000-2009",
          "North/2 Room/2010-2019",
          "North/2 Room/2020-2029",
          "North/3 Room/1990-1999",
          "North/3 Room/2000-2009",
          "North/3 Room/2010-2019",
          "North/3 Room/2020-2029",
          "North/4 Room/1990-1999",
          "North/4 Room/2000-2009",
          "North/4 Room/2010-2019",
          "North/4 Room/2020-2029",
          "North/5 Room/1990-1999",
          "North/5 Room/2000-2009",
          "North/5 Room/2010-2019",
          "North/5 Room/2020-2029",
          "North/Executive/1990-1999",
          "North/Executive/2000-2009",
          "North/Executive/2010-2019",
          "North/Executive/2020-2029",
          "North/Multi-Generation/1990-1999",
          "North/Multi-Generation/2000-2009",
          "North/Multi-Generation/2010-2019",
          "North/Multi-Generation/2020-2029",
          "North-East/1 Room/1990-1999",
          "North-East/2 Room/1990-1999",
          "North-East/2 Room/2000-2009",
          "North-East/2 Room/2010-2019",
          "North-East/2 Room/2020-2029",
          "North-East/3 Room/1990-1999",
          "North-East/3 Room/2000-2009",
          "North-East/3 Room/2010-2019",
          "North-East/3 Room/2020-2029",
          "North-East/4 Room/1990-1999",
          "North-East/4 Room/2000-2009",
          "North-East/4 Room/2010-2019",
          "North-East/4 Room/2020-2029",
          "North-East/5 Room/1990-1999",
          "North-East/5 Room/2000-2009",
          "North-East/5 Room/2010-2019",
          "North-East/5 Room/2020-2029",
          "North-East/Executive/1990-1999",
          "North-East/Executive/2000-2009",
          "North-East/Executive/2010-2019",
          "North-East/Executive/2020-2029",
          "West/2 Room/1990-1999",
          "West/2 Room/2000-2009",
          "West/2 Room/2010-2019",
          "West/2 Room/2020-2029",
          "West/3 Room/1990-1999",
          "West/3 Room/2000-2009",
          "West/3 Room/2010-2019",
          "West/3 Room/2020-2029",
          "West/4 Room/1990-1999",
          "West/4 Room/2000-2009",
          "West/4 Room/2010-2019",
          "West/4 Room/2020-2029",
          "West/5 Room/1990-1999",
          "West/5 Room/2000-2009",
          "West/5 Room/2010-2019",
          "West/5 Room/2020-2029",
          "West/Executive/1990-1999",
          "West/Executive/2000-2009",
          "West/Executive/2010-2019",
          "West/Executive/2020-2029",
          "Central/1 Room",
          "Central/2 Room",
          "Central/3 Room",
          "Central/4 Room",
          "Central/5 Room",
          "Central/Executive",
          "Central/Multi-Generation",
          "East/2 Room",
          "East/3 Room",
          "East/4 Room",
          "East/5 Room",
          "East/Executive",
          "East/Multi-Generation",
          "North/2 Room",
          "North/3 Room",
          "North/4 Room",
          "North/5 Room",
          "North/Executive",
          "North/Multi-Generation",
          "North-East/1 Room",
          "North-East/2 Room",
          "North-East/3 Room",
          "North-East/4 Room",
          "North-East/5 Room",
          "North-East/Executive",
          "West/2 Room",
          "West/3 Room",
          "West/4 Room",
          "West/5 Room",
          "West/Executive",
          "Central",
          "East",
          "North",
          "North-East",
          "West"
         ],
         "labels": [
          "1990-1999",
          "2000-2009",
          "2010-2019",
          "2020-2029",
          "1990-1999",
          "2000-2009",
          "2010-2019",
          "2020-2029",
          "1990-1999",
          "2000-2009",
          "2010-2019",
          "2020-2029",
          "1990-1999",
          "2000-2009",
          "2010-2019",
          "2020-2029",
          "1990-1999",
          "2000-2009",
          "2010-2019",
          "2020-2029",
          "1990-1999",
          "2000-2009",
          "2010-2019",
          "2020-2029",
          "1990-1999",
          "2000-2009",
          "2010-2019",
          "2020-2029",
          "1990-1999",
          "2000-2009",
          "2010-2019",
          "2020-2029",
          "1990-1999",
          "2000-2009",
          "2010-2019",
          "2020-2029",
          "1990-1999",
          "2000-2009",
          "2010-2019",
          "2020-2029",
          "1990-1999",
          "2000-2009",
          "2010-2019",
          "2020-2029",
          "1990-1999",
          "2000-2009",
          "2010-2019",
          "2020-2029",
          "1990-1999",
          "2000-2009",
          "2010-2019",
          "2020-2029",
          "1990-1999",
          "2000-2009",
          "2010-2019",
          "2020-2029",
          "1990-1999",
          "2000-2009",
          "2010-2019",
          "2020-2029",
          "1990-1999",
          "2000-2009",
          "2010-2019",
          "2020-2029",
          "1990-1999",
          "2000-2009",
          "2010-2019",
          "2020-2029",
          "1990-1999",
          "2000-2009",
          "2010-2019",
          "2020-2029",
          "1990-1999",
          "2000-2009",
          "2010-2019",
          "2020-2029",
          "1990-1999",
          "1990-1999",
          "2000-2009",
          "2010-2019",
          "2020-2029",
          "1990-1999",
          "2000-2009",
          "2010-2019",
          "2020-2029",
          "1990-1999",
          "2000-2009",
          "2010-2019",
          "2020-2029",
          "1990-1999",
          "2000-2009",
          "2010-2019",
          "2020-2029",
          "1990-1999",
          "2000-2009",
          "2010-2019",
          "2020-2029",
          "1990-1999",
          "2000-2009",
          "2010-2019",
          "2020-2029",
          "1990-1999",
          "2000-2009",
          "2010-2019",
          "2020-2029",
          "1990-1999",
          "2000-2009",
          "2010-2019",
          "2020-2029",
          "1990-1999",
          "2000-2009",
          "2010-2019",
          "2020-2029",
          "1990-1999",
          "2000-2009",
          "2010-2019",
          "2020-2029",
          "1 Room",
          "2 Room",
          "3 Room",
          "4 Room",
          "5 Room",
          "Executive",
          "Multi-Generation",
          "2 Room",
          "3 Room",
          "4 Room",
          "5 Room",
          "Executive",
          "Multi-Generation",
          "2 Room",
          "3 Room",
          "4 Room",
          "5 Room",
          "Executive",
          "Multi-Generation",
          "1 Room",
          "2 Room",
          "3 Room",
          "4 Room",
          "5 Room",
          "Executive",
          "2 Room",
          "3 Room",
          "4 Room",
          "5 Room",
          "Executive",
          "Central",
          "East",
          "North",
          "North-East",
          "West"
         ],
         "name": "",
         "parents": [
          "Central/1 Room",
          "Central/1 Room",
          "Central/1 Room",
          "Central/1 Room",
          "Central/2 Room",
          "Central/2 Room",
          "Central/2 Room",
          "Central/2 Room",
          "Central/3 Room",
          "Central/3 Room",
          "Central/3 Room",
          "Central/3 Room",
          "Central/4 Room",
          "Central/4 Room",
          "Central/4 Room",
          "Central/4 Room",
          "Central/5 Room",
          "Central/5 Room",
          "Central/5 Room",
          "Central/5 Room",
          "Central/Executive",
          "Central/Executive",
          "Central/Executive",
          "Central/Executive",
          "Central/Multi-Generation",
          "Central/Multi-Generation",
          "Central/Multi-Generation",
          "Central/Multi-Generation",
          "East/2 Room",
          "East/2 Room",
          "East/2 Room",
          "East/2 Room",
          "East/3 Room",
          "East/3 Room",
          "East/3 Room",
          "East/3 Room",
          "East/4 Room",
          "East/4 Room",
          "East/4 Room",
          "East/4 Room",
          "East/5 Room",
          "East/5 Room",
          "East/5 Room",
          "East/5 Room",
          "East/Executive",
          "East/Executive",
          "East/Executive",
          "East/Executive",
          "East/Multi-Generation",
          "East/Multi-Generation",
          "East/Multi-Generation",
          "East/Multi-Generation",
          "North/2 Room",
          "North/2 Room",
          "North/2 Room",
          "North/2 Room",
          "North/3 Room",
          "North/3 Room",
          "North/3 Room",
          "North/3 Room",
          "North/4 Room",
          "North/4 Room",
          "North/4 Room",
          "North/4 Room",
          "North/5 Room",
          "North/5 Room",
          "North/5 Room",
          "North/5 Room",
          "North/Executive",
          "North/Executive",
          "North/Executive",
          "North/Executive",
          "North/Multi-Generation",
          "North/Multi-Generation",
          "North/Multi-Generation",
          "North/Multi-Generation",
          "North-East/1 Room",
          "North-East/2 Room",
          "North-East/2 Room",
          "North-East/2 Room",
          "North-East/2 Room",
          "North-East/3 Room",
          "North-East/3 Room",
          "North-East/3 Room",
          "North-East/3 Room",
          "North-East/4 Room",
          "North-East/4 Room",
          "North-East/4 Room",
          "North-East/4 Room",
          "North-East/5 Room",
          "North-East/5 Room",
          "North-East/5 Room",
          "North-East/5 Room",
          "North-East/Executive",
          "North-East/Executive",
          "North-East/Executive",
          "North-East/Executive",
          "West/2 Room",
          "West/2 Room",
          "West/2 Room",
          "West/2 Room",
          "West/3 Room",
          "West/3 Room",
          "West/3 Room",
          "West/3 Room",
          "West/4 Room",
          "West/4 Room",
          "West/4 Room",
          "West/4 Room",
          "West/5 Room",
          "West/5 Room",
          "West/5 Room",
          "West/5 Room",
          "West/Executive",
          "West/Executive",
          "West/Executive",
          "West/Executive",
          "Central",
          "Central",
          "Central",
          "Central",
          "Central",
          "Central",
          "Central",
          "East",
          "East",
          "East",
          "East",
          "East",
          "East",
          "North",
          "North",
          "North",
          "North",
          "North",
          "North",
          "North-East",
          "North-East",
          "North-East",
          "North-East",
          "North-East",
          "North-East",
          "West",
          "West",
          "West",
          "West",
          "West",
          "",
          "",
          "",
          "",
          ""
         ],
         "type": "sunburst",
         "values": {
          "bdata": "AAAAAACggkAAAAAAAMBzQAAAAAAAgF5AAAAAAACARkAAAAAAAAysQAAAAAAAGqJAAAAAAABAlUAAAAAAAPiAQAAAAADAbOBAAAAAAEDz3UAAAAAAwK3RQAAAAAAANsJAAAAAAIAJz0AAAAAAAErQQAAAAACAJMpAAAAAAIDvwUAAAAAAAJ3CQAAAAAAA68FAAAAAAABQvEAAAAAAAJKwQAAAAAAA/qFAAAAAAACgl0AAAAAAAFiQQAAAAAAAUIRAAAAAAAAATEAAAAAAAAA0QAAAAAAAAC5AAAAAAAAAHEAAAAAAAAB5QAAAAAAAoG9AAAAAAAAAb0AAAAAAAABnQAAAAABADNRAAAAAAABlz0AAAAAAAKLCQAAAAAAAmrJAAAAAAACF2EAAAAAAwHHVQAAAAACAJslAAAAAAADPvUAAAAAAADbNQAAAAACAX8tAAAAAAAAov0AAAAAAAPqyQAAAAAAA+71AAAAAAAACuUAAAAAAAM6uQAAAAAAAPqFAAAAAAACAUUAAAAAAAIBFQAAAAAAAADJAAAAAAAAAMEAAAAAAAAAQQAAAAAAAACxAAAAAAABAY0AAAAAAAICDQAAAAAAAv8VAAAAAAADLxEAAAAAAAM66QAAAAAAAiq1AAAAAAECl0EAAAAAAwHPaQAAAAABAjdBAAAAAAAA+w0AAAAAAAD+4QAAAAACAvMpAAAAAAACIwkAAAAAAADC1QAAAAAAAgKdAAAAAAABWsUAAAAAAAMiqQAAAAAAA3JtAAAAAAAAgY0AAAAAAAIBSQAAAAAAAgEhAAAAAAAAAOEAAAAAAAOBsQAAAAAAA4GFAAAAAAACgdEAAAAAAAKB/QAAAAAAAiIhAAAAAAMCy00AAAAAAAK/QQAAAAACAlcRAAAAAAACruUAAAAAAgBLPQAAAAADA5NNAAAAAAIC400AAAAAAwDnQQAAAAAAA3rVAAAAAAIDAx0AAAAAAgCPKQAAAAACASMNAAAAAAABqp0AAAAAAAFyqQAAAAAAA2qxAAAAAAAB4nUAAAAAAAAAIQAAAAAAAADNAAAAAAAAgaUAAAAAAAECBQAAAAACA+9pAAAAAAIBy1kAAAAAAAKrJQAAAAAAAMrhAAAAAAID810AAAAAAoHbgQAAAAABAZdRAAAAAAABGyEAAAAAAAD3HQAAAAACAHtFAAAAAAABeykAAAAAAABe/QAAAAAAA7bdAAAAAAADYuEAAAAAAANqzQAAAAAAApqRAAAAAAADckEAAAAAAAIK+QAAAAABgZfZAAAAAAGDs6kAAAAAAgHzdQAAAAAAAh7VAAAAAAACAWEAAAAAAAPSQQAAAAAAg2+hAAAAAAHB/8EAAAAAAoGnkQAAAAADAwNNAAAAAAABgYkAAAAAAAOCIQAAAAADAqd9AAAAAAFBR8UAAAAAAAP/gQAAAAACAuMhAAAAAAADAckAAAAAAAOBsQAAAAAAAkJtAAAAAAKCL6kAAAAAAENjxQAAAAADgBuRAAAAAAABXx0AAAAAAADiIQAAAAADgE/FAAAAAAIBc9kAAAAAA4NjoQAAAAACAvNNAAAAAAGhiB0EAAAAAgC8GQQAAAABoiwJBAAAAAHBEBkEAAAAAMH4MQQ==",
          "dtype": "f8"
         }
        }
       ],
       "layout": {
        "autosize": false,
        "height": 400,
        "legend": {
         "tracegroupgap": 0
        },
        "margin": {
         "b": 20,
         "l": 20,
         "r": 20,
         "t": 50
        },
        "template": {
         "data": {
          "bar": [
           {
            "error_x": {
             "color": "#2a3f5f"
            },
            "error_y": {
             "color": "#2a3f5f"
            },
            "marker": {
             "line": {
              "color": "#E5ECF6",
              "width": 0.5
             },
             "pattern": {
              "fillmode": "overlay",
              "size": 10,
              "solidity": 0.2
             }
            },
            "type": "bar"
           }
          ],
          "barpolar": [
           {
            "marker": {
             "line": {
              "color": "#E5ECF6",
              "width": 0.5
             },
             "pattern": {
              "fillmode": "overlay",
              "size": 10,
              "solidity": 0.2
             }
            },
            "type": "barpolar"
           }
          ],
          "carpet": [
           {
            "aaxis": {
             "endlinecolor": "#2a3f5f",
             "gridcolor": "white",
             "linecolor": "white",
             "minorgridcolor": "white",
             "startlinecolor": "#2a3f5f"
            },
            "baxis": {
             "endlinecolor": "#2a3f5f",
             "gridcolor": "white",
             "linecolor": "white",
             "minorgridcolor": "white",
             "startlinecolor": "#2a3f5f"
            },
            "type": "carpet"
           }
          ],
          "choropleth": [
           {
            "colorbar": {
             "outlinewidth": 0,
             "ticks": ""
            },
            "type": "choropleth"
           }
          ],
          "contour": [
           {
            "colorbar": {
             "outlinewidth": 0,
             "ticks": ""
            },
            "colorscale": [
             [
              0,
              "#0d0887"
             ],
             [
              0.1111111111111111,
              "#46039f"
             ],
             [
              0.2222222222222222,
              "#7201a8"
             ],
             [
              0.3333333333333333,
              "#9c179e"
             ],
             [
              0.4444444444444444,
              "#bd3786"
             ],
             [
              0.5555555555555556,
              "#d8576b"
             ],
             [
              0.6666666666666666,
              "#ed7953"
             ],
             [
              0.7777777777777778,
              "#fb9f3a"
             ],
             [
              0.8888888888888888,
              "#fdca26"
             ],
             [
              1,
              "#f0f921"
             ]
            ],
            "type": "contour"
           }
          ],
          "contourcarpet": [
           {
            "colorbar": {
             "outlinewidth": 0,
             "ticks": ""
            },
            "type": "contourcarpet"
           }
          ],
          "heatmap": [
           {
            "colorbar": {
             "outlinewidth": 0,
             "ticks": ""
            },
            "colorscale": [
             [
              0,
              "#0d0887"
             ],
             [
              0.1111111111111111,
              "#46039f"
             ],
             [
              0.2222222222222222,
              "#7201a8"
             ],
             [
              0.3333333333333333,
              "#9c179e"
             ],
             [
              0.4444444444444444,
              "#bd3786"
             ],
             [
              0.5555555555555556,
              "#d8576b"
             ],
             [
              0.6666666666666666,
              "#ed7953"
             ],
             [
              0.7777777777777778,
              "#fb9f3a"
             ],
             [
              0.8888888888888888,
              "#fdca26"
             ],
             [
              1,
              "#f0f921"
             ]
            ],
            "type": "heatmap"
           }
          ],
          "histogram": [
           {
            "marker": {
             "pattern": {
              "fillmode": "overlay",
              "size": 10,
              "solidity": 0.2
             }
            },
            "type": "histogram"
           }
          ],
          "histogram2d": [
           {
            "colorbar": {
             "outlinewidth": 0,
             "ticks": ""
            },
            "colorscale": [
             [
              0,
              "#0d0887"
             ],
             [
              0.1111111111111111,
              "#46039f"
             ],
             [
              0.2222222222222222,
              "#7201a8"
             ],
             [
              0.3333333333333333,
              "#9c179e"
             ],
             [
              0.4444444444444444,
              "#bd3786"
             ],
             [
              0.5555555555555556,
              "#d8576b"
             ],
             [
              0.6666666666666666,
              "#ed7953"
             ],
             [
              0.7777777777777778,
              "#fb9f3a"
             ],
             [
              0.8888888888888888,
              "#fdca26"
             ],
             [
              1,
              "#f0f921"
             ]
            ],
            "type": "histogram2d"
           }
          ],
          "histogram2dcontour": [
           {
            "colorbar": {
             "outlinewidth": 0,
             "ticks": ""
            },
            "colorscale": [
             [
              0,
              "#0d0887"
             ],
             [
              0.1111111111111111,
              "#46039f"
             ],
             [
              0.2222222222222222,
              "#7201a8"
             ],
             [
              0.3333333333333333,
              "#9c179e"
             ],
             [
              0.4444444444444444,
              "#bd3786"
             ],
             [
              0.5555555555555556,
              "#d8576b"
             ],
             [
              0.6666666666666666,
              "#ed7953"
             ],
             [
              0.7777777777777778,
              "#fb9f3a"
             ],
             [
              0.8888888888888888,
              "#fdca26"
             ],
             [
              1,
              "#f0f921"
             ]
            ],
            "type": "histogram2dcontour"
           }
          ],
          "mesh3d": [
           {
            "colorbar": {
             "outlinewidth": 0,
             "ticks": ""
            },
            "type": "mesh3d"
           }
          ],
          "parcoords": [
           {
            "line": {
             "colorbar": {
              "outlinewidth": 0,
              "ticks": ""
             }
            },
            "type": "parcoords"
           }
          ],
          "pie": [
           {
            "automargin": true,
            "type": "pie"
           }
          ],
          "scatter": [
           {
            "fillpattern": {
             "fillmode": "overlay",
             "size": 10,
             "solidity": 0.2
            },
            "type": "scatter"
           }
          ],
          "scatter3d": [
           {
            "line": {
             "colorbar": {
              "outlinewidth": 0,
              "ticks": ""
             }
            },
            "marker": {
             "colorbar": {
              "outlinewidth": 0,
              "ticks": ""
             }
            },
            "type": "scatter3d"
           }
          ],
          "scattercarpet": [
           {
            "marker": {
             "colorbar": {
              "outlinewidth": 0,
              "ticks": ""
             }
            },
            "type": "scattercarpet"
           }
          ],
          "scattergeo": [
           {
            "marker": {
             "colorbar": {
              "outlinewidth": 0,
              "ticks": ""
             }
            },
            "type": "scattergeo"
           }
          ],
          "scattergl": [
           {
            "marker": {
             "colorbar": {
              "outlinewidth": 0,
              "ticks": ""
             }
            },
            "type": "scattergl"
           }
          ],
          "scattermap": [
           {
            "marker": {
             "colorbar": {
              "outlinewidth": 0,
              "ticks": ""
             }
            },
            "type": "scattermap"
           }
          ],
          "scattermapbox": [
           {
            "marker": {
             "colorbar": {
              "outlinewidth": 0,
              "ticks": ""
             }
            },
            "type": "scattermapbox"
           }
          ],
          "scatterpolar": [
           {
            "marker": {
             "colorbar": {
              "outlinewidth": 0,
              "ticks": ""
             }
            },
            "type": "scatterpolar"
           }
          ],
          "scatterpolargl": [
           {
            "marker": {
             "colorbar": {
              "outlinewidth": 0,
              "ticks": ""
             }
            },
            "type": "scatterpolargl"
           }
          ],
          "scatterternary": [
           {
            "marker": {
             "colorbar": {
              "outlinewidth": 0,
              "ticks": ""
             }
            },
            "type": "scatterternary"
           }
          ],
          "surface": [
           {
            "colorbar": {
             "outlinewidth": 0,
             "ticks": ""
            },
            "colorscale": [
             [
              0,
              "#0d0887"
             ],
             [
              0.1111111111111111,
              "#46039f"
             ],
             [
              0.2222222222222222,
              "#7201a8"
             ],
             [
              0.3333333333333333,
              "#9c179e"
             ],
             [
              0.4444444444444444,
              "#bd3786"
             ],
             [
              0.5555555555555556,
              "#d8576b"
             ],
             [
              0.6666666666666666,
              "#ed7953"
             ],
             [
              0.7777777777777778,
              "#fb9f3a"
             ],
             [
              0.8888888888888888,
              "#fdca26"
             ],
             [
              1,
              "#f0f921"
             ]
            ],
            "type": "surface"
           }
          ],
          "table": [
           {
            "cells": {
             "fill": {
              "color": "#EBF0F8"
             },
             "line": {
              "color": "white"
             }
            },
            "header": {
             "fill": {
              "color": "#C8D4E3"
             },
             "line": {
              "color": "white"
             }
            },
            "type": "table"
           }
          ]
         },
         "layout": {
          "annotationdefaults": {
           "arrowcolor": "#2a3f5f",
           "arrowhead": 0,
           "arrowwidth": 1
          },
          "autotypenumbers": "strict",
          "coloraxis": {
           "colorbar": {
            "outlinewidth": 0,
            "ticks": ""
           }
          },
          "colorscale": {
           "diverging": [
            [
             0,
             "#8e0152"
            ],
            [
             0.1,
             "#c51b7d"
            ],
            [
             0.2,
             "#de77ae"
            ],
            [
             0.3,
             "#f1b6da"
            ],
            [
             0.4,
             "#fde0ef"
            ],
            [
             0.5,
             "#f7f7f7"
            ],
            [
             0.6,
             "#e6f5d0"
            ],
            [
             0.7,
             "#b8e186"
            ],
            [
             0.8,
             "#7fbc41"
            ],
            [
             0.9,
             "#4d9221"
            ],
            [
             1,
             "#276419"
            ]
           ],
           "sequential": [
            [
             0,
             "#0d0887"
            ],
            [
             0.1111111111111111,
             "#46039f"
            ],
            [
             0.2222222222222222,
             "#7201a8"
            ],
            [
             0.3333333333333333,
             "#9c179e"
            ],
            [
             0.4444444444444444,
             "#bd3786"
            ],
            [
             0.5555555555555556,
             "#d8576b"
            ],
            [
             0.6666666666666666,
             "#ed7953"
            ],
            [
             0.7777777777777778,
             "#fb9f3a"
            ],
            [
             0.8888888888888888,
             "#fdca26"
            ],
            [
             1,
             "#f0f921"
            ]
           ],
           "sequentialminus": [
            [
             0,
             "#0d0887"
            ],
            [
             0.1111111111111111,
             "#46039f"
            ],
            [
             0.2222222222222222,
             "#7201a8"
            ],
            [
             0.3333333333333333,
             "#9c179e"
            ],
            [
             0.4444444444444444,
             "#bd3786"
            ],
            [
             0.5555555555555556,
             "#d8576b"
            ],
            [
             0.6666666666666666,
             "#ed7953"
            ],
            [
             0.7777777777777778,
             "#fb9f3a"
            ],
            [
             0.8888888888888888,
             "#fdca26"
            ],
            [
             1,
             "#f0f921"
            ]
           ]
          },
          "colorway": [
           "#636efa",
           "#EF553B",
           "#00cc96",
           "#ab63fa",
           "#FFA15A",
           "#19d3f3",
           "#FF6692",
           "#B6E880",
           "#FF97FF",
           "#FECB52"
          ],
          "font": {
           "color": "#2a3f5f"
          },
          "geo": {
           "bgcolor": "white",
           "lakecolor": "white",
           "landcolor": "#E5ECF6",
           "showlakes": true,
           "showland": true,
           "subunitcolor": "white"
          },
          "hoverlabel": {
           "align": "left"
          },
          "hovermode": "closest",
          "mapbox": {
           "style": "light"
          },
          "paper_bgcolor": "white",
          "plot_bgcolor": "#E5ECF6",
          "polar": {
           "angularaxis": {
            "gridcolor": "white",
            "linecolor": "white",
            "ticks": ""
           },
           "bgcolor": "#E5ECF6",
           "radialaxis": {
            "gridcolor": "white",
            "linecolor": "white",
            "ticks": ""
           }
          },
          "scene": {
           "xaxis": {
            "backgroundcolor": "#E5ECF6",
            "gridcolor": "white",
            "gridwidth": 2,
            "linecolor": "white",
            "showbackground": true,
            "ticks": "",
            "zerolinecolor": "white"
           },
           "yaxis": {
            "backgroundcolor": "#E5ECF6",
            "gridcolor": "white",
            "gridwidth": 2,
            "linecolor": "white",
            "showbackground": true,
            "ticks": "",
            "zerolinecolor": "white"
           },
           "zaxis": {
            "backgroundcolor": "#E5ECF6",
            "gridcolor": "white",
            "gridwidth": 2,
            "linecolor": "white",
            "showbackground": true,
            "ticks": "",
            "zerolinecolor": "white"
           }
          },
          "shapedefaults": {
           "line": {
            "color": "#2a3f5f"
           }
          },
          "ternary": {
           "aaxis": {
            "gridcolor": "white",
            "linecolor": "white",
            "ticks": ""
           },
           "baxis": {
            "gridcolor": "white",
            "linecolor": "white",
            "ticks": ""
           },
           "bgcolor": "#E5ECF6",
           "caxis": {
            "gridcolor": "white",
            "linecolor": "white",
            "ticks": ""
           }
          },
          "title": {
           "x": 0.05
          },
          "xaxis": {
           "automargin": true,
           "gridcolor": "white",
           "linecolor": "white",
           "ticks": "",
           "title": {
            "standoff": 15
           },
           "zerolinecolor": "white",
           "zerolinewidth": 2
          },
          "yaxis": {
           "automargin": true,
           "gridcolor": "white",
           "linecolor": "white",
           "ticks": "",
           "title": {
            "standoff": 15
           },
           "zerolinecolor": "white",
           "zerolinewidth": 2
          }
         }
        },
        "title": {
         "text": "Number of Units Sold by Flat Type and Quarter",
         "x": 0.03
        },
        "width": 600
       }
      }
     },
     "metadata": {},
     "output_type": "display_data"
    }
   ],
   "source": [
    "variables = ['region', 'flat_type', 'year_binned',]\n",
    "df_plot = df_p.groupby(variables, group_keys=False).size().reset_index(name='count')\n",
    "fig = px.sunburst(df_plot, path=variables, values='count')\n",
    "\n",
    "# Set plot size and add title\n",
    "fig.update_layout(\n",
    "    autosize=False,\n",
    "    title=dict(text='Number of Units Sold by Flat Type and Quarter', x=0.03),\n",
    "    width=600,\n",
    "    height=400,\n",
    "    margin=dict(l=20, r=20, t=50, b=20),\n",
    ")\n",
    "\n",
    "fig.show()"
   ]
  },
  {
   "cell_type": "markdown",
   "id": "87af6d07",
   "metadata": {},
   "source": [
    "## Resale Price\n",
    "Exploration of the average resale prices, both with and without inflation adjustment. "
   ]
  },
  {
   "cell_type": "code",
   "execution_count": 24,
   "id": "3cfecc25",
   "metadata": {},
   "outputs": [
    {
     "data": {
      "application/vnd.plotly.v1+json": {
       "config": {
        "plotlyServerURL": "https://plot.ly"
       },
       "data": [
        {
         "legendgroup": "1 Room",
         "line": {
          "color": "#ff4500"
         },
         "mode": "lines",
         "name": "1 Room",
         "showlegend": true,
         "type": "scatter",
         "visible": true,
         "x": {
          "bdata": "xgfHB8gHyQfKB8sHzAfNB84HzwfQB9EH0gfTB9QH1QfWB9cH2AfZB9oH2wfcB90H3gffB+AH4QfiB+MH5AflB+YH5wfoBw==",
          "dtype": "i2"
         },
         "xaxis": "x",
         "y": {
          "bdata": "zczMzIwUzEDNzMzMTPPMQGZmZmamftFAZmZmZuZW3UBmZmZm5ufkQAAAAAAAM+1AMzMzM0u79EDMzMzM8MH5QGZmZmbmu/FAmpmZmQkr8kAzMzMzM43yQAAAAAAAge5AMzMzM4uc8EDNzMzMlNj0QM3MzMzswfdAAAAAAPjR+0CamZmZHTb/QGZmZmY8SQFBMzMzMxcJBkEAAAAASnQJQWZmZmaG5g9BmpmZmU6VEUEAAAAA1kkSQTMzMzPEohFBmpmZmV04EEEAAAAAXK8NQTMzMzPrjg5BZmZmZopHDUFmZmZmNtAJQZqZmZlJvQhBMzMzM0u0CEGamZmZuSkMQc3MzMy4HxBBAAAAAMajD0GamZmZMb8OQQ==",
          "dtype": "f8"
         },
         "yaxis": "y"
        },
        {
         "legendgroup": "2 Room",
         "line": {
          "color": "#fc834c"
         },
         "mode": "lines",
         "name": "2 Room",
         "showlegend": true,
         "type": "scatter",
         "visible": true,
         "x": {
          "bdata": "xgfHB8gHyQfKB8sHzAfNB84HzwfQB9EH0gfTB9QH1QfWB9cH2AfZB9oH2wfcB90H3gffB+AH4QfiB+MH5AflB+YH5wfoBw==",
          "dtype": "i2"
         },
         "xaxis": "x",
         "y": {
          "bdata": "zczMzMyw4UBmZmZmdjDhQGZmZmamfuFAmpmZmSnL7kAzMzMzq2XyQJqZmZkpVfhAzczMzLDxAEEAAAAA5AkFQZqZmZl51/5AAAAAAOia/EAAAAAAFAoAQWZmZmbGvf1AzczMzIyU/kBmZmZm3gACQQAAAAAUXQRBAAAAALzFBEHNzMzMLPoFQQAAAACgxwdBMzMzM7sFDUGamZmZrf8OQZqZmZlX9BFBMzMzM5tiFEEAAAAAOq4UQWZmZmZ8gxRBZmZmZpAaE0EzMzMzlXsRQc3MzMwYkxFBzczMzNxOEUEAAAAA6n0QQc3MzMwYEBBBmpmZmdlTEEHNzMzMsNgSQWZmZmbc2hRBMzMzM0/2FEEzMzMzcT8VQQ==",
          "dtype": "f8"
         },
         "yaxis": "y"
        },
        {
         "legendgroup": "3 Room",
         "line": {
          "color": "#fcb58a"
         },
         "mode": "lines",
         "name": "3 Room",
         "showlegend": true,
         "type": "scatter",
         "visible": true,
         "x": {
          "bdata": "xgfHB8gHyQfKB8sHzAfNB84HzwfQB9EH0gfTB9QH1QfWB9cH2AfZB9oH2wfcB90H3gffB+AH4QfiB+MH5AflB+YH5wfoBw==",
          "dtype": "i2"
         },
         "xaxis": "x",
         "y": {
          "bdata": "zczMzMwf9EDNzMzMFFv0QAAAAABojvRAmpmZmSnL/kDNzMzMtNACQZqZmZkpVQhBMzMzM7HxEEFmZmZmtCsTQc3MzMwMfg1BmpmZmf3UC0EzMzMzcyUOQQAAAABMQwtBzczMzLydCkFmZmZmRvENQWZmZmYWKxBBzczMzKDvDkFmZmZmKusNQTMzMzN36w9BzczMzOC0E0EzMzMz72kUQQAAAABQdxdBzczMzJ7TGUEAAAAA0ncaQTMzMzNd+RlBzczMzCLKF0GamZmZ+x4WQZqZmZkBGBZBMzMzM2/FFUFmZmZmSMsUQWZmZmYaNBRBZmZmZhzxFEEzMzMzI9MXQQAAAACYuBlBZmZmZjCMGUEAAAAAUu8ZQQ==",
          "dtype": "f8"
         },
         "yaxis": "y"
        },
        {
         "legendgroup": "4 Room",
         "line": {
          "color": "#ffdab9"
         },
         "mode": "lines",
         "name": "4 Room",
         "showlegend": true,
         "type": "scatter",
         "visible": true,
         "x": {
          "bdata": "xgfHB8gHyQfKB8sHzAfNB84HzwfQB9EH0gfTB9QH1QfWB9cH2AfZB9oH2wfcB90H3gffB+AH4QfiB+MH5AflB+YH5wfoBw==",
          "dtype": "i2"
         },
         "xaxis": "x",
         "y": {
          "bdata": "AAAAAGC4AkGamZmZERgCQWZmZmaCPgNBZmZmZnbeDEGamZmZYxUSQWZmZmZKzBVBmpmZmSM0HUGamZmZJ/wdQc3MzMxcYhhBZmZmZvhiF0GamZmZy4oYQTMzMzNR1BVBmpmZmVuTFEEAAAAApJoVQc3MzMyiJxZBzczMzCxUFUGamZmZDz0VQWZmZmZqaBZBMzMzM2HfGkFmZmZm5gwbQQAAAACUJR5BzczMzGqRIEEAAAAAAvogQWZmZmb50iBBzczMzOaQHkHNzMzM1L8cQQAAAABIDR1BMzMzM3dsHUGamZmZda4cQc3MzMxkjhxBzczMzMTQHUHNzMzMf7YgQZqZmZmF5iFBAAAAAKwDIkGamZmZhF8iQQ==",
          "dtype": "f8"
         },
         "yaxis": "y"
        },
        {
         "legendgroup": "5 Room",
         "line": {
          "color": "#55a3e8"
         },
         "mode": "lines",
         "name": "5 Room",
         "showlegend": true,
         "type": "scatter",
         "visible": true,
         "x": {
          "bdata": "xgfHB8gHyQfKB8sHzAfNB84HzwfQB9EH0gfTB9QH1QfWB9cH2AfZB9oH2wfcB90H3gffB+AH4QfiB+MH5AflB+YH5wfoBw==",
          "dtype": "i2"
         },
         "xaxis": "x",
         "y": {
          "bdata": "AAAAAJxrDkEAAAAA8LYOQWZmZma0uhBBZmZmZpSXGEHNzMzMiiQdQZqZmZlv+yBBNDMzMzXsJUEAAAAAu4clQZqZmZmS1CFBmpmZmWvpIEGamZmZJwUiQTMzMzMhHCBBmpmZmZMDHkFmZmZmRvEdQWZmZmZ2CR1BMzMzM5HkGkEzMzMzya8aQc3MzMxA5RtBZmZmZvmIIEHNzMzM4isgQQAAAAAI/yFBAAAAAOd9I0GamZmZb/wjQWZmZmYH0CNBZmZmZr0FIkEzMzMz7uggQWZmZmZeCSFBZmZmZmY8IUHNzMzMlQchQc3MzMwUOSFBNDMzM60PIkFmZmZm0UQkQZqZmZnSjCVBZmZmZihKJUGamZmZb38lQQ==",
          "dtype": "f8"
         },
         "yaxis": "y"
        },
        {
         "legendgroup": "Executive",
         "line": {
          "color": "#006cd1"
         },
         "mode": "lines",
         "name": "Executive",
         "showlegend": true,
         "type": "scatter",
         "visible": true,
         "x": {
          "bdata": "xgfHB8gHyQfKB8sHzAfNB84HzwfQB9EH0gfTB9QH1QfWB9cH2AfZB9oH2wfcB90H3gffB+AH4QfiB+MH5AflB+YH5wfoBw==",
          "dtype": "i2"
         },
         "xaxis": "x",
         "y": {
          "bdata": "zczMzC6lFUEzMzMzlXwVQWZmZmYyShdBAAAAANAJIEEzMzMz6gwjQZqZmZktDSZBZmZmZs2nLEFmZmZm4cUrQWZmZmbvCCdBMzMzM89nJUFmZmZmZQsnQczMzExYICVBMzMzMw/SI0EzMzMzFTAjQc3MzMyT6SFBmpmZmXCZIEEAAAAA5SggQWZmZmaU6yBBAAAAADXuI0GamZmZW1IjQZqZmZl5SyVBMzMzM4IlJ0FmZmZmiLonQTMzMzPgnCdBZmZmZglZJkFmZmZmTmglQQAAAAAZhSVBAAAAAJSiJUEAAAAAoN4lQQAAAAAbPSVBZmZmZonvJUFmZmZmM4koQWZmZmaOaipBzczMzKixKkGamZmZTLcqQQ==",
          "dtype": "f8"
         },
         "yaxis": "y"
        },
        {
         "legendgroup": "Multi-Generation",
         "line": {
          "color": "#003376"
         },
         "mode": "lines",
         "name": "Multi-Generation",
         "showlegend": true,
         "type": "scatter",
         "visible": true,
         "x": {
          "bdata": "xwfIB8kHygfLB8wHzQfOB88H0AfRB9IH0wfUB9UH1gfXB9gH2QfaB9sH3AfdB94H3wfgB+EH4gfjB+QH5QfmB+cH6Ac=",
          "dtype": "i2"
         },
         "xaxis": "x",
         "y": {
          "bdata": "ZmZmZtKoEkGamZmZCVcZQc3MzMwu8B1BMzMzM+XnJEGamZmZKVUoQTQzM7OEOi1BzczMzFB+LUEAAAAACXsoQWZmZmYYOiZBMzMzsxKHJ0GamZmZtHIlQQAAAABfKiVBmpmZmTK0JEEAAAAAGq4jQWZmZmZgeSNBmpmZma4BIkHNzMzMyUoiQc3MzMxhASVBAAAAALOfJEEAAAAAgA0pQQAAAABFOitBMzMzM+bmLUHNzMzMj9ArQc3MzMz13ihBZmZmZr64LEGamZkZ34QpQc3MzMyvlStBmpmZmeX2K0GamZmZEkAtQQAAAACOECtBmpmZGTpnLkE0MzMz4LctQZqZmZk87y9BMzMzM5QPMEE=",
          "dtype": "f8"
         },
         "yaxis": "y"
        },
        {
         "legendgroup": "All",
         "line": {
          "color": "gray"
         },
         "mode": "lines",
         "name": "All",
         "showlegend": true,
         "type": "scatter",
         "visible": true,
         "x": {
          "bdata": "xgfHB8gHyQfKB8sHzAfNB84HzwfQB9EH0gfTB9QH1QfWB9cH2AfZB9oH2wfcB90H3gffB+AH4QfiB+MH5AflB+YH5wfoBw==",
          "dtype": "i2"
         },
         "xaxis": "x2",
         "y": {
          "bdata": "ZmZmZv6R+EAzMzMzs8j5QM3MzMzU/ftAZmZmZqYGBkGamZmZ4cYPQc3MzMyCDxNBMzMzM+23GEGamZmZo4IcQZqZmZmbIRdBZmZmZojOFkGamZmZwxcXQWZmZma0chVBzczMzN5KFEEAAAAA0I8UQWZmZmYWEhVBmpmZmXndFEFmZmZmyA0VQWZmZmZ83RZBMzMzMwlSG0HNzMzM8rgbQQAAAABGjx5BMzMzMzWmIEHNzMzMZCshQWZmZmaHySBBMzMzMxVHHkGamZmZaeYcQZqZmZkZaR1BmpmZmWORHUHNzMzMTkEdQc3MzMxkjhxBZmZmZqIrHkEzMzMz1ywhQc3MzMyAPyJBAAAAAKwDIkEAAAAAn2YiQQ==",
          "dtype": "f8"
         },
         "yaxis": "y2"
        },
        {
         "legendgroup": "1 Room",
         "marker": {
          "color": "#ff4500"
         },
         "name": "1 Room",
         "showlegend": true,
         "type": "bar",
         "visible": false,
         "x": {
          "bdata": "xgfHB8gHyQfKB8sHzAfNB84HzwfQB9EH0gfTB9QH1QfWB9cH2AfZB9oH2wfcB90H3gffB+AH4QfiB+MH5AflB+YH5wfoBw==",
          "dtype": "i2"
         },
         "xaxis": "x",
         "y": {
          "bdata": "zczMzIwUzEDNzMzMTPPMQGZmZmamftFAZmZmZuZW3UBmZmZm5ufkQAAAAAAAM+1AMzMzM0u79EDMzMzM8MH5QGZmZmbmu/FAmpmZmQkr8kAzMzMzM43yQAAAAAAAge5AMzMzM4uc8EDNzMzMlNj0QM3MzMzswfdAAAAAAPjR+0CamZmZHTb/QGZmZmY8SQFBMzMzMxcJBkEAAAAASnQJQWZmZmaG5g9BmpmZmU6VEUEAAAAA1kkSQTMzMzPEohFBmpmZmV04EEEAAAAAXK8NQTMzMzPrjg5BZmZmZopHDUFmZmZmNtAJQZqZmZlJvQhBMzMzM0u0CEGamZmZuSkMQc3MzMy4HxBBAAAAAMajD0GamZmZMb8OQQ==",
          "dtype": "f8"
         },
         "yaxis": "y"
        },
        {
         "legendgroup": "2 Room",
         "marker": {
          "color": "#fc834c"
         },
         "name": "2 Room",
         "showlegend": true,
         "type": "bar",
         "visible": false,
         "x": {
          "bdata": "xgfHB8gHyQfKB8sHzAfNB84HzwfQB9EH0gfTB9QH1QfWB9cH2AfZB9oH2wfcB90H3gffB+AH4QfiB+MH5AflB+YH5wfoBw==",
          "dtype": "i2"
         },
         "xaxis": "x",
         "y": {
          "bdata": "zczMzMyw4UBmZmZmdjDhQGZmZmamfuFAmpmZmSnL7kAzMzMzq2XyQJqZmZkpVfhAzczMzLDxAEEAAAAA5AkFQZqZmZl51/5AAAAAAOia/EAAAAAAFAoAQWZmZmbGvf1AzczMzIyU/kBmZmZm3gACQQAAAAAUXQRBAAAAALzFBEHNzMzMLPoFQQAAAACgxwdBMzMzM7sFDUGamZmZrf8OQZqZmZlX9BFBMzMzM5tiFEEAAAAAOq4UQWZmZmZ8gxRBZmZmZpAaE0EzMzMzlXsRQc3MzMwYkxFBzczMzNxOEUEAAAAA6n0QQc3MzMwYEBBBmpmZmdlTEEHNzMzMsNgSQWZmZmbc2hRBMzMzM0/2FEEzMzMzcT8VQQ==",
          "dtype": "f8"
         },
         "yaxis": "y"
        },
        {
         "legendgroup": "3 Room",
         "marker": {
          "color": "#fcb58a"
         },
         "name": "3 Room",
         "showlegend": true,
         "type": "bar",
         "visible": false,
         "x": {
          "bdata": "xgfHB8gHyQfKB8sHzAfNB84HzwfQB9EH0gfTB9QH1QfWB9cH2AfZB9oH2wfcB90H3gffB+AH4QfiB+MH5AflB+YH5wfoBw==",
          "dtype": "i2"
         },
         "xaxis": "x",
         "y": {
          "bdata": "zczMzMwf9EDNzMzMFFv0QAAAAABojvRAmpmZmSnL/kDNzMzMtNACQZqZmZkpVQhBMzMzM7HxEEFmZmZmtCsTQc3MzMwMfg1BmpmZmf3UC0EzMzMzcyUOQQAAAABMQwtBzczMzLydCkFmZmZmRvENQWZmZmYWKxBBzczMzKDvDkFmZmZmKusNQTMzMzN36w9BzczMzOC0E0EzMzMz72kUQQAAAABQdxdBzczMzJ7TGUEAAAAA0ncaQTMzMzNd+RlBzczMzCLKF0GamZmZ+x4WQZqZmZkBGBZBMzMzM2/FFUFmZmZmSMsUQWZmZmYaNBRBZmZmZhzxFEEzMzMzI9MXQQAAAACYuBlBZmZmZjCMGUEAAAAAUu8ZQQ==",
          "dtype": "f8"
         },
         "yaxis": "y"
        },
        {
         "legendgroup": "4 Room",
         "marker": {
          "color": "#ffdab9"
         },
         "name": "4 Room",
         "showlegend": true,
         "type": "bar",
         "visible": false,
         "x": {
          "bdata": "xgfHB8gHyQfKB8sHzAfNB84HzwfQB9EH0gfTB9QH1QfWB9cH2AfZB9oH2wfcB90H3gffB+AH4QfiB+MH5AflB+YH5wfoBw==",
          "dtype": "i2"
         },
         "xaxis": "x",
         "y": {
          "bdata": "AAAAAGC4AkGamZmZERgCQWZmZmaCPgNBZmZmZnbeDEGamZmZYxUSQWZmZmZKzBVBmpmZmSM0HUGamZmZJ/wdQc3MzMxcYhhBZmZmZvhiF0GamZmZy4oYQTMzMzNR1BVBmpmZmVuTFEEAAAAApJoVQc3MzMyiJxZBzczMzCxUFUGamZmZDz0VQWZmZmZqaBZBMzMzM2HfGkFmZmZm5gwbQQAAAACUJR5BzczMzGqRIEEAAAAAAvogQWZmZmb50iBBzczMzOaQHkHNzMzM1L8cQQAAAABIDR1BMzMzM3dsHUGamZmZda4cQc3MzMxkjhxBzczMzMTQHUHNzMzMf7YgQZqZmZmF5iFBAAAAAKwDIkGamZmZhF8iQQ==",
          "dtype": "f8"
         },
         "yaxis": "y"
        },
        {
         "legendgroup": "5 Room",
         "marker": {
          "color": "#55a3e8"
         },
         "name": "5 Room",
         "showlegend": true,
         "type": "bar",
         "visible": false,
         "x": {
          "bdata": "xgfHB8gHyQfKB8sHzAfNB84HzwfQB9EH0gfTB9QH1QfWB9cH2AfZB9oH2wfcB90H3gffB+AH4QfiB+MH5AflB+YH5wfoBw==",
          "dtype": "i2"
         },
         "xaxis": "x",
         "y": {
          "bdata": "AAAAAJxrDkEAAAAA8LYOQWZmZma0uhBBZmZmZpSXGEHNzMzMiiQdQZqZmZlv+yBBNDMzMzXsJUEAAAAAu4clQZqZmZmS1CFBmpmZmWvpIEGamZmZJwUiQTMzMzMhHCBBmpmZmZMDHkFmZmZmRvEdQWZmZmZ2CR1BMzMzM5HkGkEzMzMzya8aQc3MzMxA5RtBZmZmZvmIIEHNzMzM4isgQQAAAAAI/yFBAAAAAOd9I0GamZmZb/wjQWZmZmYH0CNBZmZmZr0FIkEzMzMz7uggQWZmZmZeCSFBZmZmZmY8IUHNzMzMlQchQc3MzMwUOSFBNDMzM60PIkFmZmZm0UQkQZqZmZnSjCVBZmZmZihKJUGamZmZb38lQQ==",
          "dtype": "f8"
         },
         "yaxis": "y"
        },
        {
         "legendgroup": "Executive",
         "marker": {
          "color": "#006cd1"
         },
         "name": "Executive",
         "showlegend": true,
         "type": "bar",
         "visible": false,
         "x": {
          "bdata": "xgfHB8gHyQfKB8sHzAfNB84HzwfQB9EH0gfTB9QH1QfWB9cH2AfZB9oH2wfcB90H3gffB+AH4QfiB+MH5AflB+YH5wfoBw==",
          "dtype": "i2"
         },
         "xaxis": "x",
         "y": {
          "bdata": "zczMzC6lFUEzMzMzlXwVQWZmZmYyShdBAAAAANAJIEEzMzMz6gwjQZqZmZktDSZBZmZmZs2nLEFmZmZm4cUrQWZmZmbvCCdBMzMzM89nJUFmZmZmZQsnQczMzExYICVBMzMzMw/SI0EzMzMzFTAjQc3MzMyT6SFBmpmZmXCZIEEAAAAA5SggQWZmZmaU6yBBAAAAADXuI0GamZmZW1IjQZqZmZl5SyVBMzMzM4IlJ0FmZmZmiLonQTMzMzPgnCdBZmZmZglZJkFmZmZmTmglQQAAAAAZhSVBAAAAAJSiJUEAAAAAoN4lQQAAAAAbPSVBZmZmZonvJUFmZmZmM4koQWZmZmaOaipBzczMzKixKkGamZmZTLcqQQ==",
          "dtype": "f8"
         },
         "yaxis": "y"
        },
        {
         "legendgroup": "Multi-Generation",
         "marker": {
          "color": "#003376"
         },
         "name": "Multi-Generation",
         "showlegend": true,
         "type": "bar",
         "visible": false,
         "x": {
          "bdata": "xwfIB8kHygfLB8wHzQfOB88H0AfRB9IH0wfUB9UH1gfXB9gH2QfaB9sH3AfdB94H3wfgB+EH4gfjB+QH5QfmB+cH6Ac=",
          "dtype": "i2"
         },
         "xaxis": "x",
         "y": {
          "bdata": "ZmZmZtKoEkGamZmZCVcZQc3MzMwu8B1BMzMzM+XnJEGamZmZKVUoQTQzM7OEOi1BzczMzFB+LUEAAAAACXsoQWZmZmYYOiZBMzMzsxKHJ0GamZmZtHIlQQAAAABfKiVBmpmZmTK0JEEAAAAAGq4jQWZmZmZgeSNBmpmZma4BIkHNzMzMyUoiQc3MzMxhASVBAAAAALOfJEEAAAAAgA0pQQAAAABFOitBMzMzM+bmLUHNzMzMj9ArQc3MzMz13ihBZmZmZr64LEGamZkZ34QpQc3MzMyvlStBmpmZmeX2K0GamZmZEkAtQQAAAACOECtBmpmZGTpnLkE0MzMz4LctQZqZmZk87y9BMzMzM5QPMEE=",
          "dtype": "f8"
         },
         "yaxis": "y"
        },
        {
         "legendgroup": "All",
         "marker": {
          "color": "gray"
         },
         "name": "All",
         "showlegend": true,
         "type": "bar",
         "visible": false,
         "x": {
          "bdata": "xgfHB8gHyQfKB8sHzAfNB84HzwfQB9EH0gfTB9QH1QfWB9cH2AfZB9oH2wfcB90H3gffB+AH4QfiB+MH5AflB+YH5wfoBw==",
          "dtype": "i2"
         },
         "xaxis": "x2",
         "y": {
          "bdata": "ZmZmZv6R+EAzMzMzs8j5QM3MzMzU/ftAZmZmZqYGBkGamZmZ4cYPQc3MzMyCDxNBMzMzM+23GEGamZmZo4IcQZqZmZmbIRdBZmZmZojOFkGamZmZwxcXQWZmZma0chVBzczMzN5KFEEAAAAA0I8UQWZmZmYWEhVBmpmZmXndFEFmZmZmyA0VQWZmZmZ83RZBMzMzMwlSG0HNzMzM8rgbQQAAAABGjx5BMzMzMzWmIEHNzMzMZCshQWZmZmaHySBBMzMzMxVHHkGamZmZaeYcQZqZmZkZaR1BmpmZmWORHUHNzMzMTkEdQc3MzMxkjhxBZmZmZqIrHkEzMzMz1ywhQc3MzMyAPyJBAAAAAKwDIkEAAAAAn2YiQQ==",
          "dtype": "f8"
         },
         "yaxis": "y2"
        },
        {
         "legendgroup": "1 Room",
         "line": {
          "color": "#ff4500"
         },
         "mode": "lines",
         "name": "1 Room",
         "showlegend": true,
         "type": "scatter",
         "visible": false,
         "x": {
          "bdata": "sQe3B7kH",
          "dtype": "i2"
         },
         "xaxis": "x",
         "y": {
          "bdata": "MzMzM6MC7kBmZmZm3qL4QGZmZmYOE/RA",
          "dtype": "f8"
         },
         "yaxis": "y"
        },
        {
         "legendgroup": "2 Room",
         "line": {
          "color": "#fc834c"
         },
         "mode": "lines",
         "name": "2 Room",
         "showlegend": true,
         "type": "scatter",
         "visible": false,
         "x": {
          "bdata": "rwewB7EHsgezB7QHtQe2B7cHuAe5B7oHuwe8B70Hvge/B8AHwQfCB8oH0AfXB9gH2wfcB90H3gffB+AH4QfiB+MH5AflBw==",
          "dtype": "i2"
         },
         "xaxis": "x",
         "y": {
          "bdata": "zczMzIxABEFmZmZmFkEDQZqZmZmdZf9AZmZmZtafAUHNzMzMuG0AQQAAAABuYBBBmpmZmdGTAEEzMzMz03f3QJqZmZn5WxFBmpmZmetbDEEAAAAA6u4RQTMzMzNTEg9BmpmZmclYEEHNzMzMUEkRQQAAAABkAhRBMzMzM8uLCUFmZmZmBrYDQc3MzMw+IBFBzczMzED6D0EzMzMz9xgEQQAAAABYLw1BMzMzM42xDkGamZmZGcASQQAAAACCvxJBzczMzLp1EUFmZmZmLF0TQTMzMzMaFxRBzczMzD/LEkHNzMzMuDMTQZqZmZlTehVBmpmZmXn/E0GamZmZzeUVQc3MzMx8vxVBAAAAAGpfFkGamZmZYL8XQQ==",
          "dtype": "f8"
         },
         "yaxis": "y"
        },
        {
         "legendgroup": "3 Room",
         "line": {
          "color": "#fcb58a"
         },
         "mode": "lines",
         "name": "3 Room",
         "showlegend": true,
         "type": "scatter",
         "visible": false,
         "x": {
          "bdata": "rgevB7AHsQeyB7MHtAe1B7YHtwe4B7kHuge7B7wHvQe+B78HwAfBB8IHwwfEB8UHxgfIB8kHygfLB84HzwfQB9IH0wfUB9YH1wfYB9kH2gfbB9wH3QfeB98H4AfhB+IH4wfkB+UH",
          "dtype": "i2"
         },
         "xaxis": "x",
         "y": {
          "bdata": "AAAAAGIREEGamZmZkVcOQc3MzMyTLxBBMzMzM5fnDEHNzMzMHHIQQWZmZmauGw5BzMzMzHojEUHNzMzM4OQOQWZmZmZ61w5BMzMzM6m+EEFmZmZmzkoPQc3MzMxsHA9BzczMzIw7EEEAAAAAOrcQQQAAAADQbxBBzczMzKAfEEFmZmZmKsUQQWZmZmbiBhBBAAAAAML3EEGamZmZcxgQQc3MzMzYVQ9BZmZmZjbOD0HNzMzM7EYQQc3MzMwAkQ5BZmZmZuIGEEFmZmZma4gQQQAAAABaNBFBmpmZmW1dDkGamZmZheYPQZqZmZkTRBdBmpmZmaz4GUFmZmZmCsIWQWZmZuaOxyBBNDMzM4QxHUEAAAAAlQkhQc3MzMxeuSBBAAAAAEYKIEFmZmZmMcAiQc3MzEzDaiNBmpmZmVGmHkE0MzMzlgMeQWZmZmYGDx1BZmZmZsTJHkGamZmZrY0bQQAAAADGdBpBAAAAANAOHUFmZmZmbwAgQc3MzMxYPR5BzMzMzDKPHkEAAAAAGVMhQTMzMzPenSBB",
          "dtype": "f8"
         },
         "yaxis": "y"
        },
        {
         "legendgroup": "4 Room",
         "line": {
          "color": "#ffdab9"
         },
         "mode": "lines",
         "name": "4 Room",
         "showlegend": true,
         "type": "scatter",
         "visible": false,
         "x": {
          "bdata": "rwewB7EHsgezB7QHtQe2B7cHuAe5B7oHuwe8B70Hvge/B8AHwQfCB8MHxAfFB8YHxwfIB8kHygfLB8wHzQfOB88H0AfRB9IH0wfUB9UH1gfXB9gH2QfaB9sH3AfdB94H3wfgB+EH4gfjB+QH5Qc=",
          "dtype": "i2"
         },
         "xaxis": "x",
         "y": {
          "bdata": "mpmZmUcpJUEzMzMznkYnQQAAAACQbCFBzczMzFxiGEHNzMzMayYVQTMzMzP8NBlBmpmZmZ1iGEGamZmZNVAaQTMzMzMTDxlBAAAAAEggGUEzMzMzAwAXQWZmZmYQ1hhBmpmZmVtyGEFmZmZmAgMYQTMzMzPJvBdBmpmZmTHUGEGamZmZze4YQc3MzMxYdBlBZmZmZsAYF0HNzMzMXvQWQWZmZmZisxZBMzMzM9PMF0EzMzMzK/cZQQAAAADw/hlBZmZmZvDzGEFmZmZmetceQTMzMzPPYBpBZmZmZsjUF0HNzMzMajAaQWZmZmbEYBpBmpmZmXGkGUHNzMzMsPkYQQAAAAB4gBlBMzMzM2X3GkEzMzMzD3kbQZqZmZn71RxBZmZmZvquHUHNzMzM9DoeQczMzEwqhiFBmpmZmf2nJkEzMzMz9T8iQZqZmZnTDCZBMzMzMzlxJUEAAACAXIchQZqZmZnWVypBmpmZmeHFIEEzMzMz0UgiQWZmZmYkUCJBMzMzMzzlIEFmZmZm+cQiQQAAAIAxoiNBMzMzM+qmI0HNzMzMef8jQQAAAACDliZBMzMzM2wHJkE=",
          "dtype": "f8"
         },
         "yaxis": "y"
        },
        {
         "legendgroup": "5 Room",
         "line": {
          "color": "#55a3e8"
         },
         "mode": "lines",
         "name": "5 Room",
         "showlegend": true,
         "type": "scatter",
         "visible": false,
         "x": {
          "bdata": "rwewB7EHsgezB7QHtQe2B7cHuAe5B7oHuwe8B70Hvge/B8AHwQfCB8MHxAfFB8YHxwfIB8kHygfLB8wHzQfOB88H0AfRB9IH0wfUB9UH1gfXB9gH2QfaB9sH3AfdB94H3wfgB+EH4gfjB+QH",
          "dtype": "i2"
         },
         "xaxis": "x",
         "y": {
          "bdata": "AAAAAJSeEUEAAAAAHm8RQWZmZma4eCNBZmZmZnXJI0HNzMzMlL4sQc3MzMzeSiRBNDMzs57iI0E0MzMzZh0jQZqZmZm2ryVBmpmZmWvpIEEzMzOzO2wjQQAAAIDLgCJBZmZmZiOhIEEAAAAA7ioiQWZmZmYkQiFBMzMzMwVtIEFmZmZmNoIhQc3MzMzQ7iFBZmZmZog0IEFmZmZmJXsgQTMzM7NGeyFBzczMzBzpIEEAAACAOZMgQc3MzMzAtCBBAAAAACT+H0EzMzMzikcjQc3MzMxO0yFBMzMzM4P2IEFmZmZmyvUgQWZmZmay6CBBZmZmZoyuIEEAAAAAGzcgQTMzMzP2KCBBAAAAAHprIEEAAAAAwJ0gQc3MzMx/tiBBzczMzATdIEGamZmZin8hQZqZmZlKKyNBZmZmZpMRKkHMzMzMrZ0vQQAAAABaQiNBMzMzs3phMEEzMzOzgL0sQc3MzMwD5DBBAAAAgFqKMEFmZmZmLGsnQTMzMzO2dCpBzczMzGUoJUEAAAAAxJcmQZqZmZmh3CZBzczMzDd2J0EzMzMzWP8oQWZmZuZIQytB",
          "dtype": "f8"
         },
         "yaxis": "y"
        },
        {
         "legendgroup": "Executive",
         "line": {
          "color": "#006cd1"
         },
         "mode": "lines",
         "name": "Executive",
         "showlegend": true,
         "type": "scatter",
         "visible": false,
         "x": {
          "bdata": "uAe5B7oHuwe8B70Hvge/B8AHwQfCB8MHxAfFB8YHxwfIB8kHygfLB8wHzQfOB88H0AfRB9IH0wfUBw==",
          "dtype": "i2"
         },
         "xaxis": "x",
         "y": {
          "bdata": "zczMzHJQLUFmZmbmpHklQQAAAAApAihBMzMzMw2mKkGamZkZap4oQTQzMzPCHCdBzczMTMC7JUEAAAAANQklQZqZmZktDSZBzczMzHB/JEHNzMzM8wMlQQAAAACCryVBNDMzM5AAJUGamZmZvGYmQWZmZmbl8CZBzMzMzKH5JUEAAACAIs4oQWZmZmb8FCZBMzMzM8nWJUGamZmZ4O8lQQAAAADYgiVBmpmZmU21JUEAAACAK/wkQTQzM7Nc+yNBmpmZmS0gJEEAAAAAYTskQWZmZuYy6iNBmpmZmdmfJEEAAAAAx1MlQQ==",
          "dtype": "f8"
         },
         "yaxis": "y"
        },
        {
         "legendgroup": "Multi-Generation",
         "line": {
          "color": "#003376"
         },
         "mode": "lines",
         "name": "Multi-Generation",
         "showlegend": true,
         "type": "scatter",
         "visible": false,
         "x": {
          "bdata": "wwfEBw==",
          "dtype": "i2"
         },
         "xaxis": "x",
         "y": {
          "bdata": "NDMzM9ztJ0GamZmZsPgkQQ==",
          "dtype": "f8"
         },
         "yaxis": "y"
        },
        {
         "legendgroup": "All",
         "line": {
          "color": "gray"
         },
         "mode": "lines",
         "name": "All",
         "showlegend": true,
         "type": "scatter",
         "visible": false,
         "x": {
          "bdata": "rgevB7AHsQeyB7MHtAe1B7YHtwe4B7kHuge7B7wHvQe+B78HwAfBB8IHwwfEB8UHxgfHB8gHyQfKB8sHzAfNB84HzwfQB9EH0gfTB9QH1QfWB9cH2AfZB9oH2wfcB90H3gffB+AH4QfiB+MH5AflBw==",
          "dtype": "i2"
         },
         "xaxis": "x2",
         "y": {
          "bdata": "AAAAAGIREEFmZmZmNqAMQc3MzMwIGw1BMzMzMzvGCkGamZmZM1kQQTMzMzNv6AtBZmZmZi9YEUGamZmZwwoQQTQzMzOLhhFBMzMzM0uJE0EzMzMzi6kTQc3MzMw4QhNBzczMzIxAFEGamZmZb0oUQZqZmZkcqRNBzczMzPC3E0GamZmZIV4VQczMzMxeeBNBAAAAAJiuFkEAAAAA7jUWQQAAAABA1xZBMzMzMxOPF0FmZmZmGFkZQWZmZmbyNxxBAAAAAJKvG0HNzMzMAuocQQAAAADPNSJBZmZmZgLuIEEAAAAAEbAgQTMzMzPfGyFBmpmZmReBH0FmZmZmLtYdQWZmZmYAah1BZmZmZlZyHkGamZmZp6keQc3MzMzgEiBBzczMzMYPIEEAAAAAmYIgQc3MzMxIkiBBzczMzDtfIkEAAAAA72EnQc3MzMzSryFBMzMzMxHRI0EzMzMzK2YlQZqZmZldYyFBMzMzM0FvLEGamZmZGMkgQc3MzMyDfyJBMzMzM9vGIEEAAAAAytAgQWZmZmYHaCNBmpmZGTlqJEEAAAAAH74jQTMzMzPqpiNBAAAAAGsvJkFmZmZmXg8YQQ==",
          "dtype": "f8"
         },
         "yaxis": "y2"
        },
        {
         "legendgroup": "1 Room",
         "marker": {
          "color": "#ff4500"
         },
         "name": "1 Room",
         "showlegend": true,
         "type": "bar",
         "visible": false,
         "x": {
          "bdata": "sQe3B7kH",
          "dtype": "i2"
         },
         "xaxis": "x",
         "y": {
          "bdata": "MzMzM6MC7kBmZmZm3qL4QGZmZmYOE/RA",
          "dtype": "f8"
         },
         "yaxis": "y"
        },
        {
         "legendgroup": "2 Room",
         "marker": {
          "color": "#fc834c"
         },
         "name": "2 Room",
         "showlegend": true,
         "type": "bar",
         "visible": false,
         "x": {
          "bdata": "rwewB7EHsgezB7QHtQe2B7cHuAe5B7oHuwe8B70Hvge/B8AHwQfCB8oH0AfXB9gH2wfcB90H3gffB+AH4QfiB+MH5AflBw==",
          "dtype": "i2"
         },
         "xaxis": "x",
         "y": {
          "bdata": "zczMzIxABEFmZmZmFkEDQZqZmZmdZf9AZmZmZtafAUHNzMzMuG0AQQAAAABuYBBBmpmZmdGTAEEzMzMz03f3QJqZmZn5WxFBmpmZmetbDEEAAAAA6u4RQTMzMzNTEg9BmpmZmclYEEHNzMzMUEkRQQAAAABkAhRBMzMzM8uLCUFmZmZmBrYDQc3MzMw+IBFBzczMzED6D0EzMzMz9xgEQQAAAABYLw1BMzMzM42xDkGamZmZGcASQQAAAACCvxJBzczMzLp1EUFmZmZmLF0TQTMzMzMaFxRBzczMzD/LEkHNzMzMuDMTQZqZmZlTehVBmpmZmXn/E0GamZmZzeUVQc3MzMx8vxVBAAAAAGpfFkGamZmZYL8XQQ==",
          "dtype": "f8"
         },
         "yaxis": "y"
        },
        {
         "legendgroup": "3 Room",
         "marker": {
          "color": "#fcb58a"
         },
         "name": "3 Room",
         "showlegend": true,
         "type": "bar",
         "visible": false,
         "x": {
          "bdata": "rgevB7AHsQeyB7MHtAe1B7YHtwe4B7kHuge7B7wHvQe+B78HwAfBB8IHwwfEB8UHxgfIB8kHygfLB84HzwfQB9IH0wfUB9YH1wfYB9kH2gfbB9wH3QfeB98H4AfhB+IH4wfkB+UH",
          "dtype": "i2"
         },
         "xaxis": "x",
         "y": {
          "bdata": "AAAAAGIREEGamZmZkVcOQc3MzMyTLxBBMzMzM5fnDEHNzMzMHHIQQWZmZmauGw5BzMzMzHojEUHNzMzM4OQOQWZmZmZ61w5BMzMzM6m+EEFmZmZmzkoPQc3MzMxsHA9BzczMzIw7EEEAAAAAOrcQQQAAAADQbxBBzczMzKAfEEFmZmZmKsUQQWZmZmbiBhBBAAAAAML3EEGamZmZcxgQQc3MzMzYVQ9BZmZmZjbOD0HNzMzM7EYQQc3MzMwAkQ5BZmZmZuIGEEFmZmZma4gQQQAAAABaNBFBmpmZmW1dDkGamZmZheYPQZqZmZkTRBdBmpmZmaz4GUFmZmZmCsIWQWZmZuaOxyBBNDMzM4QxHUEAAAAAlQkhQc3MzMxeuSBBAAAAAEYKIEFmZmZmMcAiQc3MzEzDaiNBmpmZmVGmHkE0MzMzlgMeQWZmZmYGDx1BZmZmZsTJHkGamZmZrY0bQQAAAADGdBpBAAAAANAOHUFmZmZmbwAgQc3MzMxYPR5BzMzMzDKPHkEAAAAAGVMhQTMzMzPenSBB",
          "dtype": "f8"
         },
         "yaxis": "y"
        },
        {
         "legendgroup": "4 Room",
         "marker": {
          "color": "#ffdab9"
         },
         "name": "4 Room",
         "showlegend": true,
         "type": "bar",
         "visible": false,
         "x": {
          "bdata": "rwewB7EHsgezB7QHtQe2B7cHuAe5B7oHuwe8B70Hvge/B8AHwQfCB8MHxAfFB8YHxwfIB8kHygfLB8wHzQfOB88H0AfRB9IH0wfUB9UH1gfXB9gH2QfaB9sH3AfdB94H3wfgB+EH4gfjB+QH5Qc=",
          "dtype": "i2"
         },
         "xaxis": "x",
         "y": {
          "bdata": "mpmZmUcpJUEzMzMznkYnQQAAAACQbCFBzczMzFxiGEHNzMzMayYVQTMzMzP8NBlBmpmZmZ1iGEGamZmZNVAaQTMzMzMTDxlBAAAAAEggGUEzMzMzAwAXQWZmZmYQ1hhBmpmZmVtyGEFmZmZmAgMYQTMzMzPJvBdBmpmZmTHUGEGamZmZze4YQc3MzMxYdBlBZmZmZsAYF0HNzMzMXvQWQWZmZmZisxZBMzMzM9PMF0EzMzMzK/cZQQAAAADw/hlBZmZmZvDzGEFmZmZmetceQTMzMzPPYBpBZmZmZsjUF0HNzMzMajAaQWZmZmbEYBpBmpmZmXGkGUHNzMzMsPkYQQAAAAB4gBlBMzMzM2X3GkEzMzMzD3kbQZqZmZn71RxBZmZmZvquHUHNzMzM9DoeQczMzEwqhiFBmpmZmf2nJkEzMzMz9T8iQZqZmZnTDCZBMzMzMzlxJUEAAACAXIchQZqZmZnWVypBmpmZmeHFIEEzMzMz0UgiQWZmZmYkUCJBMzMzMzzlIEFmZmZm+cQiQQAAAIAxoiNBMzMzM+qmI0HNzMzMef8jQQAAAACDliZBMzMzM2wHJkE=",
          "dtype": "f8"
         },
         "yaxis": "y"
        },
        {
         "legendgroup": "5 Room",
         "marker": {
          "color": "#55a3e8"
         },
         "name": "5 Room",
         "showlegend": true,
         "type": "bar",
         "visible": false,
         "x": {
          "bdata": "rwewB7EHsgezB7QHtQe2B7cHuAe5B7oHuwe8B70Hvge/B8AHwQfCB8MHxAfFB8YHxwfIB8kHygfLB8wHzQfOB88H0AfRB9IH0wfUB9UH1gfXB9gH2QfaB9sH3AfdB94H3wfgB+EH4gfjB+QH",
          "dtype": "i2"
         },
         "xaxis": "x",
         "y": {
          "bdata": "AAAAAJSeEUEAAAAAHm8RQWZmZma4eCNBZmZmZnXJI0HNzMzMlL4sQc3MzMzeSiRBNDMzs57iI0E0MzMzZh0jQZqZmZm2ryVBmpmZmWvpIEEzMzOzO2wjQQAAAIDLgCJBZmZmZiOhIEEAAAAA7ioiQWZmZmYkQiFBMzMzMwVtIEFmZmZmNoIhQc3MzMzQ7iFBZmZmZog0IEFmZmZmJXsgQTMzM7NGeyFBzczMzBzpIEEAAACAOZMgQc3MzMzAtCBBAAAAACT+H0EzMzMzikcjQc3MzMxO0yFBMzMzM4P2IEFmZmZmyvUgQWZmZmay6CBBZmZmZoyuIEEAAAAAGzcgQTMzMzP2KCBBAAAAAHprIEEAAAAAwJ0gQc3MzMx/tiBBzczMzATdIEGamZmZin8hQZqZmZlKKyNBZmZmZpMRKkHMzMzMrZ0vQQAAAABaQiNBMzMzs3phMEEzMzOzgL0sQc3MzMwD5DBBAAAAgFqKMEFmZmZmLGsnQTMzMzO2dCpBzczMzGUoJUEAAAAAxJcmQZqZmZmh3CZBzczMzDd2J0EzMzMzWP8oQWZmZuZIQytB",
          "dtype": "f8"
         },
         "yaxis": "y"
        },
        {
         "legendgroup": "Executive",
         "marker": {
          "color": "#006cd1"
         },
         "name": "Executive",
         "showlegend": true,
         "type": "bar",
         "visible": false,
         "x": {
          "bdata": "uAe5B7oHuwe8B70Hvge/B8AHwQfCB8MHxAfFB8YHxwfIB8kHygfLB8wHzQfOB88H0AfRB9IH0wfUBw==",
          "dtype": "i2"
         },
         "xaxis": "x",
         "y": {
          "bdata": "zczMzHJQLUFmZmbmpHklQQAAAAApAihBMzMzMw2mKkGamZkZap4oQTQzMzPCHCdBzczMTMC7JUEAAAAANQklQZqZmZktDSZBzczMzHB/JEHNzMzM8wMlQQAAAACCryVBNDMzM5AAJUGamZmZvGYmQWZmZmbl8CZBzMzMzKH5JUEAAACAIs4oQWZmZmb8FCZBMzMzM8nWJUGamZmZ4O8lQQAAAADYgiVBmpmZmU21JUEAAACAK/wkQTQzM7Nc+yNBmpmZmS0gJEEAAAAAYTskQWZmZuYy6iNBmpmZmdmfJEEAAAAAx1MlQQ==",
          "dtype": "f8"
         },
         "yaxis": "y"
        },
        {
         "legendgroup": "Multi-Generation",
         "marker": {
          "color": "#003376"
         },
         "name": "Multi-Generation",
         "showlegend": true,
         "type": "bar",
         "visible": false,
         "x": {
          "bdata": "wwfEBw==",
          "dtype": "i2"
         },
         "xaxis": "x",
         "y": {
          "bdata": "NDMzM9ztJ0GamZmZsPgkQQ==",
          "dtype": "f8"
         },
         "yaxis": "y"
        },
        {
         "legendgroup": "All",
         "marker": {
          "color": "gray"
         },
         "name": "All",
         "showlegend": true,
         "type": "bar",
         "visible": false,
         "x": {
          "bdata": "rgevB7AHsQeyB7MHtAe1B7YHtwe4B7kHuge7B7wHvQe+B78HwAfBB8IHwwfEB8UHxgfHB8gHyQfKB8sHzAfNB84HzwfQB9EH0gfTB9QH1QfWB9cH2AfZB9oH2wfcB90H3gffB+AH4QfiB+MH5AflBw==",
          "dtype": "i2"
         },
         "xaxis": "x2",
         "y": {
          "bdata": "AAAAAGIREEFmZmZmNqAMQc3MzMwIGw1BMzMzMzvGCkGamZmZM1kQQTMzMzNv6AtBZmZmZi9YEUGamZmZwwoQQTQzMzOLhhFBMzMzM0uJE0EzMzMzi6kTQc3MzMw4QhNBzczMzIxAFEGamZmZb0oUQZqZmZkcqRNBzczMzPC3E0GamZmZIV4VQczMzMxeeBNBAAAAAJiuFkEAAAAA7jUWQQAAAABA1xZBMzMzMxOPF0FmZmZmGFkZQWZmZmbyNxxBAAAAAJKvG0HNzMzMAuocQQAAAADPNSJBZmZmZgLuIEEAAAAAEbAgQTMzMzPfGyFBmpmZmReBH0FmZmZmLtYdQWZmZmYAah1BZmZmZlZyHkGamZmZp6keQc3MzMzgEiBBzczMzMYPIEEAAAAAmYIgQc3MzMxIkiBBzczMzDtfIkEAAAAA72EnQc3MzMzSryFBMzMzMxHRI0EzMzMzK2YlQZqZmZldYyFBMzMzM0FvLEGamZmZGMkgQc3MzMyDfyJBMzMzM9vGIEEAAAAAytAgQWZmZmYHaCNBmpmZGTlqJEEAAAAAH74jQTMzMzPqpiNBAAAAAGsvJkFmZmZmXg8YQQ==",
          "dtype": "f8"
         },
         "yaxis": "y2"
        },
        {
         "legendgroup": "1 Room",
         "line": {
          "color": "#ff4500"
         },
         "mode": "lines",
         "name": "1 Room",
         "showlegend": true,
         "type": "scatter",
         "visible": false,
         "x": {
          "bdata": "DQ4PEBESExQVFhcYGRobHB0eHyAhIiMkJSYnKCkqKywtLi8wMQ==",
          "dtype": "i1"
         },
         "xaxis": "x",
         "y": {
          "bdata": "zczMzMzzzUBmZmZm5lTJQM3MzMysuM5AMzMzMxMY0kBmZmZm5ufkQMzMzMx0au5AMzMzMztV9EAzMzMzO3DxQM3MzMwsUOpAMzMzM+Mo+EAAAAAAIDHwQDMzMzPTYO1AMzMzM2sd5UDNzMzMjPrsQJqZmZnZ8PFAMzMzM2ux90BmZmZmktTxQDMzMzMzn/BAMzMzM1+Z90CamZmZuQPwQAAAAABw4PJAmpmZmcUzCUFmZmZmhuYPQZqZmZlOlRFBAAAAANZJEkEzMzMzxKIRQZqZmZldOBBBAAAAAFyvDUEzMzMz644OQWZmZmaKRw1BZmZmZjbQCUGamZmZSb0IQTMzMzNLtAhBmpmZmbkpDEHNzMzMuB8QQQAAAADGow9BmpmZmTG/DkE=",
          "dtype": "f8"
         },
         "yaxis": "y"
        },
        {
         "legendgroup": "2 Room",
         "line": {
          "color": "#fc834c"
         },
         "mode": "lines",
         "name": "2 Room",
         "showlegend": true,
         "type": "scatter",
         "visible": false,
         "x": {
          "bdata": "AgMEBQYHCAkKCwwNDg8QERITFBUWFxgZGhscHR4fICEiIyQlJicoKSorLC0uLzAxMjM0NTY3ODk=",
          "dtype": "i1"
         },
         "xaxis": "x",
         "y": {
          "bdata": "zMzMzAhzHEEAAAAA8OgSQZqZmZl1nxRBmpmZmXdPFEEzMzMzfy8TQWZmZmac5hJBZmZmZkbyE0EzMzMzH74TQc3MzMxYOAhBzczMzECYB0EzMzMzP+0BQQAAAAA09QFBZmZmZspBBUGamZmZ31oCQTMzMzOLnABBAAAAAGCa6UCamZmZyToCQWZmZma24OFAZmZmZtZg6EBmZmZmFp7mQM3MzMysXe5AAAAAAFw980AzMzMz47X2QM3MzMzwnfxAmpmZmcFXAUHNzMzMPEwAQQAAAADECgBBAAAAACAxAEHNzMzMmJYBQc3MzMx4YgBBAAAAACQQAUFmZmZmNg8EQTMzMzM73wVBZmZmZpJBBkHNzMzMdCkGQc3MzMzgCgpBAAAAAHiKD0FmZmZm8sgPQc3MzMz5ohBBmpmZmaBAEkGamZmZV/QRQTMzMzMvHxNBZmZmZnI3E0GamZmZ+cQSQQAAAADvDRJBMzMzM5wGEkFmZmZmpH8QQc3MzMz1GRBBmpmZmWHdDkHNzMzMFq8QQQAAAABUIA9BMzMzM4/PEEHNzMzMjC8RQZqZmZkJiRFBmpmZmb5sEUFmZmZmju8QQQ==",
          "dtype": "f8"
         },
         "yaxis": "y"
        },
        {
         "legendgroup": "3 Room",
         "line": {
          "color": "#fcb58a"
         },
         "mode": "lines",
         "name": "3 Room",
         "showlegend": true,
         "type": "scatter",
         "visible": false,
         "x": {
          "bdata": "AQIDBAUGBwgJCgsMDQ4PEBESExQVFhcYGRobHB0eHyAhIiMkJSYnKCkqKywtLi8wMTIzNDU2Nzg5Og==",
          "dtype": "i1"
         },
         "xaxis": "x",
         "y": {
          "bdata": "AAAAAAN6IkEzMzMz+jEjQTQzMzNUCBlBzMzMzPMdG0FmZmZmXC0YQWZmZmYWbANBMzMzM9+LAkHNzMzMTNwDQZqZmZl98wVBzczMzEAhCEGamZmZHawKQQAAAAAIcgtBzczMzOCwCkGamZmZ2ZkKQQAAAACEIQtBZmZmZhp0C0FmZmZmYkgMQTMzMzNbGw1BZmZmZorKDUFmZmZm+vMNQWZmZmbiuw1BAAAAABQrDkHNzMzMVLMOQTMzMzNr1g9BAAAAAC6xEEFmZmZmAu4QQZqZmZnPPhFBAAAAAMLkEUEAAAAAIMoSQWZmZmaqyhNBMzMzM/FEFEEzMzMzleAUQWZmZmb6SxVBAAAAAPKwFUEAAAAAjiEWQTMzMzNxtxZBzczMzNATF0GamZmZv00XQQAAAACGahdBAAAAALIzF0GamZmZ9/EWQTMzMzMLZBdBMzMzM7WiF0EAAAAAbPUXQTMzMzMZlRdBZmZmZiImF0FmZmZmMlsWQc3MzMz22RVBmpmZmctqFUEzMzMzT/YUQZqZmZmnnxRBMzMzM9czFUFmZmZm3NoUQTMzMzNP9hRBmpmZmXPvFEEzMzMzT/YUQTMzMzOLXhVBmpmZmXZ3FEE=",
          "dtype": "f8"
         },
         "yaxis": "y"
        },
        {
         "legendgroup": "4 Room",
         "line": {
          "color": "#ffdab9"
         },
         "mode": "lines",
         "name": "4 Room",
         "showlegend": true,
         "type": "scatter",
         "visible": false,
         "x": {
          "bdata": "AAECAwQFBgcICQoLDA0ODxAREhMUFRYXGBkaGxwdHh8gISIjJCUmJygpKissLS4vMDEyMzQ1Njg5",
          "dtype": "i1"
         },
         "xaxis": "x",
         "y": {
          "bdata": "zczMzNpoG0EzMzMzHSYhQTMzMzMI2yJBAAAAAGCTGkFmZmZmfsUaQZqZmZl1HhpBmpmZmXGVGUHNzMzMTJ8ZQQAAAAB4gBlBmpmZmYlqGUFmZmZmENYYQTQzMzO9fRlBzczMzCLjGUHNzMzMGnMYQTMzMzPfyBdBmpmZmVftF0HMzMzMrqwXQQAAAACMmBdBZmZmZmj3F0HNzMzMXGIYQZqZmZndahhBzczMzDahGEHNzMzMphgZQWZmZmZAShpBmpmZmdmOG0FmZmZmgHocQZqZmZlJZh1BMzMzMzsrHUFmZmZmzO4cQWZmZmbQZBxBMzMzMxOLHEHNzMzMMNYcQQAAAADtjh1BAAAAAK7eHUFmZmZmrLIeQWZmZmassh5BAAAAADw8H0EAAAAAAuMfQQAAAACeKSBBzczMzKhPIEHNzMzMLG8fQWZmZmY0Tx5BZmZmZsbvHkEAAAAAPDwfQc3MzMx2cR9BZmZmZrrRH0HNzMzMQPofQWZmZmaluR9BAAAAgFA7IEEAAAAAlBcgQQAAAAAsjx9BzczMzPLeHUEzMzMzlNsgQc3MzMx2cR9BZmZmZufiIUEzMzMz6qYjQQAAAABnxyZB",
          "dtype": "f8"
         },
         "yaxis": "y"
        },
        {
         "legendgroup": "5 Room",
         "line": {
          "color": "#55a3e8"
         },
         "mode": "lines",
         "name": "5 Room",
         "showlegend": true,
         "type": "scatter",
         "visible": false,
         "x": {
          "bdata": "AAECAwQFBgcICQoLDA0ODxAREhMUFRYXGBkaGxwdHh8gISIjJCUmJygpKissLS4vMDEyMzU=",
          "dtype": "i1"
         },
         "xaxis": "x",
         "y": {
          "bdata": "mpmZmWCvI0E0MzMzfTUeQTMzMzNq/CBBMzMzMx5lIUHNzMxM+gQhQWZmZmaSqyBBzczMzFIyIEHNzMzMfZ4gQZqZmRluziBBZmZmZo3yIEFmZmZmk/IgQQAAAADvViFBAAAAAEUnIUGamZmZTpggQZqZmZkzWSBBMzMzM0dtIEHNzMxMpGEgQc3MzMyAZiBBzczMTETUIEHNzMxMiUwhQWZmZmZFcSFBAAAAAIKZIUEAAAAAL5shQQAAAAACCCJBZmZmZixbIkFmZmZmmZoiQTMzMzO93CJBzczMzHLuIkGamZmZJwEjQZqZmZn+NCNBAAAAAI17I0HNzMzMe68jQQAAAIBZ0SNBAAAAgAk7JEEzMzOzq4QkQTMzMzOK5SRBzczMzDsgJUGamZmZREYlQZqZmZkBniVBZmZmZtYQJUGamZkZ45ElQWZmZmbXMyVBmpmZmctqJUHNzMxMVuElQczMzEzJECZBAAAAAGl/JkEzMzMzE48nQWZmZmY9lidBzczMzKSQKEFmZmZmxEUpQWZmZmZf7ydBzczMzE8/KkFmZmZmjZkmQQ==",
          "dtype": "f8"
         },
         "yaxis": "y"
        },
        {
         "legendgroup": "Executive",
         "line": {
          "color": "#006cd1"
         },
         "mode": "lines",
         "name": "Executive",
         "showlegend": true,
         "type": "scatter",
         "visible": false,
         "x": {
          "bdata": "AAECAwQFBgcICQoLDA0ODxAREhMUFRYXGBkaGxwdHh8gISIjJCUmJygpKissLS8=",
          "dtype": "i1"
         },
         "xaxis": "x",
         "y": {
          "bdata": "NDMzs9cAKUGamZmZYzYmQQAAAADvUiVBZmZmZpGNJkFmZmZmVU4mQc3MzMyGWiVBAAAAAEQMJEE0MzOzWgEkQQAAAABEDCRBAAAAANuHJEEzMzMzoQklQQAAAADGcyVBAAAAAK+FJUHNzMxMAqIkQTMzMzOfKCRBZmZm5gQ2JEGamZmZuBMkQZqZmZlqKSRBZmZmZk0XJEFmZmZmr2gkQZqZmZnZnyRBZmZmZvXpJEEAAAAAlKIlQQAAAABqVyZBAAAAAMyWJkFmZmZmtaInQZqZmZkpbShBzczMzKatKEHNzMzMRxspQQAAAIB0YylBMzMzM1c4KUEzMzMzmPwoQZqZmZlLBilBmpmZmf52KEHNzMzMS5opQc3MzMxQFypBZmZmZmSrKkEAAAAASIMrQc3MzMzUtSxBmpmZmaENLEHNzMzMVwYtQQAAAAA6Zy5BmpmZmU1lLEEAAAAAsEsvQWZmZmaYNDBBZmZmZiwGMEHNzMzMclAtQQ==",
          "dtype": "f8"
         },
         "yaxis": "y"
        },
        {
         "legendgroup": "Multi-Generation",
         "line": {
          "color": "#003376"
         },
         "mode": "lines",
         "name": "Multi-Generation",
         "showlegend": true,
         "type": "scatter",
         "visible": false,
         "x": {
          "bdata": "BAUGBwgJCgsMDQ4PEBESExQVFhcYGRobHB0eHyAhIiMkJQ==",
          "dtype": "i1"
         },
         "xaxis": "x",
         "y": {
          "bdata": "AAAAAGTGFEGamZmZ26kbQc3MzMwu8B1BzczMzAgQJUGamZmZDJYoQZqZmZlhJy1BMzMzMzy9LUGamZmZXGIoQWZmZmYYOiZBmpmZGanyJkGamZmZvGYmQQAAAABfKiVBmpmZmTK0JEEAAAAA748jQZqZmZmzWyNBNDMzM1DYIUHNzMzMaGUiQQAAAICotSRBzczMzHkAJUEAAAAAgA0pQQAAAAAfUStBMzMzM+bmLUEAAAAAKMkqQZqZmRkOhSlBzMzMzOuyKkEAAAAApVwqQZqZmZmsPSlBmpmZmeX2K0HNzMzM6fstQQAAAACOECtBAAAAALY5LkHNzMzMlnktQZqZmZk87y9BMzMzM5QPMEE=",
          "dtype": "f8"
         },
         "yaxis": "y"
        },
        {
         "legendgroup": "All",
         "line": {
          "color": "gray"
         },
         "mode": "lines",
         "name": "All",
         "showlegend": true,
         "type": "scatter",
         "visible": false,
         "x": {
          "bdata": "AAECAwQFBgcICQoLDA0ODxAREhMUFRYXGBkaGxwdHh8gISIjJCUmJygpKissLS4vMDEyMzQ1Njc4OTo=",
          "dtype": "i1"
         },
         "xaxis": "x2",
         "y": {
          "bdata": "AAAAgC+DJEGamZmZAggiQTMzMzMI2yJBMzMzM70mHkEzMzMzBb0eQQAAAAC2OR5BmpmZmXpPHUGamZmZqRwdQWZmZma8cRxBMzMzMw85HEFmZmZm9O8aQQAAAAAEiBpBAAAAAMg/GkGamZmZIWAYQZqZmZmbIRdBmpmZmQ2dFkEAAAAAGBIWQQAAAABWDRZBmpmZmXvtFUEAAAAAaDoWQQAAAADgKhZBzMzMzB4xFkFmZmZmJowWQc3MzMyOERdBMzMzM8m8F0EzMzMzF2EYQQAAAAD23hhBAAAAAGKBGEEzMzMzu1IYQWZmZmb1HRhBmpmZmdVFGEEAAAAASBsZQTMzMzM/lRlBzczMzMjZGUHNzMzM+J4aQQAAAABiwhpBzczMzIQcG0EzMzMz7fgaQZqZmZmJwxpBZmZmZppSGkGamZmZ/UkZQWZmZmZ2vxhBmpmZmTvkGEEzMzMzVzgZQWZmZmYwjBlBZmZmZqw9GUGamZmZlGkZQZqZmZlvzBdBzczMzKjVFkFmZmZm+gsWQWZmZmYoShVBzczMzJxOFEEzMzMzT/YUQQAAAAD7XRRBmpmZmdmfFEGamZmZSV4UQc3MzMycThRBmpmZmXPvFEGamZmZdncUQQ==",
          "dtype": "f8"
         },
         "yaxis": "y2"
        },
        {
         "legendgroup": "1 Room",
         "marker": {
          "color": "#ff4500"
         },
         "name": "1 Room",
         "showlegend": true,
         "type": "bar",
         "visible": false,
         "x": {
          "bdata": "DQ4PEBESExQVFhcYGRobHB0eHyAhIiMkJSYnKCkqKywtLi8wMQ==",
          "dtype": "i1"
         },
         "xaxis": "x",
         "y": {
          "bdata": "zczMzMzzzUBmZmZm5lTJQM3MzMysuM5AMzMzMxMY0kBmZmZm5ufkQMzMzMx0au5AMzMzMztV9EAzMzMzO3DxQM3MzMwsUOpAMzMzM+Mo+EAAAAAAIDHwQDMzMzPTYO1AMzMzM2sd5UDNzMzMjPrsQJqZmZnZ8PFAMzMzM2ux90BmZmZmktTxQDMzMzMzn/BAMzMzM1+Z90CamZmZuQPwQAAAAABw4PJAmpmZmcUzCUFmZmZmhuYPQZqZmZlOlRFBAAAAANZJEkEzMzMzxKIRQZqZmZldOBBBAAAAAFyvDUEzMzMz644OQWZmZmaKRw1BZmZmZjbQCUGamZmZSb0IQTMzMzNLtAhBmpmZmbkpDEHNzMzMuB8QQQAAAADGow9BmpmZmTG/DkE=",
          "dtype": "f8"
         },
         "yaxis": "y"
        },
        {
         "legendgroup": "2 Room",
         "marker": {
          "color": "#fc834c"
         },
         "name": "2 Room",
         "showlegend": true,
         "type": "bar",
         "visible": false,
         "x": {
          "bdata": "AgMEBQYHCAkKCwwNDg8QERITFBUWFxgZGhscHR4fICEiIyQlJicoKSorLC0uLzAxMjM0NTY3ODk=",
          "dtype": "i1"
         },
         "xaxis": "x",
         "y": {
          "bdata": "zMzMzAhzHEEAAAAA8OgSQZqZmZl1nxRBmpmZmXdPFEEzMzMzfy8TQWZmZmac5hJBZmZmZkbyE0EzMzMzH74TQc3MzMxYOAhBzczMzECYB0EzMzMzP+0BQQAAAAA09QFBZmZmZspBBUGamZmZ31oCQTMzMzOLnABBAAAAAGCa6UCamZmZyToCQWZmZma24OFAZmZmZtZg6EBmZmZmFp7mQM3MzMysXe5AAAAAAFw980AzMzMz47X2QM3MzMzwnfxAmpmZmcFXAUHNzMzMPEwAQQAAAADECgBBAAAAACAxAEHNzMzMmJYBQc3MzMx4YgBBAAAAACQQAUFmZmZmNg8EQTMzMzM73wVBZmZmZpJBBkHNzMzMdCkGQc3MzMzgCgpBAAAAAHiKD0FmZmZm8sgPQc3MzMz5ohBBmpmZmaBAEkGamZmZV/QRQTMzMzMvHxNBZmZmZnI3E0GamZmZ+cQSQQAAAADvDRJBMzMzM5wGEkFmZmZmpH8QQc3MzMz1GRBBmpmZmWHdDkHNzMzMFq8QQQAAAABUIA9BMzMzM4/PEEHNzMzMjC8RQZqZmZkJiRFBmpmZmb5sEUFmZmZmju8QQQ==",
          "dtype": "f8"
         },
         "yaxis": "y"
        },
        {
         "legendgroup": "3 Room",
         "marker": {
          "color": "#fcb58a"
         },
         "name": "3 Room",
         "showlegend": true,
         "type": "bar",
         "visible": false,
         "x": {
          "bdata": "AQIDBAUGBwgJCgsMDQ4PEBESExQVFhcYGRobHB0eHyAhIiMkJSYnKCkqKywtLi8wMTIzNDU2Nzg5Og==",
          "dtype": "i1"
         },
         "xaxis": "x",
         "y": {
          "bdata": "AAAAAAN6IkEzMzMz+jEjQTQzMzNUCBlBzMzMzPMdG0FmZmZmXC0YQWZmZmYWbANBMzMzM9+LAkHNzMzMTNwDQZqZmZl98wVBzczMzEAhCEGamZmZHawKQQAAAAAIcgtBzczMzOCwCkGamZmZ2ZkKQQAAAACEIQtBZmZmZhp0C0FmZmZmYkgMQTMzMzNbGw1BZmZmZorKDUFmZmZm+vMNQWZmZmbiuw1BAAAAABQrDkHNzMzMVLMOQTMzMzNr1g9BAAAAAC6xEEFmZmZmAu4QQZqZmZnPPhFBAAAAAMLkEUEAAAAAIMoSQWZmZmaqyhNBMzMzM/FEFEEzMzMzleAUQWZmZmb6SxVBAAAAAPKwFUEAAAAAjiEWQTMzMzNxtxZBzczMzNATF0GamZmZv00XQQAAAACGahdBAAAAALIzF0GamZmZ9/EWQTMzMzMLZBdBMzMzM7WiF0EAAAAAbPUXQTMzMzMZlRdBZmZmZiImF0FmZmZmMlsWQc3MzMz22RVBmpmZmctqFUEzMzMzT/YUQZqZmZmnnxRBMzMzM9czFUFmZmZm3NoUQTMzMzNP9hRBmpmZmXPvFEEzMzMzT/YUQTMzMzOLXhVBmpmZmXZ3FEE=",
          "dtype": "f8"
         },
         "yaxis": "y"
        },
        {
         "legendgroup": "4 Room",
         "marker": {
          "color": "#ffdab9"
         },
         "name": "4 Room",
         "showlegend": true,
         "type": "bar",
         "visible": false,
         "x": {
          "bdata": "AAECAwQFBgcICQoLDA0ODxAREhMUFRYXGBkaGxwdHh8gISIjJCUmJygpKissLS4vMDEyMzQ1Njg5",
          "dtype": "i1"
         },
         "xaxis": "x",
         "y": {
          "bdata": "zczMzNpoG0EzMzMzHSYhQTMzMzMI2yJBAAAAAGCTGkFmZmZmfsUaQZqZmZl1HhpBmpmZmXGVGUHNzMzMTJ8ZQQAAAAB4gBlBmpmZmYlqGUFmZmZmENYYQTQzMzO9fRlBzczMzCLjGUHNzMzMGnMYQTMzMzPfyBdBmpmZmVftF0HMzMzMrqwXQQAAAACMmBdBZmZmZmj3F0HNzMzMXGIYQZqZmZndahhBzczMzDahGEHNzMzMphgZQWZmZmZAShpBmpmZmdmOG0FmZmZmgHocQZqZmZlJZh1BMzMzMzsrHUFmZmZmzO4cQWZmZmbQZBxBMzMzMxOLHEHNzMzMMNYcQQAAAADtjh1BAAAAAK7eHUFmZmZmrLIeQWZmZmassh5BAAAAADw8H0EAAAAAAuMfQQAAAACeKSBBzczMzKhPIEHNzMzMLG8fQWZmZmY0Tx5BZmZmZsbvHkEAAAAAPDwfQc3MzMx2cR9BZmZmZrrRH0HNzMzMQPofQWZmZmaluR9BAAAAgFA7IEEAAAAAlBcgQQAAAAAsjx9BzczMzPLeHUEzMzMzlNsgQc3MzMx2cR9BZmZmZufiIUEzMzMz6qYjQQAAAABnxyZB",
          "dtype": "f8"
         },
         "yaxis": "y"
        },
        {
         "legendgroup": "5 Room",
         "marker": {
          "color": "#55a3e8"
         },
         "name": "5 Room",
         "showlegend": true,
         "type": "bar",
         "visible": false,
         "x": {
          "bdata": "AAECAwQFBgcICQoLDA0ODxAREhMUFRYXGBkaGxwdHh8gISIjJCUmJygpKissLS4vMDEyMzU=",
          "dtype": "i1"
         },
         "xaxis": "x",
         "y": {
          "bdata": "mpmZmWCvI0E0MzMzfTUeQTMzMzNq/CBBMzMzMx5lIUHNzMxM+gQhQWZmZmaSqyBBzczMzFIyIEHNzMzMfZ4gQZqZmRluziBBZmZmZo3yIEFmZmZmk/IgQQAAAADvViFBAAAAAEUnIUGamZmZTpggQZqZmZkzWSBBMzMzM0dtIEHNzMxMpGEgQc3MzMyAZiBBzczMTETUIEHNzMxMiUwhQWZmZmZFcSFBAAAAAIKZIUEAAAAAL5shQQAAAAACCCJBZmZmZixbIkFmZmZmmZoiQTMzMzO93CJBzczMzHLuIkGamZmZJwEjQZqZmZn+NCNBAAAAAI17I0HNzMzMe68jQQAAAIBZ0SNBAAAAgAk7JEEzMzOzq4QkQTMzMzOK5SRBzczMzDsgJUGamZmZREYlQZqZmZkBniVBZmZmZtYQJUGamZkZ45ElQWZmZmbXMyVBmpmZmctqJUHNzMxMVuElQczMzEzJECZBAAAAAGl/JkEzMzMzE48nQWZmZmY9lidBzczMzKSQKEFmZmZmxEUpQWZmZmZf7ydBzczMzE8/KkFmZmZmjZkmQQ==",
          "dtype": "f8"
         },
         "yaxis": "y"
        },
        {
         "legendgroup": "Executive",
         "marker": {
          "color": "#006cd1"
         },
         "name": "Executive",
         "showlegend": true,
         "type": "bar",
         "visible": false,
         "x": {
          "bdata": "AAECAwQFBgcICQoLDA0ODxAREhMUFRYXGBkaGxwdHh8gISIjJCUmJygpKissLS8=",
          "dtype": "i1"
         },
         "xaxis": "x",
         "y": {
          "bdata": "NDMzs9cAKUGamZmZYzYmQQAAAADvUiVBZmZmZpGNJkFmZmZmVU4mQc3MzMyGWiVBAAAAAEQMJEE0MzOzWgEkQQAAAABEDCRBAAAAANuHJEEzMzMzoQklQQAAAADGcyVBAAAAAK+FJUHNzMxMAqIkQTMzMzOfKCRBZmZm5gQ2JEGamZmZuBMkQZqZmZlqKSRBZmZmZk0XJEFmZmZmr2gkQZqZmZnZnyRBZmZmZvXpJEEAAAAAlKIlQQAAAABqVyZBAAAAAMyWJkFmZmZmtaInQZqZmZkpbShBzczMzKatKEHNzMzMRxspQQAAAIB0YylBMzMzM1c4KUEzMzMzmPwoQZqZmZlLBilBmpmZmf52KEHNzMzMS5opQc3MzMxQFypBZmZmZmSrKkEAAAAASIMrQc3MzMzUtSxBmpmZmaENLEHNzMzMVwYtQQAAAAA6Zy5BmpmZmU1lLEEAAAAAsEsvQWZmZmaYNDBBZmZmZiwGMEHNzMzMclAtQQ==",
          "dtype": "f8"
         },
         "yaxis": "y"
        },
        {
         "legendgroup": "Multi-Generation",
         "marker": {
          "color": "#003376"
         },
         "name": "Multi-Generation",
         "showlegend": true,
         "type": "bar",
         "visible": false,
         "x": {
          "bdata": "BAUGBwgJCgsMDQ4PEBESExQVFhcYGRobHB0eHyAhIiMkJQ==",
          "dtype": "i1"
         },
         "xaxis": "x",
         "y": {
          "bdata": "AAAAAGTGFEGamZmZ26kbQc3MzMwu8B1BzczMzAgQJUGamZmZDJYoQZqZmZlhJy1BMzMzMzy9LUGamZmZXGIoQWZmZmYYOiZBmpmZGanyJkGamZmZvGYmQQAAAABfKiVBmpmZmTK0JEEAAAAA748jQZqZmZmzWyNBNDMzM1DYIUHNzMzMaGUiQQAAAICotSRBzczMzHkAJUEAAAAAgA0pQQAAAAAfUStBMzMzM+bmLUEAAAAAKMkqQZqZmRkOhSlBzMzMzOuyKkEAAAAApVwqQZqZmZmsPSlBmpmZmeX2K0HNzMzM6fstQQAAAACOECtBAAAAALY5LkHNzMzMlnktQZqZmZk87y9BMzMzM5QPMEE=",
          "dtype": "f8"
         },
         "yaxis": "y"
        },
        {
         "legendgroup": "All",
         "marker": {
          "color": "gray"
         },
         "name": "All",
         "showlegend": true,
         "type": "bar",
         "visible": false,
         "x": {
          "bdata": "AAECAwQFBgcICQoLDA0ODxAREhMUFRYXGBkaGxwdHh8gISIjJCUmJygpKissLS4vMDEyMzQ1Njc4OTo=",
          "dtype": "i1"
         },
         "xaxis": "x2",
         "y": {
          "bdata": "AAAAgC+DJEGamZmZAggiQTMzMzMI2yJBMzMzM70mHkEzMzMzBb0eQQAAAAC2OR5BmpmZmXpPHUGamZmZqRwdQWZmZma8cRxBMzMzMw85HEFmZmZm9O8aQQAAAAAEiBpBAAAAAMg/GkGamZmZIWAYQZqZmZmbIRdBmpmZmQ2dFkEAAAAAGBIWQQAAAABWDRZBmpmZmXvtFUEAAAAAaDoWQQAAAADgKhZBzMzMzB4xFkFmZmZmJowWQc3MzMyOERdBMzMzM8m8F0EzMzMzF2EYQQAAAAD23hhBAAAAAGKBGEEzMzMzu1IYQWZmZmb1HRhBmpmZmdVFGEEAAAAASBsZQTMzMzM/lRlBzczMzMjZGUHNzMzM+J4aQQAAAABiwhpBzczMzIQcG0EzMzMz7fgaQZqZmZmJwxpBZmZmZppSGkGamZmZ/UkZQWZmZmZ2vxhBmpmZmTvkGEEzMzMzVzgZQWZmZmYwjBlBZmZmZqw9GUGamZmZlGkZQZqZmZlvzBdBzczMzKjVFkFmZmZm+gsWQWZmZmYoShVBzczMzJxOFEEzMzMzT/YUQQAAAAD7XRRBmpmZmdmfFEGamZmZSV4UQc3MzMycThRBmpmZmXPvFEGamZmZdncUQQ==",
          "dtype": "f8"
         },
         "yaxis": "y2"
        },
        {
         "legendgroup": "1 Room",
         "line": {
          "color": "#ff4500"
         },
         "mode": "lines",
         "name": "1 Room",
         "showlegend": true,
         "type": "scatter",
         "visible": false,
         "x": {
          "bdata": "AQIDBAUGBwgJCgsM",
          "dtype": "i1"
         },
         "xaxis": "x",
         "y": {
          "bdata": "zMzMzPCA8EAAAAAAAH/vQM3MzMzkCfVAAAAAABAM9EAzMzMzM43yQAAAAABYAPJAzczMzIyK8UBmZmZmnmXzQDMzMzOr+/VAAAAAAPyS80CamZmZiYDyQDMzMzMjH/JA",
          "dtype": "f8"
         },
         "yaxis": "y"
        },
        {
         "legendgroup": "2 Room",
         "line": {
          "color": "#fc834c"
         },
         "mode": "lines",
         "name": "2 Room",
         "showlegend": true,
         "type": "scatter",
         "visible": false,
         "x": {
          "bdata": "AQIDBAUGBwgJCgsM",
          "dtype": "i1"
         },
         "xaxis": "x",
         "y": {
          "bdata": "mpmZmeXKBUFmZmZm1OsGQTMzMzPnNwZBmpmZmWm9B0EzMzMzr6MHQZqZmZnBFAlBmpmZmVHRCUEAAAAA8IIIQZqZmZlZEwhBZmZmZrq9BkEAAAAAvFgGQc3MzMx0KQZB",
          "dtype": "f8"
         },
         "yaxis": "y"
        },
        {
         "legendgroup": "3 Room",
         "line": {
          "color": "#fcb58a"
         },
         "mode": "lines",
         "name": "3 Room",
         "showlegend": true,
         "type": "scatter",
         "visible": false,
         "x": {
          "bdata": "AQIDBAUGBwgJCgsM",
          "dtype": "i1"
         },
         "xaxis": "x",
         "y": {
          "bdata": "zczMzAiyD0GamZmZlf4PQWZmZmauRxBBZmZmZq5HEEGamZmZfZ4QQTMzMzMthBBBmpmZmdGTEEEAAAAA270QQQAAAAAI5RBBZmZmZrLoEEEAAAAA0G8QQc3MzMxWZRBB",
          "dtype": "f8"
         },
         "yaxis": "y"
        },
        {
         "legendgroup": "4 Room",
         "line": {
          "color": "#ffdab9"
         },
         "mode": "lines",
         "name": "4 Room",
         "showlegend": true,
         "type": "scatter",
         "visible": false,
         "x": {
          "bdata": "AQIDBAUGBwgJCgsM",
          "dtype": "i1"
         },
         "xaxis": "x",
         "y": {
          "bdata": "AAAAAFubGUEzMzMzcYoZQTMzMzMX5RlBAAAAAChJGkHNzMzMylUaQTMzMzMbRBpBAAAAAASIGkHNzMzMSIsaQTMzMzMdahpBAAAAAB5yGkEAAAAAKDcaQWZmZmbD9BlB",
          "dtype": "f8"
         },
         "yaxis": "y"
        },
        {
         "legendgroup": "5 Room",
         "line": {
          "color": "#55a3e8"
         },
         "mode": "lines",
         "name": "5 Room",
         "showlegend": true,
         "type": "scatter",
         "visible": false,
         "x": {
          "bdata": "AQIDBAUGBwgJCgsM",
          "dtype": "i1"
         },
         "xaxis": "x",
         "y": {
          "bdata": "ZmZmZiosIUEAAAAAjx4hQQAAAACPHiFBmpmZmfdAIUGamZmZo0shQQAAAABhTCFBZmZmZgJRIUHNzMxMvWkhQZqZmZl5biFBmpmZmTtwIUHNzMzMnX0hQc3MzMyvZiFB",
          "dtype": "f8"
         },
         "yaxis": "y"
        },
        {
         "legendgroup": "Executive",
         "line": {
          "color": "#006cd1"
         },
         "mode": "lines",
         "name": "Executive",
         "showlegend": true,
         "type": "scatter",
         "visible": false,
         "x": {
          "bdata": "AQIDBAUGBwgJCgsM",
          "dtype": "i1"
         },
         "xaxis": "x",
         "y": {
          "bdata": "MzMzM1BgJUEAAAAAwjElQQAAAIC6KSVBmpmZmUaDJUEzMzMz64wlQc3MzMzpVSVBmpmZmdWWJUHNzMzMd70lQc3MzMwsxiVBzczMzJfPJUEzMzMzI9clQczMzEyczSVB",
          "dtype": "f8"
         },
         "yaxis": "y"
        },
        {
         "legendgroup": "Multi-Generation",
         "line": {
          "color": "#003376"
         },
         "mode": "lines",
         "name": "Multi-Generation",
         "showlegend": true,
         "type": "scatter",
         "visible": false,
         "x": {
          "bdata": "AQIDBAUGBwgJCgsM",
          "dtype": "i1"
         },
         "xaxis": "x",
         "y": {
          "bdata": "zMzMzKh7J0FmZmZmVm4nQWZmZmZ0kCdBzMzMTEqNJ0GamZmZ1EIpQWZmZmZj0ydBmpmZmV/MJkGamZmZSXkmQc3MzMzEESlBMzMzs63lKEEAAAAAhQ8pQZqZmZlb8ihB",
          "dtype": "f8"
         },
         "yaxis": "y"
        },
        {
         "legendgroup": "All",
         "line": {
          "color": "gray"
         },
         "mode": "lines",
         "name": "All",
         "showlegend": true,
         "type": "scatter",
         "visible": false,
         "x": {
          "bdata": "AQIDBAUGBwgJCgsM",
          "dtype": "i1"
         },
         "xaxis": "x2",
         "y": {
          "bdata": "AAAAAH7kGEEzMzMz0eoYQQAAAADuZBlBZmZmZtS+GUEzMzMzBe0ZQQAAAAAe6hlBZmZmZgwVGkFmZmZmJisaQZqZmZmtFxpBzczMzFAfGkEzMzMzR8QZQQAAAADuZBlB",
          "dtype": "f8"
         },
         "yaxis": "y2"
        },
        {
         "legendgroup": "1 Room",
         "marker": {
          "color": "#ff4500"
         },
         "name": "1 Room",
         "showlegend": true,
         "type": "bar",
         "visible": false,
         "x": {
          "bdata": "AQIDBAUGBwgJCgsM",
          "dtype": "i1"
         },
         "xaxis": "x",
         "y": {
          "bdata": "zMzMzPCA8EAAAAAAAH/vQM3MzMzkCfVAAAAAABAM9EAzMzMzM43yQAAAAABYAPJAzczMzIyK8UBmZmZmnmXzQDMzMzOr+/VAAAAAAPyS80CamZmZiYDyQDMzMzMjH/JA",
          "dtype": "f8"
         },
         "yaxis": "y"
        },
        {
         "legendgroup": "2 Room",
         "marker": {
          "color": "#fc834c"
         },
         "name": "2 Room",
         "showlegend": true,
         "type": "bar",
         "visible": false,
         "x": {
          "bdata": "AQIDBAUGBwgJCgsM",
          "dtype": "i1"
         },
         "xaxis": "x",
         "y": {
          "bdata": "mpmZmeXKBUFmZmZm1OsGQTMzMzPnNwZBmpmZmWm9B0EzMzMzr6MHQZqZmZnBFAlBmpmZmVHRCUEAAAAA8IIIQZqZmZlZEwhBZmZmZrq9BkEAAAAAvFgGQc3MzMx0KQZB",
          "dtype": "f8"
         },
         "yaxis": "y"
        },
        {
         "legendgroup": "3 Room",
         "marker": {
          "color": "#fcb58a"
         },
         "name": "3 Room",
         "showlegend": true,
         "type": "bar",
         "visible": false,
         "x": {
          "bdata": "AQIDBAUGBwgJCgsM",
          "dtype": "i1"
         },
         "xaxis": "x",
         "y": {
          "bdata": "zczMzAiyD0GamZmZlf4PQWZmZmauRxBBZmZmZq5HEEGamZmZfZ4QQTMzMzMthBBBmpmZmdGTEEEAAAAA270QQQAAAAAI5RBBZmZmZrLoEEEAAAAA0G8QQc3MzMxWZRBB",
          "dtype": "f8"
         },
         "yaxis": "y"
        },
        {
         "legendgroup": "4 Room",
         "marker": {
          "color": "#ffdab9"
         },
         "name": "4 Room",
         "showlegend": true,
         "type": "bar",
         "visible": false,
         "x": {
          "bdata": "AQIDBAUGBwgJCgsM",
          "dtype": "i1"
         },
         "xaxis": "x",
         "y": {
          "bdata": "AAAAAFubGUEzMzMzcYoZQTMzMzMX5RlBAAAAAChJGkHNzMzMylUaQTMzMzMbRBpBAAAAAASIGkHNzMzMSIsaQTMzMzMdahpBAAAAAB5yGkEAAAAAKDcaQWZmZmbD9BlB",
          "dtype": "f8"
         },
         "yaxis": "y"
        },
        {
         "legendgroup": "5 Room",
         "marker": {
          "color": "#55a3e8"
         },
         "name": "5 Room",
         "showlegend": true,
         "type": "bar",
         "visible": false,
         "x": {
          "bdata": "AQIDBAUGBwgJCgsM",
          "dtype": "i1"
         },
         "xaxis": "x",
         "y": {
          "bdata": "ZmZmZiosIUEAAAAAjx4hQQAAAACPHiFBmpmZmfdAIUGamZmZo0shQQAAAABhTCFBZmZmZgJRIUHNzMxMvWkhQZqZmZl5biFBmpmZmTtwIUHNzMzMnX0hQc3MzMyvZiFB",
          "dtype": "f8"
         },
         "yaxis": "y"
        },
        {
         "legendgroup": "Executive",
         "marker": {
          "color": "#006cd1"
         },
         "name": "Executive",
         "showlegend": true,
         "type": "bar",
         "visible": false,
         "x": {
          "bdata": "AQIDBAUGBwgJCgsM",
          "dtype": "i1"
         },
         "xaxis": "x",
         "y": {
          "bdata": "MzMzM1BgJUEAAAAAwjElQQAAAIC6KSVBmpmZmUaDJUEzMzMz64wlQc3MzMzpVSVBmpmZmdWWJUHNzMzMd70lQc3MzMwsxiVBzczMzJfPJUEzMzMzI9clQczMzEyczSVB",
          "dtype": "f8"
         },
         "yaxis": "y"
        },
        {
         "legendgroup": "Multi-Generation",
         "marker": {
          "color": "#003376"
         },
         "name": "Multi-Generation",
         "showlegend": true,
         "type": "bar",
         "visible": false,
         "x": {
          "bdata": "AQIDBAUGBwgJCgsM",
          "dtype": "i1"
         },
         "xaxis": "x",
         "y": {
          "bdata": "zMzMzKh7J0FmZmZmVm4nQWZmZmZ0kCdBzMzMTEqNJ0GamZmZ1EIpQWZmZmZj0ydBmpmZmV/MJkGamZmZSXkmQc3MzMzEESlBMzMzs63lKEEAAAAAhQ8pQZqZmZlb8ihB",
          "dtype": "f8"
         },
         "yaxis": "y"
        },
        {
         "legendgroup": "All",
         "marker": {
          "color": "gray"
         },
         "name": "All",
         "showlegend": true,
         "type": "bar",
         "visible": false,
         "x": {
          "bdata": "AQIDBAUGBwgJCgsM",
          "dtype": "i1"
         },
         "xaxis": "x2",
         "y": {
          "bdata": "AAAAAH7kGEEzMzMz0eoYQQAAAADuZBlBZmZmZtS+GUEzMzMzBe0ZQQAAAAAe6hlBZmZmZgwVGkFmZmZmJisaQZqZmZmtFxpBzczMzFAfGkEzMzMzR8QZQQAAAADuZBlB",
          "dtype": "f8"
         },
         "yaxis": "y2"
        }
       ],
       "layout": {
        "annotations": [
         {
          "showarrow": false,
          "text": "Select X-axis Variable:",
          "x": 0.86,
          "xref": "paper",
          "y": 1.1,
          "yref": "paper"
         },
         {
          "showarrow": false,
          "text": "Plot Type:",
          "x": 0,
          "xref": "paper",
          "y": 1.1,
          "yref": "paper"
         }
        ],
        "autosize": false,
        "bargap": 0.15,
        "height": 500,
        "margin": {
         "b": 20,
         "l": 20,
         "r": 20,
         "t": 100
        },
        "template": {
         "data": {
          "bar": [
           {
            "error_x": {
             "color": "#2a3f5f"
            },
            "error_y": {
             "color": "#2a3f5f"
            },
            "marker": {
             "line": {
              "color": "#E5ECF6",
              "width": 0.5
             },
             "pattern": {
              "fillmode": "overlay",
              "size": 10,
              "solidity": 0.2
             }
            },
            "type": "bar"
           }
          ],
          "barpolar": [
           {
            "marker": {
             "line": {
              "color": "#E5ECF6",
              "width": 0.5
             },
             "pattern": {
              "fillmode": "overlay",
              "size": 10,
              "solidity": 0.2
             }
            },
            "type": "barpolar"
           }
          ],
          "carpet": [
           {
            "aaxis": {
             "endlinecolor": "#2a3f5f",
             "gridcolor": "white",
             "linecolor": "white",
             "minorgridcolor": "white",
             "startlinecolor": "#2a3f5f"
            },
            "baxis": {
             "endlinecolor": "#2a3f5f",
             "gridcolor": "white",
             "linecolor": "white",
             "minorgridcolor": "white",
             "startlinecolor": "#2a3f5f"
            },
            "type": "carpet"
           }
          ],
          "choropleth": [
           {
            "colorbar": {
             "outlinewidth": 0,
             "ticks": ""
            },
            "type": "choropleth"
           }
          ],
          "contour": [
           {
            "colorbar": {
             "outlinewidth": 0,
             "ticks": ""
            },
            "colorscale": [
             [
              0,
              "#0d0887"
             ],
             [
              0.1111111111111111,
              "#46039f"
             ],
             [
              0.2222222222222222,
              "#7201a8"
             ],
             [
              0.3333333333333333,
              "#9c179e"
             ],
             [
              0.4444444444444444,
              "#bd3786"
             ],
             [
              0.5555555555555556,
              "#d8576b"
             ],
             [
              0.6666666666666666,
              "#ed7953"
             ],
             [
              0.7777777777777778,
              "#fb9f3a"
             ],
             [
              0.8888888888888888,
              "#fdca26"
             ],
             [
              1,
              "#f0f921"
             ]
            ],
            "type": "contour"
           }
          ],
          "contourcarpet": [
           {
            "colorbar": {
             "outlinewidth": 0,
             "ticks": ""
            },
            "type": "contourcarpet"
           }
          ],
          "heatmap": [
           {
            "colorbar": {
             "outlinewidth": 0,
             "ticks": ""
            },
            "colorscale": [
             [
              0,
              "#0d0887"
             ],
             [
              0.1111111111111111,
              "#46039f"
             ],
             [
              0.2222222222222222,
              "#7201a8"
             ],
             [
              0.3333333333333333,
              "#9c179e"
             ],
             [
              0.4444444444444444,
              "#bd3786"
             ],
             [
              0.5555555555555556,
              "#d8576b"
             ],
             [
              0.6666666666666666,
              "#ed7953"
             ],
             [
              0.7777777777777778,
              "#fb9f3a"
             ],
             [
              0.8888888888888888,
              "#fdca26"
             ],
             [
              1,
              "#f0f921"
             ]
            ],
            "type": "heatmap"
           }
          ],
          "histogram": [
           {
            "marker": {
             "pattern": {
              "fillmode": "overlay",
              "size": 10,
              "solidity": 0.2
             }
            },
            "type": "histogram"
           }
          ],
          "histogram2d": [
           {
            "colorbar": {
             "outlinewidth": 0,
             "ticks": ""
            },
            "colorscale": [
             [
              0,
              "#0d0887"
             ],
             [
              0.1111111111111111,
              "#46039f"
             ],
             [
              0.2222222222222222,
              "#7201a8"
             ],
             [
              0.3333333333333333,
              "#9c179e"
             ],
             [
              0.4444444444444444,
              "#bd3786"
             ],
             [
              0.5555555555555556,
              "#d8576b"
             ],
             [
              0.6666666666666666,
              "#ed7953"
             ],
             [
              0.7777777777777778,
              "#fb9f3a"
             ],
             [
              0.8888888888888888,
              "#fdca26"
             ],
             [
              1,
              "#f0f921"
             ]
            ],
            "type": "histogram2d"
           }
          ],
          "histogram2dcontour": [
           {
            "colorbar": {
             "outlinewidth": 0,
             "ticks": ""
            },
            "colorscale": [
             [
              0,
              "#0d0887"
             ],
             [
              0.1111111111111111,
              "#46039f"
             ],
             [
              0.2222222222222222,
              "#7201a8"
             ],
             [
              0.3333333333333333,
              "#9c179e"
             ],
             [
              0.4444444444444444,
              "#bd3786"
             ],
             [
              0.5555555555555556,
              "#d8576b"
             ],
             [
              0.6666666666666666,
              "#ed7953"
             ],
             [
              0.7777777777777778,
              "#fb9f3a"
             ],
             [
              0.8888888888888888,
              "#fdca26"
             ],
             [
              1,
              "#f0f921"
             ]
            ],
            "type": "histogram2dcontour"
           }
          ],
          "mesh3d": [
           {
            "colorbar": {
             "outlinewidth": 0,
             "ticks": ""
            },
            "type": "mesh3d"
           }
          ],
          "parcoords": [
           {
            "line": {
             "colorbar": {
              "outlinewidth": 0,
              "ticks": ""
             }
            },
            "type": "parcoords"
           }
          ],
          "pie": [
           {
            "automargin": true,
            "type": "pie"
           }
          ],
          "scatter": [
           {
            "fillpattern": {
             "fillmode": "overlay",
             "size": 10,
             "solidity": 0.2
            },
            "type": "scatter"
           }
          ],
          "scatter3d": [
           {
            "line": {
             "colorbar": {
              "outlinewidth": 0,
              "ticks": ""
             }
            },
            "marker": {
             "colorbar": {
              "outlinewidth": 0,
              "ticks": ""
             }
            },
            "type": "scatter3d"
           }
          ],
          "scattercarpet": [
           {
            "marker": {
             "colorbar": {
              "outlinewidth": 0,
              "ticks": ""
             }
            },
            "type": "scattercarpet"
           }
          ],
          "scattergeo": [
           {
            "marker": {
             "colorbar": {
              "outlinewidth": 0,
              "ticks": ""
             }
            },
            "type": "scattergeo"
           }
          ],
          "scattergl": [
           {
            "marker": {
             "colorbar": {
              "outlinewidth": 0,
              "ticks": ""
             }
            },
            "type": "scattergl"
           }
          ],
          "scattermap": [
           {
            "marker": {
             "colorbar": {
              "outlinewidth": 0,
              "ticks": ""
             }
            },
            "type": "scattermap"
           }
          ],
          "scattermapbox": [
           {
            "marker": {
             "colorbar": {
              "outlinewidth": 0,
              "ticks": ""
             }
            },
            "type": "scattermapbox"
           }
          ],
          "scatterpolar": [
           {
            "marker": {
             "colorbar": {
              "outlinewidth": 0,
              "ticks": ""
             }
            },
            "type": "scatterpolar"
           }
          ],
          "scatterpolargl": [
           {
            "marker": {
             "colorbar": {
              "outlinewidth": 0,
              "ticks": ""
             }
            },
            "type": "scatterpolargl"
           }
          ],
          "scatterternary": [
           {
            "marker": {
             "colorbar": {
              "outlinewidth": 0,
              "ticks": ""
             }
            },
            "type": "scatterternary"
           }
          ],
          "surface": [
           {
            "colorbar": {
             "outlinewidth": 0,
             "ticks": ""
            },
            "colorscale": [
             [
              0,
              "#0d0887"
             ],
             [
              0.1111111111111111,
              "#46039f"
             ],
             [
              0.2222222222222222,
              "#7201a8"
             ],
             [
              0.3333333333333333,
              "#9c179e"
             ],
             [
              0.4444444444444444,
              "#bd3786"
             ],
             [
              0.5555555555555556,
              "#d8576b"
             ],
             [
              0.6666666666666666,
              "#ed7953"
             ],
             [
              0.7777777777777778,
              "#fb9f3a"
             ],
             [
              0.8888888888888888,
              "#fdca26"
             ],
             [
              1,
              "#f0f921"
             ]
            ],
            "type": "surface"
           }
          ],
          "table": [
           {
            "cells": {
             "fill": {
              "color": "#EBF0F8"
             },
             "line": {
              "color": "white"
             }
            },
            "header": {
             "fill": {
              "color": "#C8D4E3"
             },
             "line": {
              "color": "white"
             }
            },
            "type": "table"
           }
          ]
         },
         "layout": {
          "annotationdefaults": {
           "arrowcolor": "#2a3f5f",
           "arrowhead": 0,
           "arrowwidth": 1
          },
          "autotypenumbers": "strict",
          "coloraxis": {
           "colorbar": {
            "outlinewidth": 0,
            "ticks": ""
           }
          },
          "colorscale": {
           "diverging": [
            [
             0,
             "#8e0152"
            ],
            [
             0.1,
             "#c51b7d"
            ],
            [
             0.2,
             "#de77ae"
            ],
            [
             0.3,
             "#f1b6da"
            ],
            [
             0.4,
             "#fde0ef"
            ],
            [
             0.5,
             "#f7f7f7"
            ],
            [
             0.6,
             "#e6f5d0"
            ],
            [
             0.7,
             "#b8e186"
            ],
            [
             0.8,
             "#7fbc41"
            ],
            [
             0.9,
             "#4d9221"
            ],
            [
             1,
             "#276419"
            ]
           ],
           "sequential": [
            [
             0,
             "#0d0887"
            ],
            [
             0.1111111111111111,
             "#46039f"
            ],
            [
             0.2222222222222222,
             "#7201a8"
            ],
            [
             0.3333333333333333,
             "#9c179e"
            ],
            [
             0.4444444444444444,
             "#bd3786"
            ],
            [
             0.5555555555555556,
             "#d8576b"
            ],
            [
             0.6666666666666666,
             "#ed7953"
            ],
            [
             0.7777777777777778,
             "#fb9f3a"
            ],
            [
             0.8888888888888888,
             "#fdca26"
            ],
            [
             1,
             "#f0f921"
            ]
           ],
           "sequentialminus": [
            [
             0,
             "#0d0887"
            ],
            [
             0.1111111111111111,
             "#46039f"
            ],
            [
             0.2222222222222222,
             "#7201a8"
            ],
            [
             0.3333333333333333,
             "#9c179e"
            ],
            [
             0.4444444444444444,
             "#bd3786"
            ],
            [
             0.5555555555555556,
             "#d8576b"
            ],
            [
             0.6666666666666666,
             "#ed7953"
            ],
            [
             0.7777777777777778,
             "#fb9f3a"
            ],
            [
             0.8888888888888888,
             "#fdca26"
            ],
            [
             1,
             "#f0f921"
            ]
           ]
          },
          "colorway": [
           "#636efa",
           "#EF553B",
           "#00cc96",
           "#ab63fa",
           "#FFA15A",
           "#19d3f3",
           "#FF6692",
           "#B6E880",
           "#FF97FF",
           "#FECB52"
          ],
          "font": {
           "color": "#2a3f5f"
          },
          "geo": {
           "bgcolor": "white",
           "lakecolor": "white",
           "landcolor": "#E5ECF6",
           "showlakes": true,
           "showland": true,
           "subunitcolor": "white"
          },
          "hoverlabel": {
           "align": "left"
          },
          "hovermode": "closest",
          "mapbox": {
           "style": "light"
          },
          "paper_bgcolor": "white",
          "plot_bgcolor": "#E5ECF6",
          "polar": {
           "angularaxis": {
            "gridcolor": "white",
            "linecolor": "white",
            "ticks": ""
           },
           "bgcolor": "#E5ECF6",
           "radialaxis": {
            "gridcolor": "white",
            "linecolor": "white",
            "ticks": ""
           }
          },
          "scene": {
           "xaxis": {
            "backgroundcolor": "#E5ECF6",
            "gridcolor": "white",
            "gridwidth": 2,
            "linecolor": "white",
            "showbackground": true,
            "ticks": "",
            "zerolinecolor": "white"
           },
           "yaxis": {
            "backgroundcolor": "#E5ECF6",
            "gridcolor": "white",
            "gridwidth": 2,
            "linecolor": "white",
            "showbackground": true,
            "ticks": "",
            "zerolinecolor": "white"
           },
           "zaxis": {
            "backgroundcolor": "#E5ECF6",
            "gridcolor": "white",
            "gridwidth": 2,
            "linecolor": "white",
            "showbackground": true,
            "ticks": "",
            "zerolinecolor": "white"
           }
          },
          "shapedefaults": {
           "line": {
            "color": "#2a3f5f"
           }
          },
          "ternary": {
           "aaxis": {
            "gridcolor": "white",
            "linecolor": "white",
            "ticks": ""
           },
           "baxis": {
            "gridcolor": "white",
            "linecolor": "white",
            "ticks": ""
           },
           "bgcolor": "#E5ECF6",
           "caxis": {
            "gridcolor": "white",
            "linecolor": "white",
            "ticks": ""
           }
          },
          "title": {
           "x": 0.05
          },
          "xaxis": {
           "automargin": true,
           "gridcolor": "white",
           "linecolor": "white",
           "ticks": "",
           "title": {
            "standoff": 15
           },
           "zerolinecolor": "white",
           "zerolinewidth": 2
          },
          "yaxis": {
           "automargin": true,
           "gridcolor": "white",
           "linecolor": "white",
           "ticks": "",
           "title": {
            "standoff": 15
           },
           "zerolinecolor": "white",
           "zerolinewidth": 2
          }
         }
        },
        "title": {
         "text": "Median Flat Resale Price By Flat Type (Inflation Adjusted)",
         "y": 0.95
        },
        "updatemenus": [
         {
          "buttons": [
           {
            "args": [
             {
              "visible": [
               true,
               true,
               true,
               true,
               true,
               true,
               true,
               true,
               false,
               false,
               false,
               false,
               false,
               false,
               false,
               false,
               false,
               false,
               false,
               false,
               false,
               false,
               false,
               false,
               false,
               false,
               false,
               false,
               false,
               false,
               false,
               false,
               false,
               false,
               false,
               false,
               false,
               false,
               false,
               false,
               false,
               false,
               false,
               false,
               false,
               false,
               false,
               false,
               false,
               false,
               false,
               false,
               false,
               false,
               false,
               false,
               false,
               false,
               false,
               false,
               false,
               false,
               false,
               false
              ]
             },
             {
              "xaxis.title": "Year",
              "xaxis2.title": "Year"
             }
            ],
            "label": "Year",
            "method": "update"
           },
           {
            "args": [
             {
              "visible": [
               false,
               false,
               false,
               false,
               false,
               false,
               false,
               false,
               false,
               false,
               false,
               false,
               false,
               false,
               false,
               false,
               true,
               true,
               true,
               true,
               true,
               true,
               true,
               true,
               false,
               false,
               false,
               false,
               false,
               false,
               false,
               false,
               false,
               false,
               false,
               false,
               false,
               false,
               false,
               false,
               false,
               false,
               false,
               false,
               false,
               false,
               false,
               false,
               false,
               false,
               false,
               false,
               false,
               false,
               false,
               false,
               false,
               false,
               false,
               false,
               false,
               false,
               false,
               false
              ]
             },
             {
              "xaxis.title": "Lease Year",
              "xaxis2.title": "Lease Year"
             }
            ],
            "label": "Lease Year",
            "method": "update"
           },
           {
            "args": [
             {
              "visible": [
               false,
               false,
               false,
               false,
               false,
               false,
               false,
               false,
               false,
               false,
               false,
               false,
               false,
               false,
               false,
               false,
               false,
               false,
               false,
               false,
               false,
               false,
               false,
               false,
               false,
               false,
               false,
               false,
               false,
               false,
               false,
               false,
               true,
               true,
               true,
               true,
               true,
               true,
               true,
               true,
               false,
               false,
               false,
               false,
               false,
               false,
               false,
               false,
               false,
               false,
               false,
               false,
               false,
               false,
               false,
               false,
               false,
               false,
               false,
               false,
               false,
               false,
               false,
               false
              ]
             },
             {
              "xaxis.title": "Years Leased",
              "xaxis2.title": "Years Leased"
             }
            ],
            "label": "Years Leased",
            "method": "update"
           },
           {
            "args": [
             {
              "visible": [
               false,
               false,
               false,
               false,
               false,
               false,
               false,
               false,
               false,
               false,
               false,
               false,
               false,
               false,
               false,
               false,
               false,
               false,
               false,
               false,
               false,
               false,
               false,
               false,
               false,
               false,
               false,
               false,
               false,
               false,
               false,
               false,
               false,
               false,
               false,
               false,
               false,
               false,
               false,
               false,
               false,
               false,
               false,
               false,
               false,
               false,
               false,
               false,
               true,
               true,
               true,
               true,
               true,
               true,
               true,
               true,
               false,
               false,
               false,
               false,
               false,
               false,
               false,
               false
              ]
             },
             {
              "xaxis.title": "Month",
              "xaxis2.title": "Month"
             }
            ],
            "label": "Month",
            "method": "update"
           }
          ],
          "direction": "down",
          "pad": {
           "r": 10,
           "t": 10
          },
          "showactive": true,
          "x": 1.01,
          "xanchor": "right",
          "y": 1.15,
          "yanchor": "top"
         },
         {
          "buttons": [
           {
            "args": [
             {
              "visible": [
               true,
               true,
               true,
               true,
               true,
               true,
               true,
               true,
               false,
               false,
               false,
               false,
               false,
               false,
               false,
               false,
               false,
               false,
               false,
               false,
               false,
               false,
               false,
               false,
               false,
               false,
               false,
               false,
               false,
               false,
               false,
               false,
               false,
               false,
               false,
               false,
               false,
               false,
               false,
               false,
               false,
               false,
               false,
               false,
               false,
               false,
               false,
               false,
               false,
               false,
               false,
               false,
               false,
               false,
               false,
               false,
               false,
               false,
               false,
               false,
               false,
               false,
               false,
               false
              ]
             },
             {
              "barmode": "group"
             }
            ],
            "label": "Line Plot",
            "method": "update"
           },
           {
            "args": [
             {
              "visible": [
               false,
               false,
               false,
               false,
               false,
               false,
               false,
               false,
               true,
               true,
               true,
               true,
               true,
               true,
               true,
               true,
               false,
               false,
               false,
               false,
               false,
               false,
               false,
               false,
               false,
               false,
               false,
               false,
               false,
               false,
               false,
               false,
               false,
               false,
               false,
               false,
               false,
               false,
               false,
               false,
               false,
               false,
               false,
               false,
               false,
               false,
               false,
               false,
               false,
               false,
               false,
               false,
               false,
               false,
               false,
               false,
               false,
               false,
               false,
               false,
               false,
               false,
               false,
               false
              ]
             },
             {
              "barmode": "stack"
             }
            ],
            "label": "Bar Plot",
            "method": "update"
           }
          ],
          "direction": "right",
          "pad": {
           "r": 10,
           "t": 10
          },
          "showactive": true,
          "type": "buttons",
          "x": 0.26,
          "xanchor": "right",
          "y": 1.15,
          "yanchor": "top"
         }
        ],
        "width": 1100,
        "xaxis": {
         "anchor": "y",
         "domain": [
          0,
          1
         ],
         "title": {
          "text": "Year"
         }
        },
        "xaxis2": {
         "anchor": "y2",
         "domain": [
          0,
          1
         ],
         "title": {
          "text": "Year"
         }
        },
        "yaxis": {
         "anchor": "x",
         "domain": [
          0.32,
          1
         ],
         "title": {
          "text": "Median Resale Price (S$)"
         }
        },
        "yaxis2": {
         "anchor": "x2",
         "domain": [
          0,
          0.17
         ]
        }
       }
      }
     },
     "metadata": {},
     "output_type": "display_data"
    }
   ],
   "source": [
    "catplots(df_p, x_vars, 'flat_type', 'Median Flat Resale Price By Flat Type (Inflation Adjusted)', 'median')"
   ]
  },
  {
   "cell_type": "markdown",
   "id": "d82417d2",
   "metadata": {},
   "source": [
    "It looks like the mean price of the cheapest apartments has been steadily increasing over the years? What is driving this price increase? Could it be due to cultural changes in the country? It might be useful to plot the mean price by flat type and another variable such as starting floor to investigate what could be driving this shift. It could also be that there are fewer 1 bedroom and 2 bedroom homes available for **sale** (not rent) which could be driving the price trends.\n",
    "\n",
    "In any case, it might also help to calculate the difference between the most expensive homes (Multi Generation) and the cheapest homes (1 Bedroom) to visualise how the delta has shrunk over time."
   ]
  },
  {
   "cell_type": "code",
   "execution_count": 25,
   "id": "85023afb",
   "metadata": {},
   "outputs": [
    {
     "data": {
      "application/vnd.plotly.v1+json": {
       "config": {
        "plotlyServerURL": "https://plot.ly"
       },
       "data": [
        {
         "legendgroup": "1-10",
         "line": {
          "color": "#ff4500"
         },
         "mode": "lines",
         "name": "1-10",
         "showlegend": true,
         "type": "scatter",
         "visible": true,
         "x": {
          "bdata": "xgfHB8gHyQfKB8sHzAfNB84HzwfQB9EH0gfTB9QH1QfWB9cH2AfZB9oH2wfcB90H3gffB+AH4QfiB+MH5AflB+YH5wfoBw==",
          "dtype": "i2"
         },
         "xaxis": "x",
         "y": {
          "bdata": "ZmZmZi4a+EBmZmZm5lT5QGZmZmbmHftAZmZmZmpiBUEAAAAA2FsPQTMzMzOlwRJBMzMzM2FrGEGamZmZ9x0cQc3MzMxC8BZBZmZmZlCEFkFmZmZm0rQWQTMzMzONCBVBAAAAAJrWE0HNzMzMrBEUQZqZmZmnoBRBZmZmZsZmFEHNzMzMqlAUQc3MzMxY8xVBZmZmZtw+GkEAAAAAYswaQQAAAACwuh1BZmZmZkA+IEGamZmZrsMgQWZmZma+XyBBmpmZmZ9pHUFmZmZmvC8cQTMzMzOlVRxBAAAAAHZ8HEGamZmZ5fYbQTMzMzNBfBtBMzMzMwkbHUGamZmZ+4ggQWZmZmaKjSFBmpmZmflbIUFmZmZmiachQQ==",
          "dtype": "f8"
         },
         "yaxis": "y"
        },
        {
         "legendgroup": "11-20",
         "line": {
          "color": "#faa272"
         },
         "mode": "lines",
         "name": "11-20",
         "showlegend": true,
         "type": "scatter",
         "visible": true,
         "x": {
          "bdata": "xgfHB8gHyQfKB8sHzAfNB84HzwfQB9EH0gfTB9QH1QfWB9cH2AfZB9oH2wfcB90H3gffB+AH4QfiB+MH5AflB+YH5wfoBw==",
          "dtype": "i2"
         },
         "xaxis": "x",
         "y": {
          "bdata": "MzMzM5tr/kBmZmZmBuT/QJqZmZmtDgFBmpmZmb3MC0HNzMzMtNASQc3MzMzWzxZBMzMzMwubHEEzMzMzg7YgQWZmZmZSpBtBAAAAAJjdGkEzMzMzTXgdQWZmZmYW+hpBZmZmZsp7GUHNzMzMiM4YQWZmZmas+xhBMzMzM8UJGUFmZmZmg30ZQc3MzMwucBtBzczMzPRYIEHNzMzM4isgQWZmZmZX9CFBmpmZmbGSI0EAAAAA5DYjQWZmZmZ52SNBzczMzFN7IUHNzMzMPJcgQWZmZmYBkiBBMzMzMz6WIEEAAAAABlAgQZqZmZlQYSBBMzMzMzzlIEFmZmZmls8iQQAAAADmKCRBmpmZmTUCJEEAAAAAdo8kQQ==",
          "dtype": "f8"
         },
         "yaxis": "y"
        },
        {
         "legendgroup": "21-30",
         "line": {
          "color": "#ffdab9"
         },
         "mode": "lines",
         "name": "21-30",
         "showlegend": true,
         "type": "scatter",
         "visible": true,
         "x": {
          "bdata": "xgfHB8gHyQfKB8sHzAfNB84HzwfQB9EH0gfTB9QH1QfWB9cH2AfZB9oH2wfcB90H3gffB+AH4QfiB+MH5AflB+YH5wfoBw==",
          "dtype": "i2"
         },
         "xaxis": "x",
         "y": {
          "bdata": "MzMzM9vPDUFmZmZmnogOQZqZmZmPlhJBZmZmZmr7GUGamZmZC9YeQTMzMzOO9SJBZmZmZm4sJ0EAAAAAahonQQAAAAAALiNBNDMzM3B7IkGamZmZszEkQQAAAADQoiJBzczMzNDuIUEzMzMzU28hQZqZmZnncCFBZmZm5qjgIEEzMzMzfIshQZqZmZk4KSNBAAAAAH0rJkGamZmZeEgkQc3MzEyM5ydBzczMTJkHKkEAAAAAJ7wpQc3MzMwIMipBzczMzCLKJ0HNzMzMsPkoQWZmZmZ2vyhBAAAAAOfOKEEAAAAAMzMoQQAAAACyMydBAAAAgKybJkGamZmZNOspQc3MzMx/dStBZmZmZiyEKUHNzMxMVkcpQQ==",
          "dtype": "f8"
         },
         "yaxis": "y"
        },
        {
         "legendgroup": "31-40",
         "line": {
          "color": "#0088ff"
         },
         "mode": "lines",
         "name": "31-40",
         "showlegend": true,
         "type": "scatter",
         "visible": true,
         "x": {
          "bdata": "2AfZB9oH2wfcB90H3gffB+AH4QfiB+MH5AflB+YH5wfoBw==",
          "dtype": "i2"
         },
         "xaxis": "x",
         "y": {
          "bdata": "AAAAAKHBKEEzMzMztlwoQQAAAADb7StBZmZmZto8LUFmZmbmOv4sQTMzMzMuHSxBzczMzFZ3K0FmZmZmxtwuQc3MzMx24C1BmpmZmZ5eLUFmZmZmCtstQWZmZmZCly5BZmZmZimRLUFmZmbmyJguQWZmZuZzDi9BzczMTFn6LkEAAACAlAMwQQ==",
          "dtype": "f8"
         },
         "yaxis": "y"
        },
        {
         "legendgroup": "41-50",
         "line": {
          "color": "#003376"
         },
         "mode": "lines",
         "name": "41-50",
         "showlegend": true,
         "type": "scatter",
         "visible": true,
         "x": {
          "bdata": "3wfgB+EH4gfjB+QH5QfmB+cH6Ac=",
          "dtype": "i2"
         },
         "xaxis": "x",
         "y": {
          "bdata": "zczMzMW7MEFmZmbm0rcxQZqZmRlA/jFBAAAAgDOoMUGamZkZsA8zQQAAAIBQvzFBzMzMjOZmMkEAAACA8So1QTQzMzNP9jRBmpmZGWpTNkE=",
          "dtype": "f8"
         },
         "yaxis": "y"
        },
        {
         "legendgroup": "All",
         "line": {
          "color": "gray"
         },
         "mode": "lines",
         "name": "All",
         "showlegend": true,
         "type": "scatter",
         "visible": true,
         "x": {
          "bdata": "xgfHB8gHyQfKB8sHzAfNB84HzwfQB9EH0gfTB9QH1QfWB9cH2AfZB9oH2wfcB90H3gffB+AH4QfiB+MH5AflB+YH5wfoBw==",
          "dtype": "i2"
         },
         "xaxis": "x2",
         "y": {
          "bdata": "ZmZmZv6R+EAzMzMzs8j5QM3MzMzU/ftAZmZmZqYGBkGamZmZ4cYPQc3MzMyCDxNBMzMzM+23GEGamZmZo4IcQZqZmZmbIRdBZmZmZojOFkGamZmZwxcXQWZmZma0chVBzczMzN5KFEEAAAAA0I8UQWZmZmYWEhVBmpmZmXndFEFmZmZmyA0VQWZmZmZ83RZBMzMzMwlSG0HNzMzM8rgbQQAAAABGjx5BMzMzMzWmIEHNzMzMZCshQWZmZmaHySBBMzMzMxVHHkGamZmZaeYcQZqZmZkZaR1BmpmZmWORHUHNzMzMTkEdQc3MzMxkjhxBZmZmZqIrHkEzMzMz1ywhQc3MzMyAPyJBAAAAAKwDIkEAAAAAn2YiQQ==",
          "dtype": "f8"
         },
         "yaxis": "y2"
        },
        {
         "legendgroup": "1-10",
         "marker": {
          "color": "#ff4500"
         },
         "name": "1-10",
         "showlegend": true,
         "type": "bar",
         "visible": false,
         "x": {
          "bdata": "xgfHB8gHyQfKB8sHzAfNB84HzwfQB9EH0gfTB9QH1QfWB9cH2AfZB9oH2wfcB90H3gffB+AH4QfiB+MH5AflB+YH5wfoBw==",
          "dtype": "i2"
         },
         "xaxis": "x",
         "y": {
          "bdata": "ZmZmZi4a+EBmZmZm5lT5QGZmZmbmHftAZmZmZmpiBUEAAAAA2FsPQTMzMzOlwRJBMzMzM2FrGEGamZmZ9x0cQc3MzMxC8BZBZmZmZlCEFkFmZmZm0rQWQTMzMzONCBVBAAAAAJrWE0HNzMzMrBEUQZqZmZmnoBRBZmZmZsZmFEHNzMzMqlAUQc3MzMxY8xVBZmZmZtw+GkEAAAAAYswaQQAAAACwuh1BZmZmZkA+IEGamZmZrsMgQWZmZma+XyBBmpmZmZ9pHUFmZmZmvC8cQTMzMzOlVRxBAAAAAHZ8HEGamZmZ5fYbQTMzMzNBfBtBMzMzMwkbHUGamZmZ+4ggQWZmZmaKjSFBmpmZmflbIUFmZmZmiachQQ==",
          "dtype": "f8"
         },
         "yaxis": "y"
        },
        {
         "legendgroup": "11-20",
         "marker": {
          "color": "#faa272"
         },
         "name": "11-20",
         "showlegend": true,
         "type": "bar",
         "visible": false,
         "x": {
          "bdata": "xgfHB8gHyQfKB8sHzAfNB84HzwfQB9EH0gfTB9QH1QfWB9cH2AfZB9oH2wfcB90H3gffB+AH4QfiB+MH5AflB+YH5wfoBw==",
          "dtype": "i2"
         },
         "xaxis": "x",
         "y": {
          "bdata": "MzMzM5tr/kBmZmZmBuT/QJqZmZmtDgFBmpmZmb3MC0HNzMzMtNASQc3MzMzWzxZBMzMzMwubHEEzMzMzg7YgQWZmZmZSpBtBAAAAAJjdGkEzMzMzTXgdQWZmZmYW+hpBZmZmZsp7GUHNzMzMiM4YQWZmZmas+xhBMzMzM8UJGUFmZmZmg30ZQc3MzMwucBtBzczMzPRYIEHNzMzM4isgQWZmZmZX9CFBmpmZmbGSI0EAAAAA5DYjQWZmZmZ52SNBzczMzFN7IUHNzMzMPJcgQWZmZmYBkiBBMzMzMz6WIEEAAAAABlAgQZqZmZlQYSBBMzMzMzzlIEFmZmZmls8iQQAAAADmKCRBmpmZmTUCJEEAAAAAdo8kQQ==",
          "dtype": "f8"
         },
         "yaxis": "y"
        },
        {
         "legendgroup": "21-30",
         "marker": {
          "color": "#ffdab9"
         },
         "name": "21-30",
         "showlegend": true,
         "type": "bar",
         "visible": false,
         "x": {
          "bdata": "xgfHB8gHyQfKB8sHzAfNB84HzwfQB9EH0gfTB9QH1QfWB9cH2AfZB9oH2wfcB90H3gffB+AH4QfiB+MH5AflB+YH5wfoBw==",
          "dtype": "i2"
         },
         "xaxis": "x",
         "y": {
          "bdata": "MzMzM9vPDUFmZmZmnogOQZqZmZmPlhJBZmZmZmr7GUGamZmZC9YeQTMzMzOO9SJBZmZmZm4sJ0EAAAAAahonQQAAAAAALiNBNDMzM3B7IkGamZmZszEkQQAAAADQoiJBzczMzNDuIUEzMzMzU28hQZqZmZnncCFBZmZm5qjgIEEzMzMzfIshQZqZmZk4KSNBAAAAAH0rJkGamZmZeEgkQc3MzEyM5ydBzczMTJkHKkEAAAAAJ7wpQc3MzMwIMipBzczMzCLKJ0HNzMzMsPkoQWZmZmZ2vyhBAAAAAOfOKEEAAAAAMzMoQQAAAACyMydBAAAAgKybJkGamZmZNOspQc3MzMx/dStBZmZmZiyEKUHNzMxMVkcpQQ==",
          "dtype": "f8"
         },
         "yaxis": "y"
        },
        {
         "legendgroup": "31-40",
         "marker": {
          "color": "#0088ff"
         },
         "name": "31-40",
         "showlegend": true,
         "type": "bar",
         "visible": false,
         "x": {
          "bdata": "2AfZB9oH2wfcB90H3gffB+AH4QfiB+MH5AflB+YH5wfoBw==",
          "dtype": "i2"
         },
         "xaxis": "x",
         "y": {
          "bdata": "AAAAAKHBKEEzMzMztlwoQQAAAADb7StBZmZmZto8LUFmZmbmOv4sQTMzMzMuHSxBzczMzFZ3K0FmZmZmxtwuQc3MzMx24C1BmpmZmZ5eLUFmZmZmCtstQWZmZmZCly5BZmZmZimRLUFmZmbmyJguQWZmZuZzDi9BzczMTFn6LkEAAACAlAMwQQ==",
          "dtype": "f8"
         },
         "yaxis": "y"
        },
        {
         "legendgroup": "41-50",
         "marker": {
          "color": "#003376"
         },
         "name": "41-50",
         "showlegend": true,
         "type": "bar",
         "visible": false,
         "x": {
          "bdata": "3wfgB+EH4gfjB+QH5QfmB+cH6Ac=",
          "dtype": "i2"
         },
         "xaxis": "x",
         "y": {
          "bdata": "zczMzMW7MEFmZmbm0rcxQZqZmRlA/jFBAAAAgDOoMUGamZkZsA8zQQAAAIBQvzFBzMzMjOZmMkEAAACA8So1QTQzMzNP9jRBmpmZGWpTNkE=",
          "dtype": "f8"
         },
         "yaxis": "y"
        },
        {
         "legendgroup": "All",
         "marker": {
          "color": "gray"
         },
         "name": "All",
         "showlegend": true,
         "type": "bar",
         "visible": false,
         "x": {
          "bdata": "xgfHB8gHyQfKB8sHzAfNB84HzwfQB9EH0gfTB9QH1QfWB9cH2AfZB9oH2wfcB90H3gffB+AH4QfiB+MH5AflB+YH5wfoBw==",
          "dtype": "i2"
         },
         "xaxis": "x2",
         "y": {
          "bdata": "ZmZmZv6R+EAzMzMzs8j5QM3MzMzU/ftAZmZmZqYGBkGamZmZ4cYPQc3MzMyCDxNBMzMzM+23GEGamZmZo4IcQZqZmZmbIRdBZmZmZojOFkGamZmZwxcXQWZmZma0chVBzczMzN5KFEEAAAAA0I8UQWZmZmYWEhVBmpmZmXndFEFmZmZmyA0VQWZmZmZ83RZBMzMzMwlSG0HNzMzM8rgbQQAAAABGjx5BMzMzMzWmIEHNzMzMZCshQWZmZmaHySBBMzMzMxVHHkGamZmZaeYcQZqZmZkZaR1BmpmZmWORHUHNzMzMTkEdQc3MzMxkjhxBZmZmZqIrHkEzMzMz1ywhQc3MzMyAPyJBAAAAAKwDIkEAAAAAn2YiQQ==",
          "dtype": "f8"
         },
         "yaxis": "y2"
        },
        {
         "legendgroup": "1-10",
         "line": {
          "color": "#ff4500"
         },
         "mode": "lines",
         "name": "1-10",
         "showlegend": true,
         "type": "scatter",
         "visible": false,
         "x": {
          "bdata": "rgevB7AHsQeyB7MHtAe1B7YHtwe4B7kHuge7B7wHvQe+B78HwAfBB8IHwwfEB8UHxgfHB8gHyQfKB8sHzAfNB84HzwfQB9EH0gfTB9QH1QfWB9cH2AfZB9oH2wfcB90H3gffB+AH4QfiB+MH5AflBw==",
          "dtype": "i2"
         },
         "xaxis": "x",
         "y": {
          "bdata": "AAAAAGIREEHNzMzM7qYMQc3MzMxkjgxBMzMzM5erCkEAAAAAugMQQc3MzMzopAtBmpmZmY0mEUEzMzMzNz4PQc3MzMyMOxBBMzMzMyd6EkHNzMzMYAATQQAAAADKfxJBZmZmZga2E0EzMzMzD9ITQczMzMz/OxNBzczMzDhCE0EzMzMzbMUUQZqZmZlbUhNBzczMzJFtFkEzMzMzh/kVQQAAAACYrhZBAAAAAMBMF0HNzMzMpiwZQQAAAAB4BhxBZmZmZjFoG0HNzMzMPA8dQc3MzEzUAyJBmpmZmU/EIEGamZmZKpkgQWZmZmbK9SBBAAAAAIo1H0HNzMzMajodQQAAAACiZBxBAAAAADvoHUEAAAAAxv8dQTQzMzOcex9BmpmZmfFZH0EzMzOz+hYgQZqZmZl0EyBBZmZmZuW+IUEzMzMz8bIlQQAAAAAqDiFBAAAAAD4xIkFmZmZmYy8kQZqZmZmmYCFBMzMzMxOPJ0EAAAAAq+8fQZqZmZkMayFBZmZmZhtWIEEzMzMzcJIgQWZmZmb5xCJBzczMzHuvI0HNzMzMN/8iQTMzMzOCvyJBzMzMzEP7JEEzMzMz3p0gQQ==",
          "dtype": "f8"
         },
         "yaxis": "y"
        },
        {
         "legendgroup": "11-20",
         "line": {
          "color": "#faa272"
         },
         "mode": "lines",
         "name": "11-20",
         "showlegend": true,
         "type": "scatter",
         "visible": false,
         "x": {
          "bdata": "rwewB7EHsgezB7QHtQe2B7cHuAe5B7oHuwe8B70Hvge/B8AHwQfCB8MHxAfFB8YHxwfIB8kHygfLB8wHzQfOB88H0AfRB9IH0wfUB9UH1gfXB9gH2QfaB9sH3AfdB94H3wfgB+EH4gfjB+QH5Qc=",
          "dtype": "i2"
         },
         "xaxis": "x",
         "y": {
          "bdata": "ZmZmZu7BC0EAAAAAkuQRQc3MzMzo5Q5BzczMzFodE0FmZmZmWmEQQQAAAABGZBNBzczMzCK8E0FmZmZmkOcVQQAAAAAGWRZBZmZmZrDRFUFmZmZmGDoWQc3MzMziKBhBAAAAAGppGUHMzMzM+owZQQAAAAA6HhlBMzMzMwNoHEGamZmZ69oVQTMzMzMhfBxBzczMzD6kHUHNzMzMCF8bQQAAAADjPyJBZmZmZhefIEGamZkZYXIhQTMzMzNFcyFBMzMzMyuKGEHMzMzMGx8kQQAAAAAALiNBmpmZmau+IkEzMzMzGrMiQQAAAAC41SFBmpmZmYfsIEHNzMzMSw4hQQAAAABdFyBBmpmZmdaiIEHNzMzMddsgQZqZmZn8qCBBAAAAAPICIUHNzMzM8AQhQQAAAACRzyJBmpmZmZ4SJ0HNzMzMGcAiQZqZmZna6SRBmpmZmW6JJUGamZmZSKAhQZqZmZnUrStBZmZmZo3yIEEAAACA8kAjQczMzMzV7yBBmpmZGZdPIUGamZmZRv0jQTMzM7MN7iRBzczMzFkHJUEAAAAAI5kkQZqZmZlhlydBzczMzGJvF0E=",
          "dtype": "f8"
         },
         "yaxis": "y"
        },
        {
         "legendgroup": "21-30",
         "line": {
          "color": "#ffdab9"
         },
         "mode": "lines",
         "name": "21-30",
         "showlegend": true,
         "type": "scatter",
         "visible": false,
         "x": {
          "bdata": "tAe1B7YHtwe4B7kHuge7B7wHvQe+B78HwAfBB8IHwwfEB8UHxgfIB8kHywfMB80HzgfPB9AH0QfSB9MH1AfVB9YH1wfYB9kH2gfbB9wH3QfeB98H4AfhB+IH4wfkBw==",
          "dtype": "i2"
         },
         "xaxis": "x",
         "y": {
          "bdata": "zMzMzMqDGEHNzMzMYWMSQTQzMzNyph1BZmZmZvFEJEGamZmZmEAiQTMzMzO5/yNBAAAAAKVKI0FmZmZmlcYhQTMzM7P0uSNBZmZm5utAI0HNzMzMNX0hQTMzMzO+yCRBzczMzB2RI0EzMzMzOfgiQWZmZmZZziVBZmZmZhPOLEHNzMxMVQQkQZqZmZn6YSVBNDMzMx0QLEE0MzMzwgIlQTMzMzOqtSpBzczMTPVpKkEzMzMzvC4qQZqZmZm8ZiZBmpmZmThVJkGamZkZFCUkQQAAAIB3QClBMzMzM8m8J0GamZkZ4aYpQWZmZmaIuidBMzMzM0cBIkHNzMzMkXIlQc3MzMxMLitBzczMzHBxLUEAAAAAgY8rQczMzExD7ipBMzMzM9J1H0HNzMzMOg4wQTMzMzMD/SlBAAAAAPGDJUGamZmZfNgiQTMzMzOfdiFBzczMzAHUJUEAAAAASIMrQc3MzMxMES5BZmZmZl4PKEFmZmbmkWcwQQ==",
          "dtype": "f8"
         },
         "yaxis": "y"
        },
        {
         "legendgroup": "31-40",
         "line": {
          "color": "#0088ff"
         },
         "mode": "lines",
         "name": "31-40",
         "showlegend": true,
         "type": "scatter",
         "visible": false,
         "x": {
          "bdata": "1gfYB9kH2wfcB90H3gffB+AH4QfiB+MH5Ac=",
          "dtype": "i2"
         },
         "xaxis": "x",
         "y": {
          "bdata": "MzMzs77iK0HNzMzMik8sQTQzMzNXZytBZmZmZgntMUFmZmbmnSkwQTMzMzOA3itBzczMzGWdK0EzMzMzmLgpQWZmZua5yC5BMzMzMy4/L0GamZmZnR0vQWZmZmYyny5BAAAAgIYXMkE=",
          "dtype": "f8"
         },
         "yaxis": "y"
        },
        {
         "legendgroup": "41-50",
         "line": {
          "color": "#003376"
         },
         "mode": "lines",
         "name": "41-50",
         "showlegend": true,
         "type": "scatter",
         "visible": false,
         "x": {
          "bdata": "2wfgB+MH",
          "dtype": "i2"
         },
         "xaxis": "x",
         "y": {
          "bdata": "MzMzMwfTM0EzMzMzfy8vQZqZmRmCvzJB",
          "dtype": "f8"
         },
         "yaxis": "y"
        },
        {
         "legendgroup": "All",
         "line": {
          "color": "gray"
         },
         "mode": "lines",
         "name": "All",
         "showlegend": true,
         "type": "scatter",
         "visible": false,
         "x": {
          "bdata": "rgevB7AHsQeyB7MHtAe1B7YHtwe4B7kHuge7B7wHvQe+B78HwAfBB8IHwwfEB8UHxgfHB8gHyQfKB8sHzAfNB84HzwfQB9EH0gfTB9QH1QfWB9cH2AfZB9oH2wfcB90H3gffB+AH4QfiB+MH5AflBw==",
          "dtype": "i2"
         },
         "xaxis": "x2",
         "y": {
          "bdata": "AAAAAGIREEFmZmZmNqAMQc3MzMwIGw1BMzMzMzvGCkGamZmZM1kQQTMzMzNv6AtBZmZmZi9YEUGamZmZwwoQQTQzMzOLhhFBMzMzM0uJE0EzMzMzi6kTQc3MzMw4QhNBzczMzIxAFEGamZmZb0oUQZqZmZkcqRNBzczMzPC3E0GamZmZIV4VQczMzMxeeBNBAAAAAJiuFkEAAAAA7jUWQQAAAABA1xZBMzMzMxOPF0FmZmZmGFkZQWZmZmbyNxxBAAAAAJKvG0HNzMzMAuocQQAAAADPNSJBZmZmZgLuIEEAAAAAEbAgQTMzMzPfGyFBmpmZmReBH0FmZmZmLtYdQWZmZmYAah1BZmZmZlZyHkGamZmZp6keQc3MzMzgEiBBzczMzMYPIEEAAAAAmYIgQc3MzMxIkiBBzczMzDtfIkEAAAAA72EnQc3MzMzSryFBMzMzMxHRI0EzMzMzK2YlQZqZmZldYyFBMzMzM0FvLEGamZmZGMkgQc3MzMyDfyJBMzMzM9vGIEEAAAAAytAgQWZmZmYHaCNBmpmZGTlqJEEAAAAAH74jQTMzMzPqpiNBAAAAAGsvJkFmZmZmXg8YQQ==",
          "dtype": "f8"
         },
         "yaxis": "y2"
        },
        {
         "legendgroup": "1-10",
         "marker": {
          "color": "#ff4500"
         },
         "name": "1-10",
         "showlegend": true,
         "type": "bar",
         "visible": false,
         "x": {
          "bdata": "rgevB7AHsQeyB7MHtAe1B7YHtwe4B7kHuge7B7wHvQe+B78HwAfBB8IHwwfEB8UHxgfHB8gHyQfKB8sHzAfNB84HzwfQB9EH0gfTB9QH1QfWB9cH2AfZB9oH2wfcB90H3gffB+AH4QfiB+MH5AflBw==",
          "dtype": "i2"
         },
         "xaxis": "x",
         "y": {
          "bdata": "AAAAAGIREEHNzMzM7qYMQc3MzMxkjgxBMzMzM5erCkEAAAAAugMQQc3MzMzopAtBmpmZmY0mEUEzMzMzNz4PQc3MzMyMOxBBMzMzMyd6EkHNzMzMYAATQQAAAADKfxJBZmZmZga2E0EzMzMzD9ITQczMzMz/OxNBzczMzDhCE0EzMzMzbMUUQZqZmZlbUhNBzczMzJFtFkEzMzMzh/kVQQAAAACYrhZBAAAAAMBMF0HNzMzMpiwZQQAAAAB4BhxBZmZmZjFoG0HNzMzMPA8dQc3MzEzUAyJBmpmZmU/EIEGamZmZKpkgQWZmZmbK9SBBAAAAAIo1H0HNzMzMajodQQAAAACiZBxBAAAAADvoHUEAAAAAxv8dQTQzMzOcex9BmpmZmfFZH0EzMzOz+hYgQZqZmZl0EyBBZmZmZuW+IUEzMzMz8bIlQQAAAAAqDiFBAAAAAD4xIkFmZmZmYy8kQZqZmZmmYCFBMzMzMxOPJ0EAAAAAq+8fQZqZmZkMayFBZmZmZhtWIEEzMzMzcJIgQWZmZmb5xCJBzczMzHuvI0HNzMzMN/8iQTMzMzOCvyJBzMzMzEP7JEEzMzMz3p0gQQ==",
          "dtype": "f8"
         },
         "yaxis": "y"
        },
        {
         "legendgroup": "11-20",
         "marker": {
          "color": "#faa272"
         },
         "name": "11-20",
         "showlegend": true,
         "type": "bar",
         "visible": false,
         "x": {
          "bdata": "rwewB7EHsgezB7QHtQe2B7cHuAe5B7oHuwe8B70Hvge/B8AHwQfCB8MHxAfFB8YHxwfIB8kHygfLB8wHzQfOB88H0AfRB9IH0wfUB9UH1gfXB9gH2QfaB9sH3AfdB94H3wfgB+EH4gfjB+QH5Qc=",
          "dtype": "i2"
         },
         "xaxis": "x",
         "y": {
          "bdata": "ZmZmZu7BC0EAAAAAkuQRQc3MzMzo5Q5BzczMzFodE0FmZmZmWmEQQQAAAABGZBNBzczMzCK8E0FmZmZmkOcVQQAAAAAGWRZBZmZmZrDRFUFmZmZmGDoWQc3MzMziKBhBAAAAAGppGUHMzMzM+owZQQAAAAA6HhlBMzMzMwNoHEGamZmZ69oVQTMzMzMhfBxBzczMzD6kHUHNzMzMCF8bQQAAAADjPyJBZmZmZhefIEGamZkZYXIhQTMzMzNFcyFBMzMzMyuKGEHMzMzMGx8kQQAAAAAALiNBmpmZmau+IkEzMzMzGrMiQQAAAAC41SFBmpmZmYfsIEHNzMzMSw4hQQAAAABdFyBBmpmZmdaiIEHNzMzMddsgQZqZmZn8qCBBAAAAAPICIUHNzMzM8AQhQQAAAACRzyJBmpmZmZ4SJ0HNzMzMGcAiQZqZmZna6SRBmpmZmW6JJUGamZmZSKAhQZqZmZnUrStBZmZmZo3yIEEAAACA8kAjQczMzMzV7yBBmpmZGZdPIUGamZmZRv0jQTMzM7MN7iRBzczMzFkHJUEAAAAAI5kkQZqZmZlhlydBzczMzGJvF0E=",
          "dtype": "f8"
         },
         "yaxis": "y"
        },
        {
         "legendgroup": "21-30",
         "marker": {
          "color": "#ffdab9"
         },
         "name": "21-30",
         "showlegend": true,
         "type": "bar",
         "visible": false,
         "x": {
          "bdata": "tAe1B7YHtwe4B7kHuge7B7wHvQe+B78HwAfBB8IHwwfEB8UHxgfIB8kHywfMB80HzgfPB9AH0QfSB9MH1AfVB9YH1wfYB9kH2gfbB9wH3QfeB98H4AfhB+IH4wfkBw==",
          "dtype": "i2"
         },
         "xaxis": "x",
         "y": {
          "bdata": "zMzMzMqDGEHNzMzMYWMSQTQzMzNyph1BZmZmZvFEJEGamZmZmEAiQTMzMzO5/yNBAAAAAKVKI0FmZmZmlcYhQTMzM7P0uSNBZmZm5utAI0HNzMzMNX0hQTMzMzO+yCRBzczMzB2RI0EzMzMzOfgiQWZmZmZZziVBZmZmZhPOLEHNzMxMVQQkQZqZmZn6YSVBNDMzMx0QLEE0MzMzwgIlQTMzMzOqtSpBzczMTPVpKkEzMzMzvC4qQZqZmZm8ZiZBmpmZmThVJkGamZkZFCUkQQAAAIB3QClBMzMzM8m8J0GamZkZ4aYpQWZmZmaIuidBMzMzM0cBIkHNzMzMkXIlQc3MzMxMLitBzczMzHBxLUEAAAAAgY8rQczMzExD7ipBMzMzM9J1H0HNzMzMOg4wQTMzMzMD/SlBAAAAAPGDJUGamZmZfNgiQTMzMzOfdiFBzczMzAHUJUEAAAAASIMrQc3MzMxMES5BZmZmZl4PKEFmZmbmkWcwQQ==",
          "dtype": "f8"
         },
         "yaxis": "y"
        },
        {
         "legendgroup": "31-40",
         "marker": {
          "color": "#0088ff"
         },
         "name": "31-40",
         "showlegend": true,
         "type": "bar",
         "visible": false,
         "x": {
          "bdata": "1gfYB9kH2wfcB90H3gffB+AH4QfiB+MH5Ac=",
          "dtype": "i2"
         },
         "xaxis": "x",
         "y": {
          "bdata": "MzMzs77iK0HNzMzMik8sQTQzMzNXZytBZmZmZgntMUFmZmbmnSkwQTMzMzOA3itBzczMzGWdK0EzMzMzmLgpQWZmZua5yC5BMzMzMy4/L0GamZmZnR0vQWZmZmYyny5BAAAAgIYXMkE=",
          "dtype": "f8"
         },
         "yaxis": "y"
        },
        {
         "legendgroup": "41-50",
         "marker": {
          "color": "#003376"
         },
         "name": "41-50",
         "showlegend": true,
         "type": "bar",
         "visible": false,
         "x": {
          "bdata": "2wfgB+MH",
          "dtype": "i2"
         },
         "xaxis": "x",
         "y": {
          "bdata": "MzMzMwfTM0EzMzMzfy8vQZqZmRmCvzJB",
          "dtype": "f8"
         },
         "yaxis": "y"
        },
        {
         "legendgroup": "All",
         "marker": {
          "color": "gray"
         },
         "name": "All",
         "showlegend": true,
         "type": "bar",
         "visible": false,
         "x": {
          "bdata": "rgevB7AHsQeyB7MHtAe1B7YHtwe4B7kHuge7B7wHvQe+B78HwAfBB8IHwwfEB8UHxgfHB8gHyQfKB8sHzAfNB84HzwfQB9EH0gfTB9QH1QfWB9cH2AfZB9oH2wfcB90H3gffB+AH4QfiB+MH5AflBw==",
          "dtype": "i2"
         },
         "xaxis": "x2",
         "y": {
          "bdata": "AAAAAGIREEFmZmZmNqAMQc3MzMwIGw1BMzMzMzvGCkGamZmZM1kQQTMzMzNv6AtBZmZmZi9YEUGamZmZwwoQQTQzMzOLhhFBMzMzM0uJE0EzMzMzi6kTQc3MzMw4QhNBzczMzIxAFEGamZmZb0oUQZqZmZkcqRNBzczMzPC3E0GamZmZIV4VQczMzMxeeBNBAAAAAJiuFkEAAAAA7jUWQQAAAABA1xZBMzMzMxOPF0FmZmZmGFkZQWZmZmbyNxxBAAAAAJKvG0HNzMzMAuocQQAAAADPNSJBZmZmZgLuIEEAAAAAEbAgQTMzMzPfGyFBmpmZmReBH0FmZmZmLtYdQWZmZmYAah1BZmZmZlZyHkGamZmZp6keQc3MzMzgEiBBzczMzMYPIEEAAAAAmYIgQc3MzMxIkiBBzczMzDtfIkEAAAAA72EnQc3MzMzSryFBMzMzMxHRI0EzMzMzK2YlQZqZmZldYyFBMzMzM0FvLEGamZmZGMkgQc3MzMyDfyJBMzMzM9vGIEEAAAAAytAgQWZmZmYHaCNBmpmZGTlqJEEAAAAAH74jQTMzMzPqpiNBAAAAAGsvJkFmZmZmXg8YQQ==",
          "dtype": "f8"
         },
         "yaxis": "y2"
        },
        {
         "legendgroup": "1-10",
         "line": {
          "color": "#ff4500"
         },
         "mode": "lines",
         "name": "1-10",
         "showlegend": true,
         "type": "scatter",
         "visible": false,
         "x": {
          "bdata": "AAECAwQFBgcICQoLDA0ODxAREhMUFRYXGBkaGxwdHh8gISIjJCUmJygpKissLS4vMDEyMzQ1Njc4OTo=",
          "dtype": "i1"
         },
         "xaxis": "x",
         "y": {
          "bdata": "NDMzM61jJkFmZmZmUD8hQQAAAACPHiFBAAAAAKpTHUEzMzMzCZEdQc3MzMwOwRxBzczMzGy2G0HNzMzMzl8bQc3MzMyK/BpBzczMzIr8GkFmZmZmdtQZQc3MzMxYdBlBAAAAABY0GUHNzMzMoGsXQczMzMw3aBZBAAAAAGa+FUFmZmZmsPgUQc3MzMw29RRBmpmZmZXYFEEAAAAAJDQVQWZmZmY4ERVBmpmZmedtFUEzMzMzKfIVQc3MzMyUgxZBAAAAAKRaF0EzMzMzKy4YQc3MzMyesBhBzczMzGBdGEEAAAAAmjUYQTMzMzPTBxhBMzMzM7MxGEFmZmZm8PMYQWZmZmacTxlBAAAAAPyZGUHNzMzMLzoaQWZmZma0ahpBAAAAAGLCGkFmZmZmjmoaQTMzMzNtVRpBmpmZmQngGUEAAAAANuQYQTQzMzPbPRhBzczMzGBdGEFmZmZmV9gYQZqZmZlKFRlBmpmZmfnYGEFmZmZm2KEYQc3MzMzQExdBZmZmZpg8FkHNzMzMXmAVQTMzMzNDxBRBZmZmZrgTFEGamZmZD8MUQc3MzMycThRBZmZmZnZ/FEGamZmZd08UQc3MzMycThRBmpmZmXPvFEGamZmZdncUQQ==",
          "dtype": "f8"
         },
         "yaxis": "y"
        },
        {
         "legendgroup": "11-20",
         "line": {
          "color": "#faa272"
         },
         "mode": "lines",
         "name": "11-20",
         "showlegend": true,
         "type": "scatter",
         "visible": false,
         "x": {
          "bdata": "AAECAwQFBgcICQoLDA0ODxAREhMUFRYXGBkaGxwdHh8gISIjJCUmJygpKissLS4vMDEyMzQ1Njc4OQ==",
          "dtype": "i1"
         },
         "xaxis": "x",
         "y": {
          "bdata": "ZmZmZqp/IUGamZmZQ/0hQTMzMzMG+B9BMzMzM6NpH0GamZmZ48AgQTMzMzM7+CBBAAAAAPICIUGamZmZ53AhQZqZmZn3QCFBzczMzNTFIUEzMzMzqLUhQc3MzMy+uSFBAAAAAPICIUGamZmZFmggQZqZmZnuVx9BAAAAAI6jHkEAAAAA/m8eQZqZmZlgpB5BZmZmZhBDH0GamZmZGZcfQZqZmZnhRB9BAAAAAAARH0GamZmZp+weQZqZmZn75R5BZmZmZuA5HEFmZmZmnsgbQWZmZmZT1RpBzMzMzMKjGUE0MzMzlGkYQQAAAABkABhBZmZmZoxZGUEzMzMzDU4bQTMzMzMJUhtBAAAAALytHEGamZmZew4eQZqZmZnxWR9BAAAAANIXIEEAAACAZ20gQWZmZmYvgiBBZmZmZrSMH0GamZmZJ2IeQQAAAADq+x1BMzMzMzE0H0FmZmZmkWodQTMzMzNRnxxBMzMzM6dsHEE0MzMzhIcdQWZmZmaifxxBMzMzM0k/G0EzMzMzR38bQZqZmZlPPxpBzczMzBIdF0FmZmZmukkXQc3MzMza8RVBmpmZmZXNF0EzMzMz/zQZQTMzMzNvjxVBZmZmZm3PFUE=",
          "dtype": "f8"
         },
         "yaxis": "y"
        },
        {
         "legendgroup": "21-30",
         "line": {
          "color": "#ffdab9"
         },
         "mode": "lines",
         "name": "21-30",
         "showlegend": true,
         "type": "scatter",
         "visible": false,
         "x": {
          "bdata": "AAECAwQFBgcICQoLDA0ODxAREhMUFRYXGBkaGxwdHh8gISIjJCUmJygpKissLS4vMDEyNA==",
          "dtype": "i1"
         },
         "xaxis": "x",
         "y": {
          "bdata": "zczMTD3JIUFmZmbm/GMoQczMzMwqiyhBAAAAAGe9I0GamZmZ38olQTMzMzO0RSZBNDMzM6AAJ0GamZmZL5YmQQAAAIBxESdBMzMzM/A6KEFmZmZmjSooQc3MzMwLjCdBAAAAACR1JkHMzMzMYL0kQWZmZmYKwiNBZmZm5p5QJEFmZmbm6SojQTQzMzNJ0iNBAAAAANNxJUHNzMzMYk0kQZqZmZlLNyRBMzMzM8a4JEEAAAAAwpEjQQAAAADtwiJBAAAAAHdPIkFmZmZmntMiQc3MzEzDeiJBMzMzM0KVIkFmZmZmKZAiQWZmZmYR5SNBZmZmZkGFJEHNzMzMqrIlQQAAAABz4yZBzMzMzNeNJkGamZmZmMEmQTQzMzMwvihBAAAAAG+PJ0HMzMzM+bsnQWZmZmZnWidBMzMzMxl+J0FmZmZmMlsmQTMzMzOHqSdBZmZmZo0zJkEzMzMzTwUoQZqZmZmTXCZBZmZm5kBNJkE0MzOzJx0nQTMzM7MiDyZBMzMzM23fJUGamZmZ+VshQQAAAACTPyBBzczMzI+3IEE=",
          "dtype": "f8"
         },
         "yaxis": "y"
        },
        {
         "legendgroup": "31-40",
         "line": {
          "color": "#0088ff"
         },
         "mode": "lines",
         "name": "31-40",
         "showlegend": true,
         "type": "scatter",
         "visible": false,
         "x": {
          "bdata": "AQIDBAUGBwgJCgsMDQ4PEBES",
          "dtype": "i1"
         },
         "xaxis": "x",
         "y": {
          "bdata": "zczMzGH4KkEAAAAAQjItQc3MzMzOWyxBAAAAAKLlLUEzMzOzpKQuQc3MzMwxaS5BmpmZGQPILUEAAAAAH6EtQZqZmZnOSi9BMzMzs/uIMEHNzMzMkx8wQQAAAAC2PC9BZmZm5iYGMUEAAACA9kYuQc3MzMxtaCxBzczMTIVkLkEzMzMz/7guQTMzMzOUDzBB",
          "dtype": "f8"
         },
         "yaxis": "y"
        },
        {
         "legendgroup": "41-50",
         "line": {
          "color": "#003376"
         },
         "mode": "lines",
         "name": "41-50",
         "showlegend": true,
         "type": "scatter",
         "visible": false,
         "x": {
          "bdata": "AQIDBAUGBwgJCgsMDQ==",
          "dtype": "i1"
         },
         "xaxis": "x",
         "y": {
          "bdata": "AAAAgFC/MUEAAACA8y0wQZqZmRnhgTRBmpmZGeY7MEHNzMzMoZMvQZqZmZlmWjFBmpmZ2dRHMUGamZkZsA8zQZqZmRl/QTNBMzMzM8npM0GamZkZb1c1QTMzM7MBnjVBZmZm5menNkE=",
          "dtype": "f8"
         },
         "yaxis": "y"
        },
        {
         "legendgroup": "All",
         "line": {
          "color": "gray"
         },
         "mode": "lines",
         "name": "All",
         "showlegend": true,
         "type": "scatter",
         "visible": false,
         "x": {
          "bdata": "AAECAwQFBgcICQoLDA0ODxAREhMUFRYXGBkaGxwdHh8gISIjJCUmJygpKissLS4vMDEyMzQ1Njc4OTo=",
          "dtype": "i1"
         },
         "xaxis": "x2",
         "y": {
          "bdata": "AAAAgC+DJEGamZmZAggiQTMzMzMI2yJBMzMzM70mHkEzMzMzBb0eQQAAAAC2OR5BmpmZmXpPHUGamZmZqRwdQWZmZma8cRxBMzMzMw85HEFmZmZm9O8aQQAAAAAEiBpBAAAAAMg/GkGamZmZIWAYQZqZmZmbIRdBmpmZmQ2dFkEAAAAAGBIWQQAAAABWDRZBmpmZmXvtFUEAAAAAaDoWQQAAAADgKhZBzMzMzB4xFkFmZmZmJowWQc3MzMyOERdBMzMzM8m8F0EzMzMzF2EYQQAAAAD23hhBAAAAAGKBGEEzMzMzu1IYQWZmZmb1HRhBmpmZmdVFGEEAAAAASBsZQTMzMzM/lRlBzczMzMjZGUHNzMzM+J4aQQAAAABiwhpBzczMzIQcG0EzMzMz7fgaQZqZmZmJwxpBZmZmZppSGkGamZmZ/UkZQWZmZmZ2vxhBmpmZmTvkGEEzMzMzVzgZQWZmZmYwjBlBZmZmZqw9GUGamZmZlGkZQZqZmZlvzBdBzczMzKjVFkFmZmZm+gsWQWZmZmYoShVBzczMzJxOFEEzMzMzT/YUQQAAAAD7XRRBmpmZmdmfFEGamZmZSV4UQc3MzMycThRBmpmZmXPvFEGamZmZdncUQQ==",
          "dtype": "f8"
         },
         "yaxis": "y2"
        },
        {
         "legendgroup": "1-10",
         "marker": {
          "color": "#ff4500"
         },
         "name": "1-10",
         "showlegend": true,
         "type": "bar",
         "visible": false,
         "x": {
          "bdata": "AAECAwQFBgcICQoLDA0ODxAREhMUFRYXGBkaGxwdHh8gISIjJCUmJygpKissLS4vMDEyMzQ1Njc4OTo=",
          "dtype": "i1"
         },
         "xaxis": "x",
         "y": {
          "bdata": "NDMzM61jJkFmZmZmUD8hQQAAAACPHiFBAAAAAKpTHUEzMzMzCZEdQc3MzMwOwRxBzczMzGy2G0HNzMzMzl8bQc3MzMyK/BpBzczMzIr8GkFmZmZmdtQZQc3MzMxYdBlBAAAAABY0GUHNzMzMoGsXQczMzMw3aBZBAAAAAGa+FUFmZmZmsPgUQc3MzMw29RRBmpmZmZXYFEEAAAAAJDQVQWZmZmY4ERVBmpmZmedtFUEzMzMzKfIVQc3MzMyUgxZBAAAAAKRaF0EzMzMzKy4YQc3MzMyesBhBzczMzGBdGEEAAAAAmjUYQTMzMzPTBxhBMzMzM7MxGEFmZmZm8PMYQWZmZmacTxlBAAAAAPyZGUHNzMzMLzoaQWZmZma0ahpBAAAAAGLCGkFmZmZmjmoaQTMzMzNtVRpBmpmZmQngGUEAAAAANuQYQTQzMzPbPRhBzczMzGBdGEFmZmZmV9gYQZqZmZlKFRlBmpmZmfnYGEFmZmZm2KEYQc3MzMzQExdBZmZmZpg8FkHNzMzMXmAVQTMzMzNDxBRBZmZmZrgTFEGamZmZD8MUQc3MzMycThRBZmZmZnZ/FEGamZmZd08UQc3MzMycThRBmpmZmXPvFEGamZmZdncUQQ==",
          "dtype": "f8"
         },
         "yaxis": "y"
        },
        {
         "legendgroup": "11-20",
         "marker": {
          "color": "#faa272"
         },
         "name": "11-20",
         "showlegend": true,
         "type": "bar",
         "visible": false,
         "x": {
          "bdata": "AAECAwQFBgcICQoLDA0ODxAREhMUFRYXGBkaGxwdHh8gISIjJCUmJygpKissLS4vMDEyMzQ1Njc4OQ==",
          "dtype": "i1"
         },
         "xaxis": "x",
         "y": {
          "bdata": "ZmZmZqp/IUGamZmZQ/0hQTMzMzMG+B9BMzMzM6NpH0GamZmZ48AgQTMzMzM7+CBBAAAAAPICIUGamZmZ53AhQZqZmZn3QCFBzczMzNTFIUEzMzMzqLUhQc3MzMy+uSFBAAAAAPICIUGamZmZFmggQZqZmZnuVx9BAAAAAI6jHkEAAAAA/m8eQZqZmZlgpB5BZmZmZhBDH0GamZmZGZcfQZqZmZnhRB9BAAAAAAARH0GamZmZp+weQZqZmZn75R5BZmZmZuA5HEFmZmZmnsgbQWZmZmZT1RpBzMzMzMKjGUE0MzMzlGkYQQAAAABkABhBZmZmZoxZGUEzMzMzDU4bQTMzMzMJUhtBAAAAALytHEGamZmZew4eQZqZmZnxWR9BAAAAANIXIEEAAACAZ20gQWZmZmYvgiBBZmZmZrSMH0GamZmZJ2IeQQAAAADq+x1BMzMzMzE0H0FmZmZmkWodQTMzMzNRnxxBMzMzM6dsHEE0MzMzhIcdQWZmZmaifxxBMzMzM0k/G0EzMzMzR38bQZqZmZlPPxpBzczMzBIdF0FmZmZmukkXQc3MzMza8RVBmpmZmZXNF0EzMzMz/zQZQTMzMzNvjxVBZmZmZm3PFUE=",
          "dtype": "f8"
         },
         "yaxis": "y"
        },
        {
         "legendgroup": "21-30",
         "marker": {
          "color": "#ffdab9"
         },
         "name": "21-30",
         "showlegend": true,
         "type": "bar",
         "visible": false,
         "x": {
          "bdata": "AAECAwQFBgcICQoLDA0ODxAREhMUFRYXGBkaGxwdHh8gISIjJCUmJygpKissLS4vMDEyNA==",
          "dtype": "i1"
         },
         "xaxis": "x",
         "y": {
          "bdata": "zczMTD3JIUFmZmbm/GMoQczMzMwqiyhBAAAAAGe9I0GamZmZ38olQTMzMzO0RSZBNDMzM6AAJ0GamZmZL5YmQQAAAIBxESdBMzMzM/A6KEFmZmZmjSooQc3MzMwLjCdBAAAAACR1JkHMzMzMYL0kQWZmZmYKwiNBZmZm5p5QJEFmZmbm6SojQTQzMzNJ0iNBAAAAANNxJUHNzMzMYk0kQZqZmZlLNyRBMzMzM8a4JEEAAAAAwpEjQQAAAADtwiJBAAAAAHdPIkFmZmZmntMiQc3MzEzDeiJBMzMzM0KVIkFmZmZmKZAiQWZmZmYR5SNBZmZmZkGFJEHNzMzMqrIlQQAAAABz4yZBzMzMzNeNJkGamZmZmMEmQTQzMzMwvihBAAAAAG+PJ0HMzMzM+bsnQWZmZmZnWidBMzMzMxl+J0FmZmZmMlsmQTMzMzOHqSdBZmZmZo0zJkEzMzMzTwUoQZqZmZmTXCZBZmZm5kBNJkE0MzOzJx0nQTMzM7MiDyZBMzMzM23fJUGamZmZ+VshQQAAAACTPyBBzczMzI+3IEE=",
          "dtype": "f8"
         },
         "yaxis": "y"
        },
        {
         "legendgroup": "31-40",
         "marker": {
          "color": "#0088ff"
         },
         "name": "31-40",
         "showlegend": true,
         "type": "bar",
         "visible": false,
         "x": {
          "bdata": "AQIDBAUGBwgJCgsMDQ4PEBES",
          "dtype": "i1"
         },
         "xaxis": "x",
         "y": {
          "bdata": "zczMzGH4KkEAAAAAQjItQc3MzMzOWyxBAAAAAKLlLUEzMzOzpKQuQc3MzMwxaS5BmpmZGQPILUEAAAAAH6EtQZqZmZnOSi9BMzMzs/uIMEHNzMzMkx8wQQAAAAC2PC9BZmZm5iYGMUEAAACA9kYuQc3MzMxtaCxBzczMTIVkLkEzMzMz/7guQTMzMzOUDzBB",
          "dtype": "f8"
         },
         "yaxis": "y"
        },
        {
         "legendgroup": "41-50",
         "marker": {
          "color": "#003376"
         },
         "name": "41-50",
         "showlegend": true,
         "type": "bar",
         "visible": false,
         "x": {
          "bdata": "AQIDBAUGBwgJCgsMDQ==",
          "dtype": "i1"
         },
         "xaxis": "x",
         "y": {
          "bdata": "AAAAgFC/MUEAAACA8y0wQZqZmRnhgTRBmpmZGeY7MEHNzMzMoZMvQZqZmZlmWjFBmpmZ2dRHMUGamZkZsA8zQZqZmRl/QTNBMzMzM8npM0GamZkZb1c1QTMzM7MBnjVBZmZm5menNkE=",
          "dtype": "f8"
         },
         "yaxis": "y"
        },
        {
         "legendgroup": "All",
         "marker": {
          "color": "gray"
         },
         "name": "All",
         "showlegend": true,
         "type": "bar",
         "visible": false,
         "x": {
          "bdata": "AAECAwQFBgcICQoLDA0ODxAREhMUFRYXGBkaGxwdHh8gISIjJCUmJygpKissLS4vMDEyMzQ1Njc4OTo=",
          "dtype": "i1"
         },
         "xaxis": "x2",
         "y": {
          "bdata": "AAAAgC+DJEGamZmZAggiQTMzMzMI2yJBMzMzM70mHkEzMzMzBb0eQQAAAAC2OR5BmpmZmXpPHUGamZmZqRwdQWZmZma8cRxBMzMzMw85HEFmZmZm9O8aQQAAAAAEiBpBAAAAAMg/GkGamZmZIWAYQZqZmZmbIRdBmpmZmQ2dFkEAAAAAGBIWQQAAAABWDRZBmpmZmXvtFUEAAAAAaDoWQQAAAADgKhZBzMzMzB4xFkFmZmZmJowWQc3MzMyOERdBMzMzM8m8F0EzMzMzF2EYQQAAAAD23hhBAAAAAGKBGEEzMzMzu1IYQWZmZmb1HRhBmpmZmdVFGEEAAAAASBsZQTMzMzM/lRlBzczMzMjZGUHNzMzM+J4aQQAAAABiwhpBzczMzIQcG0EzMzMz7fgaQZqZmZmJwxpBZmZmZppSGkGamZmZ/UkZQWZmZmZ2vxhBmpmZmTvkGEEzMzMzVzgZQWZmZmYwjBlBZmZmZqw9GUGamZmZlGkZQZqZmZlvzBdBzczMzKjVFkFmZmZm+gsWQWZmZmYoShVBzczMzJxOFEEzMzMzT/YUQQAAAAD7XRRBmpmZmdmfFEGamZmZSV4UQc3MzMycThRBmpmZmXPvFEGamZmZdncUQQ==",
          "dtype": "f8"
         },
         "yaxis": "y2"
        },
        {
         "legendgroup": "1-10",
         "line": {
          "color": "#ff4500"
         },
         "mode": "lines",
         "name": "1-10",
         "showlegend": true,
         "type": "scatter",
         "visible": false,
         "x": {
          "bdata": "AQIDBAUGBwgJCgsM",
          "dtype": "i1"
         },
         "xaxis": "x",
         "y": {
          "bdata": "AAAAAD4CGEEzMzMzFxYYQQAAAADGfRhBMzMzM7/dGEHNzMzMQPMYQTQzMzNF/RhBmpmZmc8fGUEzMzMzxTMZQWZmZmZKLRlBZmZmZjw7GUHNzMzMpOsYQQAAAAAOhRhB",
          "dtype": "f8"
         },
         "yaxis": "y"
        },
        {
         "legendgroup": "11-20",
         "line": {
          "color": "#faa272"
         },
         "mode": "lines",
         "name": "11-20",
         "showlegend": true,
         "type": "scatter",
         "visible": false,
         "x": {
          "bdata": "AQIDBAUGBwgJCgsM",
          "dtype": "i1"
         },
         "xaxis": "x",
         "y": {
          "bdata": "MzMzMzmlH0GamZmZpY0fQQAAAACk+x9BZmZmZvMtIEEzMzMzJUwgQZqZmZllMyBBZmZmZtlTIEGamZmZpmEgQWZmZmZNWiBBZmZmZjNZIEFmZmZm2VMgQc3MzMzSIyBB",
          "dtype": "f8"
         },
         "yaxis": "y"
        },
        {
         "legendgroup": "21-30",
         "line": {
          "color": "#ffdab9"
         },
         "mode": "lines",
         "name": "21-30",
         "showlegend": true,
         "type": "scatter",
         "visible": false,
         "x": {
          "bdata": "AQIDBAUGBwgJCgsM",
          "dtype": "i1"
         },
         "xaxis": "x",
         "y": {
          "bdata": "zczMzPP5JEE0MzMzz1MlQTMzMzPLAiVBAAAAgN/RJUFmZmZmykElQZqZmZkmWSVBmpmZGeabJUGamZkZ6DMmQc3MzEzh9CVBzczMzOV4JUFmZmZmZ4slQZqZmRl3aiVB",
          "dtype": "f8"
         },
         "yaxis": "y"
        },
        {
         "legendgroup": "31-40",
         "line": {
          "color": "#0088ff"
         },
         "mode": "lines",
         "name": "31-40",
         "showlegend": true,
         "type": "scatter",
         "visible": false,
         "x": {
          "bdata": "AQIDBAUGBwgJCgsM",
          "dtype": "i1"
         },
         "xaxis": "x",
         "y": {
          "bdata": "zczMzAf+LUGamZkZOp8uQTMzMzMl+C1BMzMzMwJKLkEAAACAnQ8uQZqZmZnaGy5BZmZmZsbvLkEzMzOzCPctQWZmZmbEUy5BAAAAAA97LkHNzMxMogEvQTQzM7PGwy5B",
          "dtype": "f8"
         },
         "yaxis": "y"
        },
        {
         "legendgroup": "41-50",
         "line": {
          "color": "#003376"
         },
         "mode": "lines",
         "name": "41-50",
         "showlegend": true,
         "type": "scatter",
         "visible": false,
         "x": {
          "bdata": "AQIDBAUGBwgJCgsM",
          "dtype": "i1"
         },
         "xaxis": "x",
         "y": {
          "bdata": "ZmZmZgyaM0FmZmbm0rcxQTMzMzPL2zJBMzMzs8E/NEEzMzNzmekxQZqZmZmHbTJBzczMTIE2MEGamZkZ/vszQZqZmRlA/jFBMzMzs1j9MkEzMzMzyekzQTMzMzOMfDNB",
          "dtype": "f8"
         },
         "yaxis": "y"
        },
        {
         "legendgroup": "All",
         "line": {
          "color": "gray"
         },
         "mode": "lines",
         "name": "All",
         "showlegend": true,
         "type": "scatter",
         "visible": false,
         "x": {
          "bdata": "AQIDBAUGBwgJCgsM",
          "dtype": "i1"
         },
         "xaxis": "x2",
         "y": {
          "bdata": "AAAAAH7kGEEzMzMz0eoYQQAAAADuZBlBZmZmZtS+GUEzMzMzBe0ZQQAAAAAe6hlBZmZmZgwVGkFmZmZmJisaQZqZmZmtFxpBzczMzFAfGkEzMzMzR8QZQQAAAADuZBlB",
          "dtype": "f8"
         },
         "yaxis": "y2"
        },
        {
         "legendgroup": "1-10",
         "marker": {
          "color": "#ff4500"
         },
         "name": "1-10",
         "showlegend": true,
         "type": "bar",
         "visible": false,
         "x": {
          "bdata": "AQIDBAUGBwgJCgsM",
          "dtype": "i1"
         },
         "xaxis": "x",
         "y": {
          "bdata": "AAAAAD4CGEEzMzMzFxYYQQAAAADGfRhBMzMzM7/dGEHNzMzMQPMYQTQzMzNF/RhBmpmZmc8fGUEzMzMzxTMZQWZmZmZKLRlBZmZmZjw7GUHNzMzMpOsYQQAAAAAOhRhB",
          "dtype": "f8"
         },
         "yaxis": "y"
        },
        {
         "legendgroup": "11-20",
         "marker": {
          "color": "#faa272"
         },
         "name": "11-20",
         "showlegend": true,
         "type": "bar",
         "visible": false,
         "x": {
          "bdata": "AQIDBAUGBwgJCgsM",
          "dtype": "i1"
         },
         "xaxis": "x",
         "y": {
          "bdata": "MzMzMzmlH0GamZmZpY0fQQAAAACk+x9BZmZmZvMtIEEzMzMzJUwgQZqZmZllMyBBZmZmZtlTIEGamZmZpmEgQWZmZmZNWiBBZmZmZjNZIEFmZmZm2VMgQc3MzMzSIyBB",
          "dtype": "f8"
         },
         "yaxis": "y"
        },
        {
         "legendgroup": "21-30",
         "marker": {
          "color": "#ffdab9"
         },
         "name": "21-30",
         "showlegend": true,
         "type": "bar",
         "visible": false,
         "x": {
          "bdata": "AQIDBAUGBwgJCgsM",
          "dtype": "i1"
         },
         "xaxis": "x",
         "y": {
          "bdata": "zczMzPP5JEE0MzMzz1MlQTMzMzPLAiVBAAAAgN/RJUFmZmZmykElQZqZmZkmWSVBmpmZGeabJUGamZkZ6DMmQc3MzEzh9CVBzczMzOV4JUFmZmZmZ4slQZqZmRl3aiVB",
          "dtype": "f8"
         },
         "yaxis": "y"
        },
        {
         "legendgroup": "31-40",
         "marker": {
          "color": "#0088ff"
         },
         "name": "31-40",
         "showlegend": true,
         "type": "bar",
         "visible": false,
         "x": {
          "bdata": "AQIDBAUGBwgJCgsM",
          "dtype": "i1"
         },
         "xaxis": "x",
         "y": {
          "bdata": "zczMzAf+LUGamZkZOp8uQTMzMzMl+C1BMzMzMwJKLkEAAACAnQ8uQZqZmZnaGy5BZmZmZsbvLkEzMzOzCPctQWZmZmbEUy5BAAAAAA97LkHNzMxMogEvQTQzM7PGwy5B",
          "dtype": "f8"
         },
         "yaxis": "y"
        },
        {
         "legendgroup": "41-50",
         "marker": {
          "color": "#003376"
         },
         "name": "41-50",
         "showlegend": true,
         "type": "bar",
         "visible": false,
         "x": {
          "bdata": "AQIDBAUGBwgJCgsM",
          "dtype": "i1"
         },
         "xaxis": "x",
         "y": {
          "bdata": "ZmZmZgyaM0FmZmbm0rcxQTMzMzPL2zJBMzMzs8E/NEEzMzNzmekxQZqZmZmHbTJBzczMTIE2MEGamZkZ/vszQZqZmRlA/jFBMzMzs1j9MkEzMzMzyekzQTMzMzOMfDNB",
          "dtype": "f8"
         },
         "yaxis": "y"
        },
        {
         "legendgroup": "All",
         "marker": {
          "color": "gray"
         },
         "name": "All",
         "showlegend": true,
         "type": "bar",
         "visible": false,
         "x": {
          "bdata": "AQIDBAUGBwgJCgsM",
          "dtype": "i1"
         },
         "xaxis": "x2",
         "y": {
          "bdata": "AAAAAH7kGEEzMzMz0eoYQQAAAADuZBlBZmZmZtS+GUEzMzMzBe0ZQQAAAAAe6hlBZmZmZgwVGkFmZmZmJisaQZqZmZmtFxpBzczMzFAfGkEzMzMzR8QZQQAAAADuZBlB",
          "dtype": "f8"
         },
         "yaxis": "y2"
        }
       ],
       "layout": {
        "annotations": [
         {
          "showarrow": false,
          "text": "Select X-axis Variable:",
          "x": 0.86,
          "xref": "paper",
          "y": 1.1,
          "yref": "paper"
         },
         {
          "showarrow": false,
          "text": "Plot Type:",
          "x": 0,
          "xref": "paper",
          "y": 1.1,
          "yref": "paper"
         }
        ],
        "autosize": false,
        "bargap": 0.15,
        "height": 500,
        "margin": {
         "b": 20,
         "l": 20,
         "r": 20,
         "t": 100
        },
        "template": {
         "data": {
          "bar": [
           {
            "error_x": {
             "color": "#2a3f5f"
            },
            "error_y": {
             "color": "#2a3f5f"
            },
            "marker": {
             "line": {
              "color": "#E5ECF6",
              "width": 0.5
             },
             "pattern": {
              "fillmode": "overlay",
              "size": 10,
              "solidity": 0.2
             }
            },
            "type": "bar"
           }
          ],
          "barpolar": [
           {
            "marker": {
             "line": {
              "color": "#E5ECF6",
              "width": 0.5
             },
             "pattern": {
              "fillmode": "overlay",
              "size": 10,
              "solidity": 0.2
             }
            },
            "type": "barpolar"
           }
          ],
          "carpet": [
           {
            "aaxis": {
             "endlinecolor": "#2a3f5f",
             "gridcolor": "white",
             "linecolor": "white",
             "minorgridcolor": "white",
             "startlinecolor": "#2a3f5f"
            },
            "baxis": {
             "endlinecolor": "#2a3f5f",
             "gridcolor": "white",
             "linecolor": "white",
             "minorgridcolor": "white",
             "startlinecolor": "#2a3f5f"
            },
            "type": "carpet"
           }
          ],
          "choropleth": [
           {
            "colorbar": {
             "outlinewidth": 0,
             "ticks": ""
            },
            "type": "choropleth"
           }
          ],
          "contour": [
           {
            "colorbar": {
             "outlinewidth": 0,
             "ticks": ""
            },
            "colorscale": [
             [
              0,
              "#0d0887"
             ],
             [
              0.1111111111111111,
              "#46039f"
             ],
             [
              0.2222222222222222,
              "#7201a8"
             ],
             [
              0.3333333333333333,
              "#9c179e"
             ],
             [
              0.4444444444444444,
              "#bd3786"
             ],
             [
              0.5555555555555556,
              "#d8576b"
             ],
             [
              0.6666666666666666,
              "#ed7953"
             ],
             [
              0.7777777777777778,
              "#fb9f3a"
             ],
             [
              0.8888888888888888,
              "#fdca26"
             ],
             [
              1,
              "#f0f921"
             ]
            ],
            "type": "contour"
           }
          ],
          "contourcarpet": [
           {
            "colorbar": {
             "outlinewidth": 0,
             "ticks": ""
            },
            "type": "contourcarpet"
           }
          ],
          "heatmap": [
           {
            "colorbar": {
             "outlinewidth": 0,
             "ticks": ""
            },
            "colorscale": [
             [
              0,
              "#0d0887"
             ],
             [
              0.1111111111111111,
              "#46039f"
             ],
             [
              0.2222222222222222,
              "#7201a8"
             ],
             [
              0.3333333333333333,
              "#9c179e"
             ],
             [
              0.4444444444444444,
              "#bd3786"
             ],
             [
              0.5555555555555556,
              "#d8576b"
             ],
             [
              0.6666666666666666,
              "#ed7953"
             ],
             [
              0.7777777777777778,
              "#fb9f3a"
             ],
             [
              0.8888888888888888,
              "#fdca26"
             ],
             [
              1,
              "#f0f921"
             ]
            ],
            "type": "heatmap"
           }
          ],
          "histogram": [
           {
            "marker": {
             "pattern": {
              "fillmode": "overlay",
              "size": 10,
              "solidity": 0.2
             }
            },
            "type": "histogram"
           }
          ],
          "histogram2d": [
           {
            "colorbar": {
             "outlinewidth": 0,
             "ticks": ""
            },
            "colorscale": [
             [
              0,
              "#0d0887"
             ],
             [
              0.1111111111111111,
              "#46039f"
             ],
             [
              0.2222222222222222,
              "#7201a8"
             ],
             [
              0.3333333333333333,
              "#9c179e"
             ],
             [
              0.4444444444444444,
              "#bd3786"
             ],
             [
              0.5555555555555556,
              "#d8576b"
             ],
             [
              0.6666666666666666,
              "#ed7953"
             ],
             [
              0.7777777777777778,
              "#fb9f3a"
             ],
             [
              0.8888888888888888,
              "#fdca26"
             ],
             [
              1,
              "#f0f921"
             ]
            ],
            "type": "histogram2d"
           }
          ],
          "histogram2dcontour": [
           {
            "colorbar": {
             "outlinewidth": 0,
             "ticks": ""
            },
            "colorscale": [
             [
              0,
              "#0d0887"
             ],
             [
              0.1111111111111111,
              "#46039f"
             ],
             [
              0.2222222222222222,
              "#7201a8"
             ],
             [
              0.3333333333333333,
              "#9c179e"
             ],
             [
              0.4444444444444444,
              "#bd3786"
             ],
             [
              0.5555555555555556,
              "#d8576b"
             ],
             [
              0.6666666666666666,
              "#ed7953"
             ],
             [
              0.7777777777777778,
              "#fb9f3a"
             ],
             [
              0.8888888888888888,
              "#fdca26"
             ],
             [
              1,
              "#f0f921"
             ]
            ],
            "type": "histogram2dcontour"
           }
          ],
          "mesh3d": [
           {
            "colorbar": {
             "outlinewidth": 0,
             "ticks": ""
            },
            "type": "mesh3d"
           }
          ],
          "parcoords": [
           {
            "line": {
             "colorbar": {
              "outlinewidth": 0,
              "ticks": ""
             }
            },
            "type": "parcoords"
           }
          ],
          "pie": [
           {
            "automargin": true,
            "type": "pie"
           }
          ],
          "scatter": [
           {
            "fillpattern": {
             "fillmode": "overlay",
             "size": 10,
             "solidity": 0.2
            },
            "type": "scatter"
           }
          ],
          "scatter3d": [
           {
            "line": {
             "colorbar": {
              "outlinewidth": 0,
              "ticks": ""
             }
            },
            "marker": {
             "colorbar": {
              "outlinewidth": 0,
              "ticks": ""
             }
            },
            "type": "scatter3d"
           }
          ],
          "scattercarpet": [
           {
            "marker": {
             "colorbar": {
              "outlinewidth": 0,
              "ticks": ""
             }
            },
            "type": "scattercarpet"
           }
          ],
          "scattergeo": [
           {
            "marker": {
             "colorbar": {
              "outlinewidth": 0,
              "ticks": ""
             }
            },
            "type": "scattergeo"
           }
          ],
          "scattergl": [
           {
            "marker": {
             "colorbar": {
              "outlinewidth": 0,
              "ticks": ""
             }
            },
            "type": "scattergl"
           }
          ],
          "scattermap": [
           {
            "marker": {
             "colorbar": {
              "outlinewidth": 0,
              "ticks": ""
             }
            },
            "type": "scattermap"
           }
          ],
          "scattermapbox": [
           {
            "marker": {
             "colorbar": {
              "outlinewidth": 0,
              "ticks": ""
             }
            },
            "type": "scattermapbox"
           }
          ],
          "scatterpolar": [
           {
            "marker": {
             "colorbar": {
              "outlinewidth": 0,
              "ticks": ""
             }
            },
            "type": "scatterpolar"
           }
          ],
          "scatterpolargl": [
           {
            "marker": {
             "colorbar": {
              "outlinewidth": 0,
              "ticks": ""
             }
            },
            "type": "scatterpolargl"
           }
          ],
          "scatterternary": [
           {
            "marker": {
             "colorbar": {
              "outlinewidth": 0,
              "ticks": ""
             }
            },
            "type": "scatterternary"
           }
          ],
          "surface": [
           {
            "colorbar": {
             "outlinewidth": 0,
             "ticks": ""
            },
            "colorscale": [
             [
              0,
              "#0d0887"
             ],
             [
              0.1111111111111111,
              "#46039f"
             ],
             [
              0.2222222222222222,
              "#7201a8"
             ],
             [
              0.3333333333333333,
              "#9c179e"
             ],
             [
              0.4444444444444444,
              "#bd3786"
             ],
             [
              0.5555555555555556,
              "#d8576b"
             ],
             [
              0.6666666666666666,
              "#ed7953"
             ],
             [
              0.7777777777777778,
              "#fb9f3a"
             ],
             [
              0.8888888888888888,
              "#fdca26"
             ],
             [
              1,
              "#f0f921"
             ]
            ],
            "type": "surface"
           }
          ],
          "table": [
           {
            "cells": {
             "fill": {
              "color": "#EBF0F8"
             },
             "line": {
              "color": "white"
             }
            },
            "header": {
             "fill": {
              "color": "#C8D4E3"
             },
             "line": {
              "color": "white"
             }
            },
            "type": "table"
           }
          ]
         },
         "layout": {
          "annotationdefaults": {
           "arrowcolor": "#2a3f5f",
           "arrowhead": 0,
           "arrowwidth": 1
          },
          "autotypenumbers": "strict",
          "coloraxis": {
           "colorbar": {
            "outlinewidth": 0,
            "ticks": ""
           }
          },
          "colorscale": {
           "diverging": [
            [
             0,
             "#8e0152"
            ],
            [
             0.1,
             "#c51b7d"
            ],
            [
             0.2,
             "#de77ae"
            ],
            [
             0.3,
             "#f1b6da"
            ],
            [
             0.4,
             "#fde0ef"
            ],
            [
             0.5,
             "#f7f7f7"
            ],
            [
             0.6,
             "#e6f5d0"
            ],
            [
             0.7,
             "#b8e186"
            ],
            [
             0.8,
             "#7fbc41"
            ],
            [
             0.9,
             "#4d9221"
            ],
            [
             1,
             "#276419"
            ]
           ],
           "sequential": [
            [
             0,
             "#0d0887"
            ],
            [
             0.1111111111111111,
             "#46039f"
            ],
            [
             0.2222222222222222,
             "#7201a8"
            ],
            [
             0.3333333333333333,
             "#9c179e"
            ],
            [
             0.4444444444444444,
             "#bd3786"
            ],
            [
             0.5555555555555556,
             "#d8576b"
            ],
            [
             0.6666666666666666,
             "#ed7953"
            ],
            [
             0.7777777777777778,
             "#fb9f3a"
            ],
            [
             0.8888888888888888,
             "#fdca26"
            ],
            [
             1,
             "#f0f921"
            ]
           ],
           "sequentialminus": [
            [
             0,
             "#0d0887"
            ],
            [
             0.1111111111111111,
             "#46039f"
            ],
            [
             0.2222222222222222,
             "#7201a8"
            ],
            [
             0.3333333333333333,
             "#9c179e"
            ],
            [
             0.4444444444444444,
             "#bd3786"
            ],
            [
             0.5555555555555556,
             "#d8576b"
            ],
            [
             0.6666666666666666,
             "#ed7953"
            ],
            [
             0.7777777777777778,
             "#fb9f3a"
            ],
            [
             0.8888888888888888,
             "#fdca26"
            ],
            [
             1,
             "#f0f921"
            ]
           ]
          },
          "colorway": [
           "#636efa",
           "#EF553B",
           "#00cc96",
           "#ab63fa",
           "#FFA15A",
           "#19d3f3",
           "#FF6692",
           "#B6E880",
           "#FF97FF",
           "#FECB52"
          ],
          "font": {
           "color": "#2a3f5f"
          },
          "geo": {
           "bgcolor": "white",
           "lakecolor": "white",
           "landcolor": "#E5ECF6",
           "showlakes": true,
           "showland": true,
           "subunitcolor": "white"
          },
          "hoverlabel": {
           "align": "left"
          },
          "hovermode": "closest",
          "mapbox": {
           "style": "light"
          },
          "paper_bgcolor": "white",
          "plot_bgcolor": "#E5ECF6",
          "polar": {
           "angularaxis": {
            "gridcolor": "white",
            "linecolor": "white",
            "ticks": ""
           },
           "bgcolor": "#E5ECF6",
           "radialaxis": {
            "gridcolor": "white",
            "linecolor": "white",
            "ticks": ""
           }
          },
          "scene": {
           "xaxis": {
            "backgroundcolor": "#E5ECF6",
            "gridcolor": "white",
            "gridwidth": 2,
            "linecolor": "white",
            "showbackground": true,
            "ticks": "",
            "zerolinecolor": "white"
           },
           "yaxis": {
            "backgroundcolor": "#E5ECF6",
            "gridcolor": "white",
            "gridwidth": 2,
            "linecolor": "white",
            "showbackground": true,
            "ticks": "",
            "zerolinecolor": "white"
           },
           "zaxis": {
            "backgroundcolor": "#E5ECF6",
            "gridcolor": "white",
            "gridwidth": 2,
            "linecolor": "white",
            "showbackground": true,
            "ticks": "",
            "zerolinecolor": "white"
           }
          },
          "shapedefaults": {
           "line": {
            "color": "#2a3f5f"
           }
          },
          "ternary": {
           "aaxis": {
            "gridcolor": "white",
            "linecolor": "white",
            "ticks": ""
           },
           "baxis": {
            "gridcolor": "white",
            "linecolor": "white",
            "ticks": ""
           },
           "bgcolor": "#E5ECF6",
           "caxis": {
            "gridcolor": "white",
            "linecolor": "white",
            "ticks": ""
           }
          },
          "title": {
           "x": 0.05
          },
          "xaxis": {
           "automargin": true,
           "gridcolor": "white",
           "linecolor": "white",
           "ticks": "",
           "title": {
            "standoff": 15
           },
           "zerolinecolor": "white",
           "zerolinewidth": 2
          },
          "yaxis": {
           "automargin": true,
           "gridcolor": "white",
           "linecolor": "white",
           "ticks": "",
           "title": {
            "standoff": 15
           },
           "zerolinecolor": "white",
           "zerolinewidth": 2
          }
         }
        },
        "title": {
         "text": "Median Resale Price By Starting Floor (Inflation Adjusted)",
         "y": 0.95
        },
        "updatemenus": [
         {
          "buttons": [
           {
            "args": [
             {
              "visible": [
               true,
               true,
               true,
               true,
               true,
               true,
               false,
               false,
               false,
               false,
               false,
               false,
               false,
               false,
               false,
               false,
               false,
               false,
               false,
               false,
               false,
               false,
               false,
               false,
               false,
               false,
               false,
               false,
               false,
               false,
               false,
               false,
               false,
               false,
               false,
               false,
               false,
               false,
               false,
               false,
               false,
               false,
               false,
               false,
               false,
               false,
               false,
               false
              ]
             },
             {
              "xaxis.title": "Year",
              "xaxis2.title": "Year"
             }
            ],
            "label": "Year",
            "method": "update"
           },
           {
            "args": [
             {
              "visible": [
               false,
               false,
               false,
               false,
               false,
               false,
               false,
               false,
               false,
               false,
               false,
               false,
               true,
               true,
               true,
               true,
               true,
               true,
               false,
               false,
               false,
               false,
               false,
               false,
               false,
               false,
               false,
               false,
               false,
               false,
               false,
               false,
               false,
               false,
               false,
               false,
               false,
               false,
               false,
               false,
               false,
               false,
               false,
               false,
               false,
               false,
               false,
               false
              ]
             },
             {
              "xaxis.title": "Lease Year",
              "xaxis2.title": "Lease Year"
             }
            ],
            "label": "Lease Year",
            "method": "update"
           },
           {
            "args": [
             {
              "visible": [
               false,
               false,
               false,
               false,
               false,
               false,
               false,
               false,
               false,
               false,
               false,
               false,
               false,
               false,
               false,
               false,
               false,
               false,
               false,
               false,
               false,
               false,
               false,
               false,
               true,
               true,
               true,
               true,
               true,
               true,
               false,
               false,
               false,
               false,
               false,
               false,
               false,
               false,
               false,
               false,
               false,
               false,
               false,
               false,
               false,
               false,
               false,
               false
              ]
             },
             {
              "xaxis.title": "Years Leased",
              "xaxis2.title": "Years Leased"
             }
            ],
            "label": "Years Leased",
            "method": "update"
           },
           {
            "args": [
             {
              "visible": [
               false,
               false,
               false,
               false,
               false,
               false,
               false,
               false,
               false,
               false,
               false,
               false,
               false,
               false,
               false,
               false,
               false,
               false,
               false,
               false,
               false,
               false,
               false,
               false,
               false,
               false,
               false,
               false,
               false,
               false,
               false,
               false,
               false,
               false,
               false,
               false,
               true,
               true,
               true,
               true,
               true,
               true,
               false,
               false,
               false,
               false,
               false,
               false
              ]
             },
             {
              "xaxis.title": "Month",
              "xaxis2.title": "Month"
             }
            ],
            "label": "Month",
            "method": "update"
           }
          ],
          "direction": "down",
          "pad": {
           "r": 10,
           "t": 10
          },
          "showactive": true,
          "x": 1.01,
          "xanchor": "right",
          "y": 1.15,
          "yanchor": "top"
         },
         {
          "buttons": [
           {
            "args": [
             {
              "visible": [
               true,
               true,
               true,
               true,
               true,
               true,
               false,
               false,
               false,
               false,
               false,
               false,
               false,
               false,
               false,
               false,
               false,
               false,
               false,
               false,
               false,
               false,
               false,
               false,
               false,
               false,
               false,
               false,
               false,
               false,
               false,
               false,
               false,
               false,
               false,
               false,
               false,
               false,
               false,
               false,
               false,
               false,
               false,
               false,
               false,
               false,
               false,
               false
              ]
             },
             {
              "barmode": "group"
             }
            ],
            "label": "Line Plot",
            "method": "update"
           },
           {
            "args": [
             {
              "visible": [
               false,
               false,
               false,
               false,
               false,
               false,
               true,
               true,
               true,
               true,
               true,
               true,
               false,
               false,
               false,
               false,
               false,
               false,
               false,
               false,
               false,
               false,
               false,
               false,
               false,
               false,
               false,
               false,
               false,
               false,
               false,
               false,
               false,
               false,
               false,
               false,
               false,
               false,
               false,
               false,
               false,
               false,
               false,
               false,
               false,
               false,
               false,
               false
              ]
             },
             {
              "barmode": "stack"
             }
            ],
            "label": "Bar Plot",
            "method": "update"
           }
          ],
          "direction": "right",
          "pad": {
           "r": 10,
           "t": 10
          },
          "showactive": true,
          "type": "buttons",
          "x": 0.26,
          "xanchor": "right",
          "y": 1.15,
          "yanchor": "top"
         }
        ],
        "width": 1100,
        "xaxis": {
         "anchor": "y",
         "domain": [
          0,
          1
         ],
         "title": {
          "text": "Year"
         }
        },
        "xaxis2": {
         "anchor": "y2",
         "domain": [
          0,
          1
         ],
         "title": {
          "text": "Year"
         }
        },
        "yaxis": {
         "anchor": "x",
         "domain": [
          0.32,
          1
         ],
         "title": {
          "text": "Median Resale Price (S$)"
         }
        },
        "yaxis2": {
         "anchor": "x2",
         "domain": [
          0,
          0.17
         ]
        }
       }
      }
     },
     "metadata": {},
     "output_type": "display_data"
    }
   ],
   "source": [
    "catplots(df_p, x_vars, 'start_floor_binned', 'Median Resale Price By Starting Floor (Inflation Adjusted)', 'median')"
   ]
  },
  {
   "cell_type": "code",
   "execution_count": 26,
   "id": "7f751075",
   "metadata": {},
   "outputs": [
    {
     "data": {
      "application/vnd.plotly.v1+json": {
       "config": {
        "plotlyServerURL": "https://plot.ly"
       },
       "data": [
        {
         "legendgroup": "Central",
         "line": {
          "color": "#ff4500"
         },
         "mode": "lines",
         "name": "Central",
         "showlegend": true,
         "type": "scatter",
         "visible": true,
         "x": {
          "bdata": "xgfHB8gHyQfKB8sHzAfNB84HzwfQB9EH0gfTB9QH1QfWB9cH2AfZB9oH2wfcB90H3gffB+AH4QfiB+MH5AflB+YH5wfoBw==",
          "dtype": "i2"
         },
         "xaxis": "x",
         "y": {
          "bdata": "MzMzM2sP9UBmZmZmFp72QAAAAAD4PfpAmpmZmfk+A0FmZmZmrgoIQWZmZmYuBg9BmpmZmedtFUHNzMzMSIsaQWZmZmbwTxJBZmZmZh5lEUEzMzMz76USQQAAAADGcRFBMzMzMwF2EUEAAAAAIBkSQWZmZmbs2hJBZmZmZvqLEkEAAAAARmQTQWZmZmZQDBdBZmZmZnwJHEGamZmZ740bQZqZmZn75R5BmpmZGWyEIEGamZmZoxchQZqZmZk0VyFBmpmZmaH/HkHNzMzMPJcgQZqZmZkYkyFBAAAAAJDSIkEAAAAAb+kiQWZmZmbX7yFBZmZmZr/sIUHNzMzM4fokQc3MzMwgciVBMzMzM4rlJEEzMzMzb48lQQ==",
          "dtype": "f8"
         },
         "yaxis": "y"
        },
        {
         "legendgroup": "East",
         "line": {
          "color": "#faa272"
         },
         "mode": "lines",
         "name": "East",
         "showlegend": true,
         "type": "scatter",
         "visible": true,
         "x": {
          "bdata": "xgfHB8gHyQfKB8sHzAfNB84HzwfQB9EH0gfTB9QH1QfWB9cH2AfZB9oH2wfcB90H3gffB+AH4QfiB+MH5AflB+YH5wfoBw==",
          "dtype": "i2"
         },
         "xaxis": "x",
         "y": {
          "bdata": "zMzMzHTL/kAAAAAAIKr/QAAAAACYDf9AzczMzFjzB0FmZmZm6EoSQWZmZmZKzBVBMzMzMwNoHEHNzMzMl3cgQc3MzMxG8xtBzczMzEpZG0EzMzMzRQUcQTMzMzOjcxlBAAAAAIyYF0GamZmZwR4XQWZmZma26BZBzczMzMqIFkGamZmZX3AWQQAAAACyPBhBMzMzMwGqHEHNzMzM/mQcQZqZmZmhex9BAAAAAFotIUHNzMzM66EhQc3MzMxsMSFBZmZmZi64H0HNzMzM5NMdQc3MzMy8IB5BzczMzFKWH0EAAAAA/mcfQTMzMzNLVx5BzczMzJ7NH0FmZmZmHPUhQQAAAACWjyJBAAAAAHKBIkEAAAAAfl8jQQ==",
          "dtype": "f8"
         },
         "yaxis": "y"
        },
        {
         "legendgroup": "North",
         "line": {
          "color": "#ffdab9"
         },
         "mode": "lines",
         "name": "North",
         "showlegend": true,
         "type": "scatter",
         "visible": true,
         "x": {
          "bdata": "xgfHB8gHyQfKB8sHzAfNB84HzwfQB9EH0gfTB9QH1QfWB9cH2AfZB9oH2wfcB90H3gffB+AH4QfiB+MH5AflB+YH5wfoBw==",
          "dtype": "i2"
         },
         "xaxis": "x",
         "y": {
          "bdata": "MzMzMwOG+EAAAAAAgDz6QGZmZmbmHftAZmZmZoIoC0FmZmZmZvwPQWZmZma8jRJBzczMzArfF0HNzMzMbt8YQQAAAAC8JBRBMzMzMyPXFUFmZmZm0rQWQQAAAADixxRBmpmZmT9ZE0FmZmZmyC4UQQAAAABKNhVBmpmZmXndFEEAAAAA8n8UQc3MzMxY8xVBAAAAAJ5CGUFmZmZmzrQZQWZmZmZSbxxBZmZmZs99H0EAAAAAtSAgQZqZmZkFlR9BzczMzCjBG0HNzMzMP7kaQc3MzMwwQhtBMzMzM0v2GUHNzMzMphgZQc3MzMxasxlBZmZmZtb5GkFmZmZmzkofQQAAAABG9iBBZmZmZiAIIUEAAAAApzYhQQ==",
          "dtype": "f8"
         },
         "yaxis": "y"
        },
        {
         "legendgroup": "North-East",
         "line": {
          "color": "#0088ff"
         },
         "mode": "lines",
         "name": "North-East",
         "showlegend": true,
         "type": "scatter",
         "visible": true,
         "x": {
          "bdata": "xgfHB8gHyQfKB8sHzAfNB84HzwfQB9EH0gfTB9QH1QfWB9cH2AfZB9oH2wfcB90H3gffB+AH4QfiB+MH5AflB+YH5wfoBw==",
          "dtype": "i2"
         },
         "xaxis": "x",
         "y": {
          "bdata": "AAAAAKB9+EBmZmZmfvn3QM3MzMzU/ftAzczMzBYIBUEAAAAAQFAOQTMzMzOlwRJBmpmZmQ2EGUHNzMzMUH4dQTMzMzPldBZBZmZmZjgRFUEAAAAADikVQZqZmZmZqhRBzczMzISrFEEzMzMzGQkVQTMzMzOxfhVBAAAAALIkFUEAAAAAQrMVQQAAAACyPBhBZmZmZszuHEEAAAAADjwdQZqZmZllMyBBMzMzM0nJIUEzMzMzoYIiQQAAAACMyCFBMzMzMxfdH0GamZmZbfgdQQAAAACOfB5BmpmZmVGmHkEzMzMzS0IeQQAAAADq+x1BAAAAADw8H0EAAAAADD8hQc3MzMx7mCJBmpmZmV6rIkEzMzMzflcjQQ==",
          "dtype": "f8"
         },
         "yaxis": "y"
        },
        {
         "legendgroup": "West",
         "line": {
          "color": "#003376"
         },
         "mode": "lines",
         "name": "West",
         "showlegend": true,
         "type": "scatter",
         "visible": true,
         "x": {
          "bdata": "xgfHB8gHyQfKB8sHzAfNB84HzwfQB9EH0gfTB9QH1QfWB9cH2AfZB9oH2wfcB90H3gffB+AH4QfiB+MH5AflB+YH5wfoBw==",
          "dtype": "i2"
         },
         "xaxis": "x",
         "y": {
          "bdata": "MzMzM1M1+kAzMzMzs8j5QM3MzMzMbfxAmpmZmeGqBkFmZmZmZvwPQWZmZmaO9RJBzczMzMzrF0FmZmZmSiIbQWZmZmbiTxZBZmZmZhg6FkFmZmZm8O4VQZqZmZkTlxRBzczMzN5KFEEAAAAA0I8UQZqZmZmdvRRBMzMzM0GWFEEAAAAAlpcUQZqZmZnPuBVBMzMzM7lsGkGamZmZ6TcbQTMzMzMzEB5BZmZmZnBdIEHNzMzM3bQgQQAAAAAUayBBmpmZmZ9pHUEAAAAAZtQbQWZmZmYCnhtBAAAAADr7G0EAAAAAVj8bQZqZmZnfIBtBMzMzMwkbHUGamZmZ+4ggQWZmZmZwliFBAAAAAA0yIUEAAAAAjR8hQQ==",
          "dtype": "f8"
         },
         "yaxis": "y"
        },
        {
         "legendgroup": "All",
         "line": {
          "color": "gray"
         },
         "mode": "lines",
         "name": "All",
         "showlegend": true,
         "type": "scatter",
         "visible": true,
         "x": {
          "bdata": "xgfHB8gHyQfKB8sHzAfNB84HzwfQB9EH0gfTB9QH1QfWB9cH2AfZB9oH2wfcB90H3gffB+AH4QfiB+MH5AflB+YH5wfoBw==",
          "dtype": "i2"
         },
         "xaxis": "x2",
         "y": {
          "bdata": "ZmZmZv6R+EAzMzMzs8j5QM3MzMzU/ftAZmZmZqYGBkGamZmZ4cYPQc3MzMyCDxNBMzMzM+23GEGamZmZo4IcQZqZmZmbIRdBZmZmZojOFkGamZmZwxcXQWZmZma0chVBzczMzN5KFEEAAAAA0I8UQWZmZmYWEhVBmpmZmXndFEFmZmZmyA0VQWZmZmZ83RZBMzMzMwlSG0HNzMzM8rgbQQAAAABGjx5BMzMzMzWmIEHNzMzMZCshQWZmZmaHySBBMzMzMxVHHkGamZmZaeYcQZqZmZkZaR1BmpmZmWORHUHNzMzMTkEdQc3MzMxkjhxBZmZmZqIrHkEzMzMz1ywhQc3MzMyAPyJBAAAAAKwDIkEAAAAAn2YiQQ==",
          "dtype": "f8"
         },
         "yaxis": "y2"
        },
        {
         "legendgroup": "Central",
         "marker": {
          "color": "#ff4500"
         },
         "name": "Central",
         "showlegend": true,
         "type": "bar",
         "visible": false,
         "x": {
          "bdata": "xgfHB8gHyQfKB8sHzAfNB84HzwfQB9EH0gfTB9QH1QfWB9cH2AfZB9oH2wfcB90H3gffB+AH4QfiB+MH5AflB+YH5wfoBw==",
          "dtype": "i2"
         },
         "xaxis": "x",
         "y": {
          "bdata": "MzMzM2sP9UBmZmZmFp72QAAAAAD4PfpAmpmZmfk+A0FmZmZmrgoIQWZmZmYuBg9BmpmZmedtFUHNzMzMSIsaQWZmZmbwTxJBZmZmZh5lEUEzMzMz76USQQAAAADGcRFBMzMzMwF2EUEAAAAAIBkSQWZmZmbs2hJBZmZmZvqLEkEAAAAARmQTQWZmZmZQDBdBZmZmZnwJHEGamZmZ740bQZqZmZn75R5BmpmZGWyEIEGamZmZoxchQZqZmZk0VyFBmpmZmaH/HkHNzMzMPJcgQZqZmZkYkyFBAAAAAJDSIkEAAAAAb+kiQWZmZmbX7yFBZmZmZr/sIUHNzMzM4fokQc3MzMwgciVBMzMzM4rlJEEzMzMzb48lQQ==",
          "dtype": "f8"
         },
         "yaxis": "y"
        },
        {
         "legendgroup": "East",
         "marker": {
          "color": "#faa272"
         },
         "name": "East",
         "showlegend": true,
         "type": "bar",
         "visible": false,
         "x": {
          "bdata": "xgfHB8gHyQfKB8sHzAfNB84HzwfQB9EH0gfTB9QH1QfWB9cH2AfZB9oH2wfcB90H3gffB+AH4QfiB+MH5AflB+YH5wfoBw==",
          "dtype": "i2"
         },
         "xaxis": "x",
         "y": {
          "bdata": "zMzMzHTL/kAAAAAAIKr/QAAAAACYDf9AzczMzFjzB0FmZmZm6EoSQWZmZmZKzBVBMzMzMwNoHEHNzMzMl3cgQc3MzMxG8xtBzczMzEpZG0EzMzMzRQUcQTMzMzOjcxlBAAAAAIyYF0GamZmZwR4XQWZmZma26BZBzczMzMqIFkGamZmZX3AWQQAAAACyPBhBMzMzMwGqHEHNzMzM/mQcQZqZmZmhex9BAAAAAFotIUHNzMzM66EhQc3MzMxsMSFBZmZmZi64H0HNzMzM5NMdQc3MzMy8IB5BzczMzFKWH0EAAAAA/mcfQTMzMzNLVx5BzczMzJ7NH0FmZmZmHPUhQQAAAACWjyJBAAAAAHKBIkEAAAAAfl8jQQ==",
          "dtype": "f8"
         },
         "yaxis": "y"
        },
        {
         "legendgroup": "North",
         "marker": {
          "color": "#ffdab9"
         },
         "name": "North",
         "showlegend": true,
         "type": "bar",
         "visible": false,
         "x": {
          "bdata": "xgfHB8gHyQfKB8sHzAfNB84HzwfQB9EH0gfTB9QH1QfWB9cH2AfZB9oH2wfcB90H3gffB+AH4QfiB+MH5AflB+YH5wfoBw==",
          "dtype": "i2"
         },
         "xaxis": "x",
         "y": {
          "bdata": "MzMzMwOG+EAAAAAAgDz6QGZmZmbmHftAZmZmZoIoC0FmZmZmZvwPQWZmZma8jRJBzczMzArfF0HNzMzMbt8YQQAAAAC8JBRBMzMzMyPXFUFmZmZm0rQWQQAAAADixxRBmpmZmT9ZE0FmZmZmyC4UQQAAAABKNhVBmpmZmXndFEEAAAAA8n8UQc3MzMxY8xVBAAAAAJ5CGUFmZmZmzrQZQWZmZmZSbxxBZmZmZs99H0EAAAAAtSAgQZqZmZkFlR9BzczMzCjBG0HNzMzMP7kaQc3MzMwwQhtBMzMzM0v2GUHNzMzMphgZQc3MzMxasxlBZmZmZtb5GkFmZmZmzkofQQAAAABG9iBBZmZmZiAIIUEAAAAApzYhQQ==",
          "dtype": "f8"
         },
         "yaxis": "y"
        },
        {
         "legendgroup": "North-East",
         "marker": {
          "color": "#0088ff"
         },
         "name": "North-East",
         "showlegend": true,
         "type": "bar",
         "visible": false,
         "x": {
          "bdata": "xgfHB8gHyQfKB8sHzAfNB84HzwfQB9EH0gfTB9QH1QfWB9cH2AfZB9oH2wfcB90H3gffB+AH4QfiB+MH5AflB+YH5wfoBw==",
          "dtype": "i2"
         },
         "xaxis": "x",
         "y": {
          "bdata": "AAAAAKB9+EBmZmZmfvn3QM3MzMzU/ftAzczMzBYIBUEAAAAAQFAOQTMzMzOlwRJBmpmZmQ2EGUHNzMzMUH4dQTMzMzPldBZBZmZmZjgRFUEAAAAADikVQZqZmZmZqhRBzczMzISrFEEzMzMzGQkVQTMzMzOxfhVBAAAAALIkFUEAAAAAQrMVQQAAAACyPBhBZmZmZszuHEEAAAAADjwdQZqZmZllMyBBMzMzM0nJIUEzMzMzoYIiQQAAAACMyCFBMzMzMxfdH0GamZmZbfgdQQAAAACOfB5BmpmZmVGmHkEzMzMzS0IeQQAAAADq+x1BAAAAADw8H0EAAAAADD8hQc3MzMx7mCJBmpmZmV6rIkEzMzMzflcjQQ==",
          "dtype": "f8"
         },
         "yaxis": "y"
        },
        {
         "legendgroup": "West",
         "marker": {
          "color": "#003376"
         },
         "name": "West",
         "showlegend": true,
         "type": "bar",
         "visible": false,
         "x": {
          "bdata": "xgfHB8gHyQfKB8sHzAfNB84HzwfQB9EH0gfTB9QH1QfWB9cH2AfZB9oH2wfcB90H3gffB+AH4QfiB+MH5AflB+YH5wfoBw==",
          "dtype": "i2"
         },
         "xaxis": "x",
         "y": {
          "bdata": "MzMzM1M1+kAzMzMzs8j5QM3MzMzMbfxAmpmZmeGqBkFmZmZmZvwPQWZmZmaO9RJBzczMzMzrF0FmZmZmSiIbQWZmZmbiTxZBZmZmZhg6FkFmZmZm8O4VQZqZmZkTlxRBzczMzN5KFEEAAAAA0I8UQZqZmZmdvRRBMzMzM0GWFEEAAAAAlpcUQZqZmZnPuBVBMzMzM7lsGkGamZmZ6TcbQTMzMzMzEB5BZmZmZnBdIEHNzMzM3bQgQQAAAAAUayBBmpmZmZ9pHUEAAAAAZtQbQWZmZmYCnhtBAAAAADr7G0EAAAAAVj8bQZqZmZnfIBtBMzMzMwkbHUGamZmZ+4ggQWZmZmZwliFBAAAAAA0yIUEAAAAAjR8hQQ==",
          "dtype": "f8"
         },
         "yaxis": "y"
        },
        {
         "legendgroup": "All",
         "marker": {
          "color": "gray"
         },
         "name": "All",
         "showlegend": true,
         "type": "bar",
         "visible": false,
         "x": {
          "bdata": "xgfHB8gHyQfKB8sHzAfNB84HzwfQB9EH0gfTB9QH1QfWB9cH2AfZB9oH2wfcB90H3gffB+AH4QfiB+MH5AflB+YH5wfoBw==",
          "dtype": "i2"
         },
         "xaxis": "x2",
         "y": {
          "bdata": "ZmZmZv6R+EAzMzMzs8j5QM3MzMzU/ftAZmZmZqYGBkGamZmZ4cYPQc3MzMyCDxNBMzMzM+23GEGamZmZo4IcQZqZmZmbIRdBZmZmZojOFkGamZmZwxcXQWZmZma0chVBzczMzN5KFEEAAAAA0I8UQWZmZmYWEhVBmpmZmXndFEFmZmZmyA0VQWZmZmZ83RZBMzMzMwlSG0HNzMzM8rgbQQAAAABGjx5BMzMzMzWmIEHNzMzMZCshQWZmZmaHySBBMzMzMxVHHkGamZmZaeYcQZqZmZkZaR1BmpmZmWORHUHNzMzMTkEdQc3MzMxkjhxBZmZmZqIrHkEzMzMz1ywhQc3MzMyAPyJBAAAAAKwDIkEAAAAAn2YiQQ==",
          "dtype": "f8"
         },
         "yaxis": "y2"
        },
        {
         "legendgroup": "Central",
         "line": {
          "color": "#ff4500"
         },
         "mode": "lines",
         "name": "Central",
         "showlegend": true,
         "type": "scatter",
         "visible": false,
         "x": {
          "bdata": "rwewB7EHsgezB7QHtQe2B7cHuAe5B7oHuwe8B70Hvge/B8AHwQfCB8MHxAfFB8YHyAfJB8oHywfMB80HzgfPB9AH0QfSB9MH1AfVB9YH1wfYB9kH2wfcB90H3wfgB+EH4gfjB+QH",
          "dtype": "i2"
         },
         "xaxis": "x",
         "y": {
          "bdata": "ZmZmZjagDEHNzMzMCBsNQTMzMzM7xgpBzczMzBxyEEEAAAAA+B0MQWZmZmY0axJBMzMzM4O2EEHNzMzMcsYTQWZmZmatjBVBAAAAAJ4IFkGamZmZ+x4WQQAAAAAAgxhBMzMzMxkJFUEzMzMzS/YZQczMzMyKlBRBzczMzHBSFUEzMzMz5U0UQczMzMyqdxpBMzMzM3GKGUFmZmZmUlocQQAAAIAC7CFBMzMzM69xIkHNzMzMymQiQZqZmZlTIiJBAAAAgDIUJEEzMzMzHfYnQZqZmZnhLSZBmpmZmW/JKEEAAAAAUgsmQZqZmZm0XSRBzczMzCh4JUHNzMzMZzomQczMzExxACZBZmZmZuHIJ0FmZmZmMFAnQZqZmRkInihBZmZm5gOkJUGamZmZcHksQQAAAAAR1ylBzczMTIQ8KEGamZmZ+4UqQTMzM7Pb6ylBzczMzNIjMEEAAAAAtGMrQc3MzMw4CytBzczMzP5nJkHNzMzMmyAtQQAAAAAMlypBMzMzMzMdLUHNzMzMOK8tQWZmZmZL3i5B",
          "dtype": "f8"
         },
         "yaxis": "y"
        },
        {
         "legendgroup": "East",
         "line": {
          "color": "#faa272"
         },
         "mode": "lines",
         "name": "East",
         "showlegend": true,
         "type": "scatter",
         "visible": false,
         "x": {
          "bdata": "sge0B7YHtwe4B7kHuge7B7wHvQe+B78HwAfBB8IHwwfEB8UHxgfIB8kHygfLB8wHzQfOB9AH0QfVB9YH2AfaB9sH3AfeB98H4AfhB+IH5Ac=",
          "dtype": "i2"
         },
         "xaxis": "x",
         "y": {
          "bdata": "AAAAANBM/kDMzMzMLqMNQc3MzMw4QxBBMzMzM9elH0EAAAAApmwTQTMzMzMLZBRBmpmZmcdRFEFmZmZmLAsUQc3MzMyIJxRBzczMzIgnFEGamZmZCSwVQQAAAADxuBZBAAAAAJhhGEGamZmZvmAXQZqZmZnVlhVBAAAAAMagF0EAAAAAdGoeQWZmZmYCkB9BZmZmZr7gHUEAAAAAr2sjQTMzMzPRSCJBAAAAANHgIUEzMzMzjvkhQZqZmZkv2iBBmpmZmRZoIEGamZmZKpkgQZqZmZl/aiJBzczMzFN7IUEzMzMz3NokQQAAAIB5KiVBAAAAANDHKUEAAAAAI9MnQWZmZub4wSlBMzMzMzEbFkEAAAAAsjMnQTMzMzPfmyNBmpmZmSM8JkHNzMzM4fokQczMzEzm2ydBzczMzGbPJkE=",
          "dtype": "f8"
         },
         "yaxis": "y"
        },
        {
         "legendgroup": "North",
         "line": {
          "color": "#ffdab9"
         },
         "mode": "lines",
         "name": "North",
         "showlegend": true,
         "type": "scatter",
         "visible": false,
         "x": {
          "bdata": "tge3B7gHuQe6B7sHvAe9B74HvwfAB8EHwgfDB8QHxQfGB8gHyQfKB8sHzAfNB84HzwfQB9EH0gfTB9QH1gfaB9sH3AfdB98H4AfhB+IH4wfkBw==",
          "dtype": "i2"
         },
         "xaxis": "x",
         "y": {
          "bdata": "zMzMzIrFCkHNzMzMoAL/QAAAAACI4w9BmpmZmfFZD0EzMzMz+qYUQQAAAACvlxFBMzMzMwVtEEFmZmZmHqINQWZmZmYuzRBBmpmZmUsOEUFmZmZmUL8RQQAAAADWxxNBZmZmZnBbFUHMzMzMcH0WQc3MzMxAIRhBMzMzM0u7FEEAAAAAvt8UQZqZmRnwGSFBAAAAAN4NGEHNzMzMOsUeQc3MzMxfMyJBZmZmZoLbG0EAAAAA/JkZQWZmZmY+PxpBmpmZmfvVHEHNzMzMfKIbQWZmZmYC/B1BMzMzM/ClHkEAAAAAmiAdQTQzMzPkJB1BzczMzAQeIEFmZmZmnJEbQc3MzMzSIxBBMzMzMwVmHUHNzMzMXHkeQQAAAABEuh1BAAAAAEukIEGamZmZhF8iQc3MzMx7mCJBZmZmZr/ZIUFmZmZmhGciQQ==",
          "dtype": "f8"
         },
         "yaxis": "y"
        },
        {
         "legendgroup": "North-East",
         "line": {
          "color": "#0088ff"
         },
         "mode": "lines",
         "name": "North-East",
         "showlegend": true,
         "type": "scatter",
         "visible": false,
         "x": {
          "bdata": "twe4B7kHuge7B7wHvQe+B78HwAfBB8IHwwfEB8UHxgfHB8gHyQfKB8wHzQfOB88H0AfRB9IH0wfUB9UH1gfXB9gH2QfaB9sH3AfdB94H3wfgB+EH4gfjB+QH5Qc=",
          "dtype": "i2"
         },
         "xaxis": "x",
         "y": {
          "bdata": "AAAAADSaDUGamZmZwk0RQTMzMzPfgBNBzczMzOhTE0EzMzMzRcwTQTMzMzM9qxNBMzMzM8MQE0HNzMzM5qEVQWZmZmZ5qhRBmpmZmX0xF0EAAAAAQiEWQTMzMzMH/xZBmpmZmabiF0GamZmZy60WQWZmZmbsMB9BAAAAAI5GHUHNzMzMl3cgQTMzMzMBdiFBAAAAAJCHH0HNzMzMZb4lQTQzM7ODfCZBMzMzM9elH0EzMzMzYjAfQZqZmZmljR9BzczMzHZxH0HNzMzMhXQgQWZmZmY+7B9BzczMzJFnIEEAAAAAKg4hQTMzMzMuzSBBzczMzMwKJEGamZmZRyghQc3MzEw8qyNBmpmZmViNI0FmZmbmY9whQczMzEwZnSFBmpmZmWomIEEAAAAAMC8iQTMzM7PvUSBBMzMzM+1PIUFmZmbmUQYjQZqZmZnXPSRBZmZmZmj8I0HNzMzMetcjQTMzMzNt3yVBZmZmZl4PGEE=",
          "dtype": "f8"
         },
         "yaxis": "y"
        },
        {
         "legendgroup": "West",
         "line": {
          "color": "#003376"
         },
         "mode": "lines",
         "name": "West",
         "showlegend": true,
         "type": "scatter",
         "visible": false,
         "x": {
          "bdata": "rgeyB7MHtAe1B7YHtwe4B7kHuge7B7wHvQe+B78HwAfBB8IHwwfEB8UHxgfHB8gHyQfKB8sHzAfNB84HzwfQB9EH0gfTB9QH1QfWB9gH2gfbB9wH3QfeB98H4AfhB+IH4wfkBw==",
          "dtype": "i2"
         },
         "xaxis": "x",
         "y": {
          "bdata": "AAAAAGIREEFmZmZmvg4KQZqZmZn1xQlBzczMzESzCEFmZmZmENABQQAAAADYQQhBMzMzM+ebCUFmZmZmlnoLQc3MzMxUewhBMzMzMxVTE0EAAAAASjYVQc3MzMyS1BFBzczMzHErFkFmZmZmYL8XQQAAAADyiRJBMzMzM7NCFUHNzMzMZu0WQQAAAABg7BRBZmZmZgQ1E0EAAAAA9ikVQTMzMzPlhBhBzczMzFh0GUHNzMzMyPMZQWZmZmbmDBtBNDMzM4FqHkGamZmZx8MdQZqZmZk3WB5BmpmZmY95HUFmZmZmAkoeQQAAAAAUKx5BMzMzM7s5HUFmZmZmzkofQQAAAADvOSBBMzMzM/+4HkGamZmZf9IeQc3MzMwc6SBBNDMzs5F7IUGamZmZ7wglQWZmZubmriBBmpmZmW0NIEFmZmZmXxgTQWZmZmYCSh5BZmZmZrxTIUE0MzMzqJofQTMzM7P0USBBZmZmZo80IUEzMzMzwS4jQWZmZuYnVyNBzczMzHn/I0HNzMzMmgYjQQ==",
          "dtype": "f8"
         },
         "yaxis": "y"
        },
        {
         "legendgroup": "All",
         "line": {
          "color": "gray"
         },
         "mode": "lines",
         "name": "All",
         "showlegend": true,
         "type": "scatter",
         "visible": false,
         "x": {
          "bdata": "rgevB7AHsQeyB7MHtAe1B7YHtwe4B7kHuge7B7wHvQe+B78HwAfBB8IHwwfEB8UHxgfHB8gHyQfKB8sHzAfNB84HzwfQB9EH0gfTB9QH1QfWB9cH2AfZB9oH2wfcB90H3gffB+AH4QfiB+MH5AflBw==",
          "dtype": "i2"
         },
         "xaxis": "x2",
         "y": {
          "bdata": "AAAAAGIREEFmZmZmNqAMQc3MzMwIGw1BMzMzMzvGCkGamZmZM1kQQTMzMzNv6AtBZmZmZi9YEUGamZmZwwoQQTQzMzOLhhFBMzMzM0uJE0EzMzMzi6kTQc3MzMw4QhNBzczMzIxAFEGamZmZb0oUQZqZmZkcqRNBzczMzPC3E0GamZmZIV4VQczMzMxeeBNBAAAAAJiuFkEAAAAA7jUWQQAAAABA1xZBMzMzMxOPF0FmZmZmGFkZQWZmZmbyNxxBAAAAAJKvG0HNzMzMAuocQQAAAADPNSJBZmZmZgLuIEEAAAAAEbAgQTMzMzPfGyFBmpmZmReBH0FmZmZmLtYdQWZmZmYAah1BZmZmZlZyHkGamZmZp6keQc3MzMzgEiBBzczMzMYPIEEAAAAAmYIgQc3MzMxIkiBBzczMzDtfIkEAAAAA72EnQc3MzMzSryFBMzMzMxHRI0EzMzMzK2YlQZqZmZldYyFBMzMzM0FvLEGamZmZGMkgQc3MzMyDfyJBMzMzM9vGIEEAAAAAytAgQWZmZmYHaCNBmpmZGTlqJEEAAAAAH74jQTMzMzPqpiNBAAAAAGsvJkFmZmZmXg8YQQ==",
          "dtype": "f8"
         },
         "yaxis": "y2"
        },
        {
         "legendgroup": "Central",
         "marker": {
          "color": "#ff4500"
         },
         "name": "Central",
         "showlegend": true,
         "type": "bar",
         "visible": false,
         "x": {
          "bdata": "rwewB7EHsgezB7QHtQe2B7cHuAe5B7oHuwe8B70Hvge/B8AHwQfCB8MHxAfFB8YHyAfJB8oHywfMB80HzgfPB9AH0QfSB9MH1AfVB9YH1wfYB9kH2wfcB90H3wfgB+EH4gfjB+QH",
          "dtype": "i2"
         },
         "xaxis": "x",
         "y": {
          "bdata": "ZmZmZjagDEHNzMzMCBsNQTMzMzM7xgpBzczMzBxyEEEAAAAA+B0MQWZmZmY0axJBMzMzM4O2EEHNzMzMcsYTQWZmZmatjBVBAAAAAJ4IFkGamZmZ+x4WQQAAAAAAgxhBMzMzMxkJFUEzMzMzS/YZQczMzMyKlBRBzczMzHBSFUEzMzMz5U0UQczMzMyqdxpBMzMzM3GKGUFmZmZmUlocQQAAAIAC7CFBMzMzM69xIkHNzMzMymQiQZqZmZlTIiJBAAAAgDIUJEEzMzMzHfYnQZqZmZnhLSZBmpmZmW/JKEEAAAAAUgsmQZqZmZm0XSRBzczMzCh4JUHNzMzMZzomQczMzExxACZBZmZmZuHIJ0FmZmZmMFAnQZqZmRkInihBZmZm5gOkJUGamZmZcHksQQAAAAAR1ylBzczMTIQ8KEGamZmZ+4UqQTMzM7Pb6ylBzczMzNIjMEEAAAAAtGMrQc3MzMw4CytBzczMzP5nJkHNzMzMmyAtQQAAAAAMlypBMzMzMzMdLUHNzMzMOK8tQWZmZmZL3i5B",
          "dtype": "f8"
         },
         "yaxis": "y"
        },
        {
         "legendgroup": "East",
         "marker": {
          "color": "#faa272"
         },
         "name": "East",
         "showlegend": true,
         "type": "bar",
         "visible": false,
         "x": {
          "bdata": "sge0B7YHtwe4B7kHuge7B7wHvQe+B78HwAfBB8IHwwfEB8UHxgfIB8kHygfLB8wHzQfOB9AH0QfVB9YH2AfaB9sH3AfeB98H4AfhB+IH5Ac=",
          "dtype": "i2"
         },
         "xaxis": "x",
         "y": {
          "bdata": "AAAAANBM/kDMzMzMLqMNQc3MzMw4QxBBMzMzM9elH0EAAAAApmwTQTMzMzMLZBRBmpmZmcdRFEFmZmZmLAsUQc3MzMyIJxRBzczMzIgnFEGamZmZCSwVQQAAAADxuBZBAAAAAJhhGEGamZmZvmAXQZqZmZnVlhVBAAAAAMagF0EAAAAAdGoeQWZmZmYCkB9BZmZmZr7gHUEAAAAAr2sjQTMzMzPRSCJBAAAAANHgIUEzMzMzjvkhQZqZmZkv2iBBmpmZmRZoIEGamZmZKpkgQZqZmZl/aiJBzczMzFN7IUEzMzMz3NokQQAAAIB5KiVBAAAAANDHKUEAAAAAI9MnQWZmZub4wSlBMzMzMzEbFkEAAAAAsjMnQTMzMzPfmyNBmpmZmSM8JkHNzMzM4fokQczMzEzm2ydBzczMzGbPJkE=",
          "dtype": "f8"
         },
         "yaxis": "y"
        },
        {
         "legendgroup": "North",
         "marker": {
          "color": "#ffdab9"
         },
         "name": "North",
         "showlegend": true,
         "type": "bar",
         "visible": false,
         "x": {
          "bdata": "tge3B7gHuQe6B7sHvAe9B74HvwfAB8EHwgfDB8QHxQfGB8gHyQfKB8sHzAfNB84HzwfQB9EH0gfTB9QH1gfaB9sH3AfdB98H4AfhB+IH4wfkBw==",
          "dtype": "i2"
         },
         "xaxis": "x",
         "y": {
          "bdata": "zMzMzIrFCkHNzMzMoAL/QAAAAACI4w9BmpmZmfFZD0EzMzMz+qYUQQAAAACvlxFBMzMzMwVtEEFmZmZmHqINQWZmZmYuzRBBmpmZmUsOEUFmZmZmUL8RQQAAAADWxxNBZmZmZnBbFUHMzMzMcH0WQc3MzMxAIRhBMzMzM0u7FEEAAAAAvt8UQZqZmRnwGSFBAAAAAN4NGEHNzMzMOsUeQc3MzMxfMyJBZmZmZoLbG0EAAAAA/JkZQWZmZmY+PxpBmpmZmfvVHEHNzMzMfKIbQWZmZmYC/B1BMzMzM/ClHkEAAAAAmiAdQTQzMzPkJB1BzczMzAQeIEFmZmZmnJEbQc3MzMzSIxBBMzMzMwVmHUHNzMzMXHkeQQAAAABEuh1BAAAAAEukIEGamZmZhF8iQc3MzMx7mCJBZmZmZr/ZIUFmZmZmhGciQQ==",
          "dtype": "f8"
         },
         "yaxis": "y"
        },
        {
         "legendgroup": "North-East",
         "marker": {
          "color": "#0088ff"
         },
         "name": "North-East",
         "showlegend": true,
         "type": "bar",
         "visible": false,
         "x": {
          "bdata": "twe4B7kHuge7B7wHvQe+B78HwAfBB8IHwwfEB8UHxgfHB8gHyQfKB8wHzQfOB88H0AfRB9IH0wfUB9UH1gfXB9gH2QfaB9sH3AfdB94H3wfgB+EH4gfjB+QH5Qc=",
          "dtype": "i2"
         },
         "xaxis": "x",
         "y": {
          "bdata": "AAAAADSaDUGamZmZwk0RQTMzMzPfgBNBzczMzOhTE0EzMzMzRcwTQTMzMzM9qxNBMzMzM8MQE0HNzMzM5qEVQWZmZmZ5qhRBmpmZmX0xF0EAAAAAQiEWQTMzMzMH/xZBmpmZmabiF0GamZmZy60WQWZmZmbsMB9BAAAAAI5GHUHNzMzMl3cgQTMzMzMBdiFBAAAAAJCHH0HNzMzMZb4lQTQzM7ODfCZBMzMzM9elH0EzMzMzYjAfQZqZmZmljR9BzczMzHZxH0HNzMzMhXQgQWZmZmY+7B9BzczMzJFnIEEAAAAAKg4hQTMzMzMuzSBBzczMzMwKJEGamZmZRyghQc3MzEw8qyNBmpmZmViNI0FmZmbmY9whQczMzEwZnSFBmpmZmWomIEEAAAAAMC8iQTMzM7PvUSBBMzMzM+1PIUFmZmbmUQYjQZqZmZnXPSRBZmZmZmj8I0HNzMzMetcjQTMzMzNt3yVBZmZmZl4PGEE=",
          "dtype": "f8"
         },
         "yaxis": "y"
        },
        {
         "legendgroup": "West",
         "marker": {
          "color": "#003376"
         },
         "name": "West",
         "showlegend": true,
         "type": "bar",
         "visible": false,
         "x": {
          "bdata": "rgeyB7MHtAe1B7YHtwe4B7kHuge7B7wHvQe+B78HwAfBB8IHwwfEB8UHxgfHB8gHyQfKB8sHzAfNB84HzwfQB9EH0gfTB9QH1QfWB9gH2gfbB9wH3QfeB98H4AfhB+IH4wfkBw==",
          "dtype": "i2"
         },
         "xaxis": "x",
         "y": {
          "bdata": "AAAAAGIREEFmZmZmvg4KQZqZmZn1xQlBzczMzESzCEFmZmZmENABQQAAAADYQQhBMzMzM+ebCUFmZmZmlnoLQc3MzMxUewhBMzMzMxVTE0EAAAAASjYVQc3MzMyS1BFBzczMzHErFkFmZmZmYL8XQQAAAADyiRJBMzMzM7NCFUHNzMzMZu0WQQAAAABg7BRBZmZmZgQ1E0EAAAAA9ikVQTMzMzPlhBhBzczMzFh0GUHNzMzMyPMZQWZmZmbmDBtBNDMzM4FqHkGamZmZx8MdQZqZmZk3WB5BmpmZmY95HUFmZmZmAkoeQQAAAAAUKx5BMzMzM7s5HUFmZmZmzkofQQAAAADvOSBBMzMzM/+4HkGamZmZf9IeQc3MzMwc6SBBNDMzs5F7IUGamZmZ7wglQWZmZubmriBBmpmZmW0NIEFmZmZmXxgTQWZmZmYCSh5BZmZmZrxTIUE0MzMzqJofQTMzM7P0USBBZmZmZo80IUEzMzMzwS4jQWZmZuYnVyNBzczMzHn/I0HNzMzMmgYjQQ==",
          "dtype": "f8"
         },
         "yaxis": "y"
        },
        {
         "legendgroup": "All",
         "marker": {
          "color": "gray"
         },
         "name": "All",
         "showlegend": true,
         "type": "bar",
         "visible": false,
         "x": {
          "bdata": "rgevB7AHsQeyB7MHtAe1B7YHtwe4B7kHuge7B7wHvQe+B78HwAfBB8IHwwfEB8UHxgfHB8gHyQfKB8sHzAfNB84HzwfQB9EH0gfTB9QH1QfWB9cH2AfZB9oH2wfcB90H3gffB+AH4QfiB+MH5AflBw==",
          "dtype": "i2"
         },
         "xaxis": "x2",
         "y": {
          "bdata": "AAAAAGIREEFmZmZmNqAMQc3MzMwIGw1BMzMzMzvGCkGamZmZM1kQQTMzMzNv6AtBZmZmZi9YEUGamZmZwwoQQTQzMzOLhhFBMzMzM0uJE0EzMzMzi6kTQc3MzMw4QhNBzczMzIxAFEGamZmZb0oUQZqZmZkcqRNBzczMzPC3E0GamZmZIV4VQczMzMxeeBNBAAAAAJiuFkEAAAAA7jUWQQAAAABA1xZBMzMzMxOPF0FmZmZmGFkZQWZmZmbyNxxBAAAAAJKvG0HNzMzMAuocQQAAAADPNSJBZmZmZgLuIEEAAAAAEbAgQTMzMzPfGyFBmpmZmReBH0FmZmZmLtYdQWZmZmYAah1BZmZmZlZyHkGamZmZp6keQc3MzMzgEiBBzczMzMYPIEEAAAAAmYIgQc3MzMxIkiBBzczMzDtfIkEAAAAA72EnQc3MzMzSryFBMzMzMxHRI0EzMzMzK2YlQZqZmZldYyFBMzMzM0FvLEGamZmZGMkgQc3MzMyDfyJBMzMzM9vGIEEAAAAAytAgQWZmZmYHaCNBmpmZGTlqJEEAAAAAH74jQTMzMzPqpiNBAAAAAGsvJkFmZmZmXg8YQQ==",
          "dtype": "f8"
         },
         "yaxis": "y2"
        },
        {
         "legendgroup": "Central",
         "line": {
          "color": "#ff4500"
         },
         "mode": "lines",
         "name": "Central",
         "showlegend": true,
         "type": "scatter",
         "visible": false,
         "x": {
          "bdata": "AAECAwQFBgcICQoLDA0ODxAREhMUFRYXGBkaGxwdHh8gISIjJCUmJygpKissLS4vMDEyMzQ1Njc4OQ==",
          "dtype": "i1"
         },
         "xaxis": "x",
         "y": {
          "bdata": "mpmZGXW7IkEAAAAA6kwmQWZmZmbluyhBNDMzM6DyJEGamZmZmMEmQWZmZmbSuCVBzczMTN/+I0FmZmZmihwjQc3MzMzbvyJBNDMzM0A6IkHNzMzMCCsiQTMzMzOJJiFBMzMzM1idIEHNzMzMhwMdQQAAAABqaRlBMzMzMztKF0HNzMzM+oQVQQAAAAAF9hJBmpmZmRPwE0FmZmZmrHQTQZqZmZnfRBNBAAAAAF6pE0EAAAAARmQTQTMzMzM/7RFBMzMzMz/tEUEzMzMzPaQRQc3MzMxOuRFBzczMzNp/EUGamZmZSw4RQc3MzMwY4BBBZmZmZtiVEUGamZmZD9kSQZqZmZnpVBRBMzMzM9FkFkEzMzMzcS8YQTQzMzPvcRlBZmZmZqLCGUGamZmZ55sZQQAAAABeUBpBZmZmZqMzGUEzMzMznV8ZQQAAAABWTxlBAAAAAKprGUEAAAAA/xsZQWZmZmasPRlBAAAAAKTYGEEAAAAAwgsZQZqZmZlBGxhBZmZmZiBwF0FmZmZmJkQWQTQzMzMDahVBmpmZmXdPFEFmZmZmmPgUQTQzMzPzkhRBAAAAAHaiFEEAAAAA4G4UQc3MzMycThRBmpmZmXPvFEE=",
          "dtype": "f8"
         },
         "yaxis": "y"
        },
        {
         "legendgroup": "East",
         "line": {
          "color": "#faa272"
         },
         "mode": "lines",
         "name": "East",
         "showlegend": true,
         "type": "scatter",
         "visible": false,
         "x": {
          "bdata": "AAECAwQFBgcICQoLDA0ODxAREhMUFRYXGBkaGxwdHh8gISIjJCUmJygpKissLS4vMDEyMzQ=",
          "dtype": "i1"
         },
         "xaxis": "x",
         "y": {
          "bdata": "mpmZGbO/J0GamZmZrCcjQZqZmRkdGCRBmpmZmWc3IkHNzMxMm3YhQWZmZmaSZSFBNDMzM3eYH0EzMzMzY3weQTMzMzNbGx1BAAAAAO7BG0EzMzMzN1caQZqZmZkeFxpBZmZmZt5tGkFmZmZmRhYZQZqZmZmnQRhBzczMzB3tF0HNzMzM+C4XQZqZmZkPUBdBZmZmZunSFkEAAAAA6osXQTMzMzM7ShdBMzMzM8u1FkEAAAAAaHQXQQAAAACyPBhBMzMzM2HfGkFmZmZmeiQcQc3MzMxqOh1BmpmZmW34HUHNzMzMxvAdQczMzMynyR1BzMzMzOx6HEEAAAAAcrgcQQAAAAA6eB1BAAAAAGptHUHMzMzMnFseQQAAAADq+x1BMzMzMwkbHUEzMzMzIXYcQc3MzMxE3xtBMzMzM0MfHEHNzMzM15QaQQAAAAB+5BhBZmZmZgrjGEGamZmZQz8ZQQAAAABS7xlBNDMzMyNDGkGamZmZTz8aQZqZmZlPPxpBzczMzGbPFkEzMzMzGZUXQWZmZmYZTxZBmpmZmQGeFUFmZmZmg4YWQQ==",
          "dtype": "f8"
         },
         "yaxis": "y"
        },
        {
         "legendgroup": "North",
         "line": {
          "color": "#ffdab9"
         },
         "mode": "lines",
         "name": "North",
         "showlegend": true,
         "type": "scatter",
         "visible": false,
         "x": {
          "bdata": "AAECAwQFBgcICQoLDA0ODxAREhMUFRYXGBkaGxwdHh8gISIjJCUmJygpKissLS4vMDEy",
          "dtype": "i1"
         },
         "xaxis": "x",
         "y": {
          "bdata": "AAAAANfPJkFmZmZmUD8hQTQzMzPGaRZBzczMzFK9GEEzMzMzBe0ZQWZmZmYoHBlBAAAAAHqQGEEzMzMzl2MYQWZmZmY/DxlBmpmZma8rGUGamZmZPcgYQZqZmZknwhhBMzMzM8UzGUGamZmZ/jAXQTMzMzP6PhZBZmZmZtK0FkHNzMzM+YYVQczMzMyxIxVBzczMzCxUFUEAAAAAjiEWQTMzMzOTnBZBZmZmZpzfFkEzMzMz08wXQTMzMzNrChpBZmZmZiAeG0EzMzMz4t8bQZqZmZn37xxBMzMzM6F4G0GamZmZvi0aQZqZmZkDQxhBZmZmZpaCF0GamZmZ9/EWQZqZmZkLpRZBmpmZmffxFkFmZmZmmPwYQQAAAABQnxlBMzMzMxOYG0HNzMzMhBwbQWZmZmYwjBlBZmZmZuqlGUHMzMzMCrEXQTMzMzMUZBRBzczMzNqAEkHMzMzMnawTQQAAAAAZQBRBzczMzJRQFkGamZmZ9jcYQc3MzMxQ0BVBzczMzG6fFUHNzMzMJnAUQQAAAAB1txRB",
          "dtype": "f8"
         },
         "yaxis": "y"
        },
        {
         "legendgroup": "North-East",
         "line": {
          "color": "#0088ff"
         },
         "mode": "lines",
         "name": "North-East",
         "showlegend": true,
         "type": "scatter",
         "visible": false,
         "x": {
          "bdata": "AAECAwQFBgcICQoLDA0ODxAREhMUFRYXGBkaGxwdHh8gISIjJCUmJygpKissLS4vMDE=",
          "dtype": "i1"
         },
         "xaxis": "x",
         "y": {
          "bdata": "zMzMzPPDH0EzMzMzm4wdQWZmZmaiFR1BmpmZmU07HkGamZmZaiYgQTMzMzO5GyBBZmZmZoDdH0GamZmZd1sgQc3MzMwaQSBBmpmZGRAgIEGamZmZP1AeQWZmZmYsZR1BzczMzNI1G0GamZmZtZMYQZqZmZl9MRdBMzMzMwf/FkHNzMzMQvAWQQAAAAAxGxhBmpmZme3FF0EAAAAAhmoXQc3MzMymnxZBMzMzMynyFUHNzMzMRn4VQTMzMzN51xZBzczMzDaNFkGamZmZOcoXQWZmZmalOxhBmpmZmVP7F0GamZmZA0MYQTMzMzPFjRlBNDMzM/o9GkHNzMzMMEIbQQAAAACmxxtBAAAAABIwHEEAAAAAygwcQWZmZmbiZBtBZmZmZqOcG0FmZmZmSF8bQZqZmZmV2xpBMzMzM0v2GUHNzMzM3rwYQTMzMzMziRhBmpmZmVcPGUEAAAAAVJ8ZQWZmZmaOahpBZmZmZryHGkEzMzMzR38bQZqZmZlS1xlBMzMzM1/vF0EAAAAAdo8UQQ==",
          "dtype": "f8"
         },
         "yaxis": "y"
        },
        {
         "legendgroup": "West",
         "line": {
          "color": "#003376"
         },
         "mode": "lines",
         "name": "West",
         "showlegend": true,
         "type": "scatter",
         "visible": false,
         "x": {
          "bdata": "AAECAwQFBgcICQoLDA0ODxAREhMUFRYXGBkaGxwdHh8gISIjJCUmJygpKissLS4vMDEyMzQ1Njc5Og==",
          "dtype": "i1"
         },
         "xaxis": "x",
         "y": {
          "bdata": "ZmZmZsZIIEEAAAAA1bYZQZqZmZmrox5BmpmZmZ/8HEEAAAAAcuYcQc3MzMx2LRtBZmZmZtRPGkEAAAAANDMaQc3MzMzyIRpBzczMzFL1GUHNzMzMKFQYQc3MzMxAIRhBZmZmZjCtF0GamZmZPaYWQTMzMzNbIRZBAAAAAC50FUFmZmZmykEVQZqZmZmV9xRBMzMzM09/FEEAAAAAQrMVQTMzMzMp8hVBMzMzMxm3FkEAAAAA9ikXQZqZmZnVRRhBmpmZmQe5GEEAAAAA5lgZQQAAAABMZxlBZmZmZr7iGEEAAAAAWk8ZQc3MzMymGBlBMzMzM8EUGUEzMzMzGXcZQQAAAABv8RlBAAAAAPyZGUGamZmZ7+4aQQAAAADZpxlBMzMzM1KxGUHNzMzMwlgaQWZmZma8hxpBmpmZmUvfGkEAAAAA1zMZQWZmZmaw+xdBNDMzM6BTGEEzMzMzBTwZQQAAAAB+5BhBZmZmZlxfGEEAAAAAaJ8WQTMzMzM52RNBzczMzOrPE0EzMzMzcLUSQWZmZmbF1hJBmpmZmWGhEkGamZmZN/8SQWZmZmZgqxJBzczMzI7fEEHNzMzMNv4RQWZmZmYoShVBmpmZmXZ3FEE=",
          "dtype": "f8"
         },
         "yaxis": "y"
        },
        {
         "legendgroup": "All",
         "line": {
          "color": "gray"
         },
         "mode": "lines",
         "name": "All",
         "showlegend": true,
         "type": "scatter",
         "visible": false,
         "x": {
          "bdata": "AAECAwQFBgcICQoLDA0ODxAREhMUFRYXGBkaGxwdHh8gISIjJCUmJygpKissLS4vMDEyMzQ1Njc4OTo=",
          "dtype": "i1"
         },
         "xaxis": "x2",
         "y": {
          "bdata": "AAAAgC+DJEGamZmZAggiQTMzMzMI2yJBMzMzM70mHkEzMzMzBb0eQQAAAAC2OR5BmpmZmXpPHUGamZmZqRwdQWZmZma8cRxBMzMzMw85HEFmZmZm9O8aQQAAAAAEiBpBAAAAAMg/GkGamZmZIWAYQZqZmZmbIRdBmpmZmQ2dFkEAAAAAGBIWQQAAAABWDRZBmpmZmXvtFUEAAAAAaDoWQQAAAADgKhZBzMzMzB4xFkFmZmZmJowWQc3MzMyOERdBMzMzM8m8F0EzMzMzF2EYQQAAAAD23hhBAAAAAGKBGEEzMzMzu1IYQWZmZmb1HRhBmpmZmdVFGEEAAAAASBsZQTMzMzM/lRlBzczMzMjZGUHNzMzM+J4aQQAAAABiwhpBzczMzIQcG0EzMzMz7fgaQZqZmZmJwxpBZmZmZppSGkGamZmZ/UkZQWZmZmZ2vxhBmpmZmTvkGEEzMzMzVzgZQWZmZmYwjBlBZmZmZqw9GUGamZmZlGkZQZqZmZlvzBdBzczMzKjVFkFmZmZm+gsWQWZmZmYoShVBzczMzJxOFEEzMzMzT/YUQQAAAAD7XRRBmpmZmdmfFEGamZmZSV4UQc3MzMycThRBmpmZmXPvFEGamZmZdncUQQ==",
          "dtype": "f8"
         },
         "yaxis": "y2"
        },
        {
         "legendgroup": "Central",
         "marker": {
          "color": "#ff4500"
         },
         "name": "Central",
         "showlegend": true,
         "type": "bar",
         "visible": false,
         "x": {
          "bdata": "AAECAwQFBgcICQoLDA0ODxAREhMUFRYXGBkaGxwdHh8gISIjJCUmJygpKissLS4vMDEyMzQ1Njc4OQ==",
          "dtype": "i1"
         },
         "xaxis": "x",
         "y": {
          "bdata": "mpmZGXW7IkEAAAAA6kwmQWZmZmbluyhBNDMzM6DyJEGamZmZmMEmQWZmZmbSuCVBzczMTN/+I0FmZmZmihwjQc3MzMzbvyJBNDMzM0A6IkHNzMzMCCsiQTMzMzOJJiFBMzMzM1idIEHNzMzMhwMdQQAAAABqaRlBMzMzMztKF0HNzMzM+oQVQQAAAAAF9hJBmpmZmRPwE0FmZmZmrHQTQZqZmZnfRBNBAAAAAF6pE0EAAAAARmQTQTMzMzM/7RFBMzMzMz/tEUEzMzMzPaQRQc3MzMxOuRFBzczMzNp/EUGamZmZSw4RQc3MzMwY4BBBZmZmZtiVEUGamZmZD9kSQZqZmZnpVBRBMzMzM9FkFkEzMzMzcS8YQTQzMzPvcRlBZmZmZqLCGUGamZmZ55sZQQAAAABeUBpBZmZmZqMzGUEzMzMznV8ZQQAAAABWTxlBAAAAAKprGUEAAAAA/xsZQWZmZmasPRlBAAAAAKTYGEEAAAAAwgsZQZqZmZlBGxhBZmZmZiBwF0FmZmZmJkQWQTQzMzMDahVBmpmZmXdPFEFmZmZmmPgUQTQzMzPzkhRBAAAAAHaiFEEAAAAA4G4UQc3MzMycThRBmpmZmXPvFEE=",
          "dtype": "f8"
         },
         "yaxis": "y"
        },
        {
         "legendgroup": "East",
         "marker": {
          "color": "#faa272"
         },
         "name": "East",
         "showlegend": true,
         "type": "bar",
         "visible": false,
         "x": {
          "bdata": "AAECAwQFBgcICQoLDA0ODxAREhMUFRYXGBkaGxwdHh8gISIjJCUmJygpKissLS4vMDEyMzQ=",
          "dtype": "i1"
         },
         "xaxis": "x",
         "y": {
          "bdata": "mpmZGbO/J0GamZmZrCcjQZqZmRkdGCRBmpmZmWc3IkHNzMxMm3YhQWZmZmaSZSFBNDMzM3eYH0EzMzMzY3weQTMzMzNbGx1BAAAAAO7BG0EzMzMzN1caQZqZmZkeFxpBZmZmZt5tGkFmZmZmRhYZQZqZmZmnQRhBzczMzB3tF0HNzMzM+C4XQZqZmZkPUBdBZmZmZunSFkEAAAAA6osXQTMzMzM7ShdBMzMzM8u1FkEAAAAAaHQXQQAAAACyPBhBMzMzM2HfGkFmZmZmeiQcQc3MzMxqOh1BmpmZmW34HUHNzMzMxvAdQczMzMynyR1BzMzMzOx6HEEAAAAAcrgcQQAAAAA6eB1BAAAAAGptHUHMzMzMnFseQQAAAADq+x1BMzMzMwkbHUEzMzMzIXYcQc3MzMxE3xtBMzMzM0MfHEHNzMzM15QaQQAAAAB+5BhBZmZmZgrjGEGamZmZQz8ZQQAAAABS7xlBNDMzMyNDGkGamZmZTz8aQZqZmZlPPxpBzczMzGbPFkEzMzMzGZUXQWZmZmYZTxZBmpmZmQGeFUFmZmZmg4YWQQ==",
          "dtype": "f8"
         },
         "yaxis": "y"
        },
        {
         "legendgroup": "North",
         "marker": {
          "color": "#ffdab9"
         },
         "name": "North",
         "showlegend": true,
         "type": "bar",
         "visible": false,
         "x": {
          "bdata": "AAECAwQFBgcICQoLDA0ODxAREhMUFRYXGBkaGxwdHh8gISIjJCUmJygpKissLS4vMDEy",
          "dtype": "i1"
         },
         "xaxis": "x",
         "y": {
          "bdata": "AAAAANfPJkFmZmZmUD8hQTQzMzPGaRZBzczMzFK9GEEzMzMzBe0ZQWZmZmYoHBlBAAAAAHqQGEEzMzMzl2MYQWZmZmY/DxlBmpmZma8rGUGamZmZPcgYQZqZmZknwhhBMzMzM8UzGUGamZmZ/jAXQTMzMzP6PhZBZmZmZtK0FkHNzMzM+YYVQczMzMyxIxVBzczMzCxUFUEAAAAAjiEWQTMzMzOTnBZBZmZmZpzfFkEzMzMz08wXQTMzMzNrChpBZmZmZiAeG0EzMzMz4t8bQZqZmZn37xxBMzMzM6F4G0GamZmZvi0aQZqZmZkDQxhBZmZmZpaCF0GamZmZ9/EWQZqZmZkLpRZBmpmZmffxFkFmZmZmmPwYQQAAAABQnxlBMzMzMxOYG0HNzMzMhBwbQWZmZmYwjBlBZmZmZuqlGUHMzMzMCrEXQTMzMzMUZBRBzczMzNqAEkHMzMzMnawTQQAAAAAZQBRBzczMzJRQFkGamZmZ9jcYQc3MzMxQ0BVBzczMzG6fFUHNzMzMJnAUQQAAAAB1txRB",
          "dtype": "f8"
         },
         "yaxis": "y"
        },
        {
         "legendgroup": "North-East",
         "marker": {
          "color": "#0088ff"
         },
         "name": "North-East",
         "showlegend": true,
         "type": "bar",
         "visible": false,
         "x": {
          "bdata": "AAECAwQFBgcICQoLDA0ODxAREhMUFRYXGBkaGxwdHh8gISIjJCUmJygpKissLS4vMDE=",
          "dtype": "i1"
         },
         "xaxis": "x",
         "y": {
          "bdata": "zMzMzPPDH0EzMzMzm4wdQWZmZmaiFR1BmpmZmU07HkGamZmZaiYgQTMzMzO5GyBBZmZmZoDdH0GamZmZd1sgQc3MzMwaQSBBmpmZGRAgIEGamZmZP1AeQWZmZmYsZR1BzczMzNI1G0GamZmZtZMYQZqZmZl9MRdBMzMzMwf/FkHNzMzMQvAWQQAAAAAxGxhBmpmZme3FF0EAAAAAhmoXQc3MzMymnxZBMzMzMynyFUHNzMzMRn4VQTMzMzN51xZBzczMzDaNFkGamZmZOcoXQWZmZmalOxhBmpmZmVP7F0GamZmZA0MYQTMzMzPFjRlBNDMzM/o9GkHNzMzMMEIbQQAAAACmxxtBAAAAABIwHEEAAAAAygwcQWZmZmbiZBtBZmZmZqOcG0FmZmZmSF8bQZqZmZmV2xpBMzMzM0v2GUHNzMzM3rwYQTMzMzMziRhBmpmZmVcPGUEAAAAAVJ8ZQWZmZmaOahpBZmZmZryHGkEzMzMzR38bQZqZmZlS1xlBMzMzM1/vF0EAAAAAdo8UQQ==",
          "dtype": "f8"
         },
         "yaxis": "y"
        },
        {
         "legendgroup": "West",
         "marker": {
          "color": "#003376"
         },
         "name": "West",
         "showlegend": true,
         "type": "bar",
         "visible": false,
         "x": {
          "bdata": "AAECAwQFBgcICQoLDA0ODxAREhMUFRYXGBkaGxwdHh8gISIjJCUmJygpKissLS4vMDEyMzQ1Njc5Og==",
          "dtype": "i1"
         },
         "xaxis": "x",
         "y": {
          "bdata": "ZmZmZsZIIEEAAAAA1bYZQZqZmZmrox5BmpmZmZ/8HEEAAAAAcuYcQc3MzMx2LRtBZmZmZtRPGkEAAAAANDMaQc3MzMzyIRpBzczMzFL1GUHNzMzMKFQYQc3MzMxAIRhBZmZmZjCtF0GamZmZPaYWQTMzMzNbIRZBAAAAAC50FUFmZmZmykEVQZqZmZmV9xRBMzMzM09/FEEAAAAAQrMVQTMzMzMp8hVBMzMzMxm3FkEAAAAA9ikXQZqZmZnVRRhBmpmZmQe5GEEAAAAA5lgZQQAAAABMZxlBZmZmZr7iGEEAAAAAWk8ZQc3MzMymGBlBMzMzM8EUGUEzMzMzGXcZQQAAAABv8RlBAAAAAPyZGUGamZmZ7+4aQQAAAADZpxlBMzMzM1KxGUHNzMzMwlgaQWZmZma8hxpBmpmZmUvfGkEAAAAA1zMZQWZmZmaw+xdBNDMzM6BTGEEzMzMzBTwZQQAAAAB+5BhBZmZmZlxfGEEAAAAAaJ8WQTMzMzM52RNBzczMzOrPE0EzMzMzcLUSQWZmZmbF1hJBmpmZmWGhEkGamZmZN/8SQWZmZmZgqxJBzczMzI7fEEHNzMzMNv4RQWZmZmYoShVBmpmZmXZ3FEE=",
          "dtype": "f8"
         },
         "yaxis": "y"
        },
        {
         "legendgroup": "All",
         "marker": {
          "color": "gray"
         },
         "name": "All",
         "showlegend": true,
         "type": "bar",
         "visible": false,
         "x": {
          "bdata": "AAECAwQFBgcICQoLDA0ODxAREhMUFRYXGBkaGxwdHh8gISIjJCUmJygpKissLS4vMDEyMzQ1Njc4OTo=",
          "dtype": "i1"
         },
         "xaxis": "x2",
         "y": {
          "bdata": "AAAAgC+DJEGamZmZAggiQTMzMzMI2yJBMzMzM70mHkEzMzMzBb0eQQAAAAC2OR5BmpmZmXpPHUGamZmZqRwdQWZmZma8cRxBMzMzMw85HEFmZmZm9O8aQQAAAAAEiBpBAAAAAMg/GkGamZmZIWAYQZqZmZmbIRdBmpmZmQ2dFkEAAAAAGBIWQQAAAABWDRZBmpmZmXvtFUEAAAAAaDoWQQAAAADgKhZBzMzMzB4xFkFmZmZmJowWQc3MzMyOERdBMzMzM8m8F0EzMzMzF2EYQQAAAAD23hhBAAAAAGKBGEEzMzMzu1IYQWZmZmb1HRhBmpmZmdVFGEEAAAAASBsZQTMzMzM/lRlBzczMzMjZGUHNzMzM+J4aQQAAAABiwhpBzczMzIQcG0EzMzMz7fgaQZqZmZmJwxpBZmZmZppSGkGamZmZ/UkZQWZmZmZ2vxhBmpmZmTvkGEEzMzMzVzgZQWZmZmYwjBlBZmZmZqw9GUGamZmZlGkZQZqZmZlvzBdBzczMzKjVFkFmZmZm+gsWQWZmZmYoShVBzczMzJxOFEEzMzMzT/YUQQAAAAD7XRRBmpmZmdmfFEGamZmZSV4UQc3MzMycThRBmpmZmXPvFEGamZmZdncUQQ==",
          "dtype": "f8"
         },
         "yaxis": "y2"
        },
        {
         "legendgroup": "Central",
         "line": {
          "color": "#ff4500"
         },
         "mode": "lines",
         "name": "Central",
         "showlegend": true,
         "type": "scatter",
         "visible": false,
         "x": {
          "bdata": "AQIDBAUGBwgJCgsM",
          "dtype": "i1"
         },
         "xaxis": "x",
         "y": {
          "bdata": "zczMzEjMFkGamZmZfTEXQTMzMzOhMhhBZmZmZjx0GEHNzMzMOp0YQWZmZmbCkhhBAAAAAHZvGEEAAAAAT9EYQWZmZmbCCBlBNDMzM2jKGEGamZmZq1QYQZqZmZn31BdB",
          "dtype": "f8"
         },
         "yaxis": "y"
        },
        {
         "legendgroup": "East",
         "line": {
          "color": "#faa272"
         },
         "mode": "lines",
         "name": "East",
         "showlegend": true,
         "type": "scatter",
         "visible": false,
         "x": {
          "bdata": "AQIDBAUGBwgJCgsM",
          "dtype": "i1"
         },
         "xaxis": "x",
         "y": {
          "bdata": "MzMzM0+OGkFmZmZmjmoaQc3MzMwSDxtBMzMzM3GjG0EAAAAA7sEbQTMzMzOVkBtBzczMzIKjG0HNzMzMZrUbQZqZmZlBqRtBzczMzOrTG0FmZmZm4mQbQc3MzMzdCBtB",
          "dtype": "f8"
         },
         "yaxis": "y"
        },
        {
         "legendgroup": "North",
         "line": {
          "color": "#ffdab9"
         },
         "mode": "lines",
         "name": "North",
         "showlegend": true,
         "type": "scatter",
         "visible": false,
         "x": {
          "bdata": "AQIDBAUGBwgJCgsM",
          "dtype": "i1"
         },
         "xaxis": "x",
         "y": {
          "bdata": "ZmZmZuz8F0FmZmZmaPcXQQAAAAB5ORhBmpmZmT3IGEHNzMzMjMIYQc3MzMzevBhBAAAAAKjSGEEAAAAApNgYQQAAAADYshhBAAAAAKTYGEEAAAAA9t4YQWZmZmZFTRhB",
          "dtype": "f8"
         },
         "yaxis": "y"
        },
        {
         "legendgroup": "North-East",
         "line": {
          "color": "#0088ff"
         },
         "mode": "lines",
         "name": "North-East",
         "showlegend": true,
         "type": "scatter",
         "visible": false,
         "x": {
          "bdata": "AQIDBAUGBwgJCgsM",
          "dtype": "i1"
         },
         "xaxis": "x",
         "y": {
          "bdata": "MzMzMyihGkEzMzMzQbYaQc3MzMx2LRtBzczMzHy8G0EzMzMzIdcbQc3MzMziwhtBAAAAAGhgHEFmZmZmfAkcQQAAAAD2QhxBzczMzJ7kG0GamZmZBIEbQQAAAADgZBtB",
          "dtype": "f8"
         },
         "yaxis": "y"
        },
        {
         "legendgroup": "West",
         "line": {
          "color": "#003376"
         },
         "mode": "lines",
         "name": "West",
         "showlegend": true,
         "type": "scatter",
         "visible": false,
         "x": {
          "bdata": "AQIDBAUGBwgJCgsM",
          "dtype": "i1"
         },
         "xaxis": "x",
         "y": {
          "bdata": "ZmZmZtonGEEAAAAAYvYXQTMzMzPHWRhBZmZmZpCcGEE0MzMzirkYQQAAAACk2BhBMzMzM8EUGUGamZmZ8SsZQWZmZmYoHBlBZmZmZmo0GUHNzMzMpOsYQZqZmZkOeBhB",
          "dtype": "f8"
         },
         "yaxis": "y"
        },
        {
         "legendgroup": "All",
         "line": {
          "color": "gray"
         },
         "mode": "lines",
         "name": "All",
         "showlegend": true,
         "type": "scatter",
         "visible": false,
         "x": {
          "bdata": "AQIDBAUGBwgJCgsM",
          "dtype": "i1"
         },
         "xaxis": "x2",
         "y": {
          "bdata": "AAAAAH7kGEEzMzMz0eoYQQAAAADuZBlBZmZmZtS+GUEzMzMzBe0ZQQAAAAAe6hlBZmZmZgwVGkFmZmZmJisaQZqZmZmtFxpBzczMzFAfGkEzMzMzR8QZQQAAAADuZBlB",
          "dtype": "f8"
         },
         "yaxis": "y2"
        },
        {
         "legendgroup": "Central",
         "marker": {
          "color": "#ff4500"
         },
         "name": "Central",
         "showlegend": true,
         "type": "bar",
         "visible": false,
         "x": {
          "bdata": "AQIDBAUGBwgJCgsM",
          "dtype": "i1"
         },
         "xaxis": "x",
         "y": {
          "bdata": "zczMzEjMFkGamZmZfTEXQTMzMzOhMhhBZmZmZjx0GEHNzMzMOp0YQWZmZmbCkhhBAAAAAHZvGEEAAAAAT9EYQWZmZmbCCBlBNDMzM2jKGEGamZmZq1QYQZqZmZn31BdB",
          "dtype": "f8"
         },
         "yaxis": "y"
        },
        {
         "legendgroup": "East",
         "marker": {
          "color": "#faa272"
         },
         "name": "East",
         "showlegend": true,
         "type": "bar",
         "visible": false,
         "x": {
          "bdata": "AQIDBAUGBwgJCgsM",
          "dtype": "i1"
         },
         "xaxis": "x",
         "y": {
          "bdata": "MzMzM0+OGkFmZmZmjmoaQc3MzMwSDxtBMzMzM3GjG0EAAAAA7sEbQTMzMzOVkBtBzczMzIKjG0HNzMzMZrUbQZqZmZlBqRtBzczMzOrTG0FmZmZm4mQbQc3MzMzdCBtB",
          "dtype": "f8"
         },
         "yaxis": "y"
        },
        {
         "legendgroup": "North",
         "marker": {
          "color": "#ffdab9"
         },
         "name": "North",
         "showlegend": true,
         "type": "bar",
         "visible": false,
         "x": {
          "bdata": "AQIDBAUGBwgJCgsM",
          "dtype": "i1"
         },
         "xaxis": "x",
         "y": {
          "bdata": "ZmZmZuz8F0FmZmZmaPcXQQAAAAB5ORhBmpmZmT3IGEHNzMzMjMIYQc3MzMzevBhBAAAAAKjSGEEAAAAApNgYQQAAAADYshhBAAAAAKTYGEEAAAAA9t4YQWZmZmZFTRhB",
          "dtype": "f8"
         },
         "yaxis": "y"
        },
        {
         "legendgroup": "North-East",
         "marker": {
          "color": "#0088ff"
         },
         "name": "North-East",
         "showlegend": true,
         "type": "bar",
         "visible": false,
         "x": {
          "bdata": "AQIDBAUGBwgJCgsM",
          "dtype": "i1"
         },
         "xaxis": "x",
         "y": {
          "bdata": "MzMzMyihGkEzMzMzQbYaQc3MzMx2LRtBzczMzHy8G0EzMzMzIdcbQc3MzMziwhtBAAAAAGhgHEFmZmZmfAkcQQAAAAD2QhxBzczMzJ7kG0GamZmZBIEbQQAAAADgZBtB",
          "dtype": "f8"
         },
         "yaxis": "y"
        },
        {
         "legendgroup": "West",
         "marker": {
          "color": "#003376"
         },
         "name": "West",
         "showlegend": true,
         "type": "bar",
         "visible": false,
         "x": {
          "bdata": "AQIDBAUGBwgJCgsM",
          "dtype": "i1"
         },
         "xaxis": "x",
         "y": {
          "bdata": "ZmZmZtonGEEAAAAAYvYXQTMzMzPHWRhBZmZmZpCcGEE0MzMzirkYQQAAAACk2BhBMzMzM8EUGUGamZmZ8SsZQWZmZmYoHBlBZmZmZmo0GUHNzMzMpOsYQZqZmZkOeBhB",
          "dtype": "f8"
         },
         "yaxis": "y"
        },
        {
         "legendgroup": "All",
         "marker": {
          "color": "gray"
         },
         "name": "All",
         "showlegend": true,
         "type": "bar",
         "visible": false,
         "x": {
          "bdata": "AQIDBAUGBwgJCgsM",
          "dtype": "i1"
         },
         "xaxis": "x2",
         "y": {
          "bdata": "AAAAAH7kGEEzMzMz0eoYQQAAAADuZBlBZmZmZtS+GUEzMzMzBe0ZQQAAAAAe6hlBZmZmZgwVGkFmZmZmJisaQZqZmZmtFxpBzczMzFAfGkEzMzMzR8QZQQAAAADuZBlB",
          "dtype": "f8"
         },
         "yaxis": "y2"
        }
       ],
       "layout": {
        "annotations": [
         {
          "showarrow": false,
          "text": "Select X-axis Variable:",
          "x": 0.86,
          "xref": "paper",
          "y": 1.1,
          "yref": "paper"
         },
         {
          "showarrow": false,
          "text": "Plot Type:",
          "x": 0,
          "xref": "paper",
          "y": 1.1,
          "yref": "paper"
         }
        ],
        "autosize": false,
        "bargap": 0.15,
        "height": 500,
        "margin": {
         "b": 20,
         "l": 20,
         "r": 20,
         "t": 100
        },
        "template": {
         "data": {
          "bar": [
           {
            "error_x": {
             "color": "#2a3f5f"
            },
            "error_y": {
             "color": "#2a3f5f"
            },
            "marker": {
             "line": {
              "color": "#E5ECF6",
              "width": 0.5
             },
             "pattern": {
              "fillmode": "overlay",
              "size": 10,
              "solidity": 0.2
             }
            },
            "type": "bar"
           }
          ],
          "barpolar": [
           {
            "marker": {
             "line": {
              "color": "#E5ECF6",
              "width": 0.5
             },
             "pattern": {
              "fillmode": "overlay",
              "size": 10,
              "solidity": 0.2
             }
            },
            "type": "barpolar"
           }
          ],
          "carpet": [
           {
            "aaxis": {
             "endlinecolor": "#2a3f5f",
             "gridcolor": "white",
             "linecolor": "white",
             "minorgridcolor": "white",
             "startlinecolor": "#2a3f5f"
            },
            "baxis": {
             "endlinecolor": "#2a3f5f",
             "gridcolor": "white",
             "linecolor": "white",
             "minorgridcolor": "white",
             "startlinecolor": "#2a3f5f"
            },
            "type": "carpet"
           }
          ],
          "choropleth": [
           {
            "colorbar": {
             "outlinewidth": 0,
             "ticks": ""
            },
            "type": "choropleth"
           }
          ],
          "contour": [
           {
            "colorbar": {
             "outlinewidth": 0,
             "ticks": ""
            },
            "colorscale": [
             [
              0,
              "#0d0887"
             ],
             [
              0.1111111111111111,
              "#46039f"
             ],
             [
              0.2222222222222222,
              "#7201a8"
             ],
             [
              0.3333333333333333,
              "#9c179e"
             ],
             [
              0.4444444444444444,
              "#bd3786"
             ],
             [
              0.5555555555555556,
              "#d8576b"
             ],
             [
              0.6666666666666666,
              "#ed7953"
             ],
             [
              0.7777777777777778,
              "#fb9f3a"
             ],
             [
              0.8888888888888888,
              "#fdca26"
             ],
             [
              1,
              "#f0f921"
             ]
            ],
            "type": "contour"
           }
          ],
          "contourcarpet": [
           {
            "colorbar": {
             "outlinewidth": 0,
             "ticks": ""
            },
            "type": "contourcarpet"
           }
          ],
          "heatmap": [
           {
            "colorbar": {
             "outlinewidth": 0,
             "ticks": ""
            },
            "colorscale": [
             [
              0,
              "#0d0887"
             ],
             [
              0.1111111111111111,
              "#46039f"
             ],
             [
              0.2222222222222222,
              "#7201a8"
             ],
             [
              0.3333333333333333,
              "#9c179e"
             ],
             [
              0.4444444444444444,
              "#bd3786"
             ],
             [
              0.5555555555555556,
              "#d8576b"
             ],
             [
              0.6666666666666666,
              "#ed7953"
             ],
             [
              0.7777777777777778,
              "#fb9f3a"
             ],
             [
              0.8888888888888888,
              "#fdca26"
             ],
             [
              1,
              "#f0f921"
             ]
            ],
            "type": "heatmap"
           }
          ],
          "histogram": [
           {
            "marker": {
             "pattern": {
              "fillmode": "overlay",
              "size": 10,
              "solidity": 0.2
             }
            },
            "type": "histogram"
           }
          ],
          "histogram2d": [
           {
            "colorbar": {
             "outlinewidth": 0,
             "ticks": ""
            },
            "colorscale": [
             [
              0,
              "#0d0887"
             ],
             [
              0.1111111111111111,
              "#46039f"
             ],
             [
              0.2222222222222222,
              "#7201a8"
             ],
             [
              0.3333333333333333,
              "#9c179e"
             ],
             [
              0.4444444444444444,
              "#bd3786"
             ],
             [
              0.5555555555555556,
              "#d8576b"
             ],
             [
              0.6666666666666666,
              "#ed7953"
             ],
             [
              0.7777777777777778,
              "#fb9f3a"
             ],
             [
              0.8888888888888888,
              "#fdca26"
             ],
             [
              1,
              "#f0f921"
             ]
            ],
            "type": "histogram2d"
           }
          ],
          "histogram2dcontour": [
           {
            "colorbar": {
             "outlinewidth": 0,
             "ticks": ""
            },
            "colorscale": [
             [
              0,
              "#0d0887"
             ],
             [
              0.1111111111111111,
              "#46039f"
             ],
             [
              0.2222222222222222,
              "#7201a8"
             ],
             [
              0.3333333333333333,
              "#9c179e"
             ],
             [
              0.4444444444444444,
              "#bd3786"
             ],
             [
              0.5555555555555556,
              "#d8576b"
             ],
             [
              0.6666666666666666,
              "#ed7953"
             ],
             [
              0.7777777777777778,
              "#fb9f3a"
             ],
             [
              0.8888888888888888,
              "#fdca26"
             ],
             [
              1,
              "#f0f921"
             ]
            ],
            "type": "histogram2dcontour"
           }
          ],
          "mesh3d": [
           {
            "colorbar": {
             "outlinewidth": 0,
             "ticks": ""
            },
            "type": "mesh3d"
           }
          ],
          "parcoords": [
           {
            "line": {
             "colorbar": {
              "outlinewidth": 0,
              "ticks": ""
             }
            },
            "type": "parcoords"
           }
          ],
          "pie": [
           {
            "automargin": true,
            "type": "pie"
           }
          ],
          "scatter": [
           {
            "fillpattern": {
             "fillmode": "overlay",
             "size": 10,
             "solidity": 0.2
            },
            "type": "scatter"
           }
          ],
          "scatter3d": [
           {
            "line": {
             "colorbar": {
              "outlinewidth": 0,
              "ticks": ""
             }
            },
            "marker": {
             "colorbar": {
              "outlinewidth": 0,
              "ticks": ""
             }
            },
            "type": "scatter3d"
           }
          ],
          "scattercarpet": [
           {
            "marker": {
             "colorbar": {
              "outlinewidth": 0,
              "ticks": ""
             }
            },
            "type": "scattercarpet"
           }
          ],
          "scattergeo": [
           {
            "marker": {
             "colorbar": {
              "outlinewidth": 0,
              "ticks": ""
             }
            },
            "type": "scattergeo"
           }
          ],
          "scattergl": [
           {
            "marker": {
             "colorbar": {
              "outlinewidth": 0,
              "ticks": ""
             }
            },
            "type": "scattergl"
           }
          ],
          "scattermap": [
           {
            "marker": {
             "colorbar": {
              "outlinewidth": 0,
              "ticks": ""
             }
            },
            "type": "scattermap"
           }
          ],
          "scattermapbox": [
           {
            "marker": {
             "colorbar": {
              "outlinewidth": 0,
              "ticks": ""
             }
            },
            "type": "scattermapbox"
           }
          ],
          "scatterpolar": [
           {
            "marker": {
             "colorbar": {
              "outlinewidth": 0,
              "ticks": ""
             }
            },
            "type": "scatterpolar"
           }
          ],
          "scatterpolargl": [
           {
            "marker": {
             "colorbar": {
              "outlinewidth": 0,
              "ticks": ""
             }
            },
            "type": "scatterpolargl"
           }
          ],
          "scatterternary": [
           {
            "marker": {
             "colorbar": {
              "outlinewidth": 0,
              "ticks": ""
             }
            },
            "type": "scatterternary"
           }
          ],
          "surface": [
           {
            "colorbar": {
             "outlinewidth": 0,
             "ticks": ""
            },
            "colorscale": [
             [
              0,
              "#0d0887"
             ],
             [
              0.1111111111111111,
              "#46039f"
             ],
             [
              0.2222222222222222,
              "#7201a8"
             ],
             [
              0.3333333333333333,
              "#9c179e"
             ],
             [
              0.4444444444444444,
              "#bd3786"
             ],
             [
              0.5555555555555556,
              "#d8576b"
             ],
             [
              0.6666666666666666,
              "#ed7953"
             ],
             [
              0.7777777777777778,
              "#fb9f3a"
             ],
             [
              0.8888888888888888,
              "#fdca26"
             ],
             [
              1,
              "#f0f921"
             ]
            ],
            "type": "surface"
           }
          ],
          "table": [
           {
            "cells": {
             "fill": {
              "color": "#EBF0F8"
             },
             "line": {
              "color": "white"
             }
            },
            "header": {
             "fill": {
              "color": "#C8D4E3"
             },
             "line": {
              "color": "white"
             }
            },
            "type": "table"
           }
          ]
         },
         "layout": {
          "annotationdefaults": {
           "arrowcolor": "#2a3f5f",
           "arrowhead": 0,
           "arrowwidth": 1
          },
          "autotypenumbers": "strict",
          "coloraxis": {
           "colorbar": {
            "outlinewidth": 0,
            "ticks": ""
           }
          },
          "colorscale": {
           "diverging": [
            [
             0,
             "#8e0152"
            ],
            [
             0.1,
             "#c51b7d"
            ],
            [
             0.2,
             "#de77ae"
            ],
            [
             0.3,
             "#f1b6da"
            ],
            [
             0.4,
             "#fde0ef"
            ],
            [
             0.5,
             "#f7f7f7"
            ],
            [
             0.6,
             "#e6f5d0"
            ],
            [
             0.7,
             "#b8e186"
            ],
            [
             0.8,
             "#7fbc41"
            ],
            [
             0.9,
             "#4d9221"
            ],
            [
             1,
             "#276419"
            ]
           ],
           "sequential": [
            [
             0,
             "#0d0887"
            ],
            [
             0.1111111111111111,
             "#46039f"
            ],
            [
             0.2222222222222222,
             "#7201a8"
            ],
            [
             0.3333333333333333,
             "#9c179e"
            ],
            [
             0.4444444444444444,
             "#bd3786"
            ],
            [
             0.5555555555555556,
             "#d8576b"
            ],
            [
             0.6666666666666666,
             "#ed7953"
            ],
            [
             0.7777777777777778,
             "#fb9f3a"
            ],
            [
             0.8888888888888888,
             "#fdca26"
            ],
            [
             1,
             "#f0f921"
            ]
           ],
           "sequentialminus": [
            [
             0,
             "#0d0887"
            ],
            [
             0.1111111111111111,
             "#46039f"
            ],
            [
             0.2222222222222222,
             "#7201a8"
            ],
            [
             0.3333333333333333,
             "#9c179e"
            ],
            [
             0.4444444444444444,
             "#bd3786"
            ],
            [
             0.5555555555555556,
             "#d8576b"
            ],
            [
             0.6666666666666666,
             "#ed7953"
            ],
            [
             0.7777777777777778,
             "#fb9f3a"
            ],
            [
             0.8888888888888888,
             "#fdca26"
            ],
            [
             1,
             "#f0f921"
            ]
           ]
          },
          "colorway": [
           "#636efa",
           "#EF553B",
           "#00cc96",
           "#ab63fa",
           "#FFA15A",
           "#19d3f3",
           "#FF6692",
           "#B6E880",
           "#FF97FF",
           "#FECB52"
          ],
          "font": {
           "color": "#2a3f5f"
          },
          "geo": {
           "bgcolor": "white",
           "lakecolor": "white",
           "landcolor": "#E5ECF6",
           "showlakes": true,
           "showland": true,
           "subunitcolor": "white"
          },
          "hoverlabel": {
           "align": "left"
          },
          "hovermode": "closest",
          "mapbox": {
           "style": "light"
          },
          "paper_bgcolor": "white",
          "plot_bgcolor": "#E5ECF6",
          "polar": {
           "angularaxis": {
            "gridcolor": "white",
            "linecolor": "white",
            "ticks": ""
           },
           "bgcolor": "#E5ECF6",
           "radialaxis": {
            "gridcolor": "white",
            "linecolor": "white",
            "ticks": ""
           }
          },
          "scene": {
           "xaxis": {
            "backgroundcolor": "#E5ECF6",
            "gridcolor": "white",
            "gridwidth": 2,
            "linecolor": "white",
            "showbackground": true,
            "ticks": "",
            "zerolinecolor": "white"
           },
           "yaxis": {
            "backgroundcolor": "#E5ECF6",
            "gridcolor": "white",
            "gridwidth": 2,
            "linecolor": "white",
            "showbackground": true,
            "ticks": "",
            "zerolinecolor": "white"
           },
           "zaxis": {
            "backgroundcolor": "#E5ECF6",
            "gridcolor": "white",
            "gridwidth": 2,
            "linecolor": "white",
            "showbackground": true,
            "ticks": "",
            "zerolinecolor": "white"
           }
          },
          "shapedefaults": {
           "line": {
            "color": "#2a3f5f"
           }
          },
          "ternary": {
           "aaxis": {
            "gridcolor": "white",
            "linecolor": "white",
            "ticks": ""
           },
           "baxis": {
            "gridcolor": "white",
            "linecolor": "white",
            "ticks": ""
           },
           "bgcolor": "#E5ECF6",
           "caxis": {
            "gridcolor": "white",
            "linecolor": "white",
            "ticks": ""
           }
          },
          "title": {
           "x": 0.05
          },
          "xaxis": {
           "automargin": true,
           "gridcolor": "white",
           "linecolor": "white",
           "ticks": "",
           "title": {
            "standoff": 15
           },
           "zerolinecolor": "white",
           "zerolinewidth": 2
          },
          "yaxis": {
           "automargin": true,
           "gridcolor": "white",
           "linecolor": "white",
           "ticks": "",
           "title": {
            "standoff": 15
           },
           "zerolinecolor": "white",
           "zerolinewidth": 2
          }
         }
        },
        "title": {
         "text": "Median Resale Price By Region (Inflation Adjusted)",
         "y": 0.95
        },
        "updatemenus": [
         {
          "buttons": [
           {
            "args": [
             {
              "visible": [
               true,
               true,
               true,
               true,
               true,
               true,
               false,
               false,
               false,
               false,
               false,
               false,
               false,
               false,
               false,
               false,
               false,
               false,
               false,
               false,
               false,
               false,
               false,
               false,
               false,
               false,
               false,
               false,
               false,
               false,
               false,
               false,
               false,
               false,
               false,
               false,
               false,
               false,
               false,
               false,
               false,
               false,
               false,
               false,
               false,
               false,
               false,
               false
              ]
             },
             {
              "xaxis.title": "Year",
              "xaxis2.title": "Year"
             }
            ],
            "label": "Year",
            "method": "update"
           },
           {
            "args": [
             {
              "visible": [
               false,
               false,
               false,
               false,
               false,
               false,
               false,
               false,
               false,
               false,
               false,
               false,
               true,
               true,
               true,
               true,
               true,
               true,
               false,
               false,
               false,
               false,
               false,
               false,
               false,
               false,
               false,
               false,
               false,
               false,
               false,
               false,
               false,
               false,
               false,
               false,
               false,
               false,
               false,
               false,
               false,
               false,
               false,
               false,
               false,
               false,
               false,
               false
              ]
             },
             {
              "xaxis.title": "Lease Year",
              "xaxis2.title": "Lease Year"
             }
            ],
            "label": "Lease Year",
            "method": "update"
           },
           {
            "args": [
             {
              "visible": [
               false,
               false,
               false,
               false,
               false,
               false,
               false,
               false,
               false,
               false,
               false,
               false,
               false,
               false,
               false,
               false,
               false,
               false,
               false,
               false,
               false,
               false,
               false,
               false,
               true,
               true,
               true,
               true,
               true,
               true,
               false,
               false,
               false,
               false,
               false,
               false,
               false,
               false,
               false,
               false,
               false,
               false,
               false,
               false,
               false,
               false,
               false,
               false
              ]
             },
             {
              "xaxis.title": "Years Leased",
              "xaxis2.title": "Years Leased"
             }
            ],
            "label": "Years Leased",
            "method": "update"
           },
           {
            "args": [
             {
              "visible": [
               false,
               false,
               false,
               false,
               false,
               false,
               false,
               false,
               false,
               false,
               false,
               false,
               false,
               false,
               false,
               false,
               false,
               false,
               false,
               false,
               false,
               false,
               false,
               false,
               false,
               false,
               false,
               false,
               false,
               false,
               false,
               false,
               false,
               false,
               false,
               false,
               true,
               true,
               true,
               true,
               true,
               true,
               false,
               false,
               false,
               false,
               false,
               false
              ]
             },
             {
              "xaxis.title": "Month",
              "xaxis2.title": "Month"
             }
            ],
            "label": "Month",
            "method": "update"
           }
          ],
          "direction": "down",
          "pad": {
           "r": 10,
           "t": 10
          },
          "showactive": true,
          "x": 1.01,
          "xanchor": "right",
          "y": 1.15,
          "yanchor": "top"
         },
         {
          "buttons": [
           {
            "args": [
             {
              "visible": [
               true,
               true,
               true,
               true,
               true,
               true,
               false,
               false,
               false,
               false,
               false,
               false,
               false,
               false,
               false,
               false,
               false,
               false,
               false,
               false,
               false,
               false,
               false,
               false,
               false,
               false,
               false,
               false,
               false,
               false,
               false,
               false,
               false,
               false,
               false,
               false,
               false,
               false,
               false,
               false,
               false,
               false,
               false,
               false,
               false,
               false,
               false,
               false
              ]
             },
             {
              "barmode": "group"
             }
            ],
            "label": "Line Plot",
            "method": "update"
           },
           {
            "args": [
             {
              "visible": [
               false,
               false,
               false,
               false,
               false,
               false,
               true,
               true,
               true,
               true,
               true,
               true,
               false,
               false,
               false,
               false,
               false,
               false,
               false,
               false,
               false,
               false,
               false,
               false,
               false,
               false,
               false,
               false,
               false,
               false,
               false,
               false,
               false,
               false,
               false,
               false,
               false,
               false,
               false,
               false,
               false,
               false,
               false,
               false,
               false,
               false,
               false,
               false
              ]
             },
             {
              "barmode": "stack"
             }
            ],
            "label": "Bar Plot",
            "method": "update"
           }
          ],
          "direction": "right",
          "pad": {
           "r": 10,
           "t": 10
          },
          "showactive": true,
          "type": "buttons",
          "x": 0.26,
          "xanchor": "right",
          "y": 1.15,
          "yanchor": "top"
         }
        ],
        "width": 1100,
        "xaxis": {
         "anchor": "y",
         "domain": [
          0,
          1
         ],
         "title": {
          "text": "Year"
         }
        },
        "xaxis2": {
         "anchor": "y2",
         "domain": [
          0,
          1
         ],
         "title": {
          "text": "Year"
         }
        },
        "yaxis": {
         "anchor": "x",
         "domain": [
          0.32,
          1
         ],
         "title": {
          "text": "Median Resale Price (S$)"
         }
        },
        "yaxis2": {
         "anchor": "x2",
         "domain": [
          0,
          0.17
         ]
        }
       }
      }
     },
     "metadata": {},
     "output_type": "display_data"
    }
   ],
   "source": [
    "catplots(df_p, x_vars, 'region', 'Median Resale Price By Region (Inflation Adjusted)', 'median')"
   ]
  },
  {
   "cell_type": "code",
   "execution_count": 21,
   "id": "137fbe40",
   "metadata": {},
   "outputs": [
    {
     "data": {
      "application/vnd.plotly.v1+json": {
       "config": {
        "plotlyServerURL": "https://plot.ly"
       },
       "data": [
        {
         "line": {
          "color": "firebrick",
          "width": 3
         },
         "marker": {
          "size": 8
         },
         "mode": "lines+markers",
         "name": "Executive / 1 Room",
         "type": "scatter",
         "x": {
          "bdata": "xgfHB8gHyQfKB8sHzAfNB84HzwfQB9EH0gfTB9QH1QfWB9cH2AfZB9oH2wfcB90H3gffB+AH4QfiB+MH5AflB+YH5wfoBw==",
          "dtype": "i2"
         },
         "y": {
          "bdata": "zcruP62qOEDe6YZuAsA3QAwI7WjLTDVA8lkPSCJ+MUBeOysu9CgtQCFTaH+pKihAJlioyIkdJkDBynpYfUAhQDebFgFZyCRAj90SjN7ZIkDyjNfT/98jQB/EuzqaKSZAiRCaL0YXI0BnCQ8DXnQdQC05Ra2BIBhAK3GiP+QXE0BG9yuka5EQQKpBfZyfUg9A03TatW7xDEBCNoR8WUoIQJEg8AV7XAVAdnq4p/YPBUAZDQfrbcIEQEYhjzAvbAVA6rZ5nmALBkDpQQb1sBMHQNs5RJcDiQZAhn0OEjSlB0Cv12zxcRwLQBvku8HNeAtAGxKQWu5pDEBd5VaG+OALQJ7bv+CVNgpAkFBwNXj/CkAyLEhtDM4LQA==",
          "dtype": "f8"
         }
        }
       ],
       "layout": {
        "height": 500,
        "margin": {
         "b": 50,
         "l": 50,
         "r": 50,
         "t": 100
        },
        "template": {
         "data": {
          "bar": [
           {
            "error_x": {
             "color": "#2a3f5f"
            },
            "error_y": {
             "color": "#2a3f5f"
            },
            "marker": {
             "line": {
              "color": "white",
              "width": 0.5
             },
             "pattern": {
              "fillmode": "overlay",
              "size": 10,
              "solidity": 0.2
             }
            },
            "type": "bar"
           }
          ],
          "barpolar": [
           {
            "marker": {
             "line": {
              "color": "white",
              "width": 0.5
             },
             "pattern": {
              "fillmode": "overlay",
              "size": 10,
              "solidity": 0.2
             }
            },
            "type": "barpolar"
           }
          ],
          "carpet": [
           {
            "aaxis": {
             "endlinecolor": "#2a3f5f",
             "gridcolor": "#C8D4E3",
             "linecolor": "#C8D4E3",
             "minorgridcolor": "#C8D4E3",
             "startlinecolor": "#2a3f5f"
            },
            "baxis": {
             "endlinecolor": "#2a3f5f",
             "gridcolor": "#C8D4E3",
             "linecolor": "#C8D4E3",
             "minorgridcolor": "#C8D4E3",
             "startlinecolor": "#2a3f5f"
            },
            "type": "carpet"
           }
          ],
          "choropleth": [
           {
            "colorbar": {
             "outlinewidth": 0,
             "ticks": ""
            },
            "type": "choropleth"
           }
          ],
          "contour": [
           {
            "colorbar": {
             "outlinewidth": 0,
             "ticks": ""
            },
            "colorscale": [
             [
              0,
              "#0d0887"
             ],
             [
              0.1111111111111111,
              "#46039f"
             ],
             [
              0.2222222222222222,
              "#7201a8"
             ],
             [
              0.3333333333333333,
              "#9c179e"
             ],
             [
              0.4444444444444444,
              "#bd3786"
             ],
             [
              0.5555555555555556,
              "#d8576b"
             ],
             [
              0.6666666666666666,
              "#ed7953"
             ],
             [
              0.7777777777777778,
              "#fb9f3a"
             ],
             [
              0.8888888888888888,
              "#fdca26"
             ],
             [
              1,
              "#f0f921"
             ]
            ],
            "type": "contour"
           }
          ],
          "contourcarpet": [
           {
            "colorbar": {
             "outlinewidth": 0,
             "ticks": ""
            },
            "type": "contourcarpet"
           }
          ],
          "heatmap": [
           {
            "colorbar": {
             "outlinewidth": 0,
             "ticks": ""
            },
            "colorscale": [
             [
              0,
              "#0d0887"
             ],
             [
              0.1111111111111111,
              "#46039f"
             ],
             [
              0.2222222222222222,
              "#7201a8"
             ],
             [
              0.3333333333333333,
              "#9c179e"
             ],
             [
              0.4444444444444444,
              "#bd3786"
             ],
             [
              0.5555555555555556,
              "#d8576b"
             ],
             [
              0.6666666666666666,
              "#ed7953"
             ],
             [
              0.7777777777777778,
              "#fb9f3a"
             ],
             [
              0.8888888888888888,
              "#fdca26"
             ],
             [
              1,
              "#f0f921"
             ]
            ],
            "type": "heatmap"
           }
          ],
          "histogram": [
           {
            "marker": {
             "pattern": {
              "fillmode": "overlay",
              "size": 10,
              "solidity": 0.2
             }
            },
            "type": "histogram"
           }
          ],
          "histogram2d": [
           {
            "colorbar": {
             "outlinewidth": 0,
             "ticks": ""
            },
            "colorscale": [
             [
              0,
              "#0d0887"
             ],
             [
              0.1111111111111111,
              "#46039f"
             ],
             [
              0.2222222222222222,
              "#7201a8"
             ],
             [
              0.3333333333333333,
              "#9c179e"
             ],
             [
              0.4444444444444444,
              "#bd3786"
             ],
             [
              0.5555555555555556,
              "#d8576b"
             ],
             [
              0.6666666666666666,
              "#ed7953"
             ],
             [
              0.7777777777777778,
              "#fb9f3a"
             ],
             [
              0.8888888888888888,
              "#fdca26"
             ],
             [
              1,
              "#f0f921"
             ]
            ],
            "type": "histogram2d"
           }
          ],
          "histogram2dcontour": [
           {
            "colorbar": {
             "outlinewidth": 0,
             "ticks": ""
            },
            "colorscale": [
             [
              0,
              "#0d0887"
             ],
             [
              0.1111111111111111,
              "#46039f"
             ],
             [
              0.2222222222222222,
              "#7201a8"
             ],
             [
              0.3333333333333333,
              "#9c179e"
             ],
             [
              0.4444444444444444,
              "#bd3786"
             ],
             [
              0.5555555555555556,
              "#d8576b"
             ],
             [
              0.6666666666666666,
              "#ed7953"
             ],
             [
              0.7777777777777778,
              "#fb9f3a"
             ],
             [
              0.8888888888888888,
              "#fdca26"
             ],
             [
              1,
              "#f0f921"
             ]
            ],
            "type": "histogram2dcontour"
           }
          ],
          "mesh3d": [
           {
            "colorbar": {
             "outlinewidth": 0,
             "ticks": ""
            },
            "type": "mesh3d"
           }
          ],
          "parcoords": [
           {
            "line": {
             "colorbar": {
              "outlinewidth": 0,
              "ticks": ""
             }
            },
            "type": "parcoords"
           }
          ],
          "pie": [
           {
            "automargin": true,
            "type": "pie"
           }
          ],
          "scatter": [
           {
            "fillpattern": {
             "fillmode": "overlay",
             "size": 10,
             "solidity": 0.2
            },
            "type": "scatter"
           }
          ],
          "scatter3d": [
           {
            "line": {
             "colorbar": {
              "outlinewidth": 0,
              "ticks": ""
             }
            },
            "marker": {
             "colorbar": {
              "outlinewidth": 0,
              "ticks": ""
             }
            },
            "type": "scatter3d"
           }
          ],
          "scattercarpet": [
           {
            "marker": {
             "colorbar": {
              "outlinewidth": 0,
              "ticks": ""
             }
            },
            "type": "scattercarpet"
           }
          ],
          "scattergeo": [
           {
            "marker": {
             "colorbar": {
              "outlinewidth": 0,
              "ticks": ""
             }
            },
            "type": "scattergeo"
           }
          ],
          "scattergl": [
           {
            "marker": {
             "colorbar": {
              "outlinewidth": 0,
              "ticks": ""
             }
            },
            "type": "scattergl"
           }
          ],
          "scattermap": [
           {
            "marker": {
             "colorbar": {
              "outlinewidth": 0,
              "ticks": ""
             }
            },
            "type": "scattermap"
           }
          ],
          "scattermapbox": [
           {
            "marker": {
             "colorbar": {
              "outlinewidth": 0,
              "ticks": ""
             }
            },
            "type": "scattermapbox"
           }
          ],
          "scatterpolar": [
           {
            "marker": {
             "colorbar": {
              "outlinewidth": 0,
              "ticks": ""
             }
            },
            "type": "scatterpolar"
           }
          ],
          "scatterpolargl": [
           {
            "marker": {
             "colorbar": {
              "outlinewidth": 0,
              "ticks": ""
             }
            },
            "type": "scatterpolargl"
           }
          ],
          "scatterternary": [
           {
            "marker": {
             "colorbar": {
              "outlinewidth": 0,
              "ticks": ""
             }
            },
            "type": "scatterternary"
           }
          ],
          "surface": [
           {
            "colorbar": {
             "outlinewidth": 0,
             "ticks": ""
            },
            "colorscale": [
             [
              0,
              "#0d0887"
             ],
             [
              0.1111111111111111,
              "#46039f"
             ],
             [
              0.2222222222222222,
              "#7201a8"
             ],
             [
              0.3333333333333333,
              "#9c179e"
             ],
             [
              0.4444444444444444,
              "#bd3786"
             ],
             [
              0.5555555555555556,
              "#d8576b"
             ],
             [
              0.6666666666666666,
              "#ed7953"
             ],
             [
              0.7777777777777778,
              "#fb9f3a"
             ],
             [
              0.8888888888888888,
              "#fdca26"
             ],
             [
              1,
              "#f0f921"
             ]
            ],
            "type": "surface"
           }
          ],
          "table": [
           {
            "cells": {
             "fill": {
              "color": "#EBF0F8"
             },
             "line": {
              "color": "white"
             }
            },
            "header": {
             "fill": {
              "color": "#C8D4E3"
             },
             "line": {
              "color": "white"
             }
            },
            "type": "table"
           }
          ]
         },
         "layout": {
          "annotationdefaults": {
           "arrowcolor": "#2a3f5f",
           "arrowhead": 0,
           "arrowwidth": 1
          },
          "autotypenumbers": "strict",
          "coloraxis": {
           "colorbar": {
            "outlinewidth": 0,
            "ticks": ""
           }
          },
          "colorscale": {
           "diverging": [
            [
             0,
             "#8e0152"
            ],
            [
             0.1,
             "#c51b7d"
            ],
            [
             0.2,
             "#de77ae"
            ],
            [
             0.3,
             "#f1b6da"
            ],
            [
             0.4,
             "#fde0ef"
            ],
            [
             0.5,
             "#f7f7f7"
            ],
            [
             0.6,
             "#e6f5d0"
            ],
            [
             0.7,
             "#b8e186"
            ],
            [
             0.8,
             "#7fbc41"
            ],
            [
             0.9,
             "#4d9221"
            ],
            [
             1,
             "#276419"
            ]
           ],
           "sequential": [
            [
             0,
             "#0d0887"
            ],
            [
             0.1111111111111111,
             "#46039f"
            ],
            [
             0.2222222222222222,
             "#7201a8"
            ],
            [
             0.3333333333333333,
             "#9c179e"
            ],
            [
             0.4444444444444444,
             "#bd3786"
            ],
            [
             0.5555555555555556,
             "#d8576b"
            ],
            [
             0.6666666666666666,
             "#ed7953"
            ],
            [
             0.7777777777777778,
             "#fb9f3a"
            ],
            [
             0.8888888888888888,
             "#fdca26"
            ],
            [
             1,
             "#f0f921"
            ]
           ],
           "sequentialminus": [
            [
             0,
             "#0d0887"
            ],
            [
             0.1111111111111111,
             "#46039f"
            ],
            [
             0.2222222222222222,
             "#7201a8"
            ],
            [
             0.3333333333333333,
             "#9c179e"
            ],
            [
             0.4444444444444444,
             "#bd3786"
            ],
            [
             0.5555555555555556,
             "#d8576b"
            ],
            [
             0.6666666666666666,
             "#ed7953"
            ],
            [
             0.7777777777777778,
             "#fb9f3a"
            ],
            [
             0.8888888888888888,
             "#fdca26"
            ],
            [
             1,
             "#f0f921"
            ]
           ]
          },
          "colorway": [
           "#636efa",
           "#EF553B",
           "#00cc96",
           "#ab63fa",
           "#FFA15A",
           "#19d3f3",
           "#FF6692",
           "#B6E880",
           "#FF97FF",
           "#FECB52"
          ],
          "font": {
           "color": "#2a3f5f"
          },
          "geo": {
           "bgcolor": "white",
           "lakecolor": "white",
           "landcolor": "white",
           "showlakes": true,
           "showland": true,
           "subunitcolor": "#C8D4E3"
          },
          "hoverlabel": {
           "align": "left"
          },
          "hovermode": "closest",
          "mapbox": {
           "style": "light"
          },
          "paper_bgcolor": "white",
          "plot_bgcolor": "white",
          "polar": {
           "angularaxis": {
            "gridcolor": "#EBF0F8",
            "linecolor": "#EBF0F8",
            "ticks": ""
           },
           "bgcolor": "white",
           "radialaxis": {
            "gridcolor": "#EBF0F8",
            "linecolor": "#EBF0F8",
            "ticks": ""
           }
          },
          "scene": {
           "xaxis": {
            "backgroundcolor": "white",
            "gridcolor": "#DFE8F3",
            "gridwidth": 2,
            "linecolor": "#EBF0F8",
            "showbackground": true,
            "ticks": "",
            "zerolinecolor": "#EBF0F8"
           },
           "yaxis": {
            "backgroundcolor": "white",
            "gridcolor": "#DFE8F3",
            "gridwidth": 2,
            "linecolor": "#EBF0F8",
            "showbackground": true,
            "ticks": "",
            "zerolinecolor": "#EBF0F8"
           },
           "zaxis": {
            "backgroundcolor": "white",
            "gridcolor": "#DFE8F3",
            "gridwidth": 2,
            "linecolor": "#EBF0F8",
            "showbackground": true,
            "ticks": "",
            "zerolinecolor": "#EBF0F8"
           }
          },
          "shapedefaults": {
           "line": {
            "color": "#2a3f5f"
           }
          },
          "ternary": {
           "aaxis": {
            "gridcolor": "#DFE8F3",
            "linecolor": "#A2B1C6",
            "ticks": ""
           },
           "baxis": {
            "gridcolor": "#DFE8F3",
            "linecolor": "#A2B1C6",
            "ticks": ""
           },
           "bgcolor": "white",
           "caxis": {
            "gridcolor": "#DFE8F3",
            "linecolor": "#A2B1C6",
            "ticks": ""
           }
          },
          "title": {
           "x": 0.05
          },
          "xaxis": {
           "automargin": true,
           "gridcolor": "#EBF0F8",
           "linecolor": "#EBF0F8",
           "ticks": "",
           "title": {
            "standoff": 15
           },
           "zerolinecolor": "#EBF0F8",
           "zerolinewidth": 2
          },
          "yaxis": {
           "automargin": true,
           "gridcolor": "#EBF0F8",
           "linecolor": "#EBF0F8",
           "ticks": "",
           "title": {
            "standoff": 15
           },
           "zerolinecolor": "#EBF0F8",
           "zerolinewidth": 2
          }
         }
        },
        "title": {
         "text": "<b>Price Ratio Over Time</b><br><sup>From 1990 to 2024, the gap in price between the cheapest and most expensive apartments has shrunk dramatically</sup>",
         "x": 0.1,
         "xanchor": "left",
         "y": 0.95,
         "yanchor": "top"
        },
        "width": 900,
        "xaxis": {
         "title": {
          "text": "Year"
         }
        },
        "yaxis": {
         "tickformat": ".2f",
         "title": {
          "text": "Price Ratio"
         }
        }
       }
      }
     },
     "metadata": {},
     "output_type": "display_data"
    }
   ],
   "source": [
    "median_exec = df[df['flat_type']=='Executive'].groupby(by=['year'])['infl_adj_price'].median().reset_index(name='median_price_executive')\n",
    "median_1room = df[df['flat_type']=='1 Room'].groupby(by=['year'])['infl_adj_price'].median().reset_index(name='median_price_1room')\n",
    "price_gap = median_exec.merge(median_1room, on='year')\n",
    "price_gap['price_ratio'] = price_gap['median_price_executive'] / price_gap['median_price_1room']\n",
    "\n",
    "# Create the line plot\n",
    "fig = go.Figure()\n",
    "\n",
    "fig.add_trace(go.Scatter(\n",
    "    x=price_gap['year'],\n",
    "    y=price_gap['price_ratio'],\n",
    "    mode='lines+markers',\n",
    "    line=dict(color='firebrick', width=3),\n",
    "    marker=dict(size=8),\n",
    "    name='Executive / 1 Room',\n",
    "))\n",
    "\n",
    "fig.update_layout(\n",
    "    title=dict(\n",
    "        text='<b>Price Ratio Over Time</b><br><sup>From 1990 to 2024, the gap in price between the cheapest and most expensive apartments has shrunk dramatically</sup>',\n",
    "        x=0.1,\n",
    "        xanchor='left',\n",
    "        y=0.95,\n",
    "        yanchor='top'\n",
    "    ),\n",
    "    xaxis_title='Year',\n",
    "    yaxis_title='Price Ratio',\n",
    "    yaxis=dict(tickformat=\".2f\"),\n",
    "    template='plotly_white',\n",
    "    width=900,\n",
    "    height=500,\n",
    "    margin=dict(l=50, r=50, t=100, b=50)\n",
    ")\n",
    "\n",
    "fig.show()"
   ]
  },
  {
   "cell_type": "code",
   "execution_count": 22,
   "id": "a52bfbe1",
   "metadata": {},
   "outputs": [
    {
     "name": "stderr",
     "output_type": "stream",
     "text": [
      "/var/folders/s0/f5rjt2b943x41srzy579gf8c0000gn/T/ipykernel_51353/880036053.py:9: DeprecationWarning:\n",
      "\n",
      "DataFrameGroupBy.apply operated on the grouping columns. This behavior is deprecated, and in a future version of pandas the grouping columns will be excluded from the operation. Either pass `include_groups=False` to exclude the groupings or explicitly select the grouping columns after groupby to silence this warning.\n",
      "\n"
     ]
    },
    {
     "data": {
      "image/png": "[encoded data removed]",
      "text/plain": [
       "<Figure size 1000x500 with 1 Axes>"
      ]
     },
     "metadata": {},
     "output_type": "display_data"
    }
   ],
   "source": [
    "# Define a function to remove outliers for each flat_type category\n",
    "def remove_outliers(df, group_col, value_col):\n",
    "    def iqr_filter(group):\n",
    "        Q1 = group[value_col].quantile(0.25)\n",
    "        Q3 = group[value_col].quantile(0.75)\n",
    "        IQR = Q3 - Q1\n",
    "        return group[(group[value_col] >= Q1 - 1.5 * IQR) & (group[value_col] <= Q3 + 1.5 * IQR)]\n",
    "    \n",
    "    return df.groupby(group_col, group_keys=False).apply(iqr_filter)\n",
    "\n",
    "# Apply the function to dataset\n",
    "df_filtered = remove_outliers(df, 'flat_type', 'resale_price')\n",
    "\n",
    "# Plot cleaned data\n",
    "df_plot = df_filtered.sort_values('flat_type')\n",
    "plt.figure(figsize=(10, 5))\n",
    "sns.boxplot(data=df_plot, x='flat_type', y='resale_price')\n",
    "plt.title('Resale Price by Flat Type (Outliers Removed)')\n",
    "plt.show()"
   ]
  },
  {
   "cell_type": "markdown",
   "id": "09c78ed3",
   "metadata": {},
   "source": [
    "## Lease Year and Number of Years Leased\n",
    "Exploring the distribution of the number of years an apartment was leased for and the year it was leased."
   ]
  },
  {
   "cell_type": "code",
   "execution_count": 23,
   "id": "03c6bb1d",
   "metadata": {},
   "outputs": [
    {
     "data": {
      "image/png": "[encoded data removed]",
      "text/plain": [
       "<Figure size 1000x500 with 1 Axes>"
      ]
     },
     "metadata": {},
     "output_type": "display_data"
    }
   ],
   "source": [
    "df_plot = df.sort_values('flat_type')\n",
    "\n",
    "plt.figure(figsize = (10,5))\n",
    "sns.boxplot(data=df_plot, x='flat_type', y='years_leased')\n",
    "plt.title('Number of Years Leased by Flat Type')\n",
    "plt.show()"
   ]
  },
  {
   "cell_type": "code",
   "execution_count": 24,
   "id": "071281e2",
   "metadata": {},
   "outputs": [
    {
     "data": {
      "image/png": "[encoded data removed]",
      "text/plain": [
       "<Figure size 1000x500 with 1 Axes>"
      ]
     },
     "metadata": {},
     "output_type": "display_data"
    }
   ],
   "source": [
    "df_plot = df.sort_values('flat_type')\n",
    "plt.figure(figsize = (10,5))\n",
    "sns.barplot(data=df_plot, x='flat_type', y='floor_area_sqm')\n",
    "plt.show()"
   ]
  },
  {
   "cell_type": "code",
   "execution_count": 25,
   "id": "2e7ed1a0",
   "metadata": {},
   "outputs": [
    {
     "data": {
      "application/vnd.plotly.v1+json": {
       "config": {
        "plotlyServerURL": "https://plot.ly"
       },
       "data": [
        {
         "branchvalues": "total",
         "domain": {
          "x": [
           0,
           1
          ],
          "y": [
           0,
           1
          ]
         },
         "hovertemplate": "labels=%{label}<br>infl_adj_price=%{value}<br>parent=%{parent}<br>id=%{id}<extra></extra>",
         "ids": [
          "1 Room/Improved",
          "3 Room/New Generation",
          "4 Room/New Generation",
          "5 Room/Improved",
          "5 Room/Model A",
          "5 Room/Standard",
          "2 Room/Improved",
          "3 Room/Improved",
          "3 Room/Model A",
          "4 Room/Improved",
          "4 Room/Model A",
          "4 Room/Simplified",
          "5 Room/Model A-Maisonette",
          "Executive/Apartment",
          "Executive/Maisonette",
          "2 Room/Standard",
          "3 Room/Standard",
          "4 Room/Standard",
          "3 Room/Terrace",
          "3 Room/Simplified",
          "2 Room/2-Room",
          "4 Room/Terrace",
          "5 Room/Improved-Maisonette",
          "Multi-Generation/Multi Generation",
          "5 Room/Premium Apartment",
          "Executive/Premium Apartment",
          "Executive/Adjoined Flat",
          "4 Room/Adjoined Flat",
          "5 Room/Adjoined Flat",
          "4 Room/Premium Apartment",
          "3 Room/Adjoined Flat",
          "Executive/Premium Maisonette",
          "4 Room/Model A2",
          "2 Room/Model A",
          "2 Room/Premium Apartment",
          "4 Room/Dbss",
          "5 Room/Dbss",
          "4 Room/Type S1",
          "5 Room/Type S2",
          "5 Room/Premium Apartment Loft",
          "3 Room/Premium Apartment",
          "3 Room/Dbss",
          "2 Room/Dbss",
          "4 Room/Premium Apartment Loft",
          "5 Room/3Gen",
          "1 Room",
          "3 Room",
          "4 Room",
          "5 Room",
          "2 Room",
          "Executive",
          "Multi-Generation"
         ],
         "labels": [
          "Improved",
          "New Generation",
          "New Generation",
          "Improved",
          "Model A",
          "Standard",
          "Improved",
          "Improved",
          "Model A",
          "Improved",
          "Model A",
          "Simplified",
          "Model A-Maisonette",
          "Apartment",
          "Maisonette",
          "Standard",
          "Standard",
          "Standard",
          "Terrace",
          "Simplified",
          "2-Room",
          "Terrace",
          "Improved-Maisonette",
          "Multi Generation",
          "Premium Apartment",
          "Premium Apartment",
          "Adjoined Flat",
          "Adjoined Flat",
          "Adjoined Flat",
          "Premium Apartment",
          "Adjoined Flat",
          "Premium Maisonette",
          "Model A2",
          "Model A",
          "Premium Apartment",
          "Dbss",
          "Dbss",
          "Type S1",
          "Type S2",
          "Premium Apartment Loft",
          "Premium Apartment",
          "Dbss",
          "Dbss",
          "Premium Apartment Loft",
          "3Gen",
          "1 Room",
          "3 Room",
          "4 Room",
          "5 Room",
          "2 Room",
          "Executive",
          "Multi-Generation"
         ],
         "name": "",
         "parents": [
          "1 Room",
          "3 Room",
          "4 Room",
          "5 Room",
          "5 Room",
          "5 Room",
          "2 Room",
          "3 Room",
          "3 Room",
          "4 Room",
          "4 Room",
          "4 Room",
          "5 Room",
          "Executive",
          "Executive",
          "2 Room",
          "3 Room",
          "4 Room",
          "3 Room",
          "3 Room",
          "2 Room",
          "4 Room",
          "5 Room",
          "Multi-Generation",
          "5 Room",
          "Executive",
          "Executive",
          "4 Room",
          "5 Room",
          "4 Room",
          "3 Room",
          "Executive",
          "4 Room",
          "2 Room",
          "2 Room",
          "4 Room",
          "5 Room",
          "4 Room",
          "5 Room",
          "5 Room",
          "3 Room",
          "3 Room",
          "2 Room",
          "4 Room",
          "5 Room",
          "",
          "",
          "",
          "",
          "",
          "",
          ""
         ],
         "type": "treemap",
         "values": {
          "bdata": "AAAAWDxLnkFmZla9lPAfQmZmPoBrRRhCAIDwv5xoM0IzM18vg6QCQs3MXOJ6Zv9BMzNzJqWRwUEzM62BNJkUQpqZd6GumBBCZma+7wN39kFmZmZhl9A1QpqZAQF61gxCZmZGGUGx1EEAALLps+UXQpqZT6AfPxRCMzMz7wQ+0EEAANAsLs3zQQAAAFd5mK5BMzMzZk8LvEFmZgZ+4cHsQQAAADQcy41BZmZmNuZuiEHNzMy8yYmTQQAAAHCbT7lBMzMfefLWBEIzM9O2PcXkQc3MzEnhn7FBzczMkkkcmEFmZmbQ+027QTMz/1JuFAhCZmZmZj7mEkEAAABqp8uRQZqZyZsk6u5BAABA2F+hx0HNzMz06IFyQQAA4OQ5utBBZmYmvJL62EEAAIDtVSa+Qc3MzPQJHrFBzczMzPp3fkGamVnb9OTCQQAAABsZG7BBmpmZmctqFUEAAAC+fUWWQTMzM39BaIFBAAAAWDxLnkEAgKPydL0zQmbmSzyJrkJCZuaMcoU6O0LNzFxQnwjjQZqZtjbjiidCAAAAcJtPuUE=",
          "dtype": "f8"
         }
        }
       ],
       "layout": {
        "autosize": false,
        "height": 500,
        "legend": {
         "tracegroupgap": 0
        },
        "margin": {
         "b": 20,
         "l": 20,
         "r": 20,
         "t": 50
        },
        "template": {
         "data": {
          "bar": [
           {
            "error_x": {
             "color": "#2a3f5f"
            },
            "error_y": {
             "color": "#2a3f5f"
            },
            "marker": {
             "line": {
              "color": "#E5ECF6",
              "width": 0.5
             },
             "pattern": {
              "fillmode": "overlay",
              "size": 10,
              "solidity": 0.2
             }
            },
            "type": "bar"
           }
          ],
          "barpolar": [
           {
            "marker": {
             "line": {
              "color": "#E5ECF6",
              "width": 0.5
             },
             "pattern": {
              "fillmode": "overlay",
              "size": 10,
              "solidity": 0.2
             }
            },
            "type": "barpolar"
           }
          ],
          "carpet": [
           {
            "aaxis": {
             "endlinecolor": "#2a3f5f",
             "gridcolor": "white",
             "linecolor": "white",
             "minorgridcolor": "white",
             "startlinecolor": "#2a3f5f"
            },
            "baxis": {
             "endlinecolor": "#2a3f5f",
             "gridcolor": "white",
             "linecolor": "white",
             "minorgridcolor": "white",
             "startlinecolor": "#2a3f5f"
            },
            "type": "carpet"
           }
          ],
          "choropleth": [
           {
            "colorbar": {
             "outlinewidth": 0,
             "ticks": ""
            },
            "type": "choropleth"
           }
          ],
          "contour": [
           {
            "colorbar": {
             "outlinewidth": 0,
             "ticks": ""
            },
            "colorscale": [
             [
              0,
              "#0d0887"
             ],
             [
              0.1111111111111111,
              "#46039f"
             ],
             [
              0.2222222222222222,
              "#7201a8"
             ],
             [
              0.3333333333333333,
              "#9c179e"
             ],
             [
              0.4444444444444444,
              "#bd3786"
             ],
             [
              0.5555555555555556,
              "#d8576b"
             ],
             [
              0.6666666666666666,
              "#ed7953"
             ],
             [
              0.7777777777777778,
              "#fb9f3a"
             ],
             [
              0.8888888888888888,
              "#fdca26"
             ],
             [
              1,
              "#f0f921"
             ]
            ],
            "type": "contour"
           }
          ],
          "contourcarpet": [
           {
            "colorbar": {
             "outlinewidth": 0,
             "ticks": ""
            },
            "type": "contourcarpet"
           }
          ],
          "heatmap": [
           {
            "colorbar": {
             "outlinewidth": 0,
             "ticks": ""
            },
            "colorscale": [
             [
              0,
              "#0d0887"
             ],
             [
              0.1111111111111111,
              "#46039f"
             ],
             [
              0.2222222222222222,
              "#7201a8"
             ],
             [
              0.3333333333333333,
              "#9c179e"
             ],
             [
              0.4444444444444444,
              "#bd3786"
             ],
             [
              0.5555555555555556,
              "#d8576b"
             ],
             [
              0.6666666666666666,
              "#ed7953"
             ],
             [
              0.7777777777777778,
              "#fb9f3a"
             ],
             [
              0.8888888888888888,
              "#fdca26"
             ],
             [
              1,
              "#f0f921"
             ]
            ],
            "type": "heatmap"
           }
          ],
          "histogram": [
           {
            "marker": {
             "pattern": {
              "fillmode": "overlay",
              "size": 10,
              "solidity": 0.2
             }
            },
            "type": "histogram"
           }
          ],
          "histogram2d": [
           {
            "colorbar": {
             "outlinewidth": 0,
             "ticks": ""
            },
            "colorscale": [
             [
              0,
              "#0d0887"
             ],
             [
              0.1111111111111111,
              "#46039f"
             ],
             [
              0.2222222222222222,
              "#7201a8"
             ],
             [
              0.3333333333333333,
              "#9c179e"
             ],
             [
              0.4444444444444444,
              "#bd3786"
             ],
             [
              0.5555555555555556,
              "#d8576b"
             ],
             [
              0.6666666666666666,
              "#ed7953"
             ],
             [
              0.7777777777777778,
              "#fb9f3a"
             ],
             [
              0.8888888888888888,
              "#fdca26"
             ],
             [
              1,
              "#f0f921"
             ]
            ],
            "type": "histogram2d"
           }
          ],
          "histogram2dcontour": [
           {
            "colorbar": {
             "outlinewidth": 0,
             "ticks": ""
            },
            "colorscale": [
             [
              0,
              "#0d0887"
             ],
             [
              0.1111111111111111,
              "#46039f"
             ],
             [
              0.2222222222222222,
              "#7201a8"
             ],
             [
              0.3333333333333333,
              "#9c179e"
             ],
             [
              0.4444444444444444,
              "#bd3786"
             ],
             [
              0.5555555555555556,
              "#d8576b"
             ],
             [
              0.6666666666666666,
              "#ed7953"
             ],
             [
              0.7777777777777778,
              "#fb9f3a"
             ],
             [
              0.8888888888888888,
              "#fdca26"
             ],
             [
              1,
              "#f0f921"
             ]
            ],
            "type": "histogram2dcontour"
           }
          ],
          "mesh3d": [
           {
            "colorbar": {
             "outlinewidth": 0,
             "ticks": ""
            },
            "type": "mesh3d"
           }
          ],
          "parcoords": [
           {
            "line": {
             "colorbar": {
              "outlinewidth": 0,
              "ticks": ""
             }
            },
            "type": "parcoords"
           }
          ],
          "pie": [
           {
            "automargin": true,
            "type": "pie"
           }
          ],
          "scatter": [
           {
            "fillpattern": {
             "fillmode": "overlay",
             "size": 10,
             "solidity": 0.2
            },
            "type": "scatter"
           }
          ],
          "scatter3d": [
           {
            "line": {
             "colorbar": {
              "outlinewidth": 0,
              "ticks": ""
             }
            },
            "marker": {
             "colorbar": {
              "outlinewidth": 0,
              "ticks": ""
             }
            },
            "type": "scatter3d"
           }
          ],
          "scattercarpet": [
           {
            "marker": {
             "colorbar": {
              "outlinewidth": 0,
              "ticks": ""
             }
            },
            "type": "scattercarpet"
           }
          ],
          "scattergeo": [
           {
            "marker": {
             "colorbar": {
              "outlinewidth": 0,
              "ticks": ""
             }
            },
            "type": "scattergeo"
           }
          ],
          "scattergl": [
           {
            "marker": {
             "colorbar": {
              "outlinewidth": 0,
              "ticks": ""
             }
            },
            "type": "scattergl"
           }
          ],
          "scattermap": [
           {
            "marker": {
             "colorbar": {
              "outlinewidth": 0,
              "ticks": ""
             }
            },
            "type": "scattermap"
           }
          ],
          "scattermapbox": [
           {
            "marker": {
             "colorbar": {
              "outlinewidth": 0,
              "ticks": ""
             }
            },
            "type": "scattermapbox"
           }
          ],
          "scatterpolar": [
           {
            "marker": {
             "colorbar": {
              "outlinewidth": 0,
              "ticks": ""
             }
            },
            "type": "scatterpolar"
           }
          ],
          "scatterpolargl": [
           {
            "marker": {
             "colorbar": {
              "outlinewidth": 0,
              "ticks": ""
             }
            },
            "type": "scatterpolargl"
           }
          ],
          "scatterternary": [
           {
            "marker": {
             "colorbar": {
              "outlinewidth": 0,
              "ticks": ""
             }
            },
            "type": "scatterternary"
           }
          ],
          "surface": [
           {
            "colorbar": {
             "outlinewidth": 0,
             "ticks": ""
            },
            "colorscale": [
             [
              0,
              "#0d0887"
             ],
             [
              0.1111111111111111,
              "#46039f"
             ],
             [
              0.2222222222222222,
              "#7201a8"
             ],
             [
              0.3333333333333333,
              "#9c179e"
             ],
             [
              0.4444444444444444,
              "#bd3786"
             ],
             [
              0.5555555555555556,
              "#d8576b"
             ],
             [
              0.6666666666666666,
              "#ed7953"
             ],
             [
              0.7777777777777778,
              "#fb9f3a"
             ],
             [
              0.8888888888888888,
              "#fdca26"
             ],
             [
              1,
              "#f0f921"
             ]
            ],
            "type": "surface"
           }
          ],
          "table": [
           {
            "cells": {
             "fill": {
              "color": "#EBF0F8"
             },
             "line": {
              "color": "white"
             }
            },
            "header": {
             "fill": {
              "color": "#C8D4E3"
             },
             "line": {
              "color": "white"
             }
            },
            "type": "table"
           }
          ]
         },
         "layout": {
          "annotationdefaults": {
           "arrowcolor": "#2a3f5f",
           "arrowhead": 0,
           "arrowwidth": 1
          },
          "autotypenumbers": "strict",
          "coloraxis": {
           "colorbar": {
            "outlinewidth": 0,
            "ticks": ""
           }
          },
          "colorscale": {
           "diverging": [
            [
             0,
             "#8e0152"
            ],
            [
             0.1,
             "#c51b7d"
            ],
            [
             0.2,
             "#de77ae"
            ],
            [
             0.3,
             "#f1b6da"
            ],
            [
             0.4,
             "#fde0ef"
            ],
            [
             0.5,
             "#f7f7f7"
            ],
            [
             0.6,
             "#e6f5d0"
            ],
            [
             0.7,
             "#b8e186"
            ],
            [
             0.8,
             "#7fbc41"
            ],
            [
             0.9,
             "#4d9221"
            ],
            [
             1,
             "#276419"
            ]
           ],
           "sequential": [
            [
             0,
             "#0d0887"
            ],
            [
             0.1111111111111111,
             "#46039f"
            ],
            [
             0.2222222222222222,
             "#7201a8"
            ],
            [
             0.3333333333333333,
             "#9c179e"
            ],
            [
             0.4444444444444444,
             "#bd3786"
            ],
            [
             0.5555555555555556,
             "#d8576b"
            ],
            [
             0.6666666666666666,
             "#ed7953"
            ],
            [
             0.7777777777777778,
             "#fb9f3a"
            ],
            [
             0.8888888888888888,
             "#fdca26"
            ],
            [
             1,
             "#f0f921"
            ]
           ],
           "sequentialminus": [
            [
             0,
             "#0d0887"
            ],
            [
             0.1111111111111111,
             "#46039f"
            ],
            [
             0.2222222222222222,
             "#7201a8"
            ],
            [
             0.3333333333333333,
             "#9c179e"
            ],
            [
             0.4444444444444444,
             "#bd3786"
            ],
            [
             0.5555555555555556,
             "#d8576b"
            ],
            [
             0.6666666666666666,
             "#ed7953"
            ],
            [
             0.7777777777777778,
             "#fb9f3a"
            ],
            [
             0.8888888888888888,
             "#fdca26"
            ],
            [
             1,
             "#f0f921"
            ]
           ]
          },
          "colorway": [
           "#636efa",
           "#EF553B",
           "#00cc96",
           "#ab63fa",
           "#FFA15A",
           "#19d3f3",
           "#FF6692",
           "#B6E880",
           "#FF97FF",
           "#FECB52"
          ],
          "font": {
           "color": "#2a3f5f"
          },
          "geo": {
           "bgcolor": "white",
           "lakecolor": "white",
           "landcolor": "#E5ECF6",
           "showlakes": true,
           "showland": true,
           "subunitcolor": "white"
          },
          "hoverlabel": {
           "align": "left"
          },
          "hovermode": "closest",
          "mapbox": {
           "style": "light"
          },
          "paper_bgcolor": "white",
          "plot_bgcolor": "#E5ECF6",
          "polar": {
           "angularaxis": {
            "gridcolor": "white",
            "linecolor": "white",
            "ticks": ""
           },
           "bgcolor": "#E5ECF6",
           "radialaxis": {
            "gridcolor": "white",
            "linecolor": "white",
            "ticks": ""
           }
          },
          "scene": {
           "xaxis": {
            "backgroundcolor": "#E5ECF6",
            "gridcolor": "white",
            "gridwidth": 2,
            "linecolor": "white",
            "showbackground": true,
            "ticks": "",
            "zerolinecolor": "white"
           },
           "yaxis": {
            "backgroundcolor": "#E5ECF6",
            "gridcolor": "white",
            "gridwidth": 2,
            "linecolor": "white",
            "showbackground": true,
            "ticks": "",
            "zerolinecolor": "white"
           },
           "zaxis": {
            "backgroundcolor": "#E5ECF6",
            "gridcolor": "white",
            "gridwidth": 2,
            "linecolor": "white",
            "showbackground": true,
            "ticks": "",
            "zerolinecolor": "white"
           }
          },
          "shapedefaults": {
           "line": {
            "color": "#2a3f5f"
           }
          },
          "ternary": {
           "aaxis": {
            "gridcolor": "white",
            "linecolor": "white",
            "ticks": ""
           },
           "baxis": {
            "gridcolor": "white",
            "linecolor": "white",
            "ticks": ""
           },
           "bgcolor": "#E5ECF6",
           "caxis": {
            "gridcolor": "white",
            "linecolor": "white",
            "ticks": ""
           }
          },
          "title": {
           "x": 0.05
          },
          "xaxis": {
           "automargin": true,
           "gridcolor": "white",
           "linecolor": "white",
           "ticks": "",
           "title": {
            "standoff": 15
           },
           "zerolinecolor": "white",
           "zerolinewidth": 2
          },
          "yaxis": {
           "automargin": true,
           "gridcolor": "white",
           "linecolor": "white",
           "ticks": "",
           "title": {
            "standoff": 15
           },
           "zerolinecolor": "white",
           "zerolinewidth": 2
          }
         }
        },
        "title": {
         "text": "Treemap Chart of Comparing Inflation Adjusted Resale Prices by Flat Type and Flat Model",
         "x": 0.03
        },
        "width": 1000
       }
      }
     },
     "metadata": {},
     "output_type": "display_data"
    }
   ],
   "source": [
    "fig = px.treemap(df, path=['flat_type', 'flat_model'], values='infl_adj_price')\n",
    "\n",
    "# Set plot size and add title\n",
    "fig.update_layout(\n",
    "    autosize=False,\n",
    "    title=dict(text='Treemap Chart of Comparing Inflation Adjusted Resale Prices by Flat Type and Flat Model', x=0.03),\n",
    "    width=1000,\n",
    "    height=500,\n",
    "    margin=dict(l=20, r=20, t=50, b=20),\n",
    ")\n",
    "\n",
    "fig.show()"
   ]
  }
 ],
 "metadata": {
  "kernelspec": {
   "display_name": "vanilla",
   "language": "python",
   "name": "python3"
  },
  "language_info": {
   "codemirror_mode": {
    "name": "ipython",
    "version": 3
   },
   "file_extension": ".py",
   "mimetype": "text/x-python",
   "name": "python",
   "nbconvert_exporter": "python",
   "pygments_lexer": "ipython3",
   "version": "3.12.2"
  }
 },
 "nbformat": 4,
 "nbformat_minor": 5
}
