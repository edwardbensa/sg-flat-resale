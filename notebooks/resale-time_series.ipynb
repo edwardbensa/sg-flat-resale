{
 "cells": [
  {
   "cell_type": "markdown",
   "id": "e7fba87a",
   "metadata": {},
   "source": [
    "# Singapore Flat Resale Prices 1990-Present: Time Series Analysis"
   ]
  },
  {
   "cell_type": "markdown",
   "id": "d0486778",
   "metadata": {},
   "source": [
    "- Month - Month of sale\n",
    "- Type - Designated residential area with its own amenities, infrastructure, and community facilities\n",
    "- Flat Type - Classification of units by room size. They range from 2 to 5 rooms, 3Gen units, and Executive units.\n",
    "- Block - A HDB building comprising multiple flats or apartments\n",
    "- Street Name - Name of the road the HDB flat is located along\n",
    "- Storey Range - Estimated range of floors the unit sold was located on\n",
    "- Floor Area - Total interior space within the unit, measured in square meters\n",
    "- Flat Model - Classification of units by generation of which the flat was made, ranging from New Generation, DBSS, Improved, Apartment\n",
    "- Lease Commence Date - Starting point of a lease agreement, marking the beginning of the lease term during which the tenant has the right to use and occupy the leased property\n",
    "- Resale Price - Cost of the flat sold"
   ]
  },
  {
   "cell_type": "code",
   "execution_count": 15,
   "id": "7fe0e309",
   "metadata": {},
   "outputs": [],
   "source": [
    "from src.config import PROCESSED_DATA_DIR\n",
    "from src.dataset import filename\n",
    "import numpy as np\n",
    "import pandas as pd"
   ]
  },
  {
   "cell_type": "code",
   "execution_count": 2,
   "id": "22fe55c1",
   "metadata": {},
   "outputs": [
    {
     "data": {
      "application/vnd.microsoft.datawrangler.viewer.v0+json": {
       "columns": [
        {
         "name": "index",
         "rawType": "int64",
         "type": "integer"
        },
        {
         "name": "date",
         "rawType": "object",
         "type": "string"
        },
        {
         "name": "month",
         "rawType": "int64",
         "type": "integer"
        },
        {
         "name": "year",
         "rawType": "int64",
         "type": "integer"
        },
        {
         "name": "town",
         "rawType": "object",
         "type": "string"
        },
        {
         "name": "flat_type",
         "rawType": "object",
         "type": "string"
        },
        {
         "name": "block",
         "rawType": "object",
         "type": "string"
        },
        {
         "name": "street_name",
         "rawType": "object",
         "type": "string"
        },
        {
         "name": "storey_range",
         "rawType": "object",
         "type": "string"
        },
        {
         "name": "floor_area_sqm",
         "rawType": "float64",
         "type": "float"
        },
        {
         "name": "flat_model",
         "rawType": "object",
         "type": "string"
        },
        {
         "name": "lease_year",
         "rawType": "int64",
         "type": "integer"
        },
        {
         "name": "years_leased",
         "rawType": "int64",
         "type": "integer"
        },
        {
         "name": "resale_price",
         "rawType": "float64",
         "type": "float"
        },
        {
         "name": "infl_adj_price",
         "rawType": "float64",
         "type": "float"
        }
       ],
       "ref": "e1096b22-2b06-49cc-b5b2-a6f0034867ef",
       "rows": [
        [
         "0",
         "1990-01-01",
         "1",
         "1990",
         "ANG MO KIO",
         "1 ROOM",
         "309",
         "ANG MO KIO AVE 1",
         "10 TO 12",
         "31.0",
         "Improved",
         "1977",
         "13",
         "9000.0",
         "14748.5"
        ],
        [
         "1",
         "1990-01-01",
         "1",
         "1990",
         "ANG MO KIO",
         "1 ROOM",
         "309",
         "ANG MO KIO AVE 1",
         "04 TO 06",
         "31.0",
         "Improved",
         "1977",
         "13",
         "6000.0",
         "9832.3"
        ],
        [
         "2",
         "1990-01-01",
         "1",
         "1990",
         "ANG MO KIO",
         "1 ROOM",
         "309",
         "ANG MO KIO AVE 1",
         "10 TO 12",
         "31.0",
         "Improved",
         "1977",
         "13",
         "8000.0",
         "13109.8"
        ],
        [
         "3",
         "1990-01-01",
         "1",
         "1990",
         "ANG MO KIO",
         "1 ROOM",
         "309",
         "ANG MO KIO AVE 1",
         "07 TO 09",
         "31.0",
         "Improved",
         "1977",
         "13",
         "6000.0",
         "9832.3"
        ],
        [
         "4",
         "1990-01-01",
         "1",
         "1990",
         "ANG MO KIO",
         "3 ROOM",
         "216",
         "ANG MO KIO AVE 1",
         "04 TO 06",
         "73.0",
         "New Generation",
         "1976",
         "14",
         "47200.0",
         "77347.7"
        ]
       ],
       "shape": {
        "columns": 14,
        "rows": 5
       }
      },
      "text/html": [
       "<div>\n",
       "<style scoped>\n",
       "    .dataframe tbody tr th:only-of-type {\n",
       "        vertical-align: middle;\n",
       "    }\n",
       "\n",
       "    .dataframe tbody tr th {\n",
       "        vertical-align: top;\n",
       "    }\n",
       "\n",
       "    .dataframe thead th {\n",
       "        text-align: right;\n",
       "    }\n",
       "</style>\n",
       "<table border=\"1\" class=\"dataframe\">\n",
       "  <thead>\n",
       "    <tr style=\"text-align: right;\">\n",
       "      <th></th>\n",
       "      <th>date</th>\n",
       "      <th>month</th>\n",
       "      <th>year</th>\n",
       "      <th>town</th>\n",
       "      <th>flat_type</th>\n",
       "      <th>block</th>\n",
       "      <th>street_name</th>\n",
       "      <th>storey_range</th>\n",
       "      <th>floor_area_sqm</th>\n",
       "      <th>flat_model</th>\n",
       "      <th>lease_year</th>\n",
       "      <th>years_leased</th>\n",
       "      <th>resale_price</th>\n",
       "      <th>infl_adj_price</th>\n",
       "    </tr>\n",
       "  </thead>\n",
       "  <tbody>\n",
       "    <tr>\n",
       "      <th>0</th>\n",
       "      <td>1990-01-01</td>\n",
       "      <td>1</td>\n",
       "      <td>1990</td>\n",
       "      <td>ANG MO KIO</td>\n",
       "      <td>1 ROOM</td>\n",
       "      <td>309</td>\n",
       "      <td>ANG MO KIO AVE 1</td>\n",
       "      <td>10 TO 12</td>\n",
       "      <td>31.0</td>\n",
       "      <td>Improved</td>\n",
       "      <td>1977</td>\n",
       "      <td>13</td>\n",
       "      <td>9000.0</td>\n",
       "      <td>14748.5</td>\n",
       "    </tr>\n",
       "    <tr>\n",
       "      <th>1</th>\n",
       "      <td>1990-01-01</td>\n",
       "      <td>1</td>\n",
       "      <td>1990</td>\n",
       "      <td>ANG MO KIO</td>\n",
       "      <td>1 ROOM</td>\n",
       "      <td>309</td>\n",
       "      <td>ANG MO KIO AVE 1</td>\n",
       "      <td>04 TO 06</td>\n",
       "      <td>31.0</td>\n",
       "      <td>Improved</td>\n",
       "      <td>1977</td>\n",
       "      <td>13</td>\n",
       "      <td>6000.0</td>\n",
       "      <td>9832.3</td>\n",
       "    </tr>\n",
       "    <tr>\n",
       "      <th>2</th>\n",
       "      <td>1990-01-01</td>\n",
       "      <td>1</td>\n",
       "      <td>1990</td>\n",
       "      <td>ANG MO KIO</td>\n",
       "      <td>1 ROOM</td>\n",
       "      <td>309</td>\n",
       "      <td>ANG MO KIO AVE 1</td>\n",
       "      <td>10 TO 12</td>\n",
       "      <td>31.0</td>\n",
       "      <td>Improved</td>\n",
       "      <td>1977</td>\n",
       "      <td>13</td>\n",
       "      <td>8000.0</td>\n",
       "      <td>13109.8</td>\n",
       "    </tr>\n",
       "    <tr>\n",
       "      <th>3</th>\n",
       "      <td>1990-01-01</td>\n",
       "      <td>1</td>\n",
       "      <td>1990</td>\n",
       "      <td>ANG MO KIO</td>\n",
       "      <td>1 ROOM</td>\n",
       "      <td>309</td>\n",
       "      <td>ANG MO KIO AVE 1</td>\n",
       "      <td>07 TO 09</td>\n",
       "      <td>31.0</td>\n",
       "      <td>Improved</td>\n",
       "      <td>1977</td>\n",
       "      <td>13</td>\n",
       "      <td>6000.0</td>\n",
       "      <td>9832.3</td>\n",
       "    </tr>\n",
       "    <tr>\n",
       "      <th>4</th>\n",
       "      <td>1990-01-01</td>\n",
       "      <td>1</td>\n",
       "      <td>1990</td>\n",
       "      <td>ANG MO KIO</td>\n",
       "      <td>3 ROOM</td>\n",
       "      <td>216</td>\n",
       "      <td>ANG MO KIO AVE 1</td>\n",
       "      <td>04 TO 06</td>\n",
       "      <td>73.0</td>\n",
       "      <td>New Generation</td>\n",
       "      <td>1976</td>\n",
       "      <td>14</td>\n",
       "      <td>47200.0</td>\n",
       "      <td>77347.7</td>\n",
       "    </tr>\n",
       "  </tbody>\n",
       "</table>\n",
       "</div>"
      ],
      "text/plain": [
       "         date  month  year        town flat_type block       street_name  \\\n",
       "0  1990-01-01      1  1990  ANG MO KIO    1 ROOM   309  ANG MO KIO AVE 1   \n",
       "1  1990-01-01      1  1990  ANG MO KIO    1 ROOM   309  ANG MO KIO AVE 1   \n",
       "2  1990-01-01      1  1990  ANG MO KIO    1 ROOM   309  ANG MO KIO AVE 1   \n",
       "3  1990-01-01      1  1990  ANG MO KIO    1 ROOM   309  ANG MO KIO AVE 1   \n",
       "4  1990-01-01      1  1990  ANG MO KIO    3 ROOM   216  ANG MO KIO AVE 1   \n",
       "\n",
       "  storey_range  floor_area_sqm      flat_model  lease_year  years_leased  \\\n",
       "0     10 TO 12            31.0        Improved        1977            13   \n",
       "1     04 TO 06            31.0        Improved        1977            13   \n",
       "2     10 TO 12            31.0        Improved        1977            13   \n",
       "3     07 TO 09            31.0        Improved        1977            13   \n",
       "4     04 TO 06            73.0  New Generation        1976            14   \n",
       "\n",
       "   resale_price  infl_adj_price  \n",
       "0        9000.0         14748.5  \n",
       "1        6000.0          9832.3  \n",
       "2        8000.0         13109.8  \n",
       "3        6000.0          9832.3  \n",
       "4       47200.0         77347.7  "
      ]
     },
     "execution_count": 2,
     "metadata": {},
     "output_type": "execute_result"
    }
   ],
   "source": [
    "df = pd.read_csv(PROCESSED_DATA_DIR / filename)\n",
    "df.head()"
   ]
  },
  {
   "cell_type": "markdown",
   "id": "63fda947",
   "metadata": {},
   "source": [
    "## Average Prices"
   ]
  },
  {
   "cell_type": "code",
   "execution_count": 3,
   "id": "1e04a8cc",
   "metadata": {},
   "outputs": [],
   "source": [
    "import matplotlib.pyplot as plt\n",
    "from sklearn.linear_model import LinearRegression"
   ]
  },
  {
   "cell_type": "code",
   "execution_count": 4,
   "id": "c7f84b74",
   "metadata": {},
   "outputs": [
    {
     "data": {
      "application/vnd.microsoft.datawrangler.viewer.v0+json": {
       "columns": [
        {
         "name": "index",
         "rawType": "int64",
         "type": "integer"
        },
        {
         "name": "date",
         "rawType": "object",
         "type": "string"
        },
        {
         "name": "infl_adj_price",
         "rawType": "float64",
         "type": "float"
        }
       ],
       "ref": "75b1b2ce-0e7c-40c7-b56e-2989fdce23a4",
       "rows": [
        [
         "0",
         "1990-01-01",
         "106867.79522229596"
        ],
        [
         "1",
         "1990-02-01",
         "111221.76552094522"
        ],
        [
         "2",
         "1990-03-01",
         "109144.49130434783"
        ],
        [
         "3",
         "1990-04-01",
         "108041.17239732569"
        ],
        [
         "4",
         "1990-05-01",
         "111166.17403598972"
        ],
        [
         "5",
         "1990-06-01",
         "109449.50606796116"
        ],
        [
         "6",
         "1990-07-01",
         "113030.66120996441"
        ],
        [
         "7",
         "1990-08-01",
         "112426.7206864564"
        ],
        [
         "8",
         "1990-09-01",
         "114631.0247398844"
        ],
        [
         "9",
         "1990-10-01",
         "118595.13864197531"
        ],
        [
         "10",
         "1990-11-01",
         "113385.53724770642"
        ],
        [
         "11",
         "1990-12-01",
         "114232.79372549019"
        ],
        [
         "12",
         "1991-01-01",
         "116910.82250598563"
        ],
        [
         "13",
         "1991-02-01",
         "111400.73737745099"
        ],
        [
         "14",
         "1991-03-01",
         "115920.65444964872"
        ],
        [
         "15",
         "1991-04-01",
         "108346.40467391304"
        ],
        [
         "16",
         "1991-05-01",
         "121797.62306878307"
        ],
        [
         "17",
         "1991-06-01",
         "120656.44210526315"
        ],
        [
         "18",
         "1991-07-01",
         "122151.41371291099"
        ],
        [
         "19",
         "1991-08-01",
         "120179.29484092863"
        ],
        [
         "20",
         "1991-09-01",
         "123721.50928689883"
        ],
        [
         "21",
         "1991-10-01",
         "124415.07954353339"
        ],
        [
         "22",
         "1991-11-01",
         "116651.04356005788"
        ],
        [
         "23",
         "1991-12-01",
         "110228.83104761904"
        ],
        [
         "24",
         "1992-01-01",
         "115969.24176372711"
        ],
        [
         "25",
         "1992-02-01",
         "119707.4818658281"
        ],
        [
         "26",
         "1992-03-01",
         "128061.42973944296"
        ],
        [
         "27",
         "1992-04-01",
         "128482.26035613872"
        ],
        [
         "28",
         "1992-05-01",
         "133957.24657894735"
        ],
        [
         "29",
         "1992-06-01",
         "128774.74589235127"
        ],
        [
         "30",
         "1992-07-01",
         "135410.97805255023"
        ],
        [
         "31",
         "1992-08-01",
         "141214.09202551836"
        ],
        [
         "32",
         "1992-09-01",
         "134702.69362464183"
        ],
        [
         "33",
         "1992-10-01",
         "139868.00413895046"
        ],
        [
         "34",
         "1992-11-01",
         "137537.9471656977"
        ],
        [
         "35",
         "1992-12-01",
         "138857.28146718146"
        ],
        [
         "36",
         "1993-01-01",
         "138375.8285464098"
        ],
        [
         "37",
         "1993-02-01",
         "137162.51669595783"
        ],
        [
         "38",
         "1993-03-01",
         "143815.16720575021"
        ],
        [
         "39",
         "1993-04-01",
         "147188.85033175355"
        ],
        [
         "40",
         "1993-05-01",
         "182772.12915578764"
        ],
        [
         "41",
         "1993-06-01",
         "197370.23515944398"
        ],
        [
         "42",
         "1993-07-01",
         "211070.43095737245"
        ],
        [
         "43",
         "1993-08-01",
         "219923.6488575269"
        ],
        [
         "44",
         "1993-09-01",
         "231492.29431034485"
        ],
        [
         "45",
         "1993-10-01",
         "239312.97866154692"
        ],
        [
         "46",
         "1993-11-01",
         "242190.84057798889"
        ],
        [
         "47",
         "1993-12-01",
         "245436.65922202796"
        ],
        [
         "48",
         "1994-01-01",
         "237138.56858638744"
        ],
        [
         "49",
         "1994-02-01",
         "245916.62157790927"
        ]
       ],
       "shape": {
        "columns": 2,
        "rows": 419
       }
      },
      "text/html": [
       "<div>\n",
       "<style scoped>\n",
       "    .dataframe tbody tr th:only-of-type {\n",
       "        vertical-align: middle;\n",
       "    }\n",
       "\n",
       "    .dataframe tbody tr th {\n",
       "        vertical-align: top;\n",
       "    }\n",
       "\n",
       "    .dataframe thead th {\n",
       "        text-align: right;\n",
       "    }\n",
       "</style>\n",
       "<table border=\"1\" class=\"dataframe\">\n",
       "  <thead>\n",
       "    <tr style=\"text-align: right;\">\n",
       "      <th></th>\n",
       "      <th>date</th>\n",
       "      <th>infl_adj_price</th>\n",
       "    </tr>\n",
       "  </thead>\n",
       "  <tbody>\n",
       "    <tr>\n",
       "      <th>0</th>\n",
       "      <td>1990-01-01</td>\n",
       "      <td>106867.795222</td>\n",
       "    </tr>\n",
       "    <tr>\n",
       "      <th>1</th>\n",
       "      <td>1990-02-01</td>\n",
       "      <td>111221.765521</td>\n",
       "    </tr>\n",
       "    <tr>\n",
       "      <th>2</th>\n",
       "      <td>1990-03-01</td>\n",
       "      <td>109144.491304</td>\n",
       "    </tr>\n",
       "    <tr>\n",
       "      <th>3</th>\n",
       "      <td>1990-04-01</td>\n",
       "      <td>108041.172397</td>\n",
       "    </tr>\n",
       "    <tr>\n",
       "      <th>4</th>\n",
       "      <td>1990-05-01</td>\n",
       "      <td>111166.174036</td>\n",
       "    </tr>\n",
       "    <tr>\n",
       "      <th>...</th>\n",
       "      <td>...</td>\n",
       "      <td>...</td>\n",
       "    </tr>\n",
       "    <tr>\n",
       "      <th>414</th>\n",
       "      <td>2024-07-01</td>\n",
       "      <td>616816.872167</td>\n",
       "    </tr>\n",
       "    <tr>\n",
       "      <th>415</th>\n",
       "      <td>2024-08-01</td>\n",
       "      <td>621291.916628</td>\n",
       "    </tr>\n",
       "    <tr>\n",
       "      <th>416</th>\n",
       "      <td>2024-09-01</td>\n",
       "      <td>629171.304486</td>\n",
       "    </tr>\n",
       "    <tr>\n",
       "      <th>417</th>\n",
       "      <td>2024-10-01</td>\n",
       "      <td>628665.175849</td>\n",
       "    </tr>\n",
       "    <tr>\n",
       "      <th>418</th>\n",
       "      <td>2024-11-01</td>\n",
       "      <td>634516.614859</td>\n",
       "    </tr>\n",
       "  </tbody>\n",
       "</table>\n",
       "<p>419 rows × 2 columns</p>\n",
       "</div>"
      ],
      "text/plain": [
       "           date  infl_adj_price\n",
       "0    1990-01-01   106867.795222\n",
       "1    1990-02-01   111221.765521\n",
       "2    1990-03-01   109144.491304\n",
       "3    1990-04-01   108041.172397\n",
       "4    1990-05-01   111166.174036\n",
       "..          ...             ...\n",
       "414  2024-07-01   616816.872167\n",
       "415  2024-08-01   621291.916628\n",
       "416  2024-09-01   629171.304486\n",
       "417  2024-10-01   628665.175849\n",
       "418  2024-11-01   634516.614859\n",
       "\n",
       "[419 rows x 2 columns]"
      ]
     },
     "execution_count": 4,
     "metadata": {},
     "output_type": "execute_result"
    }
   ],
   "source": [
    "df_avg = df.groupby('date')['infl_adj_price'].mean()\n",
    "df_avg = pd.DataFrame(df_avg).reset_index()\n",
    "df_avg"
   ]
  },
  {
   "cell_type": "code",
   "execution_count": 5,
   "id": "7dd70449",
   "metadata": {},
   "outputs": [
    {
     "data": {
      "text/plain": [
       "<Axes: ylabel='Inflation Adjusted Flat Resale Prices'>"
      ]
     },
     "execution_count": 5,
     "metadata": {},
     "output_type": "execute_result"
    },
    {
     "data": {
      "image/png": "[encoded data removed]",
      "text/plain": [
       "<Figure size 1000x500 with 1 Axes>"
      ]
     },
     "metadata": {},
     "output_type": "display_data"
    }
   ],
   "source": [
    "# Setting the text on the Y-axis\n",
    "plt.ylabel(\"Inflation Adjusted Flat Resale Prices\")\n",
    "\n",
    "# Setting the size of our graph\n",
    "df_avg['infl_adj_price'].plot(figsize=(10,5))"
   ]
  },
  {
   "cell_type": "code",
   "execution_count": 6,
   "id": "ea685df2",
   "metadata": {},
   "outputs": [
    {
     "data": {
      "application/vnd.microsoft.datawrangler.viewer.v0+json": {
       "columns": [
        {
         "name": "index",
         "rawType": "int64",
         "type": "integer"
        },
        {
         "name": "date",
         "rawType": "object",
         "type": "string"
        },
        {
         "name": "infl_adj_price",
         "rawType": "float64",
         "type": "float"
        },
        {
         "name": "MA3",
         "rawType": "float64",
         "type": "float"
        },
        {
         "name": "MA9",
         "rawType": "float64",
         "type": "float"
        }
       ],
       "ref": "76160a4a-30d6-4bc3-9a24-a9dfdf4ceb35",
       "rows": [
        [
         "0",
         "1990-01-01",
         "106867.79522229596",
         null,
         null
        ],
        [
         "1",
         "1990-02-01",
         "111221.76552094522",
         null,
         null
        ],
        [
         "2",
         "1990-03-01",
         "109144.49130434783",
         null,
         null
        ],
        [
         "3",
         "1990-04-01",
         "108041.17239732569",
         "109078.01734919632",
         null
        ],
        [
         "4",
         "1990-05-01",
         "111166.17403598972",
         "109469.14307420624",
         null
        ],
        [
         "5",
         "1990-06-01",
         "109449.50606796116",
         "109450.61257922108",
         null
        ],
        [
         "6",
         "1990-07-01",
         "113030.66120996441",
         "109552.28416709219",
         null
        ],
        [
         "7",
         "1990-08-01",
         "112426.7206864564",
         "111215.44710463844",
         null
        ],
        [
         "8",
         "1990-09-01",
         "114631.0247398844",
         "111635.62932146066",
         null
        ],
        [
         "9",
         "1990-10-01",
         "118595.13864197531",
         "113362.80221210174",
         "110664.36790946341"
        ],
        [
         "10",
         "1990-11-01",
         "113385.53724770642",
         "115217.62802277203",
         "111967.40606720558"
        ],
        [
         "11",
         "1990-12-01",
         "114232.79372549019",
         "115537.2335431887",
         "112207.82514795681"
        ],
        [
         "12",
         "1991-01-01",
         "116910.82250598563",
         "115404.48987172398",
         "112773.1920836393"
        ],
        [
         "13",
         "1991-02-01",
         "111400.73737745099",
         "114843.05115972743",
         "113758.70876237929"
        ],
        [
         "14",
         "1991-03-01",
         "115920.65444964872",
         "114181.4512029756",
         "113784.771355875"
        ],
        [
         "15",
         "1991-04-01",
         "108346.40467391304",
         "114744.07144436178",
         "114503.78784272916"
        ],
        [
         "16",
         "1991-05-01",
         "121797.62306878307",
         "111889.26550033758",
         "113983.314894279"
        ],
        [
         "17",
         "1991-06-01",
         "120656.44210526315",
         "115354.89406411495",
         "115024.52627009309"
        ],
        [
         "18",
         "1991-07-01",
         "122151.41371291099",
         "116933.48994931974",
         "115694.0170884685"
        ],
        [
         "19",
         "1991-08-01",
         "120179.29484092863",
         "121535.15962898574",
         "116089.15876301691"
        ]
       ],
       "shape": {
        "columns": 4,
        "rows": 20
       }
      },
      "text/html": [
       "<div>\n",
       "<style scoped>\n",
       "    .dataframe tbody tr th:only-of-type {\n",
       "        vertical-align: middle;\n",
       "    }\n",
       "\n",
       "    .dataframe tbody tr th {\n",
       "        vertical-align: top;\n",
       "    }\n",
       "\n",
       "    .dataframe thead th {\n",
       "        text-align: right;\n",
       "    }\n",
       "</style>\n",
       "<table border=\"1\" class=\"dataframe\">\n",
       "  <thead>\n",
       "    <tr style=\"text-align: right;\">\n",
       "      <th></th>\n",
       "      <th>date</th>\n",
       "      <th>infl_adj_price</th>\n",
       "      <th>MA3</th>\n",
       "      <th>MA9</th>\n",
       "    </tr>\n",
       "  </thead>\n",
       "  <tbody>\n",
       "    <tr>\n",
       "      <th>0</th>\n",
       "      <td>1990-01-01</td>\n",
       "      <td>106867.795222</td>\n",
       "      <td>NaN</td>\n",
       "      <td>NaN</td>\n",
       "    </tr>\n",
       "    <tr>\n",
       "      <th>1</th>\n",
       "      <td>1990-02-01</td>\n",
       "      <td>111221.765521</td>\n",
       "      <td>NaN</td>\n",
       "      <td>NaN</td>\n",
       "    </tr>\n",
       "    <tr>\n",
       "      <th>2</th>\n",
       "      <td>1990-03-01</td>\n",
       "      <td>109144.491304</td>\n",
       "      <td>NaN</td>\n",
       "      <td>NaN</td>\n",
       "    </tr>\n",
       "    <tr>\n",
       "      <th>3</th>\n",
       "      <td>1990-04-01</td>\n",
       "      <td>108041.172397</td>\n",
       "      <td>109078.017349</td>\n",
       "      <td>NaN</td>\n",
       "    </tr>\n",
       "    <tr>\n",
       "      <th>4</th>\n",
       "      <td>1990-05-01</td>\n",
       "      <td>111166.174036</td>\n",
       "      <td>109469.143074</td>\n",
       "      <td>NaN</td>\n",
       "    </tr>\n",
       "    <tr>\n",
       "      <th>5</th>\n",
       "      <td>1990-06-01</td>\n",
       "      <td>109449.506068</td>\n",
       "      <td>109450.612579</td>\n",
       "      <td>NaN</td>\n",
       "    </tr>\n",
       "    <tr>\n",
       "      <th>6</th>\n",
       "      <td>1990-07-01</td>\n",
       "      <td>113030.661210</td>\n",
       "      <td>109552.284167</td>\n",
       "      <td>NaN</td>\n",
       "    </tr>\n",
       "    <tr>\n",
       "      <th>7</th>\n",
       "      <td>1990-08-01</td>\n",
       "      <td>112426.720686</td>\n",
       "      <td>111215.447105</td>\n",
       "      <td>NaN</td>\n",
       "    </tr>\n",
       "    <tr>\n",
       "      <th>8</th>\n",
       "      <td>1990-09-01</td>\n",
       "      <td>114631.024740</td>\n",
       "      <td>111635.629321</td>\n",
       "      <td>NaN</td>\n",
       "    </tr>\n",
       "    <tr>\n",
       "      <th>9</th>\n",
       "      <td>1990-10-01</td>\n",
       "      <td>118595.138642</td>\n",
       "      <td>113362.802212</td>\n",
       "      <td>110664.367909</td>\n",
       "    </tr>\n",
       "    <tr>\n",
       "      <th>10</th>\n",
       "      <td>1990-11-01</td>\n",
       "      <td>113385.537248</td>\n",
       "      <td>115217.628023</td>\n",
       "      <td>111967.406067</td>\n",
       "    </tr>\n",
       "    <tr>\n",
       "      <th>11</th>\n",
       "      <td>1990-12-01</td>\n",
       "      <td>114232.793725</td>\n",
       "      <td>115537.233543</td>\n",
       "      <td>112207.825148</td>\n",
       "    </tr>\n",
       "    <tr>\n",
       "      <th>12</th>\n",
       "      <td>1991-01-01</td>\n",
       "      <td>116910.822506</td>\n",
       "      <td>115404.489872</td>\n",
       "      <td>112773.192084</td>\n",
       "    </tr>\n",
       "    <tr>\n",
       "      <th>13</th>\n",
       "      <td>1991-02-01</td>\n",
       "      <td>111400.737377</td>\n",
       "      <td>114843.051160</td>\n",
       "      <td>113758.708762</td>\n",
       "    </tr>\n",
       "    <tr>\n",
       "      <th>14</th>\n",
       "      <td>1991-03-01</td>\n",
       "      <td>115920.654450</td>\n",
       "      <td>114181.451203</td>\n",
       "      <td>113784.771356</td>\n",
       "    </tr>\n",
       "    <tr>\n",
       "      <th>15</th>\n",
       "      <td>1991-04-01</td>\n",
       "      <td>108346.404674</td>\n",
       "      <td>114744.071444</td>\n",
       "      <td>114503.787843</td>\n",
       "    </tr>\n",
       "    <tr>\n",
       "      <th>16</th>\n",
       "      <td>1991-05-01</td>\n",
       "      <td>121797.623069</td>\n",
       "      <td>111889.265500</td>\n",
       "      <td>113983.314894</td>\n",
       "    </tr>\n",
       "    <tr>\n",
       "      <th>17</th>\n",
       "      <td>1991-06-01</td>\n",
       "      <td>120656.442105</td>\n",
       "      <td>115354.894064</td>\n",
       "      <td>115024.526270</td>\n",
       "    </tr>\n",
       "    <tr>\n",
       "      <th>18</th>\n",
       "      <td>1991-07-01</td>\n",
       "      <td>122151.413713</td>\n",
       "      <td>116933.489949</td>\n",
       "      <td>115694.017088</td>\n",
       "    </tr>\n",
       "    <tr>\n",
       "      <th>19</th>\n",
       "      <td>1991-08-01</td>\n",
       "      <td>120179.294841</td>\n",
       "      <td>121535.159629</td>\n",
       "      <td>116089.158763</td>\n",
       "    </tr>\n",
       "  </tbody>\n",
       "</table>\n",
       "</div>"
      ],
      "text/plain": [
       "          date  infl_adj_price            MA3            MA9\n",
       "0   1990-01-01   106867.795222            NaN            NaN\n",
       "1   1990-02-01   111221.765521            NaN            NaN\n",
       "2   1990-03-01   109144.491304            NaN            NaN\n",
       "3   1990-04-01   108041.172397  109078.017349            NaN\n",
       "4   1990-05-01   111166.174036  109469.143074            NaN\n",
       "5   1990-06-01   109449.506068  109450.612579            NaN\n",
       "6   1990-07-01   113030.661210  109552.284167            NaN\n",
       "7   1990-08-01   112426.720686  111215.447105            NaN\n",
       "8   1990-09-01   114631.024740  111635.629321            NaN\n",
       "9   1990-10-01   118595.138642  113362.802212  110664.367909\n",
       "10  1990-11-01   113385.537248  115217.628023  111967.406067\n",
       "11  1990-12-01   114232.793725  115537.233543  112207.825148\n",
       "12  1991-01-01   116910.822506  115404.489872  112773.192084\n",
       "13  1991-02-01   111400.737377  114843.051160  113758.708762\n",
       "14  1991-03-01   115920.654450  114181.451203  113784.771356\n",
       "15  1991-04-01   108346.404674  114744.071444  114503.787843\n",
       "16  1991-05-01   121797.623069  111889.265500  113983.314894\n",
       "17  1991-06-01   120656.442105  115354.894064  115024.526270\n",
       "18  1991-07-01   122151.413713  116933.489949  115694.017088\n",
       "19  1991-08-01   120179.294841  121535.159629  116089.158763"
      ]
     },
     "execution_count": 6,
     "metadata": {},
     "output_type": "execute_result"
    }
   ],
   "source": [
    "df_avg['MA3'] = df_avg['infl_adj_price'].shift(1).rolling(window=3).mean()\n",
    "df_avg['MA9']= df_avg['infl_adj_price'].shift(1).rolling(window=9).mean()\n",
    "df_avg.head(20)"
   ]
  },
  {
   "cell_type": "code",
   "execution_count": 7,
   "id": "8b5f5fea",
   "metadata": {},
   "outputs": [
    {
     "data": {
      "application/vnd.microsoft.datawrangler.viewer.v0+json": {
       "columns": [
        {
         "name": "index",
         "rawType": "int64",
         "type": "integer"
        },
        {
         "name": "MA3",
         "rawType": "float64",
         "type": "float"
        },
        {
         "name": "MA9",
         "rawType": "float64",
         "type": "float"
        }
       ],
       "ref": "2a7f1153-890a-4072-bdfa-49ec021f6cb6",
       "rows": [
        [
         "9",
         "113362.80221210174",
         "110664.36790946341"
        ],
        [
         "10",
         "115217.62802277203",
         "111967.40606720558"
        ],
        [
         "11",
         "115537.2335431887",
         "112207.82514795681"
        ],
        [
         "12",
         "115404.48987172398",
         "112773.1920836393"
        ],
        [
         "13",
         "114843.05115972743",
         "113758.70876237929"
        ]
       ],
       "shape": {
        "columns": 2,
        "rows": 5
       }
      },
      "text/html": [
       "<div>\n",
       "<style scoped>\n",
       "    .dataframe tbody tr th:only-of-type {\n",
       "        vertical-align: middle;\n",
       "    }\n",
       "\n",
       "    .dataframe tbody tr th {\n",
       "        vertical-align: top;\n",
       "    }\n",
       "\n",
       "    .dataframe thead th {\n",
       "        text-align: right;\n",
       "    }\n",
       "</style>\n",
       "<table border=\"1\" class=\"dataframe\">\n",
       "  <thead>\n",
       "    <tr style=\"text-align: right;\">\n",
       "      <th></th>\n",
       "      <th>MA3</th>\n",
       "      <th>MA9</th>\n",
       "    </tr>\n",
       "  </thead>\n",
       "  <tbody>\n",
       "    <tr>\n",
       "      <th>9</th>\n",
       "      <td>113362.802212</td>\n",
       "      <td>110664.367909</td>\n",
       "    </tr>\n",
       "    <tr>\n",
       "      <th>10</th>\n",
       "      <td>115217.628023</td>\n",
       "      <td>111967.406067</td>\n",
       "    </tr>\n",
       "    <tr>\n",
       "      <th>11</th>\n",
       "      <td>115537.233543</td>\n",
       "      <td>112207.825148</td>\n",
       "    </tr>\n",
       "    <tr>\n",
       "      <th>12</th>\n",
       "      <td>115404.489872</td>\n",
       "      <td>112773.192084</td>\n",
       "    </tr>\n",
       "    <tr>\n",
       "      <th>13</th>\n",
       "      <td>114843.051160</td>\n",
       "      <td>113758.708762</td>\n",
       "    </tr>\n",
       "  </tbody>\n",
       "</table>\n",
       "</div>"
      ],
      "text/plain": [
       "              MA3            MA9\n",
       "9   113362.802212  110664.367909\n",
       "10  115217.628023  111967.406067\n",
       "11  115537.233543  112207.825148\n",
       "12  115404.489872  112773.192084\n",
       "13  114843.051160  113758.708762"
      ]
     },
     "execution_count": 7,
     "metadata": {},
     "output_type": "execute_result"
    }
   ],
   "source": [
    "# Dropping the NaN values\n",
    "df_avg = df_avg.dropna()\n",
    "\n",
    "# Initialising X and assigning the two feature variables\n",
    "X = df_avg[['MA3','MA9']]\n",
    "\n",
    "# Getting the head of the data\n",
    "X.head()"
   ]
  },
  {
   "cell_type": "code",
   "execution_count": 8,
   "id": "356067e8",
   "metadata": {},
   "outputs": [
    {
     "data": {
      "application/vnd.microsoft.datawrangler.viewer.v0+json": {
       "columns": [
        {
         "name": "index",
         "rawType": "int64",
         "type": "integer"
        },
        {
         "name": "infl_adj_price",
         "rawType": "float64",
         "type": "float"
        }
       ],
       "ref": "632dbd8a-5044-4e67-9058-6a048f8db616",
       "rows": [
        [
         "9",
         "118595.13864197531"
        ],
        [
         "10",
         "113385.53724770642"
        ],
        [
         "11",
         "114232.79372549019"
        ],
        [
         "12",
         "116910.82250598563"
        ],
        [
         "13",
         "111400.73737745099"
        ]
       ],
       "shape": {
        "columns": 1,
        "rows": 5
       }
      },
      "text/plain": [
       "9     118595.138642\n",
       "10    113385.537248\n",
       "11    114232.793725\n",
       "12    116910.822506\n",
       "13    111400.737377\n",
       "Name: infl_adj_price, dtype: float64"
      ]
     },
     "execution_count": 8,
     "metadata": {},
     "output_type": "execute_result"
    }
   ],
   "source": [
    "# Setting-up the dependent variable\n",
    "y = df_avg['infl_adj_price']\n",
    "\n",
    "# Getting the head of the data\n",
    "y.head()"
   ]
  },
  {
   "cell_type": "code",
   "execution_count": 9,
   "id": "d8e3e10b",
   "metadata": {},
   "outputs": [],
   "source": [
    "# Setting the training set to 80% of the data\n",
    "training = 0.7\n",
    "t = int(training*len(df_avg))\n",
    "\n",
    "# Training dataset\n",
    "X_train = X[:t]\n",
    "y_train = y[:t]\n",
    "\n",
    "# Testing dataset\n",
    "X_test = X[t:]\n",
    "y_test = y[t:]"
   ]
  },
  {
   "cell_type": "code",
   "execution_count": 10,
   "id": "befa7cb3",
   "metadata": {},
   "outputs": [
    {
     "data": {
      "application/vnd.microsoft.datawrangler.viewer.v0+json": {
       "columns": [
        {
         "name": "index",
         "rawType": "int64",
         "type": "integer"
        },
        {
         "name": "MA3",
         "rawType": "float64",
         "type": "float"
        },
        {
         "name": "MA9",
         "rawType": "float64",
         "type": "float"
        }
       ],
       "ref": "248cc532-d5a3-4937-97dd-b054726e8d2f",
       "rows": [
        [
         "9",
         "113362.80221210174",
         "110664.36790946341"
        ],
        [
         "10",
         "115217.62802277203",
         "111967.40606720558"
        ],
        [
         "11",
         "115537.2335431887",
         "112207.82514795681"
        ],
        [
         "12",
         "115404.48987172398",
         "112773.1920836393"
        ],
        [
         "13",
         "114843.05115972743",
         "113758.70876237929"
        ],
        [
         "14",
         "114181.4512029756",
         "113784.771355875"
        ],
        [
         "15",
         "114744.07144436178",
         "114503.78784272916"
        ],
        [
         "16",
         "111889.26550033758",
         "113983.314894279"
        ],
        [
         "17",
         "115354.89406411495",
         "115024.52627009309"
        ],
        [
         "18",
         "116933.48994931974",
         "115694.0170884685"
        ],
        [
         "19",
         "121535.15962898574",
         "116089.15876301691"
        ],
        [
         "20",
         "120995.71688636759",
         "116844.02071781938"
        ],
        [
         "21",
         "122017.40594691283",
         "117898.3224468648"
        ],
        [
         "22",
         "122771.96122378694",
         "118732.12878437008"
        ],
        [
         "23",
         "121595.8774634967",
         "119315.49613799308"
        ],
        [
         "24",
         "117098.31805040342",
         "118683.07131554533"
        ],
        [
         "25",
         "114283.03879046801",
         "119530.05321441358"
        ],
        [
         "26",
         "115301.85155905808",
         "119297.81530297414"
        ],
        [
         "27",
         "121246.0511229994",
         "120120.59170677187"
        ],
        [
         "28",
         "125417.05732046993",
         "120824.01911157496"
        ],
        [
         "29",
         "130166.97889150969",
         "122354.9026380215"
        ],
        [
         "30",
         "130404.75094247912",
         "122916.37337196065"
        ],
        [
         "31",
         "132714.32350794962",
         "124138.13987296254"
        ],
        [
         "32",
         "135133.27199013994",
         "126867.3674802359"
        ],
        [
         "33",
         "137109.25456757014",
         "129586.68554434954"
        ],
        [
         "34",
         "138594.92992970356",
         "132242.10358604102"
        ],
        [
         "35",
         "137369.54830976334",
         "134223.26639713766"
        ],
        [
         "36",
         "138754.41092394321",
         "135422.8054779975"
        ],
        [
         "37",
         "138257.01905976297",
         "136522.09083247205"
        ],
        [
         "38",
         "138131.8755698497",
         "136878.23195658432"
        ],
        [
         "39",
         "139784.5041493726",
         "138549.38988029532"
        ],
        [
         "40",
         "142722.17807782054",
         "139858.04235576236"
        ],
        [
         "41",
         "157925.38223109712",
         "144475.60203690338"
        ],
        [
         "42",
         "175777.07154899507",
         "151438.66220743695"
        ],
        [
         "43",
         "197070.9317575347",
         "159350.0429650394"
        ],
        [
         "44",
         "209454.77165811442",
         "168504.00981968708"
        ],
        [
         "45",
         "220828.7913750814",
         "178796.78902448303"
        ],
        [
         "46",
         "230242.97394313957",
         "190012.02792616494"
        ],
        [
         "47",
         "237665.37118329355",
         "201681.84169083505"
        ],
        [
         "48",
         "242313.49282052123",
         "212973.1185815326"
        ],
        [
         "49",
         "241588.68946213476",
         "222967.53172093636"
        ],
        [
         "50",
         "242830.6164621082",
         "229983.5864345054"
        ],
        [
         "51",
         "245630.20206002053",
         "236257.49541854102"
        ],
        [
         "52",
         "250950.74960338968",
         "240927.471002888"
        ],
        [
         "53",
         "256473.9899873062",
         "245656.65921090264"
        ],
        [
         "54",
         "260578.55286002465",
         "249507.41591352213"
        ],
        [
         "55",
         "263966.7916200319",
         "252168.7435618521"
        ],
        [
         "56",
         "268475.378157681",
         "255926.66153569845"
        ],
        [
         "57",
         "272334.1213174297",
         "259514.29207915827"
        ],
        [
         "58",
         "279584.11899481894",
         "264833.8867394135"
        ]
       ],
       "shape": {
        "columns": 2,
        "rows": 287
       }
      },
      "text/html": [
       "<div>\n",
       "<style scoped>\n",
       "    .dataframe tbody tr th:only-of-type {\n",
       "        vertical-align: middle;\n",
       "    }\n",
       "\n",
       "    .dataframe tbody tr th {\n",
       "        vertical-align: top;\n",
       "    }\n",
       "\n",
       "    .dataframe thead th {\n",
       "        text-align: right;\n",
       "    }\n",
       "</style>\n",
       "<table border=\"1\" class=\"dataframe\">\n",
       "  <thead>\n",
       "    <tr style=\"text-align: right;\">\n",
       "      <th></th>\n",
       "      <th>MA3</th>\n",
       "      <th>MA9</th>\n",
       "    </tr>\n",
       "  </thead>\n",
       "  <tbody>\n",
       "    <tr>\n",
       "      <th>9</th>\n",
       "      <td>113362.802212</td>\n",
       "      <td>110664.367909</td>\n",
       "    </tr>\n",
       "    <tr>\n",
       "      <th>10</th>\n",
       "      <td>115217.628023</td>\n",
       "      <td>111967.406067</td>\n",
       "    </tr>\n",
       "    <tr>\n",
       "      <th>11</th>\n",
       "      <td>115537.233543</td>\n",
       "      <td>112207.825148</td>\n",
       "    </tr>\n",
       "    <tr>\n",
       "      <th>12</th>\n",
       "      <td>115404.489872</td>\n",
       "      <td>112773.192084</td>\n",
       "    </tr>\n",
       "    <tr>\n",
       "      <th>13</th>\n",
       "      <td>114843.051160</td>\n",
       "      <td>113758.708762</td>\n",
       "    </tr>\n",
       "    <tr>\n",
       "      <th>...</th>\n",
       "      <td>...</td>\n",
       "      <td>...</td>\n",
       "    </tr>\n",
       "    <tr>\n",
       "      <th>291</th>\n",
       "      <td>516028.628751</td>\n",
       "      <td>539983.163561</td>\n",
       "    </tr>\n",
       "    <tr>\n",
       "      <th>292</th>\n",
       "      <td>515384.180228</td>\n",
       "      <td>535141.024218</td>\n",
       "    </tr>\n",
       "    <tr>\n",
       "      <th>293</th>\n",
       "      <td>513487.854581</td>\n",
       "      <td>529479.932491</td>\n",
       "    </tr>\n",
       "    <tr>\n",
       "      <th>294</th>\n",
       "      <td>513165.394613</td>\n",
       "      <td>524991.831963</td>\n",
       "    </tr>\n",
       "    <tr>\n",
       "      <th>295</th>\n",
       "      <td>508712.953449</td>\n",
       "      <td>519876.804579</td>\n",
       "    </tr>\n",
       "  </tbody>\n",
       "</table>\n",
       "<p>287 rows × 2 columns</p>\n",
       "</div>"
      ],
      "text/plain": [
       "               MA3            MA9\n",
       "9    113362.802212  110664.367909\n",
       "10   115217.628023  111967.406067\n",
       "11   115537.233543  112207.825148\n",
       "12   115404.489872  112773.192084\n",
       "13   114843.051160  113758.708762\n",
       "..             ...            ...\n",
       "291  516028.628751  539983.163561\n",
       "292  515384.180228  535141.024218\n",
       "293  513487.854581  529479.932491\n",
       "294  513165.394613  524991.831963\n",
       "295  508712.953449  519876.804579\n",
       "\n",
       "[287 rows x 2 columns]"
      ]
     },
     "execution_count": 10,
     "metadata": {},
     "output_type": "execute_result"
    }
   ],
   "source": [
    "X[:t]"
   ]
  },
  {
   "cell_type": "code",
   "execution_count": 11,
   "id": "2b9d569f",
   "metadata": {},
   "outputs": [],
   "source": [
    "model = LinearRegression().fit(X_train,y_train)"
   ]
  },
  {
   "cell_type": "code",
   "execution_count": 12,
   "id": "9dd80193",
   "metadata": {},
   "outputs": [
    {
     "data": {
      "image/png": "[encoded data removed]",
      "text/plain": [
       "<Figure size 1000x500 with 1 Axes>"
      ]
     },
     "metadata": {},
     "output_type": "display_data"
    }
   ],
   "source": [
    "predicted_price = model.predict(X_test)\n",
    "predicted_price = pd.DataFrame(predicted_price,index=y_test.index,columns = ['price'])\n",
    "predicted_price.plot(figsize=(10,5))\n",
    "y_test.plot()\n",
    "plt.legend(['Predicted Price','Actual Price'])\n",
    "plt.ylabel(\"Inflation Adjusted Flat Resale Prices\")\n",
    "plt.show()"
   ]
  },
  {
   "cell_type": "code",
   "execution_count": 13,
   "id": "4789ab4b",
   "metadata": {},
   "outputs": [
    {
     "name": "stdout",
     "output_type": "stream",
     "text": [
      "The model has a 96.68% accuracy.\n",
      "alpha = 4967.663555760169\n",
      "betas = [ 1.43312547 -0.44439364]\n"
     ]
    }
   ],
   "source": [
    "# Computing the accuracy of our model\n",
    "R_squared_score =model.score(X[t:],y[t:])*100\n",
    "accuracy = (\"{0:.2f}\".format(R_squared_score))\n",
    "print (\"The model has a \" + accuracy + \"% accuracy.\")\n",
    "print(f'alpha = {model.intercept_}')\n",
    "print(f'betas = {model.coef_}')"
   ]
  },
  {
   "cell_type": "code",
   "execution_count": 14,
   "id": "5a6483a3",
   "metadata": {},
   "outputs": [
    {
     "data": {
      "application/vnd.microsoft.datawrangler.viewer.v0+json": {
       "columns": [
        {
         "name": "index",
         "rawType": "int64",
         "type": "integer"
        },
        {
         "name": "date",
         "rawType": "object",
         "type": "string"
        },
        {
         "name": "month",
         "rawType": "float64",
         "type": "float"
        },
        {
         "name": "year",
         "rawType": "float64",
         "type": "float"
        },
        {
         "name": "floor_area_sqm",
         "rawType": "float64",
         "type": "float"
        },
        {
         "name": "lease_year",
         "rawType": "float64",
         "type": "float"
        },
        {
         "name": "years_leased",
         "rawType": "float64",
         "type": "float"
        },
        {
         "name": "resale_price",
         "rawType": "float64",
         "type": "float"
        },
        {
         "name": "infl_adj_price",
         "rawType": "float64",
         "type": "float"
        }
       ],
       "ref": "1474fd3e-2c89-4fe7-8a5c-5a31183d66dc",
       "rows": [
        [
         "0",
         "1990-01-01",
         "1.0",
         "1990.0",
         "82.48208360982083",
         "1978.943596549436",
         "11.056403450564034",
         "65214.12076974121",
         "106867.79522229596"
        ],
        [
         "1",
         "1990-02-01",
         "2.0",
         "1990.0",
         "84.07561761546724",
         "1979.7067669172932",
         "10.293233082706767",
         "67871.05263157895",
         "111221.76552094522"
        ],
        [
         "2",
         "1990-03-01",
         "3.0",
         "1990.0",
         "83.76165217391303",
         "1979.5034782608695",
         "10.496521739130435",
         "66603.43391304348",
         "109144.49130434783"
        ],
        [
         "3",
         "1990-04-01",
         "4.0",
         "1990.0",
         "82.9051575931232",
         "1979.3648519579751",
         "10.635148042024833",
         "65930.15281757402",
         "108041.17239732569"
        ],
        [
         "4",
         "1990-05-01",
         "5.0",
         "1990.0",
         "83.20115681233933",
         "1979.3033419023136",
         "10.696658097686376",
         "67837.12853470437",
         "111166.17403598972"
        ],
        [
         "5",
         "1990-06-01",
         "6.0",
         "1990.0",
         "82.7510922330097",
         "1979.3349514563106",
         "10.66504854368932",
         "66789.56310679612",
         "109449.50606796116"
        ],
        [
         "6",
         "1990-07-01",
         "7.0",
         "1990.0",
         "83.7888256227758",
         "1979.3601423487544",
         "10.639857651245551",
         "68974.89822064056",
         "113030.66120996441"
        ],
        [
         "7",
         "1990-08-01",
         "8.0",
         "1990.0",
         "83.96382189239333",
         "1979.4879406307978",
         "10.512059369202227",
         "68606.35435992578",
         "112426.7206864564"
        ],
        [
         "8",
         "1990-09-01",
         "9.0",
         "1990.0",
         "84.75491329479769",
         "1979.7017341040462",
         "10.298265895953758",
         "69951.49132947977",
         "114631.0247398844"
        ],
        [
         "9",
         "1990-10-01",
         "10.0",
         "1990.0",
         "86.15320987654322",
         "1980.1333333333334",
         "9.866666666666667",
         "72370.51851851853",
         "118595.13864197531"
        ],
        [
         "10",
         "1990-11-01",
         "11.0",
         "1990.0",
         "84.06954128440367",
         "1979.7192660550459",
         "10.280733944954129",
         "69191.45504587155",
         "113385.53724770642"
        ],
        [
         "11",
         "1990-12-01",
         "12.0",
         "1990.0",
         "84.19362745098039",
         "1979.8343137254901",
         "10.165686274509804",
         "69708.47647058824",
         "114232.79372549019"
        ],
        [
         "12",
         "1991-01-01",
         "1.0",
         "1991.0",
         "86.39193934557063",
         "1980.1292897047088",
         "10.870710295291302",
         "72881.85714285714",
         "116910.82250598563"
        ],
        [
         "13",
         "1991-02-01",
         "2.0",
         "1991.0",
         "84.06164215686275",
         "1980.0306372549019",
         "10.969362745098039",
         "69446.88725490196",
         "111400.73737745099"
        ],
        [
         "14",
         "1991-03-01",
         "3.0",
         "1991.0",
         "85.6923887587822",
         "1980.4098360655737",
         "10.59016393442623",
         "72264.59016393442",
         "115920.65444964872"
        ],
        [
         "15",
         "1991-04-01",
         "4.0",
         "1991.0",
         "82.89760869565218",
         "1979.9369565217391",
         "11.06304347826087",
         "67542.825",
         "108346.40467391304"
        ],
        [
         "16",
         "1991-05-01",
         "5.0",
         "1991.0",
         "87.97534391534391",
         "1980.6296296296296",
         "10.37037037037037",
         "75928.27513227513",
         "121797.62306878307"
        ],
        [
         "17",
         "1991-06-01",
         "6.0",
         "1991.0",
         "87.2738038277512",
         "1980.5203349282297",
         "10.479665071770334",
         "75216.86602870813",
         "120656.44210526315"
        ],
        [
         "18",
         "1991-07-01",
         "7.0",
         "1991.0",
         "86.89478748997594",
         "1980.4354450681635",
         "10.564554931836408",
         "76148.8275862069",
         "122151.41371291099"
        ],
        [
         "19",
         "1991-08-01",
         "8.0",
         "1991.0",
         "86.10085984522786",
         "1980.4161650902838",
         "10.58383490971625",
         "74919.4135855546",
         "120179.29484092863"
        ],
        [
         "20",
         "1991-09-01",
         "9.0",
         "1991.0",
         "87.3516583747927",
         "1980.6592039800994",
         "10.340796019900498",
         "77127.62023217247",
         "123721.50928689883"
        ],
        [
         "21",
         "1991-10-01",
         "10.0",
         "1991.0",
         "86.78748943364329",
         "1980.5866441251057",
         "10.413355874894336",
         "77559.98985629754",
         "124415.07954353339"
        ],
        [
         "22",
         "1991-11-01",
         "11.0",
         "1991.0",
         "84.589001447178",
         "1980.7872648335745",
         "10.212735166425471",
         "72719.91316931983",
         "116651.04356005788"
        ],
        [
         "23",
         "1991-12-01",
         "12.0",
         "1991.0",
         "82.61685714285714",
         "1980.3971428571429",
         "10.602857142857143",
         "68716.3238095238",
         "110228.83104761904"
        ],
        [
         "24",
         "1992-01-01",
         "1.0",
         "1992.0",
         "85.39184692179701",
         "1980.7179700499169",
         "11.282029950083194",
         "73872.47920133111",
         "115969.24176372711"
        ],
        [
         "25",
         "1992-02-01",
         "2.0",
         "1992.0",
         "86.30670859538785",
         "1980.8259958071278",
         "11.174004192872117",
         "76253.74004192872",
         "119707.4818658281"
        ],
        [
         "26",
         "1992-03-01",
         "3.0",
         "1992.0",
         "88.41536388140162",
         "1980.8553459119496",
         "11.144654088050315",
         "81575.2111410602",
         "128061.42973944296"
        ],
        [
         "27",
         "1992-04-01",
         "4.0",
         "1992.0",
         "88.33364573570759",
         "1980.8856607310215",
         "11.114339268978444",
         "81843.28022492971",
         "128482.26035613872"
        ],
        [
         "28",
         "1992-05-01",
         "5.0",
         "1992.0",
         "89.42947368421054",
         "1981.2043859649123",
         "10.79561403508772",
         "85330.85087719298",
         "133957.24657894735"
        ],
        [
         "29",
         "1992-06-01",
         "6.0",
         "1992.0",
         "86.9936732766761",
         "1980.5826251180358",
         "11.417374881964117",
         "82029.59395656279",
         "128774.74589235127"
        ],
        [
         "30",
         "1992-07-01",
         "7.0",
         "1992.0",
         "88.44126738794436",
         "1980.9296754250386",
         "11.07032457496136",
         "86256.87789799072",
         "135410.97805255023"
        ],
        [
         "31",
         "1992-08-01",
         "8.0",
         "1992.0",
         "88.83492822966507",
         "1981.0063795853268",
         "10.993620414673046",
         "89953.46570972887",
         "141214.09202551836"
        ],
        [
         "32",
         "1992-09-01",
         "9.0",
         "1992.0",
         "86.81590257879657",
         "1980.6518624641833",
         "11.348137535816619",
         "85805.7005730659",
         "134702.69362464183"
        ],
        [
         "33",
         "1992-10-01",
         "10.0",
         "1992.0",
         "88.06577974870657",
         "1980.7974870657797",
         "11.202512934220252",
         "89096.00591278641",
         "139868.00413895046"
        ],
        [
         "34",
         "1992-11-01",
         "11.0",
         "1992.0",
         "87.18844476744187",
         "1981.108284883721",
         "10.89171511627907",
         "87611.75872093023",
         "137537.9471656977"
        ],
        [
         "35",
         "1992-12-01",
         "12.0",
         "1992.0",
         "87.51204633204634",
         "1980.8625482625482",
         "11.137451737451737",
         "88452.17606177606",
         "138857.28146718146"
        ],
        [
         "36",
         "1993-01-01",
         "1.0",
         "1993.0",
         "87.21234676007005",
         "1981.0043782837129",
         "11.995621716287216",
         "89434.76357267951",
         "138375.8285464098"
        ],
        [
         "37",
         "1993-02-01",
         "2.0",
         "1993.0",
         "86.98769771528998",
         "1980.9042179261862",
         "12.095782073813709",
         "88650.57996485062",
         "137162.51669595783"
        ],
        [
         "38",
         "1993-03-01",
         "3.0",
         "1993.0",
         "87.62165318957771",
         "1981.212938005391",
         "11.787061994609164",
         "92950.30548068284",
         "143815.16720575021"
        ],
        [
         "39",
         "1993-04-01",
         "4.0",
         "1993.0",
         "88.62464454976303",
         "1981.109952606635",
         "11.890047393364929",
         "95130.77725118483",
         "147188.85033175355"
        ],
        [
         "40",
         "1993-05-01",
         "5.0",
         "1993.0",
         "93.58859878154918",
         "1981.7763272410791",
         "11.2236727589208",
         "118128.88424717146",
         "182772.12915578764"
        ],
        [
         "41",
         "1993-06-01",
         "6.0",
         "1993.0",
         "93.92093213409649",
         "1981.8887980376123",
         "11.111201962387572",
         "127563.89942763696",
         "197370.23515944398"
        ],
        [
         "42",
         "1993-07-01",
         "7.0",
         "1993.0",
         "93.28623340321454",
         "1982.011180992313",
         "10.988819007686931",
         "136418.5814116003",
         "211070.43095737245"
        ],
        [
         "43",
         "1993-08-01",
         "8.0",
         "1993.0",
         "92.30033602150537",
         "1981.8602150537633",
         "11.13978494623656",
         "142140.57325268816",
         "219923.6488575269"
        ],
        [
         "44",
         "1993-09-01",
         "9.0",
         "1993.0",
         "93.05011494252874",
         "1982.2132183908045",
         "10.786781609195403",
         "149617.5948275862",
         "231492.29431034485"
        ],
        [
         "45",
         "1993-10-01",
         "10.0",
         "1993.0",
         "90.88678003291278",
         "1981.6275370268788",
         "11.372462973121229",
         "154672.243006034",
         "239312.97866154692"
        ],
        [
         "46",
         "1993-11-01",
         "11.0",
         "1993.0",
         "91.0756927949327",
         "1981.8309580364212",
         "11.169041963578781",
         "156532.25574030087",
         "242190.84057798889"
        ],
        [
         "47",
         "1993-12-01",
         "12.0",
         "1993.0",
         "91.43640734265735",
         "1981.9427447552448",
         "11.057255244755245",
         "158630.08697552446",
         "245436.65922202796"
        ],
        [
         "48",
         "1994-01-01",
         "1.0",
         "1994.0",
         "90.00860134629768",
         "1981.913612565445",
         "12.086387434554974",
         "155568.70269259537",
         "237138.56858638744"
        ],
        [
         "49",
         "1994-02-01",
         "2.0",
         "1994.0",
         "91.44631163708087",
         "1982.2323471400393",
         "11.767652859960553",
         "161327.32071005917",
         "245916.62157790927"
        ]
       ],
       "shape": {
        "columns": 8,
        "rows": 419
       }
      },
      "text/html": [
       "<div>\n",
       "<style scoped>\n",
       "    .dataframe tbody tr th:only-of-type {\n",
       "        vertical-align: middle;\n",
       "    }\n",
       "\n",
       "    .dataframe tbody tr th {\n",
       "        vertical-align: top;\n",
       "    }\n",
       "\n",
       "    .dataframe thead th {\n",
       "        text-align: right;\n",
       "    }\n",
       "</style>\n",
       "<table border=\"1\" class=\"dataframe\">\n",
       "  <thead>\n",
       "    <tr style=\"text-align: right;\">\n",
       "      <th></th>\n",
       "      <th>date</th>\n",
       "      <th>month</th>\n",
       "      <th>year</th>\n",
       "      <th>floor_area_sqm</th>\n",
       "      <th>lease_year</th>\n",
       "      <th>years_leased</th>\n",
       "      <th>resale_price</th>\n",
       "      <th>infl_adj_price</th>\n",
       "    </tr>\n",
       "  </thead>\n",
       "  <tbody>\n",
       "    <tr>\n",
       "      <th>0</th>\n",
       "      <td>1990-01-01</td>\n",
       "      <td>1.0</td>\n",
       "      <td>1990.0</td>\n",
       "      <td>82.482084</td>\n",
       "      <td>1978.943597</td>\n",
       "      <td>11.056403</td>\n",
       "      <td>65214.120770</td>\n",
       "      <td>106867.795222</td>\n",
       "    </tr>\n",
       "    <tr>\n",
       "      <th>1</th>\n",
       "      <td>1990-02-01</td>\n",
       "      <td>2.0</td>\n",
       "      <td>1990.0</td>\n",
       "      <td>84.075618</td>\n",
       "      <td>1979.706767</td>\n",
       "      <td>10.293233</td>\n",
       "      <td>67871.052632</td>\n",
       "      <td>111221.765521</td>\n",
       "    </tr>\n",
       "    <tr>\n",
       "      <th>2</th>\n",
       "      <td>1990-03-01</td>\n",
       "      <td>3.0</td>\n",
       "      <td>1990.0</td>\n",
       "      <td>83.761652</td>\n",
       "      <td>1979.503478</td>\n",
       "      <td>10.496522</td>\n",
       "      <td>66603.433913</td>\n",
       "      <td>109144.491304</td>\n",
       "    </tr>\n",
       "    <tr>\n",
       "      <th>3</th>\n",
       "      <td>1990-04-01</td>\n",
       "      <td>4.0</td>\n",
       "      <td>1990.0</td>\n",
       "      <td>82.905158</td>\n",
       "      <td>1979.364852</td>\n",
       "      <td>10.635148</td>\n",
       "      <td>65930.152818</td>\n",
       "      <td>108041.172397</td>\n",
       "    </tr>\n",
       "    <tr>\n",
       "      <th>4</th>\n",
       "      <td>1990-05-01</td>\n",
       "      <td>5.0</td>\n",
       "      <td>1990.0</td>\n",
       "      <td>83.201157</td>\n",
       "      <td>1979.303342</td>\n",
       "      <td>10.696658</td>\n",
       "      <td>67837.128535</td>\n",
       "      <td>111166.174036</td>\n",
       "    </tr>\n",
       "    <tr>\n",
       "      <th>...</th>\n",
       "      <td>...</td>\n",
       "      <td>...</td>\n",
       "      <td>...</td>\n",
       "      <td>...</td>\n",
       "      <td>...</td>\n",
       "      <td>...</td>\n",
       "      <td>...</td>\n",
       "      <td>...</td>\n",
       "    </tr>\n",
       "    <tr>\n",
       "      <th>414</th>\n",
       "      <td>2024-07-01</td>\n",
       "      <td>7.0</td>\n",
       "      <td>2024.0</td>\n",
       "      <td>94.839625</td>\n",
       "      <td>1998.595850</td>\n",
       "      <td>25.404150</td>\n",
       "      <td>616816.872161</td>\n",
       "      <td>616816.872167</td>\n",
       "    </tr>\n",
       "    <tr>\n",
       "      <th>415</th>\n",
       "      <td>2024-08-01</td>\n",
       "      <td>8.0</td>\n",
       "      <td>2024.0</td>\n",
       "      <td>95.865355</td>\n",
       "      <td>1997.860340</td>\n",
       "      <td>26.139660</td>\n",
       "      <td>621291.916628</td>\n",
       "      <td>621291.916628</td>\n",
       "    </tr>\n",
       "    <tr>\n",
       "      <th>416</th>\n",
       "      <td>2024-09-01</td>\n",
       "      <td>9.0</td>\n",
       "      <td>2024.0</td>\n",
       "      <td>95.326371</td>\n",
       "      <td>1998.102401</td>\n",
       "      <td>25.897599</td>\n",
       "      <td>629171.304486</td>\n",
       "      <td>629171.304486</td>\n",
       "    </tr>\n",
       "    <tr>\n",
       "      <th>417</th>\n",
       "      <td>2024-10-01</td>\n",
       "      <td>10.0</td>\n",
       "      <td>2024.0</td>\n",
       "      <td>94.906422</td>\n",
       "      <td>1998.075849</td>\n",
       "      <td>25.924151</td>\n",
       "      <td>628665.175840</td>\n",
       "      <td>628665.175849</td>\n",
       "    </tr>\n",
       "    <tr>\n",
       "      <th>418</th>\n",
       "      <td>2024-11-01</td>\n",
       "      <td>11.0</td>\n",
       "      <td>2024.0</td>\n",
       "      <td>96.114242</td>\n",
       "      <td>1998.218509</td>\n",
       "      <td>25.781491</td>\n",
       "      <td>634516.614848</td>\n",
       "      <td>634516.614859</td>\n",
       "    </tr>\n",
       "  </tbody>\n",
       "</table>\n",
       "<p>419 rows × 8 columns</p>\n",
       "</div>"
      ],
      "text/plain": [
       "           date  month    year  floor_area_sqm   lease_year  years_leased  \\\n",
       "0    1990-01-01    1.0  1990.0       82.482084  1978.943597     11.056403   \n",
       "1    1990-02-01    2.0  1990.0       84.075618  1979.706767     10.293233   \n",
       "2    1990-03-01    3.0  1990.0       83.761652  1979.503478     10.496522   \n",
       "3    1990-04-01    4.0  1990.0       82.905158  1979.364852     10.635148   \n",
       "4    1990-05-01    5.0  1990.0       83.201157  1979.303342     10.696658   \n",
       "..          ...    ...     ...             ...          ...           ...   \n",
       "414  2024-07-01    7.0  2024.0       94.839625  1998.595850     25.404150   \n",
       "415  2024-08-01    8.0  2024.0       95.865355  1997.860340     26.139660   \n",
       "416  2024-09-01    9.0  2024.0       95.326371  1998.102401     25.897599   \n",
       "417  2024-10-01   10.0  2024.0       94.906422  1998.075849     25.924151   \n",
       "418  2024-11-01   11.0  2024.0       96.114242  1998.218509     25.781491   \n",
       "\n",
       "      resale_price  infl_adj_price  \n",
       "0     65214.120770   106867.795222  \n",
       "1     67871.052632   111221.765521  \n",
       "2     66603.433913   109144.491304  \n",
       "3     65930.152818   108041.172397  \n",
       "4     67837.128535   111166.174036  \n",
       "..             ...             ...  \n",
       "414  616816.872161   616816.872167  \n",
       "415  621291.916628   621291.916628  \n",
       "416  629171.304486   629171.304486  \n",
       "417  628665.175840   628665.175849  \n",
       "418  634516.614848   634516.614859  \n",
       "\n",
       "[419 rows x 8 columns]"
      ]
     },
     "execution_count": 14,
     "metadata": {},
     "output_type": "execute_result"
    }
   ],
   "source": [
    "df.groupby(['date']).mean('infl_adj_price').reset_index()"
   ]
  }
 ],
 "metadata": {
  "kernelspec": {
   "display_name": "vanilla",
   "language": "python",
   "name": "python3"
  },
  "language_info": {
   "codemirror_mode": {
    "name": "ipython",
    "version": 3
   },
   "file_extension": ".py",
   "mimetype": "text/x-python",
   "name": "python",
   "nbconvert_exporter": "python",
   "pygments_lexer": "ipython3",
   "version": "3.12.2"
  }
 },
 "nbformat": 4,
 "nbformat_minor": 5
}
